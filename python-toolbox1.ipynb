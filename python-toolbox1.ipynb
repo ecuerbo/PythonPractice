{
 "cells": [
  {
   "cell_type": "code",
   "execution_count": 3,
   "id": "8e0371cd",
   "metadata": {},
   "outputs": [
    {
     "name": "stdout",
     "output_type": "stream",
     "text": [
      "16\n"
     ]
    }
   ],
   "source": [
    "def square():\n",
    "    new_value = 4 ** 2\n",
    "    print(new_value)\n",
    "\n",
    "square()"
   ]
  },
  {
   "cell_type": "code",
   "execution_count": 5,
   "id": "9a98f790",
   "metadata": {},
   "outputs": [
    {
     "name": "stdout",
     "output_type": "stream",
     "text": [
      "10000\n"
     ]
    }
   ],
   "source": [
    "def square(value):\n",
    "    new_value = value ** 2\n",
    "    print(new_value)\n",
    "    \n",
    "square(100)"
   ]
  },
  {
   "cell_type": "code",
   "execution_count": 13,
   "id": "4aea372e",
   "metadata": {},
   "outputs": [
    {
     "name": "stdout",
     "output_type": "stream",
     "text": [
      "1606938044258990275541962092341162602522202993782792835301376\n"
     ]
    }
   ],
   "source": [
    "def square(value, power):\n",
    "    new_value = value ** power\n",
    "    print(new_value)\n",
    "    \n",
    "square(4,100)"
   ]
  },
  {
   "cell_type": "code",
   "execution_count": 16,
   "id": "31b7a0a2",
   "metadata": {},
   "outputs": [
    {
     "name": "stdout",
     "output_type": "stream",
     "text": [
      "1\n"
     ]
    }
   ],
   "source": [
    "def raise_to_power(v1, v2):\n",
    "    new_value = v1 ** v2\n",
    "    return new_value\n",
    "\n",
    "result = raise_to_power(2,0)\n",
    "print(result)"
   ]
  },
  {
   "cell_type": "code",
   "execution_count": 18,
   "id": "31acb3be",
   "metadata": {},
   "outputs": [
    {
     "name": "stdout",
     "output_type": "stream",
     "text": [
      "6\n"
     ]
    }
   ],
   "source": [
    "even_nums = (2, 4,6)\n",
    "a, b, c = even_nums\n",
    "print(c)"
   ]
  },
  {
   "cell_type": "code",
   "execution_count": 19,
   "id": "bd39c1b5",
   "metadata": {},
   "outputs": [
    {
     "name": "stdout",
     "output_type": "stream",
     "text": [
      "4\n"
     ]
    }
   ],
   "source": [
    "print(even_nums[1])"
   ]
  },
  {
   "cell_type": "code",
   "execution_count": 20,
   "id": "45371279",
   "metadata": {},
   "outputs": [
    {
     "name": "stdout",
     "output_type": "stream",
     "text": [
      "4\n"
     ]
    }
   ],
   "source": [
    "second_num = even_nums[1]\n",
    "print(second_num)"
   ]
  },
  {
   "cell_type": "code",
   "execution_count": 23,
   "id": "f2bc96f2",
   "metadata": {},
   "outputs": [],
   "source": [
    "def raise_both(v1, v2):\n",
    "    new_value1 = v1 ** v2\n",
    "    new_value2 = v2 ** v1\n",
    "    \n",
    "    new_tuple = (new_value1, new_value2)\n",
    "    \n",
    "    return new_tuple"
   ]
  },
  {
   "cell_type": "code",
   "execution_count": 25,
   "id": "390de13a",
   "metadata": {},
   "outputs": [
    {
     "name": "stdout",
     "output_type": "stream",
     "text": [
      "(256, 64)\n"
     ]
    }
   ],
   "source": [
    "result = raise_both(2,8)\n",
    "print(result)"
   ]
  },
  {
   "cell_type": "code",
   "execution_count": null,
   "id": "0e377f4d",
   "metadata": {},
   "outputs": [],
   "source": []
  }
 ],
 "metadata": {
  "kernelspec": {
   "display_name": "Python 3 (ipykernel)",
   "language": "python",
   "name": "python3"
  },
  "language_info": {
   "codemirror_mode": {
    "name": "ipython",
    "version": 3
   },
   "file_extension": ".py",
   "mimetype": "text/x-python",
   "name": "python",
   "nbconvert_exporter": "python",
   "pygments_lexer": "ipython3",
   "version": "3.9.7"
  }
 },
 "nbformat": 4,
 "nbformat_minor": 5
}
