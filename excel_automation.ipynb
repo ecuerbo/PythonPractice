{
 "cells": [
  {
   "cell_type": "markdown",
   "id": "573c00fe",
   "metadata": {},
   "source": [
    "**EXCEL AUTOMATION WITH OPENPYXL IN PYTHON**"
   ]
  },
  {
   "cell_type": "code",
   "execution_count": 1,
   "id": "803084e7",
   "metadata": {},
   "outputs": [
    {
     "name": "stdout",
     "output_type": "stream",
     "text": [
      "Requirement already satisfied: openpyxl in /opt/anaconda3/lib/python3.9/site-packages (3.0.9)\n",
      "Requirement already satisfied: et-xmlfile in /opt/anaconda3/lib/python3.9/site-packages (from openpyxl) (1.1.0)\n",
      "Note: you may need to restart the kernel to use updated packages.\n"
     ]
    }
   ],
   "source": [
    "pip install openpyxl"
   ]
  },
  {
   "cell_type": "code",
   "execution_count": 2,
   "id": "f8b9562a",
   "metadata": {},
   "outputs": [],
   "source": [
    "from openpyxl import Workbook"
   ]
  },
  {
   "cell_type": "code",
   "execution_count": 3,
   "id": "64223f4d",
   "metadata": {},
   "outputs": [],
   "source": [
    "#create a new workbook\n",
    "wb = Workbook()"
   ]
  },
  {
   "cell_type": "code",
   "execution_count": 4,
   "id": "d62d643a",
   "metadata": {},
   "outputs": [],
   "source": [
    "#Gets the first active worksheet\n",
    "ws = wb.active"
   ]
  },
  {
   "cell_type": "code",
   "execution_count": 5,
   "id": "14cb4bf2",
   "metadata": {},
   "outputs": [],
   "source": [
    "#creating new worksheets by using the create_sheet method\n",
    "ws1 = wb.create_sheet(\"sheet1\", 0) # inserts at first position\n",
    "ws2 = wb.create_sheet(\"sheet2\") #inserts at the last position\n",
    "ws3 = wb.create_sheet(\"sheet3\",-1) #inserts at the penultimate position\n"
   ]
  },
  {
   "cell_type": "code",
   "execution_count": 6,
   "id": "9f48ab72",
   "metadata": {},
   "outputs": [],
   "source": [
    "#Renaming the sheet\n",
    "ws.title = \"Example\""
   ]
  },
  {
   "cell_type": "code",
   "execution_count": 7,
   "id": "fbba9e04",
   "metadata": {},
   "outputs": [],
   "source": [
    "#save the workbook\n",
    "wb.save(filename = 'example.xlsx')"
   ]
  },
  {
   "cell_type": "markdown",
   "id": "1a955342",
   "metadata": {},
   "source": [
    "**READING DATA FROM WORKBOOK**"
   ]
  },
  {
   "cell_type": "code",
   "execution_count": 9,
   "id": "deaa3e51",
   "metadata": {},
   "outputs": [],
   "source": [
    "#Loading a workbook\n",
    "import openpyxl as ox\n",
    "wb = ox.load_workbook(\"example.xlsx\")"
   ]
  },
  {
   "cell_type": "code",
   "execution_count": 10,
   "id": "ecf19aae",
   "metadata": {},
   "outputs": [
    {
     "data": {
      "text/plain": [
       "['sheet1', 'Example', 'sheet3', 'sheet2']"
      ]
     },
     "execution_count": 10,
     "metadata": {},
     "output_type": "execute_result"
    }
   ],
   "source": [
    "#getting the sheetnames\n",
    "wb.sheetnames"
   ]
  },
  {
   "cell_type": "code",
   "execution_count": 11,
   "id": "d41f8173",
   "metadata": {},
   "outputs": [],
   "source": [
    "sheet1 = wb[\"sheet2\"] #getting a particular sheet"
   ]
  },
  {
   "cell_type": "code",
   "execution_count": 12,
   "id": "9d8e98bd",
   "metadata": {},
   "outputs": [
    {
     "data": {
      "text/plain": [
       "'sheet2'"
      ]
     },
     "execution_count": 12,
     "metadata": {},
     "output_type": "execute_result"
    }
   ],
   "source": [
    "#getting the sheet title\n",
    "sheet1.title"
   ]
  },
  {
   "cell_type": "code",
   "execution_count": 13,
   "id": "1d39a9ca",
   "metadata": {},
   "outputs": [
    {
     "data": {
      "text/plain": [
       "<Worksheet \"sheet1\">"
      ]
     },
     "execution_count": 13,
     "metadata": {},
     "output_type": "execute_result"
    }
   ],
   "source": [
    "#gettting th eactive sheet\n",
    "wb.active"
   ]
  },
  {
   "cell_type": "code",
   "execution_count": 14,
   "id": "9c148ee8",
   "metadata": {},
   "outputs": [
    {
     "data": {
      "text/plain": [
       "<Cell 'sheet2'.A1>"
      ]
     },
     "execution_count": 14,
     "metadata": {},
     "output_type": "execute_result"
    }
   ],
   "source": [
    "#accessing cell and cell values\n",
    "#geta cell from the sheet\n",
    "sheet1[\"A1\"]"
   ]
  },
  {
   "cell_type": "code",
   "execution_count": 22,
   "id": "6e3fe2c3",
   "metadata": {},
   "outputs": [],
   "source": [
    "#GET THE CELL VALUE\n",
    "ws[\"A1\"].value"
   ]
  },
  {
   "cell_type": "code",
   "execution_count": 20,
   "id": "b146effb",
   "metadata": {},
   "outputs": [],
   "source": [
    "#accessing cell using row and column and assigning value"
   ]
  },
  {
   "cell_type": "code",
   "execution_count": 25,
   "id": "6cd9db1a",
   "metadata": {},
   "outputs": [
    {
     "data": {
      "text/plain": [
       "10"
      ]
     },
     "execution_count": 25,
     "metadata": {},
     "output_type": "execute_result"
    }
   ],
   "source": [
    "d = ws.cell(row = 4, column = 2, value = 10)\n",
    "d.value"
   ]
  },
  {
   "cell_type": "code",
   "execution_count": 35,
   "id": "440ac4f9",
   "metadata": {},
   "outputs": [
    {
     "name": "stdout",
     "output_type": "stream",
     "text": [
      "1 1 None\n",
      "1 2 None\n",
      "1 3 None\n",
      "1 4 None\n",
      "2 1 None\n",
      "2 2 None\n",
      "2 3 None\n",
      "2 4 None\n",
      "3 1 None\n",
      "3 2 None\n",
      "3 3 None\n",
      "3 4 None\n",
      "4 1 None\n",
      "4 2 10\n",
      "4 3 None\n",
      "4 4 None\n"
     ]
    }
   ],
   "source": [
    "#ITERATING THROUGH ROWS AND COLUMNS\n",
    "#looping through each row and column\n",
    "for x in range(1,5):\n",
    "    for y in range(1,5):\n",
    "        print(x,y, ws.cell(row = x, column = y)\n",
    "         .value)"
   ]
  },
  {
   "cell_type": "code",
   "execution_count": 36,
   "id": "775ab62e",
   "metadata": {},
   "outputs": [
    {
     "data": {
      "text/plain": [
       "4"
      ]
     },
     "execution_count": 36,
     "metadata": {},
     "output_type": "execute_result"
    }
   ],
   "source": [
    "#GETTING THE HIGHEST COLUMN NUMBER\n",
    "ws.max_column"
   ]
  },
  {
   "cell_type": "code",
   "execution_count": 37,
   "id": "af42353f",
   "metadata": {},
   "outputs": [
    {
     "data": {
      "text/plain": [
       "4"
      ]
     },
     "execution_count": 37,
     "metadata": {},
     "output_type": "execute_result"
    }
   ],
   "source": [
    "ws.max_row"
   ]
  },
  {
   "cell_type": "markdown",
   "id": "06fa0f74",
   "metadata": {},
   "source": [
    "There are two functions for iterating through rows and columns.\n",
    "\n",
    "Iter_rows() => returns the rows\n",
    "Iter_cols() => returns the columns {\n",
    "  min_row = 4, max_row = 5, min_col = 2, max_col = 5\n",
    "} => This can be used to set the boundaries\n",
    "for any iteration."
   ]
  },
  {
   "cell_type": "code",
   "execution_count": 34,
   "id": "0b28a79e",
   "metadata": {},
   "outputs": [
    {
     "name": "stdout",
     "output_type": "stream",
     "text": [
      "<Cell 'Example'.A2>\n",
      "<Cell 'Example'.B2>\n",
      "<Cell 'Example'.C2>\n",
      "<Cell 'Example'.A3>\n",
      "<Cell 'Example'.B3>\n",
      "<Cell 'Example'.C3>\n"
     ]
    }
   ],
   "source": [
    "#iterating rows\n",
    "for row in ws.iter_rows(min_row = 2, max_col = 3, max_row = 3):\n",
    "    for cell in row:\n",
    "        print(cell)\n"
   ]
  },
  {
   "cell_type": "markdown",
   "id": "6fa1d9af",
   "metadata": {},
   "source": [
    "To get all the rows of the worksheet we use the method worksheet.rows and to get all the columns of the worksheet we use the method worksheet.columns. Similarly, to iterate only through the values we use the method worksheet.values."
   ]
  },
  {
   "cell_type": "code",
   "execution_count": 38,
   "id": "cfeb25ab",
   "metadata": {},
   "outputs": [
    {
     "name": "stdout",
     "output_type": "stream",
     "text": [
      "None\n",
      "None\n",
      "None\n",
      "None\n",
      "None\n",
      "None\n",
      "None\n",
      "None\n",
      "None\n",
      "None\n",
      "None\n",
      "None\n",
      "None\n",
      "10\n",
      "None\n",
      "None\n"
     ]
    }
   ],
   "source": [
    "for row in ws.values:\n",
    "    for value in row:\n",
    "        print(value)"
   ]
  },
  {
   "cell_type": "markdown",
   "id": "4bea86a1",
   "metadata": {},
   "source": [
    "WRITING DATA TO AN EXCEL FILE"
   ]
  },
  {
   "cell_type": "markdown",
   "id": "3290e0b1",
   "metadata": {},
   "source": [
    "Writing to a workbook can be done in many ways such as adding a formula, adding charts, images, updating cell values, inserting rows and columns, etc… We will discuss each of these with an example."
   ]
  },
  {
   "cell_type": "code",
   "execution_count": 39,
   "id": "523b8ad2",
   "metadata": {},
   "outputs": [],
   "source": [
    "#creating and saving a new workbook\n",
    "wb = ox.Workbook()"
   ]
  },
  {
   "cell_type": "code",
   "execution_count": 40,
   "id": "02ab07a6",
   "metadata": {},
   "outputs": [],
   "source": [
    "#saving the workbook\n",
    "wb.save(\"new.xlsx\")"
   ]
  },
  {
   "cell_type": "code",
   "execution_count": 41,
   "id": "242cd74c",
   "metadata": {},
   "outputs": [],
   "source": [
    "#creating a sheet\n",
    "ws1 = wb.create_sheet(title=\"sheet 2\")"
   ]
  },
  {
   "cell_type": "code",
   "execution_count": 42,
   "id": "5e45ef6a",
   "metadata": {},
   "outputs": [],
   "source": [
    "#creating a new sheet at index 0\n",
    "ws2 = wb.create_sheet(index=0, title =\"sheet 0\")"
   ]
  },
  {
   "cell_type": "code",
   "execution_count": 43,
   "id": "0cc408bc",
   "metadata": {},
   "outputs": [
    {
     "ename": "TypeError",
     "evalue": "list indices must be integers or slices, not tuple",
     "output_type": "error",
     "traceback": [
      "\u001b[0;31m---------------------------------------------------------------------------\u001b[0m",
      "\u001b[0;31mTypeError\u001b[0m                                 Traceback (most recent call last)",
      "\u001b[0;32m/var/folders/g6/qw3t2lbx7x91r1mfyp6k77k00000gn/T/ipykernel_1084/3843644400.py\u001b[0m in \u001b[0;36m<module>\u001b[0;34m\u001b[0m\n\u001b[1;32m      1\u001b[0m \u001b[0;31m#checking the sheet names\u001b[0m\u001b[0;34m\u001b[0m\u001b[0;34m\u001b[0m\u001b[0m\n\u001b[0;32m----> 2\u001b[0;31m \u001b[0mwb\u001b[0m\u001b[0;34m.\u001b[0m\u001b[0msheetnames\u001b[0m\u001b[0;34m[\u001b[0m\u001b[0;34m'sheet 0'\u001b[0m\u001b[0;34m,\u001b[0m \u001b[0;34m'Sheet'\u001b[0m\u001b[0;34m,\u001b[0m \u001b[0;34m'sheet 2'\u001b[0m\u001b[0;34m]\u001b[0m\u001b[0;34m\u001b[0m\u001b[0;34m\u001b[0m\u001b[0m\n\u001b[0m",
      "\u001b[0;31mTypeError\u001b[0m: list indices must be integers or slices, not tuple"
     ]
    }
   ],
   "source": [
    "#checking the sheet names\n",
    "wb.sheetnames['sheet 0', 'Sheet', 'sheet 2']"
   ]
  },
  {
   "cell_type": "code",
   "execution_count": 44,
   "id": "516ae366",
   "metadata": {},
   "outputs": [],
   "source": [
    "#deleting a sheet\n",
    "del wb['sheet 0']"
   ]
  },
  {
   "cell_type": "code",
   "execution_count": 45,
   "id": "46fedd48",
   "metadata": {},
   "outputs": [
    {
     "ename": "TypeError",
     "evalue": "list indices must be integers or slices, not tuple",
     "output_type": "error",
     "traceback": [
      "\u001b[0;31m---------------------------------------------------------------------------\u001b[0m",
      "\u001b[0;31mTypeError\u001b[0m                                 Traceback (most recent call last)",
      "\u001b[0;32m/var/folders/g6/qw3t2lbx7x91r1mfyp6k77k00000gn/T/ipykernel_1084/277005563.py\u001b[0m in \u001b[0;36m<module>\u001b[0;34m\u001b[0m\n\u001b[1;32m      1\u001b[0m \u001b[0;31m#checking sheetnames\u001b[0m\u001b[0;34m\u001b[0m\u001b[0;34m\u001b[0m\u001b[0m\n\u001b[0;32m----> 2\u001b[0;31m \u001b[0mwb\u001b[0m\u001b[0;34m.\u001b[0m\u001b[0msheetnames\u001b[0m\u001b[0;34m[\u001b[0m\u001b[0;34m'Sheet'\u001b[0m\u001b[0;34m,\u001b[0m \u001b[0;34m'sheet 2'\u001b[0m\u001b[0;34m]\u001b[0m\u001b[0;34m\u001b[0m\u001b[0;34m\u001b[0m\u001b[0m\n\u001b[0m",
      "\u001b[0;31mTypeError\u001b[0m: list indices must be integers or slices, not tuple"
     ]
    }
   ],
   "source": [
    "#checking sheetnames\n",
    "wb.sheetnames['Sheet', 'sheet 2']"
   ]
  },
  {
   "cell_type": "markdown",
   "id": "19a9ae48",
   "metadata": {},
   "source": [
    "ADDING CELL VALUES"
   ]
  },
  {
   "cell_type": "code",
   "execution_count": 46,
   "id": "be498288",
   "metadata": {},
   "outputs": [],
   "source": [
    "#Checking the sheet value\n",
    "ws['B2'].value"
   ]
  },
  {
   "cell_type": "code",
   "execution_count": 47,
   "id": "146f5026",
   "metadata": {},
   "outputs": [],
   "source": [
    "#adding value to cell\n",
    "ws['B2'] = 367"
   ]
  },
  {
   "cell_type": "code",
   "execution_count": 48,
   "id": "c1977e0d",
   "metadata": {},
   "outputs": [
    {
     "data": {
      "text/plain": [
       "367"
      ]
     },
     "execution_count": 48,
     "metadata": {},
     "output_type": "execute_result"
    }
   ],
   "source": [
    "#Checking the sheet value\n",
    "ws['B2'].value"
   ]
  },
  {
   "cell_type": "markdown",
   "id": "a637b7d4",
   "metadata": {},
   "source": [
    "ADDING FORMULAS"
   ]
  },
  {
   "cell_type": "code",
   "execution_count": 51,
   "id": "5b7bdbf1",
   "metadata": {},
   "outputs": [],
   "source": [
    "import openpyxl\n",
    "from openpyxl import Workbook"
   ]
  },
  {
   "cell_type": "code",
   "execution_count": 59,
   "id": "39fc9c5e",
   "metadata": {},
   "outputs": [],
   "source": [
    "wb = openpyxl.load_workbook('new.xlsx')\n",
    "ws = wb['Sheet']"
   ]
  },
  {
   "cell_type": "code",
   "execution_count": 60,
   "id": "0f34d60d",
   "metadata": {},
   "outputs": [],
   "source": [
    "ws['A9'] = '=SUM(A2:A8)'"
   ]
  },
  {
   "cell_type": "code",
   "execution_count": 61,
   "id": "54fab8c7",
   "metadata": {},
   "outputs": [],
   "source": [
    "wb.save(\"new1.xlsx\")"
   ]
  },
  {
   "cell_type": "code",
   "execution_count": 62,
   "id": "eca7db92",
   "metadata": {},
   "outputs": [
    {
     "data": {
      "text/plain": [
       "'=SUM(A2:A8)'"
      ]
     },
     "execution_count": 62,
     "metadata": {},
     "output_type": "execute_result"
    }
   ],
   "source": [
    "ws['A9'].value"
   ]
  },
  {
   "cell_type": "markdown",
   "id": "e722fa8e",
   "metadata": {},
   "source": [
    "MERGE/UNMERGE CELLS"
   ]
  },
  {
   "cell_type": "code",
   "execution_count": 64,
   "id": "15534098",
   "metadata": {},
   "outputs": [],
   "source": [
    "#merge cells B2 to C9\n",
    "ws.merge_cells('B2:C9')\n",
    "ws['B2'] = 'Merged cells'"
   ]
  },
  {
   "cell_type": "code",
   "execution_count": 65,
   "id": "558b8b32",
   "metadata": {},
   "outputs": [],
   "source": [
    "#unmerge cells B2 to C9\n",
    "ws.unmerge_cells('B2:C9')"
   ]
  },
  {
   "cell_type": "markdown",
   "id": "bcb8c031",
   "metadata": {},
   "source": [
    "**INSERTING AN IMAGE**"
   ]
  },
  {
   "cell_type": "code",
   "execution_count": 66,
   "id": "c28216ae",
   "metadata": {},
   "outputs": [],
   "source": [
    "import openpyxl\n",
    "from openpyxl import Workbook\n",
    "from openpyxl.drawing.image import Image"
   ]
  },
  {
   "cell_type": "code",
   "execution_count": 68,
   "id": "3097b6db",
   "metadata": {
    "scrolled": true
   },
   "outputs": [],
   "source": [
    "wb = openpyxl.load_workbook('new1.xlsx')\n",
    "ws = wb['Sheet']\n",
    "#loading the image should be in the same folder\n",
    "img = Image('logo.png')\n",
    "ws['A1'] = 'Adding image'"
   ]
  },
  {
   "cell_type": "code",
   "execution_count": 69,
   "id": "6fb4525f",
   "metadata": {},
   "outputs": [],
   "source": [
    "#adjusting the size\n",
    "img.height = 130\n",
    "img.width = 200"
   ]
  },
  {
   "cell_type": "code",
   "execution_count": 70,
   "id": "d1af9679",
   "metadata": {},
   "outputs": [],
   "source": [
    "#adding img to cell A3\n",
    "ws.add_image(img,'A3')\n",
    "wb.save(\"new2.xlsx\")"
   ]
  },
  {
   "cell_type": "markdown",
   "id": "cdf97b98",
   "metadata": {},
   "source": [
    "**CREATING CHARTS**"
   ]
  },
  {
   "cell_type": "code",
   "execution_count": 72,
   "id": "ad28597e",
   "metadata": {},
   "outputs": [],
   "source": [
    "import openpyxl\n",
    "from openpyxl import Workbook\n",
    "from openpyxl.chart import BarChart3D, Reference, series"
   ]
  },
  {
   "cell_type": "code",
   "execution_count": 73,
   "id": "f6f8aff3",
   "metadata": {},
   "outputs": [],
   "source": [
    "wb = openpyxl.load_workbook(\"example.xlsx\")\n",
    "ws = wb.active"
   ]
  },
  {
   "cell_type": "code",
   "execution_count": 74,
   "id": "d34f09e2",
   "metadata": {},
   "outputs": [],
   "source": [
    "values = Reference(ws, min_col = 3,\n",
    "                  min_row = 2,\n",
    "                  max_col = 3,\n",
    "                  max_row = 40)\n",
    "chart = BarChart3D()\n",
    "chart.add_data(values)\n",
    "ws.add_chart(chart,\"E3\")\n",
    "wb.save(\"MyChart.xlsx\")"
   ]
  },
  {
   "cell_type": "code",
   "execution_count": null,
   "id": "8949c7db",
   "metadata": {},
   "outputs": [],
   "source": []
  }
 ],
 "metadata": {
  "kernelspec": {
   "display_name": "Python 3 (ipykernel)",
   "language": "python",
   "name": "python3"
  },
  "language_info": {
   "codemirror_mode": {
    "name": "ipython",
    "version": 3
   },
   "file_extension": ".py",
   "mimetype": "text/x-python",
   "name": "python",
   "nbconvert_exporter": "python",
   "pygments_lexer": "ipython3",
   "version": "3.9.7"
  }
 },
 "nbformat": 4,
 "nbformat_minor": 5
}
