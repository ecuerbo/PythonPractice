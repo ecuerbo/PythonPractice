{
 "cells": [
  {
   "cell_type": "code",
   "execution_count": 4,
   "id": "63cfa127",
   "metadata": {},
   "outputs": [],
   "source": [
    "import pandas as pd\n",
    "coffee = pd.read_feather('https://assets.datacamp.com/production/repositories/5975/datasets/17ec88d6bf920ba7f159298d6acba118a907dacf/coffee_ratings_full.feather')\n",
    "spotify = pd.read_feather('https://assets.datacamp.com/production/repositories/5975/datasets/18d07c39535b900b64dc145985d9e8dfbf2ca498/spotify_2000_2020.feather')\n",
    "attrition = pd.read_feather('https://assets.datacamp.com/production/repositories/5975/datasets/3ca1b1a6e25d960f872dcee7cde666d57680bae0/attrition.feather')"
   ]
  },
  {
   "cell_type": "code",
   "execution_count": 7,
   "id": "6d08f469",
   "metadata": {},
   "outputs": [],
   "source": [
    "cup = coffee[['total_cup_points','flavor']]"
   ]
  },
  {
   "cell_type": "code",
   "execution_count": 8,
   "id": "7701c8ce",
   "metadata": {},
   "outputs": [],
   "source": [
    "cup_samp =cup.sample(n=10)"
   ]
  },
  {
   "cell_type": "code",
   "execution_count": 10,
   "id": "fb39fcaa",
   "metadata": {},
   "outputs": [
    {
     "data": {
      "text/html": [
       "<div>\n",
       "<style scoped>\n",
       "    .dataframe tbody tr th:only-of-type {\n",
       "        vertical-align: middle;\n",
       "    }\n",
       "\n",
       "    .dataframe tbody tr th {\n",
       "        vertical-align: top;\n",
       "    }\n",
       "\n",
       "    .dataframe thead th {\n",
       "        text-align: right;\n",
       "    }\n",
       "</style>\n",
       "<table border=\"1\" class=\"dataframe\">\n",
       "  <thead>\n",
       "    <tr style=\"text-align: right;\">\n",
       "      <th></th>\n",
       "      <th>total_cup_points</th>\n",
       "      <th>flavor</th>\n",
       "    </tr>\n",
       "  </thead>\n",
       "  <tbody>\n",
       "    <tr>\n",
       "      <th>562</th>\n",
       "      <td>82.83</td>\n",
       "      <td>7.67</td>\n",
       "    </tr>\n",
       "    <tr>\n",
       "      <th>1074</th>\n",
       "      <td>80.50</td>\n",
       "      <td>7.17</td>\n",
       "    </tr>\n",
       "    <tr>\n",
       "      <th>228</th>\n",
       "      <td>84.17</td>\n",
       "      <td>7.75</td>\n",
       "    </tr>\n",
       "    <tr>\n",
       "      <th>815</th>\n",
       "      <td>81.92</td>\n",
       "      <td>7.50</td>\n",
       "    </tr>\n",
       "    <tr>\n",
       "      <th>965</th>\n",
       "      <td>81.25</td>\n",
       "      <td>7.17</td>\n",
       "    </tr>\n",
       "  </tbody>\n",
       "</table>\n",
       "</div>"
      ],
      "text/plain": [
       "      total_cup_points  flavor\n",
       "562              82.83    7.67\n",
       "1074             80.50    7.17\n",
       "228              84.17    7.75\n",
       "815              81.92    7.50\n",
       "965              81.25    7.17"
      ]
     },
     "execution_count": 10,
     "metadata": {},
     "output_type": "execute_result"
    }
   ],
   "source": [
    "cup_samp.sample(n=5)"
   ]
  },
  {
   "cell_type": "code",
   "execution_count": 15,
   "id": "4b91e022",
   "metadata": {},
   "outputs": [],
   "source": [
    "coffee.to_csv('/Users/ecuerbo/python/pyprac/data/coffee.csv')\n",
    "spotify.to_csv('/Users/ecuerbo/python/pyprac/data/spotify.csv')\n",
    "attrition.to_csv('/Users/ecuerbo/python/pyprac/data/attrition.csv')"
   ]
  },
  {
   "cell_type": "code",
   "execution_count": null,
   "id": "4b2eb60d",
   "metadata": {},
   "outputs": [],
   "source": []
  }
 ],
 "metadata": {
  "kernelspec": {
   "display_name": "Python 3 (ipykernel)",
   "language": "python",
   "name": "python3"
  },
  "language_info": {
   "codemirror_mode": {
    "name": "ipython",
    "version": 3
   },
   "file_extension": ".py",
   "mimetype": "text/x-python",
   "name": "python",
   "nbconvert_exporter": "python",
   "pygments_lexer": "ipython3",
   "version": "3.9.7"
  }
 },
 "nbformat": 4,
 "nbformat_minor": 5
}
