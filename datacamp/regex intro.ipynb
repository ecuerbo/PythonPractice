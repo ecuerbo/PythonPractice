{
 "cells": [
  {
   "cell_type": "code",
   "execution_count": 1,
   "id": "4fd097d7",
   "metadata": {},
   "outputs": [],
   "source": [
    "import re"
   ]
  },
  {
   "cell_type": "code",
   "execution_count": 3,
   "id": "51d44d23",
   "metadata": {},
   "outputs": [
    {
     "data": {
      "text/plain": [
       "['regex']"
      ]
     },
     "execution_count": 3,
     "metadata": {},
     "output_type": "execute_result"
    }
   ],
   "source": [
    "string=\"intro to regex\"\n",
    "re.findall(r\"regex\",string)"
   ]
  },
  {
   "cell_type": "code",
   "execution_count": 5,
   "id": "b51c5b4e",
   "metadata": {},
   "outputs": [
    {
     "data": {
      "text/plain": [
       "['#movies', '#movies']"
      ]
     },
     "execution_count": 5,
     "metadata": {},
     "output_type": "execute_result"
    }
   ],
   "source": [
    "re.findall(r\"#movies\",\"I love to watch #movies in #movies house\")"
   ]
  },
  {
   "cell_type": "code",
   "execution_count": 6,
   "id": "23653f49",
   "metadata": {},
   "outputs": [
    {
     "data": {
      "text/plain": [
       "['Nice Place to eat', \" I'll come back\", ' Excellent meat', '']"
      ]
     },
     "execution_count": 6,
     "metadata": {},
     "output_type": "execute_result"
    }
   ],
   "source": [
    "re.split(r\"!\", \"Nice Place to eat! I'll come back! Excellent meat!\")"
   ]
  },
  {
   "cell_type": "code",
   "execution_count": 11,
   "id": "e86637e7",
   "metadata": {},
   "outputs": [],
   "source": [
    "string= \"Nice Place to eat! I'll come back! Excellent meat!\"\n",
    "string2 = re.sub(r\"e\", \"*\", string)"
   ]
  },
  {
   "cell_type": "code",
   "execution_count": 14,
   "id": "297a465e",
   "metadata": {},
   "outputs": [],
   "source": [
    "string3 = re.sub(r\"o\", \"0\", string2)"
   ]
  },
  {
   "cell_type": "code",
   "execution_count": 15,
   "id": "51783240",
   "metadata": {},
   "outputs": [
    {
     "data": {
      "text/plain": [
       "\"Nic* P7ac* t0 *at! I'77 c0m* back! Exc*77*nt m*at!\""
      ]
     },
     "execution_count": 15,
     "metadata": {},
     "output_type": "execute_result"
    }
   ],
   "source": [
    "re.sub(r\"l\", \"7\", string3)"
   ]
  },
  {
   "cell_type": "code",
   "execution_count": 16,
   "id": "38100d6f",
   "metadata": {},
   "outputs": [
    {
     "data": {
      "text/plain": [
       "['User9', 'User8']"
      ]
     },
     "execution_count": 16,
     "metadata": {},
     "output_type": "execute_result"
    }
   ],
   "source": [
    "winners = 'The winners are: User9,UserN, User8'\n",
    "re.findall(r\"User\\d\", winners)"
   ]
  },
  {
   "cell_type": "code",
   "execution_count": 17,
   "id": "2e77eec9",
   "metadata": {},
   "outputs": [
    {
     "data": {
      "text/plain": [
       "['UserN']"
      ]
     },
     "execution_count": 17,
     "metadata": {},
     "output_type": "execute_result"
    }
   ],
   "source": [
    "re.findall(r\"User\\D\", winners)"
   ]
  },
  {
   "cell_type": "code",
   "execution_count": 18,
   "id": "c7a87d4d",
   "metadata": {},
   "outputs": [
    {
     "data": {
      "text/plain": [
       "['User9', 'UserN', 'User8']"
      ]
     },
     "execution_count": 18,
     "metadata": {},
     "output_type": "execute_result"
    }
   ],
   "source": [
    "re.findall(r\"User\\w\", winners)"
   ]
  },
  {
   "cell_type": "code",
   "execution_count": 19,
   "id": "f6c890a1",
   "metadata": {},
   "outputs": [
    {
     "data": {
      "text/plain": [
       "['$5']"
      ]
     },
     "execution_count": 19,
     "metadata": {},
     "output_type": "execute_result"
    }
   ],
   "source": [
    "ban = \"This skirt is on sale, only $5 today!\"\n",
    "re.findall(r\"\\W\\d\", ban)"
   ]
  },
  {
   "cell_type": "code",
   "execution_count": 20,
   "id": "efc7bed0",
   "metadata": {},
   "outputs": [
    {
     "data": {
      "text/plain": [
       "['Data Science']"
      ]
     },
     "execution_count": 20,
     "metadata": {},
     "output_type": "execute_result"
    }
   ],
   "source": [
    "ds = \"I enjoy learning Data Science\"\n",
    "re.findall(r\"Data\\sScience\", ds)"
   ]
  },
  {
   "cell_type": "code",
   "execution_count": 21,
   "id": "94af9702",
   "metadata": {},
   "outputs": [
    {
     "data": {
      "text/plain": [
       "'I really like ice cream. I hope you like ice cream too'"
      ]
     },
     "execution_count": 21,
     "metadata": {},
     "output_type": "execute_result"
    }
   ],
   "source": [
    "ic = \"I really like ice-cream. I hope you like ice4cream too\"\n",
    "re.sub(r\"ice\\Scream\", \"ice cream\", ic)"
   ]
  },
  {
   "cell_type": "code",
   "execution_count": null,
   "id": "75d23ca0",
   "metadata": {},
   "outputs": [],
   "source": [
    "# Import the re module\n",
    "import re\n",
    "\n",
    "# Write the regex\n",
    "regex = r\"@robot\\d\\W\"\n",
    "\n",
    "# Find all matches of regex\n",
    "print(re.findall(regex, sentiment_analysis))"
   ]
  },
  {
   "cell_type": "code",
   "execution_count": null,
   "id": "396cc73d",
   "metadata": {},
   "outputs": [],
   "source": [
    "# Write a regex to obtain number of retweets\n",
    "print(re.findall(r\"number\\sof\\sretweets:\\s\\d\", sentiment_analysis))"
   ]
  },
  {
   "cell_type": "code",
   "execution_count": null,
   "id": "a92598fd",
   "metadata": {},
   "outputs": [],
   "source": [
    "# Write a regex to match pattern separating sentences\n",
    "regex_sentence = r\"\\W\\dbreak\\W\"\n",
    "\n",
    "# Replace the regex_sentence with a space\n",
    "sentiment_sub = re.sub(regex_sentence, \" \", sentiment_analysis)\n",
    "\n",
    "# Write a regex to match pattern separating words\n",
    "regex_words = r\"\\Wnew\\w\"\n",
    "\n",
    "# Replace the regex_words and print the result\n",
    "sentiment_final = re.sub(regex_words, \" \", sentiment_sub)\n",
    "print(sentiment_final)"
   ]
  },
  {
   "cell_type": "code",
   "execution_count": null,
   "id": "d755d91c",
   "metadata": {},
   "outputs": [],
   "source": [
    "\\d digit\n",
    "\\D non digit\n",
    "\\w word\n",
    "\\W non word\n",
    "\\s whitespace\n",
    "\\S non whitespace"
   ]
  }
 ],
 "metadata": {
  "kernelspec": {
   "display_name": "Python 3 (ipykernel)",
   "language": "python",
   "name": "python3"
  },
  "language_info": {
   "codemirror_mode": {
    "name": "ipython",
    "version": 3
   },
   "file_extension": ".py",
   "mimetype": "text/x-python",
   "name": "python",
   "nbconvert_exporter": "python",
   "pygments_lexer": "ipython3",
   "version": "3.9.7"
  }
 },
 "nbformat": 4,
 "nbformat_minor": 5
}
