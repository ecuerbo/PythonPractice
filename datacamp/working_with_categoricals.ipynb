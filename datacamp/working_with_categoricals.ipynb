{
 "cells": [
  {
   "cell_type": "code",
   "execution_count": 3,
   "id": "9c511261",
   "metadata": {},
   "outputs": [
    {
     "data": {
      "text/plain": [
       "'/Users/ecuerbo/python/pyprac/datacamp'"
      ]
     },
     "execution_count": 3,
     "metadata": {},
     "output_type": "execute_result"
    }
   ],
   "source": [
    "import os\n",
    "import pandas as pd\n",
    "os.getcwd()"
   ]
  },
  {
   "cell_type": "code",
   "execution_count": 4,
   "id": "99b8757f",
   "metadata": {},
   "outputs": [
    {
     "name": "stdout",
     "output_type": "stream",
     "text": [
      "<class 'pandas.core.frame.DataFrame'>\n",
      "RangeIndex: 32561 entries, 0 to 32560\n",
      "Data columns (total 15 columns):\n",
      " #   Column          Non-Null Count  Dtype \n",
      "---  ------          --------------  ----- \n",
      " 0   age             32561 non-null  int64 \n",
      " 1   workclass       32561 non-null  object\n",
      " 2   fnlwgt          32561 non-null  int64 \n",
      " 3   education       32561 non-null  object\n",
      " 4   education.num   32561 non-null  int64 \n",
      " 5   marital.status  32561 non-null  object\n",
      " 6   occupation      32561 non-null  object\n",
      " 7   relationship    32561 non-null  object\n",
      " 8   race            32561 non-null  object\n",
      " 9   sex             32561 non-null  object\n",
      " 10  capital.gain    32561 non-null  int64 \n",
      " 11  capital.loss    32561 non-null  int64 \n",
      " 12  hours.per.week  32561 non-null  int64 \n",
      " 13  native.country  32561 non-null  object\n",
      " 14  income          32561 non-null  object\n",
      "dtypes: int64(6), object(9)\n",
      "memory usage: 3.7+ MB\n"
     ]
    }
   ],
   "source": [
    "adult = pd.read_csv('/Users/ecuerbo/Desktop/data/adult.csv')\n",
    "adult.info()"
   ]
  },
  {
   "cell_type": "code",
   "execution_count": 6,
   "id": "ec059795",
   "metadata": {},
   "outputs": [
    {
     "data": {
      "text/plain": [
       "count                  32561\n",
       "unique                     7\n",
       "top       Married-civ-spouse\n",
       "freq                   14976\n",
       "Name: marital.status, dtype: object"
      ]
     },
     "execution_count": 6,
     "metadata": {},
     "output_type": "execute_result"
    }
   ],
   "source": [
    "#explore marital status\n",
    "adult[\"marital.status\"].describe()"
   ]
  },
  {
   "cell_type": "code",
   "execution_count": 7,
   "id": "ec2bb28e",
   "metadata": {},
   "outputs": [
    {
     "data": {
      "text/plain": [
       "Married-civ-spouse       14976\n",
       "Never-married            10683\n",
       "Divorced                  4443\n",
       "Separated                 1025\n",
       "Widowed                    993\n",
       "Married-spouse-absent      418\n",
       "Married-AF-spouse           23\n",
       "Name: marital.status, dtype: int64"
      ]
     },
     "execution_count": 7,
     "metadata": {},
     "output_type": "execute_result"
    }
   ],
   "source": [
    "adult[\"marital.status\"].value_counts()"
   ]
  },
  {
   "cell_type": "code",
   "execution_count": 8,
   "id": "4bfa9b6a",
   "metadata": {},
   "outputs": [
    {
     "data": {
      "text/plain": [
       "Married-civ-spouse       0.459937\n",
       "Never-married            0.328092\n",
       "Divorced                 0.136452\n",
       "Separated                0.031479\n",
       "Widowed                  0.030497\n",
       "Married-spouse-absent    0.012837\n",
       "Married-AF-spouse        0.000706\n",
       "Name: marital.status, dtype: float64"
      ]
     },
     "execution_count": 8,
     "metadata": {},
     "output_type": "execute_result"
    }
   ],
   "source": [
    "adult[\"marital.status\"].value_counts(normalize=True)"
   ]
  },
  {
   "cell_type": "code",
   "execution_count": 9,
   "id": "0de663a0",
   "metadata": {},
   "outputs": [
    {
     "data": {
      "text/plain": [
       "age                int64\n",
       "workclass         object\n",
       "fnlwgt             int64\n",
       "education         object\n",
       "education.num      int64\n",
       "marital.status    object\n",
       "occupation        object\n",
       "relationship      object\n",
       "race              object\n",
       "sex               object\n",
       "capital.gain       int64\n",
       "capital.loss       int64\n",
       "hours.per.week     int64\n",
       "native.country    object\n",
       "income            object\n",
       "dtype: object"
      ]
     },
     "execution_count": 9,
     "metadata": {},
     "output_type": "execute_result"
    }
   ],
   "source": [
    "adult.dtypes"
   ]
  },
  {
   "cell_type": "code",
   "execution_count": 11,
   "id": "306d8d37",
   "metadata": {},
   "outputs": [
    {
     "data": {
      "text/plain": [
       "dtype('O')"
      ]
     },
     "execution_count": 11,
     "metadata": {},
     "output_type": "execute_result"
    }
   ],
   "source": [
    "adult[\"marital.status\"].dtype"
   ]
  },
  {
   "cell_type": "code",
   "execution_count": 12,
   "id": "da073fbd",
   "metadata": {},
   "outputs": [
    {
     "data": {
      "text/plain": [
       "CategoricalDtype(categories=['Divorced', 'Married-AF-spouse', 'Married-civ-spouse',\n",
       "                  'Married-spouse-absent', 'Never-married', 'Separated',\n",
       "                  'Widowed'],\n",
       ", ordered=False)"
      ]
     },
     "execution_count": 12,
     "metadata": {},
     "output_type": "execute_result"
    }
   ],
   "source": [
    "adult[\"marital.status\"] = adult[\"marital.status\"].astype(\"category\")\n",
    "adult[\"marital.status\"].dtype"
   ]
  },
  {
   "cell_type": "code",
   "execution_count": 13,
   "id": "b609a937",
   "metadata": {},
   "outputs": [
    {
     "name": "stdout",
     "output_type": "stream",
     "text": [
      "0    A\n",
      "1    A\n",
      "2    C\n",
      "3    B\n",
      "4    C\n",
      "5    A\n",
      "dtype: category\n",
      "Categories (3, object): ['A', 'B', 'C']\n"
     ]
    }
   ],
   "source": [
    "#creating a categorical series\n",
    "my_data = [\"A\",\"A\",\"C\",\"B\",\"C\",'A']\n",
    "my_series1 = pd.Series(my_data, dtype=\"category\")\n",
    "print(my_series1)"
   ]
  },
  {
   "cell_type": "code",
   "execution_count": 15,
   "id": "582540b3",
   "metadata": {},
   "outputs": [
    {
     "data": {
      "text/plain": [
       "CategoricalDtype(categories=['A', 'B', 'C'], ordered=False)"
      ]
     },
     "execution_count": 15,
     "metadata": {},
     "output_type": "execute_result"
    }
   ],
   "source": [
    "my_series1.dtype"
   ]
  },
  {
   "cell_type": "code",
   "execution_count": 16,
   "id": "093e0ca8",
   "metadata": {},
   "outputs": [
    {
     "data": {
      "text/plain": [
       "['A', 'A', 'C', 'B', 'C', 'A']\n",
       "Categories (3, object): ['C' < 'B' < 'A']"
      ]
     },
     "execution_count": 16,
     "metadata": {},
     "output_type": "execute_result"
    }
   ],
   "source": [
    "#making ordered data\n",
    "my_series2 = pd.Categorical(my_data, categories=[\"C\",\"B\",\"A\"], ordered = True)\n",
    "my_series2"
   ]
  },
  {
   "cell_type": "code",
   "execution_count": 17,
   "id": "d0bb95c9",
   "metadata": {},
   "outputs": [
    {
     "data": {
      "text/plain": [
       "260488"
      ]
     },
     "execution_count": 17,
     "metadata": {},
     "output_type": "execute_result"
    }
   ],
   "source": [
    "adult = pd.read_csv('/Users/ecuerbo/Desktop/data/adult.csv')\n",
    "adult[\"marital.status\"].nbytes"
   ]
  },
  {
   "cell_type": "code",
   "execution_count": 18,
   "id": "258fdbb8",
   "metadata": {},
   "outputs": [
    {
     "data": {
      "text/plain": [
       "32617"
      ]
     },
     "execution_count": 18,
     "metadata": {},
     "output_type": "execute_result"
    }
   ],
   "source": [
    "#when saved as a categorical column\n",
    "adult[\"marital.status\"] = adult[\"marital.status\"].astype(\"category\")\n",
    "adult[\"marital.status\"].nbytes"
   ]
  },
  {
   "cell_type": "code",
   "execution_count": 20,
   "id": "d3176b72",
   "metadata": {},
   "outputs": [
    {
     "data": {
      "text/plain": [
       "CategoricalDtype(categories=['Divorced', 'Married-AF-spouse', 'Married-civ-spouse',\n",
       "                  'Married-spouse-absent', 'Never-married', 'Separated',\n",
       "                  'Widowed'],\n",
       ", ordered=False)"
      ]
     },
     "execution_count": 20,
     "metadata": {},
     "output_type": "execute_result"
    }
   ],
   "source": [
    "#specify dtypes when reading data\n",
    "#create a dictionary\n",
    "adult_dtypes = {\"marital.status\": \"category\"}\n",
    "#set the dtype parameter:\n",
    "adult = pd.read_csv('/Users/ecuerbo/Desktop/data/adult.csv', dtype=adult_dtypes)\n",
    "#check dtype\n",
    "adult[\"marital.status\"].dtype"
   ]
  },
  {
   "cell_type": "code",
   "execution_count": null,
   "id": "9893cb42",
   "metadata": {},
   "outputs": [],
   "source": []
  }
 ],
 "metadata": {
  "kernelspec": {
   "display_name": "Python 3 (ipykernel)",
   "language": "python",
   "name": "python3"
  },
  "language_info": {
   "codemirror_mode": {
    "name": "ipython",
    "version": 3
   },
   "file_extension": ".py",
   "mimetype": "text/x-python",
   "name": "python",
   "nbconvert_exporter": "python",
   "pygments_lexer": "ipython3",
   "version": "3.9.7"
  }
 },
 "nbformat": 4,
 "nbformat_minor": 5
}
