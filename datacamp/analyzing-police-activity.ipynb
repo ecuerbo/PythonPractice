{
 "cells": [
  {
   "cell_type": "code",
   "execution_count": 1,
   "id": "17de9e4f",
   "metadata": {},
   "outputs": [],
   "source": [
    "import pandas as pd\n",
    "#import os\n",
    "#os.getcwd()"
   ]
  },
  {
   "cell_type": "code",
   "execution_count": 2,
   "id": "496fd41d",
   "metadata": {},
   "outputs": [
    {
     "name": "stderr",
     "output_type": "stream",
     "text": [
      "/opt/anaconda3/lib/python3.9/site-packages/IPython/core/interactiveshell.py:3444: DtypeWarning: Columns (6,17,30) have mixed types.Specify dtype option on import or set low_memory=False.\n",
      "  exec(code_obj, self.user_global_ns, self.user_ns)\n"
     ]
    },
    {
     "data": {
      "text/html": [
       "<div>\n",
       "<style scoped>\n",
       "    .dataframe tbody tr th:only-of-type {\n",
       "        vertical-align: middle;\n",
       "    }\n",
       "\n",
       "    .dataframe tbody tr th {\n",
       "        vertical-align: top;\n",
       "    }\n",
       "\n",
       "    .dataframe thead th {\n",
       "        text-align: right;\n",
       "    }\n",
       "</style>\n",
       "<table border=\"1\" class=\"dataframe\">\n",
       "  <thead>\n",
       "    <tr style=\"text-align: right;\">\n",
       "      <th></th>\n",
       "      <th>raw_row_number</th>\n",
       "      <th>date</th>\n",
       "      <th>time</th>\n",
       "      <th>zone</th>\n",
       "      <th>subject_race</th>\n",
       "      <th>subject_sex</th>\n",
       "      <th>department_id</th>\n",
       "      <th>type</th>\n",
       "      <th>arrest_made</th>\n",
       "      <th>citation_issued</th>\n",
       "      <th>...</th>\n",
       "      <th>reason_for_stop</th>\n",
       "      <th>vehicle_make</th>\n",
       "      <th>vehicle_model</th>\n",
       "      <th>raw_BasisForStop</th>\n",
       "      <th>raw_OperatorRace</th>\n",
       "      <th>raw_OperatorSex</th>\n",
       "      <th>raw_ResultOfStop</th>\n",
       "      <th>raw_SearchResultOne</th>\n",
       "      <th>raw_SearchResultTwo</th>\n",
       "      <th>raw_SearchResultThree</th>\n",
       "    </tr>\n",
       "  </thead>\n",
       "  <tbody>\n",
       "    <tr>\n",
       "      <th>0</th>\n",
       "      <td>1</td>\n",
       "      <td>2005-11-22</td>\n",
       "      <td>11:15:00</td>\n",
       "      <td>X3</td>\n",
       "      <td>white</td>\n",
       "      <td>male</td>\n",
       "      <td>200</td>\n",
       "      <td>vehicular</td>\n",
       "      <td>False</td>\n",
       "      <td>True</td>\n",
       "      <td>...</td>\n",
       "      <td>Speeding</td>\n",
       "      <td>NaN</td>\n",
       "      <td>NaN</td>\n",
       "      <td>SP</td>\n",
       "      <td>W</td>\n",
       "      <td>M</td>\n",
       "      <td>M</td>\n",
       "      <td>NaN</td>\n",
       "      <td>NaN</td>\n",
       "      <td>NaN</td>\n",
       "    </tr>\n",
       "    <tr>\n",
       "      <th>1</th>\n",
       "      <td>2</td>\n",
       "      <td>2005-10-01</td>\n",
       "      <td>12:20:00</td>\n",
       "      <td>X3</td>\n",
       "      <td>white</td>\n",
       "      <td>male</td>\n",
       "      <td>200</td>\n",
       "      <td>vehicular</td>\n",
       "      <td>False</td>\n",
       "      <td>True</td>\n",
       "      <td>...</td>\n",
       "      <td>Speeding</td>\n",
       "      <td>NaN</td>\n",
       "      <td>NaN</td>\n",
       "      <td>SP</td>\n",
       "      <td>W</td>\n",
       "      <td>M</td>\n",
       "      <td>M</td>\n",
       "      <td>NaN</td>\n",
       "      <td>NaN</td>\n",
       "      <td>NaN</td>\n",
       "    </tr>\n",
       "    <tr>\n",
       "      <th>2</th>\n",
       "      <td>3</td>\n",
       "      <td>2005-10-01</td>\n",
       "      <td>12:30:00</td>\n",
       "      <td>X3</td>\n",
       "      <td>white</td>\n",
       "      <td>female</td>\n",
       "      <td>200</td>\n",
       "      <td>vehicular</td>\n",
       "      <td>False</td>\n",
       "      <td>True</td>\n",
       "      <td>...</td>\n",
       "      <td>Speeding</td>\n",
       "      <td>NaN</td>\n",
       "      <td>NaN</td>\n",
       "      <td>SP</td>\n",
       "      <td>W</td>\n",
       "      <td>F</td>\n",
       "      <td>M</td>\n",
       "      <td>NaN</td>\n",
       "      <td>NaN</td>\n",
       "      <td>NaN</td>\n",
       "    </tr>\n",
       "    <tr>\n",
       "      <th>3</th>\n",
       "      <td>4</td>\n",
       "      <td>2005-10-01</td>\n",
       "      <td>12:50:00</td>\n",
       "      <td>X3</td>\n",
       "      <td>white</td>\n",
       "      <td>male</td>\n",
       "      <td>200</td>\n",
       "      <td>vehicular</td>\n",
       "      <td>False</td>\n",
       "      <td>True</td>\n",
       "      <td>...</td>\n",
       "      <td>Speeding</td>\n",
       "      <td>NaN</td>\n",
       "      <td>NaN</td>\n",
       "      <td>SP</td>\n",
       "      <td>W</td>\n",
       "      <td>M</td>\n",
       "      <td>M</td>\n",
       "      <td>NaN</td>\n",
       "      <td>NaN</td>\n",
       "      <td>NaN</td>\n",
       "    </tr>\n",
       "    <tr>\n",
       "      <th>4</th>\n",
       "      <td>5</td>\n",
       "      <td>2005-10-01</td>\n",
       "      <td>13:10:00</td>\n",
       "      <td>X3</td>\n",
       "      <td>white</td>\n",
       "      <td>female</td>\n",
       "      <td>200</td>\n",
       "      <td>vehicular</td>\n",
       "      <td>False</td>\n",
       "      <td>True</td>\n",
       "      <td>...</td>\n",
       "      <td>Speeding</td>\n",
       "      <td>NaN</td>\n",
       "      <td>NaN</td>\n",
       "      <td>SP</td>\n",
       "      <td>W</td>\n",
       "      <td>F</td>\n",
       "      <td>M</td>\n",
       "      <td>NaN</td>\n",
       "      <td>NaN</td>\n",
       "      <td>NaN</td>\n",
       "    </tr>\n",
       "  </tbody>\n",
       "</table>\n",
       "<p>5 rows × 31 columns</p>\n",
       "</div>"
      ],
      "text/plain": [
       "   raw_row_number        date      time zone subject_race subject_sex  \\\n",
       "0               1  2005-11-22  11:15:00   X3        white        male   \n",
       "1               2  2005-10-01  12:20:00   X3        white        male   \n",
       "2               3  2005-10-01  12:30:00   X3        white      female   \n",
       "3               4  2005-10-01  12:50:00   X3        white        male   \n",
       "4               5  2005-10-01  13:10:00   X3        white      female   \n",
       "\n",
       "  department_id       type arrest_made citation_issued  ... reason_for_stop  \\\n",
       "0           200  vehicular       False            True  ...        Speeding   \n",
       "1           200  vehicular       False            True  ...        Speeding   \n",
       "2           200  vehicular       False            True  ...        Speeding   \n",
       "3           200  vehicular       False            True  ...        Speeding   \n",
       "4           200  vehicular       False            True  ...        Speeding   \n",
       "\n",
       "  vehicle_make vehicle_model raw_BasisForStop raw_OperatorRace  \\\n",
       "0          NaN           NaN               SP                W   \n",
       "1          NaN           NaN               SP                W   \n",
       "2          NaN           NaN               SP                W   \n",
       "3          NaN           NaN               SP                W   \n",
       "4          NaN           NaN               SP                W   \n",
       "\n",
       "  raw_OperatorSex raw_ResultOfStop raw_SearchResultOne  raw_SearchResultTwo  \\\n",
       "0               M                M                 NaN                  NaN   \n",
       "1               M                M                 NaN                  NaN   \n",
       "2               F                M                 NaN                  NaN   \n",
       "3               M                M                 NaN                  NaN   \n",
       "4               F                M                 NaN                  NaN   \n",
       "\n",
       "  raw_SearchResultThree  \n",
       "0                   NaN  \n",
       "1                   NaN  \n",
       "2                   NaN  \n",
       "3                   NaN  \n",
       "4                   NaN  \n",
       "\n",
       "[5 rows x 31 columns]"
      ]
     },
     "execution_count": 2,
     "metadata": {},
     "output_type": "execute_result"
    }
   ],
   "source": [
    "ri = pd.read_csv('/Users/ecuerbo/python/pyprac/data/ri.csv')\n",
    "ri.head()"
   ]
  },
  {
   "cell_type": "code",
   "execution_count": 3,
   "id": "a9f34d01",
   "metadata": {
    "scrolled": true
   },
   "outputs": [
    {
     "data": {
      "text/plain": [
       "raw_row_number                0\n",
       "date                         10\n",
       "time                         10\n",
       "zone                         10\n",
       "subject_race              29073\n",
       "subject_sex               29097\n",
       "department_id                10\n",
       "type                          0\n",
       "arrest_made               29073\n",
       "citation_issued           29073\n",
       "warning_issued            29073\n",
       "outcome                   35841\n",
       "contraband_found         491919\n",
       "contraband_drugs         493693\n",
       "contraband_weapons       497886\n",
       "contraband_alcohol       508464\n",
       "contraband_other         491919\n",
       "frisk_performed              10\n",
       "search_conducted              0\n",
       "search_basis             491919\n",
       "reason_for_search        491919\n",
       "reason_for_stop           29073\n",
       "vehicle_make             191564\n",
       "vehicle_model            279593\n",
       "raw_BasisForStop          29073\n",
       "raw_OperatorRace          29073\n",
       "raw_OperatorSex           29073\n",
       "raw_ResultOfStop          29073\n",
       "raw_SearchResultOne      491919\n",
       "raw_SearchResultTwo      508862\n",
       "raw_SearchResultThree    509513\n",
       "dtype: int64"
      ]
     },
     "execution_count": 3,
     "metadata": {},
     "output_type": "execute_result"
    }
   ],
   "source": [
    "ri.isnull().sum()"
   ]
  },
  {
   "cell_type": "code",
   "execution_count": 4,
   "id": "873c16ad",
   "metadata": {},
   "outputs": [
    {
     "data": {
      "text/html": [
       "<div>\n",
       "<style scoped>\n",
       "    .dataframe tbody tr th:only-of-type {\n",
       "        vertical-align: middle;\n",
       "    }\n",
       "\n",
       "    .dataframe tbody tr th {\n",
       "        vertical-align: top;\n",
       "    }\n",
       "\n",
       "    .dataframe thead th {\n",
       "        text-align: right;\n",
       "    }\n",
       "</style>\n",
       "<table border=\"1\" class=\"dataframe\">\n",
       "  <thead>\n",
       "    <tr style=\"text-align: right;\">\n",
       "      <th></th>\n",
       "      <th>raw_row_number</th>\n",
       "    </tr>\n",
       "  </thead>\n",
       "  <tbody>\n",
       "    <tr>\n",
       "      <th>count</th>\n",
       "      <td>509681.000000</td>\n",
       "    </tr>\n",
       "    <tr>\n",
       "      <th>mean</th>\n",
       "      <td>254841.000000</td>\n",
       "    </tr>\n",
       "    <tr>\n",
       "      <th>std</th>\n",
       "      <td>147132.375613</td>\n",
       "    </tr>\n",
       "    <tr>\n",
       "      <th>min</th>\n",
       "      <td>1.000000</td>\n",
       "    </tr>\n",
       "    <tr>\n",
       "      <th>25%</th>\n",
       "      <td>127421.000000</td>\n",
       "    </tr>\n",
       "    <tr>\n",
       "      <th>50%</th>\n",
       "      <td>254841.000000</td>\n",
       "    </tr>\n",
       "    <tr>\n",
       "      <th>75%</th>\n",
       "      <td>382261.000000</td>\n",
       "    </tr>\n",
       "    <tr>\n",
       "      <th>max</th>\n",
       "      <td>509681.000000</td>\n",
       "    </tr>\n",
       "  </tbody>\n",
       "</table>\n",
       "</div>"
      ],
      "text/plain": [
       "       raw_row_number\n",
       "count   509681.000000\n",
       "mean    254841.000000\n",
       "std     147132.375613\n",
       "min          1.000000\n",
       "25%     127421.000000\n",
       "50%     254841.000000\n",
       "75%     382261.000000\n",
       "max     509681.000000"
      ]
     },
     "execution_count": 4,
     "metadata": {},
     "output_type": "execute_result"
    }
   ],
   "source": [
    "ri.describe()"
   ]
  },
  {
   "cell_type": "code",
   "execution_count": 31,
   "id": "c91c326c",
   "metadata": {},
   "outputs": [
    {
     "data": {
      "text/plain": [
       "array([nan, 'W', 'D', 'A', 'O', 'M'], dtype=object)"
      ]
     },
     "execution_count": 31,
     "metadata": {},
     "output_type": "execute_result"
    }
   ],
   "source": [
    "ri['type'].unique()\n",
    "ri['raw_SearchResultTwo'].unique()"
   ]
  },
  {
   "cell_type": "code",
   "execution_count": 6,
   "id": "32adf63a",
   "metadata": {},
   "outputs": [],
   "source": [
    "#drop\n",
    "contraband = ri.dropna(subset=[\"contraband_found\"])"
   ]
  },
  {
   "cell_type": "code",
   "execution_count": 7,
   "id": "5518f348",
   "metadata": {},
   "outputs": [
    {
     "data": {
      "text/plain": [
       "raw_row_number               0\n",
       "date                         0\n",
       "time                         0\n",
       "zone                         0\n",
       "subject_race                 0\n",
       "subject_sex                  0\n",
       "department_id                0\n",
       "type                         0\n",
       "arrest_made                  0\n",
       "citation_issued              0\n",
       "warning_issued               0\n",
       "outcome                    431\n",
       "contraband_found             0\n",
       "contraband_drugs          1774\n",
       "contraband_weapons        5967\n",
       "contraband_alcohol       16545\n",
       "contraband_other             0\n",
       "frisk_performed              0\n",
       "search_conducted             0\n",
       "search_basis                 0\n",
       "reason_for_search            0\n",
       "reason_for_stop              0\n",
       "vehicle_make              5020\n",
       "vehicle_model             8571\n",
       "raw_BasisForStop             0\n",
       "raw_OperatorRace             0\n",
       "raw_OperatorSex              0\n",
       "raw_ResultOfStop             0\n",
       "raw_SearchResultOne          0\n",
       "raw_SearchResultTwo      16943\n",
       "raw_SearchResultThree    17594\n",
       "dtype: int64"
      ]
     },
     "execution_count": 7,
     "metadata": {},
     "output_type": "execute_result"
    }
   ],
   "source": [
    "contraband.isnull().sum()"
   ]
  },
  {
   "cell_type": "code",
   "execution_count": 8,
   "id": "2f9874d8",
   "metadata": {},
   "outputs": [
    {
     "data": {
      "text/plain": [
       "17762"
      ]
     },
     "execution_count": 8,
     "metadata": {},
     "output_type": "execute_result"
    }
   ],
   "source": [
    "contraband['contraband_found'].count()"
   ]
  },
  {
   "cell_type": "code",
   "execution_count": 9,
   "id": "0de5ffd4",
   "metadata": {},
   "outputs": [
    {
     "data": {
      "text/html": [
       "<div>\n",
       "<style scoped>\n",
       "    .dataframe tbody tr th:only-of-type {\n",
       "        vertical-align: middle;\n",
       "    }\n",
       "\n",
       "    .dataframe tbody tr th {\n",
       "        vertical-align: top;\n",
       "    }\n",
       "\n",
       "    .dataframe thead th {\n",
       "        text-align: right;\n",
       "    }\n",
       "</style>\n",
       "<table border=\"1\" class=\"dataframe\">\n",
       "  <thead>\n",
       "    <tr style=\"text-align: right;\">\n",
       "      <th></th>\n",
       "      <th>raw_row_number</th>\n",
       "      <th>date</th>\n",
       "      <th>time</th>\n",
       "      <th>zone</th>\n",
       "      <th>subject_race</th>\n",
       "      <th>subject_sex</th>\n",
       "      <th>department_id</th>\n",
       "      <th>type</th>\n",
       "      <th>arrest_made</th>\n",
       "      <th>citation_issued</th>\n",
       "      <th>...</th>\n",
       "      <th>reason_for_stop</th>\n",
       "      <th>vehicle_make</th>\n",
       "      <th>vehicle_model</th>\n",
       "      <th>raw_BasisForStop</th>\n",
       "      <th>raw_OperatorRace</th>\n",
       "      <th>raw_OperatorSex</th>\n",
       "      <th>raw_ResultOfStop</th>\n",
       "      <th>raw_SearchResultOne</th>\n",
       "      <th>raw_SearchResultTwo</th>\n",
       "      <th>raw_SearchResultThree</th>\n",
       "    </tr>\n",
       "  </thead>\n",
       "  <tbody>\n",
       "    <tr>\n",
       "      <th>297</th>\n",
       "      <td>298</td>\n",
       "      <td>2005-12-06</td>\n",
       "      <td>16:29:00</td>\n",
       "      <td>K2</td>\n",
       "      <td>black</td>\n",
       "      <td>male</td>\n",
       "      <td>900</td>\n",
       "      <td>vehicular</td>\n",
       "      <td>False</td>\n",
       "      <td>True</td>\n",
       "      <td>...</td>\n",
       "      <td>Registration Violation</td>\n",
       "      <td>AUDI</td>\n",
       "      <td>100S</td>\n",
       "      <td>RV</td>\n",
       "      <td>B</td>\n",
       "      <td>M</td>\n",
       "      <td>M</td>\n",
       "      <td>N</td>\n",
       "      <td>NaN</td>\n",
       "      <td>NaN</td>\n",
       "    </tr>\n",
       "    <tr>\n",
       "      <th>304</th>\n",
       "      <td>305</td>\n",
       "      <td>2005-12-01</td>\n",
       "      <td>20:00:00</td>\n",
       "      <td>K3</td>\n",
       "      <td>black</td>\n",
       "      <td>male</td>\n",
       "      <td>300</td>\n",
       "      <td>vehicular</td>\n",
       "      <td>False</td>\n",
       "      <td>True</td>\n",
       "      <td>...</td>\n",
       "      <td>Other Traffic Violation</td>\n",
       "      <td>NaN</td>\n",
       "      <td>NaN</td>\n",
       "      <td>OT</td>\n",
       "      <td>B</td>\n",
       "      <td>M</td>\n",
       "      <td>M</td>\n",
       "      <td>N</td>\n",
       "      <td>NaN</td>\n",
       "      <td>NaN</td>\n",
       "    </tr>\n",
       "    <tr>\n",
       "      <th>305</th>\n",
       "      <td>306</td>\n",
       "      <td>2005-12-01</td>\n",
       "      <td>20:25:00</td>\n",
       "      <td>K3</td>\n",
       "      <td>black</td>\n",
       "      <td>male</td>\n",
       "      <td>300</td>\n",
       "      <td>vehicular</td>\n",
       "      <td>False</td>\n",
       "      <td>True</td>\n",
       "      <td>...</td>\n",
       "      <td>Registration Violation</td>\n",
       "      <td>NaN</td>\n",
       "      <td>NaN</td>\n",
       "      <td>RV</td>\n",
       "      <td>B</td>\n",
       "      <td>M</td>\n",
       "      <td>M</td>\n",
       "      <td>N</td>\n",
       "      <td>NaN</td>\n",
       "      <td>NaN</td>\n",
       "    </tr>\n",
       "    <tr>\n",
       "      <th>306</th>\n",
       "      <td>307</td>\n",
       "      <td>2005-12-01</td>\n",
       "      <td>21:05:00</td>\n",
       "      <td>K3</td>\n",
       "      <td>black</td>\n",
       "      <td>female</td>\n",
       "      <td>300</td>\n",
       "      <td>vehicular</td>\n",
       "      <td>False</td>\n",
       "      <td>True</td>\n",
       "      <td>...</td>\n",
       "      <td>Registration Violation</td>\n",
       "      <td>NaN</td>\n",
       "      <td>NaN</td>\n",
       "      <td>RV</td>\n",
       "      <td>B</td>\n",
       "      <td>F</td>\n",
       "      <td>M</td>\n",
       "      <td>N</td>\n",
       "      <td>NaN</td>\n",
       "      <td>NaN</td>\n",
       "    </tr>\n",
       "    <tr>\n",
       "      <th>316</th>\n",
       "      <td>317</td>\n",
       "      <td>2005-12-07</td>\n",
       "      <td>02:38:00</td>\n",
       "      <td>K3</td>\n",
       "      <td>white</td>\n",
       "      <td>male</td>\n",
       "      <td>300</td>\n",
       "      <td>vehicular</td>\n",
       "      <td>True</td>\n",
       "      <td>False</td>\n",
       "      <td>...</td>\n",
       "      <td>Speeding</td>\n",
       "      <td>NaN</td>\n",
       "      <td>NaN</td>\n",
       "      <td>SP</td>\n",
       "      <td>W</td>\n",
       "      <td>M</td>\n",
       "      <td>P</td>\n",
       "      <td>N</td>\n",
       "      <td>NaN</td>\n",
       "      <td>NaN</td>\n",
       "    </tr>\n",
       "  </tbody>\n",
       "</table>\n",
       "<p>5 rows × 31 columns</p>\n",
       "</div>"
      ],
      "text/plain": [
       "     raw_row_number        date      time zone subject_race subject_sex  \\\n",
       "297             298  2005-12-06  16:29:00   K2        black        male   \n",
       "304             305  2005-12-01  20:00:00   K3        black        male   \n",
       "305             306  2005-12-01  20:25:00   K3        black        male   \n",
       "306             307  2005-12-01  21:05:00   K3        black      female   \n",
       "316             317  2005-12-07  02:38:00   K3        white        male   \n",
       "\n",
       "    department_id       type arrest_made citation_issued  ...  \\\n",
       "297           900  vehicular       False            True  ...   \n",
       "304           300  vehicular       False            True  ...   \n",
       "305           300  vehicular       False            True  ...   \n",
       "306           300  vehicular       False            True  ...   \n",
       "316           300  vehicular        True           False  ...   \n",
       "\n",
       "             reason_for_stop vehicle_make vehicle_model raw_BasisForStop  \\\n",
       "297   Registration Violation         AUDI          100S               RV   \n",
       "304  Other Traffic Violation          NaN           NaN               OT   \n",
       "305   Registration Violation          NaN           NaN               RV   \n",
       "306   Registration Violation          NaN           NaN               RV   \n",
       "316                 Speeding          NaN           NaN               SP   \n",
       "\n",
       "    raw_OperatorRace raw_OperatorSex raw_ResultOfStop raw_SearchResultOne  \\\n",
       "297                B               M                M                   N   \n",
       "304                B               M                M                   N   \n",
       "305                B               M                M                   N   \n",
       "306                B               F                M                   N   \n",
       "316                W               M                P                   N   \n",
       "\n",
       "     raw_SearchResultTwo raw_SearchResultThree  \n",
       "297                  NaN                   NaN  \n",
       "304                  NaN                   NaN  \n",
       "305                  NaN                   NaN  \n",
       "306                  NaN                   NaN  \n",
       "316                  NaN                   NaN  \n",
       "\n",
       "[5 rows x 31 columns]"
      ]
     },
     "execution_count": 9,
     "metadata": {},
     "output_type": "execute_result"
    }
   ],
   "source": [
    "contraband.head()"
   ]
  },
  {
   "cell_type": "code",
   "execution_count": 10,
   "id": "1e99f2b3",
   "metadata": {},
   "outputs": [
    {
     "data": {
      "text/plain": [
       "array([False, True], dtype=object)"
      ]
     },
     "execution_count": 10,
     "metadata": {},
     "output_type": "execute_result"
    }
   ],
   "source": [
    "contraband['contraband_found'].unique()"
   ]
  },
  {
   "cell_type": "code",
   "execution_count": 11,
   "id": "af97e869",
   "metadata": {},
   "outputs": [
    {
     "data": {
      "text/plain": [
       "dtype('O')"
      ]
     },
     "execution_count": 11,
     "metadata": {},
     "output_type": "execute_result"
    }
   ],
   "source": [
    "contraband.date.dtype"
   ]
  },
  {
   "cell_type": "code",
   "execution_count": 12,
   "id": "aa74557f",
   "metadata": {},
   "outputs": [],
   "source": [
    "combined = contraband.date.str.cat(contraband.time, sep=' ')"
   ]
  },
  {
   "cell_type": "code",
   "execution_count": 13,
   "id": "af8d21a6",
   "metadata": {},
   "outputs": [
    {
     "data": {
      "text/plain": [
       "297    2005-12-06 16:29:00\n",
       "304    2005-12-01 20:00:00\n",
       "305    2005-12-01 20:25:00\n",
       "306    2005-12-01 21:05:00\n",
       "316    2005-12-07 02:38:00\n",
       "Name: date, dtype: object"
      ]
     },
     "execution_count": 13,
     "metadata": {},
     "output_type": "execute_result"
    }
   ],
   "source": [
    "combined.head()"
   ]
  },
  {
   "cell_type": "code",
   "execution_count": 14,
   "id": "3e3a6c9f",
   "metadata": {},
   "outputs": [
    {
     "name": "stderr",
     "output_type": "stream",
     "text": [
      "/var/folders/g6/qw3t2lbx7x91r1mfyp6k77k00000gn/T/ipykernel_9018/3833834112.py:1: SettingWithCopyWarning: \n",
      "A value is trying to be set on a copy of a slice from a DataFrame.\n",
      "Try using .loc[row_indexer,col_indexer] = value instead\n",
      "\n",
      "See the caveats in the documentation: https://pandas.pydata.org/pandas-docs/stable/user_guide/indexing.html#returning-a-view-versus-a-copy\n",
      "  contraband['dt'] = pd.to_datetime(combined)\n"
     ]
    }
   ],
   "source": [
    "contraband['dt'] = pd.to_datetime(combined)"
   ]
  },
  {
   "cell_type": "code",
   "execution_count": 15,
   "id": "fd3f19f9",
   "metadata": {},
   "outputs": [],
   "source": [
    "contraband.set_index('dt', inplace=True)"
   ]
  },
  {
   "cell_type": "code",
   "execution_count": 16,
   "id": "18a94084",
   "metadata": {},
   "outputs": [
    {
     "data": {
      "text/plain": [
       "raw_row_number            int64\n",
       "date                     object\n",
       "time                     object\n",
       "zone                     object\n",
       "subject_race             object\n",
       "subject_sex              object\n",
       "department_id            object\n",
       "type                     object\n",
       "arrest_made              object\n",
       "citation_issued          object\n",
       "warning_issued           object\n",
       "outcome                  object\n",
       "contraband_found         object\n",
       "contraband_drugs         object\n",
       "contraband_weapons       object\n",
       "contraband_alcohol       object\n",
       "contraband_other         object\n",
       "frisk_performed          object\n",
       "search_conducted           bool\n",
       "search_basis             object\n",
       "reason_for_search        object\n",
       "reason_for_stop          object\n",
       "vehicle_make             object\n",
       "vehicle_model            object\n",
       "raw_BasisForStop         object\n",
       "raw_OperatorRace         object\n",
       "raw_OperatorSex          object\n",
       "raw_ResultOfStop         object\n",
       "raw_SearchResultOne      object\n",
       "raw_SearchResultTwo      object\n",
       "raw_SearchResultThree    object\n",
       "dtype: object"
      ]
     },
     "execution_count": 16,
     "metadata": {},
     "output_type": "execute_result"
    }
   ],
   "source": [
    "contraband.dtypes"
   ]
  },
  {
   "cell_type": "code",
   "execution_count": 17,
   "id": "081e73f1",
   "metadata": {},
   "outputs": [],
   "source": [
    "ri = contraband.drop([\n",
    "'raw_row_number','date','time','type', 'vehicle_make',\n",
    "       'vehicle_model',\"search_conducted\", 'raw_SearchResultTwo',\n",
    "       'raw_SearchResultThree'], axis = 1)"
   ]
  },
  {
   "cell_type": "code",
   "execution_count": 18,
   "id": "9a7eb912",
   "metadata": {},
   "outputs": [],
   "source": [
    "boo=['arrest_made','citation_issued', 'warning_issued', 'contraband_found','frisk_performed']\n",
    "ri[boo]=ri[boo].astype('bool')"
   ]
  },
  {
   "cell_type": "code",
   "execution_count": 19,
   "id": "2b65eca7",
   "metadata": {},
   "outputs": [],
   "source": [
    "cat=['zone', 'subject_race', 'subject_sex', 'department_id', 'outcome', \n",
    "       'contraband_drugs', 'contraband_weapons', 'contraband_alcohol',\n",
    "       'contraband_other', 'search_basis', 'reason_for_stop',\n",
    "       'raw_BasisForStop', 'raw_OperatorRace', 'raw_OperatorSex',\n",
    "       'raw_ResultOfStop', 'raw_SearchResultOne']\n",
    "ri[cat] = ri[cat].astype('category')"
   ]
  },
  {
   "cell_type": "code",
   "execution_count": 20,
   "id": "0fa6c228",
   "metadata": {},
   "outputs": [],
   "source": [
    "all=['zone', 'subject_race', 'subject_sex', 'department_id', 'outcome', \n",
    "       'contraband_drugs', 'contraband_weapons', 'contraband_alcohol',\n",
    "       'contraband_other', 'search_basis', 'reason_for_stop',\n",
    "       'raw_BasisForStop', 'raw_OperatorRace', 'raw_OperatorSex',\n",
    "       'raw_ResultOfStop', 'raw_SearchResultOne','arrest_made','citation_issued', 'warning_issued', 'contraband_found','frisk_performed','reason_for_search']\n",
    "clean = ri[all]"
   ]
  },
  {
   "cell_type": "code",
   "execution_count": 21,
   "id": "150efa05",
   "metadata": {},
   "outputs": [
    {
     "data": {
      "text/html": [
       "<div>\n",
       "<style scoped>\n",
       "    .dataframe tbody tr th:only-of-type {\n",
       "        vertical-align: middle;\n",
       "    }\n",
       "\n",
       "    .dataframe tbody tr th {\n",
       "        vertical-align: top;\n",
       "    }\n",
       "\n",
       "    .dataframe thead th {\n",
       "        text-align: right;\n",
       "    }\n",
       "</style>\n",
       "<table border=\"1\" class=\"dataframe\">\n",
       "  <thead>\n",
       "    <tr style=\"text-align: right;\">\n",
       "      <th></th>\n",
       "      <th>zone</th>\n",
       "      <th>subject_race</th>\n",
       "      <th>subject_sex</th>\n",
       "      <th>department_id</th>\n",
       "      <th>outcome</th>\n",
       "      <th>contraband_drugs</th>\n",
       "      <th>contraband_weapons</th>\n",
       "      <th>contraband_alcohol</th>\n",
       "      <th>contraband_other</th>\n",
       "      <th>search_basis</th>\n",
       "      <th>...</th>\n",
       "      <th>raw_OperatorRace</th>\n",
       "      <th>raw_OperatorSex</th>\n",
       "      <th>raw_ResultOfStop</th>\n",
       "      <th>raw_SearchResultOne</th>\n",
       "      <th>arrest_made</th>\n",
       "      <th>citation_issued</th>\n",
       "      <th>warning_issued</th>\n",
       "      <th>contraband_found</th>\n",
       "      <th>frisk_performed</th>\n",
       "      <th>reason_for_search</th>\n",
       "    </tr>\n",
       "  </thead>\n",
       "  <tbody>\n",
       "    <tr>\n",
       "      <th>count</th>\n",
       "      <td>17762</td>\n",
       "      <td>17762</td>\n",
       "      <td>17762</td>\n",
       "      <td>17762</td>\n",
       "      <td>17331</td>\n",
       "      <td>15988</td>\n",
       "      <td>11795</td>\n",
       "      <td>1217</td>\n",
       "      <td>17762</td>\n",
       "      <td>17762</td>\n",
       "      <td>...</td>\n",
       "      <td>17762</td>\n",
       "      <td>17762</td>\n",
       "      <td>17762</td>\n",
       "      <td>17762</td>\n",
       "      <td>17762</td>\n",
       "      <td>17762</td>\n",
       "      <td>17762</td>\n",
       "      <td>17762</td>\n",
       "      <td>17762</td>\n",
       "      <td>17762</td>\n",
       "    </tr>\n",
       "    <tr>\n",
       "      <th>unique</th>\n",
       "      <td>6</td>\n",
       "      <td>5</td>\n",
       "      <td>2</td>\n",
       "      <td>16</td>\n",
       "      <td>3</td>\n",
       "      <td>2</td>\n",
       "      <td>2</td>\n",
       "      <td>2</td>\n",
       "      <td>2</td>\n",
       "      <td>3</td>\n",
       "      <td>...</td>\n",
       "      <td>7</td>\n",
       "      <td>2</td>\n",
       "      <td>6</td>\n",
       "      <td>6</td>\n",
       "      <td>2</td>\n",
       "      <td>2</td>\n",
       "      <td>2</td>\n",
       "      <td>2</td>\n",
       "      <td>2</td>\n",
       "      <td>188</td>\n",
       "    </tr>\n",
       "    <tr>\n",
       "      <th>top</th>\n",
       "      <td>X4</td>\n",
       "      <td>white</td>\n",
       "      <td>male</td>\n",
       "      <td>500</td>\n",
       "      <td>citation</td>\n",
       "      <td>False</td>\n",
       "      <td>False</td>\n",
       "      <td>True</td>\n",
       "      <td>False</td>\n",
       "      <td>other</td>\n",
       "      <td>...</td>\n",
       "      <td>W</td>\n",
       "      <td>M</td>\n",
       "      <td>M</td>\n",
       "      <td>N</td>\n",
       "      <td>False</td>\n",
       "      <td>True</td>\n",
       "      <td>False</td>\n",
       "      <td>False</td>\n",
       "      <td>True</td>\n",
       "      <td>Incident to Arrest</td>\n",
       "    </tr>\n",
       "    <tr>\n",
       "      <th>freq</th>\n",
       "      <td>6410</td>\n",
       "      <td>9968</td>\n",
       "      <td>15303</td>\n",
       "      <td>5514</td>\n",
       "      <td>10513</td>\n",
       "      <td>11223</td>\n",
       "      <td>11296</td>\n",
       "      <td>1120</td>\n",
       "      <td>16771</td>\n",
       "      <td>9035</td>\n",
       "      <td>...</td>\n",
       "      <td>9968</td>\n",
       "      <td>15303</td>\n",
       "      <td>10513</td>\n",
       "      <td>11183</td>\n",
       "      <td>11575</td>\n",
       "      <td>10513</td>\n",
       "      <td>17131</td>\n",
       "      <td>11183</td>\n",
       "      <td>9322</td>\n",
       "      <td>6998</td>\n",
       "    </tr>\n",
       "  </tbody>\n",
       "</table>\n",
       "<p>4 rows × 22 columns</p>\n",
       "</div>"
      ],
      "text/plain": [
       "         zone subject_race subject_sex  department_id   outcome  \\\n",
       "count   17762        17762       17762          17762     17331   \n",
       "unique      6            5           2             16         3   \n",
       "top        X4        white        male            500  citation   \n",
       "freq     6410         9968       15303           5514     10513   \n",
       "\n",
       "       contraband_drugs contraband_weapons contraband_alcohol  \\\n",
       "count             15988              11795               1217   \n",
       "unique                2                  2                  2   \n",
       "top               False              False               True   \n",
       "freq              11223              11296               1120   \n",
       "\n",
       "       contraband_other search_basis  ... raw_OperatorRace raw_OperatorSex  \\\n",
       "count             17762        17762  ...            17762           17762   \n",
       "unique                2            3  ...                7               2   \n",
       "top               False        other  ...                W               M   \n",
       "freq              16771         9035  ...             9968           15303   \n",
       "\n",
       "       raw_ResultOfStop raw_SearchResultOne arrest_made citation_issued  \\\n",
       "count             17762               17762       17762           17762   \n",
       "unique                6                   6           2               2   \n",
       "top                   M                   N       False            True   \n",
       "freq              10513               11183       11575           10513   \n",
       "\n",
       "       warning_issued contraband_found frisk_performed   reason_for_search  \n",
       "count           17762            17762           17762               17762  \n",
       "unique              2                2               2                 188  \n",
       "top             False            False            True  Incident to Arrest  \n",
       "freq            17131            11183            9322                6998  \n",
       "\n",
       "[4 rows x 22 columns]"
      ]
     },
     "execution_count": 21,
     "metadata": {},
     "output_type": "execute_result"
    }
   ],
   "source": [
    "clean.describe()"
   ]
  },
  {
   "cell_type": "code",
   "execution_count": 23,
   "id": "8ee9b4e4",
   "metadata": {},
   "outputs": [
    {
     "data": {
      "image/png": "[encoded data removed]",
      "text/plain": [
       "<Figure size 432x288 with 1 Axes>"
      ]
     },
     "metadata": {
      "needs_background": "light"
     },
     "output_type": "display_data"
    }
   ],
   "source": [
    "import matplotlib.pyplot as plt\n",
    "clean['subject_race'].value_counts(normalize=True).plot(kind='bar');plt.show()"
   ]
  },
  {
   "cell_type": "code",
   "execution_count": 24,
   "id": "b27dc30d",
   "metadata": {},
   "outputs": [
    {
     "data": {
      "text/plain": [
       "(17762, 22)"
      ]
     },
     "execution_count": 24,
     "metadata": {},
     "output_type": "execute_result"
    }
   ],
   "source": [
    "ri.shape"
   ]
  },
  {
   "cell_type": "code",
   "execution_count": null,
   "id": "8a721fe3",
   "metadata": {},
   "outputs": [],
   "source": [
    "# Reset the index of 'ri'\n",
    "ri.reset_index(inplace=True)\n",
    "\n",
    "# Examine the head of 'ri'\n",
    "print(ri.head())\n",
    "\n",
    "# Create a DataFrame from the 'DATE' and 'rating' columns\n",
    "weather_rating = weather[['DATE','rating']]\n",
    "\n",
    "# Examine the head of 'weather_rating'\n",
    "print(weather_rating.head())"
   ]
  }
 ],
 "metadata": {
  "kernelspec": {
   "display_name": "Python 3 (ipykernel)",
   "language": "python",
   "name": "python3"
  },
  "language_info": {
   "codemirror_mode": {
    "name": "ipython",
    "version": 3
   },
   "file_extension": ".py",
   "mimetype": "text/x-python",
   "name": "python",
   "nbconvert_exporter": "python",
   "pygments_lexer": "ipython3",
   "version": "3.9.7"
  }
 },
 "nbformat": 4,
 "nbformat_minor": 5
}
