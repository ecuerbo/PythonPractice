{
 "cells": [
  {
   "cell_type": "code",
   "execution_count": 83,
   "id": "17de9e4f",
   "metadata": {},
   "outputs": [],
   "source": [
    "import pandas as pd\n",
    "import matplotlib.pyplot as plt\n",
    "import seaborn as sns\n",
    "#import os\n",
    "#os.getcwd()"
   ]
  },
  {
   "cell_type": "code",
   "execution_count": 2,
   "id": "496fd41d",
   "metadata": {},
   "outputs": [
    {
     "name": "stderr",
     "output_type": "stream",
     "text": [
      "/opt/anaconda3/lib/python3.9/site-packages/IPython/core/interactiveshell.py:3444: DtypeWarning: Columns (6,17,30) have mixed types.Specify dtype option on import or set low_memory=False.\n",
      "  exec(code_obj, self.user_global_ns, self.user_ns)\n"
     ]
    },
    {
     "data": {
      "text/html": [
       "<div>\n",
       "<style scoped>\n",
       "    .dataframe tbody tr th:only-of-type {\n",
       "        vertical-align: middle;\n",
       "    }\n",
       "\n",
       "    .dataframe tbody tr th {\n",
       "        vertical-align: top;\n",
       "    }\n",
       "\n",
       "    .dataframe thead th {\n",
       "        text-align: right;\n",
       "    }\n",
       "</style>\n",
       "<table border=\"1\" class=\"dataframe\">\n",
       "  <thead>\n",
       "    <tr style=\"text-align: right;\">\n",
       "      <th></th>\n",
       "      <th>raw_row_number</th>\n",
       "      <th>date</th>\n",
       "      <th>time</th>\n",
       "      <th>zone</th>\n",
       "      <th>subject_race</th>\n",
       "      <th>subject_sex</th>\n",
       "      <th>department_id</th>\n",
       "      <th>type</th>\n",
       "      <th>arrest_made</th>\n",
       "      <th>citation_issued</th>\n",
       "      <th>...</th>\n",
       "      <th>reason_for_stop</th>\n",
       "      <th>vehicle_make</th>\n",
       "      <th>vehicle_model</th>\n",
       "      <th>raw_BasisForStop</th>\n",
       "      <th>raw_OperatorRace</th>\n",
       "      <th>raw_OperatorSex</th>\n",
       "      <th>raw_ResultOfStop</th>\n",
       "      <th>raw_SearchResultOne</th>\n",
       "      <th>raw_SearchResultTwo</th>\n",
       "      <th>raw_SearchResultThree</th>\n",
       "    </tr>\n",
       "  </thead>\n",
       "  <tbody>\n",
       "    <tr>\n",
       "      <th>0</th>\n",
       "      <td>1</td>\n",
       "      <td>2005-11-22</td>\n",
       "      <td>11:15:00</td>\n",
       "      <td>X3</td>\n",
       "      <td>white</td>\n",
       "      <td>male</td>\n",
       "      <td>200</td>\n",
       "      <td>vehicular</td>\n",
       "      <td>False</td>\n",
       "      <td>True</td>\n",
       "      <td>...</td>\n",
       "      <td>Speeding</td>\n",
       "      <td>NaN</td>\n",
       "      <td>NaN</td>\n",
       "      <td>SP</td>\n",
       "      <td>W</td>\n",
       "      <td>M</td>\n",
       "      <td>M</td>\n",
       "      <td>NaN</td>\n",
       "      <td>NaN</td>\n",
       "      <td>NaN</td>\n",
       "    </tr>\n",
       "    <tr>\n",
       "      <th>1</th>\n",
       "      <td>2</td>\n",
       "      <td>2005-10-01</td>\n",
       "      <td>12:20:00</td>\n",
       "      <td>X3</td>\n",
       "      <td>white</td>\n",
       "      <td>male</td>\n",
       "      <td>200</td>\n",
       "      <td>vehicular</td>\n",
       "      <td>False</td>\n",
       "      <td>True</td>\n",
       "      <td>...</td>\n",
       "      <td>Speeding</td>\n",
       "      <td>NaN</td>\n",
       "      <td>NaN</td>\n",
       "      <td>SP</td>\n",
       "      <td>W</td>\n",
       "      <td>M</td>\n",
       "      <td>M</td>\n",
       "      <td>NaN</td>\n",
       "      <td>NaN</td>\n",
       "      <td>NaN</td>\n",
       "    </tr>\n",
       "    <tr>\n",
       "      <th>2</th>\n",
       "      <td>3</td>\n",
       "      <td>2005-10-01</td>\n",
       "      <td>12:30:00</td>\n",
       "      <td>X3</td>\n",
       "      <td>white</td>\n",
       "      <td>female</td>\n",
       "      <td>200</td>\n",
       "      <td>vehicular</td>\n",
       "      <td>False</td>\n",
       "      <td>True</td>\n",
       "      <td>...</td>\n",
       "      <td>Speeding</td>\n",
       "      <td>NaN</td>\n",
       "      <td>NaN</td>\n",
       "      <td>SP</td>\n",
       "      <td>W</td>\n",
       "      <td>F</td>\n",
       "      <td>M</td>\n",
       "      <td>NaN</td>\n",
       "      <td>NaN</td>\n",
       "      <td>NaN</td>\n",
       "    </tr>\n",
       "    <tr>\n",
       "      <th>3</th>\n",
       "      <td>4</td>\n",
       "      <td>2005-10-01</td>\n",
       "      <td>12:50:00</td>\n",
       "      <td>X3</td>\n",
       "      <td>white</td>\n",
       "      <td>male</td>\n",
       "      <td>200</td>\n",
       "      <td>vehicular</td>\n",
       "      <td>False</td>\n",
       "      <td>True</td>\n",
       "      <td>...</td>\n",
       "      <td>Speeding</td>\n",
       "      <td>NaN</td>\n",
       "      <td>NaN</td>\n",
       "      <td>SP</td>\n",
       "      <td>W</td>\n",
       "      <td>M</td>\n",
       "      <td>M</td>\n",
       "      <td>NaN</td>\n",
       "      <td>NaN</td>\n",
       "      <td>NaN</td>\n",
       "    </tr>\n",
       "    <tr>\n",
       "      <th>4</th>\n",
       "      <td>5</td>\n",
       "      <td>2005-10-01</td>\n",
       "      <td>13:10:00</td>\n",
       "      <td>X3</td>\n",
       "      <td>white</td>\n",
       "      <td>female</td>\n",
       "      <td>200</td>\n",
       "      <td>vehicular</td>\n",
       "      <td>False</td>\n",
       "      <td>True</td>\n",
       "      <td>...</td>\n",
       "      <td>Speeding</td>\n",
       "      <td>NaN</td>\n",
       "      <td>NaN</td>\n",
       "      <td>SP</td>\n",
       "      <td>W</td>\n",
       "      <td>F</td>\n",
       "      <td>M</td>\n",
       "      <td>NaN</td>\n",
       "      <td>NaN</td>\n",
       "      <td>NaN</td>\n",
       "    </tr>\n",
       "  </tbody>\n",
       "</table>\n",
       "<p>5 rows × 31 columns</p>\n",
       "</div>"
      ],
      "text/plain": [
       "   raw_row_number        date      time zone subject_race subject_sex  \\\n",
       "0               1  2005-11-22  11:15:00   X3        white        male   \n",
       "1               2  2005-10-01  12:20:00   X3        white        male   \n",
       "2               3  2005-10-01  12:30:00   X3        white      female   \n",
       "3               4  2005-10-01  12:50:00   X3        white        male   \n",
       "4               5  2005-10-01  13:10:00   X3        white      female   \n",
       "\n",
       "  department_id       type arrest_made citation_issued  ... reason_for_stop  \\\n",
       "0           200  vehicular       False            True  ...        Speeding   \n",
       "1           200  vehicular       False            True  ...        Speeding   \n",
       "2           200  vehicular       False            True  ...        Speeding   \n",
       "3           200  vehicular       False            True  ...        Speeding   \n",
       "4           200  vehicular       False            True  ...        Speeding   \n",
       "\n",
       "  vehicle_make vehicle_model raw_BasisForStop raw_OperatorRace  \\\n",
       "0          NaN           NaN               SP                W   \n",
       "1          NaN           NaN               SP                W   \n",
       "2          NaN           NaN               SP                W   \n",
       "3          NaN           NaN               SP                W   \n",
       "4          NaN           NaN               SP                W   \n",
       "\n",
       "  raw_OperatorSex raw_ResultOfStop raw_SearchResultOne  raw_SearchResultTwo  \\\n",
       "0               M                M                 NaN                  NaN   \n",
       "1               M                M                 NaN                  NaN   \n",
       "2               F                M                 NaN                  NaN   \n",
       "3               M                M                 NaN                  NaN   \n",
       "4               F                M                 NaN                  NaN   \n",
       "\n",
       "  raw_SearchResultThree  \n",
       "0                   NaN  \n",
       "1                   NaN  \n",
       "2                   NaN  \n",
       "3                   NaN  \n",
       "4                   NaN  \n",
       "\n",
       "[5 rows x 31 columns]"
      ]
     },
     "execution_count": 2,
     "metadata": {},
     "output_type": "execute_result"
    }
   ],
   "source": [
    "ri = pd.read_csv('/Users/ecuerbo/python/pyprac/data/ri.csv')\n",
    "ri.head()"
   ]
  },
  {
   "cell_type": "code",
   "execution_count": 10,
   "id": "a9f34d01",
   "metadata": {
    "scrolled": true
   },
   "outputs": [
    {
     "data": {
      "image/png": "[encoded data removed]",
      "text/plain": [
       "<Figure size 432x288 with 1 Axes>"
      ]
     },
     "metadata": {
      "needs_background": "light"
     },
     "output_type": "display_data"
    }
   ],
   "source": [
    "ri[ri['zone']=='X3'].isnull().sum().sort_values().plot(kind='bar');plt.show()"
   ]
  },
  {
   "cell_type": "code",
   "execution_count": 14,
   "id": "873c16ad",
   "metadata": {},
   "outputs": [],
   "source": [
    "nig = ri[ri['subject_race']=='Black']\n",
    "wit = ri[ri['subject_race']=='White']"
   ]
  },
  {
   "cell_type": "code",
   "execution_count": 28,
   "id": "800b2d1e",
   "metadata": {
    "scrolled": true
   },
   "outputs": [
    {
     "data": {
      "text/plain": [
       "male      0.727128\n",
       "female    0.272872\n",
       "Name: subject_sex, dtype: float64"
      ]
     },
     "execution_count": 28,
     "metadata": {},
     "output_type": "execute_result"
    }
   ],
   "source": [
    "ri['subject_sex'].value_counts(normalize=True)"
   ]
  },
  {
   "cell_type": "code",
   "execution_count": 30,
   "id": "a81ea6bb",
   "metadata": {},
   "outputs": [
    {
     "name": "stdout",
     "output_type": "stream",
     "text": [
      "1         0.000002\n",
      "339784    0.000002\n",
      "339797    0.000002\n",
      "339796    0.000002\n",
      "339795    0.000002\n",
      "            ...   \n",
      "169890    0.000002\n",
      "169889    0.000002\n",
      "169888    0.000002\n",
      "169887    0.000002\n",
      "509681    0.000002\n",
      "Name: raw_row_number, Length: 509681, dtype: float64\n",
      "2006-05-21    0.000593\n",
      "2015-09-05    0.000593\n",
      "2006-06-13    0.000575\n",
      "2012-01-08    0.000573\n",
      "2012-01-07    0.000569\n",
      "                ...   \n",
      "2005-03-14    0.000002\n",
      "2005-02-17    0.000002\n",
      "2005-04-04    0.000002\n",
      "2005-08-09    0.000002\n",
      "2005-06-18    0.000002\n",
      "Name: date, Length: 3809, dtype: float64\n",
      "10:00:00    0.003459\n",
      "11:00:00    0.003451\n",
      "09:00:00    0.003226\n",
      "10:30:00    0.003188\n",
      "09:30:00    0.002921\n",
      "              ...   \n",
      "04:52:00    0.000016\n",
      "05:21:00    0.000016\n",
      "05:39:00    0.000016\n",
      "05:09:00    0.000014\n",
      "05:22:00    0.000014\n",
      "Name: time, Length: 1440, dtype: float64\n",
      "X4    0.265562\n",
      "K3    0.223250\n",
      "K2    0.198958\n",
      "X3    0.184547\n",
      "K1    0.094889\n",
      "X1    0.032796\n",
      "Name: zone, dtype: float64\n",
      "white                     0.717287\n",
      "black                     0.142692\n",
      "hispanic                  0.110537\n",
      "asian/pacific islander    0.026687\n",
      "other                     0.002796\n",
      "Name: subject_race, dtype: float64\n",
      "male      0.727128\n",
      "female    0.272872\n",
      "Name: subject_sex, dtype: float64\n",
      "500    0.241224\n",
      "300    0.178949\n",
      "200    0.147472\n",
      "900    0.146844\n",
      "600    0.059383\n",
      "         ...   \n",
      "20     0.000002\n",
      "MA     0.000002\n",
      "501    0.000002\n",
      "1.0    0.000002\n",
      "006    0.000002\n",
      "Name: department_id, Length: 75, dtype: float64\n",
      "vehicular    1.0\n",
      "Name: type, dtype: float64\n",
      "False    0.965454\n",
      "True     0.034546\n",
      "Name: arrest_made, dtype: float64\n",
      "True     0.891346\n",
      "False    0.108654\n",
      "Name: citation_issued, dtype: float64\n",
      "False    0.939974\n",
      "True     0.060026\n",
      "Name: warning_issued, dtype: float64\n",
      "citation    0.904077\n",
      "warning     0.060883\n",
      "arrest      0.035039\n",
      "Name: outcome, dtype: float64\n",
      "False    0.629603\n",
      "True     0.370397\n",
      "Name: contraband_found, dtype: float64\n",
      "False    0.701964\n",
      "True     0.298036\n",
      "Name: contraband_drugs, dtype: float64\n",
      "False    0.957694\n",
      "True     0.042306\n",
      "Name: contraband_weapons, dtype: float64\n",
      "True     0.920296\n",
      "False    0.079704\n",
      "Name: contraband_alcohol, dtype: float64\n",
      "False    0.944207\n",
      "True     0.055793\n",
      "Name: contraband_other, dtype: float64\n",
      "False    0.98171\n",
      "True     0.01829\n",
      "Name: frisk_performed, dtype: float64\n",
      "False    0.965151\n",
      "True     0.034849\n",
      "Name: search_conducted, dtype: float64\n",
      "other             0.508670\n",
      "probable cause    0.437282\n",
      "plain view        0.054048\n",
      "Name: search_basis, dtype: float64\n",
      "Incident to Arrest                                          0.393987\n",
      "Probable Cause                                              0.116147\n",
      "Odor of Drugs/Alcohol                                       0.105394\n",
      "Reasonable Suspicion                                        0.064238\n",
      "Inventory/Tow                                               0.061986\n",
      "                                                              ...   \n",
      "Reasonable Suspicion|Inventory/Tow|Odor of Drugs/Alcohol    0.000056\n",
      "Odor of Drugs/Alcohol|Inventory/Tow|Reasonable Suspicion    0.000056\n",
      "Terry Frisk|Reasonable Suspicion|Odor of Drugs/Alcohol      0.000056\n",
      "Plain View|Reasonable Suspicion|Odor of Drugs/Alcohol       0.000056\n",
      "Reasonable Suspicion|Incident to Arrest|Probable Cause      0.000056\n",
      "Name: reason_for_search, Length: 188, dtype: float64\n",
      "Speeding                            0.559175\n",
      "Other Traffic Violation             0.187750\n",
      "Equipment/Inspection Violation      0.127447\n",
      "Registration Violation              0.041260\n",
      "Seatbelt Violation                  0.033972\n",
      "Special Detail/Directed Patrol      0.028385\n",
      "Call for Service                    0.015832\n",
      "Violation of City/Town Ordinance    0.002156\n",
      "Motorist Assist/Courtesy            0.002060\n",
      "APB                                 0.001009\n",
      "Suspicious Person                   0.000712\n",
      "Warrant                             0.000243\n",
      "Name: reason_for_stop, dtype: float64\n",
      "TOYT    0.116460\n",
      "NISS    0.101431\n",
      "HOND    0.101372\n",
      "FORD    0.089772\n",
      "CHEV    0.065278\n",
      "          ...   \n",
      "STU     0.000003\n",
      "SATU    0.000003\n",
      "TRIM    0.000003\n",
      "INTE    0.000003\n",
      "MB      0.000003\n",
      "Name: vehicle_make, Length: 96, dtype: float64\n",
      "ACCORD                     0.050281\n",
      "MAXIMA                     0.047086\n",
      "CAMRY                      0.042110\n",
      "ALTIMA                     0.033448\n",
      "CIVIC                      0.032761\n",
      "                             ...   \n",
      "OSHK CEMENT MIXER TRUCK    0.000004\n",
      "PRO 3 AXLE                 0.000004\n",
      "CARLO                      0.000004\n",
      "PETER PAN MCI BUS          0.000004\n",
      "OTS                        0.000004\n",
      "Name: vehicle_model, Length: 9188, dtype: float64\n",
      "SP    0.559175\n",
      "OT    0.187750\n",
      "EQ    0.127447\n",
      "RV    0.041260\n",
      "SB    0.033972\n",
      "SD    0.028385\n",
      "CS    0.015832\n",
      "VO    0.002156\n",
      "MO    0.002060\n",
      "AP    0.001009\n",
      "SU    0.000712\n",
      "WA    0.000243\n",
      "Name: raw_BasisForStop, dtype: float64\n",
      "W    0.717287\n",
      "B    0.142692\n",
      "H    0.091651\n",
      "I    0.026687\n",
      "L    0.018886\n",
      "O    0.001694\n",
      "N    0.001103\n",
      "Name: raw_OperatorRace, dtype: float64\n",
      "M    0.727092\n",
      "F    0.272859\n",
      "U    0.000048\n",
      "N    0.000002\n",
      "Name: raw_OperatorSex, dtype: float64\n",
      "M    0.891346\n",
      "W    0.060026\n",
      "D    0.030441\n",
      "N    0.007139\n",
      "A    0.006943\n",
      "P    0.004105\n",
      "Name: raw_ResultOfStop, dtype: float64\n",
      "N    0.629603\n",
      "D    0.256390\n",
      "A    0.051571\n",
      "W    0.021957\n",
      "O    0.020493\n",
      "M    0.019986\n",
      "Name: raw_SearchResultOne, dtype: float64\n",
      "D    0.244200\n",
      "A    0.223443\n",
      "O    0.213675\n",
      "M    0.202686\n",
      "W    0.115995\n",
      "Name: raw_SearchResultTwo, dtype: float64\n",
      "O    0.500000\n",
      "M    0.178571\n",
      "A    0.125000\n",
      "W    0.083333\n",
      "D    0.065476\n",
      "N    0.047619\n",
      "Name: raw_SearchResultThree, dtype: float64\n"
     ]
    }
   ],
   "source": [
    "for x in ri.columns:\n",
    "    print(ri[x].value_counts(normalize=True))"
   ]
  },
  {
   "cell_type": "code",
   "execution_count": 50,
   "id": "70517c4b",
   "metadata": {},
   "outputs": [],
   "source": [
    "speeding = ri.loc[ri['reason_for_stop']=='Speeding']"
   ]
  },
  {
   "cell_type": "code",
   "execution_count": 53,
   "id": "bcc5d67e",
   "metadata": {},
   "outputs": [
    {
     "data": {
      "text/plain": [
       "(268744, 31)"
      ]
     },
     "execution_count": 53,
     "metadata": {},
     "output_type": "execute_result"
    }
   ],
   "source": [
    "speeding.shape"
   ]
  },
  {
   "cell_type": "code",
   "execution_count": 52,
   "id": "fcba70e3",
   "metadata": {},
   "outputs": [
    {
     "data": {
      "text/plain": [
       "raw_row_number                0\n",
       "date                          0\n",
       "time                          0\n",
       "zone                          0\n",
       "subject_race                  0\n",
       "subject_sex                   8\n",
       "department_id                 0\n",
       "type                          0\n",
       "arrest_made                   0\n",
       "citation_issued               0\n",
       "warning_issued                0\n",
       "outcome                     533\n",
       "contraband_found         263216\n",
       "contraband_drugs         263827\n",
       "contraband_weapons       265118\n",
       "contraband_alcohol       268342\n",
       "contraband_other         263216\n",
       "frisk_performed               0\n",
       "search_conducted              0\n",
       "search_basis             263216\n",
       "reason_for_search        263216\n",
       "reason_for_stop               0\n",
       "vehicle_make             107896\n",
       "vehicle_model            150979\n",
       "raw_BasisForStop              0\n",
       "raw_OperatorRace              0\n",
       "raw_OperatorSex               0\n",
       "raw_ResultOfStop              0\n",
       "raw_SearchResultOne      263216\n",
       "raw_SearchResultTwo      268438\n",
       "raw_SearchResultThree    268686\n",
       "dtype: int64"
      ]
     },
     "execution_count": 52,
     "metadata": {},
     "output_type": "execute_result"
    }
   ],
   "source": [
    "speeding.isnull().sum()"
   ]
  },
  {
   "cell_type": "code",
   "execution_count": 54,
   "id": "223d2421",
   "metadata": {},
   "outputs": [
    {
     "data": {
      "text/plain": [
       "white                     0.792907\n",
       "black                     0.105223\n",
       "hispanic                  0.066171\n",
       "asian/pacific islander    0.032548\n",
       "other                     0.003152\n",
       "Name: subject_race, dtype: float64"
      ]
     },
     "execution_count": 54,
     "metadata": {},
     "output_type": "execute_result"
    }
   ],
   "source": [
    "speeding['subject_race'].value_counts(normalize=True)"
   ]
  },
  {
   "cell_type": "code",
   "execution_count": 62,
   "id": "0830ce4d",
   "metadata": {},
   "outputs": [],
   "source": [
    "black = speeding[speeding.subject_race=='black']\n",
    "white = speeding[speeding.subject_race=='white']\n",
    "hispanic = speeding[speeding.subject_race=='hispanic']"
   ]
  },
  {
   "cell_type": "code",
   "execution_count": 80,
   "id": "af3b2753",
   "metadata": {
    "scrolled": true
   },
   "outputs": [
    {
     "data": {
      "text/plain": [
       "False    0.971144\n",
       "True     0.028856\n",
       "Name: arrest_made, dtype: float64"
      ]
     },
     "execution_count": 80,
     "metadata": {},
     "output_type": "execute_result"
    }
   ],
   "source": [
    "black['arrest_made'].value_counts(normalize=True)"
   ]
  },
  {
   "cell_type": "code",
   "execution_count": 81,
   "id": "be40842c",
   "metadata": {},
   "outputs": [
    {
     "data": {
      "text/plain": [
       "False    0.989441\n",
       "True     0.010559\n",
       "Name: arrest_made, dtype: float64"
      ]
     },
     "execution_count": 81,
     "metadata": {},
     "output_type": "execute_result"
    }
   ],
   "source": [
    "white['arrest_made'].value_counts(normalize=True)"
   ]
  },
  {
   "cell_type": "code",
   "execution_count": 82,
   "id": "564015cd",
   "metadata": {},
   "outputs": [
    {
     "data": {
      "text/plain": [
       "False    0.971265\n",
       "True     0.028735\n",
       "Name: arrest_made, dtype: float64"
      ]
     },
     "execution_count": 82,
     "metadata": {},
     "output_type": "execute_result"
    }
   ],
   "source": [
    "hispanic['arrest_made'].value_counts(normalize=True)"
   ]
  },
  {
   "cell_type": "code",
   "execution_count": 86,
   "id": "0370543f",
   "metadata": {},
   "outputs": [
    {
     "name": "stderr",
     "output_type": "stream",
     "text": [
      "/opt/anaconda3/lib/python3.9/site-packages/seaborn/_decorators.py:36: FutureWarning: Pass the following variable as a keyword arg: x. From version 0.12, the only valid positional argument will be `data`, and passing other arguments without an explicit keyword will result in an error or misinterpretation.\n",
      "  warnings.warn(\n"
     ]
    },
    {
     "data": {
      "text/plain": [
       "<AxesSubplot:xlabel='subject_race', ylabel='count'>"
      ]
     },
     "execution_count": 86,
     "metadata": {},
     "output_type": "execute_result"
    },
    {
     "data": {
      "image/png": "[encoded data removed]",
      "text/plain": [
       "<Figure size 432x288 with 1 Axes>"
      ]
     },
     "metadata": {
      "needs_background": "light"
     },
     "output_type": "display_data"
    }
   ],
   "source": [
    "sns.countplot(speeding['subject_race'])"
   ]
  },
  {
   "cell_type": "code",
   "execution_count": 116,
   "id": "76e632d0",
   "metadata": {},
   "outputs": [
    {
     "data": {
      "text/plain": [
       "<AxesSubplot:xlabel='count', ylabel='subject_race'>"
      ]
     },
     "execution_count": 116,
     "metadata": {},
     "output_type": "execute_result"
    },
    {
     "data": {
      "image/png": "[encoded data removed]",
      "text/plain": [
       "<Figure size 432x288 with 1 Axes>"
      ]
     },
     "metadata": {
      "needs_background": "light"
     },
     "output_type": "display_data"
    }
   ],
   "source": [
    "sns.countplot(y='subject_race', hue='subject_sex', data=speeding[speeding.arrest_made==True])"
   ]
  },
  {
   "cell_type": "code",
   "execution_count": 114,
   "id": "be27444a",
   "metadata": {},
   "outputs": [
    {
     "data": {
      "text/plain": [
       "<AxesSubplot:xlabel='count', ylabel='subject_race'>"
      ]
     },
     "execution_count": 114,
     "metadata": {},
     "output_type": "execute_result"
    },
    {
     "data": {
      "image/png": "[encoded data removed]",
      "text/plain": [
       "<Figure size 432x288 with 1 Axes>"
      ]
     },
     "metadata": {
      "needs_background": "light"
     },
     "output_type": "display_data"
    }
   ],
   "source": [
    "sns.countplot(y='subject_race', hue='subject_sex', data=speeding[speeding.subject_sex=='female'])"
   ]
  },
  {
   "cell_type": "code",
   "execution_count": 119,
   "id": "af906900",
   "metadata": {
    "scrolled": true
   },
   "outputs": [
    {
     "data": {
      "text/plain": [
       "<AxesSubplot:xlabel='count', ylabel='subject_race'>"
      ]
     },
     "execution_count": 119,
     "metadata": {},
     "output_type": "execute_result"
    },
    {
     "data": {
      "image/png": "[encoded data removed]",
      "text/plain": [
       "<Figure size 432x288 with 1 Axes>"
      ]
     },
     "metadata": {
      "needs_background": "light"
     },
     "output_type": "display_data"
    }
   ],
   "source": [
    "sns.countplot(y='subject_race', hue='arrest_made', data=speeding[speeding.reason_for_search=='Incident to Arrest'])"
   ]
  },
  {
   "cell_type": "code",
   "execution_count": 125,
   "id": "21993a65",
   "metadata": {},
   "outputs": [
    {
     "name": "stderr",
     "output_type": "stream",
     "text": [
      "/opt/anaconda3/lib/python3.9/site-packages/pandas/core/frame.py:4906: SettingWithCopyWarning: \n",
      "A value is trying to be set on a copy of a slice from a DataFrame\n",
      "\n",
      "See the caveats in the documentation: https://pandas.pydata.org/pandas-docs/stable/user_guide/indexing.html#returning-a-view-versus-a-copy\n",
      "  return super().drop(\n"
     ]
    }
   ],
   "source": [
    "speeding.drop(['type', 'reason_for_stop'], axis=1, inplace=True)"
   ]
  },
  {
   "cell_type": "code",
   "execution_count": 130,
   "id": "146ff4cb",
   "metadata": {},
   "outputs": [],
   "source": [
    "x = speeding.isnull().sum()"
   ]
  },
  {
   "cell_type": "code",
   "execution_count": 143,
   "id": "dc47219f",
   "metadata": {},
   "outputs": [
    {
     "data": {
      "text/plain": [
       "dtype('int64')"
      ]
     },
     "execution_count": 143,
     "metadata": {},
     "output_type": "execute_result"
    }
   ],
   "source": [
    "x.dtype"
   ]
  },
  {
   "cell_type": "code",
   "execution_count": 150,
   "id": "2e6a6bc6",
   "metadata": {},
   "outputs": [
    {
     "name": "stdout",
     "output_type": "stream",
     "text": [
      "Index(['outcome', 'contraband_found', 'contraband_drugs', 'contraband_weapons',\n",
      "       'contraband_alcohol', 'contraband_other', 'search_basis',\n",
      "       'reason_for_search', 'vehicle_make', 'vehicle_model',\n",
      "       'raw_SearchResultOne', 'raw_SearchResultTwo', 'raw_SearchResultThree'],\n",
      "      dtype='object')\n"
     ]
    }
   ],
   "source": [
    "s = x[x>500].index\n",
    "print(s)"
   ]
  },
  {
   "cell_type": "code",
   "execution_count": 153,
   "id": "c50b8ed3",
   "metadata": {
    "scrolled": true
   },
   "outputs": [
    {
     "name": "stderr",
     "output_type": "stream",
     "text": [
      "/opt/anaconda3/lib/python3.9/site-packages/pandas/core/frame.py:4906: SettingWithCopyWarning: \n",
      "A value is trying to be set on a copy of a slice from a DataFrame\n",
      "\n",
      "See the caveats in the documentation: https://pandas.pydata.org/pandas-docs/stable/user_guide/indexing.html#returning-a-view-versus-a-copy\n",
      "  return super().drop(\n"
     ]
    }
   ],
   "source": [
    "speeding.drop(s, axis=1, inplace=True)"
   ]
  },
  {
   "cell_type": "code",
   "execution_count": 156,
   "id": "3424fc74",
   "metadata": {},
   "outputs": [
    {
     "name": "stdout",
     "output_type": "stream",
     "text": [
      "<class 'pandas.core.frame.DataFrame'>\n",
      "Int64Index: 268744 entries, 0 to 509679\n",
      "Data columns (total 16 columns):\n",
      " #   Column            Non-Null Count   Dtype         \n",
      "---  ------            --------------   -----         \n",
      " 0   raw_row_number    268744 non-null  int64         \n",
      " 1   date              268744 non-null  datetime64[ns]\n",
      " 2   time              268744 non-null  object        \n",
      " 3   zone              268744 non-null  object        \n",
      " 4   subject_race      268744 non-null  object        \n",
      " 5   subject_sex       268736 non-null  object        \n",
      " 6   department_id     268744 non-null  object        \n",
      " 7   arrest_made       268744 non-null  object        \n",
      " 8   citation_issued   268744 non-null  object        \n",
      " 9   warning_issued    268744 non-null  object        \n",
      " 10  frisk_performed   268744 non-null  object        \n",
      " 11  search_conducted  268744 non-null  bool          \n",
      " 12  raw_BasisForStop  268744 non-null  object        \n",
      " 13  raw_OperatorRace  268744 non-null  object        \n",
      " 14  raw_OperatorSex   268744 non-null  object        \n",
      " 15  raw_ResultOfStop  268744 non-null  object        \n",
      "dtypes: bool(1), datetime64[ns](1), int64(1), object(13)\n",
      "memory usage: 41.1+ MB\n"
     ]
    },
    {
     "name": "stderr",
     "output_type": "stream",
     "text": [
      "/var/folders/g6/qw3t2lbx7x91r1mfyp6k77k00000gn/T/ipykernel_12090/634244338.py:1: SettingWithCopyWarning: \n",
      "A value is trying to be set on a copy of a slice from a DataFrame.\n",
      "Try using .loc[row_indexer,col_indexer] = value instead\n",
      "\n",
      "See the caveats in the documentation: https://pandas.pydata.org/pandas-docs/stable/user_guide/indexing.html#returning-a-view-versus-a-copy\n",
      "  speeding['date'] = pd.to_datetime(speeding['date'])\n"
     ]
    }
   ],
   "source": [
    "speeding['date'] = pd.to_datetime(speeding['date'])\n",
    "speeding.info()"
   ]
  },
  {
   "cell_type": "code",
   "execution_count": 157,
   "id": "936239f2",
   "metadata": {},
   "outputs": [
    {
     "data": {
      "text/html": [
       "<div>\n",
       "<style scoped>\n",
       "    .dataframe tbody tr th:only-of-type {\n",
       "        vertical-align: middle;\n",
       "    }\n",
       "\n",
       "    .dataframe tbody tr th {\n",
       "        vertical-align: top;\n",
       "    }\n",
       "\n",
       "    .dataframe thead th {\n",
       "        text-align: right;\n",
       "    }\n",
       "</style>\n",
       "<table border=\"1\" class=\"dataframe\">\n",
       "  <thead>\n",
       "    <tr style=\"text-align: right;\">\n",
       "      <th></th>\n",
       "      <th>raw_row_number</th>\n",
       "      <th>date</th>\n",
       "      <th>time</th>\n",
       "      <th>zone</th>\n",
       "      <th>subject_race</th>\n",
       "      <th>subject_sex</th>\n",
       "      <th>department_id</th>\n",
       "      <th>arrest_made</th>\n",
       "      <th>citation_issued</th>\n",
       "      <th>warning_issued</th>\n",
       "      <th>frisk_performed</th>\n",
       "      <th>search_conducted</th>\n",
       "      <th>raw_BasisForStop</th>\n",
       "      <th>raw_OperatorRace</th>\n",
       "      <th>raw_OperatorSex</th>\n",
       "      <th>raw_ResultOfStop</th>\n",
       "    </tr>\n",
       "  </thead>\n",
       "  <tbody>\n",
       "    <tr>\n",
       "      <th>0</th>\n",
       "      <td>1</td>\n",
       "      <td>2005-11-22</td>\n",
       "      <td>11:15:00</td>\n",
       "      <td>X3</td>\n",
       "      <td>white</td>\n",
       "      <td>male</td>\n",
       "      <td>200</td>\n",
       "      <td>False</td>\n",
       "      <td>True</td>\n",
       "      <td>False</td>\n",
       "      <td>False</td>\n",
       "      <td>False</td>\n",
       "      <td>SP</td>\n",
       "      <td>W</td>\n",
       "      <td>M</td>\n",
       "      <td>M</td>\n",
       "    </tr>\n",
       "    <tr>\n",
       "      <th>1</th>\n",
       "      <td>2</td>\n",
       "      <td>2005-10-01</td>\n",
       "      <td>12:20:00</td>\n",
       "      <td>X3</td>\n",
       "      <td>white</td>\n",
       "      <td>male</td>\n",
       "      <td>200</td>\n",
       "      <td>False</td>\n",
       "      <td>True</td>\n",
       "      <td>False</td>\n",
       "      <td>False</td>\n",
       "      <td>False</td>\n",
       "      <td>SP</td>\n",
       "      <td>W</td>\n",
       "      <td>M</td>\n",
       "      <td>M</td>\n",
       "    </tr>\n",
       "    <tr>\n",
       "      <th>2</th>\n",
       "      <td>3</td>\n",
       "      <td>2005-10-01</td>\n",
       "      <td>12:30:00</td>\n",
       "      <td>X3</td>\n",
       "      <td>white</td>\n",
       "      <td>female</td>\n",
       "      <td>200</td>\n",
       "      <td>False</td>\n",
       "      <td>True</td>\n",
       "      <td>False</td>\n",
       "      <td>False</td>\n",
       "      <td>False</td>\n",
       "      <td>SP</td>\n",
       "      <td>W</td>\n",
       "      <td>F</td>\n",
       "      <td>M</td>\n",
       "    </tr>\n",
       "    <tr>\n",
       "      <th>3</th>\n",
       "      <td>4</td>\n",
       "      <td>2005-10-01</td>\n",
       "      <td>12:50:00</td>\n",
       "      <td>X3</td>\n",
       "      <td>white</td>\n",
       "      <td>male</td>\n",
       "      <td>200</td>\n",
       "      <td>False</td>\n",
       "      <td>True</td>\n",
       "      <td>False</td>\n",
       "      <td>False</td>\n",
       "      <td>False</td>\n",
       "      <td>SP</td>\n",
       "      <td>W</td>\n",
       "      <td>M</td>\n",
       "      <td>M</td>\n",
       "    </tr>\n",
       "    <tr>\n",
       "      <th>4</th>\n",
       "      <td>5</td>\n",
       "      <td>2005-10-01</td>\n",
       "      <td>13:10:00</td>\n",
       "      <td>X3</td>\n",
       "      <td>white</td>\n",
       "      <td>female</td>\n",
       "      <td>200</td>\n",
       "      <td>False</td>\n",
       "      <td>True</td>\n",
       "      <td>False</td>\n",
       "      <td>False</td>\n",
       "      <td>False</td>\n",
       "      <td>SP</td>\n",
       "      <td>W</td>\n",
       "      <td>F</td>\n",
       "      <td>M</td>\n",
       "    </tr>\n",
       "  </tbody>\n",
       "</table>\n",
       "</div>"
      ],
      "text/plain": [
       "   raw_row_number       date      time zone subject_race subject_sex  \\\n",
       "0               1 2005-11-22  11:15:00   X3        white        male   \n",
       "1               2 2005-10-01  12:20:00   X3        white        male   \n",
       "2               3 2005-10-01  12:30:00   X3        white      female   \n",
       "3               4 2005-10-01  12:50:00   X3        white        male   \n",
       "4               5 2005-10-01  13:10:00   X3        white      female   \n",
       "\n",
       "  department_id arrest_made citation_issued warning_issued frisk_performed  \\\n",
       "0           200       False            True          False           False   \n",
       "1           200       False            True          False           False   \n",
       "2           200       False            True          False           False   \n",
       "3           200       False            True          False           False   \n",
       "4           200       False            True          False           False   \n",
       "\n",
       "   search_conducted raw_BasisForStop raw_OperatorRace raw_OperatorSex  \\\n",
       "0             False               SP                W               M   \n",
       "1             False               SP                W               M   \n",
       "2             False               SP                W               F   \n",
       "3             False               SP                W               M   \n",
       "4             False               SP                W               F   \n",
       "\n",
       "  raw_ResultOfStop  \n",
       "0                M  \n",
       "1                M  \n",
       "2                M  \n",
       "3                M  \n",
       "4                M  "
      ]
     },
     "execution_count": 157,
     "metadata": {},
     "output_type": "execute_result"
    }
   ],
   "source": [
    "speeding.head()"
   ]
  },
  {
   "cell_type": "code",
   "execution_count": 98,
   "id": "9392f628",
   "metadata": {},
   "outputs": [
    {
     "data": {
      "text/plain": [
       "10:00:00    0.004201\n",
       "11:00:00    0.004060\n",
       "09:00:00    0.003870\n",
       "10:30:00    0.003803\n",
       "09:30:00    0.003628\n",
       "              ...   \n",
       "04:51:00    0.000004\n",
       "05:22:00    0.000004\n",
       "04:58:00    0.000004\n",
       "05:23:00    0.000004\n",
       "04:38:00    0.000004\n",
       "Name: time, Length: 1438, dtype: float64"
      ]
     },
     "execution_count": 98,
     "metadata": {},
     "output_type": "execute_result"
    }
   ],
   "source": [
    "speeding['time'].value_counts(normalize=True)"
   ]
  },
  {
   "cell_type": "code",
   "execution_count": null,
   "id": "afddce1f",
   "metadata": {},
   "outputs": [],
   "source": []
  },
  {
   "cell_type": "code",
   "execution_count": null,
   "id": "79e6d42a",
   "metadata": {},
   "outputs": [],
   "source": []
  },
  {
   "cell_type": "code",
   "execution_count": null,
   "id": "6b9e5cc8",
   "metadata": {},
   "outputs": [],
   "source": []
  },
  {
   "cell_type": "code",
   "execution_count": null,
   "id": "0274c9f2",
   "metadata": {},
   "outputs": [],
   "source": []
  },
  {
   "cell_type": "code",
   "execution_count": 44,
   "id": "a4313a20",
   "metadata": {},
   "outputs": [
    {
     "data": {
      "text/plain": [
       "Incident to Arrest                                          0.393987\n",
       "Probable Cause                                              0.116147\n",
       "Odor of Drugs/Alcohol                                       0.105394\n",
       "Reasonable Suspicion                                        0.064238\n",
       "Inventory/Tow                                               0.061986\n",
       "                                                              ...   \n",
       "Reasonable Suspicion|Inventory/Tow|Odor of Drugs/Alcohol    0.000056\n",
       "Odor of Drugs/Alcohol|Inventory/Tow|Reasonable Suspicion    0.000056\n",
       "Terry Frisk|Reasonable Suspicion|Odor of Drugs/Alcohol      0.000056\n",
       "Plain View|Reasonable Suspicion|Odor of Drugs/Alcohol       0.000056\n",
       "Reasonable Suspicion|Incident to Arrest|Probable Cause      0.000056\n",
       "Name: reason_for_search, Length: 188, dtype: float64"
      ]
     },
     "execution_count": 44,
     "metadata": {},
     "output_type": "execute_result"
    }
   ],
   "source": [
    "ri['reason_for_search'].value_counts(normalize=True)"
   ]
  },
  {
   "cell_type": "code",
   "execution_count": null,
   "id": "a0cc3f3f",
   "metadata": {},
   "outputs": [],
   "source": []
  },
  {
   "cell_type": "code",
   "execution_count": 31,
   "id": "c91c326c",
   "metadata": {},
   "outputs": [
    {
     "data": {
      "text/plain": [
       "array([nan, 'W', 'D', 'A', 'O', 'M'], dtype=object)"
      ]
     },
     "execution_count": 31,
     "metadata": {},
     "output_type": "execute_result"
    }
   ],
   "source": [
    "ri['type'].unique()\n",
    "ri['raw_SearchResultTwo'].unique()"
   ]
  },
  {
   "cell_type": "code",
   "execution_count": 6,
   "id": "32adf63a",
   "metadata": {},
   "outputs": [],
   "source": [
    "#drop\n",
    "contraband = ri.dropna(subset=[\"contraband_found\"])"
   ]
  },
  {
   "cell_type": "code",
   "execution_count": 7,
   "id": "5518f348",
   "metadata": {},
   "outputs": [
    {
     "data": {
      "text/plain": [
       "raw_row_number               0\n",
       "date                         0\n",
       "time                         0\n",
       "zone                         0\n",
       "subject_race                 0\n",
       "subject_sex                  0\n",
       "department_id                0\n",
       "type                         0\n",
       "arrest_made                  0\n",
       "citation_issued              0\n",
       "warning_issued               0\n",
       "outcome                    431\n",
       "contraband_found             0\n",
       "contraband_drugs          1774\n",
       "contraband_weapons        5967\n",
       "contraband_alcohol       16545\n",
       "contraband_other             0\n",
       "frisk_performed              0\n",
       "search_conducted             0\n",
       "search_basis                 0\n",
       "reason_for_search            0\n",
       "reason_for_stop              0\n",
       "vehicle_make              5020\n",
       "vehicle_model             8571\n",
       "raw_BasisForStop             0\n",
       "raw_OperatorRace             0\n",
       "raw_OperatorSex              0\n",
       "raw_ResultOfStop             0\n",
       "raw_SearchResultOne          0\n",
       "raw_SearchResultTwo      16943\n",
       "raw_SearchResultThree    17594\n",
       "dtype: int64"
      ]
     },
     "execution_count": 7,
     "metadata": {},
     "output_type": "execute_result"
    }
   ],
   "source": [
    "contraband.isnull().sum()"
   ]
  },
  {
   "cell_type": "code",
   "execution_count": 8,
   "id": "2f9874d8",
   "metadata": {},
   "outputs": [
    {
     "data": {
      "text/plain": [
       "17762"
      ]
     },
     "execution_count": 8,
     "metadata": {},
     "output_type": "execute_result"
    }
   ],
   "source": [
    "contraband['contraband_found'].count()"
   ]
  },
  {
   "cell_type": "code",
   "execution_count": 9,
   "id": "0de5ffd4",
   "metadata": {},
   "outputs": [
    {
     "data": {
      "text/html": [
       "<div>\n",
       "<style scoped>\n",
       "    .dataframe tbody tr th:only-of-type {\n",
       "        vertical-align: middle;\n",
       "    }\n",
       "\n",
       "    .dataframe tbody tr th {\n",
       "        vertical-align: top;\n",
       "    }\n",
       "\n",
       "    .dataframe thead th {\n",
       "        text-align: right;\n",
       "    }\n",
       "</style>\n",
       "<table border=\"1\" class=\"dataframe\">\n",
       "  <thead>\n",
       "    <tr style=\"text-align: right;\">\n",
       "      <th></th>\n",
       "      <th>raw_row_number</th>\n",
       "      <th>date</th>\n",
       "      <th>time</th>\n",
       "      <th>zone</th>\n",
       "      <th>subject_race</th>\n",
       "      <th>subject_sex</th>\n",
       "      <th>department_id</th>\n",
       "      <th>type</th>\n",
       "      <th>arrest_made</th>\n",
       "      <th>citation_issued</th>\n",
       "      <th>...</th>\n",
       "      <th>reason_for_stop</th>\n",
       "      <th>vehicle_make</th>\n",
       "      <th>vehicle_model</th>\n",
       "      <th>raw_BasisForStop</th>\n",
       "      <th>raw_OperatorRace</th>\n",
       "      <th>raw_OperatorSex</th>\n",
       "      <th>raw_ResultOfStop</th>\n",
       "      <th>raw_SearchResultOne</th>\n",
       "      <th>raw_SearchResultTwo</th>\n",
       "      <th>raw_SearchResultThree</th>\n",
       "    </tr>\n",
       "  </thead>\n",
       "  <tbody>\n",
       "    <tr>\n",
       "      <th>297</th>\n",
       "      <td>298</td>\n",
       "      <td>2005-12-06</td>\n",
       "      <td>16:29:00</td>\n",
       "      <td>K2</td>\n",
       "      <td>black</td>\n",
       "      <td>male</td>\n",
       "      <td>900</td>\n",
       "      <td>vehicular</td>\n",
       "      <td>False</td>\n",
       "      <td>True</td>\n",
       "      <td>...</td>\n",
       "      <td>Registration Violation</td>\n",
       "      <td>AUDI</td>\n",
       "      <td>100S</td>\n",
       "      <td>RV</td>\n",
       "      <td>B</td>\n",
       "      <td>M</td>\n",
       "      <td>M</td>\n",
       "      <td>N</td>\n",
       "      <td>NaN</td>\n",
       "      <td>NaN</td>\n",
       "    </tr>\n",
       "    <tr>\n",
       "      <th>304</th>\n",
       "      <td>305</td>\n",
       "      <td>2005-12-01</td>\n",
       "      <td>20:00:00</td>\n",
       "      <td>K3</td>\n",
       "      <td>black</td>\n",
       "      <td>male</td>\n",
       "      <td>300</td>\n",
       "      <td>vehicular</td>\n",
       "      <td>False</td>\n",
       "      <td>True</td>\n",
       "      <td>...</td>\n",
       "      <td>Other Traffic Violation</td>\n",
       "      <td>NaN</td>\n",
       "      <td>NaN</td>\n",
       "      <td>OT</td>\n",
       "      <td>B</td>\n",
       "      <td>M</td>\n",
       "      <td>M</td>\n",
       "      <td>N</td>\n",
       "      <td>NaN</td>\n",
       "      <td>NaN</td>\n",
       "    </tr>\n",
       "    <tr>\n",
       "      <th>305</th>\n",
       "      <td>306</td>\n",
       "      <td>2005-12-01</td>\n",
       "      <td>20:25:00</td>\n",
       "      <td>K3</td>\n",
       "      <td>black</td>\n",
       "      <td>male</td>\n",
       "      <td>300</td>\n",
       "      <td>vehicular</td>\n",
       "      <td>False</td>\n",
       "      <td>True</td>\n",
       "      <td>...</td>\n",
       "      <td>Registration Violation</td>\n",
       "      <td>NaN</td>\n",
       "      <td>NaN</td>\n",
       "      <td>RV</td>\n",
       "      <td>B</td>\n",
       "      <td>M</td>\n",
       "      <td>M</td>\n",
       "      <td>N</td>\n",
       "      <td>NaN</td>\n",
       "      <td>NaN</td>\n",
       "    </tr>\n",
       "    <tr>\n",
       "      <th>306</th>\n",
       "      <td>307</td>\n",
       "      <td>2005-12-01</td>\n",
       "      <td>21:05:00</td>\n",
       "      <td>K3</td>\n",
       "      <td>black</td>\n",
       "      <td>female</td>\n",
       "      <td>300</td>\n",
       "      <td>vehicular</td>\n",
       "      <td>False</td>\n",
       "      <td>True</td>\n",
       "      <td>...</td>\n",
       "      <td>Registration Violation</td>\n",
       "      <td>NaN</td>\n",
       "      <td>NaN</td>\n",
       "      <td>RV</td>\n",
       "      <td>B</td>\n",
       "      <td>F</td>\n",
       "      <td>M</td>\n",
       "      <td>N</td>\n",
       "      <td>NaN</td>\n",
       "      <td>NaN</td>\n",
       "    </tr>\n",
       "    <tr>\n",
       "      <th>316</th>\n",
       "      <td>317</td>\n",
       "      <td>2005-12-07</td>\n",
       "      <td>02:38:00</td>\n",
       "      <td>K3</td>\n",
       "      <td>white</td>\n",
       "      <td>male</td>\n",
       "      <td>300</td>\n",
       "      <td>vehicular</td>\n",
       "      <td>True</td>\n",
       "      <td>False</td>\n",
       "      <td>...</td>\n",
       "      <td>Speeding</td>\n",
       "      <td>NaN</td>\n",
       "      <td>NaN</td>\n",
       "      <td>SP</td>\n",
       "      <td>W</td>\n",
       "      <td>M</td>\n",
       "      <td>P</td>\n",
       "      <td>N</td>\n",
       "      <td>NaN</td>\n",
       "      <td>NaN</td>\n",
       "    </tr>\n",
       "  </tbody>\n",
       "</table>\n",
       "<p>5 rows × 31 columns</p>\n",
       "</div>"
      ],
      "text/plain": [
       "     raw_row_number        date      time zone subject_race subject_sex  \\\n",
       "297             298  2005-12-06  16:29:00   K2        black        male   \n",
       "304             305  2005-12-01  20:00:00   K3        black        male   \n",
       "305             306  2005-12-01  20:25:00   K3        black        male   \n",
       "306             307  2005-12-01  21:05:00   K3        black      female   \n",
       "316             317  2005-12-07  02:38:00   K3        white        male   \n",
       "\n",
       "    department_id       type arrest_made citation_issued  ...  \\\n",
       "297           900  vehicular       False            True  ...   \n",
       "304           300  vehicular       False            True  ...   \n",
       "305           300  vehicular       False            True  ...   \n",
       "306           300  vehicular       False            True  ...   \n",
       "316           300  vehicular        True           False  ...   \n",
       "\n",
       "             reason_for_stop vehicle_make vehicle_model raw_BasisForStop  \\\n",
       "297   Registration Violation         AUDI          100S               RV   \n",
       "304  Other Traffic Violation          NaN           NaN               OT   \n",
       "305   Registration Violation          NaN           NaN               RV   \n",
       "306   Registration Violation          NaN           NaN               RV   \n",
       "316                 Speeding          NaN           NaN               SP   \n",
       "\n",
       "    raw_OperatorRace raw_OperatorSex raw_ResultOfStop raw_SearchResultOne  \\\n",
       "297                B               M                M                   N   \n",
       "304                B               M                M                   N   \n",
       "305                B               M                M                   N   \n",
       "306                B               F                M                   N   \n",
       "316                W               M                P                   N   \n",
       "\n",
       "     raw_SearchResultTwo raw_SearchResultThree  \n",
       "297                  NaN                   NaN  \n",
       "304                  NaN                   NaN  \n",
       "305                  NaN                   NaN  \n",
       "306                  NaN                   NaN  \n",
       "316                  NaN                   NaN  \n",
       "\n",
       "[5 rows x 31 columns]"
      ]
     },
     "execution_count": 9,
     "metadata": {},
     "output_type": "execute_result"
    }
   ],
   "source": [
    "contraband.head()"
   ]
  },
  {
   "cell_type": "code",
   "execution_count": 10,
   "id": "1e99f2b3",
   "metadata": {},
   "outputs": [
    {
     "data": {
      "text/plain": [
       "array([False, True], dtype=object)"
      ]
     },
     "execution_count": 10,
     "metadata": {},
     "output_type": "execute_result"
    }
   ],
   "source": [
    "contraband['contraband_found'].unique()"
   ]
  },
  {
   "cell_type": "code",
   "execution_count": 11,
   "id": "af97e869",
   "metadata": {},
   "outputs": [
    {
     "data": {
      "text/plain": [
       "dtype('O')"
      ]
     },
     "execution_count": 11,
     "metadata": {},
     "output_type": "execute_result"
    }
   ],
   "source": [
    "contraband.date.dtype"
   ]
  },
  {
   "cell_type": "code",
   "execution_count": 12,
   "id": "aa74557f",
   "metadata": {},
   "outputs": [],
   "source": [
    "combined = contraband.date.str.cat(contraband.time, sep=' ')"
   ]
  },
  {
   "cell_type": "code",
   "execution_count": 13,
   "id": "af8d21a6",
   "metadata": {},
   "outputs": [
    {
     "data": {
      "text/plain": [
       "297    2005-12-06 16:29:00\n",
       "304    2005-12-01 20:00:00\n",
       "305    2005-12-01 20:25:00\n",
       "306    2005-12-01 21:05:00\n",
       "316    2005-12-07 02:38:00\n",
       "Name: date, dtype: object"
      ]
     },
     "execution_count": 13,
     "metadata": {},
     "output_type": "execute_result"
    }
   ],
   "source": [
    "combined.head()"
   ]
  },
  {
   "cell_type": "code",
   "execution_count": 14,
   "id": "3e3a6c9f",
   "metadata": {},
   "outputs": [
    {
     "name": "stderr",
     "output_type": "stream",
     "text": [
      "/var/folders/g6/qw3t2lbx7x91r1mfyp6k77k00000gn/T/ipykernel_9018/3833834112.py:1: SettingWithCopyWarning: \n",
      "A value is trying to be set on a copy of a slice from a DataFrame.\n",
      "Try using .loc[row_indexer,col_indexer] = value instead\n",
      "\n",
      "See the caveats in the documentation: https://pandas.pydata.org/pandas-docs/stable/user_guide/indexing.html#returning-a-view-versus-a-copy\n",
      "  contraband['dt'] = pd.to_datetime(combined)\n"
     ]
    }
   ],
   "source": [
    "contraband['dt'] = pd.to_datetime(combined)"
   ]
  },
  {
   "cell_type": "code",
   "execution_count": 15,
   "id": "fd3f19f9",
   "metadata": {},
   "outputs": [],
   "source": [
    "contraband.set_index('dt', inplace=True)"
   ]
  },
  {
   "cell_type": "code",
   "execution_count": 16,
   "id": "18a94084",
   "metadata": {},
   "outputs": [
    {
     "data": {
      "text/plain": [
       "raw_row_number            int64\n",
       "date                     object\n",
       "time                     object\n",
       "zone                     object\n",
       "subject_race             object\n",
       "subject_sex              object\n",
       "department_id            object\n",
       "type                     object\n",
       "arrest_made              object\n",
       "citation_issued          object\n",
       "warning_issued           object\n",
       "outcome                  object\n",
       "contraband_found         object\n",
       "contraband_drugs         object\n",
       "contraband_weapons       object\n",
       "contraband_alcohol       object\n",
       "contraband_other         object\n",
       "frisk_performed          object\n",
       "search_conducted           bool\n",
       "search_basis             object\n",
       "reason_for_search        object\n",
       "reason_for_stop          object\n",
       "vehicle_make             object\n",
       "vehicle_model            object\n",
       "raw_BasisForStop         object\n",
       "raw_OperatorRace         object\n",
       "raw_OperatorSex          object\n",
       "raw_ResultOfStop         object\n",
       "raw_SearchResultOne      object\n",
       "raw_SearchResultTwo      object\n",
       "raw_SearchResultThree    object\n",
       "dtype: object"
      ]
     },
     "execution_count": 16,
     "metadata": {},
     "output_type": "execute_result"
    }
   ],
   "source": [
    "contraband.dtypes"
   ]
  },
  {
   "cell_type": "code",
   "execution_count": 17,
   "id": "081e73f1",
   "metadata": {},
   "outputs": [],
   "source": [
    "ri = contraband.drop([\n",
    "'raw_row_number','date','time','type', 'vehicle_make',\n",
    "       'vehicle_model',\"search_conducted\", 'raw_SearchResultTwo',\n",
    "       'raw_SearchResultThree'], axis = 1)"
   ]
  },
  {
   "cell_type": "code",
   "execution_count": 18,
   "id": "9a7eb912",
   "metadata": {},
   "outputs": [],
   "source": [
    "boo=['arrest_made','citation_issued', 'warning_issued', 'contraband_found','frisk_performed']\n",
    "ri[boo]=ri[boo].astype('bool')"
   ]
  },
  {
   "cell_type": "code",
   "execution_count": 19,
   "id": "2b65eca7",
   "metadata": {},
   "outputs": [],
   "source": [
    "cat=['zone', 'subject_race', 'subject_sex', 'department_id', 'outcome', \n",
    "       'contraband_drugs', 'contraband_weapons', 'contraband_alcohol',\n",
    "       'contraband_other', 'search_basis', 'reason_for_stop',\n",
    "       'raw_BasisForStop', 'raw_OperatorRace', 'raw_OperatorSex',\n",
    "       'raw_ResultOfStop', 'raw_SearchResultOne']\n",
    "ri[cat] = ri[cat].astype('category')"
   ]
  },
  {
   "cell_type": "code",
   "execution_count": 20,
   "id": "0fa6c228",
   "metadata": {},
   "outputs": [],
   "source": [
    "all=['zone', 'subject_race', 'subject_sex', 'department_id', 'outcome', \n",
    "       'contraband_drugs', 'contraband_weapons', 'contraband_alcohol',\n",
    "       'contraband_other', 'search_basis', 'reason_for_stop',\n",
    "       'raw_BasisForStop', 'raw_OperatorRace', 'raw_OperatorSex',\n",
    "       'raw_ResultOfStop', 'raw_SearchResultOne','arrest_made','citation_issued', 'warning_issued', 'contraband_found','frisk_performed','reason_for_search']\n",
    "clean = ri[all]"
   ]
  },
  {
   "cell_type": "code",
   "execution_count": 21,
   "id": "150efa05",
   "metadata": {},
   "outputs": [
    {
     "data": {
      "text/html": [
       "<div>\n",
       "<style scoped>\n",
       "    .dataframe tbody tr th:only-of-type {\n",
       "        vertical-align: middle;\n",
       "    }\n",
       "\n",
       "    .dataframe tbody tr th {\n",
       "        vertical-align: top;\n",
       "    }\n",
       "\n",
       "    .dataframe thead th {\n",
       "        text-align: right;\n",
       "    }\n",
       "</style>\n",
       "<table border=\"1\" class=\"dataframe\">\n",
       "  <thead>\n",
       "    <tr style=\"text-align: right;\">\n",
       "      <th></th>\n",
       "      <th>zone</th>\n",
       "      <th>subject_race</th>\n",
       "      <th>subject_sex</th>\n",
       "      <th>department_id</th>\n",
       "      <th>outcome</th>\n",
       "      <th>contraband_drugs</th>\n",
       "      <th>contraband_weapons</th>\n",
       "      <th>contraband_alcohol</th>\n",
       "      <th>contraband_other</th>\n",
       "      <th>search_basis</th>\n",
       "      <th>...</th>\n",
       "      <th>raw_OperatorRace</th>\n",
       "      <th>raw_OperatorSex</th>\n",
       "      <th>raw_ResultOfStop</th>\n",
       "      <th>raw_SearchResultOne</th>\n",
       "      <th>arrest_made</th>\n",
       "      <th>citation_issued</th>\n",
       "      <th>warning_issued</th>\n",
       "      <th>contraband_found</th>\n",
       "      <th>frisk_performed</th>\n",
       "      <th>reason_for_search</th>\n",
       "    </tr>\n",
       "  </thead>\n",
       "  <tbody>\n",
       "    <tr>\n",
       "      <th>count</th>\n",
       "      <td>17762</td>\n",
       "      <td>17762</td>\n",
       "      <td>17762</td>\n",
       "      <td>17762</td>\n",
       "      <td>17331</td>\n",
       "      <td>15988</td>\n",
       "      <td>11795</td>\n",
       "      <td>1217</td>\n",
       "      <td>17762</td>\n",
       "      <td>17762</td>\n",
       "      <td>...</td>\n",
       "      <td>17762</td>\n",
       "      <td>17762</td>\n",
       "      <td>17762</td>\n",
       "      <td>17762</td>\n",
       "      <td>17762</td>\n",
       "      <td>17762</td>\n",
       "      <td>17762</td>\n",
       "      <td>17762</td>\n",
       "      <td>17762</td>\n",
       "      <td>17762</td>\n",
       "    </tr>\n",
       "    <tr>\n",
       "      <th>unique</th>\n",
       "      <td>6</td>\n",
       "      <td>5</td>\n",
       "      <td>2</td>\n",
       "      <td>16</td>\n",
       "      <td>3</td>\n",
       "      <td>2</td>\n",
       "      <td>2</td>\n",
       "      <td>2</td>\n",
       "      <td>2</td>\n",
       "      <td>3</td>\n",
       "      <td>...</td>\n",
       "      <td>7</td>\n",
       "      <td>2</td>\n",
       "      <td>6</td>\n",
       "      <td>6</td>\n",
       "      <td>2</td>\n",
       "      <td>2</td>\n",
       "      <td>2</td>\n",
       "      <td>2</td>\n",
       "      <td>2</td>\n",
       "      <td>188</td>\n",
       "    </tr>\n",
       "    <tr>\n",
       "      <th>top</th>\n",
       "      <td>X4</td>\n",
       "      <td>white</td>\n",
       "      <td>male</td>\n",
       "      <td>500</td>\n",
       "      <td>citation</td>\n",
       "      <td>False</td>\n",
       "      <td>False</td>\n",
       "      <td>True</td>\n",
       "      <td>False</td>\n",
       "      <td>other</td>\n",
       "      <td>...</td>\n",
       "      <td>W</td>\n",
       "      <td>M</td>\n",
       "      <td>M</td>\n",
       "      <td>N</td>\n",
       "      <td>False</td>\n",
       "      <td>True</td>\n",
       "      <td>False</td>\n",
       "      <td>False</td>\n",
       "      <td>True</td>\n",
       "      <td>Incident to Arrest</td>\n",
       "    </tr>\n",
       "    <tr>\n",
       "      <th>freq</th>\n",
       "      <td>6410</td>\n",
       "      <td>9968</td>\n",
       "      <td>15303</td>\n",
       "      <td>5514</td>\n",
       "      <td>10513</td>\n",
       "      <td>11223</td>\n",
       "      <td>11296</td>\n",
       "      <td>1120</td>\n",
       "      <td>16771</td>\n",
       "      <td>9035</td>\n",
       "      <td>...</td>\n",
       "      <td>9968</td>\n",
       "      <td>15303</td>\n",
       "      <td>10513</td>\n",
       "      <td>11183</td>\n",
       "      <td>11575</td>\n",
       "      <td>10513</td>\n",
       "      <td>17131</td>\n",
       "      <td>11183</td>\n",
       "      <td>9322</td>\n",
       "      <td>6998</td>\n",
       "    </tr>\n",
       "  </tbody>\n",
       "</table>\n",
       "<p>4 rows × 22 columns</p>\n",
       "</div>"
      ],
      "text/plain": [
       "         zone subject_race subject_sex  department_id   outcome  \\\n",
       "count   17762        17762       17762          17762     17331   \n",
       "unique      6            5           2             16         3   \n",
       "top        X4        white        male            500  citation   \n",
       "freq     6410         9968       15303           5514     10513   \n",
       "\n",
       "       contraband_drugs contraband_weapons contraband_alcohol  \\\n",
       "count             15988              11795               1217   \n",
       "unique                2                  2                  2   \n",
       "top               False              False               True   \n",
       "freq              11223              11296               1120   \n",
       "\n",
       "       contraband_other search_basis  ... raw_OperatorRace raw_OperatorSex  \\\n",
       "count             17762        17762  ...            17762           17762   \n",
       "unique                2            3  ...                7               2   \n",
       "top               False        other  ...                W               M   \n",
       "freq              16771         9035  ...             9968           15303   \n",
       "\n",
       "       raw_ResultOfStop raw_SearchResultOne arrest_made citation_issued  \\\n",
       "count             17762               17762       17762           17762   \n",
       "unique                6                   6           2               2   \n",
       "top                   M                   N       False            True   \n",
       "freq              10513               11183       11575           10513   \n",
       "\n",
       "       warning_issued contraband_found frisk_performed   reason_for_search  \n",
       "count           17762            17762           17762               17762  \n",
       "unique              2                2               2                 188  \n",
       "top             False            False            True  Incident to Arrest  \n",
       "freq            17131            11183            9322                6998  \n",
       "\n",
       "[4 rows x 22 columns]"
      ]
     },
     "execution_count": 21,
     "metadata": {},
     "output_type": "execute_result"
    }
   ],
   "source": [
    "clean.describe()"
   ]
  },
  {
   "cell_type": "code",
   "execution_count": 23,
   "id": "8ee9b4e4",
   "metadata": {},
   "outputs": [
    {
     "data": {
      "image/png": "[encoded data removed]",
      "text/plain": [
       "<Figure size 432x288 with 1 Axes>"
      ]
     },
     "metadata": {
      "needs_background": "light"
     },
     "output_type": "display_data"
    }
   ],
   "source": [
    "import matplotlib.pyplot as plt\n",
    "clean['subject_race'].value_counts(normalize=True).plot(kind='bar');plt.show()"
   ]
  },
  {
   "cell_type": "code",
   "execution_count": 24,
   "id": "b27dc30d",
   "metadata": {},
   "outputs": [
    {
     "data": {
      "text/plain": [
       "(17762, 22)"
      ]
     },
     "execution_count": 24,
     "metadata": {},
     "output_type": "execute_result"
    }
   ],
   "source": [
    "ri.shape"
   ]
  },
  {
   "cell_type": "code",
   "execution_count": null,
   "id": "8a721fe3",
   "metadata": {},
   "outputs": [],
   "source": [
    "# Reset the index of 'ri'\n",
    "ri.reset_index(inplace=True)\n",
    "\n",
    "# Examine the head of 'ri'\n",
    "print(ri.head())\n",
    "\n",
    "# Create a DataFrame from the 'DATE' and 'rating' columns\n",
    "weather_rating = weather[['DATE','rating']]\n",
    "\n",
    "# Examine the head of 'weather_rating'\n",
    "print(weather_rating.head())"
   ]
  },
  {
   "cell_type": "code",
   "execution_count": null,
   "id": "fb988f52",
   "metadata": {},
   "outputs": [],
   "source": [
    "# Examine the shape of 'ri'\n",
    "print(ri.shape)\n",
    "\n",
    "# Merge 'ri' and 'weather_rating' using a left join\n",
    "ri_weather = pd.merge(left=ri, right=weather_rating, left_on='stop_date', right_on='DATE', how='left')\n",
    "\n",
    "# Examine the shape of 'ri_weather'\n",
    "print(ri_weather.shape)\n",
    "\n",
    "# Set 'stop_datetime' as the index of 'ri_weather'\n",
    "ri_weather.set_index('stop_datetime', inplace=True)"
   ]
  },
  {
   "cell_type": "code",
   "execution_count": null,
   "id": "9e897d06",
   "metadata": {},
   "outputs": [],
   "source": []
  },
  {
   "cell_type": "code",
   "execution_count": null,
   "id": "f23bfdc3",
   "metadata": {},
   "outputs": [],
   "source": []
  },
  {
   "cell_type": "code",
   "execution_count": null,
   "id": "96225371",
   "metadata": {},
   "outputs": [],
   "source": []
  }
 ],
 "metadata": {
  "kernelspec": {
   "display_name": "Python 3 (ipykernel)",
   "language": "python",
   "name": "python3"
  },
  "language_info": {
   "codemirror_mode": {
    "name": "ipython",
    "version": 3
   },
   "file_extension": ".py",
   "mimetype": "text/x-python",
   "name": "python",
   "nbconvert_exporter": "python",
   "pygments_lexer": "ipython3",
   "version": "3.9.7"
  }
 },
 "nbformat": 4,
 "nbformat_minor": 5
}
