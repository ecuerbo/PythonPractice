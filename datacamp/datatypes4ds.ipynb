{
 "cells": [
  {
   "cell_type": "code",
   "execution_count": 1,
   "id": "f8028196",
   "metadata": {},
   "outputs": [
    {
     "name": "stdout",
     "output_type": "stream",
     "text": [
      "['Ximena', 'Aliza', 'Ayden', 'Calvin', 'Rowen', 'Sandeep']\n",
      "['Ximena', 'Ayden', 'Calvin', 'Rowen', 'Sandeep']\n"
     ]
    }
   ],
   "source": [
    "# Create a list containing the names: baby_names\n",
    "baby_names = ['Ximena', 'Aliza', 'Ayden','Calvin']\n",
    "\n",
    "# Extend baby_names with 'Rowen' and 'Sandeep'\n",
    "baby_names.extend(['Rowen','Sandeep'])\n",
    "\n",
    "# Print baby_names\n",
    "print(baby_names)\n",
    "\n",
    "# Find the position of 'Aliza': position\n",
    "position = baby_names.index('Aliza')\n",
    "\n",
    "# Remove 'Aliza' from baby_names\n",
    "baby_names.pop(position)\n",
    "\n",
    "# Print baby_names\n",
    "print(baby_names)"
   ]
  },
  {
   "cell_type": "code",
   "execution_count": null,
   "id": "4dc42483",
   "metadata": {},
   "outputs": [],
   "source": [
    "# Create the empty list: baby_names\n",
    "baby_names = []\n",
    "\n",
    "# Loop over records \n",
    "for row in records:\n",
    "    # Add the name to the list\n",
    "    baby_names.append(row[3])\n",
    "    \n",
    "# Sort the names in alphabetical order\n",
    "for name in sorted(baby_names):\n",
    "    # Print each name\n",
    "    print(name)"
   ]
  },
  {
   "cell_type": "code",
   "execution_count": null,
   "id": "eebcfc9b",
   "metadata": {},
   "outputs": [],
   "source": [
    "# Pair up the girl and boy names: pairs\n",
    "pairs = zip(girl_names, boy_names)\n",
    "\n",
    "# Iterate over pairs\n",
    "for idx, pair in enumerate(pairs)\n",
    "    # Unpack pair: girl_name, boy_name\n",
    "    girl_name, boy_name\n",
    "    # Print the rank and names associated with each rank\n",
    "    print('Rank {}: {} and {}'.format(idx, girl_name, boy_name))"
   ]
  },
  {
   "cell_type": "code",
   "execution_count": null,
   "id": "f963992a",
   "metadata": {},
   "outputs": [],
   "source": [
    "# Create the normal variable: normal\n",
    "normal = ('simple')\n",
    "\n",
    "# Create the mistaken variable: error\n",
    "error = ('trailing comma',)\n",
    "\n",
    "# Print the types of the variables\n",
    "print(type(normal))\n",
    "print(type(error))"
   ]
  },
  {
   "cell_type": "code",
   "execution_count": 4,
   "id": "5d882b1f",
   "metadata": {},
   "outputs": [
    {
     "name": "stdout",
     "output_type": "stream",
     "text": [
      "5.294988344048205\n"
     ]
    }
   ],
   "source": [
    "i=262.57\n",
    "p=4958.84\n",
    "r=i*100/p\n",
    "print(r)"
   ]
  },
  {
   "cell_type": "code",
   "execution_count": 6,
   "id": "a495c3b5",
   "metadata": {},
   "outputs": [
    {
     "data": {
      "text/plain": [
       "44.86"
      ]
     },
     "execution_count": 6,
     "metadata": {},
     "output_type": "execute_result"
    }
   ],
   "source": [
    "import numpy as np\n",
    "x=[45,44.8,44.8,44.7,45]\n",
    "np.mean(x)"
   ]
  },
  {
   "cell_type": "code",
   "execution_count": null,
   "id": "867a298c",
   "metadata": {},
   "outputs": [],
   "source": [
    "# Find the union: all_names\n",
    "all_names = baby_names_2011.union(baby_names_2014)\n",
    "\n",
    "# Print the count of names in all_names\n",
    "print(len(all_names))\n",
    "\n",
    "# Find the intersection: overlapping_names\n",
    "overlapping_names = baby_names_2011.intersection(baby_names_2014)\n",
    "\n",
    "# Print the count of names in overlapping_names\n",
    "print(len(overlapping_names))"
   ]
  },
  {
   "cell_type": "code",
   "execution_count": null,
   "id": "61b95fe7",
   "metadata": {},
   "outputs": [],
   "source": [
    "# Create the empty set: baby_names_2011\n",
    "baby_names_2011 = set()\n",
    "# Loop over records and add the names from 2011 to the baby_names_2011 set\n",
    "for row in records:\n",
    "    # Check if the first column is '2011'\n",
    "   if row[0] == '2011'\n",
    "        # Add the fourth column to the set\n",
    "        baby_names_2011.add(row[3])\n",
    "\n",
    "# Find the difference between 2011 and 2014: differences\n",
    "differences = baby_names_2011.difference(baby_names_2014)\n",
    "\n",
    "# Print the differences\n",
    "print(differences)"
   ]
  },
  {
   "cell_type": "markdown",
   "id": "4bb43efd",
   "metadata": {},
   "source": [
    "**CHAPTER 2**"
   ]
  },
  {
   "cell_type": "code",
   "execution_count": null,
   "id": "0932b34b",
   "metadata": {},
   "outputs": [],
   "source": [
    "# Create an empty dictionary: names_by_rank\n",
    "names_by_rank = {}\n",
    "\n",
    "# Loop over the girl names\n",
    "for rank, names in female_baby_names_2012.items():\n",
    "    # Add each name to the names_by_rank dictionary using rank as the key\n",
    "    names_by_rank[rank] = names\n",
    "    \n",
    "# Sort the names_by_rank dict by rank in descending order and slice the first 10 items\n",
    "for rank in sorted(names_by_rank, reverse=True)[:10]:\n",
    "    # Print each item\n",
    "    print(names_by_rank[rank])"
   ]
  },
  {
   "cell_type": "code",
   "execution_count": null,
   "id": "8d3f33e9",
   "metadata": {},
   "outputs": [],
   "source": [
    "# Safely print rank 7 from the names dictionary\n",
    "print(names.get(7))\n",
    "\n",
    "# Safely print the type of rank 100 from the names dictionary\n",
    "print(type(names.get(100)))\n",
    "\n",
    "# Safely print rank 105 from the names dictionary or 'Not Found'\n",
    "print(names.get(105,'Not Found'))"
   ]
  },
  {
   "cell_type": "code",
   "execution_count": null,
   "id": "90866887",
   "metadata": {},
   "outputs": [],
   "source": [
    "# Print a list of keys from the boy_names dictionary\n",
    "print(boy_names.keys())\n",
    "\n",
    "# Print a list of keys from the boy_names dictionary for the year 2013\n",
    "print(boy_names[2013].keys())\n",
    "\n",
    "# Loop over the dictionary\n",
    "for year in boy_names:\n",
    "    # Safely print the year and the third ranked name or 'Unknown'\n",
    "    print(year, boy_names[year].get(3, 'Unknown'))"
   ]
  },
  {
   "cell_type": "code",
   "execution_count": 14,
   "id": "9fc691c4",
   "metadata": {},
   "outputs": [],
   "source": [
    "import pandas as pd\n",
    "baby = 'https://assets.datacamp.com/production/repositories/906/datasets/8043b235dab7ca9b3667df9195459bc6bf754c2a/baby_names.csv'\n",
    "crime = 'https://assets.datacamp.com/production/repositories/906/datasets/7fe0304955dbf05e3a0d57c8959578dcef479e81/crime_sampler.csv'\n",
    "cta_stat ='https://assets.datacamp.com/production/repositories/906/datasets/b7806a5db41c23931fd1adf02af54ac10c15e61c/cta_daily_station_totals.csv'\n",
    "cta_sum = 'https://assets.datacamp.com/production/repositories/906/datasets/0c8af86b914fd9edfd3d907b6006fefaadaf827b/cta_daily_summary_totals.csv'\n",
    "#bab, crim, stat, sum_"
   ]
  },
  {
   "cell_type": "code",
   "execution_count": 15,
   "id": "816b4442",
   "metadata": {},
   "outputs": [
    {
     "data": {
      "text/html": [
       "<div>\n",
       "<style scoped>\n",
       "    .dataframe tbody tr th:only-of-type {\n",
       "        vertical-align: middle;\n",
       "    }\n",
       "\n",
       "    .dataframe tbody tr th {\n",
       "        vertical-align: top;\n",
       "    }\n",
       "\n",
       "    .dataframe thead th {\n",
       "        text-align: right;\n",
       "    }\n",
       "</style>\n",
       "<table border=\"1\" class=\"dataframe\">\n",
       "  <thead>\n",
       "    <tr style=\"text-align: right;\">\n",
       "      <th></th>\n",
       "      <th>BRITH_YEAR</th>\n",
       "      <th>GENDER</th>\n",
       "      <th>ETHNICTY</th>\n",
       "      <th>NAME</th>\n",
       "      <th>COUNT</th>\n",
       "      <th>RANK</th>\n",
       "    </tr>\n",
       "  </thead>\n",
       "  <tbody>\n",
       "    <tr>\n",
       "      <th>0</th>\n",
       "      <td>2011</td>\n",
       "      <td>FEMALE</td>\n",
       "      <td>HISPANIC</td>\n",
       "      <td>GERALDINE</td>\n",
       "      <td>13</td>\n",
       "      <td>75</td>\n",
       "    </tr>\n",
       "    <tr>\n",
       "      <th>1</th>\n",
       "      <td>2011</td>\n",
       "      <td>FEMALE</td>\n",
       "      <td>HISPANIC</td>\n",
       "      <td>GIA</td>\n",
       "      <td>21</td>\n",
       "      <td>67</td>\n",
       "    </tr>\n",
       "    <tr>\n",
       "      <th>2</th>\n",
       "      <td>2011</td>\n",
       "      <td>FEMALE</td>\n",
       "      <td>HISPANIC</td>\n",
       "      <td>GIANNA</td>\n",
       "      <td>49</td>\n",
       "      <td>42</td>\n",
       "    </tr>\n",
       "    <tr>\n",
       "      <th>3</th>\n",
       "      <td>2011</td>\n",
       "      <td>FEMALE</td>\n",
       "      <td>HISPANIC</td>\n",
       "      <td>GISELLE</td>\n",
       "      <td>38</td>\n",
       "      <td>51</td>\n",
       "    </tr>\n",
       "    <tr>\n",
       "      <th>4</th>\n",
       "      <td>2011</td>\n",
       "      <td>FEMALE</td>\n",
       "      <td>HISPANIC</td>\n",
       "      <td>GRACE</td>\n",
       "      <td>36</td>\n",
       "      <td>53</td>\n",
       "    </tr>\n",
       "  </tbody>\n",
       "</table>\n",
       "</div>"
      ],
      "text/plain": [
       "   BRITH_YEAR  GENDER  ETHNICTY       NAME  COUNT  RANK\n",
       "0        2011  FEMALE  HISPANIC  GERALDINE     13    75\n",
       "1        2011  FEMALE  HISPANIC        GIA     21    67\n",
       "2        2011  FEMALE  HISPANIC     GIANNA     49    42\n",
       "3        2011  FEMALE  HISPANIC    GISELLE     38    51\n",
       "4        2011  FEMALE  HISPANIC      GRACE     36    53"
      ]
     },
     "execution_count": 15,
     "metadata": {},
     "output_type": "execute_result"
    }
   ],
   "source": [
    "bab.head()"
   ]
  },
  {
   "cell_type": "code",
   "execution_count": 67,
   "id": "97b2ad26",
   "metadata": {
    "scrolled": true
   },
   "outputs": [],
   "source": [
    "bab2011 = set((bab[bab['BRITH_YEAR']==2011]['NAME']).str.lower())\n",
    "bab2014 = set((bab[bab['BRITH_YEAR']==2014]['NAME']).str.upper())"
   ]
  },
  {
   "cell_type": "code",
   "execution_count": 74,
   "id": "2c7808f5",
   "metadata": {},
   "outputs": [
    {
     "name": "stdout",
     "output_type": "stream",
     "text": [
      "2447\n",
      "0\n"
     ]
    }
   ],
   "source": [
    "all_names = bab2011.union(bab2014)\n",
    "print(len(all_names))\n",
    "overlapping = bab2011.intersection(bab2014)\n",
    "print(len(overlapping))"
   ]
  },
  {
   "cell_type": "code",
   "execution_count": 73,
   "id": "5506a4be",
   "metadata": {},
   "outputs": [
    {
     "name": "stdout",
     "output_type": "stream",
     "text": [
      "set()\n"
     ]
    }
   ],
   "source": [
    "baby_names_2011 = set()\n",
    "for row in bab:\n",
    "    if row[0] == '2011':\n",
    "        baby_names_2011.add(row[3])\n",
    "dif = baby_names_2011.difference(bab2014)\n",
    "print(dif)"
   ]
  },
  {
   "cell_type": "code",
   "execution_count": 78,
   "id": "c5c7d0a6",
   "metadata": {},
   "outputs": [
    {
     "name": "stdout",
     "output_type": "stream",
     "text": [
      "YARA\n",
      "TZIVIA\n",
      "YITTA\n",
      "TZIPORA\n",
      "SHAINA\n",
      "SIMA\n",
      "SYLVIA\n",
      "YEHUDIS\n",
      "VERA\n",
      "SLOANE\n"
     ]
    }
   ],
   "source": [
    "female_baby2012 = {44: 'RIVKY', 26: 'JULIA', 43: 'TOBY', 37: 'MALKY', 19: 'ABIGAIL', 25: 'ZOE', 42: 'PENELOPE', 39: 'MALKA', 33: 'SHAINDY', 36: 'MADISON', 35: 'GITTY', 32: 'STELLA', 41: 'MADELINE', 7: 'CHAYA', 38: 'EVA', 18: 'ELIZABETH', 30: 'GRACE', 34: 'FAIGY', 14: 'SARA', 45: 'NICOLE', 20: 'ALEXANDRA', 12: 'EMILY', 29: 'HANNAH', 1: 'EMMA', 40: 'ALEXA', 28: 'GABRIELLA', 24: 'RIVKA', 4: 'SOPHIA', 5: 'ESTHER', 27: 'SOPHIE', 22: 'LILY', 10: 'MIRIAM', 8: 'AVA', 9: 'CHANA', 13: 'MIA', 6: 'RACHEL', 17: 'MAYA', 31: 'AVERY', 11: 'ELLA', 23: 'SOFIA', 3: 'SARAH', 21: 'VICTORIA', 16: 'ISABELLA', 2: 'LEAH', 15: 'CHARLOTTE', 46: 'VIOLET', 47: 'NATALIE', 69: 'LILIANA', 62: 'SURY', 71: 'SAVANNAH', 75: 'VERA', 72: 'VANESSA', 48: 'REBECCA', 77: 'SYLVIA', 67: 'TAYLOR', 57: 'VALENTINA', 73: 'SIMONE', 79: 'SHAINA', 53: 'RILEY', 64: 'YIDES', 78: 'SIMA', 51: 'NINA', 74: 'SLOANE', 63: 'NAOMI', 70: 'YAEL', 55: 'SYDNEY', 68: 'ZOEY', 76: 'YEHUDIS', 60: 'FRANCESCA', 49: 'MARIA', 61: 'ZISSY', 65: 'SKYLAR', 59: 'JOSEPHINE', 66: 'VERONICA', 50: 'YITTY', 58: 'TALIA', 52: 'KATHERINE', 54: 'SIENNA', 56: 'VIVIENNE', 81: 'YITTA', 83: 'YARA', 82: 'TZIVIA', 80: 'TZIPORA'}\n",
    "\n",
    "names_by_rank = {}\n",
    "for rank, names in female_baby2012.items():\n",
    "    names_by_rank[rank] = names\n",
    "\n",
    "for rank in sorted(names_by_rank, reverse=True)[:10]:\n",
    "    print(names_by_rank[rank])"
   ]
  },
  {
   "cell_type": "code",
   "execution_count": 89,
   "id": "89f77bb9",
   "metadata": {},
   "outputs": [
    {
     "name": "stdout",
     "output_type": "stream",
     "text": [
      "AVA\n"
     ]
    }
   ],
   "source": [
    "names = {44: 'RIVKY', 26: 'JULIA', 43: 'TOBY', 37: 'MALKY', 19: 'ABIGAIL', 25: 'ZOE', 42: 'PENELOPE', 39: 'MALKA', 33: 'SHAINDY', 36: 'MADISON', 35: 'GITTY', 32: 'STELLA', 41: 'MADELINE', 7: 'CHAYA', 38: 'EVA', 18: 'ELIZABETH', 30: 'GRACE', 34: 'FAIGY', 14: 'SARA', 45: 'NICOLE', 20: 'ALEXANDRA', 12: 'EMILY', 29: 'HANNAH', 1: 'EMMA', 40: 'ALEXA', 28: 'GABRIELLA', 24: 'RIVKA', 4: 'SOPHIA', 5: 'ESTHER', 27: 'SOPHIE', 22: 'LILY', 10: 'MIRIAM', 8: 'AVA', 9: 'CHANA', 13: 'MIA', 6: 'RACHEL', 17: 'MAYA', 31: 'AVERY', 11: 'ELLA', 23: 'SOFIA', 3: 'SARAH', 21: 'VICTORIA', 16: 'ISABELLA', 2: 'LEAH', 15: 'CHARLOTTE', 46: 'VIOLET', 47: 'NATALIE', 69: 'LILIANA', 62: 'SURY', 71: 'SAVANNAH', 75: 'VERA', 72: 'VANESSA', 48: 'REBECCA', 77: 'SYLVIA', 67: 'TAYLOR', 57: 'VALENTINA', 73: 'SIMONE', 79: 'SHAINA', 53: 'RILEY', 64: 'YIDES', 78: 'SIMA', 51: 'NINA', 74: 'SLOANE', 63: 'NAOMI', 70: 'YAEL', 55: 'SYDNEY', 68: 'ZOEY', 76: 'YEHUDIS', 60: 'FRANCESCA', 49: 'MARIA', 61: 'ZISSY', 65: 'SKYLAR', 59: 'JOSEPHINE', 66: 'VERONICA', 50: 'YITTY', 58: 'TALIA', 52: 'KATHERINE', 54: 'SIENNA', 56: 'VIVIENNE', 81: 'YITTA', 83: 'YARA', 82: 'TZIVIA', 80: 'TZIPORA'}\n",
    "print(names.get(8))"
   ]
  },
  {
   "cell_type": "code",
   "execution_count": 90,
   "id": "a5359188",
   "metadata": {},
   "outputs": [
    {
     "name": "stdout",
     "output_type": "stream",
     "text": [
      "None\n"
     ]
    }
   ],
   "source": [
    "print(names.get('JOAN'))"
   ]
  },
  {
   "cell_type": "code",
   "execution_count": 92,
   "id": "cc5225d3",
   "metadata": {},
   "outputs": [
    {
     "name": "stdout",
     "output_type": "stream",
     "text": [
      "NOT FOUND\n"
     ]
    }
   ],
   "source": [
    "print(names.get('JULIA',\"NOT FOUND\"))"
   ]
  },
  {
   "cell_type": "code",
   "execution_count": null,
   "id": "b3fecd88",
   "metadata": {},
   "outputs": [],
   "source": []
  }
 ],
 "metadata": {
  "kernelspec": {
   "display_name": "Python 3 (ipykernel)",
   "language": "python",
   "name": "python3"
  },
  "language_info": {
   "codemirror_mode": {
    "name": "ipython",
    "version": 3
   },
   "file_extension": ".py",
   "mimetype": "text/x-python",
   "name": "python",
   "nbconvert_exporter": "python",
   "pygments_lexer": "ipython3",
   "version": "3.9.7"
  }
 },
 "nbformat": 4,
 "nbformat_minor": 5
}
