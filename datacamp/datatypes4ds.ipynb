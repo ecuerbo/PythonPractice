{
 "cells": [
  {
   "cell_type": "code",
   "execution_count": 1,
   "id": "f8028196",
   "metadata": {},
   "outputs": [
    {
     "name": "stdout",
     "output_type": "stream",
     "text": [
      "['Ximena', 'Aliza', 'Ayden', 'Calvin', 'Rowen', 'Sandeep']\n",
      "['Ximena', 'Ayden', 'Calvin', 'Rowen', 'Sandeep']\n"
     ]
    }
   ],
   "source": [
    "# Create a list containing the names: baby_names\n",
    "baby_names = ['Ximena', 'Aliza', 'Ayden','Calvin']\n",
    "\n",
    "# Extend baby_names with 'Rowen' and 'Sandeep'\n",
    "baby_names.extend(['Rowen','Sandeep'])\n",
    "\n",
    "# Print baby_names\n",
    "print(baby_names)\n",
    "\n",
    "# Find the position of 'Aliza': position\n",
    "position = baby_names.index('Aliza')\n",
    "\n",
    "# Remove 'Aliza' from baby_names\n",
    "baby_names.pop(position)\n",
    "\n",
    "# Print baby_names\n",
    "print(baby_names)"
   ]
  },
  {
   "cell_type": "code",
   "execution_count": null,
   "id": "4dc42483",
   "metadata": {},
   "outputs": [],
   "source": [
    "# Create the empty list: baby_names\n",
    "baby_names = []\n",
    "\n",
    "# Loop over records \n",
    "for row in records:\n",
    "    # Add the name to the list\n",
    "    baby_names.append(row[3])\n",
    "    \n",
    "# Sort the names in alphabetical order\n",
    "for name in sorted(baby_names):\n",
    "    # Print each name\n",
    "    print(name)"
   ]
  },
  {
   "cell_type": "code",
   "execution_count": null,
   "id": "eebcfc9b",
   "metadata": {},
   "outputs": [],
   "source": [
    "# Pair up the girl and boy names: pairs\n",
    "pairs = zip(girl_names, boy_names)\n",
    "\n",
    "# Iterate over pairs\n",
    "for idx, pair in enumerate(pairs)\n",
    "    # Unpack pair: girl_name, boy_name\n",
    "    girl_name, boy_name\n",
    "    # Print the rank and names associated with each rank\n",
    "    print('Rank {}: {} and {}'.format(idx, girl_name, boy_name))"
   ]
  },
  {
   "cell_type": "code",
   "execution_count": null,
   "id": "f963992a",
   "metadata": {},
   "outputs": [],
   "source": [
    "# Create the normal variable: normal\n",
    "normal = ('simple')\n",
    "\n",
    "# Create the mistaken variable: error\n",
    "error = ('trailing comma',)\n",
    "\n",
    "# Print the types of the variables\n",
    "print(type(normal))\n",
    "print(type(error))"
   ]
  },
  {
   "cell_type": "code",
   "execution_count": 4,
   "id": "5d882b1f",
   "metadata": {},
   "outputs": [
    {
     "name": "stdout",
     "output_type": "stream",
     "text": [
      "5.294988344048205\n"
     ]
    }
   ],
   "source": [
    "i=262.57\n",
    "p=4958.84\n",
    "r=i*100/p\n",
    "print(r)"
   ]
  },
  {
   "cell_type": "code",
   "execution_count": 6,
   "id": "a495c3b5",
   "metadata": {},
   "outputs": [
    {
     "data": {
      "text/plain": [
       "44.86"
      ]
     },
     "execution_count": 6,
     "metadata": {},
     "output_type": "execute_result"
    }
   ],
   "source": [
    "import numpy as np\n",
    "x=[45,44.8,44.8,44.7,45]\n",
    "np.mean(x)"
   ]
  },
  {
   "cell_type": "code",
   "execution_count": null,
   "id": "867a298c",
   "metadata": {},
   "outputs": [],
   "source": [
    "# Find the union: all_names\n",
    "all_names = baby_names_2011.union(baby_names_2014)\n",
    "\n",
    "# Print the count of names in all_names\n",
    "print(len(all_names))\n",
    "\n",
    "# Find the intersection: overlapping_names\n",
    "overlapping_names = baby_names_2011.intersection(baby_names_2014)\n",
    "\n",
    "# Print the count of names in overlapping_names\n",
    "print(len(overlapping_names))"
   ]
  },
  {
   "cell_type": "code",
   "execution_count": null,
   "id": "61b95fe7",
   "metadata": {},
   "outputs": [],
   "source": [
    "# Create the empty set: baby_names_2011\n",
    "baby_names_2011 = set()\n",
    "# Loop over records and add the names from 2011 to the baby_names_2011 set\n",
    "for row in records:\n",
    "    # Check if the first column is '2011'\n",
    "   if row[0] == '2011'\n",
    "        # Add the fourth column to the set\n",
    "        baby_names_2011.add(row[3])\n",
    "\n",
    "# Find the difference between 2011 and 2014: differences\n",
    "differences = baby_names_2011.difference(baby_names_2014)\n",
    "\n",
    "# Print the differences\n",
    "print(differences)"
   ]
  },
  {
   "cell_type": "markdown",
   "id": "4bb43efd",
   "metadata": {},
   "source": [
    "**CHAPTER 2**"
   ]
  },
  {
   "cell_type": "code",
   "execution_count": null,
   "id": "0932b34b",
   "metadata": {},
   "outputs": [],
   "source": [
    "# Create an empty dictionary: names_by_rank\n",
    "names_by_rank = {}\n",
    "\n",
    "# Loop over the girl names\n",
    "for rank, names in female_baby_names_2012.items():\n",
    "    # Add each name to the names_by_rank dictionary using rank as the key\n",
    "    names_by_rank[rank] = names\n",
    "    \n",
    "# Sort the names_by_rank dict by rank in descending order and slice the first 10 items\n",
    "for rank in sorted(names_by_rank, reverse=True)[:10]:\n",
    "    # Print each item\n",
    "    print(names_by_rank[rank])"
   ]
  },
  {
   "cell_type": "code",
   "execution_count": null,
   "id": "8d3f33e9",
   "metadata": {},
   "outputs": [],
   "source": [
    "# Safely print rank 7 from the names dictionary\n",
    "print(names.get(7))\n",
    "\n",
    "# Safely print the type of rank 100 from the names dictionary\n",
    "print(type(names.get(100)))\n",
    "\n",
    "# Safely print rank 105 from the names dictionary or 'Not Found'\n",
    "print(names.get(105,'Not Found'))"
   ]
  },
  {
   "cell_type": "code",
   "execution_count": null,
   "id": "90866887",
   "metadata": {},
   "outputs": [],
   "source": [
    "# Print a list of keys from the boy_names dictionary\n",
    "print(boy_names.keys())\n",
    "\n",
    "# Print a list of keys from the boy_names dictionary for the year 2013\n",
    "print(boy_names[2013].keys())\n",
    "\n",
    "# Loop over the dictionary\n",
    "for year in boy_names:\n",
    "    # Safely print the year and the third ranked name or 'Unknown'\n",
    "    print(year, boy_names[year].get(3, 'Unknown'))"
   ]
  },
  {
   "cell_type": "code",
   "execution_count": 14,
   "id": "9fc691c4",
   "metadata": {},
   "outputs": [],
   "source": [
    "import pandas as pd\n",
    "baby = 'https://assets.datacamp.com/production/repositories/906/datasets/8043b235dab7ca9b3667df9195459bc6bf754c2a/baby_names.csv'\n",
    "crime = 'https://assets.datacamp.com/production/repositories/906/datasets/7fe0304955dbf05e3a0d57c8959578dcef479e81/crime_sampler.csv'\n",
    "cta_stat ='https://assets.datacamp.com/production/repositories/906/datasets/b7806a5db41c23931fd1adf02af54ac10c15e61c/cta_daily_station_totals.csv'\n",
    "cta_sum = 'https://assets.datacamp.com/production/repositories/906/datasets/0c8af86b914fd9edfd3d907b6006fefaadaf827b/cta_daily_summary_totals.csv'\n",
    "#bab, crim, stat, sum_"
   ]
  },
  {
   "cell_type": "code",
   "execution_count": 15,
   "id": "e0e7e5cb",
   "metadata": {},
   "outputs": [
    {
     "data": {
      "text/html": [
       "<div>\n",
       "<style scoped>\n",
       "    .dataframe tbody tr th:only-of-type {\n",
       "        vertical-align: middle;\n",
       "    }\n",
       "\n",
       "    .dataframe tbody tr th {\n",
       "        vertical-align: top;\n",
       "    }\n",
       "\n",
       "    .dataframe thead th {\n",
       "        text-align: right;\n",
       "    }\n",
       "</style>\n",
       "<table border=\"1\" class=\"dataframe\">\n",
       "  <thead>\n",
       "    <tr style=\"text-align: right;\">\n",
       "      <th></th>\n",
       "      <th>BRITH_YEAR</th>\n",
       "      <th>GENDER</th>\n",
       "      <th>ETHNICTY</th>\n",
       "      <th>NAME</th>\n",
       "      <th>COUNT</th>\n",
       "      <th>RANK</th>\n",
       "    </tr>\n",
       "  </thead>\n",
       "  <tbody>\n",
       "    <tr>\n",
       "      <th>0</th>\n",
       "      <td>2011</td>\n",
       "      <td>FEMALE</td>\n",
       "      <td>HISPANIC</td>\n",
       "      <td>GERALDINE</td>\n",
       "      <td>13</td>\n",
       "      <td>75</td>\n",
       "    </tr>\n",
       "    <tr>\n",
       "      <th>1</th>\n",
       "      <td>2011</td>\n",
       "      <td>FEMALE</td>\n",
       "      <td>HISPANIC</td>\n",
       "      <td>GIA</td>\n",
       "      <td>21</td>\n",
       "      <td>67</td>\n",
       "    </tr>\n",
       "    <tr>\n",
       "      <th>2</th>\n",
       "      <td>2011</td>\n",
       "      <td>FEMALE</td>\n",
       "      <td>HISPANIC</td>\n",
       "      <td>GIANNA</td>\n",
       "      <td>49</td>\n",
       "      <td>42</td>\n",
       "    </tr>\n",
       "    <tr>\n",
       "      <th>3</th>\n",
       "      <td>2011</td>\n",
       "      <td>FEMALE</td>\n",
       "      <td>HISPANIC</td>\n",
       "      <td>GISELLE</td>\n",
       "      <td>38</td>\n",
       "      <td>51</td>\n",
       "    </tr>\n",
       "    <tr>\n",
       "      <th>4</th>\n",
       "      <td>2011</td>\n",
       "      <td>FEMALE</td>\n",
       "      <td>HISPANIC</td>\n",
       "      <td>GRACE</td>\n",
       "      <td>36</td>\n",
       "      <td>53</td>\n",
       "    </tr>\n",
       "  </tbody>\n",
       "</table>\n",
       "</div>"
      ],
      "text/plain": [
       "   BRITH_YEAR  GENDER  ETHNICTY       NAME  COUNT  RANK\n",
       "0        2011  FEMALE  HISPANIC  GERALDINE     13    75\n",
       "1        2011  FEMALE  HISPANIC        GIA     21    67\n",
       "2        2011  FEMALE  HISPANIC     GIANNA     49    42\n",
       "3        2011  FEMALE  HISPANIC    GISELLE     38    51\n",
       "4        2011  FEMALE  HISPANIC      GRACE     36    53"
      ]
     },
     "execution_count": 15,
     "metadata": {},
     "output_type": "execute_result"
    }
   ],
   "source": [
    "bab.head()"
   ]
  },
  {
   "cell_type": "code",
   "execution_count": 67,
   "id": "197bd1ac",
   "metadata": {
    "scrolled": true
   },
   "outputs": [],
   "source": [
    "bab2011 = set((bab[bab['BRITH_YEAR']==2011]['NAME']).str.lower())\n",
    "bab2014 = set((bab[bab['BRITH_YEAR']==2014]['NAME']).str.upper())"
   ]
  },
  {
   "cell_type": "code",
   "execution_count": 74,
   "id": "e09f6177",
   "metadata": {},
   "outputs": [
    {
     "name": "stdout",
     "output_type": "stream",
     "text": [
      "2447\n",
      "0\n"
     ]
    }
   ],
   "source": [
    "all_names = bab2011.union(bab2014)\n",
    "print(len(all_names))\n",
    "overlapping = bab2011.intersection(bab2014)\n",
    "print(len(overlapping))"
   ]
  },
  {
   "cell_type": "code",
   "execution_count": 73,
   "id": "0782c2d4",
   "metadata": {},
   "outputs": [
    {
     "name": "stdout",
     "output_type": "stream",
     "text": [
      "set()\n"
     ]
    }
   ],
   "source": [
    "baby_names_2011 = set()\n",
    "for row in bab:\n",
    "    if row[0] == '2011':\n",
    "        baby_names_2011.add(row[3])\n",
    "dif = baby_names_2011.difference(bab2014)\n",
    "print(dif)"
   ]
  },
  {
   "cell_type": "code",
   "execution_count": 78,
   "id": "084291f1",
   "metadata": {},
   "outputs": [
    {
     "name": "stdout",
     "output_type": "stream",
     "text": [
      "YARA\n",
      "TZIVIA\n",
      "YITTA\n",
      "TZIPORA\n",
      "SHAINA\n",
      "SIMA\n",
      "SYLVIA\n",
      "YEHUDIS\n",
      "VERA\n",
      "SLOANE\n"
     ]
    }
   ],
   "source": [
    "female_baby2012 = {44: 'RIVKY', 26: 'JULIA', 43: 'TOBY', 37: 'MALKY', 19: 'ABIGAIL', 25: 'ZOE', 42: 'PENELOPE', 39: 'MALKA', 33: 'SHAINDY', 36: 'MADISON', 35: 'GITTY', 32: 'STELLA', 41: 'MADELINE', 7: 'CHAYA', 38: 'EVA', 18: 'ELIZABETH', 30: 'GRACE', 34: 'FAIGY', 14: 'SARA', 45: 'NICOLE', 20: 'ALEXANDRA', 12: 'EMILY', 29: 'HANNAH', 1: 'EMMA', 40: 'ALEXA', 28: 'GABRIELLA', 24: 'RIVKA', 4: 'SOPHIA', 5: 'ESTHER', 27: 'SOPHIE', 22: 'LILY', 10: 'MIRIAM', 8: 'AVA', 9: 'CHANA', 13: 'MIA', 6: 'RACHEL', 17: 'MAYA', 31: 'AVERY', 11: 'ELLA', 23: 'SOFIA', 3: 'SARAH', 21: 'VICTORIA', 16: 'ISABELLA', 2: 'LEAH', 15: 'CHARLOTTE', 46: 'VIOLET', 47: 'NATALIE', 69: 'LILIANA', 62: 'SURY', 71: 'SAVANNAH', 75: 'VERA', 72: 'VANESSA', 48: 'REBECCA', 77: 'SYLVIA', 67: 'TAYLOR', 57: 'VALENTINA', 73: 'SIMONE', 79: 'SHAINA', 53: 'RILEY', 64: 'YIDES', 78: 'SIMA', 51: 'NINA', 74: 'SLOANE', 63: 'NAOMI', 70: 'YAEL', 55: 'SYDNEY', 68: 'ZOEY', 76: 'YEHUDIS', 60: 'FRANCESCA', 49: 'MARIA', 61: 'ZISSY', 65: 'SKYLAR', 59: 'JOSEPHINE', 66: 'VERONICA', 50: 'YITTY', 58: 'TALIA', 52: 'KATHERINE', 54: 'SIENNA', 56: 'VIVIENNE', 81: 'YITTA', 83: 'YARA', 82: 'TZIVIA', 80: 'TZIPORA'}\n",
    "\n",
    "names_by_rank = {}\n",
    "for rank, names in female_baby2012.items():\n",
    "    names_by_rank[rank] = names\n",
    "\n",
    "for rank in sorted(names_by_rank, reverse=True)[:10]:\n",
    "    print(names_by_rank[rank])"
   ]
  },
  {
   "cell_type": "code",
   "execution_count": 89,
   "id": "88e49e64",
   "metadata": {},
   "outputs": [
    {
     "name": "stdout",
     "output_type": "stream",
     "text": [
      "AVA\n"
     ]
    }
   ],
   "source": [
    "names = {44: 'RIVKY', 26: 'JULIA', 43: 'TOBY', 37: 'MALKY', 19: 'ABIGAIL', 25: 'ZOE', 42: 'PENELOPE', 39: 'MALKA', 33: 'SHAINDY', 36: 'MADISON', 35: 'GITTY', 32: 'STELLA', 41: 'MADELINE', 7: 'CHAYA', 38: 'EVA', 18: 'ELIZABETH', 30: 'GRACE', 34: 'FAIGY', 14: 'SARA', 45: 'NICOLE', 20: 'ALEXANDRA', 12: 'EMILY', 29: 'HANNAH', 1: 'EMMA', 40: 'ALEXA', 28: 'GABRIELLA', 24: 'RIVKA', 4: 'SOPHIA', 5: 'ESTHER', 27: 'SOPHIE', 22: 'LILY', 10: 'MIRIAM', 8: 'AVA', 9: 'CHANA', 13: 'MIA', 6: 'RACHEL', 17: 'MAYA', 31: 'AVERY', 11: 'ELLA', 23: 'SOFIA', 3: 'SARAH', 21: 'VICTORIA', 16: 'ISABELLA', 2: 'LEAH', 15: 'CHARLOTTE', 46: 'VIOLET', 47: 'NATALIE', 69: 'LILIANA', 62: 'SURY', 71: 'SAVANNAH', 75: 'VERA', 72: 'VANESSA', 48: 'REBECCA', 77: 'SYLVIA', 67: 'TAYLOR', 57: 'VALENTINA', 73: 'SIMONE', 79: 'SHAINA', 53: 'RILEY', 64: 'YIDES', 78: 'SIMA', 51: 'NINA', 74: 'SLOANE', 63: 'NAOMI', 70: 'YAEL', 55: 'SYDNEY', 68: 'ZOEY', 76: 'YEHUDIS', 60: 'FRANCESCA', 49: 'MARIA', 61: 'ZISSY', 65: 'SKYLAR', 59: 'JOSEPHINE', 66: 'VERONICA', 50: 'YITTY', 58: 'TALIA', 52: 'KATHERINE', 54: 'SIENNA', 56: 'VIVIENNE', 81: 'YITTA', 83: 'YARA', 82: 'TZIVIA', 80: 'TZIPORA'}\n",
    "print(names.get(8))"
   ]
  },
  {
   "cell_type": "code",
   "execution_count": 90,
   "id": "2f968e9b",
   "metadata": {},
   "outputs": [
    {
     "name": "stdout",
     "output_type": "stream",
     "text": [
      "None\n"
     ]
    }
   ],
   "source": [
    "print(names.get('JOAN'))"
   ]
  },
  {
   "cell_type": "code",
   "execution_count": 92,
   "id": "2ea47cc9",
   "metadata": {},
   "outputs": [
    {
     "name": "stdout",
     "output_type": "stream",
     "text": [
      "NOT FOUND\n"
     ]
    }
   ],
   "source": [
    "print(names.get('JULIA',\"NOT FOUND\"))"
   ]
  },
  {
   "cell_type": "code",
   "execution_count": 97,
   "id": "aca5dfd1",
   "metadata": {},
   "outputs": [
    {
     "name": "stdout",
     "output_type": "stream",
     "text": [
      "{'brand': 'Ford', 'model': 'Mustang', 'year': 1964, 'colors': ['red', 'white', 'blue']}\n"
     ]
    }
   ],
   "source": [
    "thisdict = {\n",
    "    \"brand\":\"Ford\",\n",
    "    \"model\" : \"Mustang\",\n",
    "    \"year\" : 1964,\n",
    "    \"colors\":[\"red\",\"white\",\"blue\"]\n",
    "}\n",
    "print(thisdict)"
   ]
  },
  {
   "cell_type": "code",
   "execution_count": 94,
   "id": "98e4af58",
   "metadata": {},
   "outputs": [
    {
     "name": "stdout",
     "output_type": "stream",
     "text": [
      "Ford\n"
     ]
    }
   ],
   "source": [
    "print(thisdict['brand'])"
   ]
  },
  {
   "cell_type": "code",
   "execution_count": 96,
   "id": "529f6fc4",
   "metadata": {},
   "outputs": [
    {
     "name": "stdout",
     "output_type": "stream",
     "text": [
      "3\n"
     ]
    }
   ],
   "source": [
    "print(len(thisdict))"
   ]
  },
  {
   "cell_type": "code",
   "execution_count": 99,
   "id": "2e1ffb1a",
   "metadata": {},
   "outputs": [
    {
     "name": "stdout",
     "output_type": "stream",
     "text": [
      "<class 'dict'>\n"
     ]
    }
   ],
   "source": [
    "print(type(thisdict))"
   ]
  },
  {
   "cell_type": "code",
   "execution_count": 100,
   "id": "0cfa3f74",
   "metadata": {},
   "outputs": [
    {
     "name": "stdout",
     "output_type": "stream",
     "text": [
      "{'name': 'Jhon', 'age': 36, 'country': 'Norway'}\n"
     ]
    }
   ],
   "source": [
    "dict1 = dict(name=\"Jhon\", age=36, country=\"Norway\")\n",
    "print(dict1)"
   ]
  },
  {
   "cell_type": "code",
   "execution_count": 102,
   "id": "824a7c82",
   "metadata": {},
   "outputs": [
    {
     "name": "stdout",
     "output_type": "stream",
     "text": [
      "Mustang\n"
     ]
    }
   ],
   "source": [
    "x = thisdict[\"model\"]\n",
    "print(x)"
   ]
  },
  {
   "cell_type": "code",
   "execution_count": 103,
   "id": "d1a65ed9",
   "metadata": {},
   "outputs": [
    {
     "name": "stdout",
     "output_type": "stream",
     "text": [
      "Mustang\n"
     ]
    }
   ],
   "source": [
    "x = thisdict.get(\"model\")\n",
    "print(x)"
   ]
  },
  {
   "cell_type": "code",
   "execution_count": 104,
   "id": "d85f233f",
   "metadata": {},
   "outputs": [
    {
     "name": "stdout",
     "output_type": "stream",
     "text": [
      "dict_keys(['brand', 'model', 'year', 'colors'])\n"
     ]
    }
   ],
   "source": [
    "x = thisdict.keys()\n",
    "print(x)"
   ]
  },
  {
   "cell_type": "code",
   "execution_count": 105,
   "id": "e23cc4f3",
   "metadata": {},
   "outputs": [
    {
     "name": "stdout",
     "output_type": "stream",
     "text": [
      "dict_keys(['brand', 'model', 'year'])\n"
     ]
    }
   ],
   "source": [
    "car ={\n",
    "    \"brand\":\"Ford\",\n",
    "    \"model\" : \"Mustang\",\n",
    "    \"year\" : 1964\n",
    "} \n",
    "x = car.keys()\n",
    "print(x)"
   ]
  },
  {
   "cell_type": "code",
   "execution_count": 106,
   "id": "e6f3d0fe",
   "metadata": {},
   "outputs": [
    {
     "name": "stdout",
     "output_type": "stream",
     "text": [
      "dict_keys(['brand', 'model', 'year', 'color'])\n"
     ]
    }
   ],
   "source": [
    "car['color'] = \"white\"\n",
    "print(x)"
   ]
  },
  {
   "cell_type": "code",
   "execution_count": 107,
   "id": "467cd9e0",
   "metadata": {},
   "outputs": [
    {
     "name": "stdout",
     "output_type": "stream",
     "text": [
      "dict_values(['Ford', 'Mustang', 1964, ['red', 'white', 'blue']])\n"
     ]
    }
   ],
   "source": [
    "x = thisdict.values()\n",
    "print(x)"
   ]
  },
  {
   "cell_type": "code",
   "execution_count": 108,
   "id": "7e165393",
   "metadata": {},
   "outputs": [
    {
     "name": "stdout",
     "output_type": "stream",
     "text": [
      "dict_items([('brand', 'Ford'), ('model', 'Mustang'), ('year', 1964), ('colors', ['red', 'white', 'blue'])])\n"
     ]
    }
   ],
   "source": [
    "x = thisdict.items()\n",
    "print(x)"
   ]
  },
  {
   "cell_type": "code",
   "execution_count": 123,
   "id": "47a164f8",
   "metadata": {},
   "outputs": [
    {
     "name": "stdout",
     "output_type": "stream",
     "text": [
      "{'brand': 'Ford', 'model': 'Mustang', 'year': 2018}\n"
     ]
    }
   ],
   "source": [
    "thisdict = {\n",
    "    \"brand\":\"Ford\",\n",
    "    \"model\" : \"Mustang\",\n",
    "    \"year\" : 1964\n",
    "}\n",
    "thisdict[\"year\"] = 2018\n",
    "print(thisdict)"
   ]
  },
  {
   "cell_type": "code",
   "execution_count": 112,
   "id": "9ae34aca",
   "metadata": {},
   "outputs": [
    {
     "name": "stdout",
     "output_type": "stream",
     "text": [
      "{'brand': 'Ford', 'model': 'Mustang', 'year': 2020}\n"
     ]
    }
   ],
   "source": [
    "thisdict.update({\"year\": 2020})\n",
    "print(thisdict)"
   ]
  },
  {
   "cell_type": "code",
   "execution_count": 113,
   "id": "9beb2ad7",
   "metadata": {},
   "outputs": [
    {
     "name": "stdout",
     "output_type": "stream",
     "text": [
      "{'brand': 'Ford', 'year': 2020}\n"
     ]
    }
   ],
   "source": [
    "thisdict.pop(\"model\")\n",
    "print(thisdict)"
   ]
  },
  {
   "cell_type": "code",
   "execution_count": 116,
   "id": "4baf51be",
   "metadata": {},
   "outputs": [
    {
     "name": "stdout",
     "output_type": "stream",
     "text": [
      "{'brand': 'Ford', 'model': 'Mustang'}\n"
     ]
    }
   ],
   "source": [
    "thisdict.popitem()\n",
    "print(thisdict)"
   ]
  },
  {
   "cell_type": "code",
   "execution_count": 117,
   "id": "7df9b227",
   "metadata": {},
   "outputs": [
    {
     "name": "stdout",
     "output_type": "stream",
     "text": [
      "{'brand': 'Ford'}\n"
     ]
    }
   ],
   "source": [
    "del thisdict['model']\n",
    "print(thisdict)"
   ]
  },
  {
   "cell_type": "code",
   "execution_count": 120,
   "id": "374689c7",
   "metadata": {},
   "outputs": [
    {
     "ename": "NameError",
     "evalue": "name 'thisdict' is not defined",
     "output_type": "error",
     "traceback": [
      "\u001b[0;31m---------------------------------------------------------------------------\u001b[0m",
      "\u001b[0;31mNameError\u001b[0m                                 Traceback (most recent call last)",
      "\u001b[0;32m/var/folders/g6/qw3t2lbx7x91r1mfyp6k77k00000gn/T/ipykernel_5600/1319587720.py\u001b[0m in \u001b[0;36m<module>\u001b[0;34m\u001b[0m\n\u001b[1;32m      1\u001b[0m \u001b[0;32mdel\u001b[0m \u001b[0mthisdict\u001b[0m\u001b[0;34m\u001b[0m\u001b[0;34m\u001b[0m\u001b[0m\n\u001b[0;32m----> 2\u001b[0;31m \u001b[0mprint\u001b[0m\u001b[0;34m(\u001b[0m\u001b[0mthisdict\u001b[0m\u001b[0;34m)\u001b[0m\u001b[0;34m\u001b[0m\u001b[0;34m\u001b[0m\u001b[0m\n\u001b[0m",
      "\u001b[0;31mNameError\u001b[0m: name 'thisdict' is not defined"
     ]
    }
   ],
   "source": [
    "del thisdict\n",
    "print(thisdict)"
   ]
  },
  {
   "cell_type": "code",
   "execution_count": 122,
   "id": "27b522da",
   "metadata": {},
   "outputs": [
    {
     "name": "stdout",
     "output_type": "stream",
     "text": [
      "{}\n"
     ]
    }
   ],
   "source": [
    "thisdict.clear()\n",
    "print(thisdict)"
   ]
  },
  {
   "cell_type": "code",
   "execution_count": 124,
   "id": "2aec375c",
   "metadata": {},
   "outputs": [
    {
     "name": "stdout",
     "output_type": "stream",
     "text": [
      "brand\n",
      "model\n",
      "year\n"
     ]
    }
   ],
   "source": [
    "for x in thisdict:\n",
    "    print(x)"
   ]
  },
  {
   "cell_type": "code",
   "execution_count": 125,
   "id": "caf96038",
   "metadata": {},
   "outputs": [
    {
     "name": "stdout",
     "output_type": "stream",
     "text": [
      "Ford\n",
      "Mustang\n",
      "2018\n"
     ]
    }
   ],
   "source": [
    "for x in thisdict:\n",
    "    print(thisdict[x])"
   ]
  },
  {
   "cell_type": "code",
   "execution_count": 126,
   "id": "2cd302a3",
   "metadata": {},
   "outputs": [
    {
     "name": "stdout",
     "output_type": "stream",
     "text": [
      "Ford\n",
      "Mustang\n",
      "2018\n"
     ]
    }
   ],
   "source": [
    "for x in thisdict.values():\n",
    "    print(x)"
   ]
  },
  {
   "cell_type": "code",
   "execution_count": 127,
   "id": "ca1ce994",
   "metadata": {},
   "outputs": [
    {
     "name": "stdout",
     "output_type": "stream",
     "text": [
      "brand\n",
      "model\n",
      "year\n"
     ]
    }
   ],
   "source": [
    "for x in thisdict.keys():\n",
    "    print(x)"
   ]
  },
  {
   "cell_type": "code",
   "execution_count": 128,
   "id": "4a8c5fae",
   "metadata": {},
   "outputs": [
    {
     "name": "stdout",
     "output_type": "stream",
     "text": [
      "brand Ford\n",
      "model Mustang\n",
      "year 2018\n"
     ]
    }
   ],
   "source": [
    "for x,y in thisdict.items():\n",
    "    print(x,y)"
   ]
  },
  {
   "cell_type": "code",
   "execution_count": 129,
   "id": "65b7c92b",
   "metadata": {},
   "outputs": [
    {
     "name": "stdout",
     "output_type": "stream",
     "text": [
      "{'brand': 'Ford', 'model': 'Mustang', 'year': 2018}\n"
     ]
    }
   ],
   "source": [
    "mydict = thisdict.copy()\n",
    "print(mydict)"
   ]
  },
  {
   "cell_type": "code",
   "execution_count": 130,
   "id": "1dcdc014",
   "metadata": {},
   "outputs": [
    {
     "name": "stdout",
     "output_type": "stream",
     "text": [
      "{'brand': 'Ford', 'model': 'Mustang', 'year': 2018}\n"
     ]
    }
   ],
   "source": [
    "mydict = dict(thisdict)\n",
    "print(mydict)"
   ]
  },
  {
   "cell_type": "code",
   "execution_count": 131,
   "id": "fb7247db",
   "metadata": {},
   "outputs": [],
   "source": [
    "myfam = {\n",
    "    \"child1\":{\n",
    "        \"name\":\"Emil\",\n",
    "        \"year\":2004\n",
    "    },\n",
    "    \"child2\":{\n",
    "        \"name\":\"Tobias\",\n",
    "        \"year\":2007\n",
    "    },\n",
    "    \"child3\":{\n",
    "        \"name\":\"Linus\",\n",
    "        \"year\":2011\n",
    "    }\n",
    "}"
   ]
  },
  {
   "cell_type": "code",
   "execution_count": 132,
   "id": "7db3280c",
   "metadata": {},
   "outputs": [
    {
     "name": "stdout",
     "output_type": "stream",
     "text": [
      "Tobias\n"
     ]
    }
   ],
   "source": [
    "print(myfam[\"child2\"][\"name\"])"
   ]
  },
  {
   "cell_type": "code",
   "execution_count": 133,
   "id": "7603305a",
   "metadata": {},
   "outputs": [
    {
     "data": {
      "text/plain": [
       "{44: 'RIVKY',\n",
       " 26: 'JULIA',\n",
       " 43: 'TOBY',\n",
       " 37: 'MALKY',\n",
       " 19: 'ABIGAIL',\n",
       " 25: 'ZOE',\n",
       " 42: 'PENELOPE',\n",
       " 39: 'MALKA',\n",
       " 33: 'SHAINDY',\n",
       " 36: 'MADISON',\n",
       " 35: 'GITTY',\n",
       " 32: 'STELLA',\n",
       " 41: 'MADELINE',\n",
       " 7: 'CHAYA',\n",
       " 38: 'EVA',\n",
       " 18: 'ELIZABETH',\n",
       " 30: 'GRACE',\n",
       " 34: 'FAIGY',\n",
       " 14: 'SARA',\n",
       " 45: 'NICOLE',\n",
       " 20: 'ALEXANDRA',\n",
       " 12: 'EMILY',\n",
       " 29: 'HANNAH',\n",
       " 1: 'EMMA',\n",
       " 40: 'ALEXA',\n",
       " 28: 'GABRIELLA',\n",
       " 24: 'RIVKA',\n",
       " 4: 'SOPHIA',\n",
       " 5: 'ESTHER',\n",
       " 27: 'SOPHIE',\n",
       " 22: 'LILY',\n",
       " 10: 'MIRIAM',\n",
       " 8: 'AVA',\n",
       " 9: 'CHANA',\n",
       " 13: 'MIA',\n",
       " 6: 'RACHEL',\n",
       " 17: 'MAYA',\n",
       " 31: 'AVERY',\n",
       " 11: 'ELLA',\n",
       " 23: 'SOFIA',\n",
       " 3: 'SARAH',\n",
       " 21: 'VICTORIA',\n",
       " 16: 'ISABELLA',\n",
       " 2: 'LEAH',\n",
       " 15: 'CHARLOTTE',\n",
       " 46: 'VIOLET',\n",
       " 47: 'NATALIE',\n",
       " 69: 'LILIANA',\n",
       " 62: 'SURY',\n",
       " 71: 'SAVANNAH',\n",
       " 75: 'VERA',\n",
       " 72: 'VANESSA',\n",
       " 48: 'REBECCA',\n",
       " 77: 'SYLVIA',\n",
       " 67: 'TAYLOR',\n",
       " 57: 'VALENTINA',\n",
       " 73: 'SIMONE',\n",
       " 79: 'SHAINA',\n",
       " 53: 'RILEY',\n",
       " 64: 'YIDES',\n",
       " 78: 'SIMA',\n",
       " 51: 'NINA',\n",
       " 74: 'SLOANE',\n",
       " 63: 'NAOMI',\n",
       " 70: 'YAEL',\n",
       " 55: 'SYDNEY',\n",
       " 68: 'ZOEY',\n",
       " 76: 'YEHUDIS',\n",
       " 60: 'FRANCESCA',\n",
       " 49: 'MARIA',\n",
       " 61: 'ZISSY',\n",
       " 65: 'SKYLAR',\n",
       " 59: 'JOSEPHINE',\n",
       " 66: 'VERONICA',\n",
       " 50: 'YITTY',\n",
       " 58: 'TALIA',\n",
       " 52: 'KATHERINE',\n",
       " 54: 'SIENNA',\n",
       " 56: 'VIVIENNE',\n",
       " 81: 'YITTA',\n",
       " 83: 'YARA',\n",
       " 82: 'TZIVIA',\n",
       " 80: 'TZIPORA'}"
      ]
     },
     "execution_count": 133,
     "metadata": {},
     "output_type": "execute_result"
    }
   ],
   "source": [
    "names"
   ]
  },
  {
   "cell_type": "code",
   "execution_count": null,
   "id": "110632ed",
   "metadata": {},
   "outputs": [],
   "source": [
    "art_galleries['10007'] = galleries_1007\n",
    "art_galleres['11234'].update(galleries_11234)"
   ]
  },
  {
   "cell_type": "code",
   "execution_count": 144,
   "id": "b3b1fbb9",
   "metadata": {},
   "outputs": [
    {
     "name": "stdout",
     "output_type": "stream",
     "text": [
      "{'child1': {'name': 'Emil', 'year': 2004}, 'child2': {'name': 'Tobias', 'year': 2007}, 'child3': {'name': 'Linus', 'year': 2011}, 'child4': {'name': 'Polycarp', 'year': 2023}}\n"
     ]
    }
   ],
   "source": [
    "myfam = {\n",
    "    \"child1\":{\n",
    "        \"name\":\"Emil\",\n",
    "        \"year\":2004\n",
    "    },\n",
    "    \"child2\":{\n",
    "        \"name\":\"Tobias\",\n",
    "        \"year\":2007\n",
    "    },\n",
    "    \"child3\":{\n",
    "        \"name\":\"Linus\",\n",
    "        \"year\":2011\n",
    "    }\n",
    "}\n",
    "\n",
    "child4 = {'name':'Polycarp', 'year':2023}\n",
    "myfam['child4']=child4\n",
    "print(myfam)"
   ]
  },
  {
   "cell_type": "code",
   "execution_count": 141,
   "id": "a5e68d96",
   "metadata": {},
   "outputs": [
    {
     "name": "stdout",
     "output_type": "stream",
     "text": [
      "{'child2': {'name': 'Tobias', 'year': 2007}, 'child3': {'name': 'Linus', 'year': 2011}, 'child4': {'name': 'Polycarp', 'year': 2023}}\n"
     ]
    }
   ],
   "source": [
    "del myfam['child1']\n",
    "print(myfam)"
   ]
  },
  {
   "cell_type": "code",
   "execution_count": 142,
   "id": "6ed964f2",
   "metadata": {},
   "outputs": [
    {
     "name": "stdout",
     "output_type": "stream",
     "text": [
      "{'name': 'Tobias', 'year': 2007}\n"
     ]
    }
   ],
   "source": [
    "child2 = myfam.pop('child2')\n",
    "print(child2)"
   ]
  },
  {
   "cell_type": "code",
   "execution_count": 143,
   "id": "268f08af",
   "metadata": {},
   "outputs": [
    {
     "data": {
      "text/plain": [
       "{'child3': {'name': 'Linus', 'year': 2011},\n",
       " 'child4': {'name': 'Polycarp', 'year': 2023}}"
      ]
     },
     "execution_count": 143,
     "metadata": {},
     "output_type": "execute_result"
    }
   ],
   "source": [
    "myfam"
   ]
  },
  {
   "cell_type": "code",
   "execution_count": null,
   "id": "7cf99ec4",
   "metadata": {},
   "outputs": [],
   "source": [
    "#remove 2011 from female_names and store it\n",
    "female2011 = females_names.pop(2011)\n",
    "#remove 2015 from female_names safely\n",
    "female2015 = females_names.pop(2015,{})\n",
    "\n",
    "#delete 2012 from female_names\n",
    "del female_names[2012]"
   ]
  },
  {
   "cell_type": "code",
   "execution_count": 145,
   "id": "8fe535f6",
   "metadata": {},
   "outputs": [
    {
     "data": {
      "text/plain": [
       "True"
      ]
     },
     "execution_count": 145,
     "metadata": {},
     "output_type": "execute_result"
    }
   ],
   "source": [
    "'child2' in myfam"
   ]
  },
  {
   "cell_type": "code",
   "execution_count": 146,
   "id": "0e59523d",
   "metadata": {},
   "outputs": [
    {
     "data": {
      "text/plain": [
       "False"
      ]
     },
     "execution_count": 146,
     "metadata": {},
     "output_type": "execute_result"
    }
   ],
   "source": [
    "'child5' in myfam"
   ]
  },
  {
   "cell_type": "code",
   "execution_count": 151,
   "id": "f8f88bc2",
   "metadata": {},
   "outputs": [
    {
     "name": "stdout",
     "output_type": "stream",
     "text": [
      "child1 {'name': 'Emil', 'year': 2004}\n",
      "child2 {'name': 'Tobias', 'year': 2007}\n",
      "child3 {'name': 'Linus', 'year': 2011}\n",
      "child4 {'name': 'Polycarp', 'year': 2023}\n"
     ]
    }
   ],
   "source": [
    "for name, year in myfam.items():\n",
    "    print(name, year)"
   ]
  },
  {
   "cell_type": "code",
   "execution_count": 161,
   "id": "5c636274",
   "metadata": {},
   "outputs": [
    {
     "name": "stdout",
     "output_type": "stream",
     "text": [
      "name Emil\n",
      "year 2004\n",
      "name Tobias\n",
      "year 2007\n",
      "name Linus\n",
      "year 2011\n",
      "name Polycarp\n",
      "year 2023\n"
     ]
    }
   ],
   "source": [
    "for i in range(4):\n",
    "    child = 'child' + str(i+1)\n",
    "    for name, year in myfam[child].items():\n",
    "        print(name, year)"
   ]
  },
  {
   "cell_type": "code",
   "execution_count": null,
   "id": "bc703a89",
   "metadata": {},
   "outputs": [],
   "source": [
    "import csv\n",
    "csvfile = open('GALLERY.csv', 'r')\n",
    "for row in csv.reader(csvfile):\n",
    "    print(row)\n",
    "csvfile.close()\n",
    "\n",
    "#make a dictionary\n",
    "for row in csv.DictReader(csvfile):\n",
    "    print(row)"
   ]
  },
  {
   "cell_type": "code",
   "execution_count": null,
   "id": "e9ee5609",
   "metadata": {},
   "outputs": [],
   "source": [
    "from collections import Counter\n",
    "nyc_eatery_count_by_types = Counter(nyc_eatery_types)\n",
    "print(nyc_eatery_count_by_types)\n",
    "print(nyc_eatery_count_by_types['Restaurant'])"
   ]
  },
  {
   "cell_type": "code",
   "execution_count": null,
   "id": "95d93fef",
   "metadata": {},
   "outputs": [],
   "source": [
    "print(nyc_eatery_count_by_types.most_common(3)) "
   ]
  },
  {
   "cell_type": "code",
   "execution_count": null,
   "id": "e1fd7d1c",
   "metadata": {},
   "outputs": [],
   "source": [
    "from collections import defaultdict\n",
    "eateries_by_park = defaultdict(list)\n",
    "for park_id, name in nyc_eateries_parks:\n",
    "    eateries_by_park[park_id].append(name)\n",
    "print(eateries_by_park['M010'])"
   ]
  },
  {
   "cell_type": "code",
   "execution_count": null,
   "id": "cf1e4da1",
   "metadata": {},
   "outputs": [],
   "source": [
    "from collections import defaultdict\n",
    "eatery_contact_types = defaultdict(int)\n",
    "for eatery in nyc_eateries:\n",
    "    if eatery.get('phone'):\n",
    "        eatery_contact_types['phones'] +=1\n",
    "    if eatery.get('website'):\n",
    "        eatery_contact_types['websites'] +=1\n",
    "print(eatery_contact_types)    "
   ]
  }
 ],
 "metadata": {
  "kernelspec": {
   "display_name": "Python 3 (ipykernel)",
   "language": "python",
   "name": "python3"
  },
  "language_info": {
   "codemirror_mode": {
    "name": "ipython",
    "version": 3
   },
   "file_extension": ".py",
   "mimetype": "text/x-python",
   "name": "python",
   "nbconvert_exporter": "python",
   "pygments_lexer": "ipython3",
   "version": "3.9.7"
  }
 },
 "nbformat": 4,
 "nbformat_minor": 5
}
