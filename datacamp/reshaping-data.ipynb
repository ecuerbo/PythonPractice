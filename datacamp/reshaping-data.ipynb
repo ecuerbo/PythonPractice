{
 "cells": [
  {
   "cell_type": "code",
   "execution_count": null,
   "id": "02cab707",
   "metadata": {},
   "outputs": [],
   "source": [
    "# Modify the DataFrame to keep only height and weight columns\n",
    "fifa_transpose = fifa_players.set_index('name')[['height','weight']]"
   ]
  },
  {
   "cell_type": "code",
   "execution_count": null,
   "id": "216c7c96",
   "metadata": {},
   "outputs": [],
   "source": [
    "#using pivot\n",
    "df.pivot(index='Year',columns='Name',values='Weight')"
   ]
  },
  {
   "cell_type": "code",
   "execution_count": null,
   "id": "56c516f6",
   "metadata": {},
   "outputs": [],
   "source": [
    "# Discard the fifth row to delete all repeated rows\n",
    "fifa_drop = fifa_players.drop(4, axis=0)\n",
    "\n",
    "# Use pivot method to get all scores by name and movement\n",
    "fifa_pivot = fifa_drop.pivot(index='name', columns='movement') \n",
    "\n",
    "# Print fifa_pivot\n",
    "print(fifa_pivot)  \n",
    "\n",
    "# Use pivot table to get all scores by name and movement\n",
    "fifa_pivot_table = fifa_players.pivot_table(index='name', \n",
    "                                     columns='movement', \n",
    "                                     aggfunc='mean')\n",
    "# Print fifa_pivot_table\n",
    "print(fifa_pivot_table)"
   ]
  },
  {
   "cell_type": "code",
   "execution_count": null,
   "id": "f731d5c1",
   "metadata": {},
   "outputs": [],
   "source": [
    "# Use pivot table to show the count of players by club and nationality and the total count\n",
    "players_country = fifa_players.pivot_table(index='nationality', \n",
    "                                    columns='club', \n",
    "                                    values='name', \n",
    "                                    aggfunc='count', \n",
    "                                    margins=True)"
   ]
  },
  {
   "cell_type": "code",
   "execution_count": null,
   "id": "aa378b89",
   "metadata": {},
   "outputs": [],
   "source": [
    "# Set the argument to get the maximum for each row and column\n",
    "fifa_mean = fifa_players.pivot_table(index=['nationality', 'club'], \n",
    "                                     columns='year', \n",
    "                                     aggfunc='max', \n",
    "                                     margins=True)"
   ]
  },
  {
   "cell_type": "code",
   "execution_count": null,
   "id": "9de20c97",
   "metadata": {},
   "outputs": [],
   "source": [
    "# Melt rating and rating_count columns using title and authors as identifier\n",
    "books_melted = books_gothic.melt(id_vars=['title','authors'], \n",
    "                                 value_vars=['rating', 'rating_count'])"
   ]
  },
  {
   "cell_type": "code",
   "execution_count": null,
   "id": "dcdced47",
   "metadata": {},
   "outputs": [],
   "source": [
    "# Assign the name number to the new column containing the values\n",
    "books_ratings = books_gothic.melt(id_vars=['title', 'authors', 'publisher'], \n",
    "                                  value_vars=['rating', 'rating_count'], \n",
    "                                  var_name='feature', \n",
    "                                  value_name='number')"
   ]
  },
  {
   "cell_type": "code",
   "execution_count": null,
   "id": "1dc3c3d0",
   "metadata": {},
   "outputs": [],
   "source": [
    "# Reshape wide to long using title as index and version as new name, and extracting isbn prefix \n",
    "isbn_long = pd.wide_to_long(golden_age, \n",
    "                    stubnames=['isbn'], \n",
    "                    i='title', \n",
    "                    j='version')\n"
   ]
  },
  {
   "cell_type": "code",
   "execution_count": null,
   "id": "6b2e635f",
   "metadata": {},
   "outputs": [],
   "source": [
    "# Specify that wide columns have a suffix containing words\n",
    "the_code_long = pd.wide_to_long(books_brown, \n",
    "                                stubnames=['language', 'publisher'], \n",
    "                                i=['author', 'title'], \n",
    "                                j='code', \n",
    "                                sep='_', \n",
    "                                suffix='\\w+')"
   ]
  },
  {
   "cell_type": "code",
   "execution_count": null,
   "id": "dfe7d5d0",
   "metadata": {},
   "outputs": [],
   "source": [
    "# Modify books_hunger by resetting the index without dropping it\n",
    "books_hunger.reset_index(drop=False, inplace=True)\n",
    "\n",
    "# Reshape using title and language as index, feature as new name, publication and page as prefix separated by space and ending in a word\n",
    "publication_features = pd.wide_to_long(books_hunger, \n",
    "                                       stubnames=['publication','page'], \n",
    "                                       i=['title','language'], \n",
    "                                       j='feature', \n",
    "                                       sep=' ', \n",
    "                                       suffix='\\w+')"
   ]
  },
  {
   "cell_type": "code",
   "execution_count": null,
   "id": "0b36b0d5",
   "metadata": {},
   "outputs": [],
   "source": [
    "#splitting into two columns\n",
    "#working with strings\n",
    "books[['main_title','subtitle']] =books['title'].str.split(\":\", expand=True)\n",
    "books.drop('title', axis=1, inplace=True)\n",
    "pd.wide_to_long(books, stubnames=['ratings','sold'],\n",
    "               i=['main_title','subtitle'],\n",
    "               j='year')"
   ]
  },
  {
   "cell_type": "code",
   "execution_count": null,
   "id": "8d0153fd",
   "metadata": {},
   "outputs": [],
   "source": [
    "#concatenate two columns\n",
    "books_new['name_author'].str.cat(books_new['lastname_author'], sep=\" \")"
   ]
  },
  {
   "cell_type": "code",
   "execution_count": null,
   "id": "e922d8c4",
   "metadata": {},
   "outputs": [],
   "source": [
    "# Split by the hyphen the index of books_dys\n",
    "books_dys.index = books_dys.index.str.split('-').str.get(0)\n",
    "\n",
    "# Concatenate the index with the list author_list separated by a hyphen\n",
    "books_dys.index = books_dys.index.str.cat(author_list, sep=\"-\")"
   ]
  },
  {
   "cell_type": "code",
   "execution_count": null,
   "id": "64f1e280",
   "metadata": {},
   "outputs": [],
   "source": [
    "# Concatenate the title and subtitle separated by \"and\" surrounded by spaces\n",
    "hp_books['full_title'] = hp_books['title'].str.cat(hp_books['subtitle'], sep =\" and \") \n",
    "\n",
    "# Split the authors into writer and illustrator columns\n",
    "hp_books[['writer', 'illustrator']] = hp_books['authors'].str.split('/', expand=True)\n",
    "\n",
    "# Melt goodreads and amazon columns into a single column\n",
    "hp_melt = hp_books.melt(id_vars=['full_title','writer'], \n",
    "                        var_name='source', \n",
    "                        value_vars=['goodreads',\"amazon\"], \n",
    "                        value_name='rating')"
   ]
  },
  {
   "cell_type": "code",
   "execution_count": null,
   "id": "786d1150",
   "metadata": {},
   "outputs": [],
   "source": [
    "# Split main_title by a colon and assign it to two columns named title and subtitle \n",
    "books_sh[['title', 'subtitle']] = books_sh['main_title'].str.split(':', expand=True)\n",
    "\n",
    "# Split version by a space and assign the second element to the column named volume \n",
    "books_sh['volume'] = books_sh['version'].str.split(' ').str.get(1)\n",
    "\n",
    "# Drop the main_title and version columns modifying books_sh\n",
    "books_sh.drop(['main_title', 'version'], axis=1, inplace=True)\n",
    "\n",
    "# Reshape using title, subtitle and volume as index, name feature the new variable from columns starting with number, separated by undescore and ending in words \n",
    "sh_long = pd.wide_to_long(books_sh, stubnames=['number'], i=['title', 'subtitle','volume'], \n",
    "                  j='feature', sep=\"_\", suffix='\\w+')"
   ]
  },
  {
   "cell_type": "code",
   "execution_count": null,
   "id": "18cab4c4",
   "metadata": {},
   "outputs": [],
   "source": [
    "new_array = [['yes','no','yes'],['no','yes','yes']]\n",
    "churn.index= pd.MultiIndex.from_arrays(new_array,names=['member','credit_card'])"
   ]
  },
  {
   "cell_type": "code",
   "execution_count": null,
   "id": "40944df0",
   "metadata": {},
   "outputs": [],
   "source": [
    "# Predefined list to use as index\n",
    "new_index = [['California', 'California', 'New York', 'Ohio'], \n",
    "             ['Los Angeles', 'San Francisco', 'New York', 'Cleveland']]\n",
    "\n",
    "# Create a multi-level index using predefined new_index\n",
    "churn_new = pd.MultiIndex.from_arrays(new_index, names=['state', 'city'])\n",
    "\n",
    "# Assign the new index to the churn index\n",
    "churn.index = churn_new\n",
    "\n",
    "# Reshape by stacking churn DataFrame\n",
    "churn_stack = churn.stack()\n"
   ]
  },
  {
   "cell_type": "code",
   "execution_count": null,
   "id": "5517e2ed",
   "metadata": {},
   "outputs": [],
   "source": [
    "# Set state and city as index modifying the DataFrame\n",
    "churn.set_index(['state', 'city'], inplace=True)\n",
    "\n",
    "# Reshape by stacking the second level\n",
    "churn_stack = churn.stack(level=1)"
   ]
  },
  {
   "cell_type": "code",
   "execution_count": null,
   "id": "53e62e4a",
   "metadata": {},
   "outputs": [],
   "source": [
    "# Stack country level, group by country and get the median \n",
    "obesity_median = obesity.stack(level='country').groupby('country').median()"
   ]
  },
  {
   "cell_type": "code",
   "execution_count": null,
   "id": "cab1fb5f",
   "metadata": {},
   "outputs": [],
   "source": [
    "#list-like columns\n",
    "cities_explode = cities['zip_code'].explode()\n",
    "cities[['city', 'country']].merge(cities_explode, left_index=True, right_index=True)\n",
    "\n",
    "#shorter code\n",
    "cities_explode = cities.explode('zip_code')"
   ]
  }
 ],
 "metadata": {
  "kernelspec": {
   "display_name": "Python 3 (ipykernel)",
   "language": "python",
   "name": "python3"
  },
  "language_info": {
   "codemirror_mode": {
    "name": "ipython",
    "version": 3
   },
   "file_extension": ".py",
   "mimetype": "text/x-python",
   "name": "python",
   "nbconvert_exporter": "python",
   "pygments_lexer": "ipython3",
   "version": "3.9.7"
  }
 },
 "nbformat": 4,
 "nbformat_minor": 5
}
