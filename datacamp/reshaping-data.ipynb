{
 "cells": [
  {
   "cell_type": "code",
   "execution_count": null,
   "id": "802e7dc4",
   "metadata": {},
   "outputs": [],
   "source": [
    "# Modify the DataFrame to keep only height and weight columns\n",
    "fifa_transpose = fifa_players.set_index('name')[['height','weight']]"
   ]
  },
  {
   "cell_type": "code",
   "execution_count": null,
   "id": "d96cee82",
   "metadata": {},
   "outputs": [],
   "source": [
    "#using pivot\n",
    "df.pivot(index='Year',columns='Name',values='Weight')"
   ]
  },
  {
   "cell_type": "code",
   "execution_count": null,
   "id": "1ed08ef5",
   "metadata": {},
   "outputs": [],
   "source": [
    "# Discard the fifth row to delete all repeated rows\n",
    "fifa_drop = fifa_players.drop(4, axis=0)\n",
    "\n",
    "# Use pivot method to get all scores by name and movement\n",
    "fifa_pivot = fifa_drop.pivot(index='name', columns='movement') \n",
    "\n",
    "# Print fifa_pivot\n",
    "print(fifa_pivot)  \n",
    "\n",
    "# Use pivot table to get all scores by name and movement\n",
    "fifa_pivot_table = fifa_players.pivot_table(index='name', \n",
    "                                     columns='movement', \n",
    "                                     aggfunc='mean')\n",
    "# Print fifa_pivot_table\n",
    "print(fifa_pivot_table)"
   ]
  },
  {
   "cell_type": "code",
   "execution_count": null,
   "id": "75447d4c",
   "metadata": {},
   "outputs": [],
   "source": [
    "# Use pivot table to show the count of players by club and nationality and the total count\n",
    "players_country = fifa_players.pivot_table(index='nationality', \n",
    "                                    columns='club', \n",
    "                                    values='name', \n",
    "                                    aggfunc='count', \n",
    "                                    margins=True)"
   ]
  },
  {
   "cell_type": "code",
   "execution_count": null,
   "id": "8ad69ce3",
   "metadata": {},
   "outputs": [],
   "source": [
    "# Set the argument to get the maximum for each row and column\n",
    "fifa_mean = fifa_players.pivot_table(index=['nationality', 'club'], \n",
    "                                     columns='year', \n",
    "                                     aggfunc='max', \n",
    "                                     margins=True)"
   ]
  },
  {
   "cell_type": "code",
   "execution_count": null,
   "id": "da40b311",
   "metadata": {},
   "outputs": [],
   "source": [
    "# Melt rating and rating_count columns using title and authors as identifier\n",
    "books_melted = books_gothic.melt(id_vars=['title','authors'], \n",
    "                                 value_vars=['rating', 'rating_count'])"
   ]
  },
  {
   "cell_type": "code",
   "execution_count": null,
   "id": "eaff13e0",
   "metadata": {},
   "outputs": [],
   "source": [
    "# Assign the name number to the new column containing the values\n",
    "books_ratings = books_gothic.melt(id_vars=['title', 'authors', 'publisher'], \n",
    "                                  value_vars=['rating', 'rating_count'], \n",
    "                                  var_name='feature', \n",
    "                                  value_name='number')"
   ]
  },
  {
   "cell_type": "code",
   "execution_count": null,
   "id": "567f277d",
   "metadata": {},
   "outputs": [],
   "source": [
    "# Reshape wide to long using title as index and version as new name, and extracting isbn prefix \n",
    "isbn_long = pd.wide_to_long(golden_age, \n",
    "                    stubnames=['isbn'], \n",
    "                    i='title', \n",
    "                    j='version')\n"
   ]
  },
  {
   "cell_type": "code",
   "execution_count": null,
   "id": "b7786f3a",
   "metadata": {},
   "outputs": [],
   "source": [
    "# Specify that wide columns have a suffix containing words\n",
    "the_code_long = pd.wide_to_long(books_brown, \n",
    "                                stubnames=['language', 'publisher'], \n",
    "                                i=['author', 'title'], \n",
    "                                j='code', \n",
    "                                sep='_', \n",
    "                                suffix='\\w+')"
   ]
  },
  {
   "cell_type": "code",
   "execution_count": null,
   "id": "c846b7f7",
   "metadata": {},
   "outputs": [],
   "source": [
    "# Modify books_hunger by resetting the index without dropping it\n",
    "books_hunger.reset_index(drop=False, inplace=True)\n",
    "\n",
    "# Reshape using title and language as index, feature as new name, publication and page as prefix separated by space and ending in a word\n",
    "publication_features = pd.wide_to_long(books_hunger, \n",
    "                                       stubnames=['publication','page'], \n",
    "                                       i=['title','language'], \n",
    "                                       j='feature', \n",
    "                                       sep=' ', \n",
    "                                       suffix='\\w+')"
   ]
  },
  {
   "cell_type": "code",
   "execution_count": null,
   "id": "001da79a",
   "metadata": {},
   "outputs": [],
   "source": [
    "#splitting into two columns\n",
    "#working with strings\n",
    "books[['main_title','subtitle']] =books['title'].str.split(\":\", expand=True)\n",
    "books.drop('title', axis=1, inplace=True)\n",
    "pd.wide_to_long(books, stubnames=['ratings','sold'],\n",
    "               i=['main_title','subtitle'],\n",
    "               j='year')"
   ]
  },
  {
   "cell_type": "code",
   "execution_count": null,
   "id": "8f89294c",
   "metadata": {},
   "outputs": [],
   "source": [
    "#concatenate two columns\n",
    "books_new['name_author'].str.cat(books_new['lastname_author'], sep=\" \")"
   ]
  },
  {
   "cell_type": "code",
   "execution_count": null,
   "id": "eca52ebd",
   "metadata": {},
   "outputs": [],
   "source": [
    "# Split by the hyphen the index of books_dys\n",
    "books_dys.index = books_dys.index.str.split('-').str.get(0)\n",
    "\n",
    "# Concatenate the index with the list author_list separated by a hyphen\n",
    "books_dys.index = books_dys.index.str.cat(author_list, sep=\"-\")"
   ]
  },
  {
   "cell_type": "code",
   "execution_count": null,
   "id": "1efe0016",
   "metadata": {},
   "outputs": [],
   "source": [
    "# Concatenate the title and subtitle separated by \"and\" surrounded by spaces\n",
    "hp_books['full_title'] = hp_books['title'].str.cat(hp_books['subtitle'], sep =\" and \") \n",
    "\n",
    "# Split the authors into writer and illustrator columns\n",
    "hp_books[['writer', 'illustrator']] = hp_books['authors'].str.split('/', expand=True)\n",
    "\n",
    "# Melt goodreads and amazon columns into a single column\n",
    "hp_melt = hp_books.melt(id_vars=['full_title','writer'], \n",
    "                        var_name='source', \n",
    "                        value_vars=['goodreads',\"amazon\"], \n",
    "                        value_name='rating')"
   ]
  }
 ],
 "metadata": {
  "kernelspec": {
   "display_name": "Python 3 (ipykernel)",
   "language": "python",
   "name": "python3"
  },
  "language_info": {
   "codemirror_mode": {
    "name": "ipython",
    "version": 3
   },
   "file_extension": ".py",
   "mimetype": "text/x-python",
   "name": "python",
   "nbconvert_exporter": "python",
   "pygments_lexer": "ipython3",
   "version": "3.9.7"
  }
 },
 "nbformat": 4,
 "nbformat_minor": 5
}
