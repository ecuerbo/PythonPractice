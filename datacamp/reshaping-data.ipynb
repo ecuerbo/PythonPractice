{
 "cells": [
  {
   "cell_type": "code",
   "execution_count": null,
   "id": "310a47d9",
   "metadata": {},
   "outputs": [],
   "source": [
    "# Modify the DataFrame to keep only height and weight columns\n",
    "fifa_transpose = fifa_players.set_index('name')[['height','weight']]"
   ]
  },
  {
   "cell_type": "code",
   "execution_count": null,
   "id": "5abced94",
   "metadata": {},
   "outputs": [],
   "source": [
    "#using pivot\n",
    "df.pivot(index='Year',columns='Name',values='Weight')"
   ]
  },
  {
   "cell_type": "code",
   "execution_count": null,
   "id": "44e24716",
   "metadata": {},
   "outputs": [],
   "source": [
    "# Discard the fifth row to delete all repeated rows\n",
    "fifa_drop = fifa_players.drop(4, axis=0)\n",
    "\n",
    "# Use pivot method to get all scores by name and movement\n",
    "fifa_pivot = fifa_drop.pivot(index='name', columns='movement') \n",
    "\n",
    "# Print fifa_pivot\n",
    "print(fifa_pivot)  \n",
    "\n",
    "# Use pivot table to get all scores by name and movement\n",
    "fifa_pivot_table = fifa_players.pivot_table(index='name', \n",
    "                                     columns='movement', \n",
    "                                     aggfunc='mean')\n",
    "# Print fifa_pivot_table\n",
    "print(fifa_pivot_table)"
   ]
  },
  {
   "cell_type": "code",
   "execution_count": null,
   "id": "69ac5c8c",
   "metadata": {},
   "outputs": [],
   "source": [
    "# Use pivot table to show the count of players by club and nationality and the total count\n",
    "players_country = fifa_players.pivot_table(index='nationality', \n",
    "                                    columns='club', \n",
    "                                    values='name', \n",
    "                                    aggfunc='count', \n",
    "                                    margins=True)"
   ]
  },
  {
   "cell_type": "code",
   "execution_count": null,
   "id": "ae88271c",
   "metadata": {},
   "outputs": [],
   "source": [
    "# Set the argument to get the maximum for each row and column\n",
    "fifa_mean = fifa_players.pivot_table(index=['nationality', 'club'], \n",
    "                                     columns='year', \n",
    "                                     aggfunc='max', \n",
    "                                     margins=True)"
   ]
  },
  {
   "cell_type": "code",
   "execution_count": null,
   "id": "c61dca12",
   "metadata": {},
   "outputs": [],
   "source": [
    "# Melt rating and rating_count columns using title and authors as identifier\n",
    "books_melted = books_gothic.melt(id_vars=['title','authors'], \n",
    "                                 value_vars=['rating', 'rating_count'])"
   ]
  },
  {
   "cell_type": "code",
   "execution_count": null,
   "id": "efb89ce9",
   "metadata": {},
   "outputs": [],
   "source": [
    "# Assign the name number to the new column containing the values\n",
    "books_ratings = books_gothic.melt(id_vars=['title', 'authors', 'publisher'], \n",
    "                                  value_vars=['rating', 'rating_count'], \n",
    "                                  var_name='feature', \n",
    "                                  value_name='number')"
   ]
  },
  {
   "cell_type": "code",
   "execution_count": null,
   "id": "193fc6eb",
   "metadata": {},
   "outputs": [],
   "source": [
    "# Reshape wide to long using title as index and version as new name, and extracting isbn prefix \n",
    "isbn_long = pd.wide_to_long(golden_age, \n",
    "                    stubnames=['isbn'], \n",
    "                    i='title', \n",
    "                    j='version')\n"
   ]
  },
  {
   "cell_type": "code",
   "execution_count": null,
   "id": "f881a870",
   "metadata": {},
   "outputs": [],
   "source": [
    "# Specify that wide columns have a suffix containing words\n",
    "the_code_long = pd.wide_to_long(books_brown, \n",
    "                                stubnames=['language', 'publisher'], \n",
    "                                i=['author', 'title'], \n",
    "                                j='code', \n",
    "                                sep='_', \n",
    "                                suffix='\\w+')"
   ]
  },
  {
   "cell_type": "code",
   "execution_count": null,
   "id": "749d0e32",
   "metadata": {},
   "outputs": [],
   "source": [
    "# Modify books_hunger by resetting the index without dropping it\n",
    "books_hunger.reset_index(drop=False, inplace=True)\n",
    "\n",
    "# Reshape using title and language as index, feature as new name, publication and page as prefix separated by space and ending in a word\n",
    "publication_features = pd.wide_to_long(books_hunger, \n",
    "                                       stubnames=['publication','page'], \n",
    "                                       i=['title','language'], \n",
    "                                       j='feature', \n",
    "                                       sep=' ', \n",
    "                                       suffix='\\w+')"
   ]
  },
  {
   "cell_type": "code",
   "execution_count": null,
   "id": "d71e80ac",
   "metadata": {},
   "outputs": [],
   "source": [
    "#splitting into two columns\n",
    "#working with strings\n",
    "books[['main_title','subtitle']] =books['title'].str.split(\":\", expand=True)\n",
    "books.drop('title', axis=1, inplace=True)\n",
    "pd.wide_to_long(books, stubnames=['ratings','sold'],\n",
    "               i=['main_title','subtitle'],\n",
    "               j='year')"
   ]
  },
  {
   "cell_type": "code",
   "execution_count": null,
   "id": "230ab11d",
   "metadata": {},
   "outputs": [],
   "source": [
    "#concatenate two columns\n",
    "books_new['name_author'].str.cat(books_new['lastname_author'], sep=\" \")"
   ]
  },
  {
   "cell_type": "code",
   "execution_count": null,
   "id": "f6589b75",
   "metadata": {},
   "outputs": [],
   "source": [
    "# Split by the hyphen the index of books_dys\n",
    "books_dys.index = books_dys.index.str.split('-').str.get(0)\n",
    "\n",
    "# Concatenate the index with the list author_list separated by a hyphen\n",
    "books_dys.index = books_dys.index.str.cat(author_list, sep=\"-\")"
   ]
  },
  {
   "cell_type": "code",
   "execution_count": null,
   "id": "d9888859",
   "metadata": {},
   "outputs": [],
   "source": [
    "# Concatenate the title and subtitle separated by \"and\" surrounded by spaces\n",
    "hp_books['full_title'] = hp_books['title'].str.cat(hp_books['subtitle'], sep =\" and \") \n",
    "\n",
    "# Split the authors into writer and illustrator columns\n",
    "hp_books[['writer', 'illustrator']] = hp_books['authors'].str.split('/', expand=True)\n",
    "\n",
    "# Melt goodreads and amazon columns into a single column\n",
    "hp_melt = hp_books.melt(id_vars=['full_title','writer'], \n",
    "                        var_name='source', \n",
    "                        value_vars=['goodreads',\"amazon\"], \n",
    "                        value_name='rating')"
   ]
  },
  {
   "cell_type": "code",
   "execution_count": null,
   "id": "34adb6c6",
   "metadata": {},
   "outputs": [],
   "source": [
    "# Split main_title by a colon and assign it to two columns named title and subtitle \n",
    "books_sh[['title', 'subtitle']] = books_sh['main_title'].str.split(':', expand=True)\n",
    "\n",
    "# Split version by a space and assign the second element to the column named volume \n",
    "books_sh['volume'] = books_sh['version'].str.split(' ').str.get(1)\n",
    "\n",
    "# Drop the main_title and version columns modifying books_sh\n",
    "books_sh.drop(['main_title', 'version'], axis=1, inplace=True)\n",
    "\n",
    "# Reshape using title, subtitle and volume as index, name feature the new variable from columns starting with number, separated by undescore and ending in words \n",
    "sh_long = pd.wide_to_long(books_sh, stubnames=['number'], i=['title', 'subtitle','volume'], \n",
    "                  j='feature', sep=\"_\", suffix='\\w+')"
   ]
  },
  {
   "cell_type": "code",
   "execution_count": null,
   "id": "cfdc9c97",
   "metadata": {},
   "outputs": [],
   "source": [
    "new_array = [['yes','no','yes'],['no','yes','yes']]\n",
    "churn.index= pd.MultiIndex.from_arrays(new_array,names=['member','credit_card'])"
   ]
  },
  {
   "cell_type": "code",
   "execution_count": null,
   "id": "b577a68c",
   "metadata": {},
   "outputs": [],
   "source": [
    "# Predefined list to use as index\n",
    "new_index = [['California', 'California', 'New York', 'Ohio'], \n",
    "             ['Los Angeles', 'San Francisco', 'New York', 'Cleveland']]\n",
    "\n",
    "# Create a multi-level index using predefined new_index\n",
    "churn_new = pd.MultiIndex.from_arrays(new_index, names=['state', 'city'])\n",
    "\n",
    "# Assign the new index to the churn index\n",
    "churn.index = churn_new\n",
    "\n",
    "# Reshape by stacking churn DataFrame\n",
    "churn_stack = churn.stack()\n"
   ]
  },
  {
   "cell_type": "code",
   "execution_count": null,
   "id": "d21de94d",
   "metadata": {},
   "outputs": [],
   "source": [
    "# Set state and city as index modifying the DataFrame\n",
    "churn.set_index(['state', 'city'], inplace=True)\n",
    "\n",
    "# Reshape by stacking the second level\n",
    "churn_stack = churn.stack(level=1)"
   ]
  },
  {
   "cell_type": "code",
   "execution_count": null,
   "id": "033697a0",
   "metadata": {},
   "outputs": [],
   "source": [
    "# Stack country level, group by country and get the median \n",
    "obesity_median = obesity.stack(level='country').groupby('country').median()"
   ]
  },
  {
   "cell_type": "code",
   "execution_count": null,
   "id": "ae721b8f",
   "metadata": {},
   "outputs": [],
   "source": [
    "#list-like columns\n",
    "cities_explode = cities['zip_code'].explode()\n",
    "cities[['city', 'country']].merge(cities_explode, left_index=True, right_index=True)\n",
    "\n",
    "#shorter code\n",
    "cities_explode = cities.explode('zip_code')"
   ]
  },
  {
   "cell_type": "code",
   "execution_count": null,
   "id": "9e78758b",
   "metadata": {},
   "outputs": [],
   "source": [
    "#exploding non lists\n",
    "#chaining operations\n",
    "cities.assign(zip_code=cities['zip_code'].str.split(',')).explode('zip_code')"
   ]
  },
  {
   "cell_type": "code",
   "execution_count": null,
   "id": "feaedd2e",
   "metadata": {},
   "outputs": [],
   "source": [
    "# Transform the list-like column named bounds  \n",
    "obesity_explode = obesity.explode('bounds')\n",
    "\n",
    "# Modify obesity_explode by resetting the index \n",
    "obesity_explode.reset_index(drop=True, inplace=True)\n",
    "\n",
    "# Print obesity_explode\n",
    "print(obesity_explode)"
   ]
  },
  {
   "cell_type": "code",
   "execution_count": null,
   "id": "01626e14",
   "metadata": {},
   "outputs": [],
   "source": [
    "# Assign the result of the split to the bounds column\n",
    "obesity_split = obesity.assign(bounds=obesity['bounds'].str.split('-'))\n",
    "\n",
    "# Transform the column bounds in the obesity DataFrame\n",
    "obesity_split = obesity.assign(bounds=obesity['bounds'].str.split('-')).explode('bounds')\n"
   ]
  },
  {
   "cell_type": "code",
   "execution_count": 2,
   "id": "8e876693",
   "metadata": {},
   "outputs": [
    {
     "data": {
      "text/html": [
       "<div>\n",
       "<style scoped>\n",
       "    .dataframe tbody tr th:only-of-type {\n",
       "        vertical-align: middle;\n",
       "    }\n",
       "\n",
       "    .dataframe tbody tr th {\n",
       "        vertical-align: top;\n",
       "    }\n",
       "\n",
       "    .dataframe thead th {\n",
       "        text-align: right;\n",
       "    }\n",
       "</style>\n",
       "<table border=\"1\" class=\"dataframe\">\n",
       "  <thead>\n",
       "    <tr style=\"text-align: right;\">\n",
       "      <th></th>\n",
       "      <th>first</th>\n",
       "      <th>last</th>\n",
       "      <th>books.title</th>\n",
       "      <th>books.year</th>\n",
       "    </tr>\n",
       "  </thead>\n",
       "  <tbody>\n",
       "    <tr>\n",
       "      <th>0</th>\n",
       "      <td>Mary</td>\n",
       "      <td>Shelley</td>\n",
       "      <td>Frankenstein</td>\n",
       "      <td>1818</td>\n",
       "    </tr>\n",
       "    <tr>\n",
       "      <th>1</th>\n",
       "      <td>Ernest</td>\n",
       "      <td>Hemingway</td>\n",
       "      <td>The Old Man and the Sea</td>\n",
       "      <td>1951</td>\n",
       "    </tr>\n",
       "  </tbody>\n",
       "</table>\n",
       "</div>"
      ],
      "text/plain": [
       "    first       last              books.title  books.year\n",
       "0    Mary    Shelley             Frankenstein        1818\n",
       "1  Ernest  Hemingway  The Old Man and the Sea        1951"
      ]
     },
     "execution_count": 2,
     "metadata": {},
     "output_type": "execute_result"
    }
   ],
   "source": [
    "writers = [\n",
    "    {\n",
    "        \"first\":'Mary',\n",
    "        \"last\":\"Shelley\",\n",
    "        \"books\":{\"title\":\"Frankenstein\",\"year\":1818}\n",
    "    },\n",
    "    {\n",
    "        \"first\":'Ernest',\n",
    "        \"last\":\"Hemingway\",\n",
    "        \"books\":{\"title\":\"The Old Man and the Sea\",\"year\":1951}\n",
    "    }\n",
    "]\n",
    "\n",
    "from pandas import json_normalize\n",
    "json_normalize(writers)"
   ]
  },
  {
   "cell_type": "code",
   "execution_count": 3,
   "id": "fa76aa21",
   "metadata": {},
   "outputs": [
    {
     "data": {
      "text/html": [
       "<div>\n",
       "<style scoped>\n",
       "    .dataframe tbody tr th:only-of-type {\n",
       "        vertical-align: middle;\n",
       "    }\n",
       "\n",
       "    .dataframe tbody tr th {\n",
       "        vertical-align: top;\n",
       "    }\n",
       "\n",
       "    .dataframe thead th {\n",
       "        text-align: right;\n",
       "    }\n",
       "</style>\n",
       "<table border=\"1\" class=\"dataframe\">\n",
       "  <thead>\n",
       "    <tr style=\"text-align: right;\">\n",
       "      <th></th>\n",
       "      <th>first</th>\n",
       "      <th>last</th>\n",
       "      <th>books_title</th>\n",
       "      <th>books_year</th>\n",
       "    </tr>\n",
       "  </thead>\n",
       "  <tbody>\n",
       "    <tr>\n",
       "      <th>0</th>\n",
       "      <td>Mary</td>\n",
       "      <td>Shelley</td>\n",
       "      <td>Frankenstein</td>\n",
       "      <td>1818</td>\n",
       "    </tr>\n",
       "    <tr>\n",
       "      <th>1</th>\n",
       "      <td>Ernest</td>\n",
       "      <td>Hemingway</td>\n",
       "      <td>The Old Man and the Sea</td>\n",
       "      <td>1951</td>\n",
       "    </tr>\n",
       "  </tbody>\n",
       "</table>\n",
       "</div>"
      ],
      "text/plain": [
       "    first       last              books_title  books_year\n",
       "0    Mary    Shelley             Frankenstein        1818\n",
       "1  Ernest  Hemingway  The Old Man and the Sea        1951"
      ]
     },
     "execution_count": 3,
     "metadata": {},
     "output_type": "execute_result"
    }
   ],
   "source": [
    "writers_norm = json_normalize(writers, sep='_')\n",
    "writers_norm"
   ]
  },
  {
   "cell_type": "code",
   "execution_count": 5,
   "id": "207ce70b",
   "metadata": {},
   "outputs": [
    {
     "data": {
      "text/html": [
       "<div>\n",
       "<style scoped>\n",
       "    .dataframe tbody tr th:only-of-type {\n",
       "        vertical-align: middle;\n",
       "    }\n",
       "\n",
       "    .dataframe tbody tr th {\n",
       "        vertical-align: top;\n",
       "    }\n",
       "\n",
       "    .dataframe thead th {\n",
       "        text-align: right;\n",
       "    }\n",
       "</style>\n",
       "<table border=\"1\" class=\"dataframe\">\n",
       "  <thead>\n",
       "    <tr style=\"text-align: right;\">\n",
       "      <th></th>\n",
       "      <th></th>\n",
       "      <th></th>\n",
       "      <th>books</th>\n",
       "    </tr>\n",
       "    <tr>\n",
       "      <th>first</th>\n",
       "      <th>last</th>\n",
       "      <th>feature</th>\n",
       "      <th></th>\n",
       "    </tr>\n",
       "  </thead>\n",
       "  <tbody>\n",
       "    <tr>\n",
       "      <th rowspan=\"2\" valign=\"top\">Mary</th>\n",
       "      <th rowspan=\"2\" valign=\"top\">Shelley</th>\n",
       "      <th>title</th>\n",
       "      <td>Frankenstein</td>\n",
       "    </tr>\n",
       "    <tr>\n",
       "      <th>year</th>\n",
       "      <td>1818</td>\n",
       "    </tr>\n",
       "    <tr>\n",
       "      <th rowspan=\"2\" valign=\"top\">Ernest</th>\n",
       "      <th rowspan=\"2\" valign=\"top\">Hemingway</th>\n",
       "      <th>title</th>\n",
       "      <td>The Old Man and the Sea</td>\n",
       "    </tr>\n",
       "    <tr>\n",
       "      <th>year</th>\n",
       "      <td>1951</td>\n",
       "    </tr>\n",
       "  </tbody>\n",
       "</table>\n",
       "</div>"
      ],
      "text/plain": [
       "                                            books\n",
       "first  last      feature                         \n",
       "Mary   Shelley   title               Frankenstein\n",
       "                 year                        1818\n",
       "Ernest Hemingway title    The Old Man and the Sea\n",
       "                 year                        1951"
      ]
     },
     "execution_count": 5,
     "metadata": {},
     "output_type": "execute_result"
    }
   ],
   "source": [
    "import pandas as pd\n",
    "pd.wide_to_long(writers_norm, stubnames=['books'], i=['first','last'],j='feature',sep='_', suffix='\\w+')"
   ]
  },
  {
   "cell_type": "code",
   "execution_count": 10,
   "id": "32149c1f",
   "metadata": {},
   "outputs": [
    {
     "data": {
      "text/html": [
       "<div>\n",
       "<style scoped>\n",
       "    .dataframe tbody tr th:only-of-type {\n",
       "        vertical-align: middle;\n",
       "    }\n",
       "\n",
       "    .dataframe tbody tr th {\n",
       "        vertical-align: top;\n",
       "    }\n",
       "\n",
       "    .dataframe thead th {\n",
       "        text-align: right;\n",
       "    }\n",
       "</style>\n",
       "<table border=\"1\" class=\"dataframe\">\n",
       "  <thead>\n",
       "    <tr style=\"text-align: right;\">\n",
       "      <th></th>\n",
       "      <th>first</th>\n",
       "      <th>last</th>\n",
       "      <th>books</th>\n",
       "    </tr>\n",
       "  </thead>\n",
       "  <tbody>\n",
       "    <tr>\n",
       "      <th>0</th>\n",
       "      <td>Mary</td>\n",
       "      <td>Shelley</td>\n",
       "      <td>[{'title': 'Frankenstein', 'year': 1818}, {'ti...</td>\n",
       "    </tr>\n",
       "    <tr>\n",
       "      <th>1</th>\n",
       "      <td>Ernest</td>\n",
       "      <td>Hemingway</td>\n",
       "      <td>[{'title': 'The Old Man and the Sea', 'year': ...</td>\n",
       "    </tr>\n",
       "  </tbody>\n",
       "</table>\n",
       "</div>"
      ],
      "text/plain": [
       "    first       last                                              books\n",
       "0    Mary    Shelley  [{'title': 'Frankenstein', 'year': 1818}, {'ti...\n",
       "1  Ernest  Hemingway  [{'title': 'The Old Man and the Sea', 'year': ..."
      ]
     },
     "execution_count": 10,
     "metadata": {},
     "output_type": "execute_result"
    }
   ],
   "source": [
    "writers1 = [\n",
    "    {\n",
    "        \"first\":'Mary',\n",
    "        \"last\":\"Shelley\",\n",
    "        \"books\":[{\"title\":\"Frankenstein\",\"year\":1818},\n",
    "                {\"title\":\"Mathilda\",\"year\":1819},\n",
    "                {\"title\":\"The last man\",\"year\":1826}]\n",
    "    },\n",
    "    {\n",
    "        \"first\":'Ernest',\n",
    "        \"last\":\"Hemingway\",\n",
    "        \"books\":[{\"title\":\"The Old Man and the Sea\",\"year\":1951},\n",
    "                {\"title\":\"The Sun Also Rises\",\"year\":1927}]\n",
    "    }\n",
    "]\n",
    "\n",
    "json_normalize(writers1)"
   ]
  },
  {
   "cell_type": "code",
   "execution_count": 7,
   "id": "5166c3f1",
   "metadata": {},
   "outputs": [
    {
     "data": {
      "text/html": [
       "<div>\n",
       "<style scoped>\n",
       "    .dataframe tbody tr th:only-of-type {\n",
       "        vertical-align: middle;\n",
       "    }\n",
       "\n",
       "    .dataframe tbody tr th {\n",
       "        vertical-align: top;\n",
       "    }\n",
       "\n",
       "    .dataframe thead th {\n",
       "        text-align: right;\n",
       "    }\n",
       "</style>\n",
       "<table border=\"1\" class=\"dataframe\">\n",
       "  <thead>\n",
       "    <tr style=\"text-align: right;\">\n",
       "      <th></th>\n",
       "      <th>title</th>\n",
       "      <th>year</th>\n",
       "    </tr>\n",
       "  </thead>\n",
       "  <tbody>\n",
       "    <tr>\n",
       "      <th>0</th>\n",
       "      <td>Frankenstein</td>\n",
       "      <td>1818</td>\n",
       "    </tr>\n",
       "    <tr>\n",
       "      <th>1</th>\n",
       "      <td>Mathilda</td>\n",
       "      <td>1819</td>\n",
       "    </tr>\n",
       "    <tr>\n",
       "      <th>2</th>\n",
       "      <td>The last man</td>\n",
       "      <td>1826</td>\n",
       "    </tr>\n",
       "    <tr>\n",
       "      <th>3</th>\n",
       "      <td>The Old Man and the Sea</td>\n",
       "      <td>1951</td>\n",
       "    </tr>\n",
       "    <tr>\n",
       "      <th>4</th>\n",
       "      <td>The Sun Also Rises</td>\n",
       "      <td>1927</td>\n",
       "    </tr>\n",
       "  </tbody>\n",
       "</table>\n",
       "</div>"
      ],
      "text/plain": [
       "                     title  year\n",
       "0             Frankenstein  1818\n",
       "1                 Mathilda  1819\n",
       "2             The last man  1826\n",
       "3  The Old Man and the Sea  1951\n",
       "4       The Sun Also Rises  1927"
      ]
     },
     "execution_count": 7,
     "metadata": {},
     "output_type": "execute_result"
    }
   ],
   "source": [
    "#above is not flattened out yet, use recod_path\n",
    "json_normalize(writers1, record_path='books')\n"
   ]
  },
  {
   "cell_type": "code",
   "execution_count": 12,
   "id": "a4f1a30c",
   "metadata": {},
   "outputs": [
    {
     "data": {
      "text/html": [
       "<div>\n",
       "<style scoped>\n",
       "    .dataframe tbody tr th:only-of-type {\n",
       "        vertical-align: middle;\n",
       "    }\n",
       "\n",
       "    .dataframe tbody tr th {\n",
       "        vertical-align: top;\n",
       "    }\n",
       "\n",
       "    .dataframe thead th {\n",
       "        text-align: right;\n",
       "    }\n",
       "</style>\n",
       "<table border=\"1\" class=\"dataframe\">\n",
       "  <thead>\n",
       "    <tr style=\"text-align: right;\">\n",
       "      <th></th>\n",
       "      <th>title</th>\n",
       "      <th>year</th>\n",
       "      <th>first</th>\n",
       "      <th>last</th>\n",
       "    </tr>\n",
       "  </thead>\n",
       "  <tbody>\n",
       "    <tr>\n",
       "      <th>0</th>\n",
       "      <td>Frankenstein</td>\n",
       "      <td>1818</td>\n",
       "      <td>Mary</td>\n",
       "      <td>Shelley</td>\n",
       "    </tr>\n",
       "    <tr>\n",
       "      <th>1</th>\n",
       "      <td>Mathilda</td>\n",
       "      <td>1819</td>\n",
       "      <td>Mary</td>\n",
       "      <td>Shelley</td>\n",
       "    </tr>\n",
       "    <tr>\n",
       "      <th>2</th>\n",
       "      <td>The last man</td>\n",
       "      <td>1826</td>\n",
       "      <td>Mary</td>\n",
       "      <td>Shelley</td>\n",
       "    </tr>\n",
       "    <tr>\n",
       "      <th>3</th>\n",
       "      <td>The Old Man and the Sea</td>\n",
       "      <td>1951</td>\n",
       "      <td>Ernest</td>\n",
       "      <td>Hemingway</td>\n",
       "    </tr>\n",
       "    <tr>\n",
       "      <th>4</th>\n",
       "      <td>The Sun Also Rises</td>\n",
       "      <td>1927</td>\n",
       "      <td>Ernest</td>\n",
       "      <td>Hemingway</td>\n",
       "    </tr>\n",
       "  </tbody>\n",
       "</table>\n",
       "</div>"
      ],
      "text/plain": [
       "                     title  year   first       last\n",
       "0             Frankenstein  1818    Mary    Shelley\n",
       "1                 Mathilda  1819    Mary    Shelley\n",
       "2             The last man  1826    Mary    Shelley\n",
       "3  The Old Man and the Sea  1951  Ernest  Hemingway\n",
       "4       The Sun Also Rises  1927  Ernest  Hemingway"
      ]
     },
     "execution_count": 12,
     "metadata": {},
     "output_type": "execute_result"
    }
   ],
   "source": [
    "#include meta - tells pandas what columns to record\n",
    "json_normalize(writers1, record_path='books', meta=['first','last'])"
   ]
  },
  {
   "cell_type": "code",
   "execution_count": null,
   "id": "ad8f3ccc",
   "metadata": {},
   "outputs": [],
   "source": [
    "# Import the json_normalize function\n",
    "from pandas import json_normalize\n",
    "\n",
    "# Normalize movies and separate the new columns with an underscore \n",
    "movies_norm = json_normalize(movies, sep='_')\n",
    "\n",
    "# Reshape using director and producer as index, create movies from column starting from features\n",
    "movies_long = pd.wide_to_long(movies_norm, stubnames='features', \n",
    "                      i=['director', 'producer'], j='movies', \n",
    "                      sep='_', suffix='\\w+')"
   ]
  },
  {
   "cell_type": "code",
   "execution_count": 16,
   "id": "e000f9e1",
   "metadata": {},
   "outputs": [],
   "source": [
    "movies = [\n",
    "    {'director': 'Woody Allen',\n",
    "     'producer': 'Letty Aronson',\n",
    "     'features': [{'title': 'Magic in the Moonlight', 'year': 2014},\n",
    "                  {'title': 'Vicky Cristina Barcelona', 'year': 2008},\n",
    "                  {'title': 'Midnight in Paris', 'year': 2011}]},\n",
    "    {'director': 'Niki Caro',\n",
    "     'producer': 'Jason Reed',\n",
    "     'features': [{'title': 'Mulan', 'year': 2020}]}]"
   ]
  },
  {
   "cell_type": "code",
   "execution_count": 19,
   "id": "4fac06ca",
   "metadata": {},
   "outputs": [
    {
     "name": "stdout",
     "output_type": "stream",
     "text": [
      "                      title  year     director       producer\n",
      "0    Magic in the Moonlight  2014  Woody Allen  Letty Aronson\n",
      "1  Vicky Cristina Barcelona  2008  Woody Allen  Letty Aronson\n",
      "2         Midnight in Paris  2011  Woody Allen  Letty Aronson\n",
      "3                     Mulan  2020    Niki Caro     Jason Reed\n"
     ]
    }
   ],
   "source": [
    "movies_norm = json_normalize(movies, record_path='features', meta=['director', 'producer'])\n",
    "print(movies_norm)"
   ]
  },
  {
   "cell_type": "code",
   "execution_count": 25,
   "id": "5392c992",
   "metadata": {},
   "outputs": [
    {
     "data": {
      "text/html": [
       "<div>\n",
       "<style scoped>\n",
       "    .dataframe tbody tr th:only-of-type {\n",
       "        vertical-align: middle;\n",
       "    }\n",
       "\n",
       "    .dataframe tbody tr th {\n",
       "        vertical-align: top;\n",
       "    }\n",
       "\n",
       "    .dataframe thead th {\n",
       "        text-align: right;\n",
       "    }\n",
       "</style>\n",
       "<table border=\"1\" class=\"dataframe\">\n",
       "  <thead>\n",
       "    <tr style=\"text-align: right;\">\n",
       "      <th></th>\n",
       "      <th>writers</th>\n",
       "      <th>books</th>\n",
       "    </tr>\n",
       "  </thead>\n",
       "  <tbody>\n",
       "    <tr>\n",
       "      <th>0</th>\n",
       "      <td>Mary Shelley</td>\n",
       "      <td>{\"title\":\"Frankenstein\",\"year\":\"1818\"}</td>\n",
       "    </tr>\n",
       "    <tr>\n",
       "      <th>1</th>\n",
       "      <td>Ernest Hemingway</td>\n",
       "      <td>{\"title\":\"The Old Man and the Sea\",\"year\":\"1951\"}</td>\n",
       "    </tr>\n",
       "  </tbody>\n",
       "</table>\n",
       "</div>"
      ],
      "text/plain": [
       "            writers                                              books\n",
       "0      Mary Shelley             {\"title\":\"Frankenstein\",\"year\":\"1818\"}\n",
       "1  Ernest Hemingway  {\"title\":\"The Old Man and the Sea\",\"year\":\"1951\"}"
      ]
     },
     "execution_count": 25,
     "metadata": {},
     "output_type": "execute_result"
    }
   ],
   "source": [
    "writers = ['Mary Shelley', 'Ernest Hemingway']\n",
    "books = ['{\"title\":\"Frankenstein\",\"year\":\"1818\"}',\n",
    "        '{\"title\":\"The Old Man and the Sea\",\"year\":\"1951\"}']\n",
    "cols = pd.DataFrame(dict(writers=writers, books=books))\n",
    "cols"
   ]
  },
  {
   "cell_type": "code",
   "execution_count": 21,
   "id": "8e4139d4",
   "metadata": {},
   "outputs": [
    {
     "data": {
      "text/html": [
       "<div>\n",
       "<style scoped>\n",
       "    .dataframe tbody tr th:only-of-type {\n",
       "        vertical-align: middle;\n",
       "    }\n",
       "\n",
       "    .dataframe tbody tr th {\n",
       "        vertical-align: top;\n",
       "    }\n",
       "\n",
       "    .dataframe thead th {\n",
       "        text-align: right;\n",
       "    }\n",
       "</style>\n",
       "<table border=\"1\" class=\"dataframe\">\n",
       "  <thead>\n",
       "    <tr style=\"text-align: right;\">\n",
       "      <th></th>\n",
       "      <th>title</th>\n",
       "      <th>year</th>\n",
       "    </tr>\n",
       "  </thead>\n",
       "  <tbody>\n",
       "    <tr>\n",
       "      <th>0</th>\n",
       "      <td>Frankenstein</td>\n",
       "      <td>1818</td>\n",
       "    </tr>\n",
       "    <tr>\n",
       "      <th>1</th>\n",
       "      <td>The Old Man and the Sea</td>\n",
       "      <td>1951</td>\n",
       "    </tr>\n",
       "  </tbody>\n",
       "</table>\n",
       "</div>"
      ],
      "text/plain": [
       "                     title  year\n",
       "0             Frankenstein  1818\n",
       "1  The Old Man and the Sea  1951"
      ]
     },
     "execution_count": 21,
     "metadata": {},
     "output_type": "execute_result"
    }
   ],
   "source": [
    "import json\n",
    "books = cols['books'].apply(json.loads).apply(pd.Series)\n",
    "books"
   ]
  },
  {
   "cell_type": "code",
   "execution_count": 22,
   "id": "1c010ae4",
   "metadata": {},
   "outputs": [
    {
     "data": {
      "text/html": [
       "<div>\n",
       "<style scoped>\n",
       "    .dataframe tbody tr th:only-of-type {\n",
       "        vertical-align: middle;\n",
       "    }\n",
       "\n",
       "    .dataframe tbody tr th {\n",
       "        vertical-align: top;\n",
       "    }\n",
       "\n",
       "    .dataframe thead th {\n",
       "        text-align: right;\n",
       "    }\n",
       "</style>\n",
       "<table border=\"1\" class=\"dataframe\">\n",
       "  <thead>\n",
       "    <tr style=\"text-align: right;\">\n",
       "      <th></th>\n",
       "      <th>writers</th>\n",
       "      <th>title</th>\n",
       "      <th>year</th>\n",
       "    </tr>\n",
       "  </thead>\n",
       "  <tbody>\n",
       "    <tr>\n",
       "      <th>0</th>\n",
       "      <td>Mary Shelley</td>\n",
       "      <td>Frankenstein</td>\n",
       "      <td>1818</td>\n",
       "    </tr>\n",
       "    <tr>\n",
       "      <th>1</th>\n",
       "      <td>Ernest Hemingway</td>\n",
       "      <td>The Old Man and the Sea</td>\n",
       "      <td>1951</td>\n",
       "    </tr>\n",
       "  </tbody>\n",
       "</table>\n",
       "</div>"
      ],
      "text/plain": [
       "            writers                    title  year\n",
       "0      Mary Shelley             Frankenstein  1818\n",
       "1  Ernest Hemingway  The Old Man and the Sea  1951"
      ]
     },
     "execution_count": 22,
     "metadata": {},
     "output_type": "execute_result"
    }
   ],
   "source": [
    "cols = cols.drop(columns='books')\n",
    "pd.concat([cols,books],axis=1)"
   ]
  },
  {
   "cell_type": "code",
   "execution_count": 27,
   "id": "65a69694",
   "metadata": {},
   "outputs": [
    {
     "data": {
      "text/html": [
       "<div>\n",
       "<style scoped>\n",
       "    .dataframe tbody tr th:only-of-type {\n",
       "        vertical-align: middle;\n",
       "    }\n",
       "\n",
       "    .dataframe tbody tr th {\n",
       "        vertical-align: top;\n",
       "    }\n",
       "\n",
       "    .dataframe thead th {\n",
       "        text-align: right;\n",
       "    }\n",
       "</style>\n",
       "<table border=\"1\" class=\"dataframe\">\n",
       "  <thead>\n",
       "    <tr style=\"text-align: right;\">\n",
       "      <th></th>\n",
       "      <th>writers</th>\n",
       "      <th>title</th>\n",
       "      <th>year</th>\n",
       "    </tr>\n",
       "  </thead>\n",
       "  <tbody>\n",
       "    <tr>\n",
       "      <th>0</th>\n",
       "      <td>Mary Shelley</td>\n",
       "      <td>Frankenstein</td>\n",
       "      <td>1818</td>\n",
       "    </tr>\n",
       "    <tr>\n",
       "      <th>1</th>\n",
       "      <td>Ernest Hemingway</td>\n",
       "      <td>The Old Man and the Sea</td>\n",
       "      <td>1951</td>\n",
       "    </tr>\n",
       "  </tbody>\n",
       "</table>\n",
       "</div>"
      ],
      "text/plain": [
       "            writers                    title  year\n",
       "0      Mary Shelley             Frankenstein  1818\n",
       "1  Ernest Hemingway  The Old Man and the Sea  1951"
      ]
     },
     "execution_count": 27,
     "metadata": {},
     "output_type": "execute_result"
    }
   ],
   "source": [
    "#dumping nested data\n",
    "books = cols['books'].apply(json.loads).to_list()\n",
    "books_dump = json.dumps(books)\n",
    "new_books = pd.read_json(books_dump)\n",
    "pd.concat([cols['writers'], new_books], axis=1)"
   ]
  },
  {
   "cell_type": "code",
   "execution_count": 34,
   "id": "5bf55e17",
   "metadata": {},
   "outputs": [
    {
     "data": {
      "text/html": [
       "<div>\n",
       "<style scoped>\n",
       "    .dataframe tbody tr th:only-of-type {\n",
       "        vertical-align: middle;\n",
       "    }\n",
       "\n",
       "    .dataframe tbody tr th {\n",
       "        vertical-align: top;\n",
       "    }\n",
       "\n",
       "    .dataframe thead th {\n",
       "        text-align: right;\n",
       "    }\n",
       "</style>\n",
       "<table border=\"1\" class=\"dataframe\">\n",
       "  <thead>\n",
       "    <tr style=\"text-align: right;\">\n",
       "      <th></th>\n",
       "      <th>names</th>\n",
       "      <th>bird_facts</th>\n",
       "    </tr>\n",
       "  </thead>\n",
       "  <tbody>\n",
       "    <tr>\n",
       "      <th>0</th>\n",
       "      <td>Killdeer</td>\n",
       "      <td>{\"Size\" : \"Large\", \"Color\": \"Golden brown\", \"B...</td>\n",
       "    </tr>\n",
       "    <tr>\n",
       "      <th>1</th>\n",
       "      <td>Chipping Sparrow</td>\n",
       "      <td>{\"Size\":\"Small\", \"Color\": \"Gray-white\", \"Behav...</td>\n",
       "    </tr>\n",
       "    <tr>\n",
       "      <th>2</th>\n",
       "      <td>Cedar Waxwing</td>\n",
       "      <td>{\"Size\":\"Small\", \"Color\": \"Gray-brown\", \"Behav...</td>\n",
       "    </tr>\n",
       "  </tbody>\n",
       "</table>\n",
       "</div>"
      ],
      "text/plain": [
       "              names                                         bird_facts\n",
       "0          Killdeer  {\"Size\" : \"Large\", \"Color\": \"Golden brown\", \"B...\n",
       "1  Chipping Sparrow  {\"Size\":\"Small\", \"Color\": \"Gray-white\", \"Behav...\n",
       "2     Cedar Waxwing  {\"Size\":\"Small\", \"Color\": \"Gray-brown\", \"Behav..."
      ]
     },
     "execution_count": 34,
     "metadata": {},
     "output_type": "execute_result"
    }
   ],
   "source": [
    "names=['Killdeer', 'Chipping Sparrow', 'Cedar Waxwing']\n",
    "bird_facts = ['{\"Size\" : \"Large\", \"Color\": \"Golden brown\", \"Behavior\": \"Runs swiftly along ground\", \"Habitat\": \"Rocky areas\"}',\n",
    " '{\"Size\":\"Small\", \"Color\": \"Gray-white\", \"Behavior\": \"Often in flocks\", \"Habitat\": \"Open woodlands\"}',\n",
    " '{\"Size\":\"Small\", \"Color\": \"Gray-brown\", \"Behavior\": \"Catch insects over open water\", \"Habitat\": \"Parks\"}']\n",
    "birds = pd.DataFrame(dict(names=names, bird_facts=bird_facts))\n",
    "birds"
   ]
  },
  {
   "cell_type": "code",
   "execution_count": 30,
   "id": "d64dd768",
   "metadata": {},
   "outputs": [
    {
     "data": {
      "text/html": [
       "<div>\n",
       "<style scoped>\n",
       "    .dataframe tbody tr th:only-of-type {\n",
       "        vertical-align: middle;\n",
       "    }\n",
       "\n",
       "    .dataframe tbody tr th {\n",
       "        vertical-align: top;\n",
       "    }\n",
       "\n",
       "    .dataframe thead th {\n",
       "        text-align: right;\n",
       "    }\n",
       "</style>\n",
       "<table border=\"1\" class=\"dataframe\">\n",
       "  <thead>\n",
       "    <tr style=\"text-align: right;\">\n",
       "      <th></th>\n",
       "      <th>Size</th>\n",
       "      <th>Color</th>\n",
       "      <th>Behavior</th>\n",
       "      <th>Habitat</th>\n",
       "    </tr>\n",
       "  </thead>\n",
       "  <tbody>\n",
       "    <tr>\n",
       "      <th>0</th>\n",
       "      <td>Large</td>\n",
       "      <td>Golden brown</td>\n",
       "      <td>Runs swiftly along ground</td>\n",
       "      <td>Rocky areas</td>\n",
       "    </tr>\n",
       "    <tr>\n",
       "      <th>1</th>\n",
       "      <td>Small</td>\n",
       "      <td>Gray-white</td>\n",
       "      <td>Often in flocks</td>\n",
       "      <td>Open woodlands</td>\n",
       "    </tr>\n",
       "    <tr>\n",
       "      <th>2</th>\n",
       "      <td>Small</td>\n",
       "      <td>Gray-brown</td>\n",
       "      <td>Catch insects over open water</td>\n",
       "      <td>Parks</td>\n",
       "    </tr>\n",
       "  </tbody>\n",
       "</table>\n",
       "</div>"
      ],
      "text/plain": [
       "    Size         Color                       Behavior         Habitat\n",
       "0  Large  Golden brown      Runs swiftly along ground     Rocky areas\n",
       "1  Small    Gray-white                Often in flocks  Open woodlands\n",
       "2  Small    Gray-brown  Catch insects over open water           Parks"
      ]
     },
     "execution_count": 30,
     "metadata": {},
     "output_type": "execute_result"
    }
   ],
   "source": [
    "data_split = birds['bird_facts'].apply(json.loads).apply(pd.Series)\n",
    "data_split"
   ]
  },
  {
   "cell_type": "code",
   "execution_count": 31,
   "id": "2c4ac8d1",
   "metadata": {},
   "outputs": [
    {
     "data": {
      "text/html": [
       "<div>\n",
       "<style scoped>\n",
       "    .dataframe tbody tr th:only-of-type {\n",
       "        vertical-align: middle;\n",
       "    }\n",
       "\n",
       "    .dataframe tbody tr th {\n",
       "        vertical-align: top;\n",
       "    }\n",
       "\n",
       "    .dataframe thead th {\n",
       "        text-align: right;\n",
       "    }\n",
       "</style>\n",
       "<table border=\"1\" class=\"dataframe\">\n",
       "  <thead>\n",
       "    <tr style=\"text-align: right;\">\n",
       "      <th></th>\n",
       "      <th>names</th>\n",
       "    </tr>\n",
       "  </thead>\n",
       "  <tbody>\n",
       "    <tr>\n",
       "      <th>0</th>\n",
       "      <td>Killdeer</td>\n",
       "    </tr>\n",
       "    <tr>\n",
       "      <th>1</th>\n",
       "      <td>Chipping Sparrow</td>\n",
       "    </tr>\n",
       "    <tr>\n",
       "      <th>2</th>\n",
       "      <td>Cedar Waxwing</td>\n",
       "    </tr>\n",
       "  </tbody>\n",
       "</table>\n",
       "</div>"
      ],
      "text/plain": [
       "              names\n",
       "0          Killdeer\n",
       "1  Chipping Sparrow\n",
       "2     Cedar Waxwing"
      ]
     },
     "execution_count": 31,
     "metadata": {},
     "output_type": "execute_result"
    }
   ],
   "source": [
    "birds.drop(columns='bird_facts', inplace=True)\n",
    "birds"
   ]
  },
  {
   "cell_type": "code",
   "execution_count": 32,
   "id": "dda47f0c",
   "metadata": {},
   "outputs": [
    {
     "data": {
      "text/html": [
       "<div>\n",
       "<style scoped>\n",
       "    .dataframe tbody tr th:only-of-type {\n",
       "        vertical-align: middle;\n",
       "    }\n",
       "\n",
       "    .dataframe tbody tr th {\n",
       "        vertical-align: top;\n",
       "    }\n",
       "\n",
       "    .dataframe thead th {\n",
       "        text-align: right;\n",
       "    }\n",
       "</style>\n",
       "<table border=\"1\" class=\"dataframe\">\n",
       "  <thead>\n",
       "    <tr style=\"text-align: right;\">\n",
       "      <th></th>\n",
       "      <th>names</th>\n",
       "      <th>Size</th>\n",
       "      <th>Color</th>\n",
       "      <th>Behavior</th>\n",
       "      <th>Habitat</th>\n",
       "    </tr>\n",
       "  </thead>\n",
       "  <tbody>\n",
       "    <tr>\n",
       "      <th>0</th>\n",
       "      <td>Killdeer</td>\n",
       "      <td>Large</td>\n",
       "      <td>Golden brown</td>\n",
       "      <td>Runs swiftly along ground</td>\n",
       "      <td>Rocky areas</td>\n",
       "    </tr>\n",
       "    <tr>\n",
       "      <th>1</th>\n",
       "      <td>Chipping Sparrow</td>\n",
       "      <td>Small</td>\n",
       "      <td>Gray-white</td>\n",
       "      <td>Often in flocks</td>\n",
       "      <td>Open woodlands</td>\n",
       "    </tr>\n",
       "    <tr>\n",
       "      <th>2</th>\n",
       "      <td>Cedar Waxwing</td>\n",
       "      <td>Small</td>\n",
       "      <td>Gray-brown</td>\n",
       "      <td>Catch insects over open water</td>\n",
       "      <td>Parks</td>\n",
       "    </tr>\n",
       "  </tbody>\n",
       "</table>\n",
       "</div>"
      ],
      "text/plain": [
       "              names   Size         Color                       Behavior  \\\n",
       "0          Killdeer  Large  Golden brown      Runs swiftly along ground   \n",
       "1  Chipping Sparrow  Small    Gray-white                Often in flocks   \n",
       "2     Cedar Waxwing  Small    Gray-brown  Catch insects over open water   \n",
       "\n",
       "          Habitat  \n",
       "0     Rocky areas  \n",
       "1  Open woodlands  \n",
       "2           Parks  "
      ]
     },
     "execution_count": 32,
     "metadata": {},
     "output_type": "execute_result"
    }
   ],
   "source": [
    "birds = pd.concat([birds,data_split], axis=1)\n",
    "birds"
   ]
  },
  {
   "cell_type": "code",
   "execution_count": 40,
   "id": "8a1ea829",
   "metadata": {},
   "outputs": [
    {
     "data": {
      "text/html": [
       "<div>\n",
       "<style scoped>\n",
       "    .dataframe tbody tr th:only-of-type {\n",
       "        vertical-align: middle;\n",
       "    }\n",
       "\n",
       "    .dataframe tbody tr th {\n",
       "        vertical-align: top;\n",
       "    }\n",
       "\n",
       "    .dataframe thead th {\n",
       "        text-align: right;\n",
       "    }\n",
       "</style>\n",
       "<table border=\"1\" class=\"dataframe\">\n",
       "  <thead>\n",
       "    <tr style=\"text-align: right;\">\n",
       "      <th></th>\n",
       "      <th>names</th>\n",
       "      <th>Size</th>\n",
       "      <th>Color</th>\n",
       "      <th>Behavior</th>\n",
       "      <th>Habitat</th>\n",
       "    </tr>\n",
       "  </thead>\n",
       "  <tbody>\n",
       "    <tr>\n",
       "      <th>0</th>\n",
       "      <td>Killdeer</td>\n",
       "      <td>Large</td>\n",
       "      <td>Golden brown</td>\n",
       "      <td>Runs swiftly along ground</td>\n",
       "      <td>Rocky areas</td>\n",
       "    </tr>\n",
       "    <tr>\n",
       "      <th>1</th>\n",
       "      <td>Chipping Sparrow</td>\n",
       "      <td>Small</td>\n",
       "      <td>Gray-white</td>\n",
       "      <td>Often in flocks</td>\n",
       "      <td>Open woodlands</td>\n",
       "    </tr>\n",
       "    <tr>\n",
       "      <th>2</th>\n",
       "      <td>Cedar Waxwing</td>\n",
       "      <td>Small</td>\n",
       "      <td>Gray-brown</td>\n",
       "      <td>Catch insects over open water</td>\n",
       "      <td>Parks</td>\n",
       "    </tr>\n",
       "  </tbody>\n",
       "</table>\n",
       "</div>"
      ],
      "text/plain": [
       "              names   Size         Color                       Behavior  \\\n",
       "0          Killdeer  Large  Golden brown      Runs swiftly along ground   \n",
       "1  Chipping Sparrow  Small    Gray-white                Often in flocks   \n",
       "2     Cedar Waxwing  Small    Gray-brown  Catch insects over open water   \n",
       "\n",
       "          Habitat  \n",
       "0     Rocky areas  \n",
       "1  Open woodlands  \n",
       "2           Parks  "
      ]
     },
     "execution_count": 40,
     "metadata": {},
     "output_type": "execute_result"
    }
   ],
   "source": [
    "#dumping nests\n",
    "bird_facts = birds['bird_facts'].apply(json.loads).to_list()\n",
    "#conver bird_facts into a json\n",
    "bird_dump = json.dumps(bird_facts)\n",
    "bird_df = pd.read_json(bird_dump)\n",
    "bird_final = pd.concat([birds['names'], bird_df], axis=1 )\n",
    "bird_final"
   ]
  },
  {
   "cell_type": "code",
   "execution_count": null,
   "id": "a0a82a10",
   "metadata": {},
   "outputs": [],
   "source": []
  }
 ],
 "metadata": {
  "kernelspec": {
   "display_name": "Python 3 (ipykernel)",
   "language": "python",
   "name": "python3"
  },
  "language_info": {
   "codemirror_mode": {
    "name": "ipython",
    "version": 3
   },
   "file_extension": ".py",
   "mimetype": "text/x-python",
   "name": "python",
   "nbconvert_exporter": "python",
   "pygments_lexer": "ipython3",
   "version": "3.9.7"
  }
 },
 "nbformat": 4,
 "nbformat_minor": 5
}
