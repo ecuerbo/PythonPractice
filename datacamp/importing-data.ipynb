{
 "cells": [
  {
   "cell_type": "code",
   "execution_count": null,
   "id": "87821e2a",
   "metadata": {},
   "outputs": [],
   "source": [
    "#reading a text \n",
    "filename = 'huck_finn.txt'\n",
    "file = open(filename, mode='r')\n",
    "text = file.read()\n",
    "#clean while cooking\n",
    "file.close()"
   ]
  },
  {
   "cell_type": "code",
   "execution_count": null,
   "id": "813eb880",
   "metadata": {},
   "outputs": [],
   "source": [
    "#context manager with\n",
    "with open('huck_finn,txt', r) as file:\n",
    "    print(file.read())"
   ]
  },
  {
   "cell_type": "code",
   "execution_count": 1,
   "id": "040b3366",
   "metadata": {},
   "outputs": [
    {
     "name": "stdout",
     "output_type": "stream",
     "text": [
      "Joining Data on Pandas.ipynb\r\n",
      "analyzing-police-activity.ipynb\r\n",
      "cleaning data.ipynb\r\n",
      "data-manipulation.ipynb\r\n",
      "datacamp_functions.ipynb\r\n",
      "datatypes4ds.ipynb\r\n",
      "dognapper.py\r\n",
      "financial_data_course.ipynb\r\n",
      "handwashing.ipynb\r\n",
      "importing-and-managing-financial-data-in-python.ipynb\r\n",
      "importing-data.ipynb\r\n",
      "intermediate-python.ipynb\r\n",
      "intro to matplotlib.ipynb\r\n",
      "intro to numpy.ipynb\r\n",
      "intro to seaborn.ipynb\r\n",
      "iterables.ipynb\r\n",
      "python-toolbox1.ipynb\r\n",
      "regex intro.ipynb\r\n",
      "scala.ipynb\r\n",
      "stats.ipynb\r\n",
      "tv.ipynb\r\n"
     ]
    }
   ],
   "source": [
    "! ls"
   ]
  },
  {
   "cell_type": "code",
   "execution_count": null,
   "id": "5294282a",
   "metadata": {},
   "outputs": [],
   "source": [
    "import numpy as np\n",
    "filename = 'MNIST_header.txt'\n",
    "data = np.loadtxt(filename, delimiter=',', skiprows=1, usecols=[0,2], dtype=str)\n",
    "print(data)"
   ]
  },
  {
   "cell_type": "code",
   "execution_count": null,
   "id": "a9c14e88",
   "metadata": {},
   "outputs": [],
   "source": [
    "#pickled files \n",
    "import pickle\n",
    "with open('pickled_fruit.pkl', 'rb') as file:\n",
    "    data = pickle.load(file)\n",
    "print(data)"
   ]
  },
  {
   "cell_type": "code",
   "execution_count": null,
   "id": "3e0c0ce0",
   "metadata": {},
   "outputs": [],
   "source": [
    "import os\n",
    "wd = os.getcwd()\n",
    "os.listdir(wd)"
   ]
  },
  {
   "cell_type": "code",
   "execution_count": 4,
   "id": "555d3357",
   "metadata": {},
   "outputs": [
    {
     "data": {
      "text/plain": [
       "['realpy-cleaning.ipynb',\n",
       " '.DS_Store',\n",
       " 'crm.ipynb',\n",
       " 'README.md',\n",
       " 'flood.ipynb',\n",
       " '.gitignore',\n",
       " 'check-ores.ipynb',\n",
       " '.ipynb_checkpoints',\n",
       " 'c3 shipments.ipynb',\n",
       " '.git',\n",
       " 'data']"
      ]
     },
     "execution_count": 4,
     "metadata": {},
     "output_type": "execute_result"
    }
   ],
   "source": [
    "# Import pickle package\n",
    "import pickle\n",
    "\n",
    "# Open pickle file and load data: d\n",
    "with open('data.pkl', 'rb') as file:\n",
    "    d = pickle.load(file)\n",
    "\n",
    "# Print d\n",
    "print(d)\n",
    "\n",
    "# Print datatype of d\n",
    "print(type(d))"
   ]
  },
  {
   "cell_type": "code",
   "execution_count": null,
   "id": "19b89e4e",
   "metadata": {},
   "outputs": [],
   "source": [
    "# Import pandas\n",
    "import pandas as pd\n",
    "\n",
    "# Assign spreadsheet filename: file\n",
    "file = 'battledeath.xlsx'\n",
    "\n",
    "# Load spreadsheet: xls\n",
    "xls = pd.ExcelFile(file)\n",
    "\n",
    "# Print sheet names\n",
    "print(xls.sheet_names)\n",
    "\n",
    "# Load a sheet into a DataFrame by name: df1\n",
    "df1 = xls.parse('2004')\n",
    "\n",
    "# Print the head of the DataFrame df1\n",
    "print(df1.head())\n",
    "\n",
    "# Load a sheet into a DataFrame by index: df2\n",
    "df2 = xls.parse(0)\n",
    "\n",
    "# Print the head of the DataFrame df2\n",
    "print(df2.head())"
   ]
  },
  {
   "cell_type": "code",
   "execution_count": null,
   "id": "7912749d",
   "metadata": {},
   "outputs": [],
   "source": [
    "# Parse the first sheet and rename the columns: df1\n",
    "df1 = xls.parse(0, skiprows=[0], names=['Country','AAM due to War (2002)'])\n",
    "\n",
    "# Print the head of the DataFrame df1\n",
    "print(df1.head())\n",
    "\n",
    "# Parse the first column of the second sheet and rename the column: df2\n",
    "df2 = xls.parse(1, usecols=[0], skiprows=[0], names=['Country'])\n",
    "\n",
    "# Print the head of the DataFrame df2\n",
    "print(df2.head())"
   ]
  },
  {
   "cell_type": "code",
   "execution_count": null,
   "id": "ad53621e",
   "metadata": {},
   "outputs": [],
   "source": [
    "import pandas as pd\n",
    "from sas7bdat import SAS7BDAT\n",
    "with SAS7BDAT('urbanpop.sas7bdat') as file:\n",
    "    df_sas = file.to_data_frame()\n",
    "#importing stata\n",
    "data = pd.read_stata('urbanpop.dta')"
   ]
  },
  {
   "cell_type": "code",
   "execution_count": null,
   "id": "665ef261",
   "metadata": {},
   "outputs": [],
   "source": [
    "#Hierarchical Data Format version 5(HDF5)\n",
    "import h5py\n",
    "filename ='hbdhbd.hdf5'\n",
    "data = h5py.File(filename,'r')\n",
    "print(type(data))\n",
    "\n",
    "for key in data.keys():\n",
    "    print(key)"
   ]
  },
  {
   "cell_type": "code",
   "execution_count": null,
   "id": "0ca89e60",
   "metadata": {},
   "outputs": [],
   "source": [
    "for key in data['meta'].keys():\n",
    "    print(key)"
   ]
  },
  {
   "cell_type": "code",
   "execution_count": null,
   "id": "1d87f980",
   "metadata": {},
   "outputs": [],
   "source": [
    "# Get the HDF5 group: group\n",
    "group = data['strain']\n",
    "\n",
    "# Check out keys of group\n",
    "for key in group.keys():\n",
    "    print(key)\n",
    "\n",
    "# Set variable equal to time series data:\n",
    "strain = np.array(data['strain']['Strain'])\n",
    "\n",
    "\n",
    "# Set number of time points to sample: \n",
    "num_samples = 10000\n",
    "\n",
    "\n",
    "# Set time vector\n",
    "time = np.arange(0, 1, 1/num_samples)\n",
    "\n",
    "# Plot data\n",
    "plt.plot(time, strain[:num_samples])\n",
    "plt.xlabel('GPS Time (s)')\n",
    "plt.ylabel('strain')\n",
    "plt.show()\n"
   ]
  }
 ],
 "metadata": {
  "kernelspec": {
   "display_name": "Python 3 (ipykernel)",
   "language": "python",
   "name": "python3"
  },
  "language_info": {
   "codemirror_mode": {
    "name": "ipython",
    "version": 3
   },
   "file_extension": ".py",
   "mimetype": "text/x-python",
   "name": "python",
   "nbconvert_exporter": "python",
   "pygments_lexer": "ipython3",
   "version": "3.9.7"
  }
 },
 "nbformat": 4,
 "nbformat_minor": 5
}
