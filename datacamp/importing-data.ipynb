{
 "cells": [
  {
   "cell_type": "code",
   "execution_count": null,
   "id": "4d4f4237",
   "metadata": {},
   "outputs": [],
   "source": [
    "#reading a text \n",
    "filename = 'huck_finn.txt'\n",
    "file = open(filename, mode='r')\n",
    "text = file.read()\n",
    "#clean while cooking\n",
    "file.close()"
   ]
  },
  {
   "cell_type": "code",
   "execution_count": null,
   "id": "4dd08b3e",
   "metadata": {},
   "outputs": [],
   "source": [
    "#context manager with\n",
    "with open('huck_finn,txt', r) as file:\n",
    "    print(file.read())"
   ]
  },
  {
   "cell_type": "code",
   "execution_count": 1,
   "id": "5ec0fca5",
   "metadata": {},
   "outputs": [
    {
     "name": "stdout",
     "output_type": "stream",
     "text": [
      "Joining Data on Pandas.ipynb\r\n",
      "analyzing-police-activity.ipynb\r\n",
      "cleaning data.ipynb\r\n",
      "data-manipulation.ipynb\r\n",
      "datacamp_functions.ipynb\r\n",
      "datatypes4ds.ipynb\r\n",
      "dognapper.py\r\n",
      "financial_data_course.ipynb\r\n",
      "handwashing.ipynb\r\n",
      "importing-and-managing-financial-data-in-python.ipynb\r\n",
      "importing-data.ipynb\r\n",
      "intermediate-python.ipynb\r\n",
      "intro to matplotlib.ipynb\r\n",
      "intro to numpy.ipynb\r\n",
      "intro to seaborn.ipynb\r\n",
      "iterables.ipynb\r\n",
      "python-toolbox1.ipynb\r\n",
      "regex intro.ipynb\r\n",
      "scala.ipynb\r\n",
      "stats.ipynb\r\n",
      "tv.ipynb\r\n"
     ]
    }
   ],
   "source": [
    "! ls"
   ]
  },
  {
   "cell_type": "code",
   "execution_count": null,
   "id": "bd08172c",
   "metadata": {},
   "outputs": [],
   "source": [
    "import numpy as np\n",
    "filename = 'MNIST_header.txt'\n",
    "data = np.loadtxt(filename, delimiter=',', skiprows=1, usecols=[0,2], dtype=str)\n",
    "print(data)"
   ]
  },
  {
   "cell_type": "code",
   "execution_count": null,
   "id": "5a748907",
   "metadata": {},
   "outputs": [],
   "source": [
    "#pickled files \n",
    "import pickle\n",
    "with open('pickled_fruit.pkl', 'rb') as file:\n",
    "    data = pickle.load(file)\n",
    "print(data)"
   ]
  },
  {
   "cell_type": "code",
   "execution_count": null,
   "id": "ef39963c",
   "metadata": {},
   "outputs": [],
   "source": [
    "import os\n",
    "wd = os.getcwd()\n",
    "os.listdir(wd)"
   ]
  },
  {
   "cell_type": "code",
   "execution_count": 4,
   "id": "93c4ca8d",
   "metadata": {},
   "outputs": [
    {
     "data": {
      "text/plain": [
       "['realpy-cleaning.ipynb',\n",
       " '.DS_Store',\n",
       " 'crm.ipynb',\n",
       " 'README.md',\n",
       " 'flood.ipynb',\n",
       " '.gitignore',\n",
       " 'check-ores.ipynb',\n",
       " '.ipynb_checkpoints',\n",
       " 'c3 shipments.ipynb',\n",
       " '.git',\n",
       " 'data']"
      ]
     },
     "execution_count": 4,
     "metadata": {},
     "output_type": "execute_result"
    }
   ],
   "source": [
    "# Import pickle package\n",
    "import pickle\n",
    "\n",
    "# Open pickle file and load data: d\n",
    "with open('data.pkl', 'rb') as file:\n",
    "    d = pickle.load(file)\n",
    "\n",
    "# Print d\n",
    "print(d)\n",
    "\n",
    "# Print datatype of d\n",
    "print(type(d))"
   ]
  },
  {
   "cell_type": "code",
   "execution_count": null,
   "id": "cb045f69",
   "metadata": {},
   "outputs": [],
   "source": [
    "# Import pandas\n",
    "import pandas as pd\n",
    "\n",
    "# Assign spreadsheet filename: file\n",
    "file = 'battledeath.xlsx'\n",
    "\n",
    "# Load spreadsheet: xls\n",
    "xls = pd.ExcelFile(file)\n",
    "\n",
    "# Print sheet names\n",
    "print(xls.sheet_names)\n",
    "\n",
    "# Load a sheet into a DataFrame by name: df1\n",
    "df1 = xls.parse('2004')\n",
    "\n",
    "# Print the head of the DataFrame df1\n",
    "print(df1.head())\n",
    "\n",
    "# Load a sheet into a DataFrame by index: df2\n",
    "df2 = xls.parse(0)\n",
    "\n",
    "# Print the head of the DataFrame df2\n",
    "print(df2.head())"
   ]
  },
  {
   "cell_type": "code",
   "execution_count": null,
   "id": "2ae7bc94",
   "metadata": {},
   "outputs": [],
   "source": [
    "# Parse the first sheet and rename the columns: df1\n",
    "df1 = xls.parse(0, skiprows=[0], names=['Country','AAM due to War (2002)'])\n",
    "\n",
    "# Print the head of the DataFrame df1\n",
    "print(df1.head())\n",
    "\n",
    "# Parse the first column of the second sheet and rename the column: df2\n",
    "df2 = xls.parse(1, usecols=[0], skiprows=[0], names=['Country'])\n",
    "\n",
    "# Print the head of the DataFrame df2\n",
    "print(df2.head())"
   ]
  },
  {
   "cell_type": "code",
   "execution_count": null,
   "id": "58d99ada",
   "metadata": {},
   "outputs": [],
   "source": [
    "import pandas as pd\n",
    "from sas7bdat import SAS7BDAT\n",
    "with SAS7BDAT('urbanpop.sas7bdat') as file:\n",
    "    df_sas = file.to_data_frame()\n",
    "#importing stata\n",
    "data = pd.read_stata('urbanpop.dta')"
   ]
  },
  {
   "cell_type": "code",
   "execution_count": null,
   "id": "326629c3",
   "metadata": {},
   "outputs": [],
   "source": [
    "#Hierarchical Data Format version 5(HDF5)\n",
    "import h5py\n",
    "filename ='hbdhbd.hdf5'\n",
    "data = h5py.File(filename,'r')\n",
    "print(type(data))\n",
    "\n",
    "for key in data.keys():\n",
    "    print(key)"
   ]
  },
  {
   "cell_type": "code",
   "execution_count": null,
   "id": "4540e209",
   "metadata": {},
   "outputs": [],
   "source": [
    "for key in data['meta'].keys():\n",
    "    print(key)"
   ]
  },
  {
   "cell_type": "code",
   "execution_count": null,
   "id": "09149adb",
   "metadata": {},
   "outputs": [],
   "source": [
    "# Get the HDF5 group: group\n",
    "group = data['strain']\n",
    "\n",
    "# Check out keys of group\n",
    "for key in group.keys():\n",
    "    print(key)\n",
    "\n",
    "# Set variable equal to time series data:\n",
    "strain = np.array(data['strain']['Strain'])\n",
    "\n",
    "\n",
    "# Set number of time points to sample: \n",
    "num_samples = 10000\n",
    "\n",
    "\n",
    "# Set time vector\n",
    "time = np.arange(0, 1, 1/num_samples)\n",
    "\n",
    "# Plot data\n",
    "plt.plot(time, strain[:num_samples])\n",
    "plt.xlabel('GPS Time (s)')\n",
    "plt.ylabel('strain')\n",
    "plt.show()\n"
   ]
  },
  {
   "cell_type": "code",
   "execution_count": null,
   "id": "35be03b1",
   "metadata": {},
   "outputs": [],
   "source": [
    "#importing a .mat file\n",
    "import scipy.io\n",
    "filename = 'workspace.mat'\n",
    "mat = scipy.io.loadmat(filename)\n",
    "print(type(mat))"
   ]
  },
  {
   "cell_type": "code",
   "execution_count": null,
   "id": "2e4b2df6",
   "metadata": {},
   "outputs": [],
   "source": [
    "# Print the keys of the MATLAB dictionary\n",
    "print(mat.keys())\n",
    "\n",
    "# Print the type of the value corresponding to the key 'CYratioCyt'\n",
    "print(type(mat['CYratioCyt']))\n",
    "\n",
    "# Print the shape of the value corresponding to the key 'CYratioCyt'\n",
    "print(np.shape(mat['CYratioCyt']))\n",
    "\n",
    "# Subset the array and plot it\n",
    "data = mat['CYratioCyt'][25, 5:]\n",
    "fig = plt.figure()\n",
    "plt.plot(data)\n",
    "plt.xlabel('time (min.)')\n",
    "plt.ylabel('normalized fluorescence (measure of expression)')\n",
    "plt.show()"
   ]
  },
  {
   "cell_type": "markdown",
   "id": "8a4a51b9",
   "metadata": {},
   "source": [
    "## Relational Database"
   ]
  },
  {
   "cell_type": "code",
   "execution_count": 7,
   "id": "e0bb299a",
   "metadata": {},
   "outputs": [],
   "source": [
    "from sqlalchemy import create_engine\n",
    "engine = create_engine('sqlite:///Northwind.sqlite')"
   ]
  },
  {
   "cell_type": "code",
   "execution_count": 9,
   "id": "4be13424",
   "metadata": {},
   "outputs": [
    {
     "name": "stdout",
     "output_type": "stream",
     "text": [
      "[]\n"
     ]
    },
    {
     "name": "stderr",
     "output_type": "stream",
     "text": [
      "/var/folders/g6/qw3t2lbx7x91r1mfyp6k77k00000gn/T/ipykernel_6666/1760379430.py:1: SADeprecationWarning: The Engine.table_names() method is deprecated and will be removed in a future release.  Please refer to Inspector.get_table_names(). (deprecated since: 1.4)\n",
      "  table_name = engine.table_names()\n"
     ]
    }
   ],
   "source": [
    "table_name = engine.table_names()\n",
    "print(table_name)"
   ]
  },
  {
   "cell_type": "code",
   "execution_count": null,
   "id": "d7aa3a6c",
   "metadata": {},
   "outputs": [],
   "source": [
    "#basic sql query\n",
    "SELECT * FROM table_name"
   ]
  },
  {
   "cell_type": "code",
   "execution_count": null,
   "id": "9c00e43f",
   "metadata": {},
   "outputs": [],
   "source": [
    "con = engine.connect()\n",
    "rs = con.execute(\"SELECT * FROM Orders\")\n",
    "df = pd.DataFrame(rs.fetchall())\n",
    "df.columns = rs.keys()\n",
    "con.close()"
   ]
  },
  {
   "cell_type": "code",
   "execution_count": null,
   "id": "bfe0899a",
   "metadata": {},
   "outputs": [],
   "source": [
    "#using context manager\n",
    "with engine.connect() as con:\n",
    "    rs = con.execute(\"SELECT OrderID, OrderDate, ShipName FROM Orders\")\n",
    "    df = pd.DataFrame(rs.fetchmany(size=5))\n",
    "    df.columns = rs.keys()"
   ]
  },
  {
   "cell_type": "code",
   "execution_count": null,
   "id": "fa43bde5",
   "metadata": {},
   "outputs": [],
   "source": [
    "# Create engine: engine\n",
    "engine = create_engine('sqlite:///Chinook.sqlite')\n",
    "\n",
    "# Open engine in context manager\n",
    "# Perform query and save results to DataFrame: df\n",
    "with engine.connect() as con:\n",
    "    rs = con.execute(\"SELECT * FROM Employee WHERE EmployeeID>=6\")\n",
    "    df = pd.DataFrame(rs.fetchall())\n",
    "    df.columns = rs.keys()\n",
    "\n",
    "# Print the head of the DataFrame df\n",
    "print(df.head())"
   ]
  },
  {
   "cell_type": "code",
   "execution_count": null,
   "id": "7d453bcf",
   "metadata": {},
   "outputs": [],
   "source": [
    "# Create engine: engine\n",
    "engine = create_engine(\"sqlite:///Chinook.sqlite\")\n",
    "\n",
    "# Open engine in context manager\n",
    "with engine.connect() as con:\n",
    "    rs = con.execute(\"SELECT * FROM Employee ORDER BY Birthdate\")\n",
    "    df = pd.DataFrame(rs.fetchall())\n",
    "\n",
    "    # Set the DataFrame's column names\n",
    "    df.columns = rs.keys()\n",
    "\n",
    "\n",
    "# Print head of DataFrame\n",
    "print(df.head())"
   ]
  },
  {
   "cell_type": "code",
   "execution_count": null,
   "id": "c20c3b1f",
   "metadata": {},
   "outputs": [],
   "source": [
    "#use pandas to query\n",
    "df = pd.read_sql_query(\"SELECT * FROM Orders\", engine)"
   ]
  },
  {
   "cell_type": "code",
   "execution_count": null,
   "id": "49a9a07c",
   "metadata": {},
   "outputs": [],
   "source": [
    "query = \"SELECT OrderID, CompanyName FROM Orders INNER JOIN Customers on Orders.CustomerID = Customers.CustomersID\"\n",
    "df = pd.read_sql_query(query, engine)\n",
    "print(df.head())"
   ]
  }
 ],
 "metadata": {
  "kernelspec": {
   "display_name": "Python 3 (ipykernel)",
   "language": "python",
   "name": "python3"
  },
  "language_info": {
   "codemirror_mode": {
    "name": "ipython",
    "version": 3
   },
   "file_extension": ".py",
   "mimetype": "text/x-python",
   "name": "python",
   "nbconvert_exporter": "python",
   "pygments_lexer": "ipython3",
   "version": "3.9.7"
  }
 },
 "nbformat": 4,
 "nbformat_minor": 5
}
