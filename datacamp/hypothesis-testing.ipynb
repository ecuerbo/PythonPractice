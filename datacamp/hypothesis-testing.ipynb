{
 "cells": [
  {
   "cell_type": "code",
   "execution_count": null,
   "id": "bd10bffc",
   "metadata": {},
   "outputs": [],
   "source": [
    "#calculating p-values\n",
    "prop_child_samp = (stack_overflow['age_first_code_cut'] == 'child').mean()\n",
    "#hypothesizedd value\n",
    "prop_child_hyp = 0.35\n",
    "std_error = np.std(first_code_boot_distn,ddof=1)\n",
    "z_score = (prop_child_samp-prop_child_hyp)/std_error\n",
    "#right-tailed\n",
    "from scipy.stats import norm\n",
    "1 - norm.cdf(z_score,loc=0, scale=1)\n",
    "\n",
    "#if p_value <= alpha; Reject H-zero in favor of H-a"
   ]
  },
  {
   "cell_type": "code",
   "execution_count": null,
   "id": "2698a03f",
   "metadata": {},
   "outputs": [],
   "source": [
    "\n",
    "alpha = 0.01\n",
    "import pingouin\n",
    "pingouin.ttest(x=repub_votes_08_12_small['repub_percent_08'],\n",
    "              y=repub_votes_08_12_small['repub_percent_12'],\n",
    "              paired=True,\n",
    "              alternative='less')"
   ]
  },
  {
   "cell_type": "code",
   "execution_count": 1,
   "id": "285bba1b",
   "metadata": {},
   "outputs": [
    {
     "data": {
      "text/plain": [
       "array([1., 5., 2., 4., 3.])"
      ]
     },
     "execution_count": 1,
     "metadata": {},
     "output_type": "execute_result"
    }
   ],
   "source": [
    "x = [1,15,3,10,6]\n",
    "from scipy.stats import rankdata\n",
    "rankdata(x)"
   ]
  },
  {
   "cell_type": "code",
   "execution_count": null,
   "id": "e5dee291",
   "metadata": {},
   "outputs": [],
   "source": [
    "#non- parametric tests\n",
    "#Wilcoxon-signed rank test(Step 1)\n",
    "repub_votes_small['diff'] = repub_votes_small['repub_percent_08']-repub_votes_small['repub_percent_12']\n",
    "print(repub_votes_small)"
   ]
  },
  {
   "cell_type": "code",
   "execution_count": null,
   "id": "020d0073",
   "metadata": {},
   "outputs": [],
   "source": [
    "#Step 2\n",
    "repub_votes_small['abs_diff'] = repub_votes_small['diff'].abs\n",
    "print(repub_votes_small)"
   ]
  },
  {
   "cell_type": "code",
   "execution_count": null,
   "id": "739dcd11",
   "metadata": {},
   "outputs": [],
   "source": [
    "#Step 3\n",
    "from scipy.stats import rankdata\n",
    "repub_votes_small['rank_abs_diff'] = rankdata(repub_votes_small['abs_diff'])\n",
    "print(repub_votes_small)"
   ]
  },
  {
   "cell_type": "code",
   "execution_count": null,
   "id": "76e3ef9c",
   "metadata": {},
   "outputs": [],
   "source": [
    "#step 4\n",
    "T_minus = 1+4 + 5+ 2+3\n",
    "T_plus = 0\n",
    "W = np.min([T_minus,T_plus])"
   ]
  },
  {
   "cell_type": "code",
   "execution_count": null,
   "id": "66582e5c",
   "metadata": {},
   "outputs": [],
   "source": [
    "#implementation with pingouin\n",
    "alpha = 0.01\n",
    "pingouin.wilcoxon(x=repub_votes_08_12_small['repub_percent_08'],\n",
    "              y=repub_votes_08_12_small['repub_percent_12'],\n",
    "              alternative='less')"
   ]
  },
  {
   "cell_type": "code",
   "execution_count": null,
   "id": "a2b743db",
   "metadata": {
    "collapsed": true
   },
   "outputs": [],
   "source": [
    "#Non-parametric ANOVA and unpaired t-tests\n",
    "#Wilcoxon-Mann-Whitney test setup\n",
    "age_vs_comp = stack_overflow[['converted_comp','age_first_code_cut']]\n",
    "age_vs_comp_wide = age_vs_comp.pivot(columns= 'age_first_code_cut',\n",
    "                                    values='converted_comp')"
   ]
  }
 ],
 "metadata": {
  "kernelspec": {
   "display_name": "Python 3 (ipykernel)",
   "language": "python",
   "name": "python3"
  },
  "language_info": {
   "codemirror_mode": {
    "name": "ipython",
    "version": 3
   },
   "file_extension": ".py",
   "mimetype": "text/x-python",
   "name": "python",
   "nbconvert_exporter": "python",
   "pygments_lexer": "ipython3",
   "version": "3.9.7"
  }
 },
 "nbformat": 4,
 "nbformat_minor": 5
}
