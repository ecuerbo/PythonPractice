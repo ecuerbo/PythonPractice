{
 "cells": [
  {
   "cell_type": "code",
   "execution_count": null,
   "id": "bd10bffc",
   "metadata": {},
   "outputs": [],
   "source": [
    "#calculating p-values\n",
    "prop_child_samp = (stack_overflow['age_first_code_cut'] == 'child').mean()\n",
    "#hypothesizedd value\n",
    "prop_child_hyp = 0.35\n",
    "std_error = np.std(first_code_boot_distn,ddof=1)\n",
    "z_score = (prop_child_samp-prop_child_hyp)/std_error\n",
    "#right-tailed\n",
    "from scipy.stats import norm\n",
    "1 - norm.cdf(z_score,loc=0, scale=1)\n",
    "\n",
    "#if p_value <= alpha; Reject H-zero in favor of H-a"
   ]
  }
 ],
 "metadata": {
  "kernelspec": {
   "display_name": "Python 3 (ipykernel)",
   "language": "python",
   "name": "python3"
  },
  "language_info": {
   "codemirror_mode": {
    "name": "ipython",
    "version": 3
   },
   "file_extension": ".py",
   "mimetype": "text/x-python",
   "name": "python",
   "nbconvert_exporter": "python",
   "pygments_lexer": "ipython3",
   "version": "3.9.7"
  }
 },
 "nbformat": 4,
 "nbformat_minor": 5
}
