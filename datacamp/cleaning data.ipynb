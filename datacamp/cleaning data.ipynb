{
 "cells": [
  {
   "cell_type": "code",
   "execution_count": null,
   "id": "36a36b66",
   "metadata": {},
   "outputs": [],
   "source": [
    "import datetime as dt\n",
    "today_date = dt.date.today()\n",
    "user_signups[user_signups['subscription_date'] > today_date]"
   ]
  },
  {
   "cell_type": "code",
   "execution_count": null,
   "id": "932b0c75",
   "metadata": {},
   "outputs": [],
   "source": [
    "import pandas as pd\n",
    "#output movies with rating > 5\n",
    "movies[movies['avg_rating'] > 5]\n",
    "#drop values using filtering\n",
    "movies = movies[movies['avg_rating'] <= 5]\n",
    "#drop values using .drop()\n",
    "movies.drop(movies[movies['avg_rating'] > 5].index, inplace=True)\n",
    "#assert results\n",
    "assert movies['avg_rating'].max <= 5"
   ]
  },
  {
   "cell_type": "code",
   "execution_count": null,
   "id": "b5740bce",
   "metadata": {},
   "outputs": [],
   "source": [
    "#convert avg_rating >5 to 5\n",
    "movies.loc[movies['avg_rating'] > 5, 'avg_rating'] = 5"
   ]
  },
  {
   "cell_type": "code",
   "execution_count": null,
   "id": "e3cb5731",
   "metadata": {},
   "outputs": [],
   "source": [
    "#convert to date\n",
    "user_signups['subscription_date'] = pd.to_datetime(user_signups['subscription_date']).dt.date"
   ]
  },
  {
   "cell_type": "code",
   "execution_count": null,
   "id": "a1211286",
   "metadata": {},
   "outputs": [],
   "source": [
    "# Convert tire_sizes to integer\n",
    "ride_sharing['tire_sizes'] = ride_sharing['tire_sizes'].astype('int')\n",
    "\n",
    "# Set all values above 27 to 27\n",
    "ride_sharing.loc[ride_sharing['tire_sizes'] > 27,'tire_sizes'] = 27\n",
    "\n",
    "# Reconvert tire_sizes back to categorical\n",
    "ride_sharing['tire_sizes'] = ride_sharing['tire_sizes'].astype('category')\n",
    "\n",
    "# Print tire size description\n",
    "print(ride_sharing['tire_sizes'].describe())"
   ]
  },
  {
   "cell_type": "code",
   "execution_count": null,
   "id": "3e733b77",
   "metadata": {},
   "outputs": [],
   "source": [
    "# Convert ride_date to date\n",
    "ride_sharing['ride_dt'] = pd.to_datetime(ride_sharing['ride_date']).dt.date\n",
    "\n",
    "# Save today's date\n",
    "today = dt.date.today()\n",
    "\n",
    "# Set all in the future to today's date\n",
    "ride_sharing.loc[ride_sharing['ride_dt'] > today, 'ride_dt'] = today\n",
    "\n",
    "# Print maximum of ride_dt column\n",
    "print(ride_sharing['ride_dt'].max())"
   ]
  },
  {
   "cell_type": "code",
   "execution_count": null,
   "id": "ef576f27",
   "metadata": {},
   "outputs": [],
   "source": [
    "#removing a dollar sign from the column content\n",
    "sales['revenue'] = sales['revenue'].str.strip('$')\n",
    "sales['revenue'] = sales['revenue'].astype('int')\n",
    "\n",
    "#verufy theat revenue is now an integer\n",
    "assert sales['revenue'].dtype == 'int'"
   ]
  },
  {
   "cell_type": "code",
   "execution_count": 1,
   "id": "038d092c",
   "metadata": {},
   "outputs": [],
   "source": [
    "assert 1+1 == 2"
   ]
  },
  {
   "cell_type": "code",
   "execution_count": null,
   "id": "fd9ffe36",
   "metadata": {},
   "outputs": [],
   "source": [
    "#categorizing the weather\n",
    "ri.stop_duration.unique()\n",
    "mapping = {'0-15 Min' : 'short',\n",
    "           '16-30 Min' : 'medium',\n",
    "           '30+ Min' : 'long'}\n",
    "ri['stop_length'] = ri.stop_duration.map(mapping)\n",
    "ri.stop_length.dtype"
   ]
  },
  {
   "cell_type": "code",
   "execution_count": null,
   "id": "94026ce5",
   "metadata": {},
   "outputs": [],
   "source": [
    "ri.stop_length.memory_usage(deep=True)"
   ]
  },
  {
   "cell_type": "code",
   "execution_count": null,
   "id": "d6867fee",
   "metadata": {},
   "outputs": [],
   "source": [
    "#changing datatype fro object to category\n",
    "cats = pd.CategoricalDtype(['short','medium','long'], ordered=True)\n",
    "ri['stop_length'] = ri.stop_length.astype(cats)"
   ]
  },
  {
   "cell_type": "code",
   "execution_count": null,
   "id": "dcf0022f",
   "metadata": {},
   "outputs": [],
   "source": [
    "#using ordered categories\n",
    "ri[ri.stp_length > 'short'].shape"
   ]
  },
  {
   "cell_type": "code",
   "execution_count": null,
   "id": "e2c9241c",
   "metadata": {},
   "outputs": [],
   "source": [
    "# Copy 'WT01' through 'WT22' to a new DataFrame\n",
    "WT = weather.loc[:,'WT01':'WT22']\n",
    "\n",
    "# Calculate the sum of each row in 'WT'\n",
    "weather['bad_conditions'] = WT.sum(axis='columns')\n",
    "\n",
    "# Replace missing values in 'bad_conditions' with '0'\n",
    "weather['bad_conditions'] = weather.bad_conditions.fillna(0).astype('int')\n",
    "\n",
    "# Create a histogram to visualize 'bad_conditions'\n",
    "weather['bad_conditions'].plot(kind='hist')\n",
    "\n",
    "# Display the plot\n",
    "plt.show()"
   ]
  },
  {
   "cell_type": "code",
   "execution_count": null,
   "id": "dfaa8083",
   "metadata": {},
   "outputs": [],
   "source": [
    "# Count the unique values in 'bad_conditions' and sort the index\n",
    "print(weather.bad_conditions.value_counts().sort_index())\n",
    "\n",
    "# Create a dictionary that maps integers to strings\n",
    "mapping = {0:'good', 1:'bad', 2:'bad', 3:'bad', 4:'bad',5:'worse',6:'worse',7:'worse',8:'worse',9:'worse'}\n",
    "\n",
    "# Convert the 'bad_conditions' integers to strings using the 'mapping'\n",
    "weather['rating'] = weather.bad_conditions.map(mapping)\n",
    "\n",
    "# Count the unique values in 'rating'\n",
    "print(weather['rating'].value_counts())"
   ]
  },
  {
   "cell_type": "code",
   "execution_count": null,
   "id": "db603560",
   "metadata": {},
   "outputs": [],
   "source": [
    "# Specify the logical order of the weather ratings\n",
    "cats = pd.CategoricalDtype(['good', 'bad','worse'], ordered=True)\n",
    "\n",
    "# Change the data type of 'rating' to category\n",
    "weather['rating'] = weather.rating.astype(cats)\n",
    "\n",
    "# Examine the head of 'rating'\n",
    "print(weather['rating'].head())"
   ]
  },
  {
   "cell_type": "code",
   "execution_count": null,
   "id": "33759fa3",
   "metadata": {},
   "outputs": [],
   "source": [
    "temp_fah = temperatures.loc[temperatures['Temperature'] > 40, 'Temperature']\n",
    "temp_cels = (temp_fah-32)*(5/9)\n",
    "temperatures.loc[temperatures['Temperature'] > 40, 'Temperature'] = temp_cels"
   ]
  },
  {
   "cell_type": "code",
   "execution_count": null,
   "id": "5ed6bdfd",
   "metadata": {},
   "outputs": [],
   "source": [
    "#treating date data\n",
    "#converts to date time but wont work if weird formats occur!\n",
    "birthdays['Birthday'] = pd.to_datetime(birthdays['Birthday'])\n",
    "\n",
    "#will !\n",
    "birthdays['Birthday'] = pd.to_datetime(birthdays['Birthday'],\n",
    "                                      #attempt to infer formst of each date\n",
    "                                      infer_date_format=True,\n",
    "                                      #Return NA for rows where conversion failed\n",
    "                                      errors='coerce')"
   ]
  },
  {
   "cell_type": "code",
   "execution_count": null,
   "id": "cb19c9c4",
   "metadata": {},
   "outputs": [],
   "source": [
    "#convert to date time format of your choice\n",
    "birthdays['Birthday'] = birthdays['Birthday'].dt.strftime(\"%d-%m-%Y\")\n",
    "birthdays.head()"
   ]
  },
  {
   "cell_type": "code",
   "execution_count": null,
   "id": "a19bcb80",
   "metadata": {},
   "outputs": [],
   "source": [
    "# Find values of acct_cur that are equal to 'euro'\n",
    "acct_eu = banking['acct_cur'] == 'euro'\n",
    "\n",
    "# Convert acct_amount where it is in euro to dollars\n",
    "banking.loc[acct_eu, 'acct_amount'] = banking.loc[acct_eu, 'acct_amount'] * 1.1\n",
    "\n",
    "# Unify acct_cur column by changing 'euro' values to 'dollar'\n",
    "banking.loc[acct_eu, 'acct_cur'] = 'dollar'\n",
    "\n",
    "# Assert that only dollar currency remains\n",
    "assert banking['acct_cur'].unique() == 'dollar'"
   ]
  },
  {
   "cell_type": "code",
   "execution_count": null,
   "id": "add6aa49",
   "metadata": {},
   "outputs": [],
   "source": [
    "# Print the header of account_opened\n",
    "print(banking['account_opened'].head())\n",
    "\n",
    "# Convert account_opened to datetime\n",
    "banking['account_opened'] = pd.to_datetime(banking['account_opened'],\n",
    "                                           # Infer datetime format\n",
    "                                           infer_datetime_format = True,\n",
    "                                           # Return missing value for error\n",
    "                                           errors = 'coerce') "
   ]
  },
  {
   "cell_type": "code",
   "execution_count": null,
   "id": "2356107d",
   "metadata": {},
   "outputs": [],
   "source": [
    "banking['account_opened'] = pd.to_datetime(banking['account_opened'],\n",
    "                                           # Infer datetime format\n",
    "                                           infer_datetime_format = True,\n",
    "                                           # Return missing value for error\n",
    "                                           errors = 'coerce') \n",
    "\n",
    "# Get year of account opened\n",
    "banking['acct_year'] = banking['account_opened'].dt.strftime('%Y')\n",
    "\n",
    "# Print acct_year\n",
    "print(banking['acct_year'])"
   ]
  },
  {
   "cell_type": "code",
   "execution_count": 5,
   "id": "8aca642c",
   "metadata": {},
   "outputs": [],
   "source": [
    "from thefuzz import fuzz"
   ]
  },
  {
   "cell_type": "code",
   "execution_count": 6,
   "id": "e0338be1",
   "metadata": {},
   "outputs": [
    {
     "data": {
      "text/plain": [
       "86"
      ]
     },
     "execution_count": 6,
     "metadata": {},
     "output_type": "execute_result"
    }
   ],
   "source": [
    "#compare reeding versus reading\n",
    "fuzz.WRatio('Reeding','Reading')"
   ]
  },
  {
   "cell_type": "code",
   "execution_count": 10,
   "id": "3bf9dc81",
   "metadata": {},
   "outputs": [
    {
     "data": {
      "text/plain": [
       "[('Rockets vs Lakers', 86, 0), ('Lakers vs Rockets', 86, 1)]"
      ]
     },
     "execution_count": 10,
     "metadata": {},
     "output_type": "execute_result"
    }
   ],
   "source": [
    "#comparison with arrays\n",
    "from thefuzz import process\n",
    "\n",
    "#define the string and array of possible matches\n",
    "string = 'Houston Rockets vs Los Angeles Lakers'\n",
    "choices = pd.Series(['Rockets vs Lakers', 'Lakers vs Rockets', 'Houston vs Los Angeles','Heat vs Bulls'])\n",
    "\n",
    "process.extract(string, choices, limit = 2)"
   ]
  },
  {
   "cell_type": "code",
   "execution_count": 8,
   "id": "a67d1d4e",
   "metadata": {},
   "outputs": [],
   "source": [
    "print(survey['state'].unique())\n"
   ]
  },
  {
   "cell_type": "code",
   "execution_count": null,
   "id": "c40237b8",
   "metadata": {},
   "outputs": [],
   "source": [
    "#collapsing all the state\n",
    "for state in categories['state']:\n",
    "    #find potential matches in states with typoes\n",
    "    matches = process.extract(state, survey['state'], limit = survey.shape[0])\n",
    "    #for each potential match match\n",
    "    for potential_match in matches:\n",
    "        #if high similarity score\n",
    "        if potential_match[1] >= 80:\n",
    "            #replace typo with correct category\n",
    "            survey.loc[survey['state'] == potential_match[0], 'state'] = state"
   ]
  }
 ],
 "metadata": {
  "kernelspec": {
   "display_name": "Python 3 (ipykernel)",
   "language": "python",
   "name": "python3"
  },
  "language_info": {
   "codemirror_mode": {
    "name": "ipython",
    "version": 3
   },
   "file_extension": ".py",
   "mimetype": "text/x-python",
   "name": "python",
   "nbconvert_exporter": "python",
   "pygments_lexer": "ipython3",
   "version": "3.9.7"
  }
 },
 "nbformat": 4,
 "nbformat_minor": 5
}
