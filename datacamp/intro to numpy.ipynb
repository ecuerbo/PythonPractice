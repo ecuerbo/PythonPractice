{
 "cells": [
  {
   "cell_type": "code",
   "execution_count": 1,
   "id": "7be8d804",
   "metadata": {},
   "outputs": [],
   "source": [
    "import numpy as np"
   ]
  },
  {
   "cell_type": "code",
   "execution_count": 4,
   "id": "42cd55cc",
   "metadata": {},
   "outputs": [
    {
     "data": {
      "text/plain": [
       "array([[0., 0., 0.],\n",
       "       [0., 0., 0.],\n",
       "       [0., 0., 0.],\n",
       "       [0., 0., 0.]])"
      ]
     },
     "execution_count": 4,
     "metadata": {},
     "output_type": "execute_result"
    }
   ],
   "source": [
    "np.zeros((4,3))"
   ]
  },
  {
   "cell_type": "code",
   "execution_count": 5,
   "id": "65084de6",
   "metadata": {},
   "outputs": [
    {
     "data": {
      "text/plain": [
       "array([[1., 1., 1.],\n",
       "       [1., 1., 1.],\n",
       "       [1., 1., 1.],\n",
       "       [1., 1., 1.]])"
      ]
     },
     "execution_count": 5,
     "metadata": {},
     "output_type": "execute_result"
    }
   ],
   "source": [
    "np.ones((4,3))"
   ]
  },
  {
   "cell_type": "code",
   "execution_count": 6,
   "id": "e1b08a79",
   "metadata": {},
   "outputs": [
    {
     "data": {
      "text/plain": [
       "array([[0.4009575 , 0.01340927, 0.21991741, 0.45470264, 0.96321563],\n",
       "       [0.02745368, 0.92858646, 0.40561267, 0.34601137, 0.22598842]])"
      ]
     },
     "execution_count": 6,
     "metadata": {},
     "output_type": "execute_result"
    }
   ],
   "source": [
    "np.random.random((2,5))"
   ]
  },
  {
   "cell_type": "code",
   "execution_count": 8,
   "id": "f37361b5",
   "metadata": {},
   "outputs": [],
   "source": [
    " s =np.arange(-3,4)"
   ]
  },
  {
   "cell_type": "code",
   "execution_count": 13,
   "id": "d04b8d10",
   "metadata": {},
   "outputs": [],
   "source": [
    "#3d arrays\n",
    "array_1_2D = np.array([[1,2],[5,7]])\n",
    "array_2_2D = np.array([[8,9],[5,7]])\n",
    "array_3_2D = np.array([[1,2],[5,7]])\n",
    "array_3D = np.array([array_1_2D,array_2_2D,array_3_2D])"
   ]
  },
  {
   "cell_type": "code",
   "execution_count": 15,
   "id": "df488e33",
   "metadata": {},
   "outputs": [
    {
     "data": {
      "text/plain": [
       "array([1, 2, 5, 7, 8, 9, 5, 7, 1, 2, 5, 7])"
      ]
     },
     "execution_count": 15,
     "metadata": {},
     "output_type": "execute_result"
    }
   ],
   "source": [
    "array_3D.flatten()"
   ]
  },
  {
   "cell_type": "code",
   "execution_count": 19,
   "id": "41d4a6f1",
   "metadata": {},
   "outputs": [
    {
     "data": {
      "text/plain": [
       "array([[1, 2, 5],\n",
       "       [7, 8, 9],\n",
       "       [5, 7, 1],\n",
       "       [2, 5, 7]])"
      ]
     },
     "execution_count": 19,
     "metadata": {},
     "output_type": "execute_result"
    }
   ],
   "source": [
    "array_3D.reshape((4,3))"
   ]
  },
  {
   "cell_type": "code",
   "execution_count": null,
   "id": "b26c68d2",
   "metadata": {},
   "outputs": [],
   "source": []
  }
 ],
 "metadata": {
  "kernelspec": {
   "display_name": "Python 3 (ipykernel)",
   "language": "python",
   "name": "python3"
  },
  "language_info": {
   "codemirror_mode": {
    "name": "ipython",
    "version": 3
   },
   "file_extension": ".py",
   "mimetype": "text/x-python",
   "name": "python",
   "nbconvert_exporter": "python",
   "pygments_lexer": "ipython3",
   "version": "3.9.7"
  }
 },
 "nbformat": 4,
 "nbformat_minor": 5
}
