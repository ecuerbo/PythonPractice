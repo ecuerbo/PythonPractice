{
 "cells": [
  {
   "cell_type": "code",
   "execution_count": 1,
   "id": "04f6b529",
   "metadata": {},
   "outputs": [],
   "source": [
    "import numpy as np"
   ]
  },
  {
   "cell_type": "code",
   "execution_count": 4,
   "id": "9ac8e7b4",
   "metadata": {},
   "outputs": [
    {
     "data": {
      "text/plain": [
       "array([[0., 0., 0.],\n",
       "       [0., 0., 0.],\n",
       "       [0., 0., 0.],\n",
       "       [0., 0., 0.]])"
      ]
     },
     "execution_count": 4,
     "metadata": {},
     "output_type": "execute_result"
    }
   ],
   "source": [
    "np.zeros((4,3))"
   ]
  },
  {
   "cell_type": "code",
   "execution_count": 5,
   "id": "b3ef8823",
   "metadata": {},
   "outputs": [
    {
     "data": {
      "text/plain": [
       "array([[1., 1., 1.],\n",
       "       [1., 1., 1.],\n",
       "       [1., 1., 1.],\n",
       "       [1., 1., 1.]])"
      ]
     },
     "execution_count": 5,
     "metadata": {},
     "output_type": "execute_result"
    }
   ],
   "source": [
    "np.ones((4,3))"
   ]
  },
  {
   "cell_type": "code",
   "execution_count": 6,
   "id": "17d4619d",
   "metadata": {},
   "outputs": [
    {
     "data": {
      "text/plain": [
       "array([[0.4009575 , 0.01340927, 0.21991741, 0.45470264, 0.96321563],\n",
       "       [0.02745368, 0.92858646, 0.40561267, 0.34601137, 0.22598842]])"
      ]
     },
     "execution_count": 6,
     "metadata": {},
     "output_type": "execute_result"
    }
   ],
   "source": [
    "np.random.random((2,5))"
   ]
  },
  {
   "cell_type": "code",
   "execution_count": 8,
   "id": "07dc782a",
   "metadata": {},
   "outputs": [],
   "source": [
    " s =np.arange(-3,4)"
   ]
  },
  {
   "cell_type": "code",
   "execution_count": 13,
   "id": "3bb20d1f",
   "metadata": {},
   "outputs": [],
   "source": [
    "#3d arrays\n",
    "array_1_2D = np.array([[1,2],[5,7]])\n",
    "array_2_2D = np.array([[8,9],[5,7]])\n",
    "array_3_2D = np.array([[1,2],[5,7]])\n",
    "array_3D = np.array([array_1_2D,array_2_2D,array_3_2D])"
   ]
  },
  {
   "cell_type": "code",
   "execution_count": 15,
   "id": "3c2d28ef",
   "metadata": {},
   "outputs": [
    {
     "data": {
      "text/plain": [
       "array([1, 2, 5, 7, 8, 9, 5, 7, 1, 2, 5, 7])"
      ]
     },
     "execution_count": 15,
     "metadata": {},
     "output_type": "execute_result"
    }
   ],
   "source": [
    "array_3D.flatten()"
   ]
  },
  {
   "cell_type": "code",
   "execution_count": 19,
   "id": "2b57875e",
   "metadata": {},
   "outputs": [
    {
     "data": {
      "text/plain": [
       "array([[1, 2, 5],\n",
       "       [7, 8, 9],\n",
       "       [5, 7, 1],\n",
       "       [2, 5, 7]])"
      ]
     },
     "execution_count": 19,
     "metadata": {},
     "output_type": "execute_result"
    }
   ],
   "source": [
    "array_3D.reshape((4,3))"
   ]
  },
  {
   "cell_type": "code",
   "execution_count": 20,
   "id": "abeb4c5f",
   "metadata": {},
   "outputs": [
    {
     "name": "stdout",
     "output_type": "stream",
     "text": [
      "float64\n",
      "int32\n"
     ]
    }
   ],
   "source": [
    "# Create an array of zeros with three rows and two columns\n",
    "zero_array = np.zeros((3, 2))\n",
    "\n",
    "# Print the data type of zero_array\n",
    "print(zero_array.dtype)\n",
    "\n",
    "# Create a new array of int32 zeros with three rows and two columns\n",
    "zero_int_array = np.zeros((3,2), dtype=np.int32)\n",
    "\n",
    "# Print the data type of zero_int_array\n",
    "print(zero_int_array.dtype)"
   ]
  },
  {
   "cell_type": "code",
   "execution_count": null,
   "id": "18f63ad2",
   "metadata": {},
   "outputs": [],
   "source": [
    "# Print the data type of sudoku_game\n",
    "print(sudoku_game.dtype)\n",
    "\n",
    "# Change the data type of sudoku_game to int8\n",
    "small_sudoku_game = sudoku_game.astype(np.int8)\n",
    "\n",
    "# Print the data type of small_sudoku_game\n",
    "print(small_sudoku_game.dtype)"
   ]
  },
  {
   "cell_type": "code",
   "execution_count": null,
   "id": "57a2811b",
   "metadata": {},
   "outputs": [],
   "source": [
    "# Create an array of trunk diameters with even row indices from 50 to 100 inclusive\n",
    "every_other_diameter = tree_census[50:101:2,2]\n",
    "print(every_other_diameter)"
   ]
  },
  {
   "cell_type": "code",
   "execution_count": null,
   "id": "8c34476b",
   "metadata": {},
   "outputs": [],
   "source": [
    "# Extract trunk diameters information and sort from smallest to largest\n",
    "sorted_trunk_diameters = np.sort(tree_census[:,2], axis=0)\n",
    "print(sorted_trunk_diameters)"
   ]
  },
  {
   "cell_type": "code",
   "execution_count": null,
   "id": "9aea3e9e",
   "metadata": {},
   "outputs": [],
   "source": []
  },
  {
   "cell_type": "code",
   "execution_count": null,
   "id": "276d1796",
   "metadata": {},
   "outputs": [],
   "source": []
  },
  {
   "cell_type": "code",
   "execution_count": null,
   "id": "5a70de00",
   "metadata": {},
   "outputs": [],
   "source": []
  },
  {
   "cell_type": "code",
   "execution_count": null,
   "id": "7c2f4f6a",
   "metadata": {},
   "outputs": [],
   "source": []
  }
 ],
 "metadata": {
  "kernelspec": {
   "display_name": "Python 3 (ipykernel)",
   "language": "python",
   "name": "python3"
  },
  "language_info": {
   "codemirror_mode": {
    "name": "ipython",
    "version": 3
   },
   "file_extension": ".py",
   "mimetype": "text/x-python",
   "name": "python",
   "nbconvert_exporter": "python",
   "pygments_lexer": "ipython3",
   "version": "3.9.7"
  }
 },
 "nbformat": 4,
 "nbformat_minor": 5
}
