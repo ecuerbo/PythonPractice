{
 "cells": [
  {
   "cell_type": "code",
   "execution_count": 1,
   "id": "04f6b529",
   "metadata": {},
   "outputs": [],
   "source": [
    "import numpy as np"
   ]
  },
  {
   "cell_type": "code",
   "execution_count": 4,
   "id": "9ac8e7b4",
   "metadata": {},
   "outputs": [
    {
     "data": {
      "text/plain": [
       "array([[0., 0., 0.],\n",
       "       [0., 0., 0.],\n",
       "       [0., 0., 0.],\n",
       "       [0., 0., 0.]])"
      ]
     },
     "execution_count": 4,
     "metadata": {},
     "output_type": "execute_result"
    }
   ],
   "source": [
    "np.zeros((4,3))"
   ]
  },
  {
   "cell_type": "code",
   "execution_count": 5,
   "id": "b3ef8823",
   "metadata": {},
   "outputs": [
    {
     "data": {
      "text/plain": [
       "array([[1., 1., 1.],\n",
       "       [1., 1., 1.],\n",
       "       [1., 1., 1.],\n",
       "       [1., 1., 1.]])"
      ]
     },
     "execution_count": 5,
     "metadata": {},
     "output_type": "execute_result"
    }
   ],
   "source": [
    "np.ones((4,3))"
   ]
  },
  {
   "cell_type": "code",
   "execution_count": 6,
   "id": "17d4619d",
   "metadata": {},
   "outputs": [
    {
     "data": {
      "text/plain": [
       "array([[0.4009575 , 0.01340927, 0.21991741, 0.45470264, 0.96321563],\n",
       "       [0.02745368, 0.92858646, 0.40561267, 0.34601137, 0.22598842]])"
      ]
     },
     "execution_count": 6,
     "metadata": {},
     "output_type": "execute_result"
    }
   ],
   "source": [
    "np.random.random((2,5))"
   ]
  },
  {
   "cell_type": "code",
   "execution_count": 8,
   "id": "07dc782a",
   "metadata": {},
   "outputs": [],
   "source": [
    " s =np.arange(-3,4)"
   ]
  },
  {
   "cell_type": "code",
   "execution_count": 13,
   "id": "3bb20d1f",
   "metadata": {},
   "outputs": [],
   "source": [
    "#3d arrays\n",
    "array_1_2D = np.array([[1,2],[5,7]])\n",
    "array_2_2D = np.array([[8,9],[5,7]])\n",
    "array_3_2D = np.array([[1,2],[5,7]])\n",
    "array_3D = np.array([array_1_2D,array_2_2D,array_3_2D])"
   ]
  },
  {
   "cell_type": "code",
   "execution_count": 15,
   "id": "3c2d28ef",
   "metadata": {},
   "outputs": [
    {
     "data": {
      "text/plain": [
       "array([1, 2, 5, 7, 8, 9, 5, 7, 1, 2, 5, 7])"
      ]
     },
     "execution_count": 15,
     "metadata": {},
     "output_type": "execute_result"
    }
   ],
   "source": [
    "array_3D.flatten()"
   ]
  },
  {
   "cell_type": "code",
   "execution_count": 19,
   "id": "2b57875e",
   "metadata": {},
   "outputs": [
    {
     "data": {
      "text/plain": [
       "array([[1, 2, 5],\n",
       "       [7, 8, 9],\n",
       "       [5, 7, 1],\n",
       "       [2, 5, 7]])"
      ]
     },
     "execution_count": 19,
     "metadata": {},
     "output_type": "execute_result"
    }
   ],
   "source": [
    "array_3D.reshape((4,3))"
   ]
  },
  {
   "cell_type": "code",
   "execution_count": 20,
   "id": "abeb4c5f",
   "metadata": {},
   "outputs": [
    {
     "name": "stdout",
     "output_type": "stream",
     "text": [
      "float64\n",
      "int32\n"
     ]
    }
   ],
   "source": [
    "# Create an array of zeros with three rows and two columns\n",
    "zero_array = np.zeros((3, 2))\n",
    "\n",
    "# Print the data type of zero_array\n",
    "print(zero_array.dtype)\n",
    "\n",
    "# Create a new array of int32 zeros with three rows and two columns\n",
    "zero_int_array = np.zeros((3,2), dtype=np.int32)\n",
    "\n",
    "# Print the data type of zero_int_array\n",
    "print(zero_int_array.dtype)"
   ]
  },
  {
   "cell_type": "code",
   "execution_count": null,
   "id": "18f63ad2",
   "metadata": {},
   "outputs": [],
   "source": [
    "# Print the data type of sudoku_game\n",
    "print(sudoku_game.dtype)\n",
    "\n",
    "# Change the data type of sudoku_game to int8\n",
    "small_sudoku_game = sudoku_game.astype(np.int8)\n",
    "\n",
    "# Print the data type of small_sudoku_game\n",
    "print(small_sudoku_game.dtype)"
   ]
  },
  {
   "cell_type": "code",
   "execution_count": null,
   "id": "57a2811b",
   "metadata": {},
   "outputs": [],
   "source": [
    "# Create an array of trunk diameters with even row indices from 50 to 100 inclusive\n",
    "every_other_diameter = tree_census[50:101:2,2]\n",
    "print(every_other_diameter)"
   ]
  },
  {
   "cell_type": "code",
   "execution_count": null,
   "id": "8c34476b",
   "metadata": {},
   "outputs": [],
   "source": [
    "# Extract trunk diameters information and sort from smallest to largest\n",
    "sorted_trunk_diameters = np.sort(tree_census[:,2], axis=0)\n",
    "print(sorted_trunk_diameters)"
   ]
  },
  {
   "cell_type": "code",
   "execution_count": 2,
   "id": "9aea3e9e",
   "metadata": {},
   "outputs": [
    {
     "data": {
      "text/plain": [
       "array([2, 4])"
      ]
     },
     "execution_count": 2,
     "metadata": {},
     "output_type": "execute_result"
    }
   ],
   "source": [
    "import numpy as np\n",
    "one_to_five = np.arange(1,6)\n",
    "mask = one_to_five % 2 == 0\n",
    "one_to_five[mask]"
   ]
  },
  {
   "cell_type": "code",
   "execution_count": 3,
   "id": "276d1796",
   "metadata": {},
   "outputs": [],
   "source": [
    "one2tousand = np.arange(1,1000)\n",
    "mask = one2tousand % 3 == 0\n",
    "div_by_3 = one2tousand[mask]"
   ]
  },
  {
   "cell_type": "code",
   "execution_count": 7,
   "id": "5a70de00",
   "metadata": {},
   "outputs": [
    {
     "data": {
      "text/plain": [
       "array([[ 1, 22],\n",
       "       [ 2, 21],\n",
       "       [ 3, 27],\n",
       "       [ 4, 26]])"
      ]
     },
     "execution_count": 7,
     "metadata": {},
     "output_type": "execute_result"
    }
   ],
   "source": [
    "room_id_sizes = np.array([[1,22],[2,21],[3,27],[4,26]])\n",
    "room_id_sizes"
   ]
  },
  {
   "cell_type": "code",
   "execution_count": 10,
   "id": "7c2f4f6a",
   "metadata": {},
   "outputs": [
    {
     "data": {
      "text/plain": [
       "array([1, 4])"
      ]
     },
     "execution_count": 10,
     "metadata": {},
     "output_type": "execute_result"
    }
   ],
   "source": [
    "room_id_sizes[:,0][room_id_sizes[:,1]%2==0]"
   ]
  },
  {
   "cell_type": "code",
   "execution_count": 11,
   "id": "44067fb4",
   "metadata": {},
   "outputs": [
    {
     "data": {
      "text/plain": [
       "(array([0, 3]),)"
      ]
     },
     "execution_count": 11,
     "metadata": {},
     "output_type": "execute_result"
    }
   ],
   "source": [
    "#filtering with np.where\n",
    "np.where(room_id_sizes[:,1]%2==0)"
   ]
  },
  {
   "cell_type": "code",
   "execution_count": 12,
   "id": "3af6f545",
   "metadata": {},
   "outputs": [],
   "source": [
    "sudoku = np.array([[5,3,0,0,7,0,0,0,0],\n",
    "                    [6,0,0,1,9,5,0,0,0],\n",
    "                    [0,9,8,0,0,0,0,6,0],\n",
    "                    [8,0,0,0,6,0,0,0,3],\n",
    "                    [4,0,0,8,0,3,0,0,1],\n",
    "                    [7,0,0,0,2,0,0,0,6],\n",
    "                    [0,6,0,0,0,0,2,8,0],\n",
    "                    [0,0,0,4,1,9,0,0,5],\n",
    "                    [0,0,0,0,8,0,0,7,9]])"
   ]
  },
  {
   "cell_type": "code",
   "execution_count": 14,
   "id": "3480c74f",
   "metadata": {},
   "outputs": [
    {
     "data": {
      "text/plain": [
       "(array([0, 0, 0, 0, 0, 0, 1, 1, 1, 1, 1, 2, 2, 2, 2, 2, 2, 3, 3, 3, 3, 3,\n",
       "        3, 4, 4, 4, 4, 4, 5, 5, 5, 5, 5, 5, 6, 6, 6, 6, 6, 6, 7, 7, 7, 7,\n",
       "        7, 8, 8, 8, 8, 8, 8]),\n",
       " array([2, 3, 5, 6, 7, 8, 1, 2, 6, 7, 8, 0, 3, 4, 5, 6, 8, 1, 2, 3, 5, 6,\n",
       "        7, 1, 2, 4, 6, 7, 1, 2, 3, 5, 6, 7, 0, 2, 3, 4, 5, 8, 0, 1, 2, 6,\n",
       "        7, 0, 1, 2, 3, 5, 6]))"
      ]
     },
     "execution_count": 14,
     "metadata": {},
     "output_type": "execute_result"
    }
   ],
   "source": [
    "row_ind, col_ind = np.where(sudoku == 0)\n",
    "row_ind, col_ind"
   ]
  },
  {
   "cell_type": "code",
   "execution_count": 23,
   "id": "6217989c",
   "metadata": {},
   "outputs": [],
   "source": [
    "#find and replace\n",
    "sudoku_x = np.where(sudoku == 0,'999',sudoku)"
   ]
  },
  {
   "cell_type": "code",
   "execution_count": 25,
   "id": "fdd8bf5b",
   "metadata": {},
   "outputs": [
    {
     "name": "stderr",
     "output_type": "stream",
     "text": [
      "/var/folders/g6/qw3t2lbx7x91r1mfyp6k77k00000gn/T/ipykernel_9297/23362863.py:1: FutureWarning: elementwise comparison failed; returning scalar instead, but in the future will perform elementwise comparison\n",
      "  np.where(sudoku_x == 2,\"w\",sudoku_x)\n"
     ]
    },
    {
     "data": {
      "text/plain": [
       "array([['5', '3', '999', '999', '7', '999', '999', '999', '999'],\n",
       "       ['6', '999', '999', '1', '9', '5', '999', '999', '999'],\n",
       "       ['999', '9', '8', '999', '999', '999', '999', '6', '999'],\n",
       "       ['8', '999', '999', '999', '6', '999', '999', '999', '3'],\n",
       "       ['4', '999', '999', '8', '999', '3', '999', '999', '1'],\n",
       "       ['7', '999', '999', '999', '2', '999', '999', '999', '6'],\n",
       "       ['999', '6', '999', '999', '999', '999', '2', '8', '999'],\n",
       "       ['999', '999', '999', '4', '1', '9', '999', '999', '5'],\n",
       "       ['999', '999', '999', '999', '8', '999', '999', '7', '9']],\n",
       "      dtype='<U21')"
      ]
     },
     "execution_count": 25,
     "metadata": {},
     "output_type": "execute_result"
    }
   ],
   "source": [
    "np.where(sudoku_x == 2,\"w\",sudoku_x)"
   ]
  },
  {
   "cell_type": "code",
   "execution_count": null,
   "id": "0397cffc",
   "metadata": {},
   "outputs": [],
   "source": [
    "# Create an array which contains row data on the largest tree in tree_census\n",
    "largest_tree_data = tree_census[tree_census[:, 2] == 51]\n",
    "print(largest_tree_data)\n",
    "\n",
    "# Slice largest_tree_data to get only the block ID\n",
    "largest_tree_block_id = largest_tree_data[:, 1]\n",
    "print(largest_tree_block_id)\n",
    "\n",
    "# Create an array which contains row data on all trees with largest_tree_block_id\n",
    "trees_on_largest_tree_block = tree_census[tree_census[:, 1] == largest_tree_block_id]\n",
    "print(trees_on_largest_tree_block)"
   ]
  }
 ],
 "metadata": {
  "kernelspec": {
   "display_name": "Python 3 (ipykernel)",
   "language": "python",
   "name": "python3"
  },
  "language_info": {
   "codemirror_mode": {
    "name": "ipython",
    "version": 3
   },
   "file_extension": ".py",
   "mimetype": "text/x-python",
   "name": "python",
   "nbconvert_exporter": "python",
   "pygments_lexer": "ipython3",
   "version": "3.9.7"
  }
 },
 "nbformat": 4,
 "nbformat_minor": 5
}
