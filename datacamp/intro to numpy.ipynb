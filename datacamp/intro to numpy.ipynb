{
 "cells": [
  {
   "cell_type": "code",
   "execution_count": 1,
   "id": "04f6b529",
   "metadata": {},
   "outputs": [],
   "source": [
    "import numpy as np"
   ]
  },
  {
   "cell_type": "code",
   "execution_count": 4,
   "id": "9ac8e7b4",
   "metadata": {},
   "outputs": [
    {
     "data": {
      "text/plain": [
       "array([[0., 0., 0.],\n",
       "       [0., 0., 0.],\n",
       "       [0., 0., 0.],\n",
       "       [0., 0., 0.]])"
      ]
     },
     "execution_count": 4,
     "metadata": {},
     "output_type": "execute_result"
    }
   ],
   "source": [
    "np.zeros((4,3))"
   ]
  },
  {
   "cell_type": "code",
   "execution_count": 5,
   "id": "b3ef8823",
   "metadata": {},
   "outputs": [
    {
     "data": {
      "text/plain": [
       "array([[1., 1., 1.],\n",
       "       [1., 1., 1.],\n",
       "       [1., 1., 1.],\n",
       "       [1., 1., 1.]])"
      ]
     },
     "execution_count": 5,
     "metadata": {},
     "output_type": "execute_result"
    }
   ],
   "source": [
    "np.ones((4,3))"
   ]
  },
  {
   "cell_type": "code",
   "execution_count": 6,
   "id": "17d4619d",
   "metadata": {},
   "outputs": [
    {
     "data": {
      "text/plain": [
       "array([[0.4009575 , 0.01340927, 0.21991741, 0.45470264, 0.96321563],\n",
       "       [0.02745368, 0.92858646, 0.40561267, 0.34601137, 0.22598842]])"
      ]
     },
     "execution_count": 6,
     "metadata": {},
     "output_type": "execute_result"
    }
   ],
   "source": [
    "np.random.random((2,5))"
   ]
  },
  {
   "cell_type": "code",
   "execution_count": 8,
   "id": "07dc782a",
   "metadata": {},
   "outputs": [],
   "source": [
    " s =np.arange(-3,4)"
   ]
  },
  {
   "cell_type": "code",
   "execution_count": 13,
   "id": "3bb20d1f",
   "metadata": {},
   "outputs": [],
   "source": [
    "#3d arrays\n",
    "array_1_2D = np.array([[1,2],[5,7]])\n",
    "array_2_2D = np.array([[8,9],[5,7]])\n",
    "array_3_2D = np.array([[1,2],[5,7]])\n",
    "array_3D = np.array([array_1_2D,array_2_2D,array_3_2D])"
   ]
  },
  {
   "cell_type": "code",
   "execution_count": 15,
   "id": "3c2d28ef",
   "metadata": {},
   "outputs": [
    {
     "data": {
      "text/plain": [
       "array([1, 2, 5, 7, 8, 9, 5, 7, 1, 2, 5, 7])"
      ]
     },
     "execution_count": 15,
     "metadata": {},
     "output_type": "execute_result"
    }
   ],
   "source": [
    "array_3D.flatten()"
   ]
  },
  {
   "cell_type": "code",
   "execution_count": 19,
   "id": "2b57875e",
   "metadata": {},
   "outputs": [
    {
     "data": {
      "text/plain": [
       "array([[1, 2, 5],\n",
       "       [7, 8, 9],\n",
       "       [5, 7, 1],\n",
       "       [2, 5, 7]])"
      ]
     },
     "execution_count": 19,
     "metadata": {},
     "output_type": "execute_result"
    }
   ],
   "source": [
    "array_3D.reshape((4,3))"
   ]
  },
  {
   "cell_type": "code",
   "execution_count": 20,
   "id": "abeb4c5f",
   "metadata": {},
   "outputs": [
    {
     "name": "stdout",
     "output_type": "stream",
     "text": [
      "float64\n",
      "int32\n"
     ]
    }
   ],
   "source": [
    "# Create an array of zeros with three rows and two columns\n",
    "zero_array = np.zeros((3, 2))\n",
    "\n",
    "# Print the data type of zero_array\n",
    "print(zero_array.dtype)\n",
    "\n",
    "# Create a new array of int32 zeros with three rows and two columns\n",
    "zero_int_array = np.zeros((3,2), dtype=np.int32)\n",
    "\n",
    "# Print the data type of zero_int_array\n",
    "print(zero_int_array.dtype)"
   ]
  },
  {
   "cell_type": "code",
   "execution_count": null,
   "id": "18f63ad2",
   "metadata": {},
   "outputs": [],
   "source": [
    "# Print the data type of sudoku_game\n",
    "print(sudoku_game.dtype)\n",
    "\n",
    "# Change the data type of sudoku_game to int8\n",
    "small_sudoku_game = sudoku_game.astype(np.int8)\n",
    "\n",
    "# Print the data type of small_sudoku_game\n",
    "print(small_sudoku_game.dtype)"
   ]
  },
  {
   "cell_type": "code",
   "execution_count": null,
   "id": "57a2811b",
   "metadata": {},
   "outputs": [],
   "source": [
    "# Create an array of trunk diameters with even row indices from 50 to 100 inclusive\n",
    "every_other_diameter = tree_census[50:101:2,2]\n",
    "print(every_other_diameter)"
   ]
  },
  {
   "cell_type": "code",
   "execution_count": null,
   "id": "8c34476b",
   "metadata": {},
   "outputs": [],
   "source": [
    "# Extract trunk diameters information and sort from smallest to largest\n",
    "sorted_trunk_diameters = np.sort(tree_census[:,2], axis=0)\n",
    "print(sorted_trunk_diameters)"
   ]
  },
  {
   "cell_type": "code",
   "execution_count": 2,
   "id": "9aea3e9e",
   "metadata": {},
   "outputs": [
    {
     "data": {
      "text/plain": [
       "array([2, 4])"
      ]
     },
     "execution_count": 2,
     "metadata": {},
     "output_type": "execute_result"
    }
   ],
   "source": [
    "import numpy as np\n",
    "one_to_five = np.arange(1,6)\n",
    "mask = one_to_five % 2 == 0\n",
    "one_to_five[mask]"
   ]
  },
  {
   "cell_type": "code",
   "execution_count": 3,
   "id": "276d1796",
   "metadata": {},
   "outputs": [],
   "source": [
    "one2tousand = np.arange(1,1000)\n",
    "mask = one2tousand % 3 == 0\n",
    "div_by_3 = one2tousand[mask]"
   ]
  },
  {
   "cell_type": "code",
   "execution_count": 7,
   "id": "5a70de00",
   "metadata": {},
   "outputs": [
    {
     "data": {
      "text/plain": [
       "array([[ 1, 22],\n",
       "       [ 2, 21],\n",
       "       [ 3, 27],\n",
       "       [ 4, 26]])"
      ]
     },
     "execution_count": 7,
     "metadata": {},
     "output_type": "execute_result"
    }
   ],
   "source": [
    "room_id_sizes = np.array([[1,22],[2,21],[3,27],[4,26]])\n",
    "room_id_sizes"
   ]
  },
  {
   "cell_type": "code",
   "execution_count": 10,
   "id": "7c2f4f6a",
   "metadata": {},
   "outputs": [
    {
     "data": {
      "text/plain": [
       "array([1, 4])"
      ]
     },
     "execution_count": 10,
     "metadata": {},
     "output_type": "execute_result"
    }
   ],
   "source": [
    "room_id_sizes[:,0][room_id_sizes[:,1]%2==0]"
   ]
  },
  {
   "cell_type": "code",
   "execution_count": 11,
   "id": "44067fb4",
   "metadata": {},
   "outputs": [
    {
     "data": {
      "text/plain": [
       "(array([0, 3]),)"
      ]
     },
     "execution_count": 11,
     "metadata": {},
     "output_type": "execute_result"
    }
   ],
   "source": [
    "#filtering with np.where\n",
    "np.where(room_id_sizes[:,1]%2==0)"
   ]
  },
  {
   "cell_type": "code",
   "execution_count": 12,
   "id": "3af6f545",
   "metadata": {},
   "outputs": [],
   "source": [
    "sudoku = np.array([[5,3,0,0,7,0,0,0,0],\n",
    "                    [6,0,0,1,9,5,0,0,0],\n",
    "                    [0,9,8,0,0,0,0,6,0],\n",
    "                    [8,0,0,0,6,0,0,0,3],\n",
    "                    [4,0,0,8,0,3,0,0,1],\n",
    "                    [7,0,0,0,2,0,0,0,6],\n",
    "                    [0,6,0,0,0,0,2,8,0],\n",
    "                    [0,0,0,4,1,9,0,0,5],\n",
    "                    [0,0,0,0,8,0,0,7,9]])"
   ]
  },
  {
   "cell_type": "code",
   "execution_count": 14,
   "id": "3480c74f",
   "metadata": {},
   "outputs": [
    {
     "data": {
      "text/plain": [
       "(array([0, 0, 0, 0, 0, 0, 1, 1, 1, 1, 1, 2, 2, 2, 2, 2, 2, 3, 3, 3, 3, 3,\n",
       "        3, 4, 4, 4, 4, 4, 5, 5, 5, 5, 5, 5, 6, 6, 6, 6, 6, 6, 7, 7, 7, 7,\n",
       "        7, 8, 8, 8, 8, 8, 8]),\n",
       " array([2, 3, 5, 6, 7, 8, 1, 2, 6, 7, 8, 0, 3, 4, 5, 6, 8, 1, 2, 3, 5, 6,\n",
       "        7, 1, 2, 4, 6, 7, 1, 2, 3, 5, 6, 7, 0, 2, 3, 4, 5, 8, 0, 1, 2, 6,\n",
       "        7, 0, 1, 2, 3, 5, 6]))"
      ]
     },
     "execution_count": 14,
     "metadata": {},
     "output_type": "execute_result"
    }
   ],
   "source": [
    "row_ind, col_ind = np.where(sudoku == 0)\n",
    "row_ind, col_ind"
   ]
  },
  {
   "cell_type": "code",
   "execution_count": 23,
   "id": "6217989c",
   "metadata": {},
   "outputs": [],
   "source": [
    "#find and replace\n",
    "sudoku_x = np.where(sudoku == 0,'999',sudoku)"
   ]
  },
  {
   "cell_type": "code",
   "execution_count": 25,
   "id": "fdd8bf5b",
   "metadata": {},
   "outputs": [
    {
     "name": "stderr",
     "output_type": "stream",
     "text": [
      "/var/folders/g6/qw3t2lbx7x91r1mfyp6k77k00000gn/T/ipykernel_9297/23362863.py:1: FutureWarning: elementwise comparison failed; returning scalar instead, but in the future will perform elementwise comparison\n",
      "  np.where(sudoku_x == 2,\"w\",sudoku_x)\n"
     ]
    },
    {
     "data": {
      "text/plain": [
       "array([['5', '3', '999', '999', '7', '999', '999', '999', '999'],\n",
       "       ['6', '999', '999', '1', '9', '5', '999', '999', '999'],\n",
       "       ['999', '9', '8', '999', '999', '999', '999', '6', '999'],\n",
       "       ['8', '999', '999', '999', '6', '999', '999', '999', '3'],\n",
       "       ['4', '999', '999', '8', '999', '3', '999', '999', '1'],\n",
       "       ['7', '999', '999', '999', '2', '999', '999', '999', '6'],\n",
       "       ['999', '6', '999', '999', '999', '999', '2', '8', '999'],\n",
       "       ['999', '999', '999', '4', '1', '9', '999', '999', '5'],\n",
       "       ['999', '999', '999', '999', '8', '999', '999', '7', '9']],\n",
       "      dtype='<U21')"
      ]
     },
     "execution_count": 25,
     "metadata": {},
     "output_type": "execute_result"
    }
   ],
   "source": [
    "np.where(sudoku_x == 2,\"w\",sudoku_x)"
   ]
  },
  {
   "cell_type": "code",
   "execution_count": null,
   "id": "0397cffc",
   "metadata": {},
   "outputs": [],
   "source": [
    "# Create an array which contains row data on the largest tree in tree_census\n",
    "largest_tree_data = tree_census[tree_census[:, 2] == 51]\n",
    "print(largest_tree_data)\n",
    "\n",
    "# Slice largest_tree_data to get only the block ID\n",
    "largest_tree_block_id = largest_tree_data[:, 1]\n",
    "print(largest_tree_block_id)\n",
    "\n",
    "# Create an array which contains row data on all trees with largest_tree_block_id\n",
    "trees_on_largest_tree_block = tree_census[tree_census[:, 1] == largest_tree_block_id]\n",
    "print(trees_on_largest_tree_block)"
   ]
  },
  {
   "cell_type": "code",
   "execution_count": 1,
   "id": "a005f8da",
   "metadata": {},
   "outputs": [
    {
     "data": {
      "text/plain": [
       "array([3, 2, 5, 8, 4, 9, 7, 6, 1])"
      ]
     },
     "execution_count": 1,
     "metadata": {},
     "output_type": "execute_result"
    }
   ],
   "source": [
    "import numpy as np\n",
    "pylist = [3,2,5,8,4,9,7,6,1]\n",
    "array = np.array(pylist)\n",
    "array"
   ]
  },
  {
   "cell_type": "code",
   "execution_count": 2,
   "id": "165719f3",
   "metadata": {},
   "outputs": [
    {
     "data": {
      "text/plain": [
       "numpy.ndarray"
      ]
     },
     "execution_count": 2,
     "metadata": {},
     "output_type": "execute_result"
    }
   ],
   "source": [
    "type(array)"
   ]
  },
  {
   "cell_type": "code",
   "execution_count": 3,
   "id": "31a39038",
   "metadata": {},
   "outputs": [
    {
     "data": {
      "text/plain": [
       "array([[3, 2, 5],\n",
       "       [9, 7, 1],\n",
       "       [4, 3, 6]])"
      ]
     },
     "execution_count": 3,
     "metadata": {},
     "output_type": "execute_result"
    }
   ],
   "source": [
    "#2d array\n",
    "pylol = [\n",
    "    [3,2,5],\n",
    "    [9,7,1],\n",
    "    [4,3,6]\n",
    "]\n",
    "np.array(pylol)"
   ]
  },
  {
   "cell_type": "code",
   "execution_count": 4,
   "id": "f753dc99",
   "metadata": {},
   "outputs": [
    {
     "data": {
      "text/plain": [
       "array([[0., 0., 0.],\n",
       "       [0., 0., 0.],\n",
       "       [0., 0., 0.],\n",
       "       [0., 0., 0.],\n",
       "       [0., 0., 0.]])"
      ]
     },
     "execution_count": 4,
     "metadata": {},
     "output_type": "execute_result"
    }
   ],
   "source": [
    "np.zeros((5,3))"
   ]
  },
  {
   "cell_type": "code",
   "execution_count": 5,
   "id": "ff595db8",
   "metadata": {},
   "outputs": [
    {
     "data": {
      "text/plain": [
       "array([[0., 0.],\n",
       "       [0., 0.],\n",
       "       [0., 0.],\n",
       "       [0., 0.]])"
      ]
     },
     "execution_count": 5,
     "metadata": {},
     "output_type": "execute_result"
    }
   ],
   "source": [
    "np.zeros((4,2))"
   ]
  },
  {
   "cell_type": "code",
   "execution_count": 6,
   "id": "7f67a11c",
   "metadata": {},
   "outputs": [
    {
     "data": {
      "text/plain": [
       "array([[0.88176091, 0.57029086, 0.32596109, 0.3020932 , 0.57364515,\n",
       "        0.26956314, 0.38798588, 0.23271298],\n",
       "       [0.5872044 , 0.81860176, 0.6351162 , 0.82851356, 0.45820446,\n",
       "        0.1995624 , 0.32370392, 0.27133381],\n",
       "       [0.42179564, 0.21505227, 0.73272974, 0.2379906 , 0.26490594,\n",
       "        0.84365295, 0.03161413, 0.19663563],\n",
       "       [0.47864015, 0.209458  , 0.63805097, 0.31753359, 0.28115077,\n",
       "        0.45592014, 0.54636695, 0.21474809]])"
      ]
     },
     "execution_count": 6,
     "metadata": {},
     "output_type": "execute_result"
    }
   ],
   "source": [
    "np.random.random((4,8))"
   ]
  },
  {
   "cell_type": "code",
   "execution_count": 7,
   "id": "4eda4626",
   "metadata": {},
   "outputs": [
    {
     "data": {
      "text/plain": [
       "array([-3, -2, -1,  0,  1,  2,  3])"
      ]
     },
     "execution_count": 7,
     "metadata": {},
     "output_type": "execute_result"
    }
   ],
   "source": [
    "np.arange(-3,4)"
   ]
  },
  {
   "cell_type": "code",
   "execution_count": 8,
   "id": "036f0eae",
   "metadata": {},
   "outputs": [
    {
     "data": {
      "text/plain": [
       "array([1. , 1.2, 1.4, 1.6, 1.8, 2. , 2.2, 2.4, 2.6, 2.8, 3. , 3.2, 3.4,\n",
       "       3.6, 3.8, 4. , 4.2, 4.4, 4.6, 4.8])"
      ]
     },
     "execution_count": 8,
     "metadata": {},
     "output_type": "execute_result"
    }
   ],
   "source": [
    "np.arange(1,5,0.2)"
   ]
  },
  {
   "cell_type": "code",
   "execution_count": 10,
   "id": "4c9146b7",
   "metadata": {},
   "outputs": [
    {
     "data": {
      "text/plain": [
       "array([ 0,  1,  2,  3,  4,  5,  6,  7,  8,  9, 10, 11, 12, 13, 14, 15, 16,\n",
       "       17, 18, 19, 20, 21, 22, 23, 24, 25, 26, 27, 28, 29, 30, 31, 32, 33,\n",
       "       34, 35, 36, 37, 38, 39, 40, 41, 42, 43, 44, 45, 46, 47, 48, 49, 50,\n",
       "       51, 52, 53, 54, 55, 56, 57, 58, 59, 60, 61, 62, 63, 64, 65, 66, 67,\n",
       "       68, 69, 70, 71, 72, 73, 74, 75, 76, 77, 78, 79, 80, 81, 82, 83, 84,\n",
       "       85, 86, 87, 88, 89, 90, 91, 92, 93, 94, 95, 96, 97, 98, 99])"
      ]
     },
     "execution_count": 10,
     "metadata": {},
     "output_type": "execute_result"
    }
   ],
   "source": [
    "np.arange(100)"
   ]
  },
  {
   "cell_type": "code",
   "execution_count": 12,
   "id": "8430a16a",
   "metadata": {},
   "outputs": [
    {
     "data": {
      "text/plain": [
       "array([100,  98,  96,  94,  92,  90,  88,  86,  84,  82,  80,  78,  76,\n",
       "        74,  72,  70,  68,  66,  64,  62,  60,  58,  56,  54,  52,  50,\n",
       "        48,  46,  44,  42,  40,  38,  36,  34,  32,  30,  28,  26,  24,\n",
       "        22])"
      ]
     },
     "execution_count": 12,
     "metadata": {},
     "output_type": "execute_result"
    }
   ],
   "source": [
    "np.arange(100,20,-2)"
   ]
  },
  {
   "cell_type": "code",
   "execution_count": 13,
   "id": "04a38caa",
   "metadata": {},
   "outputs": [
    {
     "data": {
      "image/png": "[encoded data removed]",
      "text/plain": [
       "<Figure size 432x288 with 1 Axes>"
      ]
     },
     "metadata": {
      "needs_background": "light"
     },
     "output_type": "display_data"
    }
   ],
   "source": [
    "import matplotlib.pyplot as plt\n",
    "plt.scatter(np.arange(0,7),\n",
    "           np.arange(-3,4));"
   ]
  },
  {
   "cell_type": "code",
   "execution_count": 15,
   "id": "3127605e",
   "metadata": {},
   "outputs": [
    {
     "data": {
      "text/plain": [
       "array([[[1, 2],\n",
       "        [5, 7]],\n",
       "\n",
       "       [[8, 9],\n",
       "        [5, 7]],\n",
       "\n",
       "       [[1, 2],\n",
       "        [5, 7]]])"
      ]
     },
     "execution_count": 15,
     "metadata": {},
     "output_type": "execute_result"
    }
   ],
   "source": [
    "array1 = np.array([[1,2],[5,7]])\n",
    "array2 = np.array([[8,9],[5,7]])\n",
    "array3 = np.array([[1,2],[5,7]])\n",
    "array_3D = np.array([array1,array2,array3])\n",
    "array_3D"
   ]
  },
  {
   "cell_type": "code",
   "execution_count": 16,
   "id": "da5d1cdf",
   "metadata": {},
   "outputs": [
    {
     "data": {
      "text/plain": [
       "(3, 2, 2)"
      ]
     },
     "execution_count": 16,
     "metadata": {},
     "output_type": "execute_result"
    }
   ],
   "source": [
    "array_3D.shape"
   ]
  },
  {
   "cell_type": "code",
   "execution_count": 17,
   "id": "7a927cb2",
   "metadata": {},
   "outputs": [
    {
     "data": {
      "text/plain": [
       "(2, 2)"
      ]
     },
     "execution_count": 17,
     "metadata": {},
     "output_type": "execute_result"
    }
   ],
   "source": [
    "array1.shape"
   ]
  },
  {
   "cell_type": "code",
   "execution_count": 19,
   "id": "3d6f0d18",
   "metadata": {},
   "outputs": [
    {
     "data": {
      "text/plain": [
       "array([1, 2, 5, 7])"
      ]
     },
     "execution_count": 19,
     "metadata": {},
     "output_type": "execute_result"
    }
   ],
   "source": [
    "array1.flatten()"
   ]
  },
  {
   "cell_type": "code",
   "execution_count": 20,
   "id": "a14fb133",
   "metadata": {},
   "outputs": [
    {
     "data": {
      "text/plain": [
       "array([1, 2, 5, 7, 8, 9, 5, 7, 1, 2, 5, 7])"
      ]
     },
     "execution_count": 20,
     "metadata": {},
     "output_type": "execute_result"
    }
   ],
   "source": [
    "array_3D.flatten()"
   ]
  },
  {
   "cell_type": "code",
   "execution_count": 21,
   "id": "22ffcab6",
   "metadata": {},
   "outputs": [
    {
     "data": {
      "text/plain": [
       "(3, 2)"
      ]
     },
     "execution_count": 21,
     "metadata": {},
     "output_type": "execute_result"
    }
   ],
   "source": [
    "array = np.array([[1,2],[5,7],[6,6]])\n",
    "array.shape"
   ]
  },
  {
   "cell_type": "code",
   "execution_count": 22,
   "id": "dee05b17",
   "metadata": {},
   "outputs": [
    {
     "data": {
      "text/plain": [
       "array([[1, 2, 5],\n",
       "       [7, 6, 6]])"
      ]
     },
     "execution_count": 22,
     "metadata": {},
     "output_type": "execute_result"
    }
   ],
   "source": [
    "array.reshape((2,3))"
   ]
  },
  {
   "cell_type": "code",
   "execution_count": 26,
   "id": "a9079cb4",
   "metadata": {},
   "outputs": [
    {
     "data": {
      "text/plain": [
       "array([[[1, 2],\n",
       "        [5, 7],\n",
       "        [8, 9]],\n",
       "\n",
       "       [[5, 7],\n",
       "        [1, 2],\n",
       "        [5, 7]]])"
      ]
     },
     "execution_count": 26,
     "metadata": {},
     "output_type": "execute_result"
    }
   ],
   "source": [
    "array_3D.reshape(2,3,2)"
   ]
  },
  {
   "cell_type": "code",
   "execution_count": 27,
   "id": "8d7f2577",
   "metadata": {},
   "outputs": [
    {
     "data": {
      "text/plain": [
       "dtype('float32')"
      ]
     },
     "execution_count": 27,
     "metadata": {},
     "output_type": "execute_result"
    }
   ],
   "source": [
    "array32 = np.array([1.32,5.78,175.55], dtype=np.float32)\n",
    "array32.dtype"
   ]
  },
  {
   "cell_type": "code",
   "execution_count": 28,
   "id": "f9bc8f69",
   "metadata": {},
   "outputs": [
    {
     "data": {
      "text/plain": [
       "dtype('bool')"
      ]
     },
     "execution_count": 28,
     "metadata": {},
     "output_type": "execute_result"
    }
   ],
   "source": [
    "array_bool = np.array([[True, False],[False,False]], dtype=np.bool_)\n",
    "array_bool.dtype"
   ]
  },
  {
   "cell_type": "code",
   "execution_count": 29,
   "id": "431d61c6",
   "metadata": {},
   "outputs": [
    {
     "data": {
      "text/plain": [
       "array([[1, 0],\n",
       "       [0, 0]], dtype=int32)"
      ]
     },
     "execution_count": 29,
     "metadata": {},
     "output_type": "execute_result"
    }
   ],
   "source": [
    "array_bool.astype(np.int32)"
   ]
  },
  {
   "cell_type": "code",
   "execution_count": 30,
   "id": "82bd5f96",
   "metadata": {},
   "outputs": [
    {
     "data": {
      "text/plain": [
       "array(['True', 'Boop', '42', '42.42'], dtype='<U32')"
      ]
     },
     "execution_count": 30,
     "metadata": {},
     "output_type": "execute_result"
    }
   ],
   "source": [
    "np.array([True,'Boop', 42,42.42])"
   ]
  },
  {
   "cell_type": "markdown",
   "id": "84154066",
   "metadata": {},
   "source": [
    "## INDEXING"
   ]
  },
  {
   "cell_type": "code",
   "execution_count": 40,
   "id": "ee4becb9",
   "metadata": {},
   "outputs": [],
   "source": [
    "sudoku = np.array([[0,0,4,3,0,0,2,0,9],\n",
    "                  [0,0,5,0,0,9,0,0,1],\n",
    "                  [0,7,0,0,6,0,0,4,3],\n",
    "                  [0,0,6,0,0,2,0,8,7],\n",
    "                  [1,9,0,0,0,7,4,0,0],\n",
    "                  [0,5,0,0,8,3,0,0,0],\n",
    "                  [6,0,0,0,0,0,1,0,5],\n",
    "                  [0,0,3,5,0,8,6,9,0],\n",
    "                  [0,4,2,9,1,0,3,0,0]], dtype=np.int8)"
   ]
  },
  {
   "cell_type": "code",
   "execution_count": 41,
   "id": "77e53fa3",
   "metadata": {},
   "outputs": [
    {
     "data": {
      "text/plain": [
       "array([0, 0, 6, 0, 0, 2, 0, 8, 7], dtype=int8)"
      ]
     },
     "execution_count": 41,
     "metadata": {},
     "output_type": "execute_result"
    }
   ],
   "source": [
    "sudoku[3]"
   ]
  },
  {
   "cell_type": "code",
   "execution_count": 43,
   "id": "ee301f27",
   "metadata": {},
   "outputs": [
    {
     "data": {
      "text/plain": [
       "0"
      ]
     },
     "execution_count": 43,
     "metadata": {},
     "output_type": "execute_result"
    }
   ],
   "source": [
    "sudoku[3,0]"
   ]
  },
  {
   "cell_type": "code",
   "execution_count": 44,
   "id": "64f89141",
   "metadata": {},
   "outputs": [
    {
     "data": {
      "text/plain": [
       "array([3, 0, 0, 0, 0, 0, 0, 5, 9], dtype=int8)"
      ]
     },
     "execution_count": 44,
     "metadata": {},
     "output_type": "execute_result"
    }
   ],
   "source": [
    "sudoku[:,3]"
   ]
  },
  {
   "cell_type": "code",
   "execution_count": 46,
   "id": "fc03d316",
   "metadata": {},
   "outputs": [
    {
     "data": {
      "text/plain": [
       "array([[0, 7, 0, 0, 6, 0, 0, 4, 3]], dtype=int8)"
      ]
     },
     "execution_count": 46,
     "metadata": {},
     "output_type": "execute_result"
    }
   ],
   "source": [
    "sudoku[2:3]"
   ]
  },
  {
   "cell_type": "code",
   "execution_count": 47,
   "id": "7088b63e",
   "metadata": {},
   "outputs": [
    {
     "data": {
      "text/plain": [
       "array([[0, 0, 2],\n",
       "       [0, 0, 7],\n",
       "       [0, 8, 3]], dtype=int8)"
      ]
     },
     "execution_count": 47,
     "metadata": {},
     "output_type": "execute_result"
    }
   ],
   "source": [
    "sudoku[3:6,3:6]"
   ]
  },
  {
   "cell_type": "code",
   "execution_count": 48,
   "id": "4832f05a",
   "metadata": {},
   "outputs": [
    {
     "data": {
      "text/plain": [
       "array([[0, 2],\n",
       "       [0, 3]], dtype=int8)"
      ]
     },
     "execution_count": 48,
     "metadata": {},
     "output_type": "execute_result"
    }
   ],
   "source": [
    "sudoku[3:6:2,3:6:2]"
   ]
  },
  {
   "cell_type": "code",
   "execution_count": 50,
   "id": "f4339df6",
   "metadata": {},
   "outputs": [
    {
     "data": {
      "text/plain": [
       "array([[0, 0, 0],\n",
       "       [5, 0, 8],\n",
       "       [9, 1, 0]], dtype=int8)"
      ]
     },
     "execution_count": 50,
     "metadata": {},
     "output_type": "execute_result"
    }
   ],
   "source": [
    "sudoku[6:,3:6]"
   ]
  },
  {
   "cell_type": "code",
   "execution_count": 51,
   "id": "3c95d5ae",
   "metadata": {},
   "outputs": [
    {
     "data": {
      "text/plain": [
       "array([[0, 0],\n",
       "       [9, 0]], dtype=int8)"
      ]
     },
     "execution_count": 51,
     "metadata": {},
     "output_type": "execute_result"
    }
   ],
   "source": [
    "sudoku[6::2,3:6:2]"
   ]
  },
  {
   "cell_type": "code",
   "execution_count": 52,
   "id": "97552ecd",
   "metadata": {},
   "outputs": [
    {
     "data": {
      "text/plain": [
       "array([[1, 0, 5],\n",
       "       [6, 9, 0],\n",
       "       [3, 0, 0]], dtype=int8)"
      ]
     },
     "execution_count": 52,
     "metadata": {},
     "output_type": "execute_result"
    }
   ],
   "source": [
    "sudoku[6:,6:]"
   ]
  },
  {
   "cell_type": "code",
   "execution_count": 54,
   "id": "815c3777",
   "metadata": {},
   "outputs": [
    {
     "data": {
      "text/plain": [
       "array([[1],\n",
       "       [3]], dtype=int8)"
      ]
     },
     "execution_count": 54,
     "metadata": {},
     "output_type": "execute_result"
    }
   ],
   "source": [
    "sudoku[6::2,6::3]"
   ]
  },
  {
   "cell_type": "code",
   "execution_count": 55,
   "id": "ffcaba38",
   "metadata": {},
   "outputs": [
    {
     "data": {
      "text/plain": [
       "array([[0, 0, 0, 0, 0, 2, 3, 4, 9],\n",
       "       [0, 0, 0, 0, 0, 0, 1, 5, 9],\n",
       "       [0, 0, 0, 0, 0, 3, 4, 6, 7],\n",
       "       [0, 0, 0, 0, 0, 2, 6, 7, 8],\n",
       "       [0, 0, 0, 0, 0, 1, 4, 7, 9],\n",
       "       [0, 0, 0, 0, 0, 0, 3, 5, 8],\n",
       "       [0, 0, 0, 0, 0, 0, 1, 5, 6],\n",
       "       [0, 0, 0, 0, 3, 5, 6, 8, 9],\n",
       "       [0, 0, 0, 0, 1, 2, 3, 4, 9]], dtype=int8)"
      ]
     },
     "execution_count": 55,
     "metadata": {},
     "output_type": "execute_result"
    }
   ],
   "source": [
    "np.sort(sudoku)"
   ]
  },
  {
   "cell_type": "code",
   "execution_count": 58,
   "id": "28921e0d",
   "metadata": {},
   "outputs": [
    {
     "data": {
      "text/plain": [
       "array([[[0, 0, 0],\n",
       "        [0, 0, 0],\n",
       "        [0, 0, 0]],\n",
       "\n",
       "       [[0, 0, 0],\n",
       "        [0, 0, 0],\n",
       "        [0, 0, 0]],\n",
       "\n",
       "       [[0, 0, 0],\n",
       "        [0, 0, 0],\n",
       "        [0, 0, 0]],\n",
       "\n",
       "       [[0, 0, 0],\n",
       "        [0, 0, 0],\n",
       "        [0, 0, 0]],\n",
       "\n",
       "       [[0, 0, 2],\n",
       "        [0, 0, 2],\n",
       "        [1, 0, 1]],\n",
       "\n",
       "       [[0, 4, 3],\n",
       "        [0, 0, 3],\n",
       "        [2, 0, 3]],\n",
       "\n",
       "       [[0, 5, 4],\n",
       "        [3, 1, 7],\n",
       "        [3, 4, 5]],\n",
       "\n",
       "       [[1, 7, 5],\n",
       "        [5, 6, 8],\n",
       "        [4, 8, 7]],\n",
       "\n",
       "       [[6, 9, 6],\n",
       "        [9, 8, 9],\n",
       "        [6, 9, 9]]], dtype=int8)"
      ]
     },
     "execution_count": 58,
     "metadata": {},
     "output_type": "execute_result"
    }
   ],
   "source": [
    "np.sort(sudoku, axis=0).reshape(9,3,3)"
   ]
  },
  {
   "cell_type": "code",
   "execution_count": 63,
   "id": "db44b764",
   "metadata": {},
   "outputs": [
    {
     "data": {
      "text/plain": [
       "array([[[[[0, 0, 0],\n",
       "          [0, 0, 0],\n",
       "          [0, 0, 0]]],\n",
       "\n",
       "\n",
       "        [[[0, 0, 0],\n",
       "          [0, 0, 0],\n",
       "          [0, 0, 0]]],\n",
       "\n",
       "\n",
       "        [[[0, 0, 0],\n",
       "          [0, 0, 0],\n",
       "          [0, 0, 0]]]],\n",
       "\n",
       "\n",
       "\n",
       "       [[[[0, 0, 0],\n",
       "          [0, 0, 0],\n",
       "          [0, 0, 0]]],\n",
       "\n",
       "\n",
       "        [[[0, 0, 2],\n",
       "          [0, 0, 2],\n",
       "          [1, 0, 1]]],\n",
       "\n",
       "\n",
       "        [[[0, 4, 3],\n",
       "          [0, 0, 3],\n",
       "          [2, 0, 3]]]],\n",
       "\n",
       "\n",
       "\n",
       "       [[[[0, 5, 4],\n",
       "          [3, 1, 7],\n",
       "          [3, 4, 5]]],\n",
       "\n",
       "\n",
       "        [[[1, 7, 5],\n",
       "          [5, 6, 8],\n",
       "          [4, 8, 7]]],\n",
       "\n",
       "\n",
       "        [[[6, 9, 6],\n",
       "          [9, 8, 9],\n",
       "          [6, 9, 9]]]]], dtype=int8)"
      ]
     },
     "execution_count": 63,
     "metadata": {},
     "output_type": "execute_result"
    }
   ],
   "source": [
    "np.sort(sudoku, axis=0).reshape(3,3,1,3,3)"
   ]
  },
  {
   "cell_type": "code",
   "execution_count": 66,
   "id": "992c541d",
   "metadata": {},
   "outputs": [],
   "source": [
    "link='https://assets.datacamp.com/production/repositories/5980/datasets/bf450eabd30792221412038c18dfb82eed98e752/tree_census.npy'\n",
    "import requests\n",
    "import io\n",
    "\n",
    "response = requests.get(link)\n",
    "response.raise_for_status()\n",
    "tree = np.load(io.BytesIO(response.content))"
   ]
  },
  {
   "cell_type": "code",
   "execution_count": 72,
   "id": "83fad345",
   "metadata": {},
   "outputs": [
    {
     "data": {
      "text/plain": [
       "array([501451, 501451, 501911, 501911, 501911])"
      ]
     },
     "execution_count": 72,
     "metadata": {},
     "output_type": "execute_result"
    }
   ],
   "source": [
    "block_ids = tree[:,1]\n",
    "#first 5\n",
    "block_ids[0:5]"
   ]
  },
  {
   "cell_type": "code",
   "execution_count": 73,
   "id": "993947b1",
   "metadata": {},
   "outputs": [
    {
     "data": {
      "text/plain": [
       "501911"
      ]
     },
     "execution_count": 73,
     "metadata": {},
     "output_type": "execute_result"
    }
   ],
   "source": [
    "#10th block\n",
    "block_ids[9]"
   ]
  },
  {
   "cell_type": "code",
   "execution_count": null,
   "id": "c6a609dd",
   "metadata": {},
   "outputs": [],
   "source": [
    "# Select five block IDs from block_ids starting with the tenth ID\n",
    "block_id_slice = block_ids[9:9+5]\n",
    "print(block_id_slice)"
   ]
  },
  {
   "cell_type": "code",
   "execution_count": 75,
   "id": "f966fa38",
   "metadata": {},
   "outputs": [
    {
     "data": {
      "text/plain": [
       "array([ 2,  4,  6,  8, 10, 12, 14, 16, 18, 20, 22, 24])"
      ]
     },
     "execution_count": 75,
     "metadata": {},
     "output_type": "execute_result"
    }
   ],
   "source": [
    "one25 = np.arange(1,25)\n",
    "mask = one25%2==0\n",
    "one25[mask]"
   ]
  },
  {
   "cell_type": "code",
   "execution_count": 76,
   "id": "e6331856",
   "metadata": {},
   "outputs": [
    {
     "data": {
      "text/plain": [
       "array([[ 1, 22],\n",
       "       [ 2, 21],\n",
       "       [ 3, 27],\n",
       "       [ 4, 26]])"
      ]
     },
     "execution_count": 76,
     "metadata": {},
     "output_type": "execute_result"
    }
   ],
   "source": [
    "class_id_size = np.array([[1,22],[2,21],[3,27],[4,26]])\n",
    "class_id_size"
   ]
  },
  {
   "cell_type": "code",
   "execution_count": 78,
   "id": "b6c14529",
   "metadata": {},
   "outputs": [
    {
     "data": {
      "text/plain": [
       "array([1, 4])"
      ]
     },
     "execution_count": 78,
     "metadata": {},
     "output_type": "execute_result"
    }
   ],
   "source": [
    "class_id_size[:,0][class_id_size[:,1]%2==0]"
   ]
  },
  {
   "cell_type": "code",
   "execution_count": 79,
   "id": "f8cbf820",
   "metadata": {},
   "outputs": [
    {
     "data": {
      "text/plain": [
       "(array([0, 3]),)"
      ]
     },
     "execution_count": 79,
     "metadata": {},
     "output_type": "execute_result"
    }
   ],
   "source": [
    "np.where(class_id_size[:,1]%2==0)"
   ]
  },
  {
   "cell_type": "code",
   "execution_count": 82,
   "id": "7dc7edde",
   "metadata": {},
   "outputs": [
    {
     "data": {
      "text/plain": [
       "(array([0, 0, 0, 0, 0, 1, 1, 1, 1, 1, 1, 2, 2, 2, 2, 2, 3, 3, 3, 3, 3, 4,\n",
       "        4, 4, 4, 4, 5, 5, 5, 5, 5, 5, 6, 6, 6, 6, 6, 6, 7, 7, 7, 7, 8, 8,\n",
       "        8, 8]),\n",
       " array([0, 1, 4, 5, 7, 0, 1, 3, 4, 6, 7, 0, 2, 3, 5, 6, 0, 1, 3, 4, 6, 2,\n",
       "        3, 4, 7, 8, 0, 2, 3, 6, 7, 8, 1, 2, 3, 4, 5, 7, 0, 1, 4, 8, 0, 5,\n",
       "        7, 8]))"
      ]
     },
     "execution_count": 82,
     "metadata": {},
     "output_type": "execute_result"
    }
   ],
   "source": [
    "row_ind, col_ind = np.where(sudoku==0)\n",
    "row_ind, col_ind"
   ]
  },
  {
   "cell_type": "code",
   "execution_count": 84,
   "id": "8ccf08f2",
   "metadata": {},
   "outputs": [
    {
     "data": {
      "text/plain": [
       "array([['x', 'x', '4', '3', 'x', 'x', '2', 'x', '9'],\n",
       "       ['x', 'x', '5', 'x', 'x', '9', 'x', 'x', '1'],\n",
       "       ['x', '7', 'x', 'x', '6', 'x', 'x', '4', '3'],\n",
       "       ['x', 'x', '6', 'x', 'x', '2', 'x', '8', '7'],\n",
       "       ['1', '9', 'x', 'x', 'x', '7', '4', 'x', 'x'],\n",
       "       ['x', '5', 'x', 'x', '8', '3', 'x', 'x', 'x'],\n",
       "       ['6', 'x', 'x', 'x', 'x', 'x', '1', 'x', '5'],\n",
       "       ['x', 'x', '3', '5', 'x', '8', '6', '9', 'x'],\n",
       "       ['x', '4', '2', '9', '1', 'x', '3', 'x', 'x']], dtype='<U4')"
      ]
     },
     "execution_count": 84,
     "metadata": {},
     "output_type": "execute_result"
    }
   ],
   "source": [
    "np.where(sudoku==0,'x',sudoku)"
   ]
  },
  {
   "cell_type": "code",
   "execution_count": 89,
   "id": "f217d0d5",
   "metadata": {},
   "outputs": [
    {
     "data": {
      "text/plain": [
       "array([[    61, 501882,     51,      0]])"
      ]
     },
     "execution_count": 89,
     "metadata": {},
     "output_type": "execute_result"
    }
   ],
   "source": [
    "largest_tree = tree[tree[:,2]==51]\n",
    "largest_tree"
   ]
  },
  {
   "cell_type": "code",
   "execution_count": 94,
   "id": "7e27228c",
   "metadata": {},
   "outputs": [
    {
     "data": {
      "text/plain": [
       "array([501882])"
      ]
     },
     "execution_count": 94,
     "metadata": {},
     "output_type": "execute_result"
    }
   ],
   "source": [
    "largest_block = largest_tree[:,1]\n",
    "largest_block"
   ]
  },
  {
   "cell_type": "code",
   "execution_count": 97,
   "id": "93626cb1",
   "metadata": {},
   "outputs": [
    {
     "data": {
      "text/plain": [
       "array([[    60, 501882,      8,      0],\n",
       "       [    61, 501882,     51,      0],\n",
       "       [    62, 501882,      7,      0],\n",
       "       [    63, 501882,      4,      0],\n",
       "       [    64, 501882,     15,      0],\n",
       "       [    65, 501882,      3,      0],\n",
       "       [    66, 501882,      8,      0],\n",
       "       [    67, 501882,      6,      0],\n",
       "       [    68, 501882,      6,      0],\n",
       "       [    69, 501882,      3,      0]])"
      ]
     },
     "execution_count": 97,
     "metadata": {},
     "output_type": "execute_result"
    }
   ],
   "source": [
    "# Create an array which contains row data on all trees with largest_tree_block_id\n",
    "trees_on_largest_tree_block = tree[tree[:,1]==largest_block]\n",
    "trees_on_largest_tree_block"
   ]
  },
  {
   "cell_type": "code",
   "execution_count": 98,
   "id": "a1576a9e",
   "metadata": {},
   "outputs": [
    {
     "data": {
      "text/plain": [
       "array([[  1115, 313879,      3,      0],\n",
       "       [  1116, 313879,     17,      0]])"
      ]
     },
     "execution_count": 98,
     "metadata": {},
     "output_type": "execute_result"
    }
   ],
   "source": [
    "block_313879 = tree[tree[:,1]==313879]\n",
    "block_313879"
   ]
  },
  {
   "cell_type": "code",
   "execution_count": 99,
   "id": "b9d0c053",
   "metadata": {},
   "outputs": [
    {
     "name": "stdout",
     "output_type": "stream",
     "text": [
      "[[  1115 313879      3      0]\n",
      " [  1116 313879     17      0]]\n"
     ]
    }
   ],
   "source": [
    "# Create an array of row_indices for trees on block 313879\n",
    "row_indices = np.where(tree[:,1]==313879)\n",
    "\n",
    "# Create an array which only contains data for trees on block 313879\n",
    "block_313879 = tree[row_indices]\n",
    "print(block_313879)"
   ]
  },
  {
   "cell_type": "code",
   "execution_count": 101,
   "id": "4384d32e",
   "metadata": {},
   "outputs": [],
   "source": [
    "# Create and print a 1D array of tree and stump diameters\n",
    "trunk_stump_diameters = np.where(tree[:,3]==0,tree[:,2],tree[:,3])"
   ]
  },
  {
   "cell_type": "code",
   "execution_count": 102,
   "id": "aaee0605",
   "metadata": {},
   "outputs": [
    {
     "data": {
      "text/plain": [
       "array([[ 1, 22],\n",
       "       [ 2, 21],\n",
       "       [ 3, 27],\n",
       "       [ 4, 26],\n",
       "       [ 5, 30],\n",
       "       [ 5, 17]])"
      ]
     },
     "execution_count": 102,
     "metadata": {},
     "output_type": "execute_result"
    }
   ],
   "source": [
    "#concatenating rows\n",
    "class_id_size\n",
    "new_class = np.array([[5,30],[5,17]])\n",
    "np.concatenate((class_id_size, new_class))"
   ]
  },
  {
   "cell_type": "code",
   "execution_count": 105,
   "id": "e3a7f8e6",
   "metadata": {},
   "outputs": [],
   "source": [
    "grade_level_teacher = np.array([[1,\"James\"],[1,\"George\"],[3,\"Amy\"],[3,\"Meehir\"]])\n",
    "classroom = np.concatenate((class_id_size, grade_level_teacher), axis=1)"
   ]
  },
  {
   "cell_type": "code",
   "execution_count": 104,
   "id": "a06614e1",
   "metadata": {},
   "outputs": [
    {
     "data": {
      "text/plain": [
       "array([[1],\n",
       "       [2],\n",
       "       [3]])"
      ]
     },
     "execution_count": 104,
     "metadata": {},
     "output_type": "execute_result"
    }
   ],
   "source": [
    "array1d = np.array([1,2,3])\n",
    "col_array2d = array1d.reshape((3,1))\n",
    "col_array2d"
   ]
  },
  {
   "cell_type": "code",
   "execution_count": 106,
   "id": "83b0a153",
   "metadata": {},
   "outputs": [
    {
     "data": {
      "text/plain": [
       "array([['1', '22', '1', 'James'],\n",
       "       ['3', '27', '3', 'Amy'],\n",
       "       ['4', '26', '3', 'Meehir']], dtype='<U21')"
      ]
     },
     "execution_count": 106,
     "metadata": {},
     "output_type": "execute_result"
    }
   ],
   "source": [
    "np.delete(classroom,1,axis=0)"
   ]
  },
  {
   "cell_type": "code",
   "execution_count": 107,
   "id": "258f7abf",
   "metadata": {},
   "outputs": [
    {
     "data": {
      "text/plain": [
       "array([['1', '22', '1'],\n",
       "       ['2', '21', '1'],\n",
       "       ['3', '27', '3'],\n",
       "       ['4', '26', '3']], dtype='<U21')"
      ]
     },
     "execution_count": 107,
     "metadata": {},
     "output_type": "execute_result"
    }
   ],
   "source": [
    "np.delete(classroom,3,axis=1)"
   ]
  },
  {
   "cell_type": "code",
   "execution_count": 109,
   "id": "daf410e7",
   "metadata": {},
   "outputs": [
    {
     "data": {
      "text/plain": [
       "array(['1', '22', 'James', '2', '21', '1', 'George', '3', '27', '3',\n",
       "       'Amy', '4', '26', '3', 'Meehir'], dtype='<U21')"
      ]
     },
     "execution_count": 109,
     "metadata": {},
     "output_type": "execute_result"
    }
   ],
   "source": [
    "np.delete(classroom, 2)"
   ]
  },
  {
   "cell_type": "code",
   "execution_count": null,
   "id": "7fb97f9d",
   "metadata": {},
   "outputs": [],
   "source": [
    "# Delete the stump diameter column from tree_census\n",
    "tree_census_no_stumps = np.delete(tree_census, 3, axis=1)\n",
    "\n",
    "# Save the indices of the trees on block 313879\n",
    "private_block_indices = np.where(tree_census[:,1] == 313879)\n",
    "\n",
    "# Delete the rows for trees on block 313879 from tree_census_no_stumps\n",
    "tree_census_clean = np.delete(tree_census_no_stumps,private_block_indices, axis=0)\n",
    "\n",
    "# Print the shape of tree_census_clean\n",
    "print(tree_census_clean.shape)"
   ]
  },
  {
   "cell_type": "markdown",
   "id": "a41d8027",
   "metadata": {},
   "source": [
    "## SUMMARIZING DATA"
   ]
  },
  {
   "cell_type": "code",
   "execution_count": 112,
   "id": "9141078f",
   "metadata": {},
   "outputs": [],
   "source": [
    "security_breaches = np.array([[0,5,1],\n",
    "                    [0,2,0],\n",
    "                    [1,1,2],\n",
    "                    [2,2,1],\n",
    "                    [0,0,0]])"
   ]
  },
  {
   "cell_type": "code",
   "execution_count": 113,
   "id": "95a74159",
   "metadata": {},
   "outputs": [
    {
     "data": {
      "text/plain": [
       "17"
      ]
     },
     "execution_count": 113,
     "metadata": {},
     "output_type": "execute_result"
    }
   ],
   "source": [
    "security_breaches.sum()"
   ]
  },
  {
   "cell_type": "code",
   "execution_count": 114,
   "id": "951b8162",
   "metadata": {},
   "outputs": [
    {
     "data": {
      "text/plain": [
       "array([6, 2, 4, 5, 0])"
      ]
     },
     "execution_count": 114,
     "metadata": {},
     "output_type": "execute_result"
    }
   ],
   "source": [
    "security_breaches.sum(axis=1)"
   ]
  },
  {
   "cell_type": "code",
   "execution_count": 115,
   "id": "4cdf95f4",
   "metadata": {},
   "outputs": [
    {
     "data": {
      "text/plain": [
       "array([ 3, 10,  4])"
      ]
     },
     "execution_count": 115,
     "metadata": {},
     "output_type": "execute_result"
    }
   ],
   "source": [
    "security_breaches.sum(axis=0)"
   ]
  },
  {
   "cell_type": "code",
   "execution_count": 116,
   "id": "49af4108",
   "metadata": {},
   "outputs": [
    {
     "data": {
      "text/plain": [
       "1.1333333333333333"
      ]
     },
     "execution_count": 116,
     "metadata": {},
     "output_type": "execute_result"
    }
   ],
   "source": [
    "security_breaches.mean()"
   ]
  },
  {
   "cell_type": "code",
   "execution_count": 118,
   "id": "e04af166",
   "metadata": {},
   "outputs": [
    {
     "data": {
      "text/plain": [
       "array([2.  , 0.67, 1.33, 1.67, 0.  ])"
      ]
     },
     "execution_count": 118,
     "metadata": {},
     "output_type": "execute_result"
    }
   ],
   "source": [
    "security_breaches.mean(axis=1).round(2)"
   ]
  },
  {
   "cell_type": "code",
   "execution_count": 119,
   "id": "4549cb5a",
   "metadata": {},
   "outputs": [
    {
     "data": {
      "text/plain": [
       "array([0.6, 2. , 0.8])"
      ]
     },
     "execution_count": 119,
     "metadata": {},
     "output_type": "execute_result"
    }
   ],
   "source": [
    "security_breaches.mean(axis=0).round(2)"
   ]
  },
  {
   "cell_type": "code",
   "execution_count": 120,
   "id": "8b154f0e",
   "metadata": {},
   "outputs": [
    {
     "data": {
      "text/plain": [
       "array([[5],\n",
       "       [2],\n",
       "       [2],\n",
       "       [2],\n",
       "       [0]])"
      ]
     },
     "execution_count": 120,
     "metadata": {},
     "output_type": "execute_result"
    }
   ],
   "source": [
    "security_breaches.max(axis=1, keepdims=True)"
   ]
  },
  {
   "cell_type": "code",
   "execution_count": 122,
   "id": "5d2a6e7c",
   "metadata": {},
   "outputs": [
    {
     "data": {
      "image/png": "[encoded data removed]",
      "text/plain": [
       "<Figure size 432x288 with 1 Axes>"
      ]
     },
     "metadata": {
      "needs_background": "light"
     },
     "output_type": "display_data"
    }
   ],
   "source": [
    "cumsum_by_client = security_breaches.cumsum(axis=0)\n",
    "plt.plot(np.arange(1,6),cumsum_by_client[:,0],label='Client 1')\n",
    "plt.plot(np.arange(1,6),cumsum_by_client[:,1],label='Client 2')\n",
    "plt.plot(np.arange(1,6),cumsum_by_client[:,2],label='Client 3')\n",
    "plt.plot(np.arange(1,6),cumsum_by_client.mean(axis=1), label='Average')\n",
    "plt.legend()\n",
    "plt.show()"
   ]
  },
  {
   "cell_type": "code",
   "execution_count": 124,
   "id": "42da33ad",
   "metadata": {},
   "outputs": [],
   "source": [
    "monthly_sales = np.array([[ 4134, 23925,  8657],\n",
    "       [ 4116, 23875,  9142],\n",
    "       [ 4673, 27197, 10645],\n",
    "       [ 4580, 25637, 10456],\n",
    "       [ 5109, 27995, 11299],\n",
    "       [ 5011, 27419, 10625],\n",
    "       [ 5245, 27305, 10630],\n",
    "       [ 5270, 27760, 11550],\n",
    "       [ 4680, 24988,  9762],\n",
    "       [ 4913, 25802, 10456],\n",
    "       [ 5312, 25405, 13401],\n",
    "       [ 6630, 27797, 18403]])"
   ]
  },
  {
   "cell_type": "code",
   "execution_count": 126,
   "id": "7ad59f3d",
   "metadata": {},
   "outputs": [],
   "source": [
    "monthly_total =monthly_sales.sum(axis=1,keepdims=True)"
   ]
  },
  {
   "cell_type": "code",
   "execution_count": 127,
   "id": "f9776e5b",
   "metadata": {},
   "outputs": [
    {
     "data": {
      "text/plain": [
       "array([[ 4134, 23925,  8657, 36716],\n",
       "       [ 4116, 23875,  9142, 37133],\n",
       "       [ 4673, 27197, 10645, 42515],\n",
       "       [ 4580, 25637, 10456, 40673],\n",
       "       [ 5109, 27995, 11299, 44403],\n",
       "       [ 5011, 27419, 10625, 43055],\n",
       "       [ 5245, 27305, 10630, 43180],\n",
       "       [ 5270, 27760, 11550, 44580],\n",
       "       [ 4680, 24988,  9762, 39430],\n",
       "       [ 4913, 25802, 10456, 41171],\n",
       "       [ 5312, 25405, 13401, 44118],\n",
       "       [ 6630, 27797, 18403, 52830]])"
      ]
     },
     "execution_count": 127,
     "metadata": {},
     "output_type": "execute_result"
    }
   ],
   "source": [
    "#monthly_sales_with_total\n",
    "np.concatenate([monthly_sales, monthly_total], axis=1)"
   ]
  },
  {
   "cell_type": "code",
   "execution_count": null,
   "id": "91e15697",
   "metadata": {},
   "outputs": [],
   "source": [
    "# Vectorize the .upper() string method\n",
    "vectorized_upper = np.vectorize(str.upper)\n",
    "\n",
    "# Apply vectorized_upper to the names array\n",
    "uppercase_names = vectorized_upper(names)\n",
    "print(uppercase_names)"
   ]
  },
  {
   "cell_type": "code",
   "execution_count": 128,
   "id": "698a2b57",
   "metadata": {},
   "outputs": [
    {
     "data": {
      "text/plain": [
       "array([[ 0,  1,  2,  3,  4],\n",
       "       [ 6,  7,  8,  9, 10]])"
      ]
     },
     "execution_count": 128,
     "metadata": {},
     "output_type": "execute_result"
    }
   ],
   "source": [
    "array = np.arange(10).reshape((2,5))\n",
    "array + np.array([0,1]).reshape((2,1))"
   ]
  },
  {
   "cell_type": "markdown",
   "id": "01987678",
   "metadata": {},
   "source": [
    "## ARRAY TRANSFORMATIONS"
   ]
  },
  {
   "cell_type": "code",
   "execution_count": 129,
   "id": "a6b79e8d",
   "metadata": {},
   "outputs": [
    {
     "data": {
      "image/png": "[encoded data removed]",
      "text/plain": [
       "<Figure size 432x288 with 1 Axes>"
      ]
     },
     "metadata": {
      "needs_background": "light"
     },
     "output_type": "display_data"
    }
   ],
   "source": [
    "rgb = np.array([[[255,0,0],[255,0,0],[255,0,0]],\n",
    "               [[0,255,0],[0,255,0],[0,255,0]],\n",
    "               [[0,0,255],[0,0,255],[0,0,255]]])\n",
    "plt.imshow(rgb);"
   ]
  },
  {
   "cell_type": "code",
   "execution_count": 130,
   "id": "16bd06af",
   "metadata": {},
   "outputs": [
    {
     "data": {
      "image/png": "[encoded data removed]",
      "text/plain": [
       "<Figure size 432x288 with 1 Axes>"
      ]
     },
     "metadata": {
      "needs_background": "light"
     },
     "output_type": "display_data"
    }
   ],
   "source": [
    "rgb = np.array([[[255,0,0],[255,255,0],[255,255,255]],\n",
    "               [[255,0,255],[0,255,0],[0,255,255]],\n",
    "               [[0,0,0],[0,255,255],[0,0,255]]])\n",
    "plt.imshow(rgb);"
   ]
  },
  {
   "cell_type": "code",
   "execution_count": null,
   "id": "9df83c6a",
   "metadata": {
    "scrolled": true
   },
   "outputs": [],
   "source": [
    "with open(\"logo.npy\",'rb') as f:\n",
    "    logo_rgb_array = np.load(f)\n",
    "plt.imshow(logo_rgb_array)\n",
    "plt.show()"
   ]
  },
  {
   "cell_type": "code",
   "execution_count": 139,
   "id": "4d9151ac",
   "metadata": {},
   "outputs": [
    {
     "data": {
      "image/png": "[encoded data removed]",
      "text/plain": [
       "<Figure size 432x288 with 1 Axes>"
      ]
     },
     "metadata": {
      "needs_background": "light"
     },
     "output_type": "display_data"
    }
   ],
   "source": [
    "x = '/Users/ecuerbo/Desktop/rgb_array.npy'\n",
    "with open(x,'rb') as f:\n",
    "    monet = np.load(f)\n",
    "plt.imshow(monet)\n",
    "plt.show()"
   ]
  },
  {
   "cell_type": "code",
   "execution_count": null,
   "id": "0f6188a5",
   "metadata": {},
   "outputs": [],
   "source": [
    "#updating rgb data\n",
    "dark_logo_array = np.where(logo_rgb_array== 255,50,logo_rgb_array)\n",
    "plt.imshow(dark_logo_array)\n",
    "plt.show()"
   ]
  },
  {
   "cell_type": "code",
   "execution_count": 158,
   "id": "d1dff50c",
   "metadata": {
    "scrolled": true
   },
   "outputs": [],
   "source": [
    "#saving\n",
    "with open(\"dark_monet.npy\", 'wb') as f:\n",
    "    np.save(f, dark_monet)"
   ]
  },
  {
   "cell_type": "code",
   "execution_count": null,
   "id": "b354e4ba",
   "metadata": {},
   "outputs": [],
   "source": [
    "help(np.unique)"
   ]
  },
  {
   "cell_type": "code",
   "execution_count": 159,
   "id": "e83d962c",
   "metadata": {},
   "outputs": [
    {
     "data": {
      "text/plain": [
       "array([[4.3, 4.2, 4.1],\n",
       "       [3.3, 3.2, 3.1],\n",
       "       [2.3, 2.2, 2.1],\n",
       "       [1.3, 1.2, 1.1]])"
      ]
     },
     "execution_count": 159,
     "metadata": {},
     "output_type": "execute_result"
    }
   ],
   "source": [
    "array = np.array([[1.1,1.2,1.3],\n",
    "                 [2.1,2.2,2.3],\n",
    "                 [3.1,3.2,3.3],\n",
    "                 [4.1,4.2,4.3]])\n",
    "np.flip(array)"
   ]
  },
  {
   "cell_type": "code",
   "execution_count": 160,
   "id": "4b7af4db",
   "metadata": {},
   "outputs": [
    {
     "data": {
      "text/plain": [
       "array([[1.1, 2.1, 3.1, 4.1],\n",
       "       [1.2, 2.2, 3.2, 4.2],\n",
       "       [1.3, 2.3, 3.3, 4.3]])"
      ]
     },
     "execution_count": 160,
     "metadata": {},
     "output_type": "execute_result"
    }
   ],
   "source": [
    "np.transpose(array)"
   ]
  },
  {
   "cell_type": "code",
   "execution_count": 161,
   "id": "f3c0beed",
   "metadata": {},
   "outputs": [
    {
     "data": {
      "text/plain": [
       "array([[1.3, 1.2, 1.1],\n",
       "       [2.3, 2.2, 2.1],\n",
       "       [3.3, 3.2, 3.1],\n",
       "       [4.3, 4.2, 4.1]])"
      ]
     },
     "execution_count": 161,
     "metadata": {},
     "output_type": "execute_result"
    }
   ],
   "source": [
    "np.flip(array, axis=1)"
   ]
  },
  {
   "cell_type": "code",
   "execution_count": 162,
   "id": "15abcde0",
   "metadata": {},
   "outputs": [
    {
     "data": {
      "text/plain": [
       "array([[255, 255, 255],\n",
       "       [255,   0,   0],\n",
       "       [  0,   0,   0]])"
      ]
     },
     "execution_count": 162,
     "metadata": {},
     "output_type": "execute_result"
    }
   ],
   "source": [
    "rgb = np.array([[[255,0,0],[255,255,0],[255,255,255]],\n",
    "               [[255,0,255],[0,255,0],[0,255,255]],\n",
    "               [[0,0,0],[0,255,255],[0,0,255]]])\n",
    "red = rgb[:,:,0]\n",
    "green = rgb[:,:,1]\n",
    "blue = rgb[:,:,2]\n",
    "red"
   ]
  },
  {
   "cell_type": "code",
   "execution_count": 164,
   "id": "c4dc470e",
   "metadata": {},
   "outputs": [
    {
     "data": {
      "text/plain": [
       "array([[[255],\n",
       "        [255],\n",
       "        [255]],\n",
       "\n",
       "       [[255],\n",
       "        [  0],\n",
       "        [  0]],\n",
       "\n",
       "       [[  0],\n",
       "        [  0],\n",
       "        [  0]]])"
      ]
     },
     "execution_count": 164,
     "metadata": {},
     "output_type": "execute_result"
    }
   ],
   "source": [
    "red, green, blue = np.split(rgb, 3, axis=2)\n",
    "red"
   ]
  },
  {
   "cell_type": "code",
   "execution_count": null,
   "id": "cf79d28e",
   "metadata": {},
   "outputs": [],
   "source": [
    "stacked_rgb = np.stack([red, green,blue], axis=2)"
   ]
  },
  {
   "cell_type": "code",
   "execution_count": null,
   "id": "1532ffee",
   "metadata": {},
   "outputs": [],
   "source": [
    "# Split monthly_sales into quarterly data\n",
    "q1_sales, q2_sales, q3_sales, q4_sales = np.split(monthly_sales, 4)\n",
    "\n",
    "# Print q1_sales\n",
    "print(q1_sales)\n",
    "\n",
    "# Stack the four quarterly sales arrays\n",
    "quarterly_sales = np.stack([q1_sales, q2_sales, q3_sales, q4_sales], axis=0)\n",
    "print(quarterly_sales)"
   ]
  },
  {
   "cell_type": "code",
   "execution_count": 165,
   "id": "3a76739b",
   "metadata": {
    "scrolled": false
   },
   "outputs": [
    {
     "ename": "NameError",
     "evalue": "name 'rgb_array' is not defined",
     "output_type": "error",
     "traceback": [
      "\u001b[0;31m---------------------------------------------------------------------------\u001b[0m",
      "\u001b[0;31mNameError\u001b[0m                                 Traceback (most recent call last)",
      "\u001b[0;32m/var/folders/g6/qw3t2lbx7x91r1mfyp6k77k00000gn/T/ipykernel_2950/562903389.py\u001b[0m in \u001b[0;36m<module>\u001b[0;34m\u001b[0m\n\u001b[1;32m      1\u001b[0m \u001b[0;31m# Split rgb_array into red, green, and blue arrays\u001b[0m\u001b[0;34m\u001b[0m\u001b[0;34m\u001b[0m\u001b[0m\n\u001b[0;32m----> 2\u001b[0;31m \u001b[0mred_array\u001b[0m\u001b[0;34m,\u001b[0m \u001b[0mgreen_array\u001b[0m\u001b[0;34m,\u001b[0m \u001b[0mblue_array\u001b[0m \u001b[0;34m=\u001b[0m \u001b[0mnp\u001b[0m\u001b[0;34m.\u001b[0m\u001b[0msplit\u001b[0m\u001b[0;34m(\u001b[0m\u001b[0mrgb_array\u001b[0m\u001b[0;34m,\u001b[0m \u001b[0;36m3\u001b[0m\u001b[0;34m,\u001b[0m \u001b[0maxis\u001b[0m\u001b[0;34m=\u001b[0m\u001b[0;36m2\u001b[0m\u001b[0;34m)\u001b[0m\u001b[0;34m\u001b[0m\u001b[0;34m\u001b[0m\u001b[0m\n\u001b[0m\u001b[1;32m      3\u001b[0m \u001b[0;34m\u001b[0m\u001b[0m\n\u001b[1;32m      4\u001b[0m \u001b[0;31m# Create emphasized_blue_array\u001b[0m\u001b[0;34m\u001b[0m\u001b[0;34m\u001b[0m\u001b[0m\n\u001b[1;32m      5\u001b[0m \u001b[0memphasized_blue_array\u001b[0m \u001b[0;34m=\u001b[0m \u001b[0mnp\u001b[0m\u001b[0;34m.\u001b[0m\u001b[0mwhere\u001b[0m\u001b[0;34m(\u001b[0m\u001b[0mblue_array\u001b[0m \u001b[0;34m>\u001b[0m \u001b[0mblue_array\u001b[0m\u001b[0;34m.\u001b[0m\u001b[0mmean\u001b[0m\u001b[0;34m(\u001b[0m\u001b[0;34m)\u001b[0m\u001b[0;34m,\u001b[0m \u001b[0;36m255\u001b[0m\u001b[0;34m,\u001b[0m \u001b[0mblue_array\u001b[0m\u001b[0;34m)\u001b[0m\u001b[0;34m\u001b[0m\u001b[0;34m\u001b[0m\u001b[0m\n",
      "\u001b[0;31mNameError\u001b[0m: name 'rgb_array' is not defined"
     ]
    }
   ],
   "source": [
    "# Split rgb_array into red, green, and blue arrays\n",
    "red_array, green_array, blue_array = np.split(rgb_array, 3, axis=2)\n",
    "\n",
    "# Create emphasized_blue_array\n",
    "emphasized_blue_array = np.where(blue_array > blue_array.mean(), 255, blue_array)\n",
    "\n",
    "# Print the shape of emphasized_blue_array\n",
    "print(emphasized_blue_array.shape)"
   ]
  },
  {
   "cell_type": "code",
   "execution_count": null,
   "id": "0a66e054",
   "metadata": {},
   "outputs": [],
   "source": [
    "# Split rgb_array into red, green, and blue arrays\n",
    "red_array, green_array, blue_array = np.split(rgb_array, 3, axis=2)\n",
    "\n",
    "# Create emphasized_blue_array\n",
    "emphasized_blue_array = np.where(blue_array > blue_array.mean(), 255, blue_array)\n",
    "\n",
    "# Print the shape of emphasized_blue_array\n",
    "print(emphasized_blue_array.shape)\n",
    "\n",
    "# Remove the trailing dimension from emphasized_blue_array\n",
    "emphasized_blue_array_2D = emphasized_blue_array.reshape((675, 844))"
   ]
  },
  {
   "cell_type": "code",
   "execution_count": null,
   "id": "15af9789",
   "metadata": {},
   "outputs": [],
   "source": [
    "# Print the shapes of blue_array and emphasized_blue_array_2D\n",
    "print(blue_array.shape, emphasized_blue_array_2D.shape)\n",
    "\n",
    "# Reshape red_array and green_array\n",
    "red_array_2D = red_array.reshape((675, 844))\n",
    "green_array_2D = green_array.reshape((675, 844))\n",
    "\n",
    "# Stack red_array_2D, green_array_2D, and emphasized_blue_array_2D\n",
    "emphasized_blue_monet = np.stack([red_array_2D, green_array_2D,emphasized_blue_array_2D], axis=2)\n",
    "plt.imshow(emphasized_blue_monet)\n",
    "plt.show()"
   ]
  },
  {
   "cell_type": "code",
   "execution_count": null,
   "id": "214b1561",
   "metadata": {},
   "outputs": [],
   "source": []
  }
 ],
 "metadata": {
  "kernelspec": {
   "display_name": "Python 3 (ipykernel)",
   "language": "python",
   "name": "python3"
  },
  "language_info": {
   "codemirror_mode": {
    "name": "ipython",
    "version": 3
   },
   "file_extension": ".py",
   "mimetype": "text/x-python",
   "name": "python",
   "nbconvert_exporter": "python",
   "pygments_lexer": "ipython3",
   "version": "3.9.7"
  }
 },
 "nbformat": 4,
 "nbformat_minor": 5
}
