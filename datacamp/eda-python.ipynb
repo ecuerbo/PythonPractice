{
 "cells": [
  {
   "cell_type": "code",
   "execution_count": 4,
   "id": "98cda78d",
   "metadata": {
    "scrolled": true
   },
   "outputs": [
    {
     "data": {
      "text/plain": [
       "pandas.core.frame.DataFrame"
      ]
     },
     "execution_count": 4,
     "metadata": {},
     "output_type": "execute_result"
    }
   ],
   "source": [
    "import numpy as np\n",
    "import pandas as pd\n",
    "loc = '/Users/ecuerbo/python/pyprac/data/nsfg.hdf5'\n",
    "nsfg = pd.read_hdf(loc,'nsfg')\n",
    "type(nsfg)"
   ]
  },
  {
   "cell_type": "code",
   "execution_count": 22,
   "id": "1ddcbcb8",
   "metadata": {},
   "outputs": [
    {
     "name": "stdout",
     "output_type": "stream",
     "text": [
      "<class 'pandas.core.frame.DataFrame'>\n",
      "Int64Index: 9358 entries, 0 to 9357\n",
      "Data columns (total 10 columns):\n",
      " #   Column        Non-Null Count  Dtype  \n",
      "---  ------        --------------  -----  \n",
      " 0   caseid        9358 non-null   int64  \n",
      " 1   outcome       9358 non-null   int64  \n",
      " 2   birthwgt_lb1  6390 non-null   float64\n",
      " 3   birthwgt_oz1  6355 non-null   float64\n",
      " 4   prglngth      9358 non-null   int64  \n",
      " 5   nbrnaliv      6485 non-null   float64\n",
      " 6   agecon        9358 non-null   int64  \n",
      " 7   agepreg       9109 non-null   float64\n",
      " 8   hpagelb       6485 non-null   float64\n",
      " 9   wgt2013_2015  9358 non-null   float64\n",
      "dtypes: float64(6), int64(4)\n",
      "memory usage: 804.2 KB\n"
     ]
    }
   ],
   "source": [
    "nsfg.info()"
   ]
  },
  {
   "cell_type": "code",
   "execution_count": 43,
   "id": "2f47a660",
   "metadata": {},
   "outputs": [
    {
     "data": {
      "text/html": [
       "<div>\n",
       "<style scoped>\n",
       "    .dataframe tbody tr th:only-of-type {\n",
       "        vertical-align: middle;\n",
       "    }\n",
       "\n",
       "    .dataframe tbody tr th {\n",
       "        vertical-align: top;\n",
       "    }\n",
       "\n",
       "    .dataframe thead th {\n",
       "        text-align: right;\n",
       "    }\n",
       "</style>\n",
       "<table border=\"1\" class=\"dataframe\">\n",
       "  <thead>\n",
       "    <tr style=\"text-align: right;\">\n",
       "      <th></th>\n",
       "      <th>caseid</th>\n",
       "      <th>outcome</th>\n",
       "      <th>birthwgt_lb1</th>\n",
       "      <th>birthwgt_oz1</th>\n",
       "      <th>prglngth</th>\n",
       "      <th>nbrnaliv</th>\n",
       "      <th>agecon</th>\n",
       "      <th>agepreg</th>\n",
       "      <th>hpagelb</th>\n",
       "      <th>wgt2013_2015</th>\n",
       "      <th>birth_wt</th>\n",
       "      <th>preg_length</th>\n",
       "    </tr>\n",
       "  </thead>\n",
       "  <tbody>\n",
       "    <tr>\n",
       "      <th>count</th>\n",
       "      <td>9358.000000</td>\n",
       "      <td>9358.000000</td>\n",
       "      <td>6390.000000</td>\n",
       "      <td>6355.000000</td>\n",
       "      <td>9358.000000</td>\n",
       "      <td>6485.000000</td>\n",
       "      <td>9358.000000</td>\n",
       "      <td>9109.000000</td>\n",
       "      <td>6485.000000</td>\n",
       "      <td>9358.000000</td>\n",
       "      <td>6355.000000</td>\n",
       "      <td>9109.000000</td>\n",
       "    </tr>\n",
       "    <tr>\n",
       "      <th>mean</th>\n",
       "      <td>65502.392605</td>\n",
       "      <td>1.773990</td>\n",
       "      <td>6.703286</td>\n",
       "      <td>6.694099</td>\n",
       "      <td>29.896345</td>\n",
       "      <td>1.018042</td>\n",
       "      <td>2446.330199</td>\n",
       "      <td>2494.934570</td>\n",
       "      <td>28.992136</td>\n",
       "      <td>10759.200147</td>\n",
       "      <td>7.120978</td>\n",
       "      <td>55.206938</td>\n",
       "    </tr>\n",
       "    <tr>\n",
       "      <th>std</th>\n",
       "      <td>2953.471315</td>\n",
       "      <td>1.348648</td>\n",
       "      <td>1.429265</td>\n",
       "      <td>4.533847</td>\n",
       "      <td>13.685389</td>\n",
       "      <td>0.160433</td>\n",
       "      <td>579.392363</td>\n",
       "      <td>578.099231</td>\n",
       "      <td>10.367124</td>\n",
       "      <td>11400.179222</td>\n",
       "      <td>1.422236</td>\n",
       "      <td>27.147948</td>\n",
       "    </tr>\n",
       "    <tr>\n",
       "      <th>min</th>\n",
       "      <td>60418.000000</td>\n",
       "      <td>1.000000</td>\n",
       "      <td>0.000000</td>\n",
       "      <td>0.000000</td>\n",
       "      <td>0.000000</td>\n",
       "      <td>1.000000</td>\n",
       "      <td>750.000000</td>\n",
       "      <td>825.000000</td>\n",
       "      <td>5.000000</td>\n",
       "      <td>1859.105000</td>\n",
       "      <td>0.000000</td>\n",
       "      <td>0.000000</td>\n",
       "    </tr>\n",
       "    <tr>\n",
       "      <th>25%</th>\n",
       "      <td>62875.750000</td>\n",
       "      <td>1.000000</td>\n",
       "      <td>6.000000</td>\n",
       "      <td>3.000000</td>\n",
       "      <td>14.000000</td>\n",
       "      <td>1.000000</td>\n",
       "      <td>1983.000000</td>\n",
       "      <td>2041.000000</td>\n",
       "      <td>23.000000</td>\n",
       "      <td>4340.053407</td>\n",
       "      <td>6.375000</td>\n",
       "      <td>25.000000</td>\n",
       "    </tr>\n",
       "    <tr>\n",
       "      <th>50%</th>\n",
       "      <td>65499.000000</td>\n",
       "      <td>1.000000</td>\n",
       "      <td>7.000000</td>\n",
       "      <td>6.000000</td>\n",
       "      <td>38.000000</td>\n",
       "      <td>1.000000</td>\n",
       "      <td>2366.000000</td>\n",
       "      <td>2416.000000</td>\n",
       "      <td>27.000000</td>\n",
       "      <td>7062.994158</td>\n",
       "      <td>7.187500</td>\n",
       "      <td>67.000000</td>\n",
       "    </tr>\n",
       "    <tr>\n",
       "      <th>75%</th>\n",
       "      <td>68111.000000</td>\n",
       "      <td>2.000000</td>\n",
       "      <td>8.000000</td>\n",
       "      <td>11.000000</td>\n",
       "      <td>39.000000</td>\n",
       "      <td>1.000000</td>\n",
       "      <td>2850.000000</td>\n",
       "      <td>2900.000000</td>\n",
       "      <td>33.000000</td>\n",
       "      <td>12629.322982</td>\n",
       "      <td>8.000000</td>\n",
       "      <td>75.000000</td>\n",
       "    </tr>\n",
       "    <tr>\n",
       "      <th>max</th>\n",
       "      <td>70619.000000</td>\n",
       "      <td>6.000000</td>\n",
       "      <td>17.000000</td>\n",
       "      <td>15.000000</td>\n",
       "      <td>48.000000</td>\n",
       "      <td>8.000000</td>\n",
       "      <td>4350.000000</td>\n",
       "      <td>4350.000000</td>\n",
       "      <td>99.000000</td>\n",
       "      <td>75399.410000</td>\n",
       "      <td>17.937500</td>\n",
       "      <td>92.000000</td>\n",
       "    </tr>\n",
       "  </tbody>\n",
       "</table>\n",
       "</div>"
      ],
      "text/plain": [
       "             caseid      outcome  birthwgt_lb1  birthwgt_oz1     prglngth  \\\n",
       "count   9358.000000  9358.000000   6390.000000   6355.000000  9358.000000   \n",
       "mean   65502.392605     1.773990      6.703286      6.694099    29.896345   \n",
       "std     2953.471315     1.348648      1.429265      4.533847    13.685389   \n",
       "min    60418.000000     1.000000      0.000000      0.000000     0.000000   \n",
       "25%    62875.750000     1.000000      6.000000      3.000000    14.000000   \n",
       "50%    65499.000000     1.000000      7.000000      6.000000    38.000000   \n",
       "75%    68111.000000     2.000000      8.000000     11.000000    39.000000   \n",
       "max    70619.000000     6.000000     17.000000     15.000000    48.000000   \n",
       "\n",
       "          nbrnaliv       agecon      agepreg      hpagelb  wgt2013_2015  \\\n",
       "count  6485.000000  9358.000000  9109.000000  6485.000000   9358.000000   \n",
       "mean      1.018042  2446.330199  2494.934570    28.992136  10759.200147   \n",
       "std       0.160433   579.392363   578.099231    10.367124  11400.179222   \n",
       "min       1.000000   750.000000   825.000000     5.000000   1859.105000   \n",
       "25%       1.000000  1983.000000  2041.000000    23.000000   4340.053407   \n",
       "50%       1.000000  2366.000000  2416.000000    27.000000   7062.994158   \n",
       "75%       1.000000  2850.000000  2900.000000    33.000000  12629.322982   \n",
       "max       8.000000  4350.000000  4350.000000    99.000000  75399.410000   \n",
       "\n",
       "          birth_wt  preg_length  \n",
       "count  6355.000000  9109.000000  \n",
       "mean      7.120978    55.206938  \n",
       "std       1.422236    27.147948  \n",
       "min       0.000000     0.000000  \n",
       "25%       6.375000    25.000000  \n",
       "50%       7.187500    67.000000  \n",
       "75%       8.000000    75.000000  \n",
       "max      17.937500    92.000000  "
      ]
     },
     "execution_count": 43,
     "metadata": {},
     "output_type": "execute_result"
    }
   ],
   "source": [
    "nsfg.describe()"
   ]
  },
  {
   "cell_type": "code",
   "execution_count": 23,
   "id": "2c553caa",
   "metadata": {},
   "outputs": [],
   "source": [
    "#replace 98,99 values on the weight as NAN\n",
    "nsfg['birthwgt_lb1'].replace([98,99], np.nan, inplace=True)\n",
    "nsfg['birthwgt_oz1'].replace([98,99], np.nan, inplace=True)\n",
    "nsfg['birth_wt'] = nsfg['birthwgt_lb1'] + nsfg['birthwgt_oz1']/16"
   ]
  },
  {
   "cell_type": "code",
   "execution_count": 33,
   "id": "607b51f1",
   "metadata": {},
   "outputs": [],
   "source": [
    "nsfg['preg_length'] = nsfg.agepreg-nsfg.agecon"
   ]
  },
  {
   "cell_type": "code",
   "execution_count": 16,
   "id": "c25fcbe6",
   "metadata": {},
   "outputs": [
    {
     "data": {
      "text/plain": [
       "1    6489\n",
       "2     947\n",
       "3      86\n",
       "4    1469\n",
       "5     118\n",
       "6     249\n",
       "Name: outcome, dtype: int64"
      ]
     },
     "execution_count": 16,
     "metadata": {},
     "output_type": "execute_result"
    }
   ],
   "source": [
    "nsfg['outcome'].value_counts().sort_index()"
   ]
  },
  {
   "cell_type": "code",
   "execution_count": 32,
   "id": "0c5b6aba",
   "metadata": {},
   "outputs": [
    {
     "data": {
      "image/png": "[encoded data removed]",
      "text/plain": [
       "<Figure size 432x288 with 1 Axes>"
      ]
     },
     "metadata": {
      "needs_background": "light"
     },
     "output_type": "display_data"
    }
   ],
   "source": [
    "import matplotlib.pyplot as plt\n",
    "plt.hist(nsfg.birth_wt.dropna(),bins=30)\n",
    "plt.xlabel('Birth weight (lb)')\n",
    "plt.ylabel('Fraction of Births');"
   ]
  },
  {
   "cell_type": "code",
   "execution_count": 38,
   "id": "38144ba4",
   "metadata": {},
   "outputs": [],
   "source": [
    "preterm = nsfg['prglngth']<37\n",
    "preterm_weight= nsfg['birth_wt'][preterm]\n",
    "fullterm_weight = nsfg['birth_wt'][~preterm]"
   ]
  },
  {
   "cell_type": "code",
   "execution_count": 40,
   "id": "7134e01e",
   "metadata": {},
   "outputs": [
    {
     "name": "stdout",
     "output_type": "stream",
     "text": [
      "5.577598314606742 7.372323879231473\n"
     ]
    }
   ],
   "source": [
    "print(preterm_weight.mean(),fullterm_weight.mean())"
   ]
  },
  {
   "cell_type": "code",
   "execution_count": 41,
   "id": "25473fd5",
   "metadata": {},
   "outputs": [
    {
     "data": {
      "image/png": "[encoded data removed]",
      "text/plain": [
       "<Figure size 432x288 with 1 Axes>"
      ]
     },
     "metadata": {
      "needs_background": "light"
     },
     "output_type": "display_data"
    }
   ],
   "source": [
    "from scipy.stats import norm\n",
    "xs = np.linspace(-3,3)\n",
    "ys = norm(0,1).cdf(xs)\n",
    "plt.plot(xs,ys, color='gray');"
   ]
  },
  {
   "cell_type": "code",
   "execution_count": 42,
   "id": "2d4a479e",
   "metadata": {},
   "outputs": [
    {
     "data": {
      "image/png": "[encoded data removed]",
      "text/plain": [
       "<Figure size 432x288 with 1 Axes>"
      ]
     },
     "metadata": {
      "needs_background": "light"
     },
     "output_type": "display_data"
    }
   ],
   "source": [
    "xs = np.linspace(-3,3)\n",
    "ys = norm(0,1).pdf(xs)\n",
    "plt.plot(xs,ys, color='gray');"
   ]
  },
  {
   "cell_type": "code",
   "execution_count": null,
   "id": "fb7bb0b3",
   "metadata": {},
   "outputs": [],
   "source": [
    "import seaborn as sns\n",
    "sns.kdeplot(sample);"
   ]
  },
  {
   "cell_type": "code",
   "execution_count": 44,
   "id": "d1f16d1d",
   "metadata": {},
   "outputs": [
    {
     "name": "stdout",
     "output_type": "stream",
     "text": [
      "7.120977576711251 1.4222360990399774\n"
     ]
    }
   ],
   "source": [
    "bw = nsfg['birth_wt']\n",
    "\n",
    "mean = bw.mean()\n",
    "std = bw.std()\n",
    "print(mean, std)\n",
    "\n",
    "from scipy.stats import norm\n",
    "dist = norm(mean,std)"
   ]
  },
  {
   "cell_type": "code",
   "execution_count": 48,
   "id": "f081f4fe",
   "metadata": {},
   "outputs": [
    {
     "data": {
      "image/png": "[encoded data removed]",
      "text/plain": [
       "<Figure size 432x288 with 1 Axes>"
      ]
     },
     "metadata": {
      "needs_background": "light"
     },
     "output_type": "display_data"
    }
   ],
   "source": [
    "xs = np.linspace(2,5.5)\n",
    "ys = dist.cdf(xs)\n",
    "plt.clf()\n",
    "plt.plot(xs,ys, color='gray');"
   ]
  },
  {
   "cell_type": "code",
   "execution_count": null,
   "id": "b42bbaa5",
   "metadata": {},
   "outputs": [],
   "source": [
    "plt.plot(height, weight, 'o', markersize=1, alpha=0.02);"
   ]
  },
  {
   "cell_type": "code",
   "execution_count": 64,
   "id": "d96030d2",
   "metadata": {},
   "outputs": [
    {
     "data": {
      "image/png": "[encoded data removed]",
      "text/plain": [
       "<Figure size 432x288 with 1 Axes>"
      ]
     },
     "metadata": {
      "needs_background": "light"
     },
     "output_type": "display_data"
    }
   ],
   "source": [
    "plt.scatter(nsfg['birth_wt'], nsfg['prglngth'], s=1,alpha=0.1)\n",
    "plt.xlabel('Birth weight(lb)')\n",
    "plt.ylabel('Pregnancy length(weeks)');"
   ]
  },
  {
   "cell_type": "code",
   "execution_count": 65,
   "id": "b54d337c",
   "metadata": {},
   "outputs": [
    {
     "data": {
      "image/png": "[encoded data removed]",
      "text/plain": [
       "<Figure size 432x288 with 1 Axes>"
      ]
     },
     "metadata": {
      "needs_background": "light"
     },
     "output_type": "display_data"
    }
   ],
   "source": [
    "bw_jitter = nsfg['birth_wt'] + np.random.normal(0,0.5,size= len(nsfg))\n",
    "prg_jitter = nsfg['prglngth'] + np.random.normal(0,0.5,size= len(nsfg))\n",
    "plt.scatter(bw_jitter, prg_jitter, s=1,alpha=0.051)\n",
    "plt.axis([1,12.5,20,45])\n",
    "plt.xlabel('Birth weight(lb)')\n",
    "plt.ylabel('Pregnancy length(weeks)');"
   ]
  },
  {
   "cell_type": "code",
   "execution_count": null,
   "id": "4d5c04e5",
   "metadata": {},
   "outputs": [],
   "source": [
    "data = brfss.dropna(subset=['AGE','WTKG3'])\n",
    "sns.violinplot(x='AGE', y='WTKG3',data=data,inner=None);"
   ]
  },
  {
   "cell_type": "code",
   "execution_count": null,
   "id": "24478a20",
   "metadata": {},
   "outputs": [],
   "source": [
    "sns.violinplot(x='AGE', y='WTKG3',data=data,whis=10);"
   ]
  },
  {
   "cell_type": "code",
   "execution_count": null,
   "id": "c4db1065",
   "metadata": {},
   "outputs": [],
   "source": [
    "columns = ['HTM4','WTKG3','AGE']\n",
    "subset = brfss[columns]\n",
    "subset.corr()"
   ]
  },
  {
   "cell_type": "code",
   "execution_count": 70,
   "id": "78aebe08",
   "metadata": {},
   "outputs": [
    {
     "data": {
      "text/plain": [
       "array([[1.      , 0.002124],\n",
       "       [0.002124, 1.      ]])"
      ]
     },
     "execution_count": 70,
     "metadata": {},
     "output_type": "execute_result"
    }
   ],
   "source": [
    "xs = np.linspace(-1,1)\n",
    "ys = xs**2\n",
    "ys += np.random.normal(0,0.05,len(xs))\n",
    "np.corrcoef(xs,ys)"
   ]
  },
  {
   "cell_type": "code",
   "execution_count": 74,
   "id": "2dafbdf1",
   "metadata": {},
   "outputs": [
    {
     "data": {
      "image/png": "[encoded data removed]",
      "text/plain": [
       "<Figure size 432x288 with 1 Axes>"
      ]
     },
     "metadata": {
      "needs_background": "light"
     },
     "output_type": "display_data"
    }
   ],
   "source": [
    "plt.plot(xs,ys,'o');"
   ]
  },
  {
   "cell_type": "code",
   "execution_count": null,
   "id": "776ecbc3",
   "metadata": {},
   "outputs": [],
   "source": [
    "from scipy.stats import linregress\n",
    "res = linregress(xs, ys)\n",
    "\n",
    "#regression line\n",
    "fx = np.array([xs.min(), xs.max()])\n",
    "fy = ress.intercept + res.slope* fx\n",
    "plt.plot(fx,fy,'-');"
   ]
  },
  {
   "cell_type": "code",
   "execution_count": null,
   "id": "a5037009",
   "metadata": {},
   "outputs": [],
   "source": [
    "#multiple regression\n",
    "import statsmodels.formula.api as smf\n",
    "results = smf.ols('INCOME2 ~ _VEGESU1',data=brfss).fit()\n",
    "results.params\n",
    "\n",
    "results = smf.ols('realinc ~ educ + age', data=gss).fit()\n",
    "results.params"
   ]
  },
  {
   "cell_type": "code",
   "execution_count": null,
   "id": "87a79a5d",
   "metadata": {},
   "outputs": [],
   "source": [
    "#adding a quadratic term\n",
    "gss['age2'] = gss['age']**2\n",
    "model = smf.ols('realinc ~ educ + age + age2', data=gss)\n",
    "results = model.fit()\n",
    "results.params"
   ]
  },
  {
   "cell_type": "code",
   "execution_count": null,
   "id": "9a2072d8",
   "metadata": {},
   "outputs": [],
   "source": [
    "#generating predictions\n",
    "df = pd.DataFrame()\n",
    "df['age'] =np.linspace(18,85)\n",
    "df['age2'] = df['age']**2\n",
    "df['educ'] = 12\n",
    "df['educ2'] = df['educ']**2\n",
    "pred12 = results.predict(df)"
   ]
  },
  {
   "cell_type": "code",
   "execution_count": null,
   "id": "5e281f27",
   "metadata": {},
   "outputs": [],
   "source": [
    "#plot predictions\n",
    "plt.plot(df['age'], pred12,label='High School')\n",
    "plt.plot(mean_income_by_age,'o',alpha=0.5)\n",
    "plt.xlabel('Age (years)')\n",
    "plt.ylabel('Income (1986 $)')\n",
    "plt.legend();"
   ]
  },
  {
   "cell_type": "code",
   "execution_count": null,
   "id": "f6152e4f",
   "metadata": {},
   "outputs": [],
   "source": [
    "#sex and income\n",
    "formula = 'realinc ~ educ + educ2 + age + age2 + C(sex)'\n",
    "results = smf.ols(formula, data=gss).fit()\n",
    "results.params"
   ]
  },
  {
   "cell_type": "code",
   "execution_count": null,
   "id": "19c0fc1e",
   "metadata": {},
   "outputs": [],
   "source": [
    "#boolean variable\n",
    "gss['gunlaw'].value_counts()\n",
    "gss['gunlaw'].replace([2],[0], inplace=True)\n",
    "\n",
    "formula = 'gunlaw ~ educ + educ2 + age + age2 + C(sex)'\n",
    "results = smf.logit(formula, data=gss).fit()\n",
    "results.params\n",
    "\n",
    "df = pd.DataFrame()\n",
    "df['age'] =np.linspace(18,89)\n",
    "df['age2'] = df['age']**2\n",
    "df['educ'] = 12\n",
    "df['educ2'] = df['educ']**2\n",
    "df['sex'] = 1\n",
    "pred1 = results.predict(df)\n",
    "df['sex'] = 2\n",
    "pred2 = results.predict(df)\n",
    "\n",
    "grouped = gss.groupby('age')\n",
    "favor_by_age = grouped['gunlaw'].mean()\n",
    "plt.plot(favor_by_age,'o',alpha=0.5)\n",
    "plt.plot(df['age'], pred1,label='Male')\n",
    "plt.plot(df['age'], pred2,label='Female')\n",
    "plt.xlabel('Age')\n",
    "plt.ylabel('Probability of favoring gun law')\n",
    "plt.legend()"
   ]
  },
  {
   "cell_type": "code",
   "execution_count": null,
   "id": "ad83b1d4",
   "metadata": {},
   "outputs": [],
   "source": [
    "#Pmf, Cdf from empiricaldist library"
   ]
  }
 ],
 "metadata": {
  "kernelspec": {
   "display_name": "Python 3 (ipykernel)",
   "language": "python",
   "name": "python3"
  },
  "language_info": {
   "codemirror_mode": {
    "name": "ipython",
    "version": 3
   },
   "file_extension": ".py",
   "mimetype": "text/x-python",
   "name": "python",
   "nbconvert_exporter": "python",
   "pygments_lexer": "ipython3",
   "version": "3.9.7"
  }
 },
 "nbformat": 4,
 "nbformat_minor": 5
}
