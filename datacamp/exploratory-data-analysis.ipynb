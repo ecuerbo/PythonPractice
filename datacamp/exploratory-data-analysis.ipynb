{
 "cells": [
  {
   "cell_type": "code",
   "execution_count": 1,
   "id": "71bf8bf0",
   "metadata": {},
   "outputs": [],
   "source": [
    "import pandas as pd\n",
    "book_link = 'https://assets.datacamp.com/production/repositories/6180/datasets/ee9b2c7ee13a5e65f311ea8ddf5f60ba87c7c89f/clean_books.csv'\n",
    "books = pd.read_csv(book_link)"
   ]
  },
  {
   "cell_type": "code",
   "execution_count": 2,
   "id": "93521dbc",
   "metadata": {},
   "outputs": [
    {
     "name": "stdout",
     "output_type": "stream",
     "text": [
      "<class 'pandas.core.frame.DataFrame'>\n",
      "RangeIndex: 350 entries, 0 to 349\n",
      "Data columns (total 5 columns):\n",
      " #   Column  Non-Null Count  Dtype  \n",
      "---  ------  --------------  -----  \n",
      " 0   name    350 non-null    object \n",
      " 1   author  350 non-null    object \n",
      " 2   rating  350 non-null    float64\n",
      " 3   year    350 non-null    int64  \n",
      " 4   genre   350 non-null    object \n",
      "dtypes: float64(1), int64(1), object(3)\n",
      "memory usage: 13.8+ KB\n"
     ]
    }
   ],
   "source": [
    "books.info()"
   ]
  },
  {
   "cell_type": "code",
   "execution_count": 3,
   "id": "2ad29d87",
   "metadata": {},
   "outputs": [
    {
     "data": {
      "text/plain": [
       "genre\n",
       "Non Fiction    179\n",
       "Fiction        131\n",
       "Childrens       40\n",
       "dtype: int64"
      ]
     },
     "execution_count": 3,
     "metadata": {},
     "output_type": "execute_result"
    }
   ],
   "source": [
    "books.value_counts(\"genre\")"
   ]
  },
  {
   "cell_type": "code",
   "execution_count": 4,
   "id": "69eb3b7c",
   "metadata": {},
   "outputs": [
    {
     "data": {
      "text/html": [
       "<div>\n",
       "<style scoped>\n",
       "    .dataframe tbody tr th:only-of-type {\n",
       "        vertical-align: middle;\n",
       "    }\n",
       "\n",
       "    .dataframe tbody tr th {\n",
       "        vertical-align: top;\n",
       "    }\n",
       "\n",
       "    .dataframe thead th {\n",
       "        text-align: right;\n",
       "    }\n",
       "</style>\n",
       "<table border=\"1\" class=\"dataframe\">\n",
       "  <thead>\n",
       "    <tr style=\"text-align: right;\">\n",
       "      <th></th>\n",
       "      <th>rating</th>\n",
       "      <th>year</th>\n",
       "    </tr>\n",
       "  </thead>\n",
       "  <tbody>\n",
       "    <tr>\n",
       "      <th>count</th>\n",
       "      <td>350.000000</td>\n",
       "      <td>350.000000</td>\n",
       "    </tr>\n",
       "    <tr>\n",
       "      <th>mean</th>\n",
       "      <td>4.608571</td>\n",
       "      <td>2013.508571</td>\n",
       "    </tr>\n",
       "    <tr>\n",
       "      <th>std</th>\n",
       "      <td>0.226941</td>\n",
       "      <td>3.284711</td>\n",
       "    </tr>\n",
       "    <tr>\n",
       "      <th>min</th>\n",
       "      <td>3.300000</td>\n",
       "      <td>2009.000000</td>\n",
       "    </tr>\n",
       "    <tr>\n",
       "      <th>25%</th>\n",
       "      <td>4.500000</td>\n",
       "      <td>2010.000000</td>\n",
       "    </tr>\n",
       "    <tr>\n",
       "      <th>50%</th>\n",
       "      <td>4.600000</td>\n",
       "      <td>2013.000000</td>\n",
       "    </tr>\n",
       "    <tr>\n",
       "      <th>75%</th>\n",
       "      <td>4.800000</td>\n",
       "      <td>2016.000000</td>\n",
       "    </tr>\n",
       "    <tr>\n",
       "      <th>max</th>\n",
       "      <td>4.900000</td>\n",
       "      <td>2019.000000</td>\n",
       "    </tr>\n",
       "  </tbody>\n",
       "</table>\n",
       "</div>"
      ],
      "text/plain": [
       "           rating         year\n",
       "count  350.000000   350.000000\n",
       "mean     4.608571  2013.508571\n",
       "std      0.226941     3.284711\n",
       "min      3.300000  2009.000000\n",
       "25%      4.500000  2010.000000\n",
       "50%      4.600000  2013.000000\n",
       "75%      4.800000  2016.000000\n",
       "max      4.900000  2019.000000"
      ]
     },
     "execution_count": 4,
     "metadata": {},
     "output_type": "execute_result"
    }
   ],
   "source": [
    "books.describe()"
   ]
  },
  {
   "cell_type": "code",
   "execution_count": 6,
   "id": "ae68655d",
   "metadata": {},
   "outputs": [
    {
     "data": {
      "image/png": "[encoded data removed]",
      "text/plain": [
       "<Figure size 432x288 with 1 Axes>"
      ]
     },
     "metadata": {
      "needs_background": "light"
     },
     "output_type": "display_data"
    }
   ],
   "source": [
    "import seaborn as sns\n",
    "import matplotlib.pyplot as plt\n",
    "sns.histplot(data=books, x=\"rating\", binwidth=0.1);"
   ]
  },
  {
   "cell_type": "code",
   "execution_count": 7,
   "id": "e9a3c6c3",
   "metadata": {},
   "outputs": [],
   "source": [
    "unemp = 'https://assets.datacamp.com/production/repositories/6180/datasets/a7e05e14dfd1aa575314dd9a0d8df74a14341c4e/clean_unemployment.csv'\n",
    "unemployment = pd.read_csv(unemp)"
   ]
  },
  {
   "cell_type": "code",
   "execution_count": 8,
   "id": "cf190b8c",
   "metadata": {},
   "outputs": [
    {
     "data": {
      "text/html": [
       "<div>\n",
       "<style scoped>\n",
       "    .dataframe tbody tr th:only-of-type {\n",
       "        vertical-align: middle;\n",
       "    }\n",
       "\n",
       "    .dataframe tbody tr th {\n",
       "        vertical-align: top;\n",
       "    }\n",
       "\n",
       "    .dataframe thead th {\n",
       "        text-align: right;\n",
       "    }\n",
       "</style>\n",
       "<table border=\"1\" class=\"dataframe\">\n",
       "  <thead>\n",
       "    <tr style=\"text-align: right;\">\n",
       "      <th></th>\n",
       "      <th>country_code</th>\n",
       "      <th>country_name</th>\n",
       "      <th>continent</th>\n",
       "      <th>2010</th>\n",
       "      <th>2011</th>\n",
       "      <th>2012</th>\n",
       "      <th>2013</th>\n",
       "      <th>2014</th>\n",
       "      <th>2015</th>\n",
       "      <th>2016</th>\n",
       "      <th>2017</th>\n",
       "      <th>2018</th>\n",
       "      <th>2019</th>\n",
       "      <th>2020</th>\n",
       "      <th>2021</th>\n",
       "    </tr>\n",
       "  </thead>\n",
       "  <tbody>\n",
       "    <tr>\n",
       "      <th>0</th>\n",
       "      <td>AFG</td>\n",
       "      <td>Afghanistan</td>\n",
       "      <td>Asia</td>\n",
       "      <td>11.35</td>\n",
       "      <td>11.05</td>\n",
       "      <td>11.34</td>\n",
       "      <td>11.19</td>\n",
       "      <td>11.14</td>\n",
       "      <td>11.13</td>\n",
       "      <td>11.16</td>\n",
       "      <td>11.18</td>\n",
       "      <td>11.15</td>\n",
       "      <td>11.22</td>\n",
       "      <td>11.71</td>\n",
       "      <td>13.28</td>\n",
       "    </tr>\n",
       "    <tr>\n",
       "      <th>1</th>\n",
       "      <td>AGO</td>\n",
       "      <td>Angola</td>\n",
       "      <td>Africa</td>\n",
       "      <td>9.43</td>\n",
       "      <td>7.36</td>\n",
       "      <td>7.35</td>\n",
       "      <td>7.37</td>\n",
       "      <td>7.37</td>\n",
       "      <td>7.39</td>\n",
       "      <td>7.41</td>\n",
       "      <td>7.41</td>\n",
       "      <td>7.42</td>\n",
       "      <td>7.42</td>\n",
       "      <td>8.33</td>\n",
       "      <td>8.53</td>\n",
       "    </tr>\n",
       "    <tr>\n",
       "      <th>2</th>\n",
       "      <td>ALB</td>\n",
       "      <td>Albania</td>\n",
       "      <td>Europe</td>\n",
       "      <td>14.09</td>\n",
       "      <td>13.48</td>\n",
       "      <td>13.38</td>\n",
       "      <td>15.87</td>\n",
       "      <td>18.05</td>\n",
       "      <td>17.19</td>\n",
       "      <td>15.42</td>\n",
       "      <td>13.62</td>\n",
       "      <td>12.30</td>\n",
       "      <td>11.47</td>\n",
       "      <td>13.33</td>\n",
       "      <td>11.82</td>\n",
       "    </tr>\n",
       "    <tr>\n",
       "      <th>3</th>\n",
       "      <td>ARE</td>\n",
       "      <td>United Arab Emirates</td>\n",
       "      <td>Asia</td>\n",
       "      <td>2.48</td>\n",
       "      <td>2.30</td>\n",
       "      <td>2.18</td>\n",
       "      <td>2.04</td>\n",
       "      <td>1.91</td>\n",
       "      <td>1.77</td>\n",
       "      <td>1.64</td>\n",
       "      <td>2.46</td>\n",
       "      <td>2.35</td>\n",
       "      <td>2.23</td>\n",
       "      <td>3.19</td>\n",
       "      <td>3.36</td>\n",
       "    </tr>\n",
       "    <tr>\n",
       "      <th>4</th>\n",
       "      <td>ARG</td>\n",
       "      <td>Argentina</td>\n",
       "      <td>South America</td>\n",
       "      <td>7.71</td>\n",
       "      <td>7.18</td>\n",
       "      <td>7.22</td>\n",
       "      <td>7.10</td>\n",
       "      <td>7.27</td>\n",
       "      <td>7.52</td>\n",
       "      <td>8.11</td>\n",
       "      <td>8.35</td>\n",
       "      <td>9.22</td>\n",
       "      <td>9.84</td>\n",
       "      <td>11.46</td>\n",
       "      <td>10.90</td>\n",
       "    </tr>\n",
       "  </tbody>\n",
       "</table>\n",
       "</div>"
      ],
      "text/plain": [
       "  country_code          country_name      continent   2010   2011   2012  \\\n",
       "0          AFG           Afghanistan           Asia  11.35  11.05  11.34   \n",
       "1          AGO                Angola         Africa   9.43   7.36   7.35   \n",
       "2          ALB               Albania         Europe  14.09  13.48  13.38   \n",
       "3          ARE  United Arab Emirates           Asia   2.48   2.30   2.18   \n",
       "4          ARG             Argentina  South America   7.71   7.18   7.22   \n",
       "\n",
       "    2013   2014   2015   2016   2017   2018   2019   2020   2021  \n",
       "0  11.19  11.14  11.13  11.16  11.18  11.15  11.22  11.71  13.28  \n",
       "1   7.37   7.37   7.39   7.41   7.41   7.42   7.42   8.33   8.53  \n",
       "2  15.87  18.05  17.19  15.42  13.62  12.30  11.47  13.33  11.82  \n",
       "3   2.04   1.91   1.77   1.64   2.46   2.35   2.23   3.19   3.36  \n",
       "4   7.10   7.27   7.52   8.11   8.35   9.22   9.84  11.46  10.90  "
      ]
     },
     "execution_count": 8,
     "metadata": {},
     "output_type": "execute_result"
    }
   ],
   "source": [
    "unemployment.head()"
   ]
  },
  {
   "cell_type": "code",
   "execution_count": 9,
   "id": "7b957c83",
   "metadata": {},
   "outputs": [
    {
     "name": "stdout",
     "output_type": "stream",
     "text": [
      "<class 'pandas.core.frame.DataFrame'>\n",
      "RangeIndex: 182 entries, 0 to 181\n",
      "Data columns (total 15 columns):\n",
      " #   Column        Non-Null Count  Dtype  \n",
      "---  ------        --------------  -----  \n",
      " 0   country_code  182 non-null    object \n",
      " 1   country_name  182 non-null    object \n",
      " 2   continent     177 non-null    object \n",
      " 3   2010          182 non-null    float64\n",
      " 4   2011          182 non-null    float64\n",
      " 5   2012          182 non-null    float64\n",
      " 6   2013          182 non-null    float64\n",
      " 7   2014          182 non-null    float64\n",
      " 8   2015          182 non-null    float64\n",
      " 9   2016          182 non-null    float64\n",
      " 10  2017          182 non-null    float64\n",
      " 11  2018          182 non-null    float64\n",
      " 12  2019          182 non-null    float64\n",
      " 13  2020          182 non-null    float64\n",
      " 14  2021          182 non-null    float64\n",
      "dtypes: float64(12), object(3)\n",
      "memory usage: 21.5+ KB\n"
     ]
    }
   ],
   "source": [
    "unemployment.info()"
   ]
  },
  {
   "cell_type": "code",
   "execution_count": 10,
   "id": "33fe729b",
   "metadata": {},
   "outputs": [
    {
     "data": {
      "text/html": [
       "<div>\n",
       "<style scoped>\n",
       "    .dataframe tbody tr th:only-of-type {\n",
       "        vertical-align: middle;\n",
       "    }\n",
       "\n",
       "    .dataframe tbody tr th {\n",
       "        vertical-align: top;\n",
       "    }\n",
       "\n",
       "    .dataframe thead th {\n",
       "        text-align: right;\n",
       "    }\n",
       "</style>\n",
       "<table border=\"1\" class=\"dataframe\">\n",
       "  <thead>\n",
       "    <tr style=\"text-align: right;\">\n",
       "      <th></th>\n",
       "      <th>2010</th>\n",
       "      <th>2011</th>\n",
       "      <th>2012</th>\n",
       "      <th>2013</th>\n",
       "      <th>2014</th>\n",
       "      <th>2015</th>\n",
       "      <th>2016</th>\n",
       "      <th>2017</th>\n",
       "      <th>2018</th>\n",
       "      <th>2019</th>\n",
       "      <th>2020</th>\n",
       "      <th>2021</th>\n",
       "    </tr>\n",
       "  </thead>\n",
       "  <tbody>\n",
       "    <tr>\n",
       "      <th>count</th>\n",
       "      <td>182.000000</td>\n",
       "      <td>182.000000</td>\n",
       "      <td>182.000000</td>\n",
       "      <td>182.000000</td>\n",
       "      <td>182.000000</td>\n",
       "      <td>182.000000</td>\n",
       "      <td>182.000000</td>\n",
       "      <td>182.000000</td>\n",
       "      <td>182.000000</td>\n",
       "      <td>182.000000</td>\n",
       "      <td>182.000000</td>\n",
       "      <td>182.000000</td>\n",
       "    </tr>\n",
       "    <tr>\n",
       "      <th>mean</th>\n",
       "      <td>8.409286</td>\n",
       "      <td>8.315440</td>\n",
       "      <td>8.317967</td>\n",
       "      <td>8.344780</td>\n",
       "      <td>8.179670</td>\n",
       "      <td>8.058901</td>\n",
       "      <td>7.925879</td>\n",
       "      <td>7.668626</td>\n",
       "      <td>7.426429</td>\n",
       "      <td>7.243736</td>\n",
       "      <td>8.420934</td>\n",
       "      <td>8.390879</td>\n",
       "    </tr>\n",
       "    <tr>\n",
       "      <th>std</th>\n",
       "      <td>6.248887</td>\n",
       "      <td>6.266795</td>\n",
       "      <td>6.367270</td>\n",
       "      <td>6.416041</td>\n",
       "      <td>6.284241</td>\n",
       "      <td>6.161170</td>\n",
       "      <td>6.045439</td>\n",
       "      <td>5.902152</td>\n",
       "      <td>5.818915</td>\n",
       "      <td>5.696573</td>\n",
       "      <td>6.040915</td>\n",
       "      <td>6.067192</td>\n",
       "    </tr>\n",
       "    <tr>\n",
       "      <th>min</th>\n",
       "      <td>0.450000</td>\n",
       "      <td>0.320000</td>\n",
       "      <td>0.480000</td>\n",
       "      <td>0.250000</td>\n",
       "      <td>0.200000</td>\n",
       "      <td>0.170000</td>\n",
       "      <td>0.150000</td>\n",
       "      <td>0.140000</td>\n",
       "      <td>0.110000</td>\n",
       "      <td>0.100000</td>\n",
       "      <td>0.210000</td>\n",
       "      <td>0.260000</td>\n",
       "    </tr>\n",
       "    <tr>\n",
       "      <th>25%</th>\n",
       "      <td>4.015000</td>\n",
       "      <td>3.775000</td>\n",
       "      <td>3.742500</td>\n",
       "      <td>3.692500</td>\n",
       "      <td>3.625000</td>\n",
       "      <td>3.662500</td>\n",
       "      <td>3.800000</td>\n",
       "      <td>3.690000</td>\n",
       "      <td>3.625000</td>\n",
       "      <td>3.487500</td>\n",
       "      <td>4.285000</td>\n",
       "      <td>4.335000</td>\n",
       "    </tr>\n",
       "    <tr>\n",
       "      <th>50%</th>\n",
       "      <td>6.965000</td>\n",
       "      <td>6.805000</td>\n",
       "      <td>6.690000</td>\n",
       "      <td>6.395000</td>\n",
       "      <td>6.450000</td>\n",
       "      <td>6.170000</td>\n",
       "      <td>5.925000</td>\n",
       "      <td>5.650000</td>\n",
       "      <td>5.375000</td>\n",
       "      <td>5.240000</td>\n",
       "      <td>6.695000</td>\n",
       "      <td>6.425000</td>\n",
       "    </tr>\n",
       "    <tr>\n",
       "      <th>75%</th>\n",
       "      <td>10.957500</td>\n",
       "      <td>11.045000</td>\n",
       "      <td>11.285000</td>\n",
       "      <td>11.310000</td>\n",
       "      <td>10.695000</td>\n",
       "      <td>10.215000</td>\n",
       "      <td>10.245000</td>\n",
       "      <td>10.315000</td>\n",
       "      <td>9.257500</td>\n",
       "      <td>9.445000</td>\n",
       "      <td>11.155000</td>\n",
       "      <td>10.840000</td>\n",
       "    </tr>\n",
       "    <tr>\n",
       "      <th>max</th>\n",
       "      <td>32.020000</td>\n",
       "      <td>31.380000</td>\n",
       "      <td>31.020000</td>\n",
       "      <td>29.000000</td>\n",
       "      <td>28.030000</td>\n",
       "      <td>27.690000</td>\n",
       "      <td>26.540000</td>\n",
       "      <td>27.040000</td>\n",
       "      <td>26.910000</td>\n",
       "      <td>28.470000</td>\n",
       "      <td>29.220000</td>\n",
       "      <td>33.560000</td>\n",
       "    </tr>\n",
       "  </tbody>\n",
       "</table>\n",
       "</div>"
      ],
      "text/plain": [
       "             2010        2011        2012        2013        2014        2015  \\\n",
       "count  182.000000  182.000000  182.000000  182.000000  182.000000  182.000000   \n",
       "mean     8.409286    8.315440    8.317967    8.344780    8.179670    8.058901   \n",
       "std      6.248887    6.266795    6.367270    6.416041    6.284241    6.161170   \n",
       "min      0.450000    0.320000    0.480000    0.250000    0.200000    0.170000   \n",
       "25%      4.015000    3.775000    3.742500    3.692500    3.625000    3.662500   \n",
       "50%      6.965000    6.805000    6.690000    6.395000    6.450000    6.170000   \n",
       "75%     10.957500   11.045000   11.285000   11.310000   10.695000   10.215000   \n",
       "max     32.020000   31.380000   31.020000   29.000000   28.030000   27.690000   \n",
       "\n",
       "             2016        2017        2018        2019        2020        2021  \n",
       "count  182.000000  182.000000  182.000000  182.000000  182.000000  182.000000  \n",
       "mean     7.925879    7.668626    7.426429    7.243736    8.420934    8.390879  \n",
       "std      6.045439    5.902152    5.818915    5.696573    6.040915    6.067192  \n",
       "min      0.150000    0.140000    0.110000    0.100000    0.210000    0.260000  \n",
       "25%      3.800000    3.690000    3.625000    3.487500    4.285000    4.335000  \n",
       "50%      5.925000    5.650000    5.375000    5.240000    6.695000    6.425000  \n",
       "75%     10.245000   10.315000    9.257500    9.445000   11.155000   10.840000  \n",
       "max     26.540000   27.040000   26.910000   28.470000   29.220000   33.560000  "
      ]
     },
     "execution_count": 10,
     "metadata": {},
     "output_type": "execute_result"
    }
   ],
   "source": [
    "unemployment.describe()"
   ]
  },
  {
   "cell_type": "code",
   "execution_count": 11,
   "id": "1a24f53d",
   "metadata": {},
   "outputs": [
    {
     "data": {
      "text/plain": [
       "continent\n",
       "Africa           53\n",
       "Asia             47\n",
       "Europe           39\n",
       "North America    18\n",
       "South America    12\n",
       "Oceania           8\n",
       "dtype: int64"
      ]
     },
     "execution_count": 11,
     "metadata": {},
     "output_type": "execute_result"
    }
   ],
   "source": [
    "unemployment.value_counts(\"continent\")"
   ]
  },
  {
   "cell_type": "code",
   "execution_count": 12,
   "id": "31c2572d",
   "metadata": {},
   "outputs": [
    {
     "data": {
      "image/png": "[encoded data removed]",
      "text/plain": [
       "<Figure size 432x288 with 1 Axes>"
      ]
     },
     "metadata": {
      "needs_background": "light"
     },
     "output_type": "display_data"
    }
   ],
   "source": [
    "# Create a histogram of 2021 unemployment; show a full percent in each bin\n",
    "sns.histplot(data=unemployment, x=\"2021\", binwidth=1);"
   ]
  },
  {
   "cell_type": "code",
   "execution_count": 13,
   "id": "5fe660ef",
   "metadata": {},
   "outputs": [
    {
     "data": {
      "text/plain": [
       "name       object\n",
       "author     object\n",
       "rating    float64\n",
       "year        int64\n",
       "genre      object\n",
       "dtype: object"
      ]
     },
     "execution_count": 13,
     "metadata": {},
     "output_type": "execute_result"
    }
   ],
   "source": [
    "books.dtypes"
   ]
  },
  {
   "cell_type": "code",
   "execution_count": 14,
   "id": "a9260889",
   "metadata": {},
   "outputs": [
    {
     "data": {
      "text/plain": [
       "0       True\n",
       "1       True\n",
       "2       True\n",
       "3       True\n",
       "4      False\n",
       "       ...  \n",
       "345     True\n",
       "346     True\n",
       "347     True\n",
       "348     True\n",
       "349    False\n",
       "Name: genre, Length: 350, dtype: bool"
      ]
     },
     "execution_count": 14,
     "metadata": {},
     "output_type": "execute_result"
    }
   ],
   "source": [
    "#validating categorical data\n",
    "books[\"genre\"].isin([\"Fiction\",\"Non Fiction\"])"
   ]
  },
  {
   "cell_type": "code",
   "execution_count": 15,
   "id": "0f91cefa",
   "metadata": {},
   "outputs": [
    {
     "data": {
      "text/plain": [
       "0      False\n",
       "1      False\n",
       "2      False\n",
       "3      False\n",
       "4       True\n",
       "       ...  \n",
       "345    False\n",
       "346    False\n",
       "347    False\n",
       "348    False\n",
       "349     True\n",
       "Name: genre, Length: 350, dtype: bool"
      ]
     },
     "execution_count": 15,
     "metadata": {},
     "output_type": "execute_result"
    }
   ],
   "source": [
    "#invert true values\n",
    "~books[\"genre\"].isin([\"Fiction\",\"Non Fiction\"])"
   ]
  },
  {
   "cell_type": "code",
   "execution_count": 16,
   "id": "02f3d48d",
   "metadata": {},
   "outputs": [
    {
     "data": {
      "text/html": [
       "<div>\n",
       "<style scoped>\n",
       "    .dataframe tbody tr th:only-of-type {\n",
       "        vertical-align: middle;\n",
       "    }\n",
       "\n",
       "    .dataframe tbody tr th {\n",
       "        vertical-align: top;\n",
       "    }\n",
       "\n",
       "    .dataframe thead th {\n",
       "        text-align: right;\n",
       "    }\n",
       "</style>\n",
       "<table border=\"1\" class=\"dataframe\">\n",
       "  <thead>\n",
       "    <tr style=\"text-align: right;\">\n",
       "      <th></th>\n",
       "      <th>name</th>\n",
       "      <th>author</th>\n",
       "      <th>rating</th>\n",
       "      <th>year</th>\n",
       "      <th>genre</th>\n",
       "    </tr>\n",
       "  </thead>\n",
       "  <tbody>\n",
       "    <tr>\n",
       "      <th>0</th>\n",
       "      <td>10-Day Green Smoothie Cleanse</td>\n",
       "      <td>JJ Smith</td>\n",
       "      <td>4.7</td>\n",
       "      <td>2016</td>\n",
       "      <td>Non Fiction</td>\n",
       "    </tr>\n",
       "    <tr>\n",
       "      <th>1</th>\n",
       "      <td>11/22/63: A Novel</td>\n",
       "      <td>Stephen King</td>\n",
       "      <td>4.6</td>\n",
       "      <td>2011</td>\n",
       "      <td>Fiction</td>\n",
       "    </tr>\n",
       "    <tr>\n",
       "      <th>2</th>\n",
       "      <td>12 Rules for Life: An Antidote to Chaos</td>\n",
       "      <td>Jordan B. Peterson</td>\n",
       "      <td>4.7</td>\n",
       "      <td>2018</td>\n",
       "      <td>Non Fiction</td>\n",
       "    </tr>\n",
       "    <tr>\n",
       "      <th>3</th>\n",
       "      <td>1984 (Signet Classics)</td>\n",
       "      <td>George Orwell</td>\n",
       "      <td>4.7</td>\n",
       "      <td>2017</td>\n",
       "      <td>Fiction</td>\n",
       "    </tr>\n",
       "    <tr>\n",
       "      <th>5</th>\n",
       "      <td>A Dance with Dragons (A Song of Ice and Fire)</td>\n",
       "      <td>George R. R. Martin</td>\n",
       "      <td>4.4</td>\n",
       "      <td>2011</td>\n",
       "      <td>Fiction</td>\n",
       "    </tr>\n",
       "  </tbody>\n",
       "</table>\n",
       "</div>"
      ],
      "text/plain": [
       "                                            name               author  rating  \\\n",
       "0                  10-Day Green Smoothie Cleanse             JJ Smith     4.7   \n",
       "1                              11/22/63: A Novel         Stephen King     4.6   \n",
       "2        12 Rules for Life: An Antidote to Chaos   Jordan B. Peterson     4.7   \n",
       "3                         1984 (Signet Classics)        George Orwell     4.7   \n",
       "5  A Dance with Dragons (A Song of Ice and Fire)  George R. R. Martin     4.4   \n",
       "\n",
       "   year        genre  \n",
       "0  2016  Non Fiction  \n",
       "1  2011      Fiction  \n",
       "2  2018  Non Fiction  \n",
       "3  2017      Fiction  \n",
       "5  2011      Fiction  "
      ]
     },
     "execution_count": 16,
     "metadata": {},
     "output_type": "execute_result"
    }
   ],
   "source": [
    "books[books[\"genre\"].isin([\"Fiction\",\"Non Fiction\"])].head()"
   ]
  },
  {
   "cell_type": "code",
   "execution_count": 17,
   "id": "1b6fce46",
   "metadata": {},
   "outputs": [
    {
     "data": {
      "text/html": [
       "<div>\n",
       "<style scoped>\n",
       "    .dataframe tbody tr th:only-of-type {\n",
       "        vertical-align: middle;\n",
       "    }\n",
       "\n",
       "    .dataframe tbody tr th {\n",
       "        vertical-align: top;\n",
       "    }\n",
       "\n",
       "    .dataframe thead th {\n",
       "        text-align: right;\n",
       "    }\n",
       "</style>\n",
       "<table border=\"1\" class=\"dataframe\">\n",
       "  <thead>\n",
       "    <tr style=\"text-align: right;\">\n",
       "      <th></th>\n",
       "      <th>rating</th>\n",
       "      <th>year</th>\n",
       "    </tr>\n",
       "  </thead>\n",
       "  <tbody>\n",
       "    <tr>\n",
       "      <th>0</th>\n",
       "      <td>4.7</td>\n",
       "      <td>2016</td>\n",
       "    </tr>\n",
       "    <tr>\n",
       "      <th>1</th>\n",
       "      <td>4.6</td>\n",
       "      <td>2011</td>\n",
       "    </tr>\n",
       "    <tr>\n",
       "      <th>2</th>\n",
       "      <td>4.7</td>\n",
       "      <td>2018</td>\n",
       "    </tr>\n",
       "    <tr>\n",
       "      <th>3</th>\n",
       "      <td>4.7</td>\n",
       "      <td>2017</td>\n",
       "    </tr>\n",
       "    <tr>\n",
       "      <th>4</th>\n",
       "      <td>4.8</td>\n",
       "      <td>2019</td>\n",
       "    </tr>\n",
       "  </tbody>\n",
       "</table>\n",
       "</div>"
      ],
      "text/plain": [
       "   rating  year\n",
       "0     4.7  2016\n",
       "1     4.6  2011\n",
       "2     4.7  2018\n",
       "3     4.7  2017\n",
       "4     4.8  2019"
      ]
     },
     "execution_count": 17,
     "metadata": {},
     "output_type": "execute_result"
    }
   ],
   "source": [
    "#validating numerical data\n",
    "books.select_dtypes(\"number\").head()"
   ]
  },
  {
   "cell_type": "code",
   "execution_count": 18,
   "id": "998a2281",
   "metadata": {},
   "outputs": [
    {
     "data": {
      "text/plain": [
       "2009"
      ]
     },
     "execution_count": 18,
     "metadata": {},
     "output_type": "execute_result"
    }
   ],
   "source": [
    "books[\"year\"].min()"
   ]
  },
  {
   "cell_type": "code",
   "execution_count": 19,
   "id": "f6e70dc9",
   "metadata": {},
   "outputs": [
    {
     "data": {
      "text/plain": [
       "2019"
      ]
     },
     "execution_count": 19,
     "metadata": {},
     "output_type": "execute_result"
    }
   ],
   "source": [
    "books[\"year\"].max()"
   ]
  },
  {
   "cell_type": "code",
   "execution_count": 22,
   "id": "be30388b",
   "metadata": {},
   "outputs": [
    {
     "data": {
      "image/png": "[encoded data removed]",
      "text/plain": [
       "<Figure size 432x288 with 1 Axes>"
      ]
     },
     "metadata": {
      "needs_background": "light"
     },
     "output_type": "display_data"
    }
   ],
   "source": [
    "sns.boxplot(data=books, x=\"year\");"
   ]
  },
  {
   "cell_type": "code",
   "execution_count": 23,
   "id": "f3712ae3",
   "metadata": {},
   "outputs": [
    {
     "data": {
      "image/png": "[encoded data removed]",
      "text/plain": [
       "<Figure size 432x288 with 1 Axes>"
      ]
     },
     "metadata": {
      "needs_background": "light"
     },
     "output_type": "display_data"
    }
   ],
   "source": [
    "sns.boxplot(data=books, x=\"year\", y=\"genre\");"
   ]
  },
  {
   "cell_type": "code",
   "execution_count": 24,
   "id": "8c85ed1c",
   "metadata": {},
   "outputs": [
    {
     "data": {
      "text/plain": [
       "country_code     object\n",
       "country_name     object\n",
       "continent        object\n",
       "2010            float64\n",
       "2011            float64\n",
       "2012            float64\n",
       "2013            float64\n",
       "2014            float64\n",
       "2015            float64\n",
       "2016            float64\n",
       "2017            float64\n",
       "2018            float64\n",
       "2019            float64\n",
       "2020            float64\n",
       "2021            float64\n",
       "dtype: object"
      ]
     },
     "execution_count": 24,
     "metadata": {},
     "output_type": "execute_result"
    }
   ],
   "source": [
    "unemployment.dtypes"
   ]
  },
  {
   "cell_type": "code",
   "execution_count": 25,
   "id": "a968801c",
   "metadata": {},
   "outputs": [
    {
     "data": {
      "text/html": [
       "<div>\n",
       "<style scoped>\n",
       "    .dataframe tbody tr th:only-of-type {\n",
       "        vertical-align: middle;\n",
       "    }\n",
       "\n",
       "    .dataframe tbody tr th {\n",
       "        vertical-align: top;\n",
       "    }\n",
       "\n",
       "    .dataframe thead th {\n",
       "        text-align: right;\n",
       "    }\n",
       "</style>\n",
       "<table border=\"1\" class=\"dataframe\">\n",
       "  <thead>\n",
       "    <tr style=\"text-align: right;\">\n",
       "      <th></th>\n",
       "      <th>2010</th>\n",
       "      <th>2011</th>\n",
       "      <th>2012</th>\n",
       "      <th>2013</th>\n",
       "      <th>2014</th>\n",
       "      <th>2015</th>\n",
       "      <th>2016</th>\n",
       "      <th>2017</th>\n",
       "      <th>2018</th>\n",
       "      <th>2019</th>\n",
       "      <th>2020</th>\n",
       "      <th>2021</th>\n",
       "    </tr>\n",
       "  </thead>\n",
       "  <tbody>\n",
       "    <tr>\n",
       "      <th>0</th>\n",
       "      <td>11.35</td>\n",
       "      <td>11.05</td>\n",
       "      <td>11.34</td>\n",
       "      <td>11.19</td>\n",
       "      <td>11.14</td>\n",
       "      <td>11.13</td>\n",
       "      <td>11.16</td>\n",
       "      <td>11.18</td>\n",
       "      <td>11.15</td>\n",
       "      <td>11.22</td>\n",
       "      <td>11.71</td>\n",
       "      <td>13.28</td>\n",
       "    </tr>\n",
       "    <tr>\n",
       "      <th>1</th>\n",
       "      <td>9.43</td>\n",
       "      <td>7.36</td>\n",
       "      <td>7.35</td>\n",
       "      <td>7.37</td>\n",
       "      <td>7.37</td>\n",
       "      <td>7.39</td>\n",
       "      <td>7.41</td>\n",
       "      <td>7.41</td>\n",
       "      <td>7.42</td>\n",
       "      <td>7.42</td>\n",
       "      <td>8.33</td>\n",
       "      <td>8.53</td>\n",
       "    </tr>\n",
       "    <tr>\n",
       "      <th>2</th>\n",
       "      <td>14.09</td>\n",
       "      <td>13.48</td>\n",
       "      <td>13.38</td>\n",
       "      <td>15.87</td>\n",
       "      <td>18.05</td>\n",
       "      <td>17.19</td>\n",
       "      <td>15.42</td>\n",
       "      <td>13.62</td>\n",
       "      <td>12.30</td>\n",
       "      <td>11.47</td>\n",
       "      <td>13.33</td>\n",
       "      <td>11.82</td>\n",
       "    </tr>\n",
       "    <tr>\n",
       "      <th>3</th>\n",
       "      <td>2.48</td>\n",
       "      <td>2.30</td>\n",
       "      <td>2.18</td>\n",
       "      <td>2.04</td>\n",
       "      <td>1.91</td>\n",
       "      <td>1.77</td>\n",
       "      <td>1.64</td>\n",
       "      <td>2.46</td>\n",
       "      <td>2.35</td>\n",
       "      <td>2.23</td>\n",
       "      <td>3.19</td>\n",
       "      <td>3.36</td>\n",
       "    </tr>\n",
       "    <tr>\n",
       "      <th>4</th>\n",
       "      <td>7.71</td>\n",
       "      <td>7.18</td>\n",
       "      <td>7.22</td>\n",
       "      <td>7.10</td>\n",
       "      <td>7.27</td>\n",
       "      <td>7.52</td>\n",
       "      <td>8.11</td>\n",
       "      <td>8.35</td>\n",
       "      <td>9.22</td>\n",
       "      <td>9.84</td>\n",
       "      <td>11.46</td>\n",
       "      <td>10.90</td>\n",
       "    </tr>\n",
       "    <tr>\n",
       "      <th>...</th>\n",
       "      <td>...</td>\n",
       "      <td>...</td>\n",
       "      <td>...</td>\n",
       "      <td>...</td>\n",
       "      <td>...</td>\n",
       "      <td>...</td>\n",
       "      <td>...</td>\n",
       "      <td>...</td>\n",
       "      <td>...</td>\n",
       "      <td>...</td>\n",
       "      <td>...</td>\n",
       "      <td>...</td>\n",
       "    </tr>\n",
       "    <tr>\n",
       "      <th>177</th>\n",
       "      <td>5.73</td>\n",
       "      <td>5.68</td>\n",
       "      <td>8.75</td>\n",
       "      <td>8.67</td>\n",
       "      <td>8.72</td>\n",
       "      <td>8.50</td>\n",
       "      <td>8.31</td>\n",
       "      <td>8.58</td>\n",
       "      <td>8.69</td>\n",
       "      <td>8.41</td>\n",
       "      <td>9.15</td>\n",
       "      <td>9.84</td>\n",
       "    </tr>\n",
       "    <tr>\n",
       "      <th>178</th>\n",
       "      <td>12.83</td>\n",
       "      <td>13.23</td>\n",
       "      <td>13.17</td>\n",
       "      <td>13.27</td>\n",
       "      <td>13.47</td>\n",
       "      <td>13.77</td>\n",
       "      <td>13.43</td>\n",
       "      <td>13.30</td>\n",
       "      <td>13.15</td>\n",
       "      <td>13.06</td>\n",
       "      <td>13.39</td>\n",
       "      <td>13.57</td>\n",
       "    </tr>\n",
       "    <tr>\n",
       "      <th>179</th>\n",
       "      <td>24.68</td>\n",
       "      <td>24.64</td>\n",
       "      <td>24.73</td>\n",
       "      <td>24.56</td>\n",
       "      <td>24.89</td>\n",
       "      <td>25.15</td>\n",
       "      <td>26.54</td>\n",
       "      <td>27.04</td>\n",
       "      <td>26.91</td>\n",
       "      <td>28.47</td>\n",
       "      <td>29.22</td>\n",
       "      <td>33.56</td>\n",
       "    </tr>\n",
       "    <tr>\n",
       "      <th>180</th>\n",
       "      <td>13.19</td>\n",
       "      <td>10.55</td>\n",
       "      <td>7.85</td>\n",
       "      <td>8.61</td>\n",
       "      <td>9.36</td>\n",
       "      <td>10.13</td>\n",
       "      <td>10.87</td>\n",
       "      <td>11.63</td>\n",
       "      <td>12.01</td>\n",
       "      <td>12.52</td>\n",
       "      <td>12.85</td>\n",
       "      <td>13.03</td>\n",
       "    </tr>\n",
       "    <tr>\n",
       "      <th>181</th>\n",
       "      <td>5.21</td>\n",
       "      <td>5.37</td>\n",
       "      <td>5.15</td>\n",
       "      <td>4.98</td>\n",
       "      <td>4.77</td>\n",
       "      <td>4.78</td>\n",
       "      <td>4.79</td>\n",
       "      <td>4.78</td>\n",
       "      <td>4.80</td>\n",
       "      <td>4.83</td>\n",
       "      <td>5.35</td>\n",
       "      <td>5.17</td>\n",
       "    </tr>\n",
       "  </tbody>\n",
       "</table>\n",
       "<p>182 rows × 12 columns</p>\n",
       "</div>"
      ],
      "text/plain": [
       "      2010   2011   2012   2013   2014   2015   2016   2017   2018   2019  \\\n",
       "0    11.35  11.05  11.34  11.19  11.14  11.13  11.16  11.18  11.15  11.22   \n",
       "1     9.43   7.36   7.35   7.37   7.37   7.39   7.41   7.41   7.42   7.42   \n",
       "2    14.09  13.48  13.38  15.87  18.05  17.19  15.42  13.62  12.30  11.47   \n",
       "3     2.48   2.30   2.18   2.04   1.91   1.77   1.64   2.46   2.35   2.23   \n",
       "4     7.71   7.18   7.22   7.10   7.27   7.52   8.11   8.35   9.22   9.84   \n",
       "..     ...    ...    ...    ...    ...    ...    ...    ...    ...    ...   \n",
       "177   5.73   5.68   8.75   8.67   8.72   8.50   8.31   8.58   8.69   8.41   \n",
       "178  12.83  13.23  13.17  13.27  13.47  13.77  13.43  13.30  13.15  13.06   \n",
       "179  24.68  24.64  24.73  24.56  24.89  25.15  26.54  27.04  26.91  28.47   \n",
       "180  13.19  10.55   7.85   8.61   9.36  10.13  10.87  11.63  12.01  12.52   \n",
       "181   5.21   5.37   5.15   4.98   4.77   4.78   4.79   4.78   4.80   4.83   \n",
       "\n",
       "      2020   2021  \n",
       "0    11.71  13.28  \n",
       "1     8.33   8.53  \n",
       "2    13.33  11.82  \n",
       "3     3.19   3.36  \n",
       "4    11.46  10.90  \n",
       "..     ...    ...  \n",
       "177   9.15   9.84  \n",
       "178  13.39  13.57  \n",
       "179  29.22  33.56  \n",
       "180  12.85  13.03  \n",
       "181   5.35   5.17  \n",
       "\n",
       "[182 rows x 12 columns]"
      ]
     },
     "execution_count": 25,
     "metadata": {},
     "output_type": "execute_result"
    }
   ],
   "source": [
    "unemployment.select_dtypes('float')"
   ]
  },
  {
   "cell_type": "code",
   "execution_count": 26,
   "id": "18cef31e",
   "metadata": {},
   "outputs": [],
   "source": [
    "not_oceania = ~unemployment[\"continent\"].isin([\"Oceania\"])"
   ]
  },
  {
   "cell_type": "code",
   "execution_count": 27,
   "id": "fad3c3a9",
   "metadata": {},
   "outputs": [
    {
     "name": "stdout",
     "output_type": "stream",
     "text": [
      "    country_code          country_name      continent   2010   2011   2012  \\\n",
      "0            AFG           Afghanistan           Asia  11.35  11.05  11.34   \n",
      "1            AGO                Angola         Africa   9.43   7.36   7.35   \n",
      "2            ALB               Albania         Europe  14.09  13.48  13.38   \n",
      "3            ARE  United Arab Emirates           Asia   2.48   2.30   2.18   \n",
      "4            ARG             Argentina  South America   7.71   7.18   7.22   \n",
      "..           ...                   ...            ...    ...    ...    ...   \n",
      "175          VNM               Vietnam           Asia   1.11   1.00   1.03   \n",
      "178          YEM           Yemen, Rep.           Asia  12.83  13.23  13.17   \n",
      "179          ZAF          South Africa         Africa  24.68  24.64  24.73   \n",
      "180          ZMB                Zambia         Africa  13.19  10.55   7.85   \n",
      "181          ZWE              Zimbabwe         Africa   5.21   5.37   5.15   \n",
      "\n",
      "      2013   2014   2015   2016   2017   2018   2019   2020   2021  \n",
      "0    11.19  11.14  11.13  11.16  11.18  11.15  11.22  11.71  13.28  \n",
      "1     7.37   7.37   7.39   7.41   7.41   7.42   7.42   8.33   8.53  \n",
      "2    15.87  18.05  17.19  15.42  13.62  12.30  11.47  13.33  11.82  \n",
      "3     2.04   1.91   1.77   1.64   2.46   2.35   2.23   3.19   3.36  \n",
      "4     7.10   7.27   7.52   8.11   8.35   9.22   9.84  11.46  10.90  \n",
      "..     ...    ...    ...    ...    ...    ...    ...    ...    ...  \n",
      "175   1.32   1.26   1.85   1.85   1.87   1.16   2.04   2.39   2.17  \n",
      "178  13.27  13.47  13.77  13.43  13.30  13.15  13.06  13.39  13.57  \n",
      "179  24.56  24.89  25.15  26.54  27.04  26.91  28.47  29.22  33.56  \n",
      "180   8.61   9.36  10.13  10.87  11.63  12.01  12.52  12.85  13.03  \n",
      "181   4.98   4.77   4.78   4.79   4.78   4.80   4.83   5.35   5.17  \n",
      "\n",
      "[174 rows x 15 columns]\n"
     ]
    }
   ],
   "source": [
    "# Print unemployment without records related to countries in Oceania\n",
    "print(unemployment[not_oceania])"
   ]
  },
  {
   "cell_type": "code",
   "execution_count": 29,
   "id": "6549049f",
   "metadata": {},
   "outputs": [
    {
     "name": "stdout",
     "output_type": "stream",
     "text": [
      "0.26 33.56\n"
     ]
    },
    {
     "data": {
      "image/png": "[encoded data removed]",
      "text/plain": [
       "<Figure size 432x288 with 1 Axes>"
      ]
     },
     "metadata": {
      "needs_background": "light"
     },
     "output_type": "display_data"
    }
   ],
   "source": [
    "# Print the minimum and maximum unemployment rates during 2021\n",
    "print(unemployment['2021'].min(), unemployment['2021'].max())\n",
    "\n",
    "# Create a boxplot of 2021 unemployment rates, broken down by continent\n",
    "sns.boxplot(data=unemployment, x='2021',y=\"continent\");"
   ]
  },
  {
   "cell_type": "code",
   "execution_count": 30,
   "id": "aa3702bf",
   "metadata": {},
   "outputs": [
    {
     "data": {
      "text/html": [
       "<div>\n",
       "<style scoped>\n",
       "    .dataframe tbody tr th:only-of-type {\n",
       "        vertical-align: middle;\n",
       "    }\n",
       "\n",
       "    .dataframe tbody tr th {\n",
       "        vertical-align: top;\n",
       "    }\n",
       "\n",
       "    .dataframe thead th {\n",
       "        text-align: right;\n",
       "    }\n",
       "</style>\n",
       "<table border=\"1\" class=\"dataframe\">\n",
       "  <thead>\n",
       "    <tr style=\"text-align: right;\">\n",
       "      <th></th>\n",
       "      <th>rating</th>\n",
       "      <th>year</th>\n",
       "    </tr>\n",
       "    <tr>\n",
       "      <th>genre</th>\n",
       "      <th></th>\n",
       "      <th></th>\n",
       "    </tr>\n",
       "  </thead>\n",
       "  <tbody>\n",
       "    <tr>\n",
       "      <th>Childrens</th>\n",
       "      <td>4.780000</td>\n",
       "      <td>2015.075000</td>\n",
       "    </tr>\n",
       "    <tr>\n",
       "      <th>Fiction</th>\n",
       "      <td>4.570229</td>\n",
       "      <td>2013.022901</td>\n",
       "    </tr>\n",
       "    <tr>\n",
       "      <th>Non Fiction</th>\n",
       "      <td>4.598324</td>\n",
       "      <td>2013.513966</td>\n",
       "    </tr>\n",
       "  </tbody>\n",
       "</table>\n",
       "</div>"
      ],
      "text/plain": [
       "               rating         year\n",
       "genre                             \n",
       "Childrens    4.780000  2015.075000\n",
       "Fiction      4.570229  2013.022901\n",
       "Non Fiction  4.598324  2013.513966"
      ]
     },
     "execution_count": 30,
     "metadata": {},
     "output_type": "execute_result"
    }
   ],
   "source": [
    "books.groupby(\"genre\").mean()"
   ]
  },
  {
   "cell_type": "code",
   "execution_count": 33,
   "id": "bb513f6c",
   "metadata": {},
   "outputs": [
    {
     "data": {
      "text/html": [
       "<div>\n",
       "<style scoped>\n",
       "    .dataframe tbody tr th:only-of-type {\n",
       "        vertical-align: middle;\n",
       "    }\n",
       "\n",
       "    .dataframe tbody tr th {\n",
       "        vertical-align: top;\n",
       "    }\n",
       "\n",
       "    .dataframe thead th {\n",
       "        text-align: right;\n",
       "    }\n",
       "</style>\n",
       "<table border=\"1\" class=\"dataframe\">\n",
       "  <thead>\n",
       "    <tr style=\"text-align: right;\">\n",
       "      <th></th>\n",
       "      <th>rating</th>\n",
       "      <th>year</th>\n",
       "    </tr>\n",
       "  </thead>\n",
       "  <tbody>\n",
       "    <tr>\n",
       "      <th>mean</th>\n",
       "      <td>4.608571</td>\n",
       "      <td>2013.508571</td>\n",
       "    </tr>\n",
       "    <tr>\n",
       "      <th>std</th>\n",
       "      <td>0.226941</td>\n",
       "      <td>3.284711</td>\n",
       "    </tr>\n",
       "    <tr>\n",
       "      <th>var</th>\n",
       "      <td>0.051502</td>\n",
       "      <td>10.789325</td>\n",
       "    </tr>\n",
       "  </tbody>\n",
       "</table>\n",
       "</div>"
      ],
      "text/plain": [
       "        rating         year\n",
       "mean  4.608571  2013.508571\n",
       "std   0.226941     3.284711\n",
       "var   0.051502    10.789325"
      ]
     },
     "execution_count": 33,
     "metadata": {},
     "output_type": "execute_result"
    }
   ],
   "source": [
    "books.agg([\"mean\", \"std\",\"var\"])"
   ]
  },
  {
   "cell_type": "code",
   "execution_count": 34,
   "id": "4cf3484b",
   "metadata": {},
   "outputs": [
    {
     "data": {
      "text/html": [
       "<div>\n",
       "<style scoped>\n",
       "    .dataframe tbody tr th:only-of-type {\n",
       "        vertical-align: middle;\n",
       "    }\n",
       "\n",
       "    .dataframe tbody tr th {\n",
       "        vertical-align: top;\n",
       "    }\n",
       "\n",
       "    .dataframe thead th {\n",
       "        text-align: right;\n",
       "    }\n",
       "</style>\n",
       "<table border=\"1\" class=\"dataframe\">\n",
       "  <thead>\n",
       "    <tr style=\"text-align: right;\">\n",
       "      <th></th>\n",
       "      <th>rating</th>\n",
       "      <th>year</th>\n",
       "    </tr>\n",
       "  </thead>\n",
       "  <tbody>\n",
       "    <tr>\n",
       "      <th>mean</th>\n",
       "      <td>4.608571</td>\n",
       "      <td>NaN</td>\n",
       "    </tr>\n",
       "    <tr>\n",
       "      <th>std</th>\n",
       "      <td>0.226941</td>\n",
       "      <td>NaN</td>\n",
       "    </tr>\n",
       "    <tr>\n",
       "      <th>median</th>\n",
       "      <td>NaN</td>\n",
       "      <td>2013.0</td>\n",
       "    </tr>\n",
       "  </tbody>\n",
       "</table>\n",
       "</div>"
      ],
      "text/plain": [
       "          rating    year\n",
       "mean    4.608571     NaN\n",
       "std     0.226941     NaN\n",
       "median       NaN  2013.0"
      ]
     },
     "execution_count": 34,
     "metadata": {},
     "output_type": "execute_result"
    }
   ],
   "source": [
    "#Specifying aggregations for columns\n",
    "books.agg({\"rating\":[\"mean\",\"std\"], \"year\":[\"median\"]})"
   ]
  },
  {
   "cell_type": "code",
   "execution_count": 35,
   "id": "87926527",
   "metadata": {},
   "outputs": [
    {
     "data": {
      "text/html": [
       "<div>\n",
       "<style scoped>\n",
       "    .dataframe tbody tr th:only-of-type {\n",
       "        vertical-align: middle;\n",
       "    }\n",
       "\n",
       "    .dataframe tbody tr th {\n",
       "        vertical-align: top;\n",
       "    }\n",
       "\n",
       "    .dataframe thead tr th {\n",
       "        text-align: left;\n",
       "    }\n",
       "\n",
       "    .dataframe thead tr:last-of-type th {\n",
       "        text-align: right;\n",
       "    }\n",
       "</style>\n",
       "<table border=\"1\" class=\"dataframe\">\n",
       "  <thead>\n",
       "    <tr>\n",
       "      <th></th>\n",
       "      <th colspan=\"2\" halign=\"left\">rating</th>\n",
       "      <th>year</th>\n",
       "    </tr>\n",
       "    <tr>\n",
       "      <th></th>\n",
       "      <th>mean</th>\n",
       "      <th>std</th>\n",
       "      <th>median</th>\n",
       "    </tr>\n",
       "    <tr>\n",
       "      <th>genre</th>\n",
       "      <th></th>\n",
       "      <th></th>\n",
       "      <th></th>\n",
       "    </tr>\n",
       "  </thead>\n",
       "  <tbody>\n",
       "    <tr>\n",
       "      <th>Childrens</th>\n",
       "      <td>4.780000</td>\n",
       "      <td>0.122370</td>\n",
       "      <td>2015.0</td>\n",
       "    </tr>\n",
       "    <tr>\n",
       "      <th>Fiction</th>\n",
       "      <td>4.570229</td>\n",
       "      <td>0.281123</td>\n",
       "      <td>2013.0</td>\n",
       "    </tr>\n",
       "    <tr>\n",
       "      <th>Non Fiction</th>\n",
       "      <td>4.598324</td>\n",
       "      <td>0.179411</td>\n",
       "      <td>2013.0</td>\n",
       "    </tr>\n",
       "  </tbody>\n",
       "</table>\n",
       "</div>"
      ],
      "text/plain": [
       "               rating              year\n",
       "                 mean       std  median\n",
       "genre                                  \n",
       "Childrens    4.780000  0.122370  2015.0\n",
       "Fiction      4.570229  0.281123  2013.0\n",
       "Non Fiction  4.598324  0.179411  2013.0"
      ]
     },
     "execution_count": 35,
     "metadata": {},
     "output_type": "execute_result"
    }
   ],
   "source": [
    "#Specifying aggregations for columns\n",
    "books.groupby(\"genre\").agg({\"rating\":[\"mean\",\"std\"], \"year\":[\"median\"]})"
   ]
  },
  {
   "cell_type": "code",
   "execution_count": 36,
   "id": "5c18672f",
   "metadata": {},
   "outputs": [
    {
     "data": {
      "text/html": [
       "<div>\n",
       "<style scoped>\n",
       "    .dataframe tbody tr th:only-of-type {\n",
       "        vertical-align: middle;\n",
       "    }\n",
       "\n",
       "    .dataframe tbody tr th {\n",
       "        vertical-align: top;\n",
       "    }\n",
       "\n",
       "    .dataframe thead th {\n",
       "        text-align: right;\n",
       "    }\n",
       "</style>\n",
       "<table border=\"1\" class=\"dataframe\">\n",
       "  <thead>\n",
       "    <tr style=\"text-align: right;\">\n",
       "      <th></th>\n",
       "      <th>mean_rating</th>\n",
       "      <th>std_rating</th>\n",
       "      <th>median_year</th>\n",
       "    </tr>\n",
       "    <tr>\n",
       "      <th>genre</th>\n",
       "      <th></th>\n",
       "      <th></th>\n",
       "      <th></th>\n",
       "    </tr>\n",
       "  </thead>\n",
       "  <tbody>\n",
       "    <tr>\n",
       "      <th>Childrens</th>\n",
       "      <td>4.780000</td>\n",
       "      <td>0.122370</td>\n",
       "      <td>2015.0</td>\n",
       "    </tr>\n",
       "    <tr>\n",
       "      <th>Fiction</th>\n",
       "      <td>4.570229</td>\n",
       "      <td>0.281123</td>\n",
       "      <td>2013.0</td>\n",
       "    </tr>\n",
       "    <tr>\n",
       "      <th>Non Fiction</th>\n",
       "      <td>4.598324</td>\n",
       "      <td>0.179411</td>\n",
       "      <td>2013.0</td>\n",
       "    </tr>\n",
       "  </tbody>\n",
       "</table>\n",
       "</div>"
      ],
      "text/plain": [
       "             mean_rating  std_rating  median_year\n",
       "genre                                            \n",
       "Childrens       4.780000    0.122370       2015.0\n",
       "Fiction         4.570229    0.281123       2013.0\n",
       "Non Fiction     4.598324    0.179411       2013.0"
      ]
     },
     "execution_count": 36,
     "metadata": {},
     "output_type": "execute_result"
    }
   ],
   "source": [
    "#named summary columns\n",
    "books.groupby(\"genre\").agg(\n",
    "    mean_rating=(\"rating\",\"mean\"),\n",
    "    std_rating=(\"rating\", \"std\"),\n",
    "    median_year=(\"year\",\"median\")\n",
    ")"
   ]
  },
  {
   "cell_type": "code",
   "execution_count": 37,
   "id": "92859484",
   "metadata": {},
   "outputs": [
    {
     "data": {
      "image/png": "[encoded data removed]",
      "text/plain": [
       "<Figure size 432x288 with 1 Axes>"
      ]
     },
     "metadata": {
      "needs_background": "light"
     },
     "output_type": "display_data"
    }
   ],
   "source": [
    "sns.barplot(data=books, x=\"genre\",y=\"rating\");"
   ]
  },
  {
   "cell_type": "code",
   "execution_count": 38,
   "id": "77c07af6",
   "metadata": {},
   "outputs": [
    {
     "name": "stdout",
     "output_type": "stream",
     "text": [
      "<class 'pandas.core.frame.DataFrame'>\n",
      "RangeIndex: 607 entries, 0 to 606\n",
      "Data columns (total 8 columns):\n",
      " #   Column                Non-Null Count  Dtype  \n",
      "---  ------                --------------  -----  \n",
      " 0   Working_Year          607 non-null    int64  \n",
      " 1   Designation           607 non-null    object \n",
      " 2   Experience            607 non-null    object \n",
      " 3   Employment_Status     607 non-null    object \n",
      " 4   Employee_Location     607 non-null    object \n",
      " 5   Company_Size          607 non-null    object \n",
      " 6   Remote_Working_Ratio  607 non-null    int64  \n",
      " 7   Salary_USD            607 non-null    float64\n",
      "dtypes: float64(1), int64(2), object(5)\n",
      "memory usage: 38.1+ KB\n"
     ]
    }
   ],
   "source": [
    "salaries = pd.read_csv('https://assets.datacamp.com/production/repositories/6180/datasets/70d69830a5c5c2143113078aa61f10fbd32a3655/ds_salaries_clean.csv')\n",
    "salaries.info()"
   ]
  },
  {
   "cell_type": "code",
   "execution_count": 39,
   "id": "9d012d76",
   "metadata": {},
   "outputs": [
    {
     "name": "stdout",
     "output_type": "stream",
     "text": [
      "Working_Year            0\n",
      "Designation             0\n",
      "Experience              0\n",
      "Employment_Status       0\n",
      "Employee_Location       0\n",
      "Company_Size            0\n",
      "Remote_Working_Ratio    0\n",
      "Salary_USD              0\n",
      "dtype: int64\n"
     ]
    }
   ],
   "source": [
    "#checcking for missing values\n",
    "print(salaries.isna().sum())"
   ]
  },
  {
   "cell_type": "code",
   "execution_count": 40,
   "id": "85b6c1ab",
   "metadata": {},
   "outputs": [],
   "source": [
    "#drop missing values 5% or less of total_values\n",
    "threshold = len(salaries) * 0.05\n",
    "cols_to_drop = salaries.columns[salaries.isna().sum() <= threshold]"
   ]
  },
  {
   "cell_type": "code",
   "execution_count": null,
   "id": "fd099ba1",
   "metadata": {},
   "outputs": [],
   "source": [
    "#dropping missing values\n",
    "salaries.dropna(subset=cols_to_drop, inplace=True)"
   ]
  },
  {
   "cell_type": "code",
   "execution_count": null,
   "id": "ae22d888",
   "metadata": {},
   "outputs": [],
   "source": [
    "#imputing a summary statistic\n",
    "cols_with_missing_values = salaries.columns[saalries.isna().sum() > 0]\n",
    "print(cols_with_missing_values)\n",
    "\n",
    "for col in cols_with_missing_values[:-1]:\n",
    "    salaries[col].fillna(salaries[col].mode()[0])\n",
    "print(salaries.isna().sum())"
   ]
  },
  {
   "cell_type": "code",
   "execution_count": 41,
   "id": "51715871",
   "metadata": {},
   "outputs": [
    {
     "name": "stdout",
     "output_type": "stream",
     "text": [
      "{'Entry': 53948.0, 'Executive': 163694.5, 'Mid': 73465.0, 'Senior': 129380.0}\n"
     ]
    }
   ],
   "source": [
    "#imputing by subgroup\n",
    "salaries_dict = salaries.groupby(\"Experience\")[\"Salary_USD\"].median().to_dict()\n",
    "print(salaries_dict)"
   ]
  },
  {
   "cell_type": "code",
   "execution_count": null,
   "id": "fb6e2289",
   "metadata": {},
   "outputs": [],
   "source": [
    "salaries[\"Salary_USD\"] = salaries[\"Salary_USD\"].fillna(salaries[\"Experience\"].map(salaries_dict))"
   ]
  },
  {
   "cell_type": "markdown",
   "id": "005e3e40",
   "metadata": {},
   "source": [
    "## EDA of Categorical Data"
   ]
  },
  {
   "cell_type": "code",
   "execution_count": 42,
   "id": "86b8b24b",
   "metadata": {},
   "outputs": [
    {
     "name": "stdout",
     "output_type": "stream",
     "text": [
      "                  Designation Experience Employment_Status Employee_Location  \\\n",
      "0              Data Scientist        Mid                FT                DE   \n",
      "1  Machine Learning Scientist     Senior                FT                JP   \n",
      "2           Big Data Engineer     Senior                FT                GB   \n",
      "3        Product Data Analyst        Mid                FT                HN   \n",
      "4   Machine Learning Engineer     Senior                FT                US   \n",
      "\n",
      "  Company_Size  \n",
      "0            L  \n",
      "1            S  \n",
      "2            M  \n",
      "3            S  \n",
      "4            L  \n"
     ]
    }
   ],
   "source": [
    "print(salaries.select_dtypes(\"object\").head())"
   ]
  },
  {
   "cell_type": "code",
   "execution_count": 43,
   "id": "0e5903ed",
   "metadata": {},
   "outputs": [
    {
     "name": "stdout",
     "output_type": "stream",
     "text": [
      "Data Scientist                              143\n",
      "Data Engineer                               132\n",
      "Data Analyst                                 97\n",
      "Machine Learning Engineer                    41\n",
      "Research Scientist                           16\n",
      "Data Science Manager                         12\n",
      "Data Architect                               11\n",
      "Big Data Engineer                             8\n",
      "Machine Learning Scientist                    8\n",
      "Principal Data Scientist                      7\n",
      "AI Scientist                                  7\n",
      "Data Science Consultant                       7\n",
      "Director of Data Science                      7\n",
      "Data Analytics Manager                        7\n",
      "ML Engineer                                   6\n",
      "Computer Vision Engineer                      6\n",
      "BI Data Analyst                               6\n",
      "Lead Data Engineer                            6\n",
      "Data Engineering Manager                      5\n",
      "Business Data Analyst                         5\n",
      "Head of Data                                  5\n",
      "Applied Data Scientist                        5\n",
      "Applied Machine Learning Scientist            4\n",
      "Head of Data Science                          4\n",
      "Analytics Engineer                            4\n",
      "Data Analytics Engineer                       4\n",
      "Machine Learning Developer                    3\n",
      "Machine Learning Infrastructure Engineer      3\n",
      "Lead Data Scientist                           3\n",
      "Computer Vision Software Engineer             3\n",
      "Lead Data Analyst                             3\n",
      "Data Science Engineer                         3\n",
      "Principal Data Engineer                       3\n",
      "Principal Data Analyst                        2\n",
      "ETL Developer                                 2\n",
      "Product Data Analyst                          2\n",
      "Director of Data Engineering                  2\n",
      "Financial Data Analyst                        2\n",
      "Cloud Data Engineer                           2\n",
      "Lead Machine Learning Engineer                1\n",
      "NLP Engineer                                  1\n",
      "Head of Machine Learning                      1\n",
      "3D Computer Vision Researcher                 1\n",
      "Data Specialist                               1\n",
      "Staff Data Scientist                          1\n",
      "Big Data Architect                            1\n",
      "Finance Data Analyst                          1\n",
      "Marketing Data Analyst                        1\n",
      "Machine Learning Manager                      1\n",
      "Data Analytics Lead                           1\n",
      "Name: Designation, dtype: int64\n"
     ]
    }
   ],
   "source": [
    "#frequency of values\n",
    "print(salaries[\"Designation\"].value_counts())"
   ]
  },
  {
   "cell_type": "code",
   "execution_count": 44,
   "id": "6c74a687",
   "metadata": {},
   "outputs": [
    {
     "name": "stdout",
     "output_type": "stream",
     "text": [
      "50\n"
     ]
    }
   ],
   "source": [
    "print(salaries[\"Designation\"].nunique())"
   ]
  },
  {
   "cell_type": "code",
   "execution_count": 45,
   "id": "8eee0744",
   "metadata": {},
   "outputs": [
    {
     "data": {
      "text/plain": [
       "0       True\n",
       "1       True\n",
       "2      False\n",
       "3      False\n",
       "4      False\n",
       "       ...  \n",
       "602    False\n",
       "603    False\n",
       "604    False\n",
       "605    False\n",
       "606     True\n",
       "Name: Designation, Length: 607, dtype: bool"
      ]
     },
     "execution_count": 45,
     "metadata": {},
     "output_type": "execute_result"
    }
   ],
   "source": [
    "#extracting value from categories\n",
    "salaries[\"Designation\"].str.contains(\"Scientist\")"
   ]
  },
  {
   "cell_type": "code",
   "execution_count": 46,
   "id": "da785870",
   "metadata": {},
   "outputs": [
    {
     "data": {
      "text/plain": [
       "0      False\n",
       "1       True\n",
       "2      False\n",
       "3      False\n",
       "4       True\n",
       "       ...  \n",
       "602    False\n",
       "603    False\n",
       "604    False\n",
       "605    False\n",
       "606     True\n",
       "Name: Designation, Length: 607, dtype: bool"
      ]
     },
     "execution_count": 46,
     "metadata": {},
     "output_type": "execute_result"
    }
   ],
   "source": [
    "#finding multple phrases\n",
    "salaries[\"Designation\"].str.contains(\"Machine Learning|AI\")"
   ]
  },
  {
   "cell_type": "code",
   "execution_count": 49,
   "id": "3cfcd32f",
   "metadata": {},
   "outputs": [],
   "source": [
    "import numpy as np\n",
    "\n",
    "#finding multiple phrases in strings\n",
    "job_categories = [\"Data Science\",\"Data Analytics\", \"Data Engineering\", \"Machine Learning\",\n",
    "                 \"Managerial\",\"Consultant\"]\n",
    "data_science = \"Data Scientist|NLP\"\n",
    "data_analyst = \"Analyst|Analytics\"\n",
    "data_engineer =\"Data Engineer|ETL|Architect|Infrastructure\"\n",
    "ml_engineer= \"Machine Learning|ML|Big Data|AI\"\n",
    "manager = \"Manager|Head|Director|Lead|Principal|Staff\"\n",
    "consultant = \"Consultant|Freelance\"\n",
    "\n",
    "conditions = [(salaries[\"Designation\"].str.contains(data_science)),\n",
    "              (salaries[\"Designation\"].str.contains(data_analyst)),\n",
    "              (salaries[\"Designation\"].str.contains(data_engineer)),\n",
    "              (salaries[\"Designation\"].str.contains(ml_engineer)),\n",
    "              (salaries[\"Designation\"].str.contains(manager)),\n",
    "              (salaries[\"Designation\"].str.contains(consultant))\n",
    "             ]\n",
    "salaries[\"Job_Category\"] = np.select(conditions,\n",
    "                                    job_categories,\n",
    "                                    default=\"Other\")"
   ]
  },
  {
   "cell_type": "code",
   "execution_count": 50,
   "id": "70c38cda",
   "metadata": {},
   "outputs": [
    {
     "name": "stdout",
     "output_type": "stream",
     "text": [
      "                  Designation      Job_Category\n",
      "0              Data Scientist      Data Science\n",
      "1  Machine Learning Scientist  Machine Learning\n",
      "2           Big Data Engineer  Data Engineering\n",
      "3        Product Data Analyst    Data Analytics\n",
      "4   Machine Learning Engineer  Machine Learning\n"
     ]
    }
   ],
   "source": [
    "#previewing job_categories\n",
    "print(salaries[[\"Designation\",\"Job_Category\"]].head())"
   ]
  },
  {
   "cell_type": "code",
   "execution_count": 51,
   "id": "486735be",
   "metadata": {},
   "outputs": [
    {
     "data": {
      "image/png": "[encoded data removed]",
      "text/plain": [
       "<Figure size 432x288 with 1 Axes>"
      ]
     },
     "metadata": {
      "needs_background": "light"
     },
     "output_type": "display_data"
    }
   ],
   "source": [
    "#visualize\n",
    "sns.countplot(data=salaries, x=\"Job_Category\");"
   ]
  },
  {
   "cell_type": "code",
   "execution_count": null,
   "id": "2ff115e9",
   "metadata": {},
   "outputs": [],
   "source": [
    "# Filter the DataFrame for object columns\n",
    "non_numeric = planes.select_dtypes(\"object\")\n",
    "\n",
    "# Loop through columns\n",
    "for col in non_numeric.columns:\n",
    "  \n",
    "  # Print the number of unique values\n",
    "  print(f\"Number of unique values in {col} column: \", non_numeric[col].nunique())"
   ]
  },
  {
   "cell_type": "code",
   "execution_count": null,
   "id": "d2d1ee13",
   "metadata": {},
   "outputs": [],
   "source": [
    "# Create a list of categories\n",
    "flight_categories = [\"Short-haul\", \"Medium\", \"Long-haul\"]\n",
    "\n",
    "# Create short-haul values\n",
    "short_flights = \"0h|1h|2h|3h|4h\"\n",
    "\n",
    "# Create medium-haul values\n",
    "medium_flights = \"5h|6h|7h|8h|9h\"\n",
    "\n",
    "# Create long-haul values\n",
    "long_flights = \"10h|11h|12h|13h|14h|15h|16h\"\n",
    "\n",
    "# Create conditions for values in flight_categories to be created\n",
    "conditions = [\n",
    "    (planes[\"Duration\"].str.contains(short_flights)),\n",
    "    (planes[\"Duration\"].str.contains(medium_flights)),\n",
    "    (planes[\"Duration\"].str.contains(long_flights))\n",
    "]\n",
    "\n",
    "# Apply the conditions list to the flight_categories\n",
    "planes[\"Duration_Category\"] = np.select(conditions, \n",
    "                                        flight_categories,\n",
    "                                        default=\"Extreme duration\")\n",
    "\n",
    "# Plot the counts of each category\n",
    "sns.countplot(data=planes, x=\"Duration_Category\")\n",
    "plt.show()"
   ]
  },
  {
   "cell_type": "code",
   "execution_count": null,
   "id": "e1a5052c",
   "metadata": {},
   "outputs": [],
   "source": [
    "## Working with Numeric Data\n",
    "print(salaries[\"Salary_In_Rupees\"].head())\n",
    "#converting strings to numbers\n",
    "#remove commas in the values\n",
    "salaries[\"Salary_In_Rupees\"] = salaries[\"Salary_In_Rupees\"].str.replace(\",\",\"\")\n",
    "\n",
    "#update datatypeto float\n",
    "salaries[\"Salary_In_Rupees\"] = salaries[\"Salary_In_Rupees\"].astype(float)\n",
    "\n",
    "#1 indian rupee = 0.012 USD\n",
    "salaries[\"Salary_USD\"] = salaries[\"Salary_In_Rupees\"] * 0.012"
   ]
  },
  {
   "cell_type": "code",
   "execution_count": 53,
   "id": "c71f4aa1",
   "metadata": {},
   "outputs": [],
   "source": [
    "#adding summary statistics into a df\n",
    "salaries.groupby(\"Company_Size\")[\"Salary_USD\"].mean()\n",
    "salaries[\"std_dev\"] = salaries.groupby(\"Experience\")[\"Salary_USD\"].transform(lambda x: x.std())"
   ]
  },
  {
   "cell_type": "code",
   "execution_count": 54,
   "id": "55d15312",
   "metadata": {},
   "outputs": [
    {
     "name": "stdout",
     "output_type": "stream",
     "text": [
      "Experience  std_dev      \n",
      "Senior      55086.264071     280\n",
      "Mid         61014.876754     213\n",
      "Entry       42390.355189      88\n",
      "Executive   111783.576779     26\n",
      "dtype: int64\n"
     ]
    }
   ],
   "source": [
    "print(salaries[[\"Experience\",\"std_dev\"]].value_counts())"
   ]
  },
  {
   "cell_type": "code",
   "execution_count": 55,
   "id": "3f6bcf9c",
   "metadata": {},
   "outputs": [
    {
     "name": "stdout",
     "output_type": "stream",
     "text": [
      "  Company_Size  median_by_comp_size\n",
      "0            L              95483.0\n",
      "1            S              62064.0\n",
      "2            M             108076.0\n",
      "3            S              62064.0\n",
      "4            L              95483.0\n"
     ]
    }
   ],
   "source": [
    "salaries[\"median_by_comp_size\"] = salaries.groupby(\"Company_Size\")\\\n",
    "            [\"Salary_USD\"].transform(lambda x:x.median())\n",
    "print(salaries[[\"Company_Size\", \"median_by_comp_size\"]].head())"
   ]
  },
  {
   "cell_type": "code",
   "execution_count": null,
   "id": "563af19b",
   "metadata": {},
   "outputs": [],
   "source": []
  }
 ],
 "metadata": {
  "kernelspec": {
   "display_name": "Python 3 (ipykernel)",
   "language": "python",
   "name": "python3"
  },
  "language_info": {
   "codemirror_mode": {
    "name": "ipython",
    "version": 3
   },
   "file_extension": ".py",
   "mimetype": "text/x-python",
   "name": "python",
   "nbconvert_exporter": "python",
   "pygments_lexer": "ipython3",
   "version": "3.9.7"
  }
 },
 "nbformat": 4,
 "nbformat_minor": 5
}
