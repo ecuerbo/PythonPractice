{
 "cells": [
  {
   "cell_type": "code",
   "execution_count": 1,
   "id": "774f8009",
   "metadata": {},
   "outputs": [],
   "source": [
    "import pandas as pd\n",
    "book_link = 'https://assets.datacamp.com/production/repositories/6180/datasets/ee9b2c7ee13a5e65f311ea8ddf5f60ba87c7c89f/clean_books.csv'\n",
    "books = pd.read_csv(book_link)"
   ]
  },
  {
   "cell_type": "code",
   "execution_count": 2,
   "id": "0dcc35d2",
   "metadata": {},
   "outputs": [
    {
     "name": "stdout",
     "output_type": "stream",
     "text": [
      "<class 'pandas.core.frame.DataFrame'>\n",
      "RangeIndex: 350 entries, 0 to 349\n",
      "Data columns (total 5 columns):\n",
      " #   Column  Non-Null Count  Dtype  \n",
      "---  ------  --------------  -----  \n",
      " 0   name    350 non-null    object \n",
      " 1   author  350 non-null    object \n",
      " 2   rating  350 non-null    float64\n",
      " 3   year    350 non-null    int64  \n",
      " 4   genre   350 non-null    object \n",
      "dtypes: float64(1), int64(1), object(3)\n",
      "memory usage: 13.8+ KB\n"
     ]
    }
   ],
   "source": [
    "books.info()"
   ]
  },
  {
   "cell_type": "code",
   "execution_count": 3,
   "id": "e5c33654",
   "metadata": {},
   "outputs": [
    {
     "data": {
      "text/plain": [
       "genre\n",
       "Non Fiction    179\n",
       "Fiction        131\n",
       "Childrens       40\n",
       "dtype: int64"
      ]
     },
     "execution_count": 3,
     "metadata": {},
     "output_type": "execute_result"
    }
   ],
   "source": [
    "books.value_counts(\"genre\")"
   ]
  },
  {
   "cell_type": "code",
   "execution_count": 4,
   "id": "9cda72d3",
   "metadata": {},
   "outputs": [
    {
     "data": {
      "text/html": [
       "<div>\n",
       "<style scoped>\n",
       "    .dataframe tbody tr th:only-of-type {\n",
       "        vertical-align: middle;\n",
       "    }\n",
       "\n",
       "    .dataframe tbody tr th {\n",
       "        vertical-align: top;\n",
       "    }\n",
       "\n",
       "    .dataframe thead th {\n",
       "        text-align: right;\n",
       "    }\n",
       "</style>\n",
       "<table border=\"1\" class=\"dataframe\">\n",
       "  <thead>\n",
       "    <tr style=\"text-align: right;\">\n",
       "      <th></th>\n",
       "      <th>rating</th>\n",
       "      <th>year</th>\n",
       "    </tr>\n",
       "  </thead>\n",
       "  <tbody>\n",
       "    <tr>\n",
       "      <th>count</th>\n",
       "      <td>350.000000</td>\n",
       "      <td>350.000000</td>\n",
       "    </tr>\n",
       "    <tr>\n",
       "      <th>mean</th>\n",
       "      <td>4.608571</td>\n",
       "      <td>2013.508571</td>\n",
       "    </tr>\n",
       "    <tr>\n",
       "      <th>std</th>\n",
       "      <td>0.226941</td>\n",
       "      <td>3.284711</td>\n",
       "    </tr>\n",
       "    <tr>\n",
       "      <th>min</th>\n",
       "      <td>3.300000</td>\n",
       "      <td>2009.000000</td>\n",
       "    </tr>\n",
       "    <tr>\n",
       "      <th>25%</th>\n",
       "      <td>4.500000</td>\n",
       "      <td>2010.000000</td>\n",
       "    </tr>\n",
       "    <tr>\n",
       "      <th>50%</th>\n",
       "      <td>4.600000</td>\n",
       "      <td>2013.000000</td>\n",
       "    </tr>\n",
       "    <tr>\n",
       "      <th>75%</th>\n",
       "      <td>4.800000</td>\n",
       "      <td>2016.000000</td>\n",
       "    </tr>\n",
       "    <tr>\n",
       "      <th>max</th>\n",
       "      <td>4.900000</td>\n",
       "      <td>2019.000000</td>\n",
       "    </tr>\n",
       "  </tbody>\n",
       "</table>\n",
       "</div>"
      ],
      "text/plain": [
       "           rating         year\n",
       "count  350.000000   350.000000\n",
       "mean     4.608571  2013.508571\n",
       "std      0.226941     3.284711\n",
       "min      3.300000  2009.000000\n",
       "25%      4.500000  2010.000000\n",
       "50%      4.600000  2013.000000\n",
       "75%      4.800000  2016.000000\n",
       "max      4.900000  2019.000000"
      ]
     },
     "execution_count": 4,
     "metadata": {},
     "output_type": "execute_result"
    }
   ],
   "source": [
    "books.describe()"
   ]
  },
  {
   "cell_type": "code",
   "execution_count": 6,
   "id": "559df032",
   "metadata": {},
   "outputs": [
    {
     "data": {
      "image/png": "[encoded data removed]",
      "text/plain": [
       "<Figure size 432x288 with 1 Axes>"
      ]
     },
     "metadata": {
      "needs_background": "light"
     },
     "output_type": "display_data"
    }
   ],
   "source": [
    "import seaborn as sns\n",
    "import matplotlib.pyplot as plt\n",
    "sns.histplot(data=books, x=\"rating\", binwidth=0.1);"
   ]
  },
  {
   "cell_type": "code",
   "execution_count": 7,
   "id": "1eacf590",
   "metadata": {},
   "outputs": [],
   "source": [
    "unemp = 'https://assets.datacamp.com/production/repositories/6180/datasets/a7e05e14dfd1aa575314dd9a0d8df74a14341c4e/clean_unemployment.csv'\n",
    "unemployment = pd.read_csv(unemp)"
   ]
  },
  {
   "cell_type": "code",
   "execution_count": 8,
   "id": "aa4cf709",
   "metadata": {},
   "outputs": [
    {
     "data": {
      "text/html": [
       "<div>\n",
       "<style scoped>\n",
       "    .dataframe tbody tr th:only-of-type {\n",
       "        vertical-align: middle;\n",
       "    }\n",
       "\n",
       "    .dataframe tbody tr th {\n",
       "        vertical-align: top;\n",
       "    }\n",
       "\n",
       "    .dataframe thead th {\n",
       "        text-align: right;\n",
       "    }\n",
       "</style>\n",
       "<table border=\"1\" class=\"dataframe\">\n",
       "  <thead>\n",
       "    <tr style=\"text-align: right;\">\n",
       "      <th></th>\n",
       "      <th>country_code</th>\n",
       "      <th>country_name</th>\n",
       "      <th>continent</th>\n",
       "      <th>2010</th>\n",
       "      <th>2011</th>\n",
       "      <th>2012</th>\n",
       "      <th>2013</th>\n",
       "      <th>2014</th>\n",
       "      <th>2015</th>\n",
       "      <th>2016</th>\n",
       "      <th>2017</th>\n",
       "      <th>2018</th>\n",
       "      <th>2019</th>\n",
       "      <th>2020</th>\n",
       "      <th>2021</th>\n",
       "    </tr>\n",
       "  </thead>\n",
       "  <tbody>\n",
       "    <tr>\n",
       "      <th>0</th>\n",
       "      <td>AFG</td>\n",
       "      <td>Afghanistan</td>\n",
       "      <td>Asia</td>\n",
       "      <td>11.35</td>\n",
       "      <td>11.05</td>\n",
       "      <td>11.34</td>\n",
       "      <td>11.19</td>\n",
       "      <td>11.14</td>\n",
       "      <td>11.13</td>\n",
       "      <td>11.16</td>\n",
       "      <td>11.18</td>\n",
       "      <td>11.15</td>\n",
       "      <td>11.22</td>\n",
       "      <td>11.71</td>\n",
       "      <td>13.28</td>\n",
       "    </tr>\n",
       "    <tr>\n",
       "      <th>1</th>\n",
       "      <td>AGO</td>\n",
       "      <td>Angola</td>\n",
       "      <td>Africa</td>\n",
       "      <td>9.43</td>\n",
       "      <td>7.36</td>\n",
       "      <td>7.35</td>\n",
       "      <td>7.37</td>\n",
       "      <td>7.37</td>\n",
       "      <td>7.39</td>\n",
       "      <td>7.41</td>\n",
       "      <td>7.41</td>\n",
       "      <td>7.42</td>\n",
       "      <td>7.42</td>\n",
       "      <td>8.33</td>\n",
       "      <td>8.53</td>\n",
       "    </tr>\n",
       "    <tr>\n",
       "      <th>2</th>\n",
       "      <td>ALB</td>\n",
       "      <td>Albania</td>\n",
       "      <td>Europe</td>\n",
       "      <td>14.09</td>\n",
       "      <td>13.48</td>\n",
       "      <td>13.38</td>\n",
       "      <td>15.87</td>\n",
       "      <td>18.05</td>\n",
       "      <td>17.19</td>\n",
       "      <td>15.42</td>\n",
       "      <td>13.62</td>\n",
       "      <td>12.30</td>\n",
       "      <td>11.47</td>\n",
       "      <td>13.33</td>\n",
       "      <td>11.82</td>\n",
       "    </tr>\n",
       "    <tr>\n",
       "      <th>3</th>\n",
       "      <td>ARE</td>\n",
       "      <td>United Arab Emirates</td>\n",
       "      <td>Asia</td>\n",
       "      <td>2.48</td>\n",
       "      <td>2.30</td>\n",
       "      <td>2.18</td>\n",
       "      <td>2.04</td>\n",
       "      <td>1.91</td>\n",
       "      <td>1.77</td>\n",
       "      <td>1.64</td>\n",
       "      <td>2.46</td>\n",
       "      <td>2.35</td>\n",
       "      <td>2.23</td>\n",
       "      <td>3.19</td>\n",
       "      <td>3.36</td>\n",
       "    </tr>\n",
       "    <tr>\n",
       "      <th>4</th>\n",
       "      <td>ARG</td>\n",
       "      <td>Argentina</td>\n",
       "      <td>South America</td>\n",
       "      <td>7.71</td>\n",
       "      <td>7.18</td>\n",
       "      <td>7.22</td>\n",
       "      <td>7.10</td>\n",
       "      <td>7.27</td>\n",
       "      <td>7.52</td>\n",
       "      <td>8.11</td>\n",
       "      <td>8.35</td>\n",
       "      <td>9.22</td>\n",
       "      <td>9.84</td>\n",
       "      <td>11.46</td>\n",
       "      <td>10.90</td>\n",
       "    </tr>\n",
       "  </tbody>\n",
       "</table>\n",
       "</div>"
      ],
      "text/plain": [
       "  country_code          country_name      continent   2010   2011   2012  \\\n",
       "0          AFG           Afghanistan           Asia  11.35  11.05  11.34   \n",
       "1          AGO                Angola         Africa   9.43   7.36   7.35   \n",
       "2          ALB               Albania         Europe  14.09  13.48  13.38   \n",
       "3          ARE  United Arab Emirates           Asia   2.48   2.30   2.18   \n",
       "4          ARG             Argentina  South America   7.71   7.18   7.22   \n",
       "\n",
       "    2013   2014   2015   2016   2017   2018   2019   2020   2021  \n",
       "0  11.19  11.14  11.13  11.16  11.18  11.15  11.22  11.71  13.28  \n",
       "1   7.37   7.37   7.39   7.41   7.41   7.42   7.42   8.33   8.53  \n",
       "2  15.87  18.05  17.19  15.42  13.62  12.30  11.47  13.33  11.82  \n",
       "3   2.04   1.91   1.77   1.64   2.46   2.35   2.23   3.19   3.36  \n",
       "4   7.10   7.27   7.52   8.11   8.35   9.22   9.84  11.46  10.90  "
      ]
     },
     "execution_count": 8,
     "metadata": {},
     "output_type": "execute_result"
    }
   ],
   "source": [
    "unemployment.head()"
   ]
  },
  {
   "cell_type": "code",
   "execution_count": 9,
   "id": "acd983ad",
   "metadata": {},
   "outputs": [
    {
     "name": "stdout",
     "output_type": "stream",
     "text": [
      "<class 'pandas.core.frame.DataFrame'>\n",
      "RangeIndex: 182 entries, 0 to 181\n",
      "Data columns (total 15 columns):\n",
      " #   Column        Non-Null Count  Dtype  \n",
      "---  ------        --------------  -----  \n",
      " 0   country_code  182 non-null    object \n",
      " 1   country_name  182 non-null    object \n",
      " 2   continent     177 non-null    object \n",
      " 3   2010          182 non-null    float64\n",
      " 4   2011          182 non-null    float64\n",
      " 5   2012          182 non-null    float64\n",
      " 6   2013          182 non-null    float64\n",
      " 7   2014          182 non-null    float64\n",
      " 8   2015          182 non-null    float64\n",
      " 9   2016          182 non-null    float64\n",
      " 10  2017          182 non-null    float64\n",
      " 11  2018          182 non-null    float64\n",
      " 12  2019          182 non-null    float64\n",
      " 13  2020          182 non-null    float64\n",
      " 14  2021          182 non-null    float64\n",
      "dtypes: float64(12), object(3)\n",
      "memory usage: 21.5+ KB\n"
     ]
    }
   ],
   "source": [
    "unemployment.info()"
   ]
  },
  {
   "cell_type": "code",
   "execution_count": 10,
   "id": "f4ee525c",
   "metadata": {},
   "outputs": [
    {
     "data": {
      "text/html": [
       "<div>\n",
       "<style scoped>\n",
       "    .dataframe tbody tr th:only-of-type {\n",
       "        vertical-align: middle;\n",
       "    }\n",
       "\n",
       "    .dataframe tbody tr th {\n",
       "        vertical-align: top;\n",
       "    }\n",
       "\n",
       "    .dataframe thead th {\n",
       "        text-align: right;\n",
       "    }\n",
       "</style>\n",
       "<table border=\"1\" class=\"dataframe\">\n",
       "  <thead>\n",
       "    <tr style=\"text-align: right;\">\n",
       "      <th></th>\n",
       "      <th>2010</th>\n",
       "      <th>2011</th>\n",
       "      <th>2012</th>\n",
       "      <th>2013</th>\n",
       "      <th>2014</th>\n",
       "      <th>2015</th>\n",
       "      <th>2016</th>\n",
       "      <th>2017</th>\n",
       "      <th>2018</th>\n",
       "      <th>2019</th>\n",
       "      <th>2020</th>\n",
       "      <th>2021</th>\n",
       "    </tr>\n",
       "  </thead>\n",
       "  <tbody>\n",
       "    <tr>\n",
       "      <th>count</th>\n",
       "      <td>182.000000</td>\n",
       "      <td>182.000000</td>\n",
       "      <td>182.000000</td>\n",
       "      <td>182.000000</td>\n",
       "      <td>182.000000</td>\n",
       "      <td>182.000000</td>\n",
       "      <td>182.000000</td>\n",
       "      <td>182.000000</td>\n",
       "      <td>182.000000</td>\n",
       "      <td>182.000000</td>\n",
       "      <td>182.000000</td>\n",
       "      <td>182.000000</td>\n",
       "    </tr>\n",
       "    <tr>\n",
       "      <th>mean</th>\n",
       "      <td>8.409286</td>\n",
       "      <td>8.315440</td>\n",
       "      <td>8.317967</td>\n",
       "      <td>8.344780</td>\n",
       "      <td>8.179670</td>\n",
       "      <td>8.058901</td>\n",
       "      <td>7.925879</td>\n",
       "      <td>7.668626</td>\n",
       "      <td>7.426429</td>\n",
       "      <td>7.243736</td>\n",
       "      <td>8.420934</td>\n",
       "      <td>8.390879</td>\n",
       "    </tr>\n",
       "    <tr>\n",
       "      <th>std</th>\n",
       "      <td>6.248887</td>\n",
       "      <td>6.266795</td>\n",
       "      <td>6.367270</td>\n",
       "      <td>6.416041</td>\n",
       "      <td>6.284241</td>\n",
       "      <td>6.161170</td>\n",
       "      <td>6.045439</td>\n",
       "      <td>5.902152</td>\n",
       "      <td>5.818915</td>\n",
       "      <td>5.696573</td>\n",
       "      <td>6.040915</td>\n",
       "      <td>6.067192</td>\n",
       "    </tr>\n",
       "    <tr>\n",
       "      <th>min</th>\n",
       "      <td>0.450000</td>\n",
       "      <td>0.320000</td>\n",
       "      <td>0.480000</td>\n",
       "      <td>0.250000</td>\n",
       "      <td>0.200000</td>\n",
       "      <td>0.170000</td>\n",
       "      <td>0.150000</td>\n",
       "      <td>0.140000</td>\n",
       "      <td>0.110000</td>\n",
       "      <td>0.100000</td>\n",
       "      <td>0.210000</td>\n",
       "      <td>0.260000</td>\n",
       "    </tr>\n",
       "    <tr>\n",
       "      <th>25%</th>\n",
       "      <td>4.015000</td>\n",
       "      <td>3.775000</td>\n",
       "      <td>3.742500</td>\n",
       "      <td>3.692500</td>\n",
       "      <td>3.625000</td>\n",
       "      <td>3.662500</td>\n",
       "      <td>3.800000</td>\n",
       "      <td>3.690000</td>\n",
       "      <td>3.625000</td>\n",
       "      <td>3.487500</td>\n",
       "      <td>4.285000</td>\n",
       "      <td>4.335000</td>\n",
       "    </tr>\n",
       "    <tr>\n",
       "      <th>50%</th>\n",
       "      <td>6.965000</td>\n",
       "      <td>6.805000</td>\n",
       "      <td>6.690000</td>\n",
       "      <td>6.395000</td>\n",
       "      <td>6.450000</td>\n",
       "      <td>6.170000</td>\n",
       "      <td>5.925000</td>\n",
       "      <td>5.650000</td>\n",
       "      <td>5.375000</td>\n",
       "      <td>5.240000</td>\n",
       "      <td>6.695000</td>\n",
       "      <td>6.425000</td>\n",
       "    </tr>\n",
       "    <tr>\n",
       "      <th>75%</th>\n",
       "      <td>10.957500</td>\n",
       "      <td>11.045000</td>\n",
       "      <td>11.285000</td>\n",
       "      <td>11.310000</td>\n",
       "      <td>10.695000</td>\n",
       "      <td>10.215000</td>\n",
       "      <td>10.245000</td>\n",
       "      <td>10.315000</td>\n",
       "      <td>9.257500</td>\n",
       "      <td>9.445000</td>\n",
       "      <td>11.155000</td>\n",
       "      <td>10.840000</td>\n",
       "    </tr>\n",
       "    <tr>\n",
       "      <th>max</th>\n",
       "      <td>32.020000</td>\n",
       "      <td>31.380000</td>\n",
       "      <td>31.020000</td>\n",
       "      <td>29.000000</td>\n",
       "      <td>28.030000</td>\n",
       "      <td>27.690000</td>\n",
       "      <td>26.540000</td>\n",
       "      <td>27.040000</td>\n",
       "      <td>26.910000</td>\n",
       "      <td>28.470000</td>\n",
       "      <td>29.220000</td>\n",
       "      <td>33.560000</td>\n",
       "    </tr>\n",
       "  </tbody>\n",
       "</table>\n",
       "</div>"
      ],
      "text/plain": [
       "             2010        2011        2012        2013        2014        2015  \\\n",
       "count  182.000000  182.000000  182.000000  182.000000  182.000000  182.000000   \n",
       "mean     8.409286    8.315440    8.317967    8.344780    8.179670    8.058901   \n",
       "std      6.248887    6.266795    6.367270    6.416041    6.284241    6.161170   \n",
       "min      0.450000    0.320000    0.480000    0.250000    0.200000    0.170000   \n",
       "25%      4.015000    3.775000    3.742500    3.692500    3.625000    3.662500   \n",
       "50%      6.965000    6.805000    6.690000    6.395000    6.450000    6.170000   \n",
       "75%     10.957500   11.045000   11.285000   11.310000   10.695000   10.215000   \n",
       "max     32.020000   31.380000   31.020000   29.000000   28.030000   27.690000   \n",
       "\n",
       "             2016        2017        2018        2019        2020        2021  \n",
       "count  182.000000  182.000000  182.000000  182.000000  182.000000  182.000000  \n",
       "mean     7.925879    7.668626    7.426429    7.243736    8.420934    8.390879  \n",
       "std      6.045439    5.902152    5.818915    5.696573    6.040915    6.067192  \n",
       "min      0.150000    0.140000    0.110000    0.100000    0.210000    0.260000  \n",
       "25%      3.800000    3.690000    3.625000    3.487500    4.285000    4.335000  \n",
       "50%      5.925000    5.650000    5.375000    5.240000    6.695000    6.425000  \n",
       "75%     10.245000   10.315000    9.257500    9.445000   11.155000   10.840000  \n",
       "max     26.540000   27.040000   26.910000   28.470000   29.220000   33.560000  "
      ]
     },
     "execution_count": 10,
     "metadata": {},
     "output_type": "execute_result"
    }
   ],
   "source": [
    "unemployment.describe()"
   ]
  },
  {
   "cell_type": "code",
   "execution_count": 11,
   "id": "806091c0",
   "metadata": {},
   "outputs": [
    {
     "data": {
      "text/plain": [
       "continent\n",
       "Africa           53\n",
       "Asia             47\n",
       "Europe           39\n",
       "North America    18\n",
       "South America    12\n",
       "Oceania           8\n",
       "dtype: int64"
      ]
     },
     "execution_count": 11,
     "metadata": {},
     "output_type": "execute_result"
    }
   ],
   "source": [
    "unemployment.value_counts(\"continent\")"
   ]
  },
  {
   "cell_type": "code",
   "execution_count": 12,
   "id": "38e65905",
   "metadata": {},
   "outputs": [
    {
     "data": {
      "image/png": "[encoded data removed]",
      "text/plain": [
       "<Figure size 432x288 with 1 Axes>"
      ]
     },
     "metadata": {
      "needs_background": "light"
     },
     "output_type": "display_data"
    }
   ],
   "source": [
    "# Create a histogram of 2021 unemployment; show a full percent in each bin\n",
    "sns.histplot(data=unemployment, x=\"2021\", binwidth=1);"
   ]
  },
  {
   "cell_type": "code",
   "execution_count": 13,
   "id": "c8d8baf6",
   "metadata": {},
   "outputs": [
    {
     "data": {
      "text/plain": [
       "name       object\n",
       "author     object\n",
       "rating    float64\n",
       "year        int64\n",
       "genre      object\n",
       "dtype: object"
      ]
     },
     "execution_count": 13,
     "metadata": {},
     "output_type": "execute_result"
    }
   ],
   "source": [
    "books.dtypes"
   ]
  },
  {
   "cell_type": "code",
   "execution_count": 14,
   "id": "3646d277",
   "metadata": {},
   "outputs": [
    {
     "data": {
      "text/plain": [
       "0       True\n",
       "1       True\n",
       "2       True\n",
       "3       True\n",
       "4      False\n",
       "       ...  \n",
       "345     True\n",
       "346     True\n",
       "347     True\n",
       "348     True\n",
       "349    False\n",
       "Name: genre, Length: 350, dtype: bool"
      ]
     },
     "execution_count": 14,
     "metadata": {},
     "output_type": "execute_result"
    }
   ],
   "source": [
    "#validating categorical data\n",
    "books[\"genre\"].isin([\"Fiction\",\"Non Fiction\"])"
   ]
  },
  {
   "cell_type": "code",
   "execution_count": 15,
   "id": "dd88d792",
   "metadata": {},
   "outputs": [
    {
     "data": {
      "text/plain": [
       "0      False\n",
       "1      False\n",
       "2      False\n",
       "3      False\n",
       "4       True\n",
       "       ...  \n",
       "345    False\n",
       "346    False\n",
       "347    False\n",
       "348    False\n",
       "349     True\n",
       "Name: genre, Length: 350, dtype: bool"
      ]
     },
     "execution_count": 15,
     "metadata": {},
     "output_type": "execute_result"
    }
   ],
   "source": [
    "#invert true values\n",
    "~books[\"genre\"].isin([\"Fiction\",\"Non Fiction\"])"
   ]
  },
  {
   "cell_type": "code",
   "execution_count": 16,
   "id": "789c893d",
   "metadata": {},
   "outputs": [
    {
     "data": {
      "text/html": [
       "<div>\n",
       "<style scoped>\n",
       "    .dataframe tbody tr th:only-of-type {\n",
       "        vertical-align: middle;\n",
       "    }\n",
       "\n",
       "    .dataframe tbody tr th {\n",
       "        vertical-align: top;\n",
       "    }\n",
       "\n",
       "    .dataframe thead th {\n",
       "        text-align: right;\n",
       "    }\n",
       "</style>\n",
       "<table border=\"1\" class=\"dataframe\">\n",
       "  <thead>\n",
       "    <tr style=\"text-align: right;\">\n",
       "      <th></th>\n",
       "      <th>name</th>\n",
       "      <th>author</th>\n",
       "      <th>rating</th>\n",
       "      <th>year</th>\n",
       "      <th>genre</th>\n",
       "    </tr>\n",
       "  </thead>\n",
       "  <tbody>\n",
       "    <tr>\n",
       "      <th>0</th>\n",
       "      <td>10-Day Green Smoothie Cleanse</td>\n",
       "      <td>JJ Smith</td>\n",
       "      <td>4.7</td>\n",
       "      <td>2016</td>\n",
       "      <td>Non Fiction</td>\n",
       "    </tr>\n",
       "    <tr>\n",
       "      <th>1</th>\n",
       "      <td>11/22/63: A Novel</td>\n",
       "      <td>Stephen King</td>\n",
       "      <td>4.6</td>\n",
       "      <td>2011</td>\n",
       "      <td>Fiction</td>\n",
       "    </tr>\n",
       "    <tr>\n",
       "      <th>2</th>\n",
       "      <td>12 Rules for Life: An Antidote to Chaos</td>\n",
       "      <td>Jordan B. Peterson</td>\n",
       "      <td>4.7</td>\n",
       "      <td>2018</td>\n",
       "      <td>Non Fiction</td>\n",
       "    </tr>\n",
       "    <tr>\n",
       "      <th>3</th>\n",
       "      <td>1984 (Signet Classics)</td>\n",
       "      <td>George Orwell</td>\n",
       "      <td>4.7</td>\n",
       "      <td>2017</td>\n",
       "      <td>Fiction</td>\n",
       "    </tr>\n",
       "    <tr>\n",
       "      <th>5</th>\n",
       "      <td>A Dance with Dragons (A Song of Ice and Fire)</td>\n",
       "      <td>George R. R. Martin</td>\n",
       "      <td>4.4</td>\n",
       "      <td>2011</td>\n",
       "      <td>Fiction</td>\n",
       "    </tr>\n",
       "  </tbody>\n",
       "</table>\n",
       "</div>"
      ],
      "text/plain": [
       "                                            name               author  rating  \\\n",
       "0                  10-Day Green Smoothie Cleanse             JJ Smith     4.7   \n",
       "1                              11/22/63: A Novel         Stephen King     4.6   \n",
       "2        12 Rules for Life: An Antidote to Chaos   Jordan B. Peterson     4.7   \n",
       "3                         1984 (Signet Classics)        George Orwell     4.7   \n",
       "5  A Dance with Dragons (A Song of Ice and Fire)  George R. R. Martin     4.4   \n",
       "\n",
       "   year        genre  \n",
       "0  2016  Non Fiction  \n",
       "1  2011      Fiction  \n",
       "2  2018  Non Fiction  \n",
       "3  2017      Fiction  \n",
       "5  2011      Fiction  "
      ]
     },
     "execution_count": 16,
     "metadata": {},
     "output_type": "execute_result"
    }
   ],
   "source": [
    "books[books[\"genre\"].isin([\"Fiction\",\"Non Fiction\"])].head()"
   ]
  },
  {
   "cell_type": "code",
   "execution_count": 17,
   "id": "87ec3ef2",
   "metadata": {},
   "outputs": [
    {
     "data": {
      "text/html": [
       "<div>\n",
       "<style scoped>\n",
       "    .dataframe tbody tr th:only-of-type {\n",
       "        vertical-align: middle;\n",
       "    }\n",
       "\n",
       "    .dataframe tbody tr th {\n",
       "        vertical-align: top;\n",
       "    }\n",
       "\n",
       "    .dataframe thead th {\n",
       "        text-align: right;\n",
       "    }\n",
       "</style>\n",
       "<table border=\"1\" class=\"dataframe\">\n",
       "  <thead>\n",
       "    <tr style=\"text-align: right;\">\n",
       "      <th></th>\n",
       "      <th>rating</th>\n",
       "      <th>year</th>\n",
       "    </tr>\n",
       "  </thead>\n",
       "  <tbody>\n",
       "    <tr>\n",
       "      <th>0</th>\n",
       "      <td>4.7</td>\n",
       "      <td>2016</td>\n",
       "    </tr>\n",
       "    <tr>\n",
       "      <th>1</th>\n",
       "      <td>4.6</td>\n",
       "      <td>2011</td>\n",
       "    </tr>\n",
       "    <tr>\n",
       "      <th>2</th>\n",
       "      <td>4.7</td>\n",
       "      <td>2018</td>\n",
       "    </tr>\n",
       "    <tr>\n",
       "      <th>3</th>\n",
       "      <td>4.7</td>\n",
       "      <td>2017</td>\n",
       "    </tr>\n",
       "    <tr>\n",
       "      <th>4</th>\n",
       "      <td>4.8</td>\n",
       "      <td>2019</td>\n",
       "    </tr>\n",
       "  </tbody>\n",
       "</table>\n",
       "</div>"
      ],
      "text/plain": [
       "   rating  year\n",
       "0     4.7  2016\n",
       "1     4.6  2011\n",
       "2     4.7  2018\n",
       "3     4.7  2017\n",
       "4     4.8  2019"
      ]
     },
     "execution_count": 17,
     "metadata": {},
     "output_type": "execute_result"
    }
   ],
   "source": [
    "#validating numerical data\n",
    "books.select_dtypes(\"number\").head()"
   ]
  },
  {
   "cell_type": "code",
   "execution_count": 18,
   "id": "82cbc55c",
   "metadata": {},
   "outputs": [
    {
     "data": {
      "text/plain": [
       "2009"
      ]
     },
     "execution_count": 18,
     "metadata": {},
     "output_type": "execute_result"
    }
   ],
   "source": [
    "books[\"year\"].min()"
   ]
  },
  {
   "cell_type": "code",
   "execution_count": 19,
   "id": "285b2b8a",
   "metadata": {},
   "outputs": [
    {
     "data": {
      "text/plain": [
       "2019"
      ]
     },
     "execution_count": 19,
     "metadata": {},
     "output_type": "execute_result"
    }
   ],
   "source": [
    "books[\"year\"].max()"
   ]
  },
  {
   "cell_type": "code",
   "execution_count": 22,
   "id": "9445ef04",
   "metadata": {},
   "outputs": [
    {
     "data": {
      "image/png": "[encoded data removed]",
      "text/plain": [
       "<Figure size 432x288 with 1 Axes>"
      ]
     },
     "metadata": {
      "needs_background": "light"
     },
     "output_type": "display_data"
    }
   ],
   "source": [
    "sns.boxplot(data=books, x=\"year\");"
   ]
  },
  {
   "cell_type": "code",
   "execution_count": 23,
   "id": "54755031",
   "metadata": {},
   "outputs": [
    {
     "data": {
      "image/png": "[encoded data removed]",
      "text/plain": [
       "<Figure size 432x288 with 1 Axes>"
      ]
     },
     "metadata": {
      "needs_background": "light"
     },
     "output_type": "display_data"
    }
   ],
   "source": [
    "sns.boxplot(data=books, x=\"year\", y=\"genre\");"
   ]
  },
  {
   "cell_type": "code",
   "execution_count": 24,
   "id": "c0f14e49",
   "metadata": {},
   "outputs": [
    {
     "data": {
      "text/plain": [
       "country_code     object\n",
       "country_name     object\n",
       "continent        object\n",
       "2010            float64\n",
       "2011            float64\n",
       "2012            float64\n",
       "2013            float64\n",
       "2014            float64\n",
       "2015            float64\n",
       "2016            float64\n",
       "2017            float64\n",
       "2018            float64\n",
       "2019            float64\n",
       "2020            float64\n",
       "2021            float64\n",
       "dtype: object"
      ]
     },
     "execution_count": 24,
     "metadata": {},
     "output_type": "execute_result"
    }
   ],
   "source": [
    "unemployment.dtypes"
   ]
  },
  {
   "cell_type": "code",
   "execution_count": 25,
   "id": "fde3d722",
   "metadata": {},
   "outputs": [
    {
     "data": {
      "text/html": [
       "<div>\n",
       "<style scoped>\n",
       "    .dataframe tbody tr th:only-of-type {\n",
       "        vertical-align: middle;\n",
       "    }\n",
       "\n",
       "    .dataframe tbody tr th {\n",
       "        vertical-align: top;\n",
       "    }\n",
       "\n",
       "    .dataframe thead th {\n",
       "        text-align: right;\n",
       "    }\n",
       "</style>\n",
       "<table border=\"1\" class=\"dataframe\">\n",
       "  <thead>\n",
       "    <tr style=\"text-align: right;\">\n",
       "      <th></th>\n",
       "      <th>2010</th>\n",
       "      <th>2011</th>\n",
       "      <th>2012</th>\n",
       "      <th>2013</th>\n",
       "      <th>2014</th>\n",
       "      <th>2015</th>\n",
       "      <th>2016</th>\n",
       "      <th>2017</th>\n",
       "      <th>2018</th>\n",
       "      <th>2019</th>\n",
       "      <th>2020</th>\n",
       "      <th>2021</th>\n",
       "    </tr>\n",
       "  </thead>\n",
       "  <tbody>\n",
       "    <tr>\n",
       "      <th>0</th>\n",
       "      <td>11.35</td>\n",
       "      <td>11.05</td>\n",
       "      <td>11.34</td>\n",
       "      <td>11.19</td>\n",
       "      <td>11.14</td>\n",
       "      <td>11.13</td>\n",
       "      <td>11.16</td>\n",
       "      <td>11.18</td>\n",
       "      <td>11.15</td>\n",
       "      <td>11.22</td>\n",
       "      <td>11.71</td>\n",
       "      <td>13.28</td>\n",
       "    </tr>\n",
       "    <tr>\n",
       "      <th>1</th>\n",
       "      <td>9.43</td>\n",
       "      <td>7.36</td>\n",
       "      <td>7.35</td>\n",
       "      <td>7.37</td>\n",
       "      <td>7.37</td>\n",
       "      <td>7.39</td>\n",
       "      <td>7.41</td>\n",
       "      <td>7.41</td>\n",
       "      <td>7.42</td>\n",
       "      <td>7.42</td>\n",
       "      <td>8.33</td>\n",
       "      <td>8.53</td>\n",
       "    </tr>\n",
       "    <tr>\n",
       "      <th>2</th>\n",
       "      <td>14.09</td>\n",
       "      <td>13.48</td>\n",
       "      <td>13.38</td>\n",
       "      <td>15.87</td>\n",
       "      <td>18.05</td>\n",
       "      <td>17.19</td>\n",
       "      <td>15.42</td>\n",
       "      <td>13.62</td>\n",
       "      <td>12.30</td>\n",
       "      <td>11.47</td>\n",
       "      <td>13.33</td>\n",
       "      <td>11.82</td>\n",
       "    </tr>\n",
       "    <tr>\n",
       "      <th>3</th>\n",
       "      <td>2.48</td>\n",
       "      <td>2.30</td>\n",
       "      <td>2.18</td>\n",
       "      <td>2.04</td>\n",
       "      <td>1.91</td>\n",
       "      <td>1.77</td>\n",
       "      <td>1.64</td>\n",
       "      <td>2.46</td>\n",
       "      <td>2.35</td>\n",
       "      <td>2.23</td>\n",
       "      <td>3.19</td>\n",
       "      <td>3.36</td>\n",
       "    </tr>\n",
       "    <tr>\n",
       "      <th>4</th>\n",
       "      <td>7.71</td>\n",
       "      <td>7.18</td>\n",
       "      <td>7.22</td>\n",
       "      <td>7.10</td>\n",
       "      <td>7.27</td>\n",
       "      <td>7.52</td>\n",
       "      <td>8.11</td>\n",
       "      <td>8.35</td>\n",
       "      <td>9.22</td>\n",
       "      <td>9.84</td>\n",
       "      <td>11.46</td>\n",
       "      <td>10.90</td>\n",
       "    </tr>\n",
       "    <tr>\n",
       "      <th>...</th>\n",
       "      <td>...</td>\n",
       "      <td>...</td>\n",
       "      <td>...</td>\n",
       "      <td>...</td>\n",
       "      <td>...</td>\n",
       "      <td>...</td>\n",
       "      <td>...</td>\n",
       "      <td>...</td>\n",
       "      <td>...</td>\n",
       "      <td>...</td>\n",
       "      <td>...</td>\n",
       "      <td>...</td>\n",
       "    </tr>\n",
       "    <tr>\n",
       "      <th>177</th>\n",
       "      <td>5.73</td>\n",
       "      <td>5.68</td>\n",
       "      <td>8.75</td>\n",
       "      <td>8.67</td>\n",
       "      <td>8.72</td>\n",
       "      <td>8.50</td>\n",
       "      <td>8.31</td>\n",
       "      <td>8.58</td>\n",
       "      <td>8.69</td>\n",
       "      <td>8.41</td>\n",
       "      <td>9.15</td>\n",
       "      <td>9.84</td>\n",
       "    </tr>\n",
       "    <tr>\n",
       "      <th>178</th>\n",
       "      <td>12.83</td>\n",
       "      <td>13.23</td>\n",
       "      <td>13.17</td>\n",
       "      <td>13.27</td>\n",
       "      <td>13.47</td>\n",
       "      <td>13.77</td>\n",
       "      <td>13.43</td>\n",
       "      <td>13.30</td>\n",
       "      <td>13.15</td>\n",
       "      <td>13.06</td>\n",
       "      <td>13.39</td>\n",
       "      <td>13.57</td>\n",
       "    </tr>\n",
       "    <tr>\n",
       "      <th>179</th>\n",
       "      <td>24.68</td>\n",
       "      <td>24.64</td>\n",
       "      <td>24.73</td>\n",
       "      <td>24.56</td>\n",
       "      <td>24.89</td>\n",
       "      <td>25.15</td>\n",
       "      <td>26.54</td>\n",
       "      <td>27.04</td>\n",
       "      <td>26.91</td>\n",
       "      <td>28.47</td>\n",
       "      <td>29.22</td>\n",
       "      <td>33.56</td>\n",
       "    </tr>\n",
       "    <tr>\n",
       "      <th>180</th>\n",
       "      <td>13.19</td>\n",
       "      <td>10.55</td>\n",
       "      <td>7.85</td>\n",
       "      <td>8.61</td>\n",
       "      <td>9.36</td>\n",
       "      <td>10.13</td>\n",
       "      <td>10.87</td>\n",
       "      <td>11.63</td>\n",
       "      <td>12.01</td>\n",
       "      <td>12.52</td>\n",
       "      <td>12.85</td>\n",
       "      <td>13.03</td>\n",
       "    </tr>\n",
       "    <tr>\n",
       "      <th>181</th>\n",
       "      <td>5.21</td>\n",
       "      <td>5.37</td>\n",
       "      <td>5.15</td>\n",
       "      <td>4.98</td>\n",
       "      <td>4.77</td>\n",
       "      <td>4.78</td>\n",
       "      <td>4.79</td>\n",
       "      <td>4.78</td>\n",
       "      <td>4.80</td>\n",
       "      <td>4.83</td>\n",
       "      <td>5.35</td>\n",
       "      <td>5.17</td>\n",
       "    </tr>\n",
       "  </tbody>\n",
       "</table>\n",
       "<p>182 rows × 12 columns</p>\n",
       "</div>"
      ],
      "text/plain": [
       "      2010   2011   2012   2013   2014   2015   2016   2017   2018   2019  \\\n",
       "0    11.35  11.05  11.34  11.19  11.14  11.13  11.16  11.18  11.15  11.22   \n",
       "1     9.43   7.36   7.35   7.37   7.37   7.39   7.41   7.41   7.42   7.42   \n",
       "2    14.09  13.48  13.38  15.87  18.05  17.19  15.42  13.62  12.30  11.47   \n",
       "3     2.48   2.30   2.18   2.04   1.91   1.77   1.64   2.46   2.35   2.23   \n",
       "4     7.71   7.18   7.22   7.10   7.27   7.52   8.11   8.35   9.22   9.84   \n",
       "..     ...    ...    ...    ...    ...    ...    ...    ...    ...    ...   \n",
       "177   5.73   5.68   8.75   8.67   8.72   8.50   8.31   8.58   8.69   8.41   \n",
       "178  12.83  13.23  13.17  13.27  13.47  13.77  13.43  13.30  13.15  13.06   \n",
       "179  24.68  24.64  24.73  24.56  24.89  25.15  26.54  27.04  26.91  28.47   \n",
       "180  13.19  10.55   7.85   8.61   9.36  10.13  10.87  11.63  12.01  12.52   \n",
       "181   5.21   5.37   5.15   4.98   4.77   4.78   4.79   4.78   4.80   4.83   \n",
       "\n",
       "      2020   2021  \n",
       "0    11.71  13.28  \n",
       "1     8.33   8.53  \n",
       "2    13.33  11.82  \n",
       "3     3.19   3.36  \n",
       "4    11.46  10.90  \n",
       "..     ...    ...  \n",
       "177   9.15   9.84  \n",
       "178  13.39  13.57  \n",
       "179  29.22  33.56  \n",
       "180  12.85  13.03  \n",
       "181   5.35   5.17  \n",
       "\n",
       "[182 rows x 12 columns]"
      ]
     },
     "execution_count": 25,
     "metadata": {},
     "output_type": "execute_result"
    }
   ],
   "source": [
    "unemployment.select_dtypes('float')"
   ]
  },
  {
   "cell_type": "code",
   "execution_count": 26,
   "id": "381a3982",
   "metadata": {},
   "outputs": [],
   "source": [
    "not_oceania = ~unemployment[\"continent\"].isin([\"Oceania\"])"
   ]
  },
  {
   "cell_type": "code",
   "execution_count": 27,
   "id": "f17673d9",
   "metadata": {},
   "outputs": [
    {
     "name": "stdout",
     "output_type": "stream",
     "text": [
      "    country_code          country_name      continent   2010   2011   2012  \\\n",
      "0            AFG           Afghanistan           Asia  11.35  11.05  11.34   \n",
      "1            AGO                Angola         Africa   9.43   7.36   7.35   \n",
      "2            ALB               Albania         Europe  14.09  13.48  13.38   \n",
      "3            ARE  United Arab Emirates           Asia   2.48   2.30   2.18   \n",
      "4            ARG             Argentina  South America   7.71   7.18   7.22   \n",
      "..           ...                   ...            ...    ...    ...    ...   \n",
      "175          VNM               Vietnam           Asia   1.11   1.00   1.03   \n",
      "178          YEM           Yemen, Rep.           Asia  12.83  13.23  13.17   \n",
      "179          ZAF          South Africa         Africa  24.68  24.64  24.73   \n",
      "180          ZMB                Zambia         Africa  13.19  10.55   7.85   \n",
      "181          ZWE              Zimbabwe         Africa   5.21   5.37   5.15   \n",
      "\n",
      "      2013   2014   2015   2016   2017   2018   2019   2020   2021  \n",
      "0    11.19  11.14  11.13  11.16  11.18  11.15  11.22  11.71  13.28  \n",
      "1     7.37   7.37   7.39   7.41   7.41   7.42   7.42   8.33   8.53  \n",
      "2    15.87  18.05  17.19  15.42  13.62  12.30  11.47  13.33  11.82  \n",
      "3     2.04   1.91   1.77   1.64   2.46   2.35   2.23   3.19   3.36  \n",
      "4     7.10   7.27   7.52   8.11   8.35   9.22   9.84  11.46  10.90  \n",
      "..     ...    ...    ...    ...    ...    ...    ...    ...    ...  \n",
      "175   1.32   1.26   1.85   1.85   1.87   1.16   2.04   2.39   2.17  \n",
      "178  13.27  13.47  13.77  13.43  13.30  13.15  13.06  13.39  13.57  \n",
      "179  24.56  24.89  25.15  26.54  27.04  26.91  28.47  29.22  33.56  \n",
      "180   8.61   9.36  10.13  10.87  11.63  12.01  12.52  12.85  13.03  \n",
      "181   4.98   4.77   4.78   4.79   4.78   4.80   4.83   5.35   5.17  \n",
      "\n",
      "[174 rows x 15 columns]\n"
     ]
    }
   ],
   "source": [
    "# Print unemployment without records related to countries in Oceania\n",
    "print(unemployment[not_oceania])"
   ]
  },
  {
   "cell_type": "code",
   "execution_count": 29,
   "id": "abe05e0f",
   "metadata": {},
   "outputs": [
    {
     "name": "stdout",
     "output_type": "stream",
     "text": [
      "0.26 33.56\n"
     ]
    },
    {
     "data": {
      "image/png": "[encoded data removed]",
      "text/plain": [
       "<Figure size 432x288 with 1 Axes>"
      ]
     },
     "metadata": {
      "needs_background": "light"
     },
     "output_type": "display_data"
    }
   ],
   "source": [
    "# Print the minimum and maximum unemployment rates during 2021\n",
    "print(unemployment['2021'].min(), unemployment['2021'].max())\n",
    "\n",
    "# Create a boxplot of 2021 unemployment rates, broken down by continent\n",
    "sns.boxplot(data=unemployment, x='2021',y=\"continent\");"
   ]
  },
  {
   "cell_type": "code",
   "execution_count": 30,
   "id": "c673695b",
   "metadata": {},
   "outputs": [
    {
     "data": {
      "text/html": [
       "<div>\n",
       "<style scoped>\n",
       "    .dataframe tbody tr th:only-of-type {\n",
       "        vertical-align: middle;\n",
       "    }\n",
       "\n",
       "    .dataframe tbody tr th {\n",
       "        vertical-align: top;\n",
       "    }\n",
       "\n",
       "    .dataframe thead th {\n",
       "        text-align: right;\n",
       "    }\n",
       "</style>\n",
       "<table border=\"1\" class=\"dataframe\">\n",
       "  <thead>\n",
       "    <tr style=\"text-align: right;\">\n",
       "      <th></th>\n",
       "      <th>rating</th>\n",
       "      <th>year</th>\n",
       "    </tr>\n",
       "    <tr>\n",
       "      <th>genre</th>\n",
       "      <th></th>\n",
       "      <th></th>\n",
       "    </tr>\n",
       "  </thead>\n",
       "  <tbody>\n",
       "    <tr>\n",
       "      <th>Childrens</th>\n",
       "      <td>4.780000</td>\n",
       "      <td>2015.075000</td>\n",
       "    </tr>\n",
       "    <tr>\n",
       "      <th>Fiction</th>\n",
       "      <td>4.570229</td>\n",
       "      <td>2013.022901</td>\n",
       "    </tr>\n",
       "    <tr>\n",
       "      <th>Non Fiction</th>\n",
       "      <td>4.598324</td>\n",
       "      <td>2013.513966</td>\n",
       "    </tr>\n",
       "  </tbody>\n",
       "</table>\n",
       "</div>"
      ],
      "text/plain": [
       "               rating         year\n",
       "genre                             \n",
       "Childrens    4.780000  2015.075000\n",
       "Fiction      4.570229  2013.022901\n",
       "Non Fiction  4.598324  2013.513966"
      ]
     },
     "execution_count": 30,
     "metadata": {},
     "output_type": "execute_result"
    }
   ],
   "source": [
    "books.groupby(\"genre\").mean()"
   ]
  },
  {
   "cell_type": "code",
   "execution_count": 33,
   "id": "39075f1e",
   "metadata": {},
   "outputs": [
    {
     "data": {
      "text/html": [
       "<div>\n",
       "<style scoped>\n",
       "    .dataframe tbody tr th:only-of-type {\n",
       "        vertical-align: middle;\n",
       "    }\n",
       "\n",
       "    .dataframe tbody tr th {\n",
       "        vertical-align: top;\n",
       "    }\n",
       "\n",
       "    .dataframe thead th {\n",
       "        text-align: right;\n",
       "    }\n",
       "</style>\n",
       "<table border=\"1\" class=\"dataframe\">\n",
       "  <thead>\n",
       "    <tr style=\"text-align: right;\">\n",
       "      <th></th>\n",
       "      <th>rating</th>\n",
       "      <th>year</th>\n",
       "    </tr>\n",
       "  </thead>\n",
       "  <tbody>\n",
       "    <tr>\n",
       "      <th>mean</th>\n",
       "      <td>4.608571</td>\n",
       "      <td>2013.508571</td>\n",
       "    </tr>\n",
       "    <tr>\n",
       "      <th>std</th>\n",
       "      <td>0.226941</td>\n",
       "      <td>3.284711</td>\n",
       "    </tr>\n",
       "    <tr>\n",
       "      <th>var</th>\n",
       "      <td>0.051502</td>\n",
       "      <td>10.789325</td>\n",
       "    </tr>\n",
       "  </tbody>\n",
       "</table>\n",
       "</div>"
      ],
      "text/plain": [
       "        rating         year\n",
       "mean  4.608571  2013.508571\n",
       "std   0.226941     3.284711\n",
       "var   0.051502    10.789325"
      ]
     },
     "execution_count": 33,
     "metadata": {},
     "output_type": "execute_result"
    }
   ],
   "source": [
    "books.agg([\"mean\", \"std\",\"var\"])"
   ]
  },
  {
   "cell_type": "code",
   "execution_count": 34,
   "id": "7dcbff95",
   "metadata": {},
   "outputs": [
    {
     "data": {
      "text/html": [
       "<div>\n",
       "<style scoped>\n",
       "    .dataframe tbody tr th:only-of-type {\n",
       "        vertical-align: middle;\n",
       "    }\n",
       "\n",
       "    .dataframe tbody tr th {\n",
       "        vertical-align: top;\n",
       "    }\n",
       "\n",
       "    .dataframe thead th {\n",
       "        text-align: right;\n",
       "    }\n",
       "</style>\n",
       "<table border=\"1\" class=\"dataframe\">\n",
       "  <thead>\n",
       "    <tr style=\"text-align: right;\">\n",
       "      <th></th>\n",
       "      <th>rating</th>\n",
       "      <th>year</th>\n",
       "    </tr>\n",
       "  </thead>\n",
       "  <tbody>\n",
       "    <tr>\n",
       "      <th>mean</th>\n",
       "      <td>4.608571</td>\n",
       "      <td>NaN</td>\n",
       "    </tr>\n",
       "    <tr>\n",
       "      <th>std</th>\n",
       "      <td>0.226941</td>\n",
       "      <td>NaN</td>\n",
       "    </tr>\n",
       "    <tr>\n",
       "      <th>median</th>\n",
       "      <td>NaN</td>\n",
       "      <td>2013.0</td>\n",
       "    </tr>\n",
       "  </tbody>\n",
       "</table>\n",
       "</div>"
      ],
      "text/plain": [
       "          rating    year\n",
       "mean    4.608571     NaN\n",
       "std     0.226941     NaN\n",
       "median       NaN  2013.0"
      ]
     },
     "execution_count": 34,
     "metadata": {},
     "output_type": "execute_result"
    }
   ],
   "source": [
    "#Specifying aggregations for columns\n",
    "books.agg({\"rating\":[\"mean\",\"std\"], \"year\":[\"median\"]})"
   ]
  },
  {
   "cell_type": "code",
   "execution_count": 35,
   "id": "9347881e",
   "metadata": {},
   "outputs": [
    {
     "data": {
      "text/html": [
       "<div>\n",
       "<style scoped>\n",
       "    .dataframe tbody tr th:only-of-type {\n",
       "        vertical-align: middle;\n",
       "    }\n",
       "\n",
       "    .dataframe tbody tr th {\n",
       "        vertical-align: top;\n",
       "    }\n",
       "\n",
       "    .dataframe thead tr th {\n",
       "        text-align: left;\n",
       "    }\n",
       "\n",
       "    .dataframe thead tr:last-of-type th {\n",
       "        text-align: right;\n",
       "    }\n",
       "</style>\n",
       "<table border=\"1\" class=\"dataframe\">\n",
       "  <thead>\n",
       "    <tr>\n",
       "      <th></th>\n",
       "      <th colspan=\"2\" halign=\"left\">rating</th>\n",
       "      <th>year</th>\n",
       "    </tr>\n",
       "    <tr>\n",
       "      <th></th>\n",
       "      <th>mean</th>\n",
       "      <th>std</th>\n",
       "      <th>median</th>\n",
       "    </tr>\n",
       "    <tr>\n",
       "      <th>genre</th>\n",
       "      <th></th>\n",
       "      <th></th>\n",
       "      <th></th>\n",
       "    </tr>\n",
       "  </thead>\n",
       "  <tbody>\n",
       "    <tr>\n",
       "      <th>Childrens</th>\n",
       "      <td>4.780000</td>\n",
       "      <td>0.122370</td>\n",
       "      <td>2015.0</td>\n",
       "    </tr>\n",
       "    <tr>\n",
       "      <th>Fiction</th>\n",
       "      <td>4.570229</td>\n",
       "      <td>0.281123</td>\n",
       "      <td>2013.0</td>\n",
       "    </tr>\n",
       "    <tr>\n",
       "      <th>Non Fiction</th>\n",
       "      <td>4.598324</td>\n",
       "      <td>0.179411</td>\n",
       "      <td>2013.0</td>\n",
       "    </tr>\n",
       "  </tbody>\n",
       "</table>\n",
       "</div>"
      ],
      "text/plain": [
       "               rating              year\n",
       "                 mean       std  median\n",
       "genre                                  \n",
       "Childrens    4.780000  0.122370  2015.0\n",
       "Fiction      4.570229  0.281123  2013.0\n",
       "Non Fiction  4.598324  0.179411  2013.0"
      ]
     },
     "execution_count": 35,
     "metadata": {},
     "output_type": "execute_result"
    }
   ],
   "source": [
    "#Specifying aggregations for columns\n",
    "books.groupby(\"genre\").agg({\"rating\":[\"mean\",\"std\"], \"year\":[\"median\"]})"
   ]
  },
  {
   "cell_type": "code",
   "execution_count": 36,
   "id": "fd4f7364",
   "metadata": {},
   "outputs": [
    {
     "data": {
      "text/html": [
       "<div>\n",
       "<style scoped>\n",
       "    .dataframe tbody tr th:only-of-type {\n",
       "        vertical-align: middle;\n",
       "    }\n",
       "\n",
       "    .dataframe tbody tr th {\n",
       "        vertical-align: top;\n",
       "    }\n",
       "\n",
       "    .dataframe thead th {\n",
       "        text-align: right;\n",
       "    }\n",
       "</style>\n",
       "<table border=\"1\" class=\"dataframe\">\n",
       "  <thead>\n",
       "    <tr style=\"text-align: right;\">\n",
       "      <th></th>\n",
       "      <th>mean_rating</th>\n",
       "      <th>std_rating</th>\n",
       "      <th>median_year</th>\n",
       "    </tr>\n",
       "    <tr>\n",
       "      <th>genre</th>\n",
       "      <th></th>\n",
       "      <th></th>\n",
       "      <th></th>\n",
       "    </tr>\n",
       "  </thead>\n",
       "  <tbody>\n",
       "    <tr>\n",
       "      <th>Childrens</th>\n",
       "      <td>4.780000</td>\n",
       "      <td>0.122370</td>\n",
       "      <td>2015.0</td>\n",
       "    </tr>\n",
       "    <tr>\n",
       "      <th>Fiction</th>\n",
       "      <td>4.570229</td>\n",
       "      <td>0.281123</td>\n",
       "      <td>2013.0</td>\n",
       "    </tr>\n",
       "    <tr>\n",
       "      <th>Non Fiction</th>\n",
       "      <td>4.598324</td>\n",
       "      <td>0.179411</td>\n",
       "      <td>2013.0</td>\n",
       "    </tr>\n",
       "  </tbody>\n",
       "</table>\n",
       "</div>"
      ],
      "text/plain": [
       "             mean_rating  std_rating  median_year\n",
       "genre                                            \n",
       "Childrens       4.780000    0.122370       2015.0\n",
       "Fiction         4.570229    0.281123       2013.0\n",
       "Non Fiction     4.598324    0.179411       2013.0"
      ]
     },
     "execution_count": 36,
     "metadata": {},
     "output_type": "execute_result"
    }
   ],
   "source": [
    "#named summary columns\n",
    "books.groupby(\"genre\").agg(\n",
    "    mean_rating=(\"rating\",\"mean\"),\n",
    "    std_rating=(\"rating\", \"std\"),\n",
    "    median_year=(\"year\",\"median\")\n",
    ")"
   ]
  },
  {
   "cell_type": "code",
   "execution_count": 37,
   "id": "b6f9787d",
   "metadata": {},
   "outputs": [
    {
     "data": {
      "image/png": "[encoded data removed]",
      "text/plain": [
       "<Figure size 432x288 with 1 Axes>"
      ]
     },
     "metadata": {
      "needs_background": "light"
     },
     "output_type": "display_data"
    }
   ],
   "source": [
    "sns.barplot(data=books, x=\"genre\",y=\"rating\");"
   ]
  },
  {
   "cell_type": "code",
   "execution_count": 38,
   "id": "4d86c7e1",
   "metadata": {},
   "outputs": [
    {
     "name": "stdout",
     "output_type": "stream",
     "text": [
      "<class 'pandas.core.frame.DataFrame'>\n",
      "RangeIndex: 607 entries, 0 to 606\n",
      "Data columns (total 8 columns):\n",
      " #   Column                Non-Null Count  Dtype  \n",
      "---  ------                --------------  -----  \n",
      " 0   Working_Year          607 non-null    int64  \n",
      " 1   Designation           607 non-null    object \n",
      " 2   Experience            607 non-null    object \n",
      " 3   Employment_Status     607 non-null    object \n",
      " 4   Employee_Location     607 non-null    object \n",
      " 5   Company_Size          607 non-null    object \n",
      " 6   Remote_Working_Ratio  607 non-null    int64  \n",
      " 7   Salary_USD            607 non-null    float64\n",
      "dtypes: float64(1), int64(2), object(5)\n",
      "memory usage: 38.1+ KB\n"
     ]
    }
   ],
   "source": [
    "salaries = pd.read_csv('https://assets.datacamp.com/production/repositories/6180/datasets/70d69830a5c5c2143113078aa61f10fbd32a3655/ds_salaries_clean.csv')\n",
    "salaries.info()"
   ]
  },
  {
   "cell_type": "code",
   "execution_count": 39,
   "id": "04fc66f5",
   "metadata": {},
   "outputs": [
    {
     "name": "stdout",
     "output_type": "stream",
     "text": [
      "Working_Year            0\n",
      "Designation             0\n",
      "Experience              0\n",
      "Employment_Status       0\n",
      "Employee_Location       0\n",
      "Company_Size            0\n",
      "Remote_Working_Ratio    0\n",
      "Salary_USD              0\n",
      "dtype: int64\n"
     ]
    }
   ],
   "source": [
    "#checcking for missing values\n",
    "print(salaries.isna().sum())"
   ]
  },
  {
   "cell_type": "code",
   "execution_count": 40,
   "id": "466285d6",
   "metadata": {},
   "outputs": [],
   "source": [
    "#drop missing values 5% or less of total_values\n",
    "threshold = len(salaries) * 0.05\n",
    "cols_to_drop = salaries.columns[salaries.isna().sum() <= threshold]"
   ]
  },
  {
   "cell_type": "code",
   "execution_count": null,
   "id": "57fabcbf",
   "metadata": {},
   "outputs": [],
   "source": [
    "#dropping missing values\n",
    "salaries.dropna(subset=cols_to_drop, inplace=True)"
   ]
  },
  {
   "cell_type": "code",
   "execution_count": null,
   "id": "7ded1da3",
   "metadata": {},
   "outputs": [],
   "source": [
    "#imputing a summary statistic\n",
    "cols_with_missing_values = salaries.columns[saalries.isna().sum() > 0]\n",
    "print(cols_with_missing_values)\n",
    "\n",
    "for col in cols_with_missing_values[:-1]:\n",
    "    salaries[col].fillna(salaries[col].mode()[0])\n",
    "print(salaries.isna().sum())"
   ]
  },
  {
   "cell_type": "code",
   "execution_count": 41,
   "id": "e7db1b4d",
   "metadata": {},
   "outputs": [
    {
     "name": "stdout",
     "output_type": "stream",
     "text": [
      "{'Entry': 53948.0, 'Executive': 163694.5, 'Mid': 73465.0, 'Senior': 129380.0}\n"
     ]
    }
   ],
   "source": [
    "#imputing by subgroup\n",
    "salaries_dict = salaries.groupby(\"Experience\")[\"Salary_USD\"].median().to_dict()\n",
    "print(salaries_dict)"
   ]
  },
  {
   "cell_type": "code",
   "execution_count": null,
   "id": "fc747716",
   "metadata": {},
   "outputs": [],
   "source": [
    "salaries[\"Salary_USD\"] = salaries[\"Salary_USD\"].fillna(salaries[\"Experience\"].map(salaries_dict))"
   ]
  },
  {
   "cell_type": "markdown",
   "id": "fdcac488",
   "metadata": {},
   "source": [
    "## EDA of Categorical Data"
   ]
  },
  {
   "cell_type": "code",
   "execution_count": 42,
   "id": "4e5c941d",
   "metadata": {},
   "outputs": [
    {
     "name": "stdout",
     "output_type": "stream",
     "text": [
      "                  Designation Experience Employment_Status Employee_Location  \\\n",
      "0              Data Scientist        Mid                FT                DE   \n",
      "1  Machine Learning Scientist     Senior                FT                JP   \n",
      "2           Big Data Engineer     Senior                FT                GB   \n",
      "3        Product Data Analyst        Mid                FT                HN   \n",
      "4   Machine Learning Engineer     Senior                FT                US   \n",
      "\n",
      "  Company_Size  \n",
      "0            L  \n",
      "1            S  \n",
      "2            M  \n",
      "3            S  \n",
      "4            L  \n"
     ]
    }
   ],
   "source": [
    "print(salaries.select_dtypes(\"object\").head())"
   ]
  },
  {
   "cell_type": "code",
   "execution_count": 43,
   "id": "9b2d17c4",
   "metadata": {},
   "outputs": [
    {
     "name": "stdout",
     "output_type": "stream",
     "text": [
      "Data Scientist                              143\n",
      "Data Engineer                               132\n",
      "Data Analyst                                 97\n",
      "Machine Learning Engineer                    41\n",
      "Research Scientist                           16\n",
      "Data Science Manager                         12\n",
      "Data Architect                               11\n",
      "Big Data Engineer                             8\n",
      "Machine Learning Scientist                    8\n",
      "Principal Data Scientist                      7\n",
      "AI Scientist                                  7\n",
      "Data Science Consultant                       7\n",
      "Director of Data Science                      7\n",
      "Data Analytics Manager                        7\n",
      "ML Engineer                                   6\n",
      "Computer Vision Engineer                      6\n",
      "BI Data Analyst                               6\n",
      "Lead Data Engineer                            6\n",
      "Data Engineering Manager                      5\n",
      "Business Data Analyst                         5\n",
      "Head of Data                                  5\n",
      "Applied Data Scientist                        5\n",
      "Applied Machine Learning Scientist            4\n",
      "Head of Data Science                          4\n",
      "Analytics Engineer                            4\n",
      "Data Analytics Engineer                       4\n",
      "Machine Learning Developer                    3\n",
      "Machine Learning Infrastructure Engineer      3\n",
      "Lead Data Scientist                           3\n",
      "Computer Vision Software Engineer             3\n",
      "Lead Data Analyst                             3\n",
      "Data Science Engineer                         3\n",
      "Principal Data Engineer                       3\n",
      "Principal Data Analyst                        2\n",
      "ETL Developer                                 2\n",
      "Product Data Analyst                          2\n",
      "Director of Data Engineering                  2\n",
      "Financial Data Analyst                        2\n",
      "Cloud Data Engineer                           2\n",
      "Lead Machine Learning Engineer                1\n",
      "NLP Engineer                                  1\n",
      "Head of Machine Learning                      1\n",
      "3D Computer Vision Researcher                 1\n",
      "Data Specialist                               1\n",
      "Staff Data Scientist                          1\n",
      "Big Data Architect                            1\n",
      "Finance Data Analyst                          1\n",
      "Marketing Data Analyst                        1\n",
      "Machine Learning Manager                      1\n",
      "Data Analytics Lead                           1\n",
      "Name: Designation, dtype: int64\n"
     ]
    }
   ],
   "source": [
    "#frequency of values\n",
    "print(salaries[\"Designation\"].value_counts())"
   ]
  },
  {
   "cell_type": "code",
   "execution_count": 44,
   "id": "81c25401",
   "metadata": {},
   "outputs": [
    {
     "name": "stdout",
     "output_type": "stream",
     "text": [
      "50\n"
     ]
    }
   ],
   "source": [
    "print(salaries[\"Designation\"].nunique())"
   ]
  },
  {
   "cell_type": "code",
   "execution_count": 45,
   "id": "e46d79e4",
   "metadata": {},
   "outputs": [
    {
     "data": {
      "text/plain": [
       "0       True\n",
       "1       True\n",
       "2      False\n",
       "3      False\n",
       "4      False\n",
       "       ...  \n",
       "602    False\n",
       "603    False\n",
       "604    False\n",
       "605    False\n",
       "606     True\n",
       "Name: Designation, Length: 607, dtype: bool"
      ]
     },
     "execution_count": 45,
     "metadata": {},
     "output_type": "execute_result"
    }
   ],
   "source": [
    "#extracting value from categories\n",
    "salaries[\"Designation\"].str.contains(\"Scientist\")"
   ]
  },
  {
   "cell_type": "code",
   "execution_count": 46,
   "id": "24633122",
   "metadata": {},
   "outputs": [
    {
     "data": {
      "text/plain": [
       "0      False\n",
       "1       True\n",
       "2      False\n",
       "3      False\n",
       "4       True\n",
       "       ...  \n",
       "602    False\n",
       "603    False\n",
       "604    False\n",
       "605    False\n",
       "606     True\n",
       "Name: Designation, Length: 607, dtype: bool"
      ]
     },
     "execution_count": 46,
     "metadata": {},
     "output_type": "execute_result"
    }
   ],
   "source": [
    "#finding multple phrases\n",
    "salaries[\"Designation\"].str.contains(\"Machine Learning|AI\")"
   ]
  },
  {
   "cell_type": "code",
   "execution_count": 49,
   "id": "a1fbd211",
   "metadata": {},
   "outputs": [],
   "source": [
    "import numpy as np\n",
    "\n",
    "#finding multiple phrases in strings\n",
    "job_categories = [\"Data Science\",\"Data Analytics\", \"Data Engineering\", \"Machine Learning\",\n",
    "                 \"Managerial\",\"Consultant\"]\n",
    "data_science = \"Data Scientist|NLP\"\n",
    "data_analyst = \"Analyst|Analytics\"\n",
    "data_engineer =\"Data Engineer|ETL|Architect|Infrastructure\"\n",
    "ml_engineer= \"Machine Learning|ML|Big Data|AI\"\n",
    "manager = \"Manager|Head|Director|Lead|Principal|Staff\"\n",
    "consultant = \"Consultant|Freelance\"\n",
    "\n",
    "conditions = [(salaries[\"Designation\"].str.contains(data_science)),\n",
    "              (salaries[\"Designation\"].str.contains(data_analyst)),\n",
    "              (salaries[\"Designation\"].str.contains(data_engineer)),\n",
    "              (salaries[\"Designation\"].str.contains(ml_engineer)),\n",
    "              (salaries[\"Designation\"].str.contains(manager)),\n",
    "              (salaries[\"Designation\"].str.contains(consultant))\n",
    "             ]\n",
    "salaries[\"Job_Category\"] = np.select(conditions,\n",
    "                                    job_categories,\n",
    "                                    default=\"Other\")"
   ]
  },
  {
   "cell_type": "code",
   "execution_count": 50,
   "id": "a73438dc",
   "metadata": {},
   "outputs": [
    {
     "name": "stdout",
     "output_type": "stream",
     "text": [
      "                  Designation      Job_Category\n",
      "0              Data Scientist      Data Science\n",
      "1  Machine Learning Scientist  Machine Learning\n",
      "2           Big Data Engineer  Data Engineering\n",
      "3        Product Data Analyst    Data Analytics\n",
      "4   Machine Learning Engineer  Machine Learning\n"
     ]
    }
   ],
   "source": [
    "#previewing job_categories\n",
    "print(salaries[[\"Designation\",\"Job_Category\"]].head())"
   ]
  },
  {
   "cell_type": "code",
   "execution_count": 51,
   "id": "4590958c",
   "metadata": {},
   "outputs": [
    {
     "data": {
      "image/png": "[encoded data removed]",
      "text/plain": [
       "<Figure size 432x288 with 1 Axes>"
      ]
     },
     "metadata": {
      "needs_background": "light"
     },
     "output_type": "display_data"
    }
   ],
   "source": [
    "#visualize\n",
    "sns.countplot(data=salaries, x=\"Job_Category\");"
   ]
  },
  {
   "cell_type": "code",
   "execution_count": null,
   "id": "ef3e8cc1",
   "metadata": {},
   "outputs": [],
   "source": [
    "# Filter the DataFrame for object columns\n",
    "non_numeric = planes.select_dtypes(\"object\")\n",
    "\n",
    "# Loop through columns\n",
    "for col in non_numeric.columns:\n",
    "  \n",
    "  # Print the number of unique values\n",
    "  print(f\"Number of unique values in {col} column: \", non_numeric[col].nunique())"
   ]
  },
  {
   "cell_type": "code",
   "execution_count": null,
   "id": "924de14e",
   "metadata": {},
   "outputs": [],
   "source": [
    "# Create a list of categories\n",
    "flight_categories = [\"Short-haul\", \"Medium\", \"Long-haul\"]\n",
    "\n",
    "# Create short-haul values\n",
    "short_flights = \"0h|1h|2h|3h|4h\"\n",
    "\n",
    "# Create medium-haul values\n",
    "medium_flights = \"5h|6h|7h|8h|9h\"\n",
    "\n",
    "# Create long-haul values\n",
    "long_flights = \"10h|11h|12h|13h|14h|15h|16h\"\n",
    "\n",
    "# Create conditions for values in flight_categories to be created\n",
    "conditions = [\n",
    "    (planes[\"Duration\"].str.contains(short_flights)),\n",
    "    (planes[\"Duration\"].str.contains(medium_flights)),\n",
    "    (planes[\"Duration\"].str.contains(long_flights))\n",
    "]\n",
    "\n",
    "# Apply the conditions list to the flight_categories\n",
    "planes[\"Duration_Category\"] = np.select(conditions, \n",
    "                                        flight_categories,\n",
    "                                        default=\"Extreme duration\")\n",
    "\n",
    "# Plot the counts of each category\n",
    "sns.countplot(data=planes, x=\"Duration_Category\")\n",
    "plt.show()"
   ]
  },
  {
   "cell_type": "code",
   "execution_count": null,
   "id": "b9af1d0f",
   "metadata": {},
   "outputs": [],
   "source": [
    "## Working with Numeric Data\n",
    "print(salaries[\"Salary_In_Rupees\"].head())\n",
    "#converting strings to numbers\n",
    "#remove commas in the values\n",
    "salaries[\"Salary_In_Rupees\"] = salaries[\"Salary_In_Rupees\"].str.replace(\",\",\"\")\n",
    "\n",
    "#update datatypeto float\n",
    "salaries[\"Salary_In_Rupees\"] = salaries[\"Salary_In_Rupees\"].astype(float)\n",
    "\n",
    "#1 indian rupee = 0.012 USD\n",
    "salaries[\"Salary_USD\"] = salaries[\"Salary_In_Rupees\"] * 0.012"
   ]
  },
  {
   "cell_type": "code",
   "execution_count": 53,
   "id": "81a169b3",
   "metadata": {},
   "outputs": [],
   "source": [
    "#adding summary statistics into a df\n",
    "salaries.groupby(\"Company_Size\")[\"Salary_USD\"].mean()\n",
    "salaries[\"std_dev\"] = salaries.groupby(\"Experience\")[\"Salary_USD\"].transform(lambda x: x.std())"
   ]
  },
  {
   "cell_type": "code",
   "execution_count": 54,
   "id": "d9f774cb",
   "metadata": {},
   "outputs": [
    {
     "name": "stdout",
     "output_type": "stream",
     "text": [
      "Experience  std_dev      \n",
      "Senior      55086.264071     280\n",
      "Mid         61014.876754     213\n",
      "Entry       42390.355189      88\n",
      "Executive   111783.576779     26\n",
      "dtype: int64\n"
     ]
    }
   ],
   "source": [
    "print(salaries[[\"Experience\",\"std_dev\"]].value_counts())"
   ]
  },
  {
   "cell_type": "code",
   "execution_count": 55,
   "id": "0bd7da7f",
   "metadata": {},
   "outputs": [
    {
     "name": "stdout",
     "output_type": "stream",
     "text": [
      "  Company_Size  median_by_comp_size\n",
      "0            L              95483.0\n",
      "1            S              62064.0\n",
      "2            M             108076.0\n",
      "3            S              62064.0\n",
      "4            L              95483.0\n"
     ]
    }
   ],
   "source": [
    "salaries[\"median_by_comp_size\"] = salaries.groupby(\"Company_Size\")\\\n",
    "            [\"Salary_USD\"].transform(lambda x:x.median())\n",
    "print(salaries[[\"Company_Size\", \"median_by_comp_size\"]].head())"
   ]
  },
  {
   "cell_type": "markdown",
   "id": "56eed5a4",
   "metadata": {},
   "source": [
    "### Handling Outliers"
   ]
  },
  {
   "cell_type": "code",
   "execution_count": 56,
   "id": "c845c0c1",
   "metadata": {},
   "outputs": [
    {
     "name": "stdout",
     "output_type": "stream",
     "text": [
      "count       607.000000\n",
      "mean     107225.836903\n",
      "std       67752.393254\n",
      "min        2730.000000\n",
      "25%       59893.000000\n",
      "50%       96982.000000\n",
      "75%      143225.000000\n",
      "max      572900.000000\n",
      "Name: Salary_USD, dtype: float64\n"
     ]
    }
   ],
   "source": [
    "print(salaries.Salary_USD.describe())"
   ]
  },
  {
   "cell_type": "code",
   "execution_count": 58,
   "id": "4f5d0bd4",
   "metadata": {},
   "outputs": [
    {
     "name": "stdout",
     "output_type": "stream",
     "text": [
      "83332.0\n"
     ]
    }
   ],
   "source": [
    "#Identifying threshold\n",
    "#75th percentile\n",
    "seventy_fifth = salaries[\"Salary_USD\"].quantile(0.75)\n",
    "\n",
    "#25th percentile\n",
    "twenty_fifth = salaries[\"Salary_USD\"].quantile(0.25)\n",
    "salaries_iqr = seventy_fifth - twenty_fifth\n",
    "print(salaries_iqr)"
   ]
  },
  {
   "cell_type": "code",
   "execution_count": 60,
   "id": "52f3d7ba",
   "metadata": {},
   "outputs": [
    {
     "name": "stdout",
     "output_type": "stream",
     "text": [
      "268223.0 -65105.0\n"
     ]
    }
   ],
   "source": [
    "upper = seventy_fifth + (1.5*salaries_iqr)\n",
    "lower = twenty_fifth - (1.5*salaries_iqr)\n",
    "print(upper, lower)"
   ]
  },
  {
   "cell_type": "code",
   "execution_count": 61,
   "id": "a55a724b",
   "metadata": {},
   "outputs": [
    {
     "data": {
      "text/html": [
       "<div>\n",
       "<style scoped>\n",
       "    .dataframe tbody tr th:only-of-type {\n",
       "        vertical-align: middle;\n",
       "    }\n",
       "\n",
       "    .dataframe tbody tr th {\n",
       "        vertical-align: top;\n",
       "    }\n",
       "\n",
       "    .dataframe thead th {\n",
       "        text-align: right;\n",
       "    }\n",
       "</style>\n",
       "<table border=\"1\" class=\"dataframe\">\n",
       "  <thead>\n",
       "    <tr style=\"text-align: right;\">\n",
       "      <th></th>\n",
       "      <th>Experience</th>\n",
       "      <th>Employee_Location</th>\n",
       "      <th>Salary_USD</th>\n",
       "    </tr>\n",
       "  </thead>\n",
       "  <tbody>\n",
       "    <tr>\n",
       "      <th>25</th>\n",
       "      <td>Executive</td>\n",
       "      <td>US</td>\n",
       "      <td>310321.0</td>\n",
       "    </tr>\n",
       "    <tr>\n",
       "      <th>33</th>\n",
       "      <td>Mid</td>\n",
       "      <td>US</td>\n",
       "      <td>429675.0</td>\n",
       "    </tr>\n",
       "    <tr>\n",
       "      <th>63</th>\n",
       "      <td>Senior</td>\n",
       "      <td>US</td>\n",
       "      <td>393392.0</td>\n",
       "    </tr>\n",
       "    <tr>\n",
       "      <th>97</th>\n",
       "      <td>Mid</td>\n",
       "      <td>US</td>\n",
       "      <td>429675.0</td>\n",
       "    </tr>\n",
       "    <tr>\n",
       "      <th>157</th>\n",
       "      <td>Mid</td>\n",
       "      <td>US</td>\n",
       "      <td>403895.0</td>\n",
       "    </tr>\n",
       "    <tr>\n",
       "      <th>225</th>\n",
       "      <td>Executive</td>\n",
       "      <td>US</td>\n",
       "      <td>397211.0</td>\n",
       "    </tr>\n",
       "    <tr>\n",
       "      <th>252</th>\n",
       "      <td>Executive</td>\n",
       "      <td>US</td>\n",
       "      <td>572900.0</td>\n",
       "    </tr>\n",
       "    <tr>\n",
       "      <th>482</th>\n",
       "      <td>Executive</td>\n",
       "      <td>US</td>\n",
       "      <td>309366.0</td>\n",
       "    </tr>\n",
       "    <tr>\n",
       "      <th>519</th>\n",
       "      <td>Senior</td>\n",
       "      <td>US</td>\n",
       "      <td>362837.0</td>\n",
       "    </tr>\n",
       "    <tr>\n",
       "      <th>523</th>\n",
       "      <td>Senior</td>\n",
       "      <td>US</td>\n",
       "      <td>386708.0</td>\n",
       "    </tr>\n",
       "  </tbody>\n",
       "</table>\n",
       "</div>"
      ],
      "text/plain": [
       "    Experience Employee_Location  Salary_USD\n",
       "25   Executive                US    310321.0\n",
       "33         Mid                US    429675.0\n",
       "63      Senior                US    393392.0\n",
       "97         Mid                US    429675.0\n",
       "157        Mid                US    403895.0\n",
       "225  Executive                US    397211.0\n",
       "252  Executive                US    572900.0\n",
       "482  Executive                US    309366.0\n",
       "519     Senior                US    362837.0\n",
       "523     Senior                US    386708.0"
      ]
     },
     "execution_count": 61,
     "metadata": {},
     "output_type": "execute_result"
    }
   ],
   "source": [
    "#subsetting our data\n",
    "salaries[(salaries.Salary_USD < lower)|(salaries.Salary_USD > upper)]\\\n",
    "[[\"Experience\",\"Employee_Location\",\"Salary_USD\"]]"
   ]
  },
  {
   "cell_type": "code",
   "execution_count": 62,
   "id": "7d1b9562",
   "metadata": {},
   "outputs": [
    {
     "name": "stdout",
     "output_type": "stream",
     "text": [
      "count       597.000000\n",
      "mean     102328.480737\n",
      "std       55910.790653\n",
      "min        2730.000000\n",
      "25%       59819.000000\n",
      "50%       95483.000000\n",
      "75%      141565.000000\n",
      "max      263534.000000\n",
      "Name: Salary_USD, dtype: float64\n"
     ]
    }
   ],
   "source": [
    "#dropping outliers\n",
    "no_outliers = salaries[(salaries.Salary_USD > lower) & (salaries.Salary_USD < upper)]\n",
    "print(no_outliers[\"Salary_USD\"].describe())"
   ]
  },
  {
   "cell_type": "markdown",
   "id": "6eea7345",
   "metadata": {},
   "source": [
    "## Patterns over Time"
   ]
  },
  {
   "cell_type": "code",
   "execution_count": 74,
   "id": "bb1f542c",
   "metadata": {},
   "outputs": [],
   "source": [
    "div = \"https://assets.datacamp.com/production/repositories/6180/datasets/a200990873d84f5beec93aab5fa0a9b8f93bd71a/divorce.csv\"\n",
    "divorce = pd.read_csv(div, parse_dates=[\"divorce_date\",\"dob_man\",\"dob_woman\",\"marriage_date\"])"
   ]
  },
  {
   "cell_type": "code",
   "execution_count": 75,
   "id": "86c4e85b",
   "metadata": {},
   "outputs": [
    {
     "name": "stdout",
     "output_type": "stream",
     "text": [
      "<class 'pandas.core.frame.DataFrame'>\n",
      "RangeIndex: 2209 entries, 0 to 2208\n",
      "Data columns (total 10 columns):\n",
      " #   Column             Non-Null Count  Dtype         \n",
      "---  ------             --------------  -----         \n",
      " 0   divorce_date       2209 non-null   datetime64[ns]\n",
      " 1   dob_man            2209 non-null   datetime64[ns]\n",
      " 2   education_man      2209 non-null   object        \n",
      " 3   income_man         2209 non-null   float64       \n",
      " 4   dob_woman          2209 non-null   datetime64[ns]\n",
      " 5   education_woman    2209 non-null   object        \n",
      " 6   income_woman       2209 non-null   float64       \n",
      " 7   marriage_date      2209 non-null   datetime64[ns]\n",
      " 8   marriage_duration  2209 non-null   float64       \n",
      " 9   num_kids           1333 non-null   float64       \n",
      "dtypes: datetime64[ns](4), float64(4), object(2)\n",
      "memory usage: 172.7+ KB\n"
     ]
    }
   ],
   "source": [
    "divorce.info()"
   ]
  },
  {
   "cell_type": "code",
   "execution_count": 68,
   "id": "0704b9f9",
   "metadata": {},
   "outputs": [],
   "source": [
    "divorce[\"divorce_date\"] = pd.to_datetime(divorce[\"divorce_date\"])"
   ]
  },
  {
   "cell_type": "code",
   "execution_count": 69,
   "id": "58161bb8",
   "metadata": {},
   "outputs": [
    {
     "name": "stdout",
     "output_type": "stream",
     "text": [
      "<class 'pandas.core.frame.DataFrame'>\n",
      "RangeIndex: 2209 entries, 0 to 2208\n",
      "Data columns (total 10 columns):\n",
      " #   Column             Non-Null Count  Dtype         \n",
      "---  ------             --------------  -----         \n",
      " 0   divorce_date       2209 non-null   datetime64[ns]\n",
      " 1   dob_man            2209 non-null   object        \n",
      " 2   education_man      2209 non-null   object        \n",
      " 3   income_man         2209 non-null   float64       \n",
      " 4   dob_woman          2209 non-null   object        \n",
      " 5   education_woman    2209 non-null   object        \n",
      " 6   income_woman       2209 non-null   float64       \n",
      " 7   marriage_date      2209 non-null   datetime64[ns]\n",
      " 8   marriage_duration  2209 non-null   float64       \n",
      " 9   num_kids           1333 non-null   float64       \n",
      "dtypes: datetime64[ns](2), float64(4), object(4)\n",
      "memory usage: 172.7+ KB\n"
     ]
    }
   ],
   "source": [
    "divorce.info()"
   ]
  },
  {
   "cell_type": "code",
   "execution_count": 70,
   "id": "c67ae31a",
   "metadata": {},
   "outputs": [],
   "source": [
    "divorce[\"marriage_month\"] = divorce[\"marriage_date\"].dt.month"
   ]
  },
  {
   "cell_type": "code",
   "execution_count": 72,
   "id": "8b1b4ef9",
   "metadata": {},
   "outputs": [
    {
     "data": {
      "image/png": "[encoded data removed]",
      "text/plain": [
       "<Figure size 432x288 with 1 Axes>"
      ]
     },
     "metadata": {
      "needs_background": "light"
     },
     "output_type": "display_data"
    }
   ],
   "source": [
    "sns.lineplot(data=divorce, x=\"marriage_month\",y=\"marriage_duration\");"
   ]
  },
  {
   "cell_type": "code",
   "execution_count": 76,
   "id": "d790f419",
   "metadata": {},
   "outputs": [
    {
     "data": {
      "text/html": [
       "<div>\n",
       "<style scoped>\n",
       "    .dataframe tbody tr th:only-of-type {\n",
       "        vertical-align: middle;\n",
       "    }\n",
       "\n",
       "    .dataframe tbody tr th {\n",
       "        vertical-align: top;\n",
       "    }\n",
       "\n",
       "    .dataframe thead th {\n",
       "        text-align: right;\n",
       "    }\n",
       "</style>\n",
       "<table border=\"1\" class=\"dataframe\">\n",
       "  <thead>\n",
       "    <tr style=\"text-align: right;\">\n",
       "      <th></th>\n",
       "      <th>income_man</th>\n",
       "      <th>income_woman</th>\n",
       "      <th>marriage_duration</th>\n",
       "      <th>num_kids</th>\n",
       "    </tr>\n",
       "  </thead>\n",
       "  <tbody>\n",
       "    <tr>\n",
       "      <th>income_man</th>\n",
       "      <td>1.000000</td>\n",
       "      <td>0.318047</td>\n",
       "      <td>0.085321</td>\n",
       "      <td>0.040848</td>\n",
       "    </tr>\n",
       "    <tr>\n",
       "      <th>income_woman</th>\n",
       "      <td>0.318047</td>\n",
       "      <td>1.000000</td>\n",
       "      <td>0.078677</td>\n",
       "      <td>-0.018015</td>\n",
       "    </tr>\n",
       "    <tr>\n",
       "      <th>marriage_duration</th>\n",
       "      <td>0.085321</td>\n",
       "      <td>0.078677</td>\n",
       "      <td>1.000000</td>\n",
       "      <td>0.447358</td>\n",
       "    </tr>\n",
       "    <tr>\n",
       "      <th>num_kids</th>\n",
       "      <td>0.040848</td>\n",
       "      <td>-0.018015</td>\n",
       "      <td>0.447358</td>\n",
       "      <td>1.000000</td>\n",
       "    </tr>\n",
       "  </tbody>\n",
       "</table>\n",
       "</div>"
      ],
      "text/plain": [
       "                   income_man  income_woman  marriage_duration  num_kids\n",
       "income_man           1.000000      0.318047           0.085321  0.040848\n",
       "income_woman         0.318047      1.000000           0.078677 -0.018015\n",
       "marriage_duration    0.085321      0.078677           1.000000  0.447358\n",
       "num_kids             0.040848     -0.018015           0.447358  1.000000"
      ]
     },
     "execution_count": 76,
     "metadata": {},
     "output_type": "execute_result"
    }
   ],
   "source": [
    "# Correlation\n",
    "divorce.corr()"
   ]
  },
  {
   "cell_type": "code",
   "execution_count": 77,
   "id": "2fa0ce01",
   "metadata": {},
   "outputs": [
    {
     "data": {
      "image/png": "[encoded data removed]",
      "text/plain": [
       "<Figure size 432x288 with 2 Axes>"
      ]
     },
     "metadata": {
      "needs_background": "light"
     },
     "output_type": "display_data"
    }
   ],
   "source": [
    "sns.heatmap(divorce.corr(), annot=True);"
   ]
  },
  {
   "cell_type": "code",
   "execution_count": 78,
   "id": "933df82d",
   "metadata": {},
   "outputs": [
    {
     "data": {
      "image/png": "[encoded data removed]",
      "text/plain": [
       "<Figure size 720x720 with 20 Axes>"
      ]
     },
     "metadata": {
      "needs_background": "light"
     },
     "output_type": "display_data"
    }
   ],
   "source": [
    "sns.pairplot(data=divorce);"
   ]
  },
  {
   "cell_type": "code",
   "execution_count": 79,
   "id": "2be0defe",
   "metadata": {},
   "outputs": [
    {
     "data": {
      "image/png": "[encoded data removed]",
      "text/plain": [
       "<Figure size 540x540 with 12 Axes>"
      ]
     },
     "metadata": {
      "needs_background": "light"
     },
     "output_type": "display_data"
    }
   ],
   "source": [
    "sns.pairplot(data=divorce, vars=[\"income_man\",\"income_woman\",\"marriage_duration\"]);"
   ]
  },
  {
   "cell_type": "code",
   "execution_count": 84,
   "id": "b8d18492",
   "metadata": {},
   "outputs": [
    {
     "data": {
      "image/png": "[encoded data removed]",
      "text/plain": [
       "<Figure size 432x288 with 1 Axes>"
      ]
     },
     "metadata": {
      "needs_background": "light"
     },
     "output_type": "display_data"
    }
   ],
   "source": [
    "divorce[\"marriage_year\"] = divorce[\"marriage_date\"].dt.year\n",
    "sns.lineplot(data=divorce, x=\"marriage_year\", y=\"num_kids\");"
   ]
  },
  {
   "cell_type": "code",
   "execution_count": 85,
   "id": "bd936b63",
   "metadata": {},
   "outputs": [
    {
     "name": "stdout",
     "output_type": "stream",
     "text": [
      "<class 'pandas.core.frame.DataFrame'>\n",
      "RangeIndex: 2209 entries, 0 to 2208\n",
      "Data columns (total 11 columns):\n",
      " #   Column             Non-Null Count  Dtype         \n",
      "---  ------             --------------  -----         \n",
      " 0   divorce_date       2209 non-null   datetime64[ns]\n",
      " 1   dob_man            2209 non-null   datetime64[ns]\n",
      " 2   education_man      2209 non-null   object        \n",
      " 3   income_man         2209 non-null   float64       \n",
      " 4   dob_woman          2209 non-null   datetime64[ns]\n",
      " 5   education_woman    2209 non-null   object        \n",
      " 6   income_woman       2209 non-null   float64       \n",
      " 7   marriage_date      2209 non-null   datetime64[ns]\n",
      " 8   marriage_duration  2209 non-null   float64       \n",
      " 9   num_kids           1333 non-null   float64       \n",
      " 10  marriage_year      2209 non-null   int64         \n",
      "dtypes: datetime64[ns](4), float64(4), int64(1), object(2)\n",
      "memory usage: 190.0+ KB\n"
     ]
    }
   ],
   "source": [
    "divorce.info()"
   ]
  },
  {
   "cell_type": "code",
   "execution_count": 117,
   "id": "cbd1d004",
   "metadata": {},
   "outputs": [
    {
     "data": {
      "image/png": "[encoded data removed]",
      "text/plain": [
       "<Figure size 432x288 with 1 Axes>"
      ]
     },
     "metadata": {
      "needs_background": "light"
     },
     "output_type": "display_data"
    }
   ],
   "source": [
    "divorce[\"income_diff\"] = divorce[\"income_man\"] - divorce[\"income_woman\"]\n",
    "sns.scatterplot(data=divorce, x='income_diff',y=\"marriage_duration\",hue=\"education_man\", alpha=0.2);"
   ]
  },
  {
   "cell_type": "markdown",
   "id": "63026d66",
   "metadata": {},
   "source": [
    "## Factor relationships and distributions"
   ]
  },
  {
   "cell_type": "code",
   "execution_count": 87,
   "id": "19bb7ab8",
   "metadata": {},
   "outputs": [
    {
     "data": {
      "text/plain": [
       "Professional    1313\n",
       "Preparatory      501\n",
       "Secondary        288\n",
       "Primary          100\n",
       "None               4\n",
       "Other              3\n",
       "Name: education_man, dtype: int64"
      ]
     },
     "execution_count": 87,
     "metadata": {},
     "output_type": "execute_result"
    }
   ],
   "source": [
    "divorce[\"education_man\"].value_counts()"
   ]
  },
  {
   "cell_type": "code",
   "execution_count": 89,
   "id": "09d3b718",
   "metadata": {},
   "outputs": [
    {
     "data": {
      "image/png": "[encoded data removed]",
      "text/plain": [
       "<Figure size 432x288 with 1 Axes>"
      ]
     },
     "metadata": {
      "needs_background": "light"
     },
     "output_type": "display_data"
    }
   ],
   "source": [
    "sns.histplot(data=divorce,x=\"marriage_duration\", binwidth=1);"
   ]
  },
  {
   "cell_type": "code",
   "execution_count": 90,
   "id": "a68085e1",
   "metadata": {
    "scrolled": false
   },
   "outputs": [
    {
     "data": {
      "image/png": "[encoded data removed]",
      "text/plain": [
       "<Figure size 432x288 with 1 Axes>"
      ]
     },
     "metadata": {
      "needs_background": "light"
     },
     "output_type": "display_data"
    }
   ],
   "source": [
    "sns.histplot(data=divorce,x=\"marriage_duration\",hue=\"education_man\", binwidth=1);"
   ]
  },
  {
   "cell_type": "code",
   "execution_count": 102,
   "id": "09b0a043",
   "metadata": {},
   "outputs": [
    {
     "data": {
      "image/png": "[encoded data removed]",
      "text/plain": [
       "<Figure size 432x288 with 1 Axes>"
      ]
     },
     "metadata": {
      "needs_background": "light"
     },
     "output_type": "display_data"
    }
   ],
   "source": [
    "sns.kdeplot(data=divorce,x=\"marriage_duration\",hue=\"education_man\", cut=0);"
   ]
  },
  {
   "cell_type": "code",
   "execution_count": 103,
   "id": "0d10eba1",
   "metadata": {},
   "outputs": [],
   "source": [
    "#relationship between marriage age and education\n",
    "divorce[\"man_age_marriage\"] = divorce[\"marriage_year\"] - divorce[\"dob_man\"].dt.year\n",
    "divorce[\"woman_age_marriage\"] = divorce[\"marriage_year\"] - divorce[\"dob_woman\"].dt.year"
   ]
  },
  {
   "cell_type": "code",
   "execution_count": 108,
   "id": "fc516b6c",
   "metadata": {},
   "outputs": [
    {
     "data": {
      "image/png": "[encoded data removed]",
      "text/plain": [
       "<Figure size 432x288 with 1 Axes>"
      ]
     },
     "metadata": {
      "needs_background": "light"
     },
     "output_type": "display_data"
    }
   ],
   "source": [
    "sns.scatterplot(data=divorce, x=\"woman_age_marriage\",y=\"man_age_marriage\", s=6, hue=\"education_man\");"
   ]
  },
  {
   "cell_type": "code",
   "execution_count": 109,
   "id": "3156eaac",
   "metadata": {},
   "outputs": [
    {
     "data": {
      "image/png": "[encoded data removed]",
      "text/plain": [
       "<Figure size 432x288 with 1 Axes>"
      ]
     },
     "metadata": {
      "needs_background": "light"
     },
     "output_type": "display_data"
    }
   ],
   "source": [
    "# Update the KDE plot to show a cumulative distribution function\n",
    "sns.kdeplot(data=divorce, x=\"marriage_duration\", hue=\"num_kids\", cut=0, cumulative=True)\n",
    "plt.show()"
   ]
  },
  {
   "cell_type": "code",
   "execution_count": 114,
   "id": "90da4895",
   "metadata": {},
   "outputs": [
    {
     "data": {
      "text/html": [
       "<div>\n",
       "<style scoped>\n",
       "    .dataframe tbody tr th:only-of-type {\n",
       "        vertical-align: middle;\n",
       "    }\n",
       "\n",
       "    .dataframe tbody tr th {\n",
       "        vertical-align: top;\n",
       "    }\n",
       "\n",
       "    .dataframe thead th {\n",
       "        text-align: right;\n",
       "    }\n",
       "</style>\n",
       "<table border=\"1\" class=\"dataframe\">\n",
       "  <thead>\n",
       "    <tr style=\"text-align: right;\">\n",
       "      <th>num_kids</th>\n",
       "      <th>1.0</th>\n",
       "      <th>2.0</th>\n",
       "      <th>3.0</th>\n",
       "      <th>4.0</th>\n",
       "      <th>5.0</th>\n",
       "    </tr>\n",
       "    <tr>\n",
       "      <th>education_man</th>\n",
       "      <th></th>\n",
       "      <th></th>\n",
       "      <th></th>\n",
       "      <th></th>\n",
       "      <th></th>\n",
       "    </tr>\n",
       "  </thead>\n",
       "  <tbody>\n",
       "    <tr>\n",
       "      <th>None</th>\n",
       "      <td>1</td>\n",
       "      <td>1</td>\n",
       "      <td>1</td>\n",
       "      <td>0</td>\n",
       "      <td>0</td>\n",
       "    </tr>\n",
       "    <tr>\n",
       "      <th>Other</th>\n",
       "      <td>0</td>\n",
       "      <td>1</td>\n",
       "      <td>0</td>\n",
       "      <td>0</td>\n",
       "      <td>0</td>\n",
       "    </tr>\n",
       "    <tr>\n",
       "      <th>Preparatory</th>\n",
       "      <td>155</td>\n",
       "      <td>129</td>\n",
       "      <td>31</td>\n",
       "      <td>2</td>\n",
       "      <td>1</td>\n",
       "    </tr>\n",
       "    <tr>\n",
       "      <th>Primary</th>\n",
       "      <td>25</td>\n",
       "      <td>31</td>\n",
       "      <td>8</td>\n",
       "      <td>4</td>\n",
       "      <td>0</td>\n",
       "    </tr>\n",
       "    <tr>\n",
       "      <th>Professional</th>\n",
       "      <td>359</td>\n",
       "      <td>311</td>\n",
       "      <td>79</td>\n",
       "      <td>8</td>\n",
       "      <td>2</td>\n",
       "    </tr>\n",
       "    <tr>\n",
       "      <th>Secondary</th>\n",
       "      <td>81</td>\n",
       "      <td>77</td>\n",
       "      <td>23</td>\n",
       "      <td>3</td>\n",
       "      <td>0</td>\n",
       "    </tr>\n",
       "  </tbody>\n",
       "</table>\n",
       "</div>"
      ],
      "text/plain": [
       "num_kids       1.0  2.0  3.0  4.0  5.0\n",
       "education_man                         \n",
       "None             1    1    1    0    0\n",
       "Other            0    1    0    0    0\n",
       "Preparatory    155  129   31    2    1\n",
       "Primary         25   31    8    4    0\n",
       "Professional   359  311   79    8    2\n",
       "Secondary       81   77   23    3    0"
      ]
     },
     "execution_count": 114,
     "metadata": {},
     "output_type": "execute_result"
    }
   ],
   "source": [
    "pd.crosstab(divorce[\"education_man\"],divorce[\"num_kids\"])"
   ]
  },
  {
   "cell_type": "code",
   "execution_count": 118,
   "id": "2b1effdf",
   "metadata": {},
   "outputs": [
    {
     "data": {
      "text/html": [
       "<div>\n",
       "<style scoped>\n",
       "    .dataframe tbody tr th:only-of-type {\n",
       "        vertical-align: middle;\n",
       "    }\n",
       "\n",
       "    .dataframe tbody tr th {\n",
       "        vertical-align: top;\n",
       "    }\n",
       "\n",
       "    .dataframe thead th {\n",
       "        text-align: right;\n",
       "    }\n",
       "</style>\n",
       "<table border=\"1\" class=\"dataframe\">\n",
       "  <thead>\n",
       "    <tr style=\"text-align: right;\">\n",
       "      <th>num_kids</th>\n",
       "      <th>1.0</th>\n",
       "      <th>2.0</th>\n",
       "      <th>3.0</th>\n",
       "      <th>4.0</th>\n",
       "      <th>5.0</th>\n",
       "    </tr>\n",
       "    <tr>\n",
       "      <th>education_woman</th>\n",
       "      <th></th>\n",
       "      <th></th>\n",
       "      <th></th>\n",
       "      <th></th>\n",
       "      <th></th>\n",
       "    </tr>\n",
       "  </thead>\n",
       "  <tbody>\n",
       "    <tr>\n",
       "      <th>Other</th>\n",
       "      <td>-1000.0</td>\n",
       "      <td>-6000.0</td>\n",
       "      <td>NaN</td>\n",
       "      <td>NaN</td>\n",
       "      <td>NaN</td>\n",
       "    </tr>\n",
       "    <tr>\n",
       "      <th>Preparatory</th>\n",
       "      <td>100.0</td>\n",
       "      <td>1000.0</td>\n",
       "      <td>1500.0</td>\n",
       "      <td>-1200.0</td>\n",
       "      <td>0.0</td>\n",
       "    </tr>\n",
       "    <tr>\n",
       "      <th>Primary</th>\n",
       "      <td>0.0</td>\n",
       "      <td>400.0</td>\n",
       "      <td>550.0</td>\n",
       "      <td>800.0</td>\n",
       "      <td>NaN</td>\n",
       "    </tr>\n",
       "    <tr>\n",
       "      <th>Professional</th>\n",
       "      <td>0.0</td>\n",
       "      <td>0.0</td>\n",
       "      <td>0.0</td>\n",
       "      <td>0.0</td>\n",
       "      <td>30000.0</td>\n",
       "    </tr>\n",
       "    <tr>\n",
       "      <th>Secondary</th>\n",
       "      <td>300.0</td>\n",
       "      <td>500.0</td>\n",
       "      <td>950.0</td>\n",
       "      <td>2700.0</td>\n",
       "      <td>4000.0</td>\n",
       "    </tr>\n",
       "  </tbody>\n",
       "</table>\n",
       "</div>"
      ],
      "text/plain": [
       "num_kids            1.0     2.0     3.0     4.0      5.0\n",
       "education_woman                                         \n",
       "Other           -1000.0 -6000.0     NaN     NaN      NaN\n",
       "Preparatory       100.0  1000.0  1500.0 -1200.0      0.0\n",
       "Primary             0.0   400.0   550.0   800.0      NaN\n",
       "Professional        0.0     0.0     0.0     0.0  30000.0\n",
       "Secondary         300.0   500.0   950.0  2700.0   4000.0"
      ]
     },
     "execution_count": 118,
     "metadata": {},
     "output_type": "execute_result"
    }
   ],
   "source": [
    "pd.crosstab(divorce[\"education_woman\"],divorce[\"num_kids\"],\n",
    "           values=divorce[\"income_diff\"],aggfunc=\"median\")"
   ]
  },
  {
   "cell_type": "code",
   "execution_count": 119,
   "id": "b4fdb2ab",
   "metadata": {},
   "outputs": [
    {
     "data": {
      "text/html": [
       "<div>\n",
       "<style scoped>\n",
       "    .dataframe tbody tr th:only-of-type {\n",
       "        vertical-align: middle;\n",
       "    }\n",
       "\n",
       "    .dataframe tbody tr th {\n",
       "        vertical-align: top;\n",
       "    }\n",
       "\n",
       "    .dataframe thead th {\n",
       "        text-align: right;\n",
       "    }\n",
       "</style>\n",
       "<table border=\"1\" class=\"dataframe\">\n",
       "  <thead>\n",
       "    <tr style=\"text-align: right;\">\n",
       "      <th>num_kids</th>\n",
       "      <th>1.0</th>\n",
       "      <th>2.0</th>\n",
       "      <th>3.0</th>\n",
       "      <th>4.0</th>\n",
       "      <th>5.0</th>\n",
       "    </tr>\n",
       "    <tr>\n",
       "      <th>education_man</th>\n",
       "      <th></th>\n",
       "      <th></th>\n",
       "      <th></th>\n",
       "      <th></th>\n",
       "      <th></th>\n",
       "    </tr>\n",
       "  </thead>\n",
       "  <tbody>\n",
       "    <tr>\n",
       "      <th>None</th>\n",
       "      <td>0.0</td>\n",
       "      <td>200.0</td>\n",
       "      <td>3400.0</td>\n",
       "      <td>NaN</td>\n",
       "      <td>NaN</td>\n",
       "    </tr>\n",
       "    <tr>\n",
       "      <th>Other</th>\n",
       "      <td>NaN</td>\n",
       "      <td>0.0</td>\n",
       "      <td>NaN</td>\n",
       "      <td>NaN</td>\n",
       "      <td>NaN</td>\n",
       "    </tr>\n",
       "    <tr>\n",
       "      <th>Preparatory</th>\n",
       "      <td>0.0</td>\n",
       "      <td>0.0</td>\n",
       "      <td>0.0</td>\n",
       "      <td>1500.0</td>\n",
       "      <td>30000.0</td>\n",
       "    </tr>\n",
       "    <tr>\n",
       "      <th>Primary</th>\n",
       "      <td>0.0</td>\n",
       "      <td>400.0</td>\n",
       "      <td>-50.0</td>\n",
       "      <td>-900.0</td>\n",
       "      <td>NaN</td>\n",
       "    </tr>\n",
       "    <tr>\n",
       "      <th>Professional</th>\n",
       "      <td>500.0</td>\n",
       "      <td>1000.0</td>\n",
       "      <td>1000.0</td>\n",
       "      <td>250.0</td>\n",
       "      <td>2000.0</td>\n",
       "    </tr>\n",
       "    <tr>\n",
       "      <th>Secondary</th>\n",
       "      <td>0.0</td>\n",
       "      <td>0.0</td>\n",
       "      <td>600.0</td>\n",
       "      <td>1100.0</td>\n",
       "      <td>NaN</td>\n",
       "    </tr>\n",
       "  </tbody>\n",
       "</table>\n",
       "</div>"
      ],
      "text/plain": [
       "num_kids         1.0     2.0     3.0     4.0      5.0\n",
       "education_man                                        \n",
       "None             0.0   200.0  3400.0     NaN      NaN\n",
       "Other            NaN     0.0     NaN     NaN      NaN\n",
       "Preparatory      0.0     0.0     0.0  1500.0  30000.0\n",
       "Primary          0.0   400.0   -50.0  -900.0      NaN\n",
       "Professional   500.0  1000.0  1000.0   250.0   2000.0\n",
       "Secondary        0.0     0.0   600.0  1100.0      NaN"
      ]
     },
     "execution_count": 119,
     "metadata": {},
     "output_type": "execute_result"
    }
   ],
   "source": [
    "pd.crosstab(divorce[\"education_man\"],divorce[\"num_kids\"],\n",
    "           values=divorce[\"income_diff\"],aggfunc=\"median\")"
   ]
  },
  {
   "cell_type": "markdown",
   "id": "4e4002ec",
   "metadata": {},
   "source": [
    "## Generating New Features"
   ]
  },
  {
   "cell_type": "code",
   "execution_count": null,
   "id": "6e1d9bb2",
   "metadata": {},
   "outputs": [],
   "source": [
    "#cleaning total stops\n",
    "planes[\"Total_Stops\"] = planes[\"Total_Stops\"].str.replace(\" stops\", \"\")\n",
    "planes[\"Total_Stops\"] = planes[\"Total_Stops\"].str.replace(\" stop\", \"\")\n",
    "planes[\"Total_Stops\"] = planes[\"Total_Stops\"].str.replace(\" non-stops\", \"0\")\n",
    "planes[\"Total_Stops\"] = planes[\"Total_Stops\"].astype(int)"
   ]
  },
  {
   "cell_type": "code",
   "execution_count": null,
   "id": "058ca3f8",
   "metadata": {},
   "outputs": [],
   "source": [
    "#extracting month and weekday\n",
    "planes[\"month\"] = planes[\"Date_of_Journey\"].dt.month\n",
    "planes[\"weekday\"] = planes[\"Date_of_Journey\"].dt.weekday\n",
    "print(planes[[\"month\", \"weekday\",\"Date_od_Journey\"]].head())"
   ]
  },
  {
   "cell_type": "code",
   "execution_count": null,
   "id": "9a440883",
   "metadata": {},
   "outputs": [],
   "source": [
    "#departure and arrival times\n",
    "planes[\"Dep_Hour\"] = planes[\"Dep_Time\"].dt.hour\n",
    "planes[\"Arrival_Hour\"] = planes[\"Arrival_Time\"].dt.hour"
   ]
  },
  {
   "cell_type": "code",
   "execution_count": null,
   "id": "e12ad563",
   "metadata": {},
   "outputs": [],
   "source": [
    "#descriptibve statistics\n",
    "twenty_fifth = planes[\"Price\"].quantile(0.25)\n",
    "median = planes[\"Price\"].median()\n",
    "seventy_fifth = planes[\"Price\"].quantile(0.75)\n",
    "maximum = planes[\"Price\"].max()"
   ]
  },
  {
   "cell_type": "code",
   "execution_count": null,
   "id": "1bdf87e5",
   "metadata": {},
   "outputs": [],
   "source": [
    "#labels and bins\n",
    "labels = [\"Economy\", \"Premium Economy\", \"Business Class\", \"First Class\"]\n",
    "bins = [0, twenty_fifth, median, seventy_fifth, maximum]\n",
    "planes[\"Price Category\"] = pd.cut(planes[\"Price\"],\n",
    "                                 labels=labels,\n",
    "                                 bins=bins)\n"
   ]
  },
  {
   "cell_type": "code",
   "execution_count": null,
   "id": "bc1d727a",
   "metadata": {},
   "outputs": [],
   "source": [
    "# Generating Hypothesis\n",
    "sns.barplot(data=planes, x=\"Airlines\", y=\"Duration\");\n",
    "\n",
    "# Filter for employees in the US or GB\n",
    "usa_and_gb = salaries[salaries[\"Employee_Location\"].isin([\"US\", \"GB\"])]\n",
    "\n",
    "# Create a barplot of salaries by location\n",
    "sns.barplot(data=usa_and_gb, y=\"Salary_USD\", x=\"Employee_Location\")\n",
    "plt.show()\n"
   ]
  }
 ],
 "metadata": {
  "kernelspec": {
   "display_name": "Python 3 (ipykernel)",
   "language": "python",
   "name": "python3"
  },
  "language_info": {
   "codemirror_mode": {
    "name": "ipython",
    "version": 3
   },
   "file_extension": ".py",
   "mimetype": "text/x-python",
   "name": "python",
   "nbconvert_exporter": "python",
   "pygments_lexer": "ipython3",
   "version": "3.9.7"
  }
 },
 "nbformat": 4,
 "nbformat_minor": 5
}
