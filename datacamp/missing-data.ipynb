{
 "cells": [
  {
   "cell_type": "code",
   "execution_count": 1,
   "id": "c9956860",
   "metadata": {},
   "outputs": [],
   "source": [
    "import numpy as np"
   ]
  },
  {
   "cell_type": "code",
   "execution_count": 3,
   "id": "faaeed62",
   "metadata": {},
   "outputs": [
    {
     "data": {
      "text/plain": [
       "True"
      ]
     },
     "execution_count": 3,
     "metadata": {},
     "output_type": "execute_result"
    }
   ],
   "source": [
    "None == None"
   ]
  },
  {
   "cell_type": "code",
   "execution_count": 4,
   "id": "2bada8c1",
   "metadata": {},
   "outputs": [
    {
     "data": {
      "text/plain": [
       "False"
      ]
     },
     "execution_count": 4,
     "metadata": {},
     "output_type": "execute_result"
    }
   ],
   "source": [
    "np.nan == np.nan"
   ]
  },
  {
   "cell_type": "code",
   "execution_count": 5,
   "id": "bda9cbb1",
   "metadata": {},
   "outputs": [],
   "source": [
    "try:\n",
    "    print(\"'None' comparison output:\",None == None)"
   ]
  },
  {
   "cell_type": "code",
   "execution_count": 6,
   "id": "c692b679",
   "metadata": {},
   "outputs": [
    {
     "data": {
      "text/plain": [
       "nan"
      ]
     },
     "execution_count": 6,
     "metadata": {},
     "output_type": "execute_result"
    }
   ],
   "source": [
    "np.nan or np.nan"
   ]
  },
  {
   "cell_type": "code",
   "execution_count": null,
   "id": "ebeee42e",
   "metadata": {},
   "outputs": [],
   "source": [
    "college = pd.read_csv('college.csv', na_values='-')\n",
    "college.info()"
   ]
  },
  {
   "cell_type": "code",
   "execution_count": null,
   "id": "e96d1a5d",
   "metadata": {},
   "outputs": [],
   "source": [
    "csat_unique = college.csat.unique()\n",
    "np.sort(csat_unique)"
   ]
  },
  {
   "cell_type": "code",
   "execution_count": null,
   "id": "b50e9ab5",
   "metadata": {},
   "outputs": [],
   "source": [
    "#replace missing values with NaN\n",
    "diabetes.BMI[diabetes.BMI == 0] = np.nan"
   ]
  },
  {
   "cell_type": "code",
   "execution_count": null,
   "id": "9337a934",
   "metadata": {},
   "outputs": [],
   "source": [
    "diabetes.BMI[np.isnan(diabetes.BMI)]"
   ]
  },
  {
   "cell_type": "code",
   "execution_count": null,
   "id": "bbe98b6b",
   "metadata": {},
   "outputs": [],
   "source": [
    "# Load the airquality dataset\n",
    "airquality = pd.read_csv('air-quality.csv', parse_dates=['Date'], index_col='Date')\n",
    "\n",
    "# Create a nullity DataFrame airquality_nullity\n",
    "airquality_nullity = airquality.isnull()\n",
    "print(airquality_nullity.head())\n",
    "\n",
    "# Calculate total of missing values\n",
    "missing_values_sum = airquality_nullity.sum()\n",
    "print('Total Missing Values:\\n', missing_values_sum)\n",
    "\n",
    "# Calculate percentage of missing values\n",
    "missing_values_percent = airquality_nullity.mean() * 100\n",
    "print('Percentage of Missing Values:\\n', missing_values_percent)"
   ]
  },
  {
   "cell_type": "code",
   "execution_count": null,
   "id": "1ea60466",
   "metadata": {},
   "outputs": [],
   "source": [
    "# Import missingno as msno\n",
    "import missingno as msno\n",
    "\n",
    "# Plot the sliced nullity matrix of airquality with frequency 'M'\n",
    "msno.matrix(airquality.loc[\"May-1976\":\"Jul-1976\"], freq='M')\n",
    "\n",
    "# Display nullity matrix\n",
    "display(\"/usr/local/share/datasets/matrix_sliced.png\")"
   ]
  },
  {
   "cell_type": "code",
   "execution_count": null,
   "id": "f34ecae3",
   "metadata": {},
   "outputs": [],
   "source": [
    "bmi_null = diabetes['BMI'].isnull()\n",
    "num_nulls =bmi_null.sum()\n",
    "\n",
    "#generate random values\n",
    "dummy_value = rand(num_nulls)\n",
    "\n",
    "#shift to -2 & -1\n",
    "dummy_value = dummy_value - 2\n",
    "#scale to 0.075 of column range\n",
    "bmi_range = bmi.max() - bmi.min()\n",
    "dummy_value = dummy_value * 0.075 * bmi_range\n",
    "\n",
    "#shift to column minimum\n",
    "dummy_value = (rand(num_nulls) - 2)"
   ]
  },
  {
   "cell_type": "code",
   "execution_count": null,
   "id": "7ddb01b0",
   "metadata": {},
   "outputs": [],
   "source": [
    "from numpy.random import rand\n",
    "\n",
    "def fill_dummy_values(df, scaling_factor=0.075):\n",
    "  df_dummy = df.copy(deep=True)\n",
    "  for col_name in df_dummy:\n",
    "    col = df_dummy[col_name]\n",
    "    # Calculate column range\n",
    "    col_range = col.max() - col.min()\n",
    "    # Calculate number of missing values in column \n",
    "    col_null = col.isnull()\n",
    "    num_nulls = col_null.sum()\n",
    "    # Scale the random values to scaling_factor times col_range\n",
    "    dummy_values = (rand(num_nulls) - 2) * scaling_factor * col_range + col.min()\n",
    "    col[col_null] = dummy_values\n",
    "  return df_dummy\n",
    "    "
   ]
  },
  {
   "cell_type": "code",
   "execution_count": null,
   "id": "c2558d22",
   "metadata": {},
   "outputs": [],
   "source": [
    "# Fill dummy values in diabetes_dummy\n",
    "diabetes_dummy = fill_dummy_values(diabetes)\n",
    "\n",
    "# Sum the nullity of Skin_Fold and BMI\n",
    "nullity = diabetes.BMI.isnull()+diabetes.Skin_Fold.isnull()\n",
    "\n",
    "# Create a scatter plot of BMI versus Skin_Fold\n",
    "diabetes_dummy.plot(x='Skin_Fold', y=\"BMI\", kind='scatter', alpha=0.5, \n",
    "                    \n",
    "                    # Set color to nullity of BMI and Skin_Fold\n",
    "                    c=nullity, \n",
    "                    cmap='rainbow')\n",
    "\n",
    "plt.show()"
   ]
  },
  {
   "cell_type": "code",
   "execution_count": null,
   "id": "0287c066",
   "metadata": {},
   "outputs": [],
   "source": [
    "# Visualize the missingness of diabetes prior to dropping missing values\n",
    "msno.matrix(diabetes)\n",
    "\n",
    "# Print the number of missing values in Glucose\n",
    "print(diabetes['Glucose'].isnull().sum())\n",
    "\n",
    "# Drop rows where 'Glucose' has a missing value\n",
    "diabetes.dropna(subset=['Glucose'], how='any', inplace=True)\n",
    "\n",
    "# Visualize the missingness of diabetes after dropping missing values\n",
    "msno.matrix(diabetes)\n",
    "\n",
    "display(\"/usr/local/share/datasets/glucose_dropped.png\")"
   ]
  },
  {
   "cell_type": "markdown",
   "id": "6c70ad54",
   "metadata": {},
   "source": [
    "## IMPUTATIONS"
   ]
  },
  {
   "cell_type": "code",
   "execution_count": null,
   "id": "1cde089a",
   "metadata": {},
   "outputs": [],
   "source": [
    "from sklearn.impute import SimpleImputer\n",
    "diabetes_mean = diabetes.copy(deep=True)\n",
    "mean_imputer = SimpleImputer(strategy='mean')\n",
    "diabetes_mean[:,:] = mean_imputer.fit_transform(diabetes_mean)"
   ]
  },
  {
   "cell_type": "code",
   "execution_count": null,
   "id": "5e82b13a",
   "metadata": {},
   "outputs": [],
   "source": [
    "#visualizinfg imputations\n",
    "fig, axes = plt.subplots(nrows=2, ncols=2, figsize=(10,10))\n",
    "nullity = diabetes['Serum_Insulin'].isnull()+diabetes['Glucose'].isnull()\n",
    "imputations = {\n",
    "    'Mean Imputation': diabetes_mean,\n",
    "    'Median Imputation': diabetes_median,\n",
    "    'Most Frequent Impuatation': diabetes_mode,\n",
    "    'Constant Imputation': diabetes_constant\n",
    "}\n",
    "for ax, df_key in zip(axes.flatten(), imputations):\n",
    "    imputations[df_key].plot(x='Serum_Insulin',\n",
    "                            y='Glucose',\n",
    "                            kind='scatter',\n",
    "                            alpha=0.5,\n",
    "                            c=nullity,\n",
    "                            cmap='rainbow',\n",
    "                            ax=ax,\n",
    "                            colorbar=False,\n",
    "                            title_df_key)"
   ]
  },
  {
   "cell_type": "code",
   "execution_count": null,
   "id": "03284a58",
   "metadata": {},
   "outputs": [],
   "source": [
    "airquality['Ozone'].plot(title='Ozone',marker='o', figsize=(30,5))"
   ]
  },
  {
   "cell_type": "code",
   "execution_count": null,
   "id": "c4352be3",
   "metadata": {},
   "outputs": [],
   "source": [
    "#visualize interpolations\n",
    "for ax, df_key in zip(axes, interpolations):\n",
    "    interpolations[df_key].Ozone.plot(color='red', marker='o', linestyle='dotted',ax=ax)\n",
    "    airquality.Ozone.plot(title=df_key+ ' - Ozone', marker='o', ax=ax)"
   ]
  },
  {
   "cell_type": "code",
   "execution_count": null,
   "id": "2a1f55cb",
   "metadata": {},
   "outputs": [],
   "source": [
    "from fancyimpute import KNN\n",
    "knn_imputer = KNN()\n",
    "diabetes_knn = diabetes.copy(deep=True)\n",
    "diabetes_knn.iloc[:,:] = knn_imputer.fit_transform(diabetes_knn)"
   ]
  },
  {
   "cell_type": "code",
   "execution_count": null,
   "id": "170ee701",
   "metadata": {},
   "outputs": [],
   "source": [
    "#Mltiple Imputations by Chained Equations(MICE)\n",
    "from fancyimpute import IterativeImputer\n",
    "MICE_imputer = IterativeImputer()\n",
    "diabetes_MICE = diabetes.copy(deep=True)\n",
    "diabetes_MICE.iloc[:,:] = MICE_imputer.fit_transform(diabetes_MICE)"
   ]
  },
  {
   "cell_type": "code",
   "execution_count": null,
   "id": "8eae3a8e",
   "metadata": {},
   "outputs": [],
   "source": [
    "#ordinal encoding\n",
    "from sklearn.preprocessing import OrdinalEncoder\n",
    "\n",
    "#create ordinal Encoder\n",
    "ambience_ord_enc = OrdinalEncoder()\n",
    "\n",
    "#select non-null values in ambiance\n",
    "ambiance = users['ambiance']\n",
    "ambiance_not_null = ambiance[ambiance.notnull()]\n",
    "reshaped_vals = ambiance_not_null.values.reshape(-1,1)\n",
    "\n",
    "#encode the non-null values of ambiance\n",
    "encoded_vals = ambiance_ord_enc.fit_transform(reshaped_vals)\n",
    "\n",
    "#replace the ambiance column with ordinal values\n",
    "users.loc[ambiance.notnull(),'ambiance'] = np.squeeze(encoded_vals)"
   ]
  },
  {
   "cell_type": "code",
   "execution_count": null,
   "id": "1149a799",
   "metadata": {},
   "outputs": [],
   "source": [
    "#create dictionary for ordinal encoders\n",
    "ordinal_enc_dict = {}\n",
    "\n",
    "#loop over columns to encode\n",
    "for col_name in users:\n",
    "    #create ordinal encoder for the column\n",
    "    ordinal_enc_dict[col_name] = OrdinalEncoder()\n",
    "    col = users[col_name]\n",
    "    \n",
    "    #select the non-null values in the column\n",
    "    col_not_null = col[col.notnull()]\n",
    "    reshaped_vals = col_not_null.values.reshaped(-1,1)\n",
    "    \n",
    "    #encode the non-null values of the column\n",
    "    encoded_vals = ordinal_enc_dict[col_name].fit_transform(reshaped_vals)\n",
    "    \n",
    "    #replace the values in the column with ordinal values\n",
    "    users.loc[col.notnull(), col_name] = np.squeeze(encoded_vals)"
   ]
  },
  {
   "cell_type": "code",
   "execution_count": null,
   "id": "28bd7174",
   "metadata": {},
   "outputs": [],
   "source": [
    "users_knn_imputed = users.copy(deep=True)\n",
    "\n",
    "#create knn imputer\n",
    "knn_imputer = KNN()\n",
    "\n",
    "users_knn_imputed.iloc[:,:] = np.round(knn_imputer.fit_transform(users_knn_imputed))\n",
    "\n",
    "for col in users_knn_imputed:\n",
    "    reshaped_col = users_knn_imputed[col].values.reshape(-1,1)\n",
    "    users_knn_imputed[col] = ordinal_enc_dict[col].inverse_transform(reshaped_col)"
   ]
  },
  {
   "cell_type": "code",
   "execution_count": null,
   "id": "0d159bd5",
   "metadata": {},
   "outputs": [],
   "source": [
    "import statsmodels.api as sm\n",
    "\n",
    "diabetes_cc = diabetes.dropna(how='any')\n",
    "X = sm.add_constant(diabetes_cc.iloc[:,:-1])\n",
    "y = diabetes_cc['Class']\n",
    "lm = sm.OLS(y,X).fit()\n",
    "\n",
    "print(lm.summary())"
   ]
  },
  {
   "cell_type": "code",
   "execution_count": null,
   "id": "ef126140",
   "metadata": {},
   "outputs": [],
   "source": [
    "#r-sqauared\n",
    "lm.rsquared_adj"
   ]
  },
  {
   "cell_type": "code",
   "execution_count": null,
   "id": "93b50e02",
   "metadata": {},
   "outputs": [],
   "source": [
    "#coefficients\n",
    "lm.params"
   ]
  },
  {
   "cell_type": "code",
   "execution_count": null,
   "id": "fc84e6fc",
   "metadata": {},
   "outputs": [],
   "source": [
    "#Fit linear model on different imputed DataFrames\n",
    "#mean imputation\n",
    "X = sm.add_constant(diabetes_mean_imputed.iloc[:,:-1])\n",
    "y = diabetes['Class']\n",
    "lm_mean = sm.OLS(y,X).fit()\n",
    "\n",
    "#knn imputation\n",
    "X = sm.add_contant(diabetes_knn_imputed.iloc[:,:-1])\n",
    "lm_KNN = sm.OLS(y,X).fit()\n",
    "\n",
    "#MICE Imputation\n",
    "X = sm.add_constant(diabetes_mice_imputed.iloc[:,:-1])\n",
    "lm_MICE = sm.OLS(y,X).fit()"
   ]
  },
  {
   "cell_type": "code",
   "execution_count": null,
   "id": "41b1110e",
   "metadata": {},
   "outputs": [],
   "source": [
    "print(pd.DataFrame({'Complete': lm.rsquared_adj,\n",
    "                   'Mean Imp.': lm_mean.rsqaured_adj,\n",
    "                   'KNN Imp.': lm_knn.rsquared_adj,\n",
    "                   'MICE Imp.' : lm_MICE.rsquared_adj},\n",
    "                  index=['R_squared_adj']))"
   ]
  },
  {
   "cell_type": "code",
   "execution_count": null,
   "id": "68cae994",
   "metadata": {},
   "outputs": [],
   "source": [
    "#comparing coeffecients of different imputations\n",
    "print(pd.DataFrame({'Complete': lm.params,\n",
    "                   'Mean Imp.': lm_mean.params,\n",
    "                   'KNN Imp.': lm_knn.params,\n",
    "                   'MICE Imp.' : lm_MICE.params}))"
   ]
  },
  {
   "cell_type": "code",
   "execution_count": null,
   "id": "81b09285",
   "metadata": {},
   "outputs": [],
   "source": [
    "#comparing density plots\n",
    "diabetes_cc['Skin_Fold'].plot(kind='kde',c='red',linewidth=3)\n",
    "diabetes_mean_imputed['Skin_Fold'].plot(kind='kde')\n",
    "diabetes_knn_imputed['Skin_Fold'].plot(kind='kde')\n",
    "diabetes_mice_imputed['Skin_Fold'].plot(kind='kde')\n",
    "\n",
    "labels = ['Baseline(Complete Case)','Mean Imputation', 'KNN Imputation','MICE Imputation']\n",
    "plt.legend(labels)\n",
    "plt.xlabel('Skin Fold')"
   ]
  },
  {
   "cell_type": "code",
   "execution_count": null,
   "id": "cf6f3a2f",
   "metadata": {},
   "outputs": [],
   "source": []
  }
 ],
 "metadata": {
  "kernelspec": {
   "display_name": "Python 3 (ipykernel)",
   "language": "python",
   "name": "python3"
  },
  "language_info": {
   "codemirror_mode": {
    "name": "ipython",
    "version": 3
   },
   "file_extension": ".py",
   "mimetype": "text/x-python",
   "name": "python",
   "nbconvert_exporter": "python",
   "pygments_lexer": "ipython3",
   "version": "3.9.7"
  }
 },
 "nbformat": 4,
 "nbformat_minor": 5
}
