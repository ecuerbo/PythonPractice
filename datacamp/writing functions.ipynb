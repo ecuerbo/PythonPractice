{
 "cells": [
  {
   "cell_type": "code",
   "execution_count": 1,
   "id": "f0c6f05c",
   "metadata": {},
   "outputs": [
    {
     "name": "stdout",
     "output_type": "stream",
     "text": [
      "Return the answer to life,\n",
      "    the universe and everything.\n",
      "    \n",
      "    Returns:\n",
      "        int\n",
      "    \n"
     ]
    }
   ],
   "source": [
    "def the_answer():\n",
    "    \"\"\"Return the answer to life,\n",
    "    the universe and everything.\n",
    "    \n",
    "    Returns:\n",
    "        int\n",
    "    \"\"\"\n",
    "    return 45\n",
    "print(the_answer.__doc__)"
   ]
  },
  {
   "cell_type": "code",
   "execution_count": 2,
   "id": "9731a547",
   "metadata": {},
   "outputs": [
    {
     "name": "stdout",
     "output_type": "stream",
     "text": [
      "Return the answer to life,\n",
      "the universe and everything.\n",
      "\n",
      "Returns:\n",
      "    int\n"
     ]
    }
   ],
   "source": [
    "import inspect\n",
    "print(inspect.getdoc(the_answer))"
   ]
  },
  {
   "cell_type": "code",
   "execution_count": null,
   "id": "a1aa82fd",
   "metadata": {},
   "outputs": [],
   "source": [
    "def count_letter(content, letter):\n",
    "  \"\"\"Count the number of times `letter` appears in `content`.\n",
    "\n",
    "  Args:\n",
    "    content (str): The string to search.\n",
    "    letter (str): The letter to search for.\n",
    "\n",
    "  Returns:\n",
    "    int\n",
    "\n",
    "  # Add a section detailing what errors might be raised\n",
    "  Raises:\n",
    "    ValueError: If `letter` is not a one-character string.\n",
    "  \"\"\"\n",
    "  if (not isinstance(letter, str)) or len(letter) != 1:\n",
    "    raise ValueError('`letter` must be a single character string.')\n",
    "  return len([char for char in content if char == letter])"
   ]
  },
  {
   "cell_type": "code",
   "execution_count": null,
   "id": "a7a30bbe",
   "metadata": {},
   "outputs": [],
   "source": [
    "import inspect\n",
    "\n",
    "def build_tooltip(function):\n",
    "  \"\"\"Create a tooltip for any function that shows the\n",
    "  function's docstring.\n",
    "\n",
    "  Args:\n",
    "    function (callable): The function we want a tooltip for.\n",
    "\n",
    "  Returns:\n",
    "    str\n",
    "  \"\"\"\n",
    "  # Get the docstring for the \"function\" argument by using inspect\n",
    "  docstring = inspect.getdoc(function)\n",
    "  border = '#' * 28\n",
    "  return '{}\\n{}\\n{}'.format(border, docstring, border)\n",
    "\n",
    "print(build_tooltip(count_letter))\n",
    "print(build_tooltip(range))\n",
    "print(build_tooltip(print))"
   ]
  },
  {
   "cell_type": "markdown",
   "id": "cc6d9264",
   "metadata": {},
   "source": [
    "### DRY and \"Do one thing\""
   ]
  },
  {
   "cell_type": "code",
   "execution_count": null,
   "id": "51ed2459",
   "metadata": {},
   "outputs": [],
   "source": [
    "def load_and_plot(path):\n",
    "    \"\"\"Load a dataset and plot the first principal componets.\n",
    "    \n",
    "    Args:\n",
    "        path(str): Location of a csv file.\n",
    "    \n",
    "    Returns:\n",
    "        tuple of ndarray: (features, labels)\n",
    "    \"\"\"\n",
    "    data = pd.read_csv(path)\n",
    "    y = data['label'].values\n",
    "    X = data[col for col in train.columns if col != 'label'].values\n",
    "    pca = PCA(n_components=2).fit_transform(X)\n",
    "    plt.scatter(pca[:,0], pca[:,1])\n",
    "    return X,y"
   ]
  },
  {
   "cell_type": "code",
   "execution_count": null,
   "id": "e46884ea",
   "metadata": {},
   "outputs": [],
   "source": [
    "train_X, train_y = load_and_plot('train.csv')\n",
    "val_X. val_Y = load_and_plot('validation.csv')\n",
    "test_X,test_y = load_and_plot('test.csv')"
   ]
  },
  {
   "cell_type": "code",
   "execution_count": null,
   "id": "d63fa4c1",
   "metadata": {},
   "outputs": [],
   "source": [
    "# make two functions from above function\n",
    "def load_data(path):\n",
    "    \"\"\"Load a dataset.\n",
    "    \n",
    "    Args:\n",
    "        path(str):the  location of the csv file\n",
    "        \n",
    "    Returns:\n",
    "        tuple of ndarray:(features, labels)\n",
    "    \"\"\"\n",
    "    data = pd.read_csv(path)\n",
    "    y = data['labels'].values\n",
    "    X = data[col for col in data.columns\n",
    "            if col != 'labels'].values\n",
    "    return X,y\n",
    "\n",
    "def plot_data(X):\n",
    "    \"\"\"Plot the first two principal components of a matrix.\n",
    "    \n",
    "    Args:\n",
    "        X(numpy.ndarray): The data to plot.\n",
    "    \"\"\"\n",
    "    pca = PCA(n_components=2).fit_transform(X)\n",
    "    plt.scatter(pca[:,0],pca[:,1])"
   ]
  },
  {
   "cell_type": "code",
   "execution_count": null,
   "id": "25f7d024",
   "metadata": {},
   "outputs": [],
   "source": [
    "def standardize(column):\n",
    "  \"\"\"Standardize the values in a column.\n",
    "\n",
    "  Args:\n",
    "    column (pandas Series): The data to standardize.\n",
    "\n",
    "  Returns:\n",
    "    pandas Series: the values as z-scores\n",
    "  \"\"\"\n",
    "  # Finish the function so that it returns the z-scores\n",
    "  z_score = ((column - column.mean()) / column.std())\n",
    "  return z_score\n",
    "\n",
    "# Use the standardize() function to calculate the z-scores\n",
    "df['y1_z'] = standardize(df.y1_gpa)\n",
    "df['y2_z'] = standardize(df.y2_gpa)\n",
    "df['y3_z'] = standardize(df.y3_gpa)\n",
    "df['y4_z'] = standardize(df.y4_gpa)"
   ]
  },
  {
   "cell_type": "code",
   "execution_count": null,
   "id": "64aeb09e",
   "metadata": {},
   "outputs": [],
   "source": [
    "def mean(values):\n",
    "  \"\"\"Get the mean of a sorted list of values\n",
    "\n",
    "  Args:\n",
    "    values (iterable of float): A list of numbers\n",
    "\n",
    "  Returns:\n",
    "    float\n",
    "  \"\"\"\n",
    "  # Write the mean() function\n",
    "  mean = sum(values) / len(values)\n",
    "  return mean"
   ]
  },
  {
   "cell_type": "code",
   "execution_count": null,
   "id": "40125199",
   "metadata": {},
   "outputs": [],
   "source": [
    "def median(values):\n",
    "  \"\"\"Get the median of a sorted list of values\n",
    "\n",
    "  Args:\n",
    "    values (iterable of float): A list of numbers\n",
    "\n",
    "  Returns:\n",
    "    float\n",
    "  \"\"\"\n",
    "  # Write the median() function\n",
    "  midpoint = int(len(values)/2)\n",
    "  if len(values) % 2 == 0:\n",
    "    median = (values[midpoint-1] + values[midpoint]) / 2\n",
    "  else:\n",
    "    median = values[midpoint]\n",
    "  return median"
   ]
  },
  {
   "cell_type": "markdown",
   "id": "3a38ed5c",
   "metadata": {},
   "source": [
    "## Pass by assignment"
   ]
  },
  {
   "cell_type": "code",
   "execution_count": 3,
   "id": "ee08f440",
   "metadata": {},
   "outputs": [
    {
     "name": "stdout",
     "output_type": "stream",
     "text": [
      "[99, 2, 3]\n"
     ]
    }
   ],
   "source": [
    "def foo(x):\n",
    "    x[0] = 99\n",
    "mylist = [1,2,3]\n",
    "foo(mylist)\n",
    "print(mylist)"
   ]
  },
  {
   "cell_type": "code",
   "execution_count": 4,
   "id": "a0590e83",
   "metadata": {},
   "outputs": [
    {
     "name": "stdout",
     "output_type": "stream",
     "text": [
      "3\n"
     ]
    }
   ],
   "source": [
    "def bar(x):\n",
    "    x = x + 90\n",
    "my_var = 3\n",
    "bar(my_var)\n",
    "print(my_var)"
   ]
  },
  {
   "cell_type": "code",
   "execution_count": 5,
   "id": "998a6553",
   "metadata": {},
   "outputs": [
    {
     "name": "stdout",
     "output_type": "stream",
     "text": [
      "[1, 2, 3, 4]\n"
     ]
    }
   ],
   "source": [
    "a = [1,2,3]\n",
    "b = a\n",
    "a.append(4)\n",
    "print(b)"
   ]
  },
  {
   "cell_type": "code",
   "execution_count": 6,
   "id": "9d6bd3b2",
   "metadata": {},
   "outputs": [
    {
     "name": "stdout",
     "output_type": "stream",
     "text": [
      "[1, 2, 3, 4, 5]\n"
     ]
    }
   ],
   "source": [
    "b.append(5)\n",
    "print(a)"
   ]
  },
  {
   "cell_type": "code",
   "execution_count": 7,
   "id": "065c2dee",
   "metadata": {},
   "outputs": [
    {
     "data": {
      "text/plain": [
       "[1]"
      ]
     },
     "execution_count": 7,
     "metadata": {},
     "output_type": "execute_result"
    }
   ],
   "source": [
    "def foo(var=[]):\n",
    "    var.append(1)\n",
    "    return var\n",
    "foo()"
   ]
  },
  {
   "cell_type": "code",
   "execution_count": 8,
   "id": "1161211d",
   "metadata": {},
   "outputs": [
    {
     "data": {
      "text/plain": [
       "[1, 1]"
      ]
     },
     "execution_count": 8,
     "metadata": {},
     "output_type": "execute_result"
    }
   ],
   "source": [
    "foo()"
   ]
  },
  {
   "cell_type": "code",
   "execution_count": 9,
   "id": "9be8a984",
   "metadata": {},
   "outputs": [
    {
     "data": {
      "text/plain": [
       "[1, 1, 1]"
      ]
     },
     "execution_count": 9,
     "metadata": {},
     "output_type": "execute_result"
    }
   ],
   "source": [
    "foo()"
   ]
  },
  {
   "cell_type": "code",
   "execution_count": 11,
   "id": "ef0343f8",
   "metadata": {},
   "outputs": [
    {
     "data": {
      "text/plain": [
       "[1]"
      ]
     },
     "execution_count": 11,
     "metadata": {},
     "output_type": "execute_result"
    }
   ],
   "source": [
    "#workaround\n",
    "def foo(var=None):\n",
    "    if var is None:\n",
    "        var = []\n",
    "    var.append(1)\n",
    "    return var\n",
    "foo()"
   ]
  },
  {
   "cell_type": "code",
   "execution_count": 12,
   "id": "1f773142",
   "metadata": {},
   "outputs": [
    {
     "data": {
      "text/plain": [
       "[1]"
      ]
     },
     "execution_count": 12,
     "metadata": {},
     "output_type": "execute_result"
    }
   ],
   "source": [
    "foo()"
   ]
  },
  {
   "cell_type": "code",
   "execution_count": 14,
   "id": "c4d6eaae",
   "metadata": {},
   "outputs": [],
   "source": [
    "def store_lower(_dict, _string):\n",
    "  \"\"\"Add a mapping between `_string` and a lowercased version of `_string` to `_dict`\n",
    "\n",
    "  Args:\n",
    "    _dict (dict): The dictionary to update.\n",
    "    _string (str): The string to add.\n",
    "  \"\"\"\n",
    "  orig_string = _string\n",
    "  _string = _string.lower()\n",
    "  _dict[orig_string] = _string\n",
    "\n",
    "d = {}\n",
    "s = 'Hello'\n",
    "\n",
    "store_lower(d, s)"
   ]
  },
  {
   "cell_type": "code",
   "execution_count": null,
   "id": "90171cdb",
   "metadata": {},
   "outputs": [],
   "source": []
  }
 ],
 "metadata": {
  "kernelspec": {
   "display_name": "Python 3 (ipykernel)",
   "language": "python",
   "name": "python3"
  },
  "language_info": {
   "codemirror_mode": {
    "name": "ipython",
    "version": 3
   },
   "file_extension": ".py",
   "mimetype": "text/x-python",
   "name": "python",
   "nbconvert_exporter": "python",
   "pygments_lexer": "ipython3",
   "version": "3.9.7"
  }
 },
 "nbformat": 4,
 "nbformat_minor": 5
}
