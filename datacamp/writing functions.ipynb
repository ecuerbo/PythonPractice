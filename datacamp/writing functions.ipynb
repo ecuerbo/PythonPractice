{
 "cells": [
  {
   "cell_type": "code",
   "execution_count": 1,
   "id": "f0c6f05c",
   "metadata": {},
   "outputs": [
    {
     "name": "stdout",
     "output_type": "stream",
     "text": [
      "Return the answer to life,\n",
      "    the universe and everything.\n",
      "    \n",
      "    Returns:\n",
      "        int\n",
      "    \n"
     ]
    }
   ],
   "source": [
    "def the_answer():\n",
    "    \"\"\"Return the answer to life,\n",
    "    the universe and everything.\n",
    "    \n",
    "    Returns:\n",
    "        int\n",
    "    \"\"\"\n",
    "    return 45\n",
    "print(the_answer.__doc__)"
   ]
  },
  {
   "cell_type": "code",
   "execution_count": 2,
   "id": "9731a547",
   "metadata": {},
   "outputs": [
    {
     "name": "stdout",
     "output_type": "stream",
     "text": [
      "Return the answer to life,\n",
      "the universe and everything.\n",
      "\n",
      "Returns:\n",
      "    int\n"
     ]
    }
   ],
   "source": [
    "import inspect\n",
    "print(inspect.getdoc(the_answer))"
   ]
  },
  {
   "cell_type": "code",
   "execution_count": null,
   "id": "a1aa82fd",
   "metadata": {},
   "outputs": [],
   "source": [
    "def count_letter(content, letter):\n",
    "  \"\"\"Count the number of times `letter` appears in `content`.\n",
    "\n",
    "  Args:\n",
    "    content (str): The string to search.\n",
    "    letter (str): The letter to search for.\n",
    "\n",
    "  Returns:\n",
    "    int\n",
    "\n",
    "  # Add a section detailing what errors might be raised\n",
    "  Raises:\n",
    "    ValueError: If `letter` is not a one-character string.\n",
    "  \"\"\"\n",
    "  if (not isinstance(letter, str)) or len(letter) != 1:\n",
    "    raise ValueError('`letter` must be a single character string.')\n",
    "  return len([char for char in content if char == letter])"
   ]
  },
  {
   "cell_type": "code",
   "execution_count": null,
   "id": "a7a30bbe",
   "metadata": {},
   "outputs": [],
   "source": [
    "import inspect\n",
    "\n",
    "def build_tooltip(function):\n",
    "  \"\"\"Create a tooltip for any function that shows the\n",
    "  function's docstring.\n",
    "\n",
    "  Args:\n",
    "    function (callable): The function we want a tooltip for.\n",
    "\n",
    "  Returns:\n",
    "    str\n",
    "  \"\"\"\n",
    "  # Get the docstring for the \"function\" argument by using inspect\n",
    "  docstring = inspect.getdoc(function)\n",
    "  border = '#' * 28\n",
    "  return '{}\\n{}\\n{}'.format(border, docstring, border)\n",
    "\n",
    "print(build_tooltip(count_letter))\n",
    "print(build_tooltip(range))\n",
    "print(build_tooltip(print))"
   ]
  },
  {
   "cell_type": "markdown",
   "id": "75d20f57",
   "metadata": {},
   "source": [
    "### DRY and \"Do one thing\""
   ]
  },
  {
   "cell_type": "code",
   "execution_count": null,
   "id": "6ef0d50b",
   "metadata": {},
   "outputs": [],
   "source": [
    "def load_and_plot(path):\n",
    "    \"\"\"Load a dataset and plot the first principal componets.\n",
    "    \n",
    "    Args:\n",
    "        path(str): Location of a csv file.\n",
    "    \n",
    "    Returns:\n",
    "        tuple of ndarray: (features, labels)\n",
    "    \"\"\"\n",
    "    data = pd.read_csv(path)\n",
    "    y = data['label'].values\n",
    "    X = data[col for col in train.columns if col != 'label'].values\n",
    "    pca = PCA(n_components=2).fit_transform(X)\n",
    "    plt.scatter(pca[:,0], pca[:,1])\n",
    "    return X,y"
   ]
  },
  {
   "cell_type": "code",
   "execution_count": null,
   "id": "16c7b965",
   "metadata": {},
   "outputs": [],
   "source": [
    "train_X, train_y = load_and_plot('train.csv')\n",
    "val_X. val_Y = load_and_plot('validation.csv')\n",
    "test_X,test_y = load_and_plot('test.csv')"
   ]
  },
  {
   "cell_type": "code",
   "execution_count": null,
   "id": "dde0827c",
   "metadata": {},
   "outputs": [],
   "source": [
    "# make two functions from above function\n",
    "def load_data(path):\n",
    "    \"\"\"Load a dataset.\n",
    "    \n",
    "    Args:\n",
    "        path(str):the  location of the csv file\n",
    "        \n",
    "    Returns:\n",
    "        tuple of ndarray:(features, labels)\n",
    "    \"\"\"\n",
    "    data = pd.read_csv(path)\n",
    "    y = data['labels'].values\n",
    "    X = data[col for col in data.columns\n",
    "            if col != 'labels'].values\n",
    "    return X,y\n",
    "\n",
    "def plot_data(X):\n",
    "    \"\"\"Plot the first two principal components of a matrix.\n",
    "    \n",
    "    Args:\n",
    "        X(numpy.ndarray): The data to plot.\n",
    "    \"\"\"\n",
    "    pca = PCA(n_components=2).fit_transform(X)\n",
    "    plt.scatter(pca[:,0],pca[:,1])"
   ]
  },
  {
   "cell_type": "code",
   "execution_count": null,
   "id": "ce58fefa",
   "metadata": {},
   "outputs": [],
   "source": []
  },
  {
   "cell_type": "code",
   "execution_count": null,
   "id": "722120e5",
   "metadata": {},
   "outputs": [],
   "source": []
  }
 ],
 "metadata": {
  "kernelspec": {
   "display_name": "Python 3 (ipykernel)",
   "language": "python",
   "name": "python3"
  },
  "language_info": {
   "codemirror_mode": {
    "name": "ipython",
    "version": 3
   },
   "file_extension": ".py",
   "mimetype": "text/x-python",
   "name": "python",
   "nbconvert_exporter": "python",
   "pygments_lexer": "ipython3",
   "version": "3.9.7"
  }
 },
 "nbformat": 4,
 "nbformat_minor": 5
}
