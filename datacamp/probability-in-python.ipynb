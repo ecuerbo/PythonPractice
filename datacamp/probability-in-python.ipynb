{
 "cells": [
  {
   "cell_type": "code",
   "execution_count": 9,
   "id": "b787d250",
   "metadata": {},
   "outputs": [
    {
     "data": {
      "text/plain": [
       "7"
      ]
     },
     "execution_count": 9,
     "metadata": {},
     "output_type": "execute_result"
    }
   ],
   "source": [
    "from scipy.stats import bernoulli\n",
    "bernoulli.rvs(p=0.5,size=10)"
   ]
  },
  {
   "cell_type": "code",
   "execution_count": 10,
   "id": "51988318",
   "metadata": {},
   "outputs": [
    {
     "data": {
      "text/plain": [
       "array([5])"
      ]
     },
     "execution_count": 10,
     "metadata": {},
     "output_type": "execute_result"
    }
   ],
   "source": [
    "from scipy.stats import binom\n",
    "binom.rvs(n=10,p=0.5, size=1)"
   ]
  },
  {
   "cell_type": "code",
   "execution_count": 11,
   "id": "f3feb58f",
   "metadata": {},
   "outputs": [
    {
     "data": {
      "text/plain": [
       "array([3, 8, 4, 6, 2, 8, 2, 3, 5, 7])"
      ]
     },
     "execution_count": 11,
     "metadata": {},
     "output_type": "execute_result"
    }
   ],
   "source": [
    "binom.rvs(n=10,p=0.5, size=10)"
   ]
  },
  {
   "cell_type": "code",
   "execution_count": 12,
   "id": "b455b6a1",
   "metadata": {},
   "outputs": [
    {
     "data": {
      "text/plain": [
       "array([4])"
      ]
     },
     "execution_count": 12,
     "metadata": {},
     "output_type": "execute_result"
    }
   ],
   "source": [
    "#random generator see\n",
    "binom.rvs(n=10,p=0.5, size=1, random_state=42)"
   ]
  },
  {
   "cell_type": "code",
   "execution_count": 13,
   "id": "015325a2",
   "metadata": {},
   "outputs": [
    {
     "data": {
      "text/plain": [
       "0.04394531250000004"
      ]
     },
     "execution_count": 13,
     "metadata": {},
     "output_type": "execute_result"
    }
   ],
   "source": [
    "#probability mass function (pmf)\n",
    "#prob of 2 heads after 10 throws with a fair coin\n",
    "binom.pmf(k=2,n=10,p=0.5)"
   ]
  },
  {
   "cell_type": "code",
   "execution_count": 14,
   "id": "bfa0a2c0",
   "metadata": {},
   "outputs": [
    {
     "data": {
      "text/plain": [
       "0.24609375000000003"
      ]
     },
     "execution_count": 14,
     "metadata": {},
     "output_type": "execute_result"
    }
   ],
   "source": [
    "#prob of 5 heads after 10 throws with a fair coin\n",
    "binom.pmf(k=5,n=10,p=0.5)"
   ]
  },
  {
   "cell_type": "code",
   "execution_count": 15,
   "id": "1c3c2072",
   "metadata": {},
   "outputs": [
    {
     "data": {
      "text/plain": [
       "1.302622713144528e-05"
      ]
     },
     "execution_count": 15,
     "metadata": {},
     "output_type": "execute_result"
    }
   ],
   "source": [
    "#prob of 50 heads after 100 throws with p=0.3\n",
    "binom.pmf(k=50,n=100,p=0.3)"
   ]
  },
  {
   "cell_type": "code",
   "execution_count": 16,
   "id": "957ac765",
   "metadata": {},
   "outputs": [
    {
     "data": {
      "text/plain": [
       "0.04677968235272997"
      ]
     },
     "execution_count": 16,
     "metadata": {},
     "output_type": "execute_result"
    }
   ],
   "source": [
    "#prob of 65 heads after 100 throws with p=0.7\n",
    "binom.pmf(k=65,n=100,p=0.7)"
   ]
  },
  {
   "cell_type": "code",
   "execution_count": 17,
   "id": "ec7f285e",
   "metadata": {},
   "outputs": [
    {
     "data": {
      "text/plain": [
       "0.5"
      ]
     },
     "execution_count": 17,
     "metadata": {},
     "output_type": "execute_result"
    }
   ],
   "source": [
    "#cumulative distribution function(cdf)\n",
    "binom.cdf(k=1,n=3,p=0.5)"
   ]
  },
  {
   "cell_type": "code",
   "execution_count": 18,
   "id": "b93bde53",
   "metadata": {},
   "outputs": [
    {
     "data": {
      "text/plain": [
       "0.623046875"
      ]
     },
     "execution_count": 18,
     "metadata": {},
     "output_type": "execute_result"
    }
   ],
   "source": [
    "#prob of 5 heads or less after 10 throws with a fair coin\n",
    "binom.cdf(k=5, n=10, p=0.5)"
   ]
  },
  {
   "cell_type": "code",
   "execution_count": 19,
   "id": "d06db129",
   "metadata": {},
   "outputs": [
    {
     "data": {
      "text/plain": [
       "0.9999909653138043"
      ]
     },
     "execution_count": 19,
     "metadata": {},
     "output_type": "execute_result"
    }
   ],
   "source": [
    "#prob of 50 heads or less after 100 throws with p=0.3\n",
    "binom.cdf(k=50, n=100, p=0.3)"
   ]
  },
  {
   "cell_type": "code",
   "execution_count": 21,
   "id": "cef6440d",
   "metadata": {},
   "outputs": [
    {
     "data": {
      "text/plain": [
       "0.9875015928335618"
      ]
     },
     "execution_count": 21,
     "metadata": {},
     "output_type": "execute_result"
    }
   ],
   "source": [
    "#pronb of more than 59 heads after 100 throws with p=0.7\n",
    "1-binom.sf(k=59,n=100, p=0.7)"
   ]
  },
  {
   "cell_type": "code",
   "execution_count": null,
   "id": "7d053164",
   "metadata": {},
   "outputs": [],
   "source": [
    "binom.pmf() --> calculates the probability of having exactly k heads out of n coin flips\n",
    "binom.cdf() --> calculates the probability of having k heads out of n coin flips\n",
    "binom.sf () --> calculates the probability of having more than k heads out of n coin flips"
   ]
  },
  {
   "cell_type": "code",
   "execution_count": 16,
   "id": "8594c425",
   "metadata": {},
   "outputs": [
    {
     "data": {
      "text/plain": [
       "0.5"
      ]
     },
     "execution_count": 16,
     "metadata": {},
     "output_type": "execute_result"
    }
   ],
   "source": [
    "from scipy.stats import describe\n",
    "describe([0,1]).mean"
   ]
  },
  {
   "cell_type": "code",
   "execution_count": 17,
   "id": "497969ff",
   "metadata": {},
   "outputs": [
    {
     "data": {
      "text/plain": [
       "0.5"
      ]
     },
     "execution_count": 17,
     "metadata": {},
     "output_type": "execute_result"
    }
   ],
   "source": [
    "describe([0,1]).variance"
   ]
  },
  {
   "cell_type": "code",
   "execution_count": 18,
   "id": "711093a2",
   "metadata": {},
   "outputs": [
    {
     "data": {
      "text/plain": [
       "(array(5.), array(2.5))"
      ]
     },
     "execution_count": 18,
     "metadata": {},
     "output_type": "execute_result"
    }
   ],
   "source": [
    "from scipy.stats import binom\n",
    "binom.stats(n=10,p=0.5)"
   ]
  },
  {
   "cell_type": "code",
   "execution_count": 19,
   "id": "2759c550",
   "metadata": {},
   "outputs": [
    {
     "data": {
      "text/plain": [
       "(array(0.5), array(0.25))"
      ]
     },
     "execution_count": 19,
     "metadata": {},
     "output_type": "execute_result"
    }
   ],
   "source": [
    "#expected value for 1 fair coin flip is\n",
    "binom.stats(n=1,p=0.5)"
   ]
  },
  {
   "cell_type": "code",
   "execution_count": 20,
   "id": "d6fb35d3",
   "metadata": {},
   "outputs": [
    {
     "data": {
      "text/plain": [
       "(array(0.3), array(0.21))"
      ]
     },
     "execution_count": 20,
     "metadata": {},
     "output_type": "execute_result"
    }
   ],
   "source": [
    "#1 biased coin flip with prob of 0.3\n",
    "binom.stats(n=1,p=0.3)"
   ]
  },
  {
   "cell_type": "code",
   "execution_count": 23,
   "id": "4e1780e0",
   "metadata": {},
   "outputs": [
    {
     "name": "stdout",
     "output_type": "stream",
     "text": [
      "0.52\n"
     ]
    }
   ],
   "source": [
    "#sample mean from generated sample of 100 fair coin flips\n",
    "flips100 = binom.rvs(n=1,p=0.5, size = 100)\n",
    "flips100_mean = describe(flips100).mean\n",
    "print(flips100_mean)"
   ]
  },
  {
   "cell_type": "code",
   "execution_count": 24,
   "id": "9b00f7e7",
   "metadata": {},
   "outputs": [
    {
     "data": {
      "text/plain": [
       "0.482"
      ]
     },
     "execution_count": 24,
     "metadata": {},
     "output_type": "execute_result"
    }
   ],
   "source": [
    "#1000 fair coin flips\n",
    "describe(binom.rvs(n=1,p=0.5,size=1000)).mean"
   ]
  },
  {
   "cell_type": "code",
   "execution_count": 25,
   "id": "cea03ab8",
   "metadata": {},
   "outputs": [
    {
     "data": {
      "text/plain": [
       "0.504"
      ]
     },
     "execution_count": 25,
     "metadata": {},
     "output_type": "execute_result"
    }
   ],
   "source": [
    "#2000 fair coin flips\n",
    "describe(binom.rvs(n=1,p=0.5,size=2000)).mean"
   ]
  },
  {
   "cell_type": "code",
   "execution_count": 28,
   "id": "fed4edb3",
   "metadata": {},
   "outputs": [
    {
     "name": "stdout",
     "output_type": "stream",
     "text": [
      "2.9875 2.0683779389694847 3.0 2.0999999999999996 (array(3.), array(2.1))\n"
     ]
    }
   ],
   "source": [
    "sample = binom.rvs(n=10,p=0.3,size=2000)\n",
    "#calc sample mean and variance from sample variable\n",
    "sample_describe = describe(sample)\n",
    "\n",
    "#calc mean from n and p\n",
    "mean = 10*0.3\n",
    "variance = mean*(1-0.3)\n",
    "\n",
    "#calculate sample mean, var fro 10 coin flips with p=0.3\n",
    "binom_stats = binom.stats(n=10, p=0.3)\n",
    "\n",
    "print(sample_describe.mean, sample_describe.variance,mean, variance, binom_stats)"
   ]
  },
  {
   "cell_type": "code",
   "execution_count": 33,
   "id": "6a308991",
   "metadata": {},
   "outputs": [
    {
     "name": "stdout",
     "output_type": "stream",
     "text": [
      "Mean 2.498466666666667\n",
      "Variance 1.9151185185185187\n"
     ]
    }
   ],
   "source": [
    "averages = []\n",
    "variances = []\n",
    "\n",
    "for i in range(0,1500):\n",
    "    #10 trials of 10 coin flips with 25% probability of heads\n",
    "    sample = binom.rvs(n=10, p=0.25, size =10)\n",
    "    averages.append(describe(sample).mean)\n",
    "    variances.append(describe(sample).variance)\n",
    "print(\"Mean {}\".format(describe(averages).mean))\n",
    "print(\"Variance {}\".format(describe(variances).mean))"
   ]
  },
  {
   "cell_type": "code",
   "execution_count": 34,
   "id": "49ca168d",
   "metadata": {},
   "outputs": [
    {
     "data": {
      "text/plain": [
       "(array(2.5), array(1.875))"
      ]
     },
     "execution_count": 34,
     "metadata": {},
     "output_type": "execute_result"
    }
   ],
   "source": [
    "binom.stats(n=10,p=0.25)"
   ]
  },
  {
   "cell_type": "markdown",
   "id": "74005f69",
   "metadata": {},
   "source": [
    "### probabilities of two events"
   ]
  },
  {
   "cell_type": "code",
   "execution_count": 45,
   "id": "e79253ab",
   "metadata": {},
   "outputs": [],
   "source": [
    "#generate a sampl ethat represents 1000 that represent 1000 throws of 2 fair coin flips\n",
    "from scipy.stats import binom\n",
    "sample = binom.rvs(n=2, p=0.5,size=1000, random_state=1)\n",
    "#sample"
   ]
  },
  {
   "cell_type": "code",
   "execution_count": 51,
   "id": "122c3cc3",
   "metadata": {},
   "outputs": [
    {
     "data": {
      "text/plain": [
       "RepeatedResults(values=array([0., 1., 2.]), counts=array([249, 497, 254]))"
      ]
     },
     "execution_count": 51,
     "metadata": {},
     "output_type": "execute_result"
    }
   ],
   "source": [
    "#find repeated data\n",
    "from scipy.stats import find_repeats\n",
    "find_repeats(sample)"
   ]
  },
  {
   "cell_type": "code",
   "execution_count": 47,
   "id": "8a48560c",
   "metadata": {},
   "outputs": [
    {
     "data": {
      "text/plain": [
       "array([0.039, 0.317, 0.644])"
      ]
     },
     "execution_count": 47,
     "metadata": {},
     "output_type": "execute_result"
    }
   ],
   "source": [
    "#measuring biased sample\n",
    "biased_sample = binom.rvs(n=2, p=0.8,size=1000, random_state=1)\n",
    "from scipy.stats import relfreq\n",
    "relfreq(biased_sample, numbins=3).frequency"
   ]
  },
  {
   "cell_type": "code",
   "execution_count": 48,
   "id": "e8f7d793",
   "metadata": {},
   "outputs": [
    {
     "name": "stdout",
     "output_type": "stream",
     "text": [
      "5e-05\n"
     ]
    }
   ],
   "source": [
    "#joint probability caculation\n",
    "P_engine_fail = 0.01\n",
    "P_GearB_fail = 0.005\n",
    "both_fail = P_engine_fail * P_GearB_fail\n",
    "print(both_fail)"
   ]
  },
  {
   "cell_type": "code",
   "execution_count": 49,
   "id": "b9ab81d7",
   "metadata": {},
   "outputs": [
    {
     "data": {
      "text/plain": [
       "0.3076923076923077"
      ]
     },
     "execution_count": 49,
     "metadata": {},
     "output_type": "execute_result"
    }
   ],
   "source": [
    "#P(Jack or a King) = P(Jack) + = 1/13 + 1/3 = 2/13\n",
    "#P(Jack or a Heart) = 4/52 + 13/52 - 1/52 = 4/13"
   ]
  },
  {
   "cell_type": "code",
   "execution_count": null,
   "id": "a555718b",
   "metadata": {},
   "outputs": [],
   "source": [
    "sample_2flip = binom.rvs(n=2, p=0.5,size=1000, random_state=1)\n",
    "#how many time you got 2 heads from sample data\n",
    "count_2heads = find_repeats(sample_2flip).count[2]\n",
    "prob_2heads = count_2heads/1000\n",
    "prob_2heads"
   ]
  },
  {
   "cell_type": "code",
   "execution_count": 53,
   "id": "02a53a64",
   "metadata": {},
   "outputs": [
    {
     "data": {
      "text/plain": [
       "array([0.25, 0.5 , 0.25])"
      ]
     },
     "execution_count": 53,
     "metadata": {},
     "output_type": "execute_result"
    }
   ],
   "source": [
    "# probabilty of getting 0,1,2\n",
    "binom.pmf([0,1,2], n=2, p=0.5)"
   ]
  },
  {
   "cell_type": "code",
   "execution_count": null,
   "id": "e55d91a6",
   "metadata": {},
   "outputs": [],
   "source": []
  }
 ],
 "metadata": {
  "kernelspec": {
   "display_name": "Python 3 (ipykernel)",
   "language": "python",
   "name": "python3"
  },
  "language_info": {
   "codemirror_mode": {
    "name": "ipython",
    "version": 3
   },
   "file_extension": ".py",
   "mimetype": "text/x-python",
   "name": "python",
   "nbconvert_exporter": "python",
   "pygments_lexer": "ipython3",
   "version": "3.9.7"
  }
 },
 "nbformat": 4,
 "nbformat_minor": 5
}
