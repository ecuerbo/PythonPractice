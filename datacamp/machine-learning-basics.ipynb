{
 "cells": [
  {
   "cell_type": "code",
   "execution_count": 1,
   "id": "043d7f61",
   "metadata": {},
   "outputs": [],
   "source": [
    "#Why split\n",
    "#1.) Reduce overfitting\n",
    "#2.) Evaluate performance on a holdout set"
   ]
  },
  {
   "cell_type": "code",
   "execution_count": null,
   "id": "f702768d",
   "metadata": {},
   "outputs": [],
   "source": [
    "from sklearn.model_selection import train_test_split\n",
    "X_train, X_test, y_train, y_test = train_test_split(X,y, test_size=0.2, random_state=42)"
   ]
  },
  {
   "cell_type": "code",
   "execution_count": null,
   "id": "5a948f1c",
   "metadata": {},
   "outputs": [],
   "source": [
    "#stratified sampling\n",
    "X_train, X_test, y_train, y_test = train_test_split(X,y, stratify=y, random_state=42)\n",
    "y['labels'].value_counts()"
   ]
  },
  {
   "cell_type": "code",
   "execution_count": null,
   "id": "4dc7aec1",
   "metadata": {},
   "outputs": [],
   "source": [
    "# Create a DataFrame with all columns except category_desc\n",
    "X = volunteer.drop('category_desc', axis=1)\n",
    "\n",
    "# Create a category_desc labels dataset\n",
    "y = volunteer[['category_desc']]\n",
    "\n",
    "# Use stratified sampling to split up the dataset according to the y dataset\n",
    "X_train, X_test, y_train, y_test = train_test_split(X, y, stratify=y, random_state=42)"
   ]
  },
  {
   "cell_type": "code",
   "execution_count": null,
   "id": "66f204e6",
   "metadata": {},
   "outputs": [],
   "source": [
    "# Split the dataset into training and test sets\n",
    "X_train, X_test, y_train, y_test = train_test_split(X, y, stratify=y, random_state=42)\n",
    "\n",
    "knn = KNeighborsClassifier()\n",
    "\n",
    "# Fit the knn model to the training data\n",
    "knn.fit(X_train, y_train)\n",
    "\n",
    "# Score the model on the test data\n",
    "print(knn.score(X_test, y_test))"
   ]
  },
  {
   "cell_type": "code",
   "execution_count": null,
   "id": "1b52cd31",
   "metadata": {},
   "outputs": [],
   "source": [
    "#Regression Tree in sklearn\n",
    "from sklearn.tree import DecisionTreeRegressor\n",
    "from sklearn.model_selection import train_test_split\n",
    "from sklearn.metrics import mean_squared_error as MSE\n",
    "\n",
    "#Split data\n",
    "X_train, X_test, y_train, y_test= train_test_split(X,y,\n",
    "                                                  test_size=0.2. random_state=3)\n",
    "#Instantiate a DecisonTreeRegressor 'dt'\n",
    "dt = DecisionTreeRegressor(max_depth=4,\n",
    "                          min_samples_leaf=0.1,\n",
    "                          random_state=3)\n",
    "#fit 'dt' to the training-set\n",
    "dt.fit(X_train, y_train)\n",
    "#predict test-set labels\n",
    "y_pred = dt.predict(X_test)\n",
    "#compute test-set MSE\n",
    "mse_dt = MSE(y_test, y_pred)\n",
    "#compute test-set RMSE\n",
    "rmse_dt = mse_dt**(1/2)\n",
    "print(rmse_dt)"
   ]
  },
  {
   "cell_type": "code",
   "execution_count": null,
   "id": "2864e36c",
   "metadata": {},
   "outputs": [],
   "source": [
    "# Import mean_squared_error from sklearn.metrics as MSE\n",
    "from sklearn.metrics import mean_squared_error as MSE\n",
    "\n",
    "# Compute y_pred\n",
    "y_pred = dt.predict(X_test)\n",
    "\n",
    "# Compute mse_dt\n",
    "mse_dt = MSE(y_test, y_pred)\n",
    "\n",
    "# Compute rmse_dt\n",
    "rmse_dt = mse_dt**(1/2)\n",
    "\n",
    "# Print rmse_dt\n",
    "print(\"Test set RMSE of dt: {:.2f}\".format(rmse_dt))\n",
    "\n",
    "# Predict test set labels \n",
    "y_pred_lr = lr.predict(X_test)\n",
    "\n",
    "# Compute mse_lr\n",
    "mse_lr = MSE(y_test, y_pred_lr)\n",
    "\n",
    "# Compute rmse_lr\n",
    "rmse_lr = mse_lr**(1/2)\n",
    "\n",
    "# Print rmse_lr\n",
    "print('Linear Regression test set RMSE: {:.2f}'.format(rmse_lr))\n",
    "\n",
    "# Print rmse_dt\n",
    "print('Regression Tree test set RMSE: {:.2f}'.format(rmse_dt))"
   ]
  },
  {
   "cell_type": "markdown",
   "id": "46aa563f",
   "metadata": {},
   "source": [
    "## CLASSIFICATION-TREES"
   ]
  },
  {
   "cell_type": "code",
   "execution_count": null,
   "id": "1e37b900",
   "metadata": {},
   "outputs": [],
   "source": [
    "#import decisiontreeclasifier\n",
    "from sklearn.tree import DecisionTreeClassifier\n",
    "from sklearn.model_selection import train_test_split\n",
    "#import accuracy score\n",
    "from sklearn.metrics import accuracy_score\n",
    "\n",
    "#split dataset\n",
    "X_train,X_test, y_train,y_test = train_test_split(X,y,\n",
    "                                                 test_size,\n",
    "                                                 stratify=y,\n",
    "                                                 random_state=1)\n",
    "#instantiate dt\n",
    "dt = DecisionTreeClassifier(max_depth=2, random_state=1)\n",
    "\n",
    "#fit dt to training_set\n",
    "dt.fit(X_train,y_train)\n",
    "\n",
    "#Predict the test set labels\n",
    "y_pred = dt.predict(X_test)\n",
    "#Evaluate the test set accuracy\n",
    "accuracy_score(y_test, y_pred)"
   ]
  },
  {
   "cell_type": "code",
   "execution_count": null,
   "id": "5a2aabbf",
   "metadata": {},
   "outputs": [],
   "source": [
    "#kind of nodes --> root,internal node, leaf"
   ]
  },
  {
   "cell_type": "code",
   "execution_count": null,
   "id": "3b9ce051",
   "metadata": {},
   "outputs": [],
   "source": [
    "#Decision tree for regression\n",
    "from sklearn.tree import DecisionTreeRegressor\n",
    "from sklearn.model_selection import train_test_split\n",
    "from sklearn.metrics import mean_squared_error as MSE\n",
    "\n",
    "#SPLIT DATA\n",
    "X_train,X_test,y_train, y_test = train_test_split(X,y,\n",
    "                                                 test_size=0.2,\n",
    "                                                 random_state=3)\n",
    "dt = DecisionTreeRegressor(max_depth=4,\n",
    "                          min_samples_leaf=0.1,\n",
    "                          random_state=3)\n",
    "df.fit(X_train,y_train)\n",
    "y_pred = dt.predict(X_test)\n",
    "#compute test-set MSE,\n",
    "mse_dt = MSE(y_test,y_pred)\n",
    "rmse_dt = mse_dt**(1/2)\n",
    "print(rmse_dt)"
   ]
  },
  {
   "cell_type": "code",
   "execution_count": null,
   "id": "fb91d798",
   "metadata": {},
   "outputs": [],
   "source": [
    "#diagnose bias and variance problems\n",
    "#evaluate the list of MSE obtained by 10-fold CV\n",
    "#Set n_jobs to -1 in order to exploit all CPU cores in computation\n",
    "MSE_CV = - cross_val_score(dt,X_train,y_train, cv=10,\n",
    "                          scoring='neg_mean_squared_error',\n",
    "                          n_jobs = -1)\n",
    "#fit 'dt' to the training set\n",
    "dt.fit(X_train, y_train)\n",
    "#predict the labels of training set\n",
    "y_predict_train = dt.predict(X_train)\n",
    "#predict the labels of test set\n",
    "y_predict_test = dt.predict(X_test)\n",
    "\n",
    "#CV MSE\n",
    "print('CV MSE: {:.2f}'.format(MSE_CV.mean()))\n",
    "#Training set MSE\n",
    "print('Train MSE: {:.2f}'.format(MSE(y_train, y_predict_train)))\n",
    "#Test set MSE\n",
    "print('Test MSE: {:.2f}'.format(MSE(y_test, y_predict_test)))"
   ]
  },
  {
   "cell_type": "code",
   "execution_count": null,
   "id": "f4cfdefc",
   "metadata": {},
   "outputs": [],
   "source": [
    "CV MSE: 20.51\n",
    "Train MSE: 15.30\n",
    "Test MSE: 20.92\n",
    "#Since Train MSE < CV MSE; dt overfits and suffers from high vriance"
   ]
  },
  {
   "cell_type": "code",
   "execution_count": null,
   "id": "a09b58d3",
   "metadata": {},
   "outputs": [],
   "source": [
    "# Compute the array containing the 10-folds CV MSEs\n",
    "MSE_CV_scores = - cross_val_score(dt, X_train, y_train, cv=10, \n",
    "                       scoring='neg_mean_squared_error',\n",
    "                       n_jobs=-1)\n",
    "\n",
    "# Compute the 10-folds CV RMSE\n",
    "RMSE_CV = (MSE_CV_scores.mean())**(1/2)\n",
    "\n",
    "# Print RMSE_CV\n",
    "print('CV RMSE: {:.2f}'.format(RMSE_CV))"
   ]
  },
  {
   "cell_type": "code",
   "execution_count": null,
   "id": "1d5304fa",
   "metadata": {},
   "outputs": [],
   "source": [
    "# Import mean_squared_error from sklearn.metrics as MSE\n",
    "from sklearn.metrics import mean_squared_error as MSE\n",
    "\n",
    "# Fit dt to the training set\n",
    "dt.fit(X_train, y_train)\n",
    "\n",
    "# Predict the labels of the training set\n",
    "y_pred_train = dt.predict(X_train)\n",
    "\n",
    "# Evaluate the training set RMSE of dt\n",
    "RMSE_train = (MSE(y_train, y_pred_train))**(1/2)\n",
    "\n",
    "# Print RMSE_train\n",
    "print('Train RMSE: {:.2f}'.format(RMSE_train))"
   ]
  },
  {
   "cell_type": "code",
   "execution_count": null,
   "id": "052dc19c",
   "metadata": {},
   "outputs": [],
   "source": [
    "CV MSE: 5.14\n",
    "Train MSE: 5.15\n",
    "Test MSE: 5.1\n",
    "#dt suffers from high bias because RMSE_CV ia about equal to RMSE_train and both scores are greater than RMSE-test\n"
   ]
  },
  {
   "cell_type": "markdown",
   "id": "f06f6908",
   "metadata": {},
   "source": [
    "# ENSEMBLE LEARNING"
   ]
  },
  {
   "cell_type": "code",
   "execution_count": null,
   "id": "ac0d9e41",
   "metadata": {},
   "outputs": [],
   "source": [
    "# Set seed for reproducibility\n",
    "SEED=1\n",
    "\n",
    "# Instantiate lr\n",
    "lr = LogisticRbegression(random_state=SEED)\n",
    "\n",
    "# Instantiate knn\n",
    "knn = KNN(n_neighbors=27)\n",
    "\n",
    "# Instantiate dt\n",
    "dt = DecisionTreeClassifier(min_samples_leaf=0.13, random_state=SEED)\n",
    "\n",
    "# Define the list classifiers\n",
    "classifiers = [('Logistic Regression', lr), ('K Nearest Neighbours', knn), ('Classification Tree', dt)]"
   ]
  },
  {
   "cell_type": "code",
   "execution_count": null,
   "id": "33587331",
   "metadata": {},
   "outputs": [],
   "source": [
    "# Iterate over the pre-defined list of classifiers\n",
    "for clf_name, clf in classifiers:    \n",
    " \n",
    "    # Fit clf to the training set\n",
    "    clf.fit(X_train, y_train)    \n",
    "   \n",
    "    # Predict y_pred\n",
    "    y_pred = clf.predict(X_test)\n",
    "    \n",
    "    # Calculate accuracy\n",
    "    accuracy = accuracy_score(y_test, y_pred) \n",
    "   \n",
    "    # Evaluate clf's accuracy on the test set\n",
    "    print('{:s} : {:.3f}'.format(clf_name, accuracy))"
   ]
  },
  {
   "cell_type": "code",
   "execution_count": null,
   "id": "25c3ee12",
   "metadata": {},
   "outputs": [],
   "source": [
    "# Import VotingClassifier from sklearn.ensemble\n",
    "from sklearn.ensemble import VotingClassifier\n",
    "\n",
    "# Instantiate a VotingClassifier vc\n",
    "vc = VotingClassifier(estimators=classifiers)     \n",
    "\n",
    "# Fit vc to the training set\n",
    "vc.fit(X_train,y_train)   \n",
    "\n",
    "# Evaluate the test set predictions\n",
    "y_pred = vc.predict(X_test)\n",
    "\n",
    "# Calculate accuracy score\n",
    "accuracy = accuracy_score(y_test, y_pred)\n",
    "print('Voting Classifier: {:.3f}'.format(accuracy))"
   ]
  },
  {
   "cell_type": "code",
   "execution_count": null,
   "id": "4308a05b",
   "metadata": {},
   "outputs": [],
   "source": []
  },
  {
   "cell_type": "code",
   "execution_count": null,
   "id": "49b83ae9",
   "metadata": {},
   "outputs": [],
   "source": []
  },
  {
   "cell_type": "code",
   "execution_count": null,
   "id": "9eec96e1",
   "metadata": {},
   "outputs": [],
   "source": []
  },
  {
   "cell_type": "code",
   "execution_count": null,
   "id": "430cb622",
   "metadata": {},
   "outputs": [],
   "source": []
  }
 ],
 "metadata": {
  "kernelspec": {
   "display_name": "Python 3 (ipykernel)",
   "language": "python",
   "name": "python3"
  },
  "language_info": {
   "codemirror_mode": {
    "name": "ipython",
    "version": 3
   },
   "file_extension": ".py",
   "mimetype": "text/x-python",
   "name": "python",
   "nbconvert_exporter": "python",
   "pygments_lexer": "ipython3",
   "version": "3.9.7"
  }
 },
 "nbformat": 4,
 "nbformat_minor": 5
}
