{
 "cells": [
  {
   "cell_type": "code",
   "execution_count": 1,
   "id": "043d7f61",
   "metadata": {},
   "outputs": [],
   "source": [
    "#Why split\n",
    "#1.) Reduce overfitting\n",
    "#2.) Evaluate performance on a holdout set"
   ]
  },
  {
   "cell_type": "code",
   "execution_count": null,
   "id": "f702768d",
   "metadata": {},
   "outputs": [],
   "source": [
    "from sklearn.model_selection import train_test_split\n",
    "X_train, X_test, y_train, y_test = train_test_split(X,y, test_size=0.2, random_state=42)"
   ]
  },
  {
   "cell_type": "code",
   "execution_count": null,
   "id": "5a948f1c",
   "metadata": {},
   "outputs": [],
   "source": [
    "#stratified sampling\n",
    "X_train, X_test, y_train, y_test = train_test_split(X,y, stratify=y, random_state=42)\n",
    "y['labels'].value_counts()"
   ]
  },
  {
   "cell_type": "code",
   "execution_count": null,
   "id": "4dc7aec1",
   "metadata": {},
   "outputs": [],
   "source": [
    "# Create a DataFrame with all columns except category_desc\n",
    "X = volunteer.drop('category_desc', axis=1)\n",
    "\n",
    "# Create a category_desc labels dataset\n",
    "y = volunteer[['category_desc']]\n",
    "\n",
    "# Use stratified sampling to split up the dataset according to the y dataset\n",
    "X_train, X_test, y_train, y_test = train_test_split(X, y, stratify=y, random_state=42)"
   ]
  },
  {
   "cell_type": "code",
   "execution_count": null,
   "id": "66f204e6",
   "metadata": {},
   "outputs": [],
   "source": [
    "# Split the dataset into training and test sets\n",
    "X_train, X_test, y_train, y_test = train_test_split(X, y, stratify=y, random_state=42)\n",
    "\n",
    "knn = KNeighborsClassifier()\n",
    "\n",
    "# Fit the knn model to the training data\n",
    "knn.fit(X_train, y_train)\n",
    "\n",
    "# Score the model on the test data\n",
    "print(knn.score(X_test, y_test))"
   ]
  },
  {
   "cell_type": "code",
   "execution_count": null,
   "id": "1b52cd31",
   "metadata": {},
   "outputs": [],
   "source": [
    "#Regression Tree in sklearn\n",
    "from sklearn.tree import DecisionTreeRegressor\n",
    "from sklearn.model_selection import train_test_split\n",
    "from sklearn.metrics import mean_squared_error as MSE\n",
    "\n",
    "#Split data\n",
    "X_train, X_test, y_train, y_test= train_test_split(X,y,\n",
    "                                                  test_size=0.2. random_state=3)\n",
    "#Instantiate a DecisonTreeRegressor 'dt'\n",
    "dt = DecisionTreeRegressor(max_depth=4,\n",
    "                          min_samples_leaf=0.1,\n",
    "                          random_state=3)\n",
    "#fit 'dt' to the training-set\n",
    "dt.fit(X_train, y_train)\n",
    "#predict test-set labels\n",
    "y_pred = dt.predict(X_test)\n",
    "#compute test-set MSE\n",
    "mse_dt = MSE(y_test, y_pred)\n",
    "#compute test-set RMSE\n",
    "rmse_dt = mse_dt**(1/2)\n",
    "print(rmse_dt)"
   ]
  },
  {
   "cell_type": "code",
   "execution_count": null,
   "id": "2864e36c",
   "metadata": {},
   "outputs": [],
   "source": [
    "# Import mean_squared_error from sklearn.metrics as MSE\n",
    "from sklearn.metrics import mean_squared_error as MSE\n",
    "\n",
    "# Compute y_pred\n",
    "y_pred = dt.predict(X_test)\n",
    "\n",
    "# Compute mse_dt\n",
    "mse_dt = MSE(y_test, y_pred)\n",
    "\n",
    "# Compute rmse_dt\n",
    "rmse_dt = mse_dt**(1/2)\n",
    "\n",
    "# Print rmse_dt\n",
    "print(\"Test set RMSE of dt: {:.2f}\".format(rmse_dt))\n",
    "\n",
    "# Predict test set labels \n",
    "y_pred_lr = lr.predict(X_test)\n",
    "\n",
    "# Compute mse_lr\n",
    "mse_lr = MSE(y_test, y_pred_lr)\n",
    "\n",
    "# Compute rmse_lr\n",
    "rmse_lr = mse_lr**(1/2)\n",
    "\n",
    "# Print rmse_lr\n",
    "print('Linear Regression test set RMSE: {:.2f}'.format(rmse_lr))\n",
    "\n",
    "# Print rmse_dt\n",
    "print('Regression Tree test set RMSE: {:.2f}'.format(rmse_dt))"
   ]
  }
 ],
 "metadata": {
  "kernelspec": {
   "display_name": "Python 3 (ipykernel)",
   "language": "python",
   "name": "python3"
  },
  "language_info": {
   "codemirror_mode": {
    "name": "ipython",
    "version": 3
   },
   "file_extension": ".py",
   "mimetype": "text/x-python",
   "name": "python",
   "nbconvert_exporter": "python",
   "pygments_lexer": "ipython3",
   "version": "3.9.7"
  }
 },
 "nbformat": 4,
 "nbformat_minor": 5
}
