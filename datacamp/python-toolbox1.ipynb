{
 "cells": [
  {
   "cell_type": "code",
   "execution_count": 3,
   "id": "6d2f6a6b",
   "metadata": {},
   "outputs": [
    {
     "name": "stdout",
     "output_type": "stream",
     "text": [
      "16\n"
     ]
    }
   ],
   "source": [
    "def square():\n",
    "    new_value = 4 ** 2\n",
    "    print(new_value)\n",
    "\n",
    "square()"
   ]
  },
  {
   "cell_type": "code",
   "execution_count": 5,
   "id": "8cda6a4a",
   "metadata": {},
   "outputs": [
    {
     "name": "stdout",
     "output_type": "stream",
     "text": [
      "10000\n"
     ]
    }
   ],
   "source": [
    "def square(value):\n",
    "    new_value = value ** 2\n",
    "    print(new_value)\n",
    "    \n",
    "square(100)"
   ]
  },
  {
   "cell_type": "code",
   "execution_count": 13,
   "id": "2948ce36",
   "metadata": {},
   "outputs": [
    {
     "name": "stdout",
     "output_type": "stream",
     "text": [
      "1606938044258990275541962092341162602522202993782792835301376\n"
     ]
    }
   ],
   "source": [
    "def square(value, power):\n",
    "    new_value = value ** power\n",
    "    print(new_value)\n",
    "    \n",
    "square(4,100)"
   ]
  },
  {
   "cell_type": "code",
   "execution_count": 16,
   "id": "f2e1fa40",
   "metadata": {},
   "outputs": [
    {
     "name": "stdout",
     "output_type": "stream",
     "text": [
      "1\n"
     ]
    }
   ],
   "source": [
    "def raise_to_power(v1, v2):\n",
    "    new_value = v1 ** v2\n",
    "    return new_value\n",
    "\n",
    "result = raise_to_power(2,0)\n",
    "print(result)"
   ]
  },
  {
   "cell_type": "code",
   "execution_count": 18,
   "id": "8d140844",
   "metadata": {},
   "outputs": [
    {
     "name": "stdout",
     "output_type": "stream",
     "text": [
      "6\n"
     ]
    }
   ],
   "source": [
    "even_nums = (2, 4,6)\n",
    "a, b, c = even_nums\n",
    "print(c)"
   ]
  },
  {
   "cell_type": "code",
   "execution_count": 19,
   "id": "2142afd0",
   "metadata": {},
   "outputs": [
    {
     "name": "stdout",
     "output_type": "stream",
     "text": [
      "4\n"
     ]
    }
   ],
   "source": [
    "print(even_nums[1])"
   ]
  },
  {
   "cell_type": "code",
   "execution_count": 20,
   "id": "5e340fd4",
   "metadata": {},
   "outputs": [
    {
     "name": "stdout",
     "output_type": "stream",
     "text": [
      "4\n"
     ]
    }
   ],
   "source": [
    "second_num = even_nums[1]\n",
    "print(second_num)"
   ]
  },
  {
   "cell_type": "code",
   "execution_count": 27,
   "id": "5980bc19",
   "metadata": {
    "scrolled": true
   },
   "outputs": [
    {
     "name": "stdout",
     "output_type": "stream",
     "text": [
      "Al\n"
     ]
    }
   ],
   "source": [
    "elements = (\"Ni\", 'Fe', 'Al')\n",
    "n, f, a = elements\n",
    "print(a)"
   ]
  },
  {
   "cell_type": "code",
   "execution_count": 28,
   "id": "1ab2d39e",
   "metadata": {},
   "outputs": [
    {
     "name": "stdout",
     "output_type": "stream",
     "text": [
      "Al\n"
     ]
    }
   ],
   "source": [
    "third = elements[2]\n",
    "print(third)"
   ]
  },
  {
   "cell_type": "code",
   "execution_count": 23,
   "id": "94ec87f6",
   "metadata": {},
   "outputs": [],
   "source": [
    "def raise_both(v1, v2):\n",
    "    new_value1 = v1 ** v2\n",
    "    new_value2 = v2 ** v1\n",
    "    \n",
    "    new_tuple = (new_value1, new_value2)\n",
    "    \n",
    "    return new_tuple"
   ]
  },
  {
   "cell_type": "code",
   "execution_count": 25,
   "id": "a3218c11",
   "metadata": {},
   "outputs": [
    {
     "name": "stdout",
     "output_type": "stream",
     "text": [
      "(256, 64)\n"
     ]
    }
   ],
   "source": [
    "result = raise_both(2,8)\n",
    "print(result)"
   ]
  },
  {
   "cell_type": "code",
   "execution_count": 32,
   "id": "62db2acd",
   "metadata": {},
   "outputs": [
    {
     "data": {
      "text/plain": [
       "(2, 4, 6)"
      ]
     },
     "execution_count": 32,
     "metadata": {},
     "output_type": "execute_result"
    }
   ],
   "source": [
    "nums = (3,4,6)\n",
    "num1, num2, num3 = nums\n",
    "even_nums = (2, num2, num3)\n",
    "even_nums"
   ]
  },
  {
   "cell_type": "code",
   "execution_count": 33,
   "id": "e8f4bf26",
   "metadata": {},
   "outputs": [
    {
     "name": "stdout",
     "output_type": "stream",
     "text": [
      "congratulations!!!\n",
      "you!!!\n"
     ]
    }
   ],
   "source": [
    "def shout_all(w1, w2):\n",
    "    s1 = w1 + '!!!'\n",
    "    s2 = w2 + '!!!'\n",
    "    shout_words = (s1, s2)\n",
    "    return shout_words\n",
    "\n",
    "#Pass \"congratulations\" and \"you\" to shout_all\n",
    "y1, y2 = shout_all(\"congratulations\", \"you\")\n",
    "\n",
    "print(y1)\n",
    "print(y2)"
   ]
  },
  {
   "cell_type": "code",
   "execution_count": 37,
   "id": "2e0381c3",
   "metadata": {},
   "outputs": [
    {
     "name": "stdout",
     "output_type": "stream",
     "text": [
      "Castor, go home!!!\n",
      "Pollux, go home!!!\n"
     ]
    }
   ],
   "source": [
    "def twins(t1, t2):\n",
    "    s1 = t1 + \", go home!!!\"\n",
    "    s2 = t2 + \", go home!!!\"\n",
    "    shout_words = (s1, s2)\n",
    "    return shout_words\n",
    "\n",
    "y1, y2 = twins(\"Castor\", \"Pollux\")\n",
    "\n",
    "print(y1)\n",
    "print(y2)\n"
   ]
  },
  {
   "cell_type": "code",
   "execution_count": null,
   "id": "e45bd937",
   "metadata": {},
   "outputs": [],
   "source": [
    "import pandas as pd\n",
    "\n",
    "df = pd.read_csv(\"tweets.csv\")\n",
    "\n",
    "langs_count = {}\n",
    "\n",
    "#Extract column from DataFrame:\n",
    "col = df['lang']\n",
    "\n",
    "#Iterate over lang column in data frame\n",
    "\n",
    "for entry in col:\n",
    "    if entry in langs_count.keys():\n",
    "        langs_count[entry] += 1\n",
    "    else:\n",
    "        langs_count[entry] = 1\n",
    "        \n",
    "print(langs_count)"
   ]
  },
  {
   "cell_type": "code",
   "execution_count": 1,
   "id": "7d3fdf2c",
   "metadata": {},
   "outputs": [
    {
     "name": "stdout",
     "output_type": "stream",
     "text": [
      "<map object at 0x7fdc3d78c5e0>\n"
     ]
    }
   ],
   "source": [
    "nums = [48,6,9,21,1]\n",
    "\n",
    "square_all = map(lambda num: num**2, nums)\n",
    "\n",
    "print(square_all)"
   ]
  },
  {
   "cell_type": "code",
   "execution_count": 2,
   "id": "09437b38",
   "metadata": {},
   "outputs": [
    {
     "name": "stdout",
     "output_type": "stream",
     "text": [
      "[2304, 36, 81, 441, 1]\n"
     ]
    }
   ],
   "source": [
    "print(list(square_all))"
   ]
  },
  {
   "cell_type": "code",
   "execution_count": 3,
   "id": "a56f046b",
   "metadata": {},
   "outputs": [
    {
     "name": "stdout",
     "output_type": "stream",
     "text": [
      "['protego!!!', 'accio!!!', 'expecto patronum!!!', 'legilimens!!!']\n"
     ]
    }
   ],
   "source": [
    "# Create a list of strings: spells\n",
    "spells = [\"protego\", \"accio\", \"expecto patronum\", \"legilimens\"]\n",
    "\n",
    "# Use map() to apply a lambda function over spells: shout_spells\n",
    "shout_spells = map(lambda item: item + \"!!!\", spells)\n",
    "\n",
    "# Convert shout_spells to a list: shout_spells_list\n",
    "shout_spells_list = list(shout_spells)\n",
    "\n",
    "# Print the result\n",
    "print(shout_spells_list)"
   ]
  },
  {
   "cell_type": "code",
   "execution_count": null,
   "id": "b1da9732",
   "metadata": {},
   "outputs": [],
   "source": [
    "\\d digit\n",
    "\\D non digit\n",
    "\\w word\n",
    "\\W non word\n",
    "\\s whitespace\n",
    "\\S non whitespace"
   ]
  },
  {
   "cell_type": "code",
   "execution_count": 73,
   "id": "6d99812d",
   "metadata": {},
   "outputs": [
    {
     "name": "stdout",
     "output_type": "stream",
     "text": [
      "['ai', 'ai']\n"
     ]
    }
   ],
   "source": [
    "import re\n",
    "\n",
    "txt = \"The rain in Spain\"\n",
    "x = re.findall(\"ai\", txt)\n",
    "print(x)"
   ]
  },
  {
   "cell_type": "code",
   "execution_count": 74,
   "id": "1dd0da7c",
   "metadata": {},
   "outputs": [
    {
     "name": "stdout",
     "output_type": "stream",
     "text": [
      "['frodo', 'merry', 'gimli']\n"
     ]
    }
   ],
   "source": [
    "# Create a list of strings: fellowship\n",
    "fellowship = ['frodo', 'samwise', 'merry', 'pippin', 'aragorn', 'boromir', 'legolas', 'gimli', 'gandalf']\n",
    "\n",
    "# Use filter() to apply a lambda function over fellowship: result\n",
    "result = filter(lambda i:len(i)<6, fellowship)\n",
    "\n",
    "# Convert result to a list: result_list\n",
    "result_list = list(result)\n",
    "\n",
    "# Print result_list\n",
    "print(result_list)"
   ]
  },
  {
   "cell_type": "code",
   "execution_count": 75,
   "id": "49dde27f",
   "metadata": {},
   "outputs": [
    {
     "name": "stdout",
     "output_type": "stream",
     "text": [
      "robbsansaaryabrandonrickon\n"
     ]
    }
   ],
   "source": [
    "# Import reduce from functools\n",
    "from functools import reduce\n",
    "\n",
    "# Create a list of strings: stark\n",
    "stark = ['robb', 'sansa', 'arya', 'brandon', 'rickon']\n",
    "\n",
    "# Use reduce() to apply a lambda function over stark: result\n",
    "result = reduce(lambda item1, item2:item1 + item2, stark)\n",
    "\n",
    "# Print the result\n",
    "print(result)"
   ]
  },
  {
   "cell_type": "code",
   "execution_count": null,
   "id": "f51afa0e",
   "metadata": {},
   "outputs": [],
   "source": []
  }
 ],
 "metadata": {
  "kernelspec": {
   "display_name": "Python 3 (ipykernel)",
   "language": "python",
   "name": "python3"
  },
  "language_info": {
   "codemirror_mode": {
    "name": "ipython",
    "version": 3
   },
   "file_extension": ".py",
   "mimetype": "text/x-python",
   "name": "python",
   "nbconvert_exporter": "python",
   "pygments_lexer": "ipython3",
   "version": "3.9.7"
  }
 },
 "nbformat": 4,
 "nbformat_minor": 5
}
