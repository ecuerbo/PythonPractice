{
 "cells": [
  {
   "cell_type": "code",
   "execution_count": null,
   "id": "0beab16f",
   "metadata": {},
   "outputs": [],
   "source": [
    "# Import pandas\n",
    "import pandas as pd\n",
    "\n",
    "# Load the CSV data into DataFrames\n",
    "super_bowls = pd.read_csv('datasets/super_bowls.csv')\n",
    "tv = pd.read_csv('datasets/tv.csv')\n",
    "halftime_musicians = pd.read_csv('datasets/halftime_musicians.csv')\n",
    "\n",
    "# Display the first five rows of each DataFrame\n",
    "display(super_bowls.head())\n",
    "display(tv.head())\n",
    "display(halftime_musicians.head())"
   ]
  },
  {
   "cell_type": "code",
   "execution_count": null,
   "id": "52461975",
   "metadata": {},
   "outputs": [],
   "source": [
    "# Summary of the TV data to inspect\n",
    "tv.info()\n",
    "\n",
    "print('\\n')\n",
    "\n",
    "# Summary of the halftime musician data to inspect\n",
    "halftime_musicians.info()"
   ]
  },
  {
   "cell_type": "code",
   "execution_count": null,
   "id": "22d44d36",
   "metadata": {},
   "outputs": [],
   "source": [
    "# Import matplotlib and set plotting style\n",
    "from matplotlib import pyplot as plt\n",
    "%matplotlib inline\n",
    "plt.style.use('seaborn')\n",
    "\n",
    "# Plot a histogram of combined points\n",
    "super_bowls.hist('combined_pts')\n",
    "plt.xlabel('Combined Points')\n",
    "plt.ylabel('Number of Super Bowls')\n",
    "plt.show()\n",
    "\n",
    "# Display the Super Bowls with the highest and lowest combined scores\n",
    "display(super_bowls[super_bowls['combined_pts'] > 70])\n",
    "display(super_bowls[super_bowls['combined_pts'] < 25])"
   ]
  },
  {
   "cell_type": "code",
   "execution_count": null,
   "id": "6380c11e",
   "metadata": {},
   "outputs": [],
   "source": []
  },
  {
   "cell_type": "code",
   "execution_count": null,
   "id": "ecffd8c5",
   "metadata": {},
   "outputs": [],
   "source": []
  }
 ],
 "metadata": {
  "kernelspec": {
   "display_name": "Python 3 (ipykernel)",
   "language": "python",
   "name": "python3"
  },
  "language_info": {
   "codemirror_mode": {
    "name": "ipython",
    "version": 3
   },
   "file_extension": ".py",
   "mimetype": "text/x-python",
   "name": "python",
   "nbconvert_exporter": "python",
   "pygments_lexer": "ipython3",
   "version": "3.9.7"
  }
 },
 "nbformat": 4,
 "nbformat_minor": 5
}
