{
 "cells": [
  {
   "cell_type": "code",
   "execution_count": null,
   "id": "0e2368e0",
   "metadata": {},
   "outputs": [],
   "source": [
    "# Importing modules\n",
    "import pandas as pd\n",
    "\n",
    "# Read datasets/yearly_deaths_by_clinic.csv into yearly\n",
    "yearly = pd.read_csv('datasets/yearly_deaths_by_clinic.csv')\n",
    "\n",
    "# Print out yearly\n",
    "print(yearly)"
   ]
  },
  {
   "cell_type": "code",
   "execution_count": null,
   "id": "569f9922",
   "metadata": {},
   "outputs": [],
   "source": [
    "# Calculate proportion of deaths per no. births\n",
    "yearly['proportion_deaths'] = yearly['deaths']/yearly['births']\n",
    "\n",
    "# Extract Clinic 1 data into clinic_1 and Clinic 2 data into clinic_2\n",
    "clinic_1 = yearly[yearly['clinic']=='clinic 1']\n",
    "clinic_2 = yearly[yearly['clinic']=='clinic 2']\n",
    "\n",
    "# Print out clinic_1\n",
    "clinic_1.head()"
   ]
  },
  {
   "cell_type": "code",
   "execution_count": null,
   "id": "e77f4bea",
   "metadata": {},
   "outputs": [],
   "source": [
    "# Import matplotlib\n",
    "import matplotlib.pyplot as plt\n",
    "\n",
    "# This makes plots appear in the notebook\n",
    "%matplotlib inline\n",
    "\n",
    "# Plot yearly proportion of deaths at the two clinics\n",
    "\n",
    "ax = clinic_1.plot(x='year',y='proportion_deaths', label='clinic_1')\n",
    "clinic_2.plot(x='year', y='proportion_deaths', label='clinic_2', ax=ax, ylabel='Proportion deaths')"
   ]
  },
  {
   "cell_type": "code",
   "execution_count": null,
   "id": "e495495c",
   "metadata": {},
   "outputs": [],
   "source": [
    "# Read datasets/monthly_deaths.csv into monthly\n",
    "monthly = pd.read_csv('datasets/monthly_deaths.csv', parse_dates=['date'])\n",
    "\n",
    "# Calculate proportion of deaths per no. births\n",
    "monthly['proportion_deaths'] = monthly['deaths']/monthly['births']\n",
    "\n",
    "# Print out the first rows in monthly\n",
    "monthly.head()\n",
    "monthly.info()"
   ]
  },
  {
   "cell_type": "code",
   "execution_count": null,
   "id": "59cff3d0",
   "metadata": {},
   "outputs": [],
   "source": [
    " Plot monthly proportion of deaths\n",
    "ax = monthly.plot(x='date', y='proportion_deaths', ylabel='Proportion deaths')"
   ]
  },
  {
   "cell_type": "code",
   "execution_count": null,
   "id": "8ea3500a",
   "metadata": {},
   "outputs": [],
   "source": [
    "# Date when handwashing was made mandatory\n",
    "handwashing_start = pd.to_datetime('1847-06-01')\n",
    "\n",
    "# Split monthly into before and after handwashing_start\n",
    "before_washing = monthly[monthly['date']<handwashing_start]\n",
    "after_washing = monthly[monthly['date']>handwashing_start]\n",
    "\n",
    "# Plot monthly proportion of deaths before and after handwashing\n",
    "\n",
    "ax = before_washing.plot(x='date',y='proportion_deaths', label='Before Handwashing')\n",
    "after_washing.plot(x='date', y='proportion_deaths', label='After Handwashing', ax = ax,\n",
    "                  ylabel='Proportion deaths')"
   ]
  },
  {
   "cell_type": "code",
   "execution_count": null,
   "id": "a036baaa",
   "metadata": {},
   "outputs": [],
   "source": []
  },
  {
   "cell_type": "code",
   "execution_count": null,
   "id": "1e0c0a4a",
   "metadata": {},
   "outputs": [],
   "source": []
  },
  {
   "cell_type": "code",
   "execution_count": null,
   "id": "14289083",
   "metadata": {},
   "outputs": [],
   "source": []
  }
 ],
 "metadata": {
  "kernelspec": {
   "display_name": "Python 3 (ipykernel)",
   "language": "python",
   "name": "python3"
  },
  "language_info": {
   "codemirror_mode": {
    "name": "ipython",
    "version": 3
   },
   "file_extension": ".py",
   "mimetype": "text/x-python",
   "name": "python",
   "nbconvert_exporter": "python",
   "pygments_lexer": "ipython3",
   "version": "3.9.7"
  }
 },
 "nbformat": 4,
 "nbformat_minor": 5
}
