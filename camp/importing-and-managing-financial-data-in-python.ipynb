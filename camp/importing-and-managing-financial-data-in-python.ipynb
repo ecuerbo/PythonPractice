{
 "cells": [
  {
   "cell_type": "code",
   "execution_count": null,
   "id": "a9ef883a",
   "metadata": {},
   "outputs": [],
   "source": [
    "# Import pandas library\n",
    "import pandas as pd\n",
    "\n",
    "# Import the data\n",
    "nasdaq = pd.read_csv('nasdaq-listings.csv')\n",
    "\n",
    "# Display first 10 rows\n",
    "print(nasdaq.head(10))\n",
    "\n",
    "# Inspect nasdaq\n",
    "nasdaq.info()"
   ]
  },
  {
   "cell_type": "code",
   "execution_count": null,
   "id": "c116a45e",
   "metadata": {},
   "outputs": [],
   "source": [
    "# Import the data\n",
    "nasdaq = pd.read_csv('nasdaq-listings.csv', na_values='NAN', parse_dates=['Last Update'])\n",
    "\n",
    "# Display the head of the data\n",
    "print(nasdaq.head())\n",
    "\n",
    "# Inspect the data\n",
    "nasdaq.info()"
   ]
  },
  {
   "cell_type": "code",
   "execution_count": null,
   "id": "39dfe98b",
   "metadata": {},
   "outputs": [],
   "source": [
    "nyse = pd.read_excel('listings.xlsx', sheetname='nyse', na_values='n/a')\n",
    "print(nyse.head())\n",
    "nyse.info()"
   ]
  },
  {
   "cell_type": "code",
   "execution_count": null,
   "id": "5af94b57",
   "metadata": {},
   "outputs": [],
   "source": [
    "xls = pd.ExcelFile('listings.xlsx')\n",
    "exchanges = xls.sheet_names\n",
    "listings = pd.read_excel(xls,sheet_name=exchanges,na_values='n/a')\n",
    "listings['nasdaq'].info()"
   ]
  },
  {
   "cell_type": "code",
   "execution_count": null,
   "id": "b8daa8e4",
   "metadata": {},
   "outputs": [],
   "source": [
    "nyse = pd.read_excel('listings.xlsx', sheet_name='nyse', na_values='n/a')\n",
    "nasdaq = pd.read_excel('listings.xlsx', sheet_name='nasdaq',na_values='n/a')\n",
    "\n",
    "nyse.info()\n",
    "nasdaq.info()\n",
    "\n",
    "nyse['Exchange'] = 'NYSE'\n",
    "nasdaq['Exchange'] ='NASDAQ'\n",
    "\n",
    "combined_listings = pd.concat([nyse, nasdaq])"
   ]
  },
  {
   "cell_type": "code",
   "execution_count": null,
   "id": "2bb54c2d",
   "metadata": {},
   "outputs": [],
   "source": [
    "# Create the pd.ExcelFile() object\n",
    "xlsx = pd.ExcelFile('listings.xlsx')\n",
    "\n",
    "# Extract the sheet names from xls\n",
    "exchanges = xls.sheet_names\n",
    "\n",
    "# Create an empty list: listings\n",
    "listings = []\n",
    "\n",
    "# Import the data\n",
    "for exchange in exchanges:\n",
    "    listing = pd.read_excel(xls, sheetname=exchange, na_values='n/a')\n",
    "    listing['Exchange'] = exchange\n",
    "    listings.append(listing)\n",
    "    \n",
    "# Concatenate the listings: listing_data\n",
    "listing_data = pd.concat(listings)\n",
    "\n",
    "# Inspect the results\n",
    "listing_data.info()"
   ]
  },
  {
   "cell_type": "code",
   "execution_count": null,
   "id": "09dd5c6e",
   "metadata": {},
   "outputs": [],
   "source": []
  },
  {
   "cell_type": "code",
   "execution_count": null,
   "id": "08519827",
   "metadata": {},
   "outputs": [],
   "source": []
  },
  {
   "cell_type": "code",
   "execution_count": null,
   "id": "07fb56ba",
   "metadata": {},
   "outputs": [],
   "source": []
  }
 ],
 "metadata": {
  "kernelspec": {
   "display_name": "Python 3 (ipykernel)",
   "language": "python",
   "name": "python3"
  },
  "language_info": {
   "codemirror_mode": {
    "name": "ipython",
    "version": 3
   },
   "file_extension": ".py",
   "mimetype": "text/x-python",
   "name": "python",
   "nbconvert_exporter": "python",
   "pygments_lexer": "ipython3",
   "version": "3.9.7"
  }
 },
 "nbformat": 4,
 "nbformat_minor": 5
}
