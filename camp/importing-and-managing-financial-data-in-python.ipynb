{
 "cells": [
  {
   "cell_type": "code",
   "execution_count": null,
   "id": "a9ef883a",
   "metadata": {},
   "outputs": [],
   "source": [
    "# Import pandas library\n",
    "import pandas as pd\n",
    "\n",
    "# Import the data\n",
    "nasdaq = pd.read_csv('nasdaq-listings.csv')\n",
    "\n",
    "# Display first 10 rows\n",
    "print(nasdaq.head(10))\n",
    "\n",
    "# Inspect nasdaq\n",
    "nasdaq.info()"
   ]
  },
  {
   "cell_type": "code",
   "execution_count": null,
   "id": "c116a45e",
   "metadata": {},
   "outputs": [],
   "source": [
    "# Import the data\n",
    "nasdaq = pd.read_csv('nasdaq-listings.csv', na_values='NAN', parse_dates=['Last Update'])\n",
    "\n",
    "# Display the head of the data\n",
    "print(nasdaq.head())\n",
    "\n",
    "# Inspect the data\n",
    "nasdaq.info()"
   ]
  },
  {
   "cell_type": "code",
   "execution_count": null,
   "id": "39dfe98b",
   "metadata": {},
   "outputs": [],
   "source": [
    "nyse = pd.read_excel('listings.xlsx', sheetname='nyse', na_values='n/a')\n",
    "print(nyse.head())\n",
    "nyse.info()"
   ]
  },
  {
   "cell_type": "code",
   "execution_count": null,
   "id": "5af94b57",
   "metadata": {},
   "outputs": [],
   "source": [
    "xls = pd.ExcelFile('listings.xlsx')\n",
    "exchanges = xls.sheet_names\n",
    "listings = pd.read_excel(xls,sheet_name=exchanges,na_values='n/a')\n",
    "listings['nasdaq'].info()"
   ]
  },
  {
   "cell_type": "code",
   "execution_count": null,
   "id": "b8daa8e4",
   "metadata": {},
   "outputs": [],
   "source": [
    "nyse = pd.read_excel('listings.xlsx', sheet_name='nyse', na_values='n/a')\n",
    "nasdaq = pd.read_excel('listings.xlsx', sheet_name='nasdaq',na_values='n/a')\n",
    "\n",
    "nyse.info()\n",
    "nasdaq.info()\n",
    "\n",
    "nyse['Exchange'] = 'NYSE'\n",
    "nasdaq['Exchange'] ='NASDAQ'\n",
    "\n",
    "combined_listings = pd.concat([nyse, nasdaq])"
   ]
  },
  {
   "cell_type": "code",
   "execution_count": null,
   "id": "2bb54c2d",
   "metadata": {},
   "outputs": [],
   "source": [
    "# Create the pd.ExcelFile() object\n",
    "xlsx = pd.ExcelFile('listings.xlsx')\n",
    "\n",
    "# Extract the sheet names from xls\n",
    "exchanges = xls.sheet_names\n",
    "\n",
    "# Create an empty list: listings\n",
    "listings = []\n",
    "\n",
    "# Import the data\n",
    "for exchange in exchanges:\n",
    "    listing = pd.read_excel(xls, sheetname=exchange, na_values='n/a')\n",
    "    listing['Exchange'] = exchange\n",
    "    listings.append(listing)\n",
    "    \n",
    "# Concatenate the listings: listing_data\n",
    "listing_data = pd.concat(listings)\n",
    "\n",
    "# Inspect the results\n",
    "listing_data.info()"
   ]
  },
  {
   "cell_type": "code",
   "execution_count": 1,
   "id": "09dd5c6e",
   "metadata": {},
   "outputs": [],
   "source": [
    "# Import DataReader\n",
    "from pandas_datareader.data import DataReader\n",
    "\n",
    "\n",
    "# Import date\n",
    "from datetime import date\n",
    "\n",
    "# Set start and end dates\n",
    "start = date(2016,1,1)\n",
    "end = date(2016,12,31)\n",
    "\n",
    "# Set the ticker\n",
    "ticker = 'AAPL'\n",
    "\n",
    "# Set the data source\n",
    "data_source = 'iex'\n",
    "\n",
    "# Import the stock prices\n",
    "stock_prices = DataReader(ticker, data_source, start, end)\n",
    "\n",
    "# Display and inspect the result\n",
    "print(stock_prices.head())\n",
    "stock_prices.info()"
   ]
  },
  {
   "cell_type": "code",
   "execution_count": 3,
   "id": "08519827",
   "metadata": {},
   "outputs": [
    {
     "name": "stdout",
     "output_type": "stream",
     "text": [
      "<class 'pandas.core.frame.DataFrame'>\n",
      "DatetimeIndex: 15812 entries, 1962-01-02 to 2022-08-10\n",
      "Data columns (total 1 columns):\n",
      " #   Column  Non-Null Count  Dtype  \n",
      "---  ------  --------------  -----  \n",
      " 0   DGS10   15138 non-null  float64\n",
      "dtypes: float64(1)\n",
      "memory usage: 247.1 KB\n"
     ]
    }
   ],
   "source": [
    "from pandas_datareader.data import DataReader\n",
    "from datetime import date\n",
    "series_code = 'DGS10' # 10year treasury Rate\n",
    "data_source = 'fred'#FED Economic Data Service\n",
    "start = date(1962,1,1)\n",
    "data = DataReader(series_code, data_source, start)\n",
    "data.info()"
   ]
  },
  {
   "cell_type": "code",
   "execution_count": 6,
   "id": "07fb56ba",
   "metadata": {},
   "outputs": [
    {
     "data": {
      "image/png": "[encoded data removed]",
      "text/plain": [
       "<Figure size 432x288 with 1 Axes>"
      ]
     },
     "metadata": {
      "needs_background": "light"
     },
     "output_type": "display_data"
    }
   ],
   "source": [
    "import matplotlib.pyplot as plt\n",
    "series_name = '10-year Treasury'\n",
    "data = data.rename(columns={series_code: series_name})\n",
    "data.plot(title=series_name);plt.show()"
   ]
  },
  {
   "cell_type": "code",
   "execution_count": null,
   "id": "512569fa",
   "metadata": {},
   "outputs": [],
   "source": [
    "start = date(2000,1,1)\n",
    "series = 'DCOILWTICO' #West Texas Intermediate Oil Price\n",
    "oil = DataReader(series, 'fred', start)\n",
    "ticker = 'XOM' #Exxon Mobile Corporation\n",
    "stock = DataReader(ticker, 'google', start)\n",
    "data = pd.concat([stock[['Close']], oil], axis=1)\n",
    "data.info()"
   ]
  },
  {
   "cell_type": "code",
   "execution_count": null,
   "id": "e080fdb4",
   "metadata": {},
   "outputs": [],
   "source": [
    "# Set start date\n",
    "start = date(1968,1,1)\n",
    "\n",
    "# Set series code\n",
    "series = 'WTISPLC'\n",
    "\n",
    "# Import the data\n",
    "oil_price = DataReader(series, 'fred', start=start)\n",
    "\n",
    "# Inspect the price of oil\n",
    "oil_price.info()\n",
    "\n",
    "# Plot the price of oil\n",
    "oil_price.plot(title='Oil Price')\n",
    "\n",
    "# Show the plot\n",
    "plt.show()"
   ]
  },
  {
   "cell_type": "code",
   "execution_count": 12,
   "id": "6af6c463",
   "metadata": {},
   "outputs": [
    {
     "data": {
      "image/png": "[encoded data removed]",
      "text/plain": [
       "<Figure size 432x288 with 2 Axes>"
      ]
     },
     "metadata": {
      "needs_background": "light"
     },
     "output_type": "display_data"
    }
   ],
   "source": [
    "# Set the start date\n",
    "start = date(1950, 1,1)\n",
    "\n",
    "# Define the series codes\n",
    "series = ['UNRATE','CIVPART']\n",
    "\n",
    "# Import the data\n",
    "econ_data = DataReader(series, 'fred', start)\n",
    "\n",
    "# Assign new column labels\n",
    "econ_data.columns = ['Unemployment Rate', 'Participation Rate']\n",
    "\n",
    "# Plot econ_data\n",
    "econ_data.plot(subplots=True, title='Labor Market')\n",
    "\n",
    "# Show the plot\n",
    "plt.show()"
   ]
  },
  {
   "cell_type": "code",
   "execution_count": null,
   "id": "65490ff7",
   "metadata": {},
   "outputs": [],
   "source": [
    "# Set the start date\n",
    "start = date(2008, 1,1)\n",
    "\n",
    "# Set the series codes\n",
    "series = ['BAMLHYH0A0HYM2TRIV', 'SP500']\n",
    "\n",
    "# Import the data\n",
    "data = DataReader(series, 'fred', start)\n",
    "\n",
    "# Plot the results\n",
    "data.plot(subplots=True, title='Performance Comparison')\n",
    "\n",
    "# Show the plot\n",
    "plt.show()"
   ]
  },
  {
   "cell_type": "code",
   "execution_count": null,
   "id": "06e6864d",
   "metadata": {},
   "outputs": [],
   "source": []
  },
  {
   "cell_type": "code",
   "execution_count": null,
   "id": "3bb012ff",
   "metadata": {},
   "outputs": [],
   "source": []
  },
  {
   "cell_type": "code",
   "execution_count": null,
   "id": "91d4b7cc",
   "metadata": {},
   "outputs": [],
   "source": []
  },
  {
   "cell_type": "code",
   "execution_count": null,
   "id": "7bc6ba10",
   "metadata": {},
   "outputs": [],
   "source": []
  },
  {
   "cell_type": "code",
   "execution_count": null,
   "id": "60d877e4",
   "metadata": {},
   "outputs": [],
   "source": []
  },
  {
   "cell_type": "code",
   "execution_count": null,
   "id": "55410e63",
   "metadata": {},
   "outputs": [],
   "source": []
  }
 ],
 "metadata": {
  "kernelspec": {
   "display_name": "Python 3 (ipykernel)",
   "language": "python",
   "name": "python3"
  },
  "language_info": {
   "codemirror_mode": {
    "name": "ipython",
    "version": 3
   },
   "file_extension": ".py",
   "mimetype": "text/x-python",
   "name": "python",
   "nbconvert_exporter": "python",
   "pygments_lexer": "ipython3",
   "version": "3.9.7"
  }
 },
 "nbformat": 4,
 "nbformat_minor": 5
}
