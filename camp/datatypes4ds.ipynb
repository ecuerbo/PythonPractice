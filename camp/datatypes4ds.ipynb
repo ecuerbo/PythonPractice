{
 "cells": [
  {
   "cell_type": "code",
   "execution_count": 1,
   "id": "f8028196",
   "metadata": {},
   "outputs": [
    {
     "name": "stdout",
     "output_type": "stream",
     "text": [
      "['Ximena', 'Aliza', 'Ayden', 'Calvin', 'Rowen', 'Sandeep']\n",
      "['Ximena', 'Ayden', 'Calvin', 'Rowen', 'Sandeep']\n"
     ]
    }
   ],
   "source": [
    "# Create a list containing the names: baby_names\n",
    "baby_names = ['Ximena', 'Aliza', 'Ayden','Calvin']\n",
    "\n",
    "# Extend baby_names with 'Rowen' and 'Sandeep'\n",
    "baby_names.extend(['Rowen','Sandeep'])\n",
    "\n",
    "# Print baby_names\n",
    "print(baby_names)\n",
    "\n",
    "# Find the position of 'Aliza': position\n",
    "position = baby_names.index('Aliza')\n",
    "\n",
    "# Remove 'Aliza' from baby_names\n",
    "baby_names.pop(position)\n",
    "\n",
    "# Print baby_names\n",
    "print(baby_names)"
   ]
  },
  {
   "cell_type": "code",
   "execution_count": null,
   "id": "4dc42483",
   "metadata": {},
   "outputs": [],
   "source": [
    "# Create the empty list: baby_names\n",
    "baby_names = []\n",
    "\n",
    "# Loop over records \n",
    "for row in records:\n",
    "    # Add the name to the list\n",
    "    baby_names.append(row[3])\n",
    "    \n",
    "# Sort the names in alphabetical order\n",
    "for name in sorted(baby_names):\n",
    "    # Print each name\n",
    "    print(name)"
   ]
  },
  {
   "cell_type": "code",
   "execution_count": null,
   "id": "eebcfc9b",
   "metadata": {},
   "outputs": [],
   "source": [
    "# Pair up the girl and boy names: pairs\n",
    "pairs = zip(girl_names, boy_names)\n",
    "\n",
    "# Iterate over pairs\n",
    "for idx, pair in enumerate(pairs)\n",
    "    # Unpack pair: girl_name, boy_name\n",
    "    girl_name, boy_name\n",
    "    # Print the rank and names associated with each rank\n",
    "    print('Rank {}: {} and {}'.format(idx, girl_name, boy_name))"
   ]
  },
  {
   "cell_type": "code",
   "execution_count": null,
   "id": "f963992a",
   "metadata": {},
   "outputs": [],
   "source": [
    "# Create the normal variable: normal\n",
    "normal = ('simple')\n",
    "\n",
    "# Create the mistaken variable: error\n",
    "error = ('trailing comma',)\n",
    "\n",
    "# Print the types of the variables\n",
    "print(type(normal))\n",
    "print(type(error))"
   ]
  },
  {
   "cell_type": "code",
   "execution_count": 4,
   "id": "5d882b1f",
   "metadata": {},
   "outputs": [
    {
     "name": "stdout",
     "output_type": "stream",
     "text": [
      "5.294988344048205\n"
     ]
    }
   ],
   "source": [
    "i=262.57\n",
    "p=4958.84\n",
    "r=i*100/p\n",
    "print(r)"
   ]
  },
  {
   "cell_type": "code",
   "execution_count": 6,
   "id": "a495c3b5",
   "metadata": {},
   "outputs": [
    {
     "data": {
      "text/plain": [
       "44.86"
      ]
     },
     "execution_count": 6,
     "metadata": {},
     "output_type": "execute_result"
    }
   ],
   "source": [
    "import numpy as np\n",
    "x=[45,44.8,44.8,44.7,45]\n",
    "np.mean(x)"
   ]
  },
  {
   "cell_type": "code",
   "execution_count": null,
   "id": "867a298c",
   "metadata": {},
   "outputs": [],
   "source": []
  }
 ],
 "metadata": {
  "kernelspec": {
   "display_name": "Python 3 (ipykernel)",
   "language": "python",
   "name": "python3"
  },
  "language_info": {
   "codemirror_mode": {
    "name": "ipython",
    "version": 3
   },
   "file_extension": ".py",
   "mimetype": "text/x-python",
   "name": "python",
   "nbconvert_exporter": "python",
   "pygments_lexer": "ipython3",
   "version": "3.9.7"
  }
 },
 "nbformat": 4,
 "nbformat_minor": 5
}
