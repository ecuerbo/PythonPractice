{
 "cells": [
  {
   "cell_type": "code",
   "execution_count": 2,
   "id": "954e5834",
   "metadata": {},
   "outputs": [
    {
     "name": "stdout",
     "output_type": "stream",
     "text": [
      "jay garrick\n",
      "barry allen\n",
      "wally west\n",
      "bart allen\n",
      "jay garrick\n",
      "barry allen\n",
      "wally west\n",
      "bart allen\n"
     ]
    }
   ],
   "source": [
    "flash = ['jay garrick', 'barry allen', 'wally west', 'bart allen']\n",
    "\n",
    "for person in flash:\n",
    "    print(person)\n",
    "    \n",
    "superhero = iter(flash)\n",
    "\n",
    "print(next(superhero))\n",
    "print(next(superhero))\n",
    "print(next(superhero))\n",
    "print(next(superhero))"
   ]
  },
  {
   "cell_type": "code",
   "execution_count": 6,
   "id": "e9d122c2",
   "metadata": {},
   "outputs": [
    {
     "name": "stdout",
     "output_type": "stream",
     "text": [
      "jay garrick\n"
     ]
    }
   ],
   "source": [
    "flash = ['jay garrick', 'barry allen', 'wally west', 'bart allen']\n",
    "\n",
    "superhero = iter(flash)\n",
    "\n",
    "print(next(superhero))"
   ]
  },
  {
   "cell_type": "code",
   "execution_count": 8,
   "id": "a348204e",
   "metadata": {},
   "outputs": [
    {
     "name": "stdout",
     "output_type": "stream",
     "text": [
      "mango\n",
      "dalandan\n",
      "starapple\n",
      "balimbing\n"
     ]
    }
   ],
   "source": [
    "fruits = ['mango', 'dalandan', 'starapple', 'balimbing']\n",
    "for fruit in fruits:\n",
    "        print(fruit)"
   ]
  },
  {
   "cell_type": "code",
   "execution_count": 10,
   "id": "6e3972ed",
   "metadata": {},
   "outputs": [
    {
     "name": "stdout",
     "output_type": "stream",
     "text": [
      "mango\n",
      "dalandan\n",
      "starapple\n"
     ]
    }
   ],
   "source": [
    "prutas = iter(fruits)\n",
    "\n",
    "print(next(prutas))\n",
    "print(next(prutas))\n",
    "print(next(prutas))"
   ]
  },
  {
   "cell_type": "code",
   "execution_count": null,
   "id": "34345ab4",
   "metadata": {},
   "outputs": [],
   "source": []
  }
 ],
 "metadata": {
  "kernelspec": {
   "display_name": "Python 3 (ipykernel)",
   "language": "python",
   "name": "python3"
  },
  "language_info": {
   "codemirror_mode": {
    "name": "ipython",
    "version": 3
   },
   "file_extension": ".py",
   "mimetype": "text/x-python",
   "name": "python",
   "nbconvert_exporter": "python",
   "pygments_lexer": "ipython3",
   "version": "3.9.7"
  }
 },
 "nbformat": 4,
 "nbformat_minor": 5
}
