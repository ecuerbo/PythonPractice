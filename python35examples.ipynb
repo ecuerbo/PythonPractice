{
 "cells": [
  {
   "cell_type": "code",
   "execution_count": 2,
   "id": "b9e984b3",
   "metadata": {},
   "outputs": [
    {
     "name": "stdout",
     "output_type": "stream",
     "text": [
      "Enter a number: 0\n",
      "The number is even.\n"
     ]
    }
   ],
   "source": [
    "#1. Python program to check whether the given number is even or not.\n",
    "number = input(\"Enter a number: \")\n",
    "x = int(number)%2\n",
    "if x== 0:\n",
    "    print(\"The number is even.\")\n",
    "else:\n",
    "    print(\"The number is odd.\")"
   ]
  },
  {
   "cell_type": "code",
   "execution_count": 4,
   "id": "a9fb2aba",
   "metadata": {},
   "outputs": [
    {
     "name": "stdout",
     "output_type": "stream",
     "text": [
      "Enter temperature in Celsius: 100\n",
      "Temperature in Fahrenheit is:  212.0\n"
     ]
    }
   ],
   "source": [
    "#2. Python program to convert the temperature in degree centigrade to Fahrenheit\n",
    "c = input(\"Enter temperature in Celsius: \")\n",
    "f = (9*int(c))/5 + 32\n",
    "print(\"Temperature in Fahrenheit is: \", f)"
   ]
  },
  {
   "cell_type": "code",
   "execution_count": 3,
   "id": "c830b8b0",
   "metadata": {},
   "outputs": [
    {
     "name": "stdout",
     "output_type": "stream",
     "text": [
      "Enter the length of side a: 2\n",
      "Enter the length of side b: 3\n",
      "Enter the length of side c: 4\n",
      "Area of the triangle is : 3.0\n"
     ]
    }
   ],
   "source": [
    "#3.Python program to find the area of a triangle whose sides are given\n",
    "import math\n",
    "a = float(input(\"Enter the length of side a: \"))\n",
    "b = float(input(\"Enter the length of side b: \"))\n",
    "c = float(input(\"Enter the length of side c: \"))\n",
    "s = (a + b + c)/2\n",
    "area = round(math.sqrt(s*(s-a)*(s-b)*(s-c)), 0)\n",
    "print(\"Area of the triangle is :\", area)"
   ]
  },
  {
   "cell_type": "code",
   "execution_count": null,
   "id": "c3118d60",
   "metadata": {},
   "outputs": [],
   "source": [
    "#4.Python program to find out the average of a set of integers\n",
    "count = int(input(\"Enter the count of numbers: \"))\n",
    "i = 0\n",
    "sum = 0\n",
    "for i in range(count):\n",
    "    x = int(input(\"Enter an integer: \"))\n",
    "    sum = sum + x\n",
    "avg = sum /count\n",
    "print(\"The average is: \", avg)"
   ]
  },
  {
   "cell_type": "code",
   "execution_count": 6,
   "id": "8d7dd924",
   "metadata": {},
   "outputs": [
    {
     "name": "stdout",
     "output_type": "stream",
     "text": [
      "Enter the number of real numbers: 3\n",
      "Enter a real number: 34\n",
      "Enter a real number: 56\n",
      "Enter a real number: 567\n",
      "The product of the numbers is:  1079568.0\n"
     ]
    }
   ],
   "source": [
    "#5.Python program to find the product of a set of real numbers\n",
    "i = 0\n",
    "product = 1\n",
    "count = int(input(\"Enter the number of real numbers: \"))\n",
    "for i in range(count):\n",
    "    x = float(input(\"Enter a real number: \"))\n",
    "    product = product * x\n",
    "print(\"The product of the numbers is: \", product)"
   ]
  },
  {
   "cell_type": "code",
   "execution_count": 15,
   "id": "e628dac6",
   "metadata": {},
   "outputs": [
    {
     "name": "stdout",
     "output_type": "stream",
     "text": [
      "Enter radius of the circle: 8\n",
      "The circumference of a circle with radius  8.0  is  50.0 .\n",
      "The area of the circle is  200.0 .\n"
     ]
    }
   ],
   "source": [
    "#6Python program to find the circumference and area of a circle with a given radius\n",
    "import math\n",
    "r = float(input(\"Enter radius of the circle: \"))\n",
    "circ = round((math.pi * 2 * r), 0)\n",
    "area = r * circ/2\n",
    "print(\"The circumference of a circle with radius \", r , \" is \", circ, \".\")\n",
    "print(\"The area of the circle is \", area , \".\")"
   ]
  },
  {
   "cell_type": "code",
   "execution_count": 14,
   "id": "4b8d17cc",
   "metadata": {},
   "outputs": [
    {
     "data": {
      "text/plain": [
       "200.96"
      ]
     },
     "execution_count": 14,
     "metadata": {},
     "output_type": "execute_result"
    }
   ],
   "source": [
    "3.14 * 8 * 8"
   ]
  },
  {
   "cell_type": "code",
   "execution_count": 19,
   "id": "b9225b37",
   "metadata": {},
   "outputs": [
    {
     "name": "stdout",
     "output_type": "stream",
     "text": [
      "Please enter an interger: 23\n",
      "23 is not a multiple of 5\n"
     ]
    }
   ],
   "source": [
    "#7. Python program to check whether the given integer is a multiple of 5\n",
    "number = int(input(\"Please enter an interger: \"))\n",
    "if (number%5==0):\n",
    "    print(number , \"is a multiple of 5.\")\n",
    "else:\n",
    "    print(number ,\"is not a multiple of 5\")\n"
   ]
  },
  {
   "cell_type": "code",
   "execution_count": 21,
   "id": "57ba64b3",
   "metadata": {},
   "outputs": [
    {
     "name": "stdout",
     "output_type": "stream",
     "text": [
      "Please enter a number: 48\n",
      "48 is not a multiple of 5 and 7.\n"
     ]
    }
   ],
   "source": [
    "#8. Python program to check whether the given integer is a multiple of both 5 and 7\n",
    "number = int(input(\"Please enter a number: \"))\n",
    "if((number%5==0)and(number%7==0)):\n",
    "    print(number, \"is a multiple of 5 and 7.\")\n",
    "else:\n",
    "    print(number , \"is not a multiple of 5 and 7.\")"
   ]
  },
  {
   "cell_type": "code",
   "execution_count": 22,
   "id": "eeccb1bf",
   "metadata": {},
   "outputs": [
    {
     "name": "stdout",
     "output_type": "stream",
     "text": [
      "Enter a real number: 34\n",
      "Enter a real number: 56\n",
      "Enter a real number: 67\n",
      "Enter a real number: 78\n",
      "Enter a real number: 96\n",
      "Enter a real number: 796\n",
      "Enter a real number: 456\n",
      "Enter a real number: 78\n",
      "Enter a real number: 456\n",
      "Enter a real number: 567\n",
      "Average is : 268.4\n"
     ]
    }
   ],
   "source": [
    "#9. Python program to find the average of 10 numbers using while loop\n",
    "count = 0\n",
    "sum = 0.0\n",
    "while(count<10):\n",
    "    number = float(input(\"Enter a real number: \"))\n",
    "    count=count+1\n",
    "    sum = sum+number\n",
    "avg = sum/10;\n",
    "print(\"Average is :\", avg)"
   ]
  },
  {
   "cell_type": "code",
   "execution_count": 26,
   "id": "dd4229fa",
   "metadata": {},
   "outputs": [
    {
     "name": "stdout",
     "output_type": "stream",
     "text": [
      "Enter a positive number: 1002\n",
      "2001\n"
     ]
    }
   ],
   "source": [
    "#10. Python program to display the given integer in reverse manner\n",
    "number = int(input(\"Enter a positive number: \"))\n",
    "rev = 0\n",
    "while(number!=0):\n",
    "    digit = number%10\n",
    "    rev = (rev*10)+digit\n",
    "    number = number//10\n",
    "print(rev)"
   ]
  },
  {
   "cell_type": "code",
   "execution_count": 29,
   "id": "029b51ee",
   "metadata": {},
   "outputs": [
    {
     "name": "stdout",
     "output_type": "stream",
     "text": [
      "Enter the number of values: 4\n",
      "Enter a real number: 56\n",
      "Enter a real number: 98\n",
      "Enter a real number: 6\n",
      "Enter a real number: 2\n",
      "The geometric mean is:  16.01949558873584\n"
     ]
    }
   ],
   "source": [
    "#11. Python program to find the geometric mean of n numbers\n",
    "c = 0\n",
    "p = 1.0\n",
    "count = int(input(\"Enter the number of values: \"))\n",
    "while(c<count):\n",
    "    x = float(input(\"Enter a real number: \"))\n",
    "    c = c+1\n",
    "    p = p*x\n",
    "gm = pow(p,1.0/count)\n",
    "print(\"The geometric mean is: \", gm)"
   ]
  },
  {
   "cell_type": "code",
   "execution_count": 31,
   "id": "36aac0fe",
   "metadata": {},
   "outputs": [
    {
     "name": "stdout",
     "output_type": "stream",
     "text": [
      "Enter an integer: 100\n",
      "Sum of digits is:  1\n"
     ]
    }
   ],
   "source": [
    "#12. Python program to find the sum of the digits of an integer using while loop\n",
    "sum = 0\n",
    "number = int(input(\"Enter an integer: \"))\n",
    "while(number!=0):\n",
    "    digit = number%10\n",
    "    sum = sum+digit\n",
    "    number = number//10\n",
    "print(\"Sum of digits is: \", sum)"
   ]
  },
  {
   "cell_type": "code",
   "execution_count": 32,
   "id": "b36c209d",
   "metadata": {},
   "outputs": [
    {
     "name": "stdout",
     "output_type": "stream",
     "text": [
      "12\n",
      "15\n",
      "18\n",
      "21\n",
      "24\n",
      "27\n",
      "30\n",
      "33\n",
      "36\n",
      "39\n",
      "42\n",
      "45\n",
      "48\n"
     ]
    }
   ],
   "source": [
    "#13. Python program to display all the multiples of 3 within the range 10 to 50\n",
    "for i in range(10,50):\n",
    "    if (i%3==0):\n",
    "        print(i)"
   ]
  },
  {
   "cell_type": "code",
   "execution_count": 33,
   "id": "799e5dd0",
   "metadata": {},
   "outputs": [
    {
     "name": "stdout",
     "output_type": "stream",
     "text": [
      "101\n",
      "103\n",
      "105\n",
      "107\n",
      "109\n",
      "110\n",
      "112\n",
      "114\n",
      "116\n",
      "118\n",
      "121\n",
      "123\n",
      "125\n",
      "127\n",
      "129\n",
      "130\n",
      "132\n",
      "134\n",
      "136\n",
      "138\n",
      "141\n",
      "143\n",
      "145\n",
      "147\n",
      "149\n",
      "150\n",
      "152\n",
      "154\n",
      "156\n",
      "158\n",
      "161\n",
      "163\n",
      "165\n",
      "167\n",
      "169\n",
      "170\n",
      "172\n",
      "174\n",
      "176\n",
      "178\n",
      "181\n",
      "183\n",
      "185\n",
      "187\n",
      "189\n",
      "190\n",
      "192\n",
      "194\n",
      "196\n",
      "198\n"
     ]
    }
   ],
   "source": [
    "#14. Python program to display all integers within the range 100-200 whose sum of digits is an even number\n",
    "for i in range(100,200):\n",
    "    num = i\n",
    "    sum = 0\n",
    "    while(num!=0):\n",
    "        digit = num%10\n",
    "        sum = sum + digit\n",
    "        num = num//10\n",
    "    if(sum%2==0):\n",
    "        print(i)"
   ]
  },
  {
   "cell_type": "code",
   "execution_count": 35,
   "id": "06d07b51",
   "metadata": {},
   "outputs": [
    {
     "name": "stdout",
     "output_type": "stream",
     "text": [
      "Enter an integer greater than 1: 7654638\n",
      "7654638 is not a prime number\n"
     ]
    }
   ],
   "source": [
    "#15. Python program to check whether the given integer is a prime number or not\n",
    "num = int(input(\"Enter an integer greater than 1: \"))\n",
    "isprime = 1 #assuming the number is prime\n",
    "for i in range(2, num//2):\n",
    "    if(num%i==0):\n",
    "        isprime=0\n",
    "        break\n",
    "if(isprime==1):\n",
    "    print(num, \"is a prime number\")\n",
    "else:\n",
    "    print(num, \"is not a prime number\")"
   ]
  },
  {
   "cell_type": "code",
   "execution_count": null,
   "id": "07de5803",
   "metadata": {},
   "outputs": [],
   "source": []
  }
 ],
 "metadata": {
  "kernelspec": {
   "display_name": "Python 3 (ipykernel)",
   "language": "python",
   "name": "python3"
  },
  "language_info": {
   "codemirror_mode": {
    "name": "ipython",
    "version": 3
   },
   "file_extension": ".py",
   "mimetype": "text/x-python",
   "name": "python",
   "nbconvert_exporter": "python",
   "pygments_lexer": "ipython3",
   "version": "3.9.7"
  }
 },
 "nbformat": 4,
 "nbformat_minor": 5
}
