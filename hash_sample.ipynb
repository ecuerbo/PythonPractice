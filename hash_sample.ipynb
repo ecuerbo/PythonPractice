{
 "cells": [
  {
   "cell_type": "code",
   "execution_count": 1,
   "id": "eae63938",
   "metadata": {},
   "outputs": [
    {
     "name": "stdout",
     "output_type": "stream",
     "text": [
      "hello there\n",
      "12998c017066eb0d2a70b94e6ed3192985855ce390f321bbdb832022888bd251\n"
     ]
    }
   ],
   "source": [
    "import hashlib\n",
    "\n",
    "string = 'hello there'\n",
    "print(string)\n",
    "\n",
    "hashed_string= hashlib.sha256(string.encode()).hexdigest()\n",
    "\n",
    "print(hashed_string)"
   ]
  },
  {
   "cell_type": "code",
   "execution_count": 4,
   "id": "b89de787",
   "metadata": {},
   "outputs": [
    {
     "name": "stdout",
     "output_type": "stream",
     "text": [
      "hello there!\n",
      "c69509590d81db2f37f9d75480c8efedf79a77933db5a8319e52e13bfd9874a3\n"
     ]
    }
   ],
   "source": [
    "import hashlib\n",
    "\n",
    "string = 'hello there!'\n",
    "print(string)\n",
    "\n",
    "hashed_string= hashlib.sha256(string.encode()).hexdigest()\n",
    "\n",
    "print(hashed_string)"
   ]
  },
  {
   "cell_type": "code",
   "execution_count": null,
   "id": "788a81eb",
   "metadata": {},
   "outputs": [],
   "source": []
  }
 ],
 "metadata": {
  "kernelspec": {
   "display_name": "Python 3 (ipykernel)",
   "language": "python",
   "name": "python3"
  },
  "language_info": {
   "codemirror_mode": {
    "name": "ipython",
    "version": 3
   },
   "file_extension": ".py",
   "mimetype": "text/x-python",
   "name": "python",
   "nbconvert_exporter": "python",
   "pygments_lexer": "ipython3",
   "version": "3.9.7"
  }
 },
 "nbformat": 4,
 "nbformat_minor": 5
}
