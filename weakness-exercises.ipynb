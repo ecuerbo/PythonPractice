{
 "cells": [
  {
   "cell_type": "code",
   "execution_count": 14,
   "id": "fea7e014",
   "metadata": {},
   "outputs": [
    {
     "name": "stdout",
     "output_type": "stream",
     "text": [
      "0    reden\n",
      "1     blue\n",
      "2      red\n",
      "3    green\n",
      "4     blue\n",
      "5      red\n",
      "6    green\n",
      "dtype: object\n"
     ]
    }
   ],
   "source": [
    "import pandas as pd\n",
    "\n",
    "s = pd.Series([\"reden\",\"blue\",\"red\",\"green\", \"blue\",\"red\",\"green\"])\n",
    "print(s)"
   ]
  },
  {
   "cell_type": "code",
   "execution_count": 15,
   "id": "52f3ab2b",
   "metadata": {},
   "outputs": [
    {
     "name": "stdout",
     "output_type": "stream",
     "text": [
      "0     True\n",
      "1    False\n",
      "2    False\n",
      "3     True\n",
      "4    False\n",
      "5    False\n",
      "6     True\n",
      "dtype: bool\n"
     ]
    }
   ],
   "source": [
    "print(s.str.endswith('en'))"
   ]
  },
  {
   "cell_type": "code",
   "execution_count": 24,
   "id": "c480eb4a",
   "metadata": {},
   "outputs": [
    {
     "data": {
      "text/html": [
       "<div>\n",
       "<style scoped>\n",
       "    .dataframe tbody tr th:only-of-type {\n",
       "        vertical-align: middle;\n",
       "    }\n",
       "\n",
       "    .dataframe tbody tr th {\n",
       "        vertical-align: top;\n",
       "    }\n",
       "\n",
       "    .dataframe thead th {\n",
       "        text-align: right;\n",
       "    }\n",
       "</style>\n",
       "<table border=\"1\" class=\"dataframe\">\n",
       "  <thead>\n",
       "    <tr style=\"text-align: right;\">\n",
       "      <th></th>\n",
       "      <th>0</th>\n",
       "      <th>1</th>\n",
       "    </tr>\n",
       "  </thead>\n",
       "  <tbody>\n",
       "    <tr>\n",
       "      <th>0</th>\n",
       "      <td>4</td>\n",
       "      <td>9</td>\n",
       "    </tr>\n",
       "    <tr>\n",
       "      <th>1</th>\n",
       "      <td>16</td>\n",
       "      <td>25</td>\n",
       "    </tr>\n",
       "  </tbody>\n",
       "</table>\n",
       "</div>"
      ],
      "text/plain": [
       "    0   1\n",
       "0   4   9\n",
       "1  16  25"
      ]
     },
     "execution_count": 24,
     "metadata": {},
     "output_type": "execute_result"
    }
   ],
   "source": [
    "x=[4,9]\n",
    "y=[16,25]\n",
    "df = pd.DataFrame([x,y])\n",
    "df.head()"
   ]
  },
  {
   "cell_type": "code",
   "execution_count": 25,
   "id": "7b96a9e1",
   "metadata": {},
   "outputs": [
    {
     "name": "stdout",
     "output_type": "stream",
     "text": [
      "     0    1\n",
      "0  2.0  3.0\n",
      "1  4.0  5.0\n"
     ]
    }
   ],
   "source": [
    "import numpy as np\n",
    "print(df.apply(np.sqrt))"
   ]
  },
  {
   "cell_type": "code",
   "execution_count": 27,
   "id": "c02006c0",
   "metadata": {},
   "outputs": [
    {
     "data": {
      "text/plain": [
       "'p'"
      ]
     },
     "execution_count": 27,
     "metadata": {},
     "output_type": "execute_result"
    }
   ],
   "source": [
    "w = 'python'\n",
    "w_iterator = iter(w)\n",
    "next(w_iterator)"
   ]
  },
  {
   "cell_type": "code",
   "execution_count": 30,
   "id": "8ab91eac",
   "metadata": {},
   "outputs": [
    {
     "data": {
      "text/plain": [
       "'h'"
      ]
     },
     "execution_count": 30,
     "metadata": {},
     "output_type": "execute_result"
    }
   ],
   "source": [
    "next(w_iterator)"
   ]
  },
  {
   "cell_type": "code",
   "execution_count": 31,
   "id": "6efaa745",
   "metadata": {},
   "outputs": [
    {
     "name": "stdout",
     "output_type": "stream",
     "text": [
      "153\n"
     ]
    }
   ],
   "source": [
    "def add_many(*args):\n",
    "    s=0\n",
    "    for n in args:\n",
    "        s += n\n",
    "    print(s)\n",
    "add_many(100,50,3)"
   ]
  },
  {
   "cell_type": "code",
   "execution_count": 32,
   "id": "4077800d",
   "metadata": {},
   "outputs": [
    {
     "name": "stdout",
     "output_type": "stream",
     "text": [
      "123\n"
     ]
    }
   ],
   "source": [
    "import pandas as pd\n",
    "print(df.stars.transform(lambda x:x/1000))"
   ]
  },
  {
   "cell_type": "code",
   "execution_count": null,
   "id": "acfc2595",
   "metadata": {},
   "outputs": [],
   "source": [
    "q1 = df['age'].quantile(0.25)\n",
    "q3 = df['age'].quantile(0.75)\n",
    "iqr = q3-q1"
   ]
  },
  {
   "cell_type": "code",
   "execution_count": 4,
   "id": "f7ffc9ab",
   "metadata": {},
   "outputs": [
    {
     "name": "stdout",
     "output_type": "stream",
     "text": [
      "[  8.20177058 -14.63919311   2.59196231 ... -10.03130588 -10.49526801\n",
      " -10.28543101]\n"
     ]
    }
   ],
   "source": [
    "import numpy as np\n",
    "\n",
    "samples = np.random.normal(0,10,10000)\n",
    "print(samples)"
   ]
  },
  {
   "cell_type": "code",
   "execution_count": 5,
   "id": "b875e1e1",
   "metadata": {},
   "outputs": [
    {
     "name": "stdout",
     "output_type": "stream",
     "text": [
      "[ 2  7  4  7  3  8  5  3 10  6  6  7  5  6  9  2  6  2  5  5  7  6  5  1\n",
      "  8  3  6  5  2  4  3  3  3  5  9  4  8  4  4  5  3 10  4  7  3  3  7  1\n",
      "  3  5]\n"
     ]
    }
   ],
   "source": [
    "seed = 121120\n",
    "np.random.seed(seed)\n",
    "print(np.random.poisson(5,50))"
   ]
  },
  {
   "cell_type": "code",
   "execution_count": null,
   "id": "34eaacb7",
   "metadata": {},
   "outputs": [],
   "source": [
    "from scipy import stats\n",
    "\n",
    "results = stats.ttest_ind(males, females)\n",
    "print(\"statistic: {}\".format(results[0]))\n",
    "print(\"p-value: {}\".format(results[1]))"
   ]
  },
  {
   "cell_type": "code",
   "execution_count": 2,
   "id": "200edb31",
   "metadata": {},
   "outputs": [
    {
     "data": {
      "text/plain": [
       "[3, 4]"
      ]
     },
     "execution_count": 2,
     "metadata": {},
     "output_type": "execute_result"
    }
   ],
   "source": [
    "[i for i in range(5) if i>2]"
   ]
  },
  {
   "cell_type": "code",
   "execution_count": 3,
   "id": "fa9c62d9",
   "metadata": {},
   "outputs": [
    {
     "data": {
      "text/plain": [
       "[6]"
      ]
     },
     "execution_count": 3,
     "metadata": {},
     "output_type": "execute_result"
    }
   ],
   "source": [
    "[i for i in range(7) if i>5]"
   ]
  },
  {
   "cell_type": "code",
   "execution_count": 6,
   "id": "e7be4e4d",
   "metadata": {},
   "outputs": [
    {
     "data": {
      "text/plain": [
       "[0, 2, 4, 6]"
      ]
     },
     "execution_count": 6,
     "metadata": {},
     "output_type": "execute_result"
    }
   ],
   "source": [
    "[i for i in range(8) if i%2==0]"
   ]
  },
  {
   "cell_type": "code",
   "execution_count": 7,
   "id": "06e78230",
   "metadata": {},
   "outputs": [
    {
     "data": {
      "text/plain": [
       "[0,\n",
       " 14,\n",
       " 28,\n",
       " 42,\n",
       " 56,\n",
       " 70,\n",
       " 84,\n",
       " 98,\n",
       " 112,\n",
       " 126,\n",
       " 140,\n",
       " 154,\n",
       " 168,\n",
       " 182,\n",
       " 196,\n",
       " 210,\n",
       " 224,\n",
       " 238,\n",
       " 252,\n",
       " 266,\n",
       " 280,\n",
       " 294,\n",
       " 308,\n",
       " 322,\n",
       " 336,\n",
       " 350,\n",
       " 364,\n",
       " 378,\n",
       " 392,\n",
       " 406,\n",
       " 420,\n",
       " 434,\n",
       " 448,\n",
       " 462,\n",
       " 476,\n",
       " 490,\n",
       " 504,\n",
       " 518,\n",
       " 532,\n",
       " 546,\n",
       " 560,\n",
       " 574,\n",
       " 588,\n",
       " 602,\n",
       " 616,\n",
       " 630,\n",
       " 644,\n",
       " 658,\n",
       " 672,\n",
       " 686,\n",
       " 700,\n",
       " 714,\n",
       " 728,\n",
       " 742,\n",
       " 756,\n",
       " 770,\n",
       " 784,\n",
       " 798,\n",
       " 812,\n",
       " 826,\n",
       " 840,\n",
       " 854,\n",
       " 868,\n",
       " 882,\n",
       " 896,\n",
       " 910,\n",
       " 924,\n",
       " 938,\n",
       " 952,\n",
       " 966,\n",
       " 980,\n",
       " 994]"
      ]
     },
     "execution_count": 7,
     "metadata": {},
     "output_type": "execute_result"
    }
   ],
   "source": [
    "[i for i in range(1000) if (i%7==0 and i%2==0)]"
   ]
  },
  {
   "cell_type": "code",
   "execution_count": 9,
   "id": "311f9ebf",
   "metadata": {},
   "outputs": [
    {
     "data": {
      "text/plain": [
       "'woof!'"
      ]
     },
     "execution_count": 9,
     "metadata": {},
     "output_type": "execute_result"
    }
   ],
   "source": [
    "class Dog:\n",
    "    def woof(self):\n",
    "        return 'woof!'\n",
    "    \n",
    "t = Dog()\n",
    "t.woof()"
   ]
  },
  {
   "cell_type": "code",
   "execution_count": 11,
   "id": "aa3245a1",
   "metadata": {},
   "outputs": [
    {
     "data": {
      "text/plain": [
       "'meow!'"
      ]
     },
     "execution_count": 11,
     "metadata": {},
     "output_type": "execute_result"
    }
   ],
   "source": [
    "class Cat:\n",
    "    def meow(self):\n",
    "        return 'meow!'\n",
    "c= Cat()\n",
    "c.meow()"
   ]
  },
  {
   "cell_type": "code",
   "execution_count": 12,
   "id": "829a24c8",
   "metadata": {},
   "outputs": [
    {
     "data": {
      "text/plain": [
       "['animal', 'horse']"
      ]
     },
     "execution_count": 12,
     "metadata": {},
     "output_type": "execute_result"
    }
   ],
   "source": [
    "s = \"animal-horse\"\n",
    "s.split(\"-\")"
   ]
  },
  {
   "cell_type": "code",
   "execution_count": 14,
   "id": "f503dbfc",
   "metadata": {},
   "outputs": [
    {
     "data": {
      "text/plain": [
       "['john.doe', 'gmail.com']"
      ]
     },
     "execution_count": 14,
     "metadata": {},
     "output_type": "execute_result"
    }
   ],
   "source": [
    "f = 'john.doe@gmail.com'\n",
    "f.split(\"@\")"
   ]
  },
  {
   "cell_type": "code",
   "execution_count": 15,
   "id": "056107f6",
   "metadata": {},
   "outputs": [
    {
     "data": {
      "text/plain": [
       "4.6"
      ]
     },
     "execution_count": 15,
     "metadata": {},
     "output_type": "execute_result"
    }
   ],
   "source": [
    "book = {\n",
    "    'title':'The Giver',\n",
    "    'author':'Lois Lowry',\n",
    "    'rating':4.13\n",
    "}\n",
    "book['rating'] = 4.6\n",
    "book['rating']"
   ]
  },
  {
   "cell_type": "code",
   "execution_count": 16,
   "id": "5f4d8608",
   "metadata": {},
   "outputs": [
    {
     "data": {
      "text/plain": [
       "'Ernest Hemingway'"
      ]
     },
     "execution_count": 16,
     "metadata": {},
     "output_type": "execute_result"
    }
   ],
   "source": [
    "book['author'] = 'Ernest Hemingway'\n",
    "book['author']"
   ]
  },
  {
   "cell_type": "code",
   "execution_count": 19,
   "id": "3f12302a",
   "metadata": {},
   "outputs": [
    {
     "name": "stdout",
     "output_type": "stream",
     "text": [
      "0 :  a\n",
      "1 :  b\n",
      "2 :  c\n"
     ]
    }
   ],
   "source": [
    "letters = ['a','b','c']\n",
    "for k, x in enumerate(letters):\n",
    "    print(k,\": \", x)"
   ]
  },
  {
   "cell_type": "code",
   "execution_count": 20,
   "id": "8b773bb5",
   "metadata": {},
   "outputs": [
    {
     "data": {
      "text/plain": [
       "{'apple': 1, 'banana': 2, 'coconut': 3, 'durian': 4}"
      ]
     },
     "execution_count": 20,
     "metadata": {},
     "output_type": "execute_result"
    }
   ],
   "source": [
    "d = {\n",
    "    'apple':1,\n",
    "    'banana':2,\n",
    "    'coconut':3\n",
    "}\n",
    "d['durian'] = 4\n",
    "d"
   ]
  },
  {
   "cell_type": "code",
   "execution_count": null,
   "id": "769a38e2",
   "metadata": {},
   "outputs": [],
   "source": []
  }
 ],
 "metadata": {
  "kernelspec": {
   "display_name": "Python 3 (ipykernel)",
   "language": "python",
   "name": "python3"
  },
  "language_info": {
   "codemirror_mode": {
    "name": "ipython",
    "version": 3
   },
   "file_extension": ".py",
   "mimetype": "text/x-python",
   "name": "python",
   "nbconvert_exporter": "python",
   "pygments_lexer": "ipython3",
   "version": "3.9.7"
  }
 },
 "nbformat": 4,
 "nbformat_minor": 5
}
