{
 "cells": [
  {
   "cell_type": "code",
   "execution_count": null,
   "id": "b2cb0a04",
   "metadata": {},
   "outputs": [],
   "source": [
    "import pandas as pd\n",
    "import seaborn as sns\n",
    "\n",
    "crm = pd.read_csv(\"data/crm.csv\", index_col=\"DT\", parse_dates=True)\n",
    "\n",
    "crm.head()\n",
    "\n",
    "sns.boxplot(x='sample',y='ni',hue='xrf',data=crm)"
   ]
  },
  {
   "cell_type": "code",
   "execution_count": null,
   "id": "2ad7cf3b",
   "metadata": {},
   "outputs": [],
   "source": [
    "2+3"
   ]
  },
  {
   "cell_type": "code",
   "execution_count": null,
   "id": "15c6747b",
   "metadata": {},
   "outputs": [],
   "source": []
  }
 ],
 "metadata": {
  "kernelspec": {
   "display_name": "Python 3 (ipykernel)",
   "language": "python",
   "name": "python3"
  },
  "language_info": {
   "codemirror_mode": {
    "name": "ipython",
    "version": 3
   },
   "file_extension": ".py",
   "mimetype": "text/x-python",
   "name": "python",
   "nbconvert_exporter": "python",
   "pygments_lexer": "ipython3",
   "version": "3.9.12"
  }
 },
 "nbformat": 4,
 "nbformat_minor": 5
}
