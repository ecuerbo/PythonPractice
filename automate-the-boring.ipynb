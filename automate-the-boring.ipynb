{
 "cells": [
  {
   "cell_type": "code",
   "execution_count": 4,
   "id": "b8e0063c",
   "metadata": {},
   "outputs": [],
   "source": [
    "num = [1,2,3]\n",
    "anim = ['cat', \"bat\", \"rat\", \"elephant\"]\n",
    "mix = ['hello', 3.1415, True, None, 42]"
   ]
  },
  {
   "cell_type": "code",
   "execution_count": 6,
   "id": "55367220",
   "metadata": {},
   "outputs": [
    {
     "data": {
      "text/plain": [
       "'elephant'"
      ]
     },
     "execution_count": 6,
     "metadata": {},
     "output_type": "execute_result"
    }
   ],
   "source": [
    "anim[2]\n",
    "anim[0]\n",
    "anim[3]"
   ]
  },
  {
   "cell_type": "code",
   "execution_count": 7,
   "id": "85458f77",
   "metadata": {},
   "outputs": [
    {
     "data": {
      "text/plain": [
       "'Hello cat'"
      ]
     },
     "execution_count": 7,
     "metadata": {},
     "output_type": "execute_result"
    }
   ],
   "source": [
    "'Hello ' + anim[0]"
   ]
  },
  {
   "cell_type": "code",
   "execution_count": 10,
   "id": "25f0d5c1",
   "metadata": {},
   "outputs": [
    {
     "data": {
      "text/plain": [
       "'The bat ate the cat.'"
      ]
     },
     "execution_count": 10,
     "metadata": {},
     "output_type": "execute_result"
    }
   ],
   "source": [
    "'The ' + anim[1] + ' ate the ' + anim[0] + '.'"
   ]
  },
  {
   "cell_type": "code",
   "execution_count": null,
   "id": "50d488bb",
   "metadata": {},
   "outputs": [],
   "source": []
  }
 ],
 "metadata": {
  "kernelspec": {
   "display_name": "Python 3 (ipykernel)",
   "language": "python",
   "name": "python3"
  },
  "language_info": {
   "codemirror_mode": {
    "name": "ipython",
    "version": 3
   },
   "file_extension": ".py",
   "mimetype": "text/x-python",
   "name": "python",
   "nbconvert_exporter": "python",
   "pygments_lexer": "ipython3",
   "version": "3.9.7"
  }
 },
 "nbformat": 4,
 "nbformat_minor": 5
}
