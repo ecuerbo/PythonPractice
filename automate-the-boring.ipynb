{
 "cells": [
  {
   "cell_type": "code",
   "execution_count": 1,
   "id": "204b654e",
   "metadata": {},
   "outputs": [],
   "source": [
    "greet = ['hello', 'hi', 'howdy','heyas', 'hola']"
   ]
  },
  {
   "cell_type": "code",
   "execution_count": 2,
   "id": "978a18b2",
   "metadata": {},
   "outputs": [
    {
     "data": {
      "text/plain": [
       "True"
      ]
     },
     "execution_count": 2,
     "metadata": {},
     "output_type": "execute_result"
    }
   ],
   "source": [
    "'howdy' in greet"
   ]
  },
  {
   "cell_type": "code",
   "execution_count": 4,
   "id": "8dd3e680",
   "metadata": {},
   "outputs": [
    {
     "name": "stdout",
     "output_type": "stream",
     "text": [
      "hello\n",
      "hi\n",
      "howdy\n",
      "heyas\n",
      "hola\n"
     ]
    }
   ],
   "source": [
    "for x in greet:\n",
    "    print(x)"
   ]
  },
  {
   "cell_type": "code",
   "execution_count": 5,
   "id": "41b65bd8",
   "metadata": {},
   "outputs": [
    {
     "data": {
      "text/plain": [
       "False"
      ]
     },
     "execution_count": 5,
     "metadata": {},
     "output_type": "execute_result"
    }
   ],
   "source": [
    "'privyet' in greet"
   ]
  },
  {
   "cell_type": "code",
   "execution_count": 6,
   "id": "5fda5d95",
   "metadata": {},
   "outputs": [
    {
     "data": {
      "text/plain": [
       "True"
      ]
     },
     "execution_count": 6,
     "metadata": {},
     "output_type": "execute_result"
    }
   ],
   "source": [
    "'privyet' not in greet"
   ]
  },
  {
   "cell_type": "code",
   "execution_count": null,
   "id": "950b44c4",
   "metadata": {},
   "outputs": [],
   "source": [
    "cat = ['fat', \"black\", 'loud']\n",
    "size, color, disposition = cat"
   ]
  },
  {
   "cell_type": "code",
   "execution_count": null,
   "id": "95a344cb",
   "metadata": {},
   "outputs": [],
   "source": [
    "spam = 42\n",
    "spam = spam + 1\n",
    "print(spam)"
   ]
  },
  {
   "cell_type": "code",
   "execution_count": 2,
   "id": "0281b12f",
   "metadata": {},
   "outputs": [
    {
     "name": "stdout",
     "output_type": "stream",
     "text": [
      "Index 0 in supplies is: pens\n",
      "Index 1 in supplies is: staplers\n",
      "Index 2 in supplies is: flame-throwers\n",
      "Index 3 in supplies is: binders\n"
     ]
    }
   ],
   "source": [
    "supplies = ['pens', 'staplers', 'flame-throwers', 'binders']\n",
    "for i in range(len(supplies)):\n",
    "    print('Index ' + str(i) + ' in supplies is: '+ supplies[i])\n"
   ]
  },
  {
   "cell_type": "code",
   "execution_count": 5,
   "id": "70ece0c8",
   "metadata": {},
   "outputs": [
    {
     "name": "stdout",
     "output_type": "stream",
     "text": [
      "Enter a name: (blank to quit)\n",
      "Elbon\n",
      "I dont have birthday info for Elbon\n",
      "What is your bday? \n",
      "January 4\n",
      "Birthday database updated\n",
      "Enter a name: (blank to quit)\n",
      "Elbon\n",
      "January 4 is the birthday of Elbon\n",
      "Enter a name: (blank to quit)\n",
      "jane\n",
      "I dont have birthday info for jane\n",
      "What is your bday? \n",
      "Feb 29\n",
      "Birthday database updated\n",
      "Enter a name: (blank to quit)\n",
      "Bob\n",
      "Dec 12 is the birthday of Bob\n",
      "Enter a name: (blank to quit)\n",
      "\n"
     ]
    }
   ],
   "source": [
    "birthdays = {'Alice': 'Apr 1', 'Bob': 'Dec 12', 'Carol': 'Mar 4'}\n",
    "\n",
    "while True:\n",
    "    print('Enter a name: (blank to quit)')\n",
    "    name=input()\n",
    "    if name == '':\n",
    "        break\n",
    "    \n",
    "    if name in birthdays:\n",
    "        print(birthdays[name] +' is the birthday of '+ name)\n",
    "    else:\n",
    "        print('I dont have birthday info for ' + name)\n",
    "        print('What is your bday? ')\n",
    "        bday = input()\n",
    "        birthdays[name] = bday\n",
    "        print('Birthday database updated')"
   ]
  },
  {
   "cell_type": "code",
   "execution_count": 8,
   "id": "f30b0dc9",
   "metadata": {},
   "outputs": [
    {
     "name": "stdout",
     "output_type": "stream",
     "text": [
      "('Alice', 'Apr 1')\n",
      "('Bob', 'Dec 12')\n",
      "('Carol', 'Mar 4')\n",
      "('Elbon', 'January 4')\n",
      "('jane', 'Feb 29')\n"
     ]
    }
   ],
   "source": [
    "for x in birthdays.items():\n",
    "    print(x)"
   ]
  },
  {
   "cell_type": "code",
   "execution_count": 7,
   "id": "3b8aa3b0",
   "metadata": {},
   "outputs": [
    {
     "data": {
      "text/plain": [
       "dict_keys(['Alice', 'Bob', 'Carol', 'Elbon', 'jane'])"
      ]
     },
     "execution_count": 7,
     "metadata": {},
     "output_type": "execute_result"
    }
   ],
   "source": [
    "birthdays.keys()"
   ]
  },
  {
   "cell_type": "code",
   "execution_count": 10,
   "id": "2bcf725a",
   "metadata": {},
   "outputs": [
    {
     "name": "stdout",
     "output_type": "stream",
     "text": [
      "Name: Alice | Bday: Apr 1\n",
      "Name: Bob | Bday: Dec 12\n",
      "Name: Carol | Bday: Mar 4\n",
      "Name: Elbon | Bday: January 4\n",
      "Name: jane | Bday: Feb 29\n"
     ]
    }
   ],
   "source": [
    "for k, v in birthdays.items():\n",
    "    print('Name: ' + k + ' | Bday: '+v)"
   ]
  },
  {
   "cell_type": "code",
   "execution_count": null,
   "id": "0d414b53",
   "metadata": {},
   "outputs": [],
   "source": []
  }
 ],
 "metadata": {
  "kernelspec": {
   "display_name": "Python 3 (ipykernel)",
   "language": "python",
   "name": "python3"
  },
  "language_info": {
   "codemirror_mode": {
    "name": "ipython",
    "version": 3
   },
   "file_extension": ".py",
   "mimetype": "text/x-python",
   "name": "python",
   "nbconvert_exporter": "python",
   "pygments_lexer": "ipython3",
   "version": "3.9.7"
  }
 },
 "nbformat": 4,
 "nbformat_minor": 5
}
