{
 "cells": [
  {
   "cell_type": "code",
   "execution_count": 2,
   "id": "595b3d99",
   "metadata": {},
   "outputs": [
    {
     "data": {
      "text/html": [
       "<pre style=\"white-space:pre;overflow-x:auto;line-height:normal;font-family:Menlo,'DejaVu Sans Mono',consolas,'Courier New',monospace\">Family Tree\n",
       "├── Mom\n",
       "│   └── <span style=\"color: #800000; text-decoration-color: #800000\">Stepdad</span>\n",
       "├── Dad\n",
       "│   └── <span style=\"color: #000080; text-decoration-color: #000080\">Dad's BF</span>\n",
       "├── Bro\n",
       "│   └── Wife\n",
       "└── Sis\n",
       "    └── <span style=\"color: #008000; text-decoration-color: #008000\">Husband</span>\n",
       "</pre>\n"
      ],
      "text/plain": [
       "Family Tree\n",
       "├── Mom\n",
       "│   └── \u001b[31mStepdad\u001b[0m\n",
       "├── Dad\n",
       "│   └── \u001b[34mDad's BF\u001b[0m\n",
       "├── Bro\n",
       "│   └── Wife\n",
       "└── Sis\n",
       "    └── \u001b[32mHusband\u001b[0m\n"
      ]
     },
     "metadata": {},
     "output_type": "display_data"
    }
   ],
   "source": [
    "from rich.tree import Tree\n",
    "from rich import print as rprint\n",
    "\n",
    "tree = Tree(\"Family Tree\")\n",
    "tree.add(\"[pink]Mom\").add(\"[red]Stepdad\")\n",
    "tree.add(\"Dad\").add(\"[blue]Dad's BF\")\n",
    "tree.add(\"Bro\").add(\"[pink]Wife\")\n",
    "tree.add(\"Sis\").add(\"[green]Husband\")\n",
    "\n",
    "rprint(tree)"
   ]
  },
  {
   "cell_type": "code",
   "execution_count": 10,
   "id": "4f4b4cef",
   "metadata": {},
   "outputs": [
    {
     "data": {
      "text/html": [
       "<pre style=\"white-space:pre;overflow-x:auto;line-height:normal;font-family:Menlo,'DejaVu Sans Mono',consolas,'Courier New',monospace\">Cuerbo Family\n",
       "└── Lina and Felix Cuerbo\n",
       "</pre>\n"
      ],
      "text/plain": [
       "Cuerbo Family\n",
       "└── Lina and Felix Cuerbo\n"
      ]
     },
     "metadata": {},
     "output_type": "display_data"
    }
   ],
   "source": [
    "tree1 = Tree(\"Cuerbo Family\")\n",
    "tree1.add(\"Lina and Felix Cuerbo\")\n",
    "\n",
    "rprint(tree1)"
   ]
  },
  {
   "cell_type": "code",
   "execution_count": 11,
   "id": "9e0294e6",
   "metadata": {},
   "outputs": [
    {
     "data": {
      "text/html": [
       "<pre style=\"white-space:pre;overflow-x:auto;line-height:normal;font-family:Menlo,'DejaVu Sans Mono',consolas,'Courier New',monospace\">Cuerbo Family\n",
       "├── Lina and Felix Cuerbo\n",
       "└── Lina\n",
       "</pre>\n"
      ],
      "text/plain": [
       "Cuerbo Family\n",
       "├── Lina and Felix Cuerbo\n",
       "└── Lina\n"
      ]
     },
     "metadata": {},
     "output_type": "display_data"
    }
   ],
   "source": [
    "tree1.add(\"Lina\")\n",
    "\n",
    "rprint(tree1)"
   ]
  },
  {
   "cell_type": "code",
   "execution_count": null,
   "id": "fae9a7eb",
   "metadata": {},
   "outputs": [],
   "source": [
    "from rich.progress import track\n",
    "from time import sleep\n",
    "\n",
    "def process_data():\n",
    "    sleep(0.6)\n",
    "    \n",
    "for _ in track(range(1000), description='[green]Processing data'):\n",
    "    process_data()"
   ]
  },
  {
   "cell_type": "code",
   "execution_count": 3,
   "id": "7124ce14",
   "metadata": {},
   "outputs": [
    {
     "data": {
      "application/vnd.jupyter.widget-view+json": {
       "model_id": "",
       "version_major": 2,
       "version_minor": 0
      },
      "text/plain": [
       "Output()"
      ]
     },
     "metadata": {},
     "output_type": "display_data"
    },
    {
     "data": {
      "text/html": [
       "<pre style=\"white-space:pre;overflow-x:auto;line-height:normal;font-family:Menlo,'DejaVu Sans Mono',consolas,'Courier New',monospace\"><span style=\"color: #7fbfbf; text-decoration-color: #7fbfbf\">[09:31:40] </span><span style=\"color: #008000; text-decoration-color: #008000\">Finish fetching data </span><span style=\"color: #008080; text-decoration-color: #008080; font-weight: bold\">1</span>                                            <a href=\"file:///var/folders/g6/qw3t2lbx7x91r1mfyp6k77k00000gn/T/ipykernel_5067/3147109713.py\" target=\"_blank\"><span style=\"color: #7f7f7f; text-decoration-color: #7f7f7f\">3147109713.py</span></a><span style=\"color: #7f7f7f; text-decoration-color: #7f7f7f\">:</span><a href=\"file:///var/folders/g6/qw3t2lbx7x91r1mfyp6k77k00000gn/T/ipykernel_5067/3147109713.py#11\" target=\"_blank\"><span style=\"color: #7f7f7f; text-decoration-color: #7f7f7f\">11</span></a>\n",
       "</pre>\n"
      ],
      "text/plain": [
       "\u001b[2;36m[09:31:40]\u001b[0m\u001b[2;36m \u001b[0m\u001b[32mFinish fetching data \u001b[0m\u001b[1;36m1\u001b[0m                                            \u001b]8;id=220141;file:///var/folders/g6/qw3t2lbx7x91r1mfyp6k77k00000gn/T/ipykernel_5067/3147109713.py\u001b\\\u001b[2m3147109713.py\u001b[0m\u001b]8;;\u001b\\\u001b[2m:\u001b[0m\u001b]8;id=764921;file:///var/folders/g6/qw3t2lbx7x91r1mfyp6k77k00000gn/T/ipykernel_5067/3147109713.py#11\u001b\\\u001b[2m11\u001b[0m\u001b]8;;\u001b\\\n"
      ]
     },
     "metadata": {},
     "output_type": "display_data"
    },
    {
     "data": {
      "text/html": [
       "<pre style=\"white-space:pre;overflow-x:auto;line-height:normal;font-family:Menlo,'DejaVu Sans Mono',consolas,'Courier New',monospace\"><span style=\"color: #7fbfbf; text-decoration-color: #7fbfbf\">[09:31:41] </span><span style=\"color: #008000; text-decoration-color: #008000\">Finish fetching data </span><span style=\"color: #008080; text-decoration-color: #008080; font-weight: bold\">2</span>                                            <a href=\"file:///var/folders/g6/qw3t2lbx7x91r1mfyp6k77k00000gn/T/ipykernel_5067/3147109713.py\" target=\"_blank\"><span style=\"color: #7f7f7f; text-decoration-color: #7f7f7f\">3147109713.py</span></a><span style=\"color: #7f7f7f; text-decoration-color: #7f7f7f\">:</span><a href=\"file:///var/folders/g6/qw3t2lbx7x91r1mfyp6k77k00000gn/T/ipykernel_5067/3147109713.py#11\" target=\"_blank\"><span style=\"color: #7f7f7f; text-decoration-color: #7f7f7f\">11</span></a>\n",
       "</pre>\n"
      ],
      "text/plain": [
       "\u001b[2;36m[09:31:41]\u001b[0m\u001b[2;36m \u001b[0m\u001b[32mFinish fetching data \u001b[0m\u001b[1;36m2\u001b[0m                                            \u001b]8;id=84268;file:///var/folders/g6/qw3t2lbx7x91r1mfyp6k77k00000gn/T/ipykernel_5067/3147109713.py\u001b\\\u001b[2m3147109713.py\u001b[0m\u001b]8;;\u001b\\\u001b[2m:\u001b[0m\u001b]8;id=459336;file:///var/folders/g6/qw3t2lbx7x91r1mfyp6k77k00000gn/T/ipykernel_5067/3147109713.py#11\u001b\\\u001b[2m11\u001b[0m\u001b]8;;\u001b\\\n"
      ]
     },
     "metadata": {},
     "output_type": "display_data"
    },
    {
     "data": {
      "text/html": [
       "<pre style=\"white-space:pre;overflow-x:auto;line-height:normal;font-family:Menlo,'DejaVu Sans Mono',consolas,'Courier New',monospace\"><span style=\"color: #7fbfbf; text-decoration-color: #7fbfbf\">[09:31:42] </span><span style=\"color: #008000; text-decoration-color: #008000\">Finish fetching data </span><span style=\"color: #008080; text-decoration-color: #008080; font-weight: bold\">3</span>                                            <a href=\"file:///var/folders/g6/qw3t2lbx7x91r1mfyp6k77k00000gn/T/ipykernel_5067/3147109713.py\" target=\"_blank\"><span style=\"color: #7f7f7f; text-decoration-color: #7f7f7f\">3147109713.py</span></a><span style=\"color: #7f7f7f; text-decoration-color: #7f7f7f\">:</span><a href=\"file:///var/folders/g6/qw3t2lbx7x91r1mfyp6k77k00000gn/T/ipykernel_5067/3147109713.py#11\" target=\"_blank\"><span style=\"color: #7f7f7f; text-decoration-color: #7f7f7f\">11</span></a>\n",
       "</pre>\n"
      ],
      "text/plain": [
       "\u001b[2;36m[09:31:42]\u001b[0m\u001b[2;36m \u001b[0m\u001b[32mFinish fetching data \u001b[0m\u001b[1;36m3\u001b[0m                                            \u001b]8;id=27220;file:///var/folders/g6/qw3t2lbx7x91r1mfyp6k77k00000gn/T/ipykernel_5067/3147109713.py\u001b\\\u001b[2m3147109713.py\u001b[0m\u001b]8;;\u001b\\\u001b[2m:\u001b[0m\u001b]8;id=912580;file:///var/folders/g6/qw3t2lbx7x91r1mfyp6k77k00000gn/T/ipykernel_5067/3147109713.py#11\u001b\\\u001b[2m11\u001b[0m\u001b]8;;\u001b\\\n"
      ]
     },
     "metadata": {},
     "output_type": "display_data"
    },
    {
     "data": {
      "text/html": [
       "<pre style=\"white-space:pre;overflow-x:auto;line-height:normal;font-family:Menlo,'DejaVu Sans Mono',consolas,'Courier New',monospace\"><span style=\"color: #7fbfbf; text-decoration-color: #7fbfbf\">[09:31:43] </span><span style=\"color: #008000; text-decoration-color: #008000\">Finish fetching data </span><span style=\"color: #008080; text-decoration-color: #008080; font-weight: bold\">4</span>                                            <a href=\"file:///var/folders/g6/qw3t2lbx7x91r1mfyp6k77k00000gn/T/ipykernel_5067/3147109713.py\" target=\"_blank\"><span style=\"color: #7f7f7f; text-decoration-color: #7f7f7f\">3147109713.py</span></a><span style=\"color: #7f7f7f; text-decoration-color: #7f7f7f\">:</span><a href=\"file:///var/folders/g6/qw3t2lbx7x91r1mfyp6k77k00000gn/T/ipykernel_5067/3147109713.py#11\" target=\"_blank\"><span style=\"color: #7f7f7f; text-decoration-color: #7f7f7f\">11</span></a>\n",
       "</pre>\n"
      ],
      "text/plain": [
       "\u001b[2;36m[09:31:43]\u001b[0m\u001b[2;36m \u001b[0m\u001b[32mFinish fetching data \u001b[0m\u001b[1;36m4\u001b[0m                                            \u001b]8;id=680468;file:///var/folders/g6/qw3t2lbx7x91r1mfyp6k77k00000gn/T/ipykernel_5067/3147109713.py\u001b\\\u001b[2m3147109713.py\u001b[0m\u001b]8;;\u001b\\\u001b[2m:\u001b[0m\u001b]8;id=548668;file:///var/folders/g6/qw3t2lbx7x91r1mfyp6k77k00000gn/T/ipykernel_5067/3147109713.py#11\u001b\\\u001b[2m11\u001b[0m\u001b]8;;\u001b\\\n"
      ]
     },
     "metadata": {},
     "output_type": "display_data"
    },
    {
     "data": {
      "text/html": [
       "<pre style=\"white-space:pre;overflow-x:auto;line-height:normal;font-family:Menlo,'DejaVu Sans Mono',consolas,'Courier New',monospace\"><span style=\"color: #7fbfbf; text-decoration-color: #7fbfbf\">[09:31:44] </span><span style=\"color: #008000; text-decoration-color: #008000\">Finish fetching data </span><span style=\"color: #008080; text-decoration-color: #008080; font-weight: bold\">5</span>                                            <a href=\"file:///var/folders/g6/qw3t2lbx7x91r1mfyp6k77k00000gn/T/ipykernel_5067/3147109713.py\" target=\"_blank\"><span style=\"color: #7f7f7f; text-decoration-color: #7f7f7f\">3147109713.py</span></a><span style=\"color: #7f7f7f; text-decoration-color: #7f7f7f\">:</span><a href=\"file:///var/folders/g6/qw3t2lbx7x91r1mfyp6k77k00000gn/T/ipykernel_5067/3147109713.py#11\" target=\"_blank\"><span style=\"color: #7f7f7f; text-decoration-color: #7f7f7f\">11</span></a>\n",
       "</pre>\n"
      ],
      "text/plain": [
       "\u001b[2;36m[09:31:44]\u001b[0m\u001b[2;36m \u001b[0m\u001b[32mFinish fetching data \u001b[0m\u001b[1;36m5\u001b[0m                                            \u001b]8;id=757524;file:///var/folders/g6/qw3t2lbx7x91r1mfyp6k77k00000gn/T/ipykernel_5067/3147109713.py\u001b\\\u001b[2m3147109713.py\u001b[0m\u001b]8;;\u001b\\\u001b[2m:\u001b[0m\u001b]8;id=934083;file:///var/folders/g6/qw3t2lbx7x91r1mfyp6k77k00000gn/T/ipykernel_5067/3147109713.py#11\u001b\\\u001b[2m11\u001b[0m\u001b]8;;\u001b\\\n"
      ]
     },
     "metadata": {},
     "output_type": "display_data"
    },
    {
     "data": {
      "text/html": [
       "<pre style=\"white-space:pre;overflow-x:auto;line-height:normal;font-family:Menlo,'DejaVu Sans Mono',consolas,'Courier New',monospace\"><span style=\"color: #7fbfbf; text-decoration-color: #7fbfbf\">           </span><span style=\"color: #800000; text-decoration-color: #800000; font-weight: bold\">Done!</span>                                                             <a href=\"file:///var/folders/g6/qw3t2lbx7x91r1mfyp6k77k00000gn/T/ipykernel_5067/3147109713.py\" target=\"_blank\"><span style=\"color: #7f7f7f; text-decoration-color: #7f7f7f\">3147109713.py</span></a><span style=\"color: #7f7f7f; text-decoration-color: #7f7f7f\">:</span><a href=\"file:///var/folders/g6/qw3t2lbx7x91r1mfyp6k77k00000gn/T/ipykernel_5067/3147109713.py#13\" target=\"_blank\"><span style=\"color: #7f7f7f; text-decoration-color: #7f7f7f\">13</span></a>\n",
       "</pre>\n"
      ],
      "text/plain": [
       "\u001b[2;36m          \u001b[0m\u001b[2;36m \u001b[0m\u001b[1;31mDone!\u001b[0m                                                             \u001b]8;id=267650;file:///var/folders/g6/qw3t2lbx7x91r1mfyp6k77k00000gn/T/ipykernel_5067/3147109713.py\u001b\\\u001b[2m3147109713.py\u001b[0m\u001b]8;;\u001b\\\u001b[2m:\u001b[0m\u001b]8;id=667029;file:///var/folders/g6/qw3t2lbx7x91r1mfyp6k77k00000gn/T/ipykernel_5067/3147109713.py#13\u001b\\\u001b[2m13\u001b[0m\u001b]8;;\u001b\\\n"
      ]
     },
     "metadata": {},
     "output_type": "display_data"
    },
    {
     "data": {
      "text/html": [
       "<pre style=\"white-space:pre;overflow-x:auto;line-height:normal;font-family:Menlo,'DejaVu Sans Mono',consolas,'Courier New',monospace\"></pre>\n"
      ],
      "text/plain": []
     },
     "metadata": {},
     "output_type": "display_data"
    }
   ],
   "source": [
    "from rich.console import Console\n",
    "from time import sleep\n",
    "\n",
    "console = Console()\n",
    "\n",
    "data = [1,2,3,4,5]\n",
    "with console.status(\"[bold green]Fetching data...\") as status:\n",
    "    while data:\n",
    "        num = data.pop(0)\n",
    "        sleep(1)\n",
    "        console.log(f\"[green]Finish fetching data [/green]{num}\")\n",
    "        \n",
    "    console.log(f'[bold][red]Done!')"
   ]
  },
  {
   "cell_type": "code",
   "execution_count": 1,
   "id": "ad9a44f3",
   "metadata": {},
   "outputs": [
    {
     "name": "stdout",
     "output_type": "stream",
     "text": [
      "Hello world!\n"
     ]
    }
   ],
   "source": [
    "print(\"Hello world!\")"
   ]
  },
  {
   "cell_type": "code",
   "execution_count": 7,
   "id": "f4ce5985",
   "metadata": {},
   "outputs": [
    {
     "data": {
      "application/vnd.jupyter.widget-view+json": {
       "model_id": "0dfb5dff68234a7480528f56319b645b",
       "version_major": 2,
       "version_minor": 0
      },
      "text/plain": [
       "Output()"
      ]
     },
     "metadata": {},
     "output_type": "display_data"
    },
    {
     "data": {
      "text/html": [
       "<pre style=\"white-space:pre;overflow-x:auto;line-height:normal;font-family:Menlo,'DejaVu Sans Mono',consolas,'Courier New',monospace\"></pre>\n"
      ],
      "text/plain": []
     },
     "metadata": {},
     "output_type": "display_data"
    },
    {
     "data": {
      "text/html": [
       "<pre style=\"white-space:pre;overflow-x:auto;line-height:normal;font-family:Menlo,'DejaVu Sans Mono',consolas,'Courier New',monospace\">\n",
       "</pre>\n"
      ],
      "text/plain": [
       "\n"
      ]
     },
     "metadata": {},
     "output_type": "display_data"
    }
   ],
   "source": [
    "import time\n",
    "\n",
    "from rich.progress import Progress\n",
    "\n",
    "with Progress() as progress:\n",
    "    \n",
    "    task1 = progress.add_task(\"[red]Downloading...\", total = 100)\n",
    "    task2 = progress.add_task(\"[green]Processing...\", total =100)\n",
    "    task3 = progress.add_task(\"[cyan]Installing...\", total = 100)\n",
    "    \n",
    "    while not progress.finished:\n",
    "        progress.update(task1, advance=0.9)\n",
    "        progress.update(task2, advance=0.6)\n",
    "        progress.update(task3, advance=0.3)\n",
    "        time.sleep(0.1)"
   ]
  },
  {
   "cell_type": "code",
   "execution_count": 16,
   "id": "ce3bd19b",
   "metadata": {},
   "outputs": [
    {
     "data": {
      "text/html": [
       "<pre style=\"white-space:pre;overflow-x:auto;line-height:normal;font-family:Menlo,'DejaVu Sans Mono',consolas,'Courier New',monospace\">╭─────────────────╮ ╭──────────────────╮ ╭─────────────────╮ ╭────────────────╮\n",
       "│ <span style=\"font-weight: bold\">AyşeLimoncuoğlu</span> │ │ <span style=\"font-weight: bold\">JakeRobinson</span>     │ │ <span style=\"font-weight: bold\">TimianLindgaard</span> │ │ <span style=\"font-weight: bold\">ArloThomas</span>     │\n",
       "│ <span style=\"color: #008000; text-decoration-color: #008000\">Turkey</span>          │ │ <span style=\"color: #008000; text-decoration-color: #008000\">New Zealand</span>      │ │ <span style=\"color: #008000; text-decoration-color: #008000\">Norway</span>          │ │ <span style=\"color: #008000; text-decoration-color: #008000\">New Zealand</span>    │\n",
       "╰─────────────────╯ ╰──────────────────╯ ╰─────────────────╯ ╰────────────────╯\n",
       "╭─────────────────╮ ╭──────────────────╮ ╭─────────────────╮ ╭────────────────╮\n",
       "│ <span style=\"font-weight: bold\">FelixClarke</span>     │ │ <span style=\"font-weight: bold\">KunigundePosselt</span> │ │ <span style=\"font-weight: bold\">PatrickHusum</span>    │ │ <span style=\"font-weight: bold\">JeppeJohansen</span>  │\n",
       "│ <span style=\"color: #008000; text-decoration-color: #008000\">New Zealand</span>     │ │ <span style=\"color: #008000; text-decoration-color: #008000\">Germany</span>          │ │ <span style=\"color: #008000; text-decoration-color: #008000\">Norway</span>          │ │ <span style=\"color: #008000; text-decoration-color: #008000\">Denmark</span>        │\n",
       "╰─────────────────╯ ╰──────────────────╯ ╰─────────────────╯ ╰────────────────╯\n",
       "╭─────────────────╮ ╭──────────────────╮ ╭─────────────────╮ ╭────────────────╮\n",
       "│ <span style=\"font-weight: bold\">DomasHaugum</span>     │ │ <span style=\"font-weight: bold\">رادیننجاتی</span>       │ │ <span style=\"font-weight: bold\">EvaWalker</span>       │ │ <span style=\"font-weight: bold\">EduardoColeman</span> │\n",
       "│ <span style=\"color: #008000; text-decoration-color: #008000\">Norway</span>          │ │ <span style=\"color: #008000; text-decoration-color: #008000\">Iran</span>             │ │ <span style=\"color: #008000; text-decoration-color: #008000\">Canada</span>          │ │ <span style=\"color: #008000; text-decoration-color: #008000\">Ireland</span>        │\n",
       "╰─────────────────╯ ╰──────────────────╯ ╰─────────────────╯ ╰────────────────╯\n",
       "╭─────────────────╮ ╭──────────────────╮ ╭─────────────────╮ ╭────────────────╮\n",
       "│ <span style=\"font-weight: bold\">AlfonsoCarrasco</span> │ │ <span style=\"font-weight: bold\">محمدمهدیعلیزاده</span>  │ │ <span style=\"font-weight: bold\">BrianBaker</span>      │ │ <span style=\"font-weight: bold\">JohnLane</span>       │\n",
       "│ <span style=\"color: #008000; text-decoration-color: #008000\">Spain</span>           │ │ <span style=\"color: #008000; text-decoration-color: #008000\">Iran</span>             │ │ <span style=\"color: #008000; text-decoration-color: #008000\">United States</span>   │ │ <span style=\"color: #008000; text-decoration-color: #008000\">United Kingdom</span> │\n",
       "╰─────────────────╯ ╰──────────────────╯ ╰─────────────────╯ ╰────────────────╯\n",
       "╭─────────────────╮ ╭──────────────────╮ ╭─────────────────╮ ╭────────────────╮\n",
       "│ <span style=\"font-weight: bold\">SanniKivela</span>     │ │ <span style=\"font-weight: bold\">HannaSutton</span>      │ │ <span style=\"font-weight: bold\">EmiliaMontero</span>   │ │ <span style=\"font-weight: bold\">FilippoStrunz</span>  │\n",
       "│ <span style=\"color: #008000; text-decoration-color: #008000\">Finland</span>         │ │ <span style=\"color: #008000; text-decoration-color: #008000\">Ireland</span>          │ │ <span style=\"color: #008000; text-decoration-color: #008000\">Spain</span>           │ │ <span style=\"color: #008000; text-decoration-color: #008000\">Germany</span>        │\n",
       "╰─────────────────╯ ╰──────────────────╯ ╰─────────────────╯ ╰────────────────╯\n",
       "╭─────────────────╮ ╭──────────────────╮ ╭─────────────────╮ ╭────────────────╮\n",
       "│ <span style=\"font-weight: bold\">PatriciaPerez</span>   │ │ <span style=\"font-weight: bold\">ZakariyaBerstad</span>  │ │ <span style=\"font-weight: bold\">EemeliNiska</span>     │ │ <span style=\"font-weight: bold\">IirisOja</span>       │\n",
       "│ <span style=\"color: #008000; text-decoration-color: #008000\">Spain</span>           │ │ <span style=\"color: #008000; text-decoration-color: #008000\">Norway</span>           │ │ <span style=\"color: #008000; text-decoration-color: #008000\">Finland</span>         │ │ <span style=\"color: #008000; text-decoration-color: #008000\">Finland</span>        │\n",
       "╰─────────────────╯ ╰──────────────────╯ ╰─────────────────╯ ╰────────────────╯\n",
       "╭─────────────────╮ ╭──────────────────╮ ╭─────────────────╮ ╭────────────────╮\n",
       "│ <span style=\"font-weight: bold\">QuentinRenaud</span>   │ │ <span style=\"font-weight: bold\">FlennWard</span>        │ │ <span style=\"font-weight: bold\">پرنیاکوتی</span>       │ │ <span style=\"font-weight: bold\">HildaTorres</span>    │\n",
       "│ <span style=\"color: #008000; text-decoration-color: #008000\">France</span>          │ │ <span style=\"color: #008000; text-decoration-color: #008000\">Australia</span>        │ │ <span style=\"color: #008000; text-decoration-color: #008000\">Iran</span>            │ │ <span style=\"color: #008000; text-decoration-color: #008000\">Australia</span>      │\n",
       "╰─────────────────╯ ╰──────────────────╯ ╰─────────────────╯ ╰────────────────╯\n",
       "╭─────────────────╮ ╭──────────────────╮                                       \n",
       "│ <span style=\"font-weight: bold\">FigoPostema</span>     │ │ <span style=\"font-weight: bold\">ElliotMoulin</span>     │                                       \n",
       "│ <span style=\"color: #008000; text-decoration-color: #008000\">Netherlands</span>     │ │ <span style=\"color: #008000; text-decoration-color: #008000\">France</span>           │                                       \n",
       "╰─────────────────╯ ╰──────────────────╯                                       \n",
       "</pre>\n"
      ],
      "text/plain": [
       "╭─────────────────╮ ╭──────────────────╮ ╭─────────────────╮ ╭────────────────╮\n",
       "│ \u001b[1mAyşeLimoncuoğlu\u001b[0m │ │ \u001b[1mJakeRobinson\u001b[0m     │ │ \u001b[1mTimianLindgaard\u001b[0m │ │ \u001b[1mArloThomas\u001b[0m     │\n",
       "│ \u001b[32mTurkey\u001b[0m          │ │ \u001b[32mNew Zealand\u001b[0m      │ │ \u001b[32mNorway\u001b[0m          │ │ \u001b[32mNew Zealand\u001b[0m    │\n",
       "╰─────────────────╯ ╰──────────────────╯ ╰─────────────────╯ ╰────────────────╯\n",
       "╭─────────────────╮ ╭──────────────────╮ ╭─────────────────╮ ╭────────────────╮\n",
       "│ \u001b[1mFelixClarke\u001b[0m     │ │ \u001b[1mKunigundePosselt\u001b[0m │ │ \u001b[1mPatrickHusum\u001b[0m    │ │ \u001b[1mJeppeJohansen\u001b[0m  │\n",
       "│ \u001b[32mNew Zealand\u001b[0m     │ │ \u001b[32mGermany\u001b[0m          │ │ \u001b[32mNorway\u001b[0m          │ │ \u001b[32mDenmark\u001b[0m        │\n",
       "╰─────────────────╯ ╰──────────────────╯ ╰─────────────────╯ ╰────────────────╯\n",
       "╭─────────────────╮ ╭──────────────────╮ ╭─────────────────╮ ╭────────────────╮\n",
       "│ \u001b[1mDomasHaugum\u001b[0m     │ │ \u001b[1mرادیننجاتی\u001b[0m       │ │ \u001b[1mEvaWalker\u001b[0m       │ │ \u001b[1mEduardoColeman\u001b[0m │\n",
       "│ \u001b[32mNorway\u001b[0m          │ │ \u001b[32mIran\u001b[0m             │ │ \u001b[32mCanada\u001b[0m          │ │ \u001b[32mIreland\u001b[0m        │\n",
       "╰─────────────────╯ ╰──────────────────╯ ╰─────────────────╯ ╰────────────────╯\n",
       "╭─────────────────╮ ╭──────────────────╮ ╭─────────────────╮ ╭────────────────╮\n",
       "│ \u001b[1mAlfonsoCarrasco\u001b[0m │ │ \u001b[1mمحمدمهدیعلیزاده\u001b[0m  │ │ \u001b[1mBrianBaker\u001b[0m      │ │ \u001b[1mJohnLane\u001b[0m       │\n",
       "│ \u001b[32mSpain\u001b[0m           │ │ \u001b[32mIran\u001b[0m             │ │ \u001b[32mUnited States\u001b[0m   │ │ \u001b[32mUnited Kingdom\u001b[0m │\n",
       "╰─────────────────╯ ╰──────────────────╯ ╰─────────────────╯ ╰────────────────╯\n",
       "╭─────────────────╮ ╭──────────────────╮ ╭─────────────────╮ ╭────────────────╮\n",
       "│ \u001b[1mSanniKivela\u001b[0m     │ │ \u001b[1mHannaSutton\u001b[0m      │ │ \u001b[1mEmiliaMontero\u001b[0m   │ │ \u001b[1mFilippoStrunz\u001b[0m  │\n",
       "│ \u001b[32mFinland\u001b[0m         │ │ \u001b[32mIreland\u001b[0m          │ │ \u001b[32mSpain\u001b[0m           │ │ \u001b[32mGermany\u001b[0m        │\n",
       "╰─────────────────╯ ╰──────────────────╯ ╰─────────────────╯ ╰────────────────╯\n",
       "╭─────────────────╮ ╭──────────────────╮ ╭─────────────────╮ ╭────────────────╮\n",
       "│ \u001b[1mPatriciaPerez\u001b[0m   │ │ \u001b[1mZakariyaBerstad\u001b[0m  │ │ \u001b[1mEemeliNiska\u001b[0m     │ │ \u001b[1mIirisOja\u001b[0m       │\n",
       "│ \u001b[32mSpain\u001b[0m           │ │ \u001b[32mNorway\u001b[0m           │ │ \u001b[32mFinland\u001b[0m         │ │ \u001b[32mFinland\u001b[0m        │\n",
       "╰─────────────────╯ ╰──────────────────╯ ╰─────────────────╯ ╰────────────────╯\n",
       "╭─────────────────╮ ╭──────────────────╮ ╭─────────────────╮ ╭────────────────╮\n",
       "│ \u001b[1mQuentinRenaud\u001b[0m   │ │ \u001b[1mFlennWard\u001b[0m        │ │ \u001b[1mپرنیاکوتی\u001b[0m       │ │ \u001b[1mHildaTorres\u001b[0m    │\n",
       "│ \u001b[32mFrance\u001b[0m          │ │ \u001b[32mAustralia\u001b[0m        │ │ \u001b[32mIran\u001b[0m            │ │ \u001b[32mAustralia\u001b[0m      │\n",
       "╰─────────────────╯ ╰──────────────────╯ ╰─────────────────╯ ╰────────────────╯\n",
       "╭─────────────────╮ ╭──────────────────╮                                       \n",
       "│ \u001b[1mFigoPostema\u001b[0m     │ │ \u001b[1mElliotMoulin\u001b[0m     │                                       \n",
       "│ \u001b[32mNetherlands\u001b[0m     │ │ \u001b[32mFrance\u001b[0m           │                                       \n",
       "╰─────────────────╯ ╰──────────────────╯                                       \n"
      ]
     },
     "metadata": {},
     "output_type": "display_data"
    }
   ],
   "source": [
    "import json\n",
    "from urllib.request import urlopen\n",
    "\n",
    "from rich.console import Console\n",
    "from rich.columns import Columns\n",
    "from rich.panel import Panel\n",
    "\n",
    "def get_content(user):\n",
    "    \"\"\"Extract text from user dict.\"\"\"\n",
    "    country = user[\"location\"][\"country\"]\n",
    "    name = f\"{user['name']['first']}{user['name']['last']}\"\n",
    "    return f\"[b]{name}[/b]\\n[green]{country}\"\n",
    "\n",
    "console = Console()\n",
    "\n",
    "users = json.loads((urlopen(\"https://randomuser.me/api/?results=30\")).read())[\"results\"]\n",
    "user_renderables = [Panel(get_content(user), expand = True) for user in users]\n",
    "console.print(Columns(user_renderables))"
   ]
  },
  {
   "cell_type": "code",
   "execution_count": 19,
   "id": "1cec8bf7",
   "metadata": {},
   "outputs": [
    {
     "data": {
      "text/html": [
       "<pre style=\"white-space:pre;overflow-x:auto;line-height:normal;font-family:Menlo,'DejaVu Sans Mono',consolas,'Courier New',monospace\">\n",
       "<span style=\"color: #c0c0c0; text-decoration-color: #c0c0c0; background-color: #000080\"> WELCOME TO WORDLE </span>\n",
       "\n",
       "</pre>\n"
      ],
      "text/plain": [
       "\n",
       "\u001b[37;44m WELCOME TO WORDLE \u001b[0m\n",
       "\n"
      ]
     },
     "metadata": {},
     "output_type": "display_data"
    },
    {
     "data": {
      "text/html": [
       "<pre style=\"white-space:pre;overflow-x:auto;line-height:normal;font-family:Menlo,'DejaVu Sans Mono',consolas,'Courier New',monospace\">You may start guessing\n",
       "\n",
       "</pre>\n"
      ],
      "text/plain": [
       "You may start guessing\n",
       "\n"
      ]
     },
     "metadata": {},
     "output_type": "display_data"
    },
    {
     "data": {
      "text/html": [
       "<pre style=\"white-space:pre;overflow-x:auto;line-height:normal;font-family:Menlo,'DejaVu Sans Mono',consolas,'Courier New',monospace\">\n",
       "Enter your guess: </pre>\n"
      ],
      "text/plain": [
       "\n",
       "Enter your guess: "
      ]
     },
     "metadata": {},
     "output_type": "display_data"
    },
    {
     "name": "stdout",
     "output_type": "stream",
     "text": [
      "5\n"
     ]
    },
    {
     "data": {
      "text/html": [
       "<pre style=\"white-space:pre;overflow-x:auto;line-height:normal;font-family:Menlo,'DejaVu Sans Mono',consolas,'Courier New',monospace\"><span style=\"color: #800000; text-decoration-color: #800000\">Please enter a </span><span style=\"color: #800000; text-decoration-color: #800000; font-weight: bold\">5</span><span style=\"color: #800000; text-decoration-color: #800000\">-letter word!!</span>\n",
       "\n",
       "</pre>\n"
      ],
      "text/plain": [
       "\u001b[31mPlease enter a \u001b[0m\u001b[1;31m5\u001b[0m\u001b[31m-letter word!!\u001b[0m\n",
       "\n"
      ]
     },
     "metadata": {},
     "output_type": "display_data"
    },
    {
     "data": {
      "text/html": [
       "<pre style=\"white-space:pre;overflow-x:auto;line-height:normal;font-family:Menlo,'DejaVu Sans Mono',consolas,'Courier New',monospace\">\n",
       "Enter your guess: </pre>\n"
      ],
      "text/plain": [
       "\n",
       "Enter your guess: "
      ]
     },
     "metadata": {},
     "output_type": "display_data"
    },
    {
     "name": "stdout",
     "output_type": "stream",
     "text": [
      "flint\n"
     ]
    },
    {
     "data": {
      "text/html": [
       "<pre style=\"white-space:pre;overflow-x:auto;line-height:normal;font-family:Menlo,'DejaVu Sans Mono',consolas,'Courier New',monospace\"><span style=\"color: #000000; text-decoration-color: #000000; background-color: #c0c0c0\">F</span><span style=\"color: #000000; text-decoration-color: #000000; background-color: #008000\">L</span><span style=\"color: #000000; text-decoration-color: #000000; background-color: #808000\">IN</span><span style=\"color: #000000; text-decoration-color: #000000; background-color: #c0c0c0\">T</span>\n",
       "</pre>\n"
      ],
      "text/plain": [
       "\u001b[30;47mF\u001b[0m\u001b[30;42mL\u001b[0m\u001b[30;43mI\u001b[0m\u001b[30;43mN\u001b[0m\u001b[30;47mT\u001b[0m\n"
      ]
     },
     "metadata": {},
     "output_type": "display_data"
    },
    {
     "data": {
      "text/html": [
       "<pre style=\"white-space:pre;overflow-x:auto;line-height:normal;font-family:Menlo,'DejaVu Sans Mono',consolas,'Courier New',monospace\">\n",
       "Enter your guess: </pre>\n"
      ],
      "text/plain": [
       "\n",
       "Enter your guess: "
      ]
     },
     "metadata": {},
     "output_type": "display_data"
    },
    {
     "name": "stdout",
     "output_type": "stream",
     "text": [
      "aloud\n"
     ]
    },
    {
     "data": {
      "text/html": [
       "<pre style=\"white-space:pre;overflow-x:auto;line-height:normal;font-family:Menlo,'DejaVu Sans Mono',consolas,'Courier New',monospace\"><span style=\"color: #000000; text-decoration-color: #000000; background-color: #c0c0c0\">F</span><span style=\"color: #000000; text-decoration-color: #000000; background-color: #008000\">L</span><span style=\"color: #000000; text-decoration-color: #000000; background-color: #808000\">IN</span><span style=\"color: #000000; text-decoration-color: #000000; background-color: #c0c0c0\">T</span>\n",
       "<span style=\"color: #000000; text-decoration-color: #000000; background-color: #808000\">A</span><span style=\"color: #000000; text-decoration-color: #000000; background-color: #008000\">L</span><span style=\"color: #000000; text-decoration-color: #000000; background-color: #c0c0c0\">OUD</span>\n",
       "</pre>\n"
      ],
      "text/plain": [
       "\u001b[30;47mF\u001b[0m\u001b[30;42mL\u001b[0m\u001b[30;43mI\u001b[0m\u001b[30;43mN\u001b[0m\u001b[30;47mT\u001b[0m\n",
       "\u001b[30;43mA\u001b[0m\u001b[30;42mL\u001b[0m\u001b[30;47mO\u001b[0m\u001b[30;47mU\u001b[0m\u001b[30;47mD\u001b[0m\n"
      ]
     },
     "metadata": {},
     "output_type": "display_data"
    },
    {
     "data": {
      "text/html": [
       "<pre style=\"white-space:pre;overflow-x:auto;line-height:normal;font-family:Menlo,'DejaVu Sans Mono',consolas,'Courier New',monospace\">\n",
       "Enter your guess: </pre>\n"
      ],
      "text/plain": [
       "\n",
       "Enter your guess: "
      ]
     },
     "metadata": {},
     "output_type": "display_data"
    },
    {
     "name": "stdout",
     "output_type": "stream",
     "text": [
      "nails\n"
     ]
    },
    {
     "data": {
      "text/html": [
       "<pre style=\"white-space:pre;overflow-x:auto;line-height:normal;font-family:Menlo,'DejaVu Sans Mono',consolas,'Courier New',monospace\"><span style=\"color: #000000; text-decoration-color: #000000; background-color: #c0c0c0\">F</span><span style=\"color: #000000; text-decoration-color: #000000; background-color: #008000\">L</span><span style=\"color: #000000; text-decoration-color: #000000; background-color: #808000\">IN</span><span style=\"color: #000000; text-decoration-color: #000000; background-color: #c0c0c0\">T</span>\n",
       "<span style=\"color: #000000; text-decoration-color: #000000; background-color: #808000\">A</span><span style=\"color: #000000; text-decoration-color: #000000; background-color: #008000\">L</span><span style=\"color: #000000; text-decoration-color: #000000; background-color: #c0c0c0\">OUD</span>\n",
       "<span style=\"color: #000000; text-decoration-color: #000000; background-color: #808000\">NAIL</span><span style=\"color: #000000; text-decoration-color: #000000; background-color: #c0c0c0\">S</span>\n",
       "</pre>\n"
      ],
      "text/plain": [
       "\u001b[30;47mF\u001b[0m\u001b[30;42mL\u001b[0m\u001b[30;43mI\u001b[0m\u001b[30;43mN\u001b[0m\u001b[30;47mT\u001b[0m\n",
       "\u001b[30;43mA\u001b[0m\u001b[30;42mL\u001b[0m\u001b[30;47mO\u001b[0m\u001b[30;47mU\u001b[0m\u001b[30;47mD\u001b[0m\n",
       "\u001b[30;43mN\u001b[0m\u001b[30;43mA\u001b[0m\u001b[30;43mI\u001b[0m\u001b[30;43mL\u001b[0m\u001b[30;47mS\u001b[0m\n"
      ]
     },
     "metadata": {},
     "output_type": "display_data"
    },
    {
     "data": {
      "text/html": [
       "<pre style=\"white-space:pre;overflow-x:auto;line-height:normal;font-family:Menlo,'DejaVu Sans Mono',consolas,'Courier New',monospace\">\n",
       "Enter your guess: </pre>\n"
      ],
      "text/plain": [
       "\n",
       "Enter your guess: "
      ]
     },
     "metadata": {},
     "output_type": "display_data"
    },
    {
     "name": "stdout",
     "output_type": "stream",
     "text": [
      "slain\n"
     ]
    },
    {
     "data": {
      "text/html": [
       "<pre style=\"white-space:pre;overflow-x:auto;line-height:normal;font-family:Menlo,'DejaVu Sans Mono',consolas,'Courier New',monospace\"><span style=\"color: #000000; text-decoration-color: #000000; background-color: #c0c0c0\">F</span><span style=\"color: #000000; text-decoration-color: #000000; background-color: #008000\">L</span><span style=\"color: #000000; text-decoration-color: #000000; background-color: #808000\">IN</span><span style=\"color: #000000; text-decoration-color: #000000; background-color: #c0c0c0\">T</span>\n",
       "<span style=\"color: #000000; text-decoration-color: #000000; background-color: #808000\">A</span><span style=\"color: #000000; text-decoration-color: #000000; background-color: #008000\">L</span><span style=\"color: #000000; text-decoration-color: #000000; background-color: #c0c0c0\">OUD</span>\n",
       "<span style=\"color: #000000; text-decoration-color: #000000; background-color: #808000\">NAIL</span><span style=\"color: #000000; text-decoration-color: #000000; background-color: #c0c0c0\">S</span>\n",
       "<span style=\"color: #000000; text-decoration-color: #000000; background-color: #c0c0c0\">S</span><span style=\"color: #000000; text-decoration-color: #000000; background-color: #008000\">LAIN</span>\n",
       "</pre>\n"
      ],
      "text/plain": [
       "\u001b[30;47mF\u001b[0m\u001b[30;42mL\u001b[0m\u001b[30;43mI\u001b[0m\u001b[30;43mN\u001b[0m\u001b[30;47mT\u001b[0m\n",
       "\u001b[30;43mA\u001b[0m\u001b[30;42mL\u001b[0m\u001b[30;47mO\u001b[0m\u001b[30;47mU\u001b[0m\u001b[30;47mD\u001b[0m\n",
       "\u001b[30;43mN\u001b[0m\u001b[30;43mA\u001b[0m\u001b[30;43mI\u001b[0m\u001b[30;43mL\u001b[0m\u001b[30;47mS\u001b[0m\n",
       "\u001b[30;47mS\u001b[0m\u001b[30;42mL\u001b[0m\u001b[30;42mA\u001b[0m\u001b[30;42mI\u001b[0m\u001b[30;42mN\u001b[0m\n"
      ]
     },
     "metadata": {},
     "output_type": "display_data"
    },
    {
     "data": {
      "text/html": [
       "<pre style=\"white-space:pre;overflow-x:auto;line-height:normal;font-family:Menlo,'DejaVu Sans Mono',consolas,'Courier New',monospace\">\n",
       "Enter your guess: </pre>\n"
      ],
      "text/plain": [
       "\n",
       "Enter your guess: "
      ]
     },
     "metadata": {},
     "output_type": "display_data"
    },
    {
     "name": "stdout",
     "output_type": "stream",
     "text": [
      "plain\n"
     ]
    },
    {
     "data": {
      "text/html": [
       "<pre style=\"white-space:pre;overflow-x:auto;line-height:normal;font-family:Menlo,'DejaVu Sans Mono',consolas,'Courier New',monospace\"><span style=\"color: #000000; text-decoration-color: #000000; background-color: #c0c0c0\">F</span><span style=\"color: #000000; text-decoration-color: #000000; background-color: #008000\">L</span><span style=\"color: #000000; text-decoration-color: #000000; background-color: #808000\">IN</span><span style=\"color: #000000; text-decoration-color: #000000; background-color: #c0c0c0\">T</span>\n",
       "<span style=\"color: #000000; text-decoration-color: #000000; background-color: #808000\">A</span><span style=\"color: #000000; text-decoration-color: #000000; background-color: #008000\">L</span><span style=\"color: #000000; text-decoration-color: #000000; background-color: #c0c0c0\">OUD</span>\n",
       "<span style=\"color: #000000; text-decoration-color: #000000; background-color: #808000\">NAIL</span><span style=\"color: #000000; text-decoration-color: #000000; background-color: #c0c0c0\">S</span>\n",
       "<span style=\"color: #000000; text-decoration-color: #000000; background-color: #c0c0c0\">S</span><span style=\"color: #000000; text-decoration-color: #000000; background-color: #008000\">LAIN</span>\n",
       "<span style=\"color: #000000; text-decoration-color: #000000; background-color: #008000\">PLAIN</span>\n",
       "</pre>\n"
      ],
      "text/plain": [
       "\u001b[30;47mF\u001b[0m\u001b[30;42mL\u001b[0m\u001b[30;43mI\u001b[0m\u001b[30;43mN\u001b[0m\u001b[30;47mT\u001b[0m\n",
       "\u001b[30;43mA\u001b[0m\u001b[30;42mL\u001b[0m\u001b[30;47mO\u001b[0m\u001b[30;47mU\u001b[0m\u001b[30;47mD\u001b[0m\n",
       "\u001b[30;43mN\u001b[0m\u001b[30;43mA\u001b[0m\u001b[30;43mI\u001b[0m\u001b[30;43mL\u001b[0m\u001b[30;47mS\u001b[0m\n",
       "\u001b[30;47mS\u001b[0m\u001b[30;42mL\u001b[0m\u001b[30;42mA\u001b[0m\u001b[30;42mI\u001b[0m\u001b[30;42mN\u001b[0m\n",
       "\u001b[30;42mP\u001b[0m\u001b[30;42mL\u001b[0m\u001b[30;42mA\u001b[0m\u001b[30;42mI\u001b[0m\u001b[30;42mN\u001b[0m\n"
      ]
     },
     "metadata": {},
     "output_type": "display_data"
    },
    {
     "data": {
      "text/html": [
       "<pre style=\"white-space:pre;overflow-x:auto;line-height:normal;font-family:Menlo,'DejaVu Sans Mono',consolas,'Courier New',monospace\">\n",
       "<span style=\"color: #008000; text-decoration-color: #008000\">WORDLE </span><span style=\"color: #008000; text-decoration-color: #008000; font-weight: bold\">5</span><span style=\"color: #008000; text-decoration-color: #008000\">/</span><span style=\"color: #008000; text-decoration-color: #008000; font-weight: bold\">6</span>\n",
       "\n",
       "</pre>\n"
      ],
      "text/plain": [
       "\n",
       "\u001b[32mWORDLE \u001b[0m\u001b[1;32m5\u001b[0m\u001b[32m/\u001b[0m\u001b[1;32m6\u001b[0m\n",
       "\n"
      ]
     },
     "metadata": {},
     "output_type": "display_data"
    },
    {
     "data": {
      "text/html": [
       "<pre style=\"white-space:pre;overflow-x:auto;line-height:normal;font-family:Menlo,'DejaVu Sans Mono',consolas,'Courier New',monospace\">⬛🟩🟨🟨⬛\n",
       "🟨🟩⬛⬛⬛\n",
       "🟨🟨🟨🟨⬛\n",
       "⬛🟩🟩🟩🟩\n",
       "🟩🟩🟩🟩🟩\n",
       "</pre>\n"
      ],
      "text/plain": [
       "⬛🟩🟨🟨⬛\n",
       "🟨🟩⬛⬛⬛\n",
       "🟨🟨🟨🟨⬛\n",
       "⬛🟩🟩🟩🟩\n",
       "🟩🟩🟩🟩🟩\n"
      ]
     },
     "metadata": {},
     "output_type": "display_data"
    }
   ],
   "source": [
    "from rich.prompt import Prompt\n",
    "from rich.console import Console\n",
    "from random import choice\n",
    "# from word import word_list\n",
    "word_list = ['ABOUT', 'ABOVE','ABUSE','ACTOR', 'ACUTE','ADMIT', 'ADOPT','ADULT''AFTER', 'AGAIN', 'AGENT', 'AGREE', 'AHEAD', 'ALARM', 'ALBUM', 'ALERT', 'ALIKE', 'ALIVE', 'ALLOW', 'ALONE', 'ALONG', 'ALTER', 'AMONG', 'ANGER', 'ANGLE', 'ANGRY', 'APART', 'APPLE', 'APPLY', 'ARENA', 'ARGUE', 'ARISE', 'ARRAY', 'ASIDE', 'ASSET', 'AUDIO', 'AUDIT', 'AVOID', 'AWARD', 'AWARE', 'BADLY', 'BAKER', 'BASES', 'BASIC', 'BASIS', 'BEACH', 'BEGAN', 'BEGIN', 'BEGUN', 'BEING', 'BELOW', 'BENCH', 'BILLY', 'BIRTH', 'BLACK', 'BLAME', 'BLIND', 'BLOCK', 'BLOOD', 'BOARD', 'BOOST', 'BOOTH', 'BOUND', 'BRAIN', 'BRAND', 'BREAD', 'BREAK', 'BREED', 'BRIEF', 'BRING', 'BROAD', 'BROKE', 'BROWN', 'BUILD', 'BUILT', 'BUYER', 'CABLE', 'CALIF', 'CARRY', 'CATCH', 'CAUSE', 'CHAIN', 'CHAIR', 'CHART', 'CHASE', 'CHEAP', 'CHECK', 'CHEST', 'CHIEF', 'CHILD', 'CHINA', 'CHOSE', 'CIVIL', 'CLAIM', 'CLASS', 'CLEAN', 'CLEAR', 'CLICK', 'CLOCK', 'CLOSE', 'COACH', 'COAST', 'COULD', 'COUNT', 'COURT', 'COVER', 'CRAFT', 'CRASH', 'CREAM', 'CRIME', 'CROSS', 'CROWD', 'CROWN', 'CURVE', 'CYCLE', 'DAILY', 'DANCE', 'DATED', 'DEALT', 'DEATH', 'DEBUT', 'DELAY', 'DEPTH', 'DOING', 'DOUBT', 'DOZEN', 'DRAFT', 'DRAMA', 'DRAWN', 'DREAM', 'DRESS', 'DRILL', 'DRINK', 'DRIVE', 'DROVE', 'DYING', 'EAGER', 'EARLY', 'EARTH', 'EIGHT', 'ELITE', 'EMPTY', 'ENEMY', 'ENJOY', 'ENTER', 'ENTRY', 'EQUAL', 'ERROR', 'EVENT', 'EVERY', 'EXACT', 'EXIST', 'EXTRA', 'FAITH', 'FALSE', 'FAULT', 'FIBER', 'FIELD', 'FIFTH', 'FIFTY', 'FIGHT', 'FINAL', 'FIRST', 'FIXED', 'FLASH', 'FLEET', 'FLOOR', 'FLUID', 'FOCUS', 'FORCE', 'FORTH', 'FORTY', 'FORUM', 'FOUND', 'FRAME', 'FRANK', 'FRAUD', 'FRESH', 'FRONT', 'FRUIT', 'FULLY', 'FUNNY', 'GIANT', 'GIVEN', 'GLASS', 'GLOBE', 'GOING', 'GRACE', 'GRADE', 'GRAND', 'GRANT', 'GRASS', 'GREAT', 'GREEN', 'GROSS', 'GROUP', 'GROWN', 'GUARD', 'GUESS', 'GUEST', 'GUIDE', 'HAPPY', 'HARRY', 'HEART', 'HEAVY', 'HENCE', 'HENRY', 'HORSE', 'HOTEL', 'HOUSE', 'HUMAN', 'IDEAL', 'IMAGE', 'INDEX', 'INNER', 'INPUT', 'ISSUE', 'JAPAN', 'JIMMY', 'JOINT', 'JONES', 'JUDGE', 'KNOWN', 'LABEL', 'LARGE', 'LASER', 'LATER', 'LAUGH', 'LAYER', 'LEARN', 'LEASE', 'LEAST', 'LEAVE', 'LEGAL', 'LEVEL', 'LEWIS', 'LIGHT', 'LIMIT', 'LINKS', 'LIVES', 'LOCAL', 'LOGIC', 'LOOSE', 'LOWER', 'LUCKY', 'LUNCH', 'LYING', 'MAGIC', 'MAJOR', 'MAKER', 'MARCH', 'MARIA', 'MATCH', 'MAYBE', 'MAYOR', 'MEANT', 'MEDIA', 'METAL', 'MIGHT', 'MINOR', 'MINUS', 'MIXED', 'MODEL', 'MONEY', 'MONTH', 'MORAL', 'MOTOR', 'MOUNT', 'MOUSE', 'MOUTH', 'MOVIE', 'MUSIC', 'NEEDS', 'NEVER', 'NEWLY', 'NIGHT', 'NOISE', 'NORTH', 'NOTED', 'NOVEL', 'NURSE', 'OCCUR', 'OCEAN', 'OFFER', 'OFTEN', 'ORDER', 'OTHER', 'OUGHT', 'PAINT', 'PANEL', 'PAPER', 'PARTY', 'PEACE', 'PETER', 'PHASE', 'PHONE', 'PHOTO', 'PIECE', 'PILOT', 'PITCH', 'PLACE', 'PLAIN', 'PLANE', 'PLANT', 'PLATE', 'POINT', 'POUND', 'POWER', 'PRESS', 'PRICE', 'PRIDE', 'PRIME', 'PRINT', 'PRIOR', 'PRIZE', 'PROOF', 'PROUD', 'PROVE', 'QUEEN', 'QUICK', 'QUIET', 'QUITE', 'RADIO', 'RAISE', 'RANGE', 'RAPID', 'RATIO', 'REACH', 'READY', 'REFER', 'RIGHT', 'RIVAL', 'RIVER', 'ROBIN', 'ROGER', 'ROMAN', 'ROUGH', 'ROUND', 'ROUTE', 'ROYAL', 'RURAL', 'SCALE', 'SCENE', 'SCOPE', 'SCORE', 'SENSE', 'SERVE', 'SEVEN', 'SHALL', 'SHAPE', 'SHARE', 'SHARP', 'SHEET', 'SHELF', 'SHELL', 'SHIFT', 'SHIRT', 'SHOCK', 'SHOOT', 'SHORT', 'SHOWN', 'SIGHT', 'SINCE', 'SIXTH', 'SIXTY', 'SIZED', 'SKILL', 'SLEEP', 'SLIDE', 'SMALL', 'SMART', 'SMILE', 'SMITH', 'SMOKE', 'SOLID', 'SOLVE', 'SORRY', 'SOUND', 'SOUTH', 'SPACE', 'SPARE', 'SPEAK', 'SPEED', 'SPEND', 'SPENT', 'SPLIT', 'SPOKE', 'SPORT', 'STAFF', 'STAGE', 'STAKE', 'STAND', 'START', 'STATE', 'STEAM', 'STEEL', 'STICK', 'STILL', 'STOCK', 'STONE', 'STOOD', 'STORE', 'STORM', 'STORY', 'STRIP', 'STUCK', 'STUDY', 'STUFF', 'STYLE', 'SUGAR', 'SUITE', 'SUPER', 'SWEET', 'TABLE', 'TAKEN', 'TASTE', 'TAXES', 'TEACH', 'TEETH', 'TERRY', 'TEXAS', 'THANK', 'THEFT', 'THEIR', 'THEME', 'THERE', 'THESE', 'THICK', 'THING', 'THINK', 'THIRD', 'THOSE', 'THREE', 'THREW', 'THROW', 'TIGHT', 'TIMES', 'TIRED', 'TITLE', 'TODAY', 'TOPIC', 'TOTAL', 'TOUCH', 'TOUGH', 'TOWER', 'TRACK', 'TRADE', 'TRAIN', 'TREAT', 'TREND', 'TRIAL', 'TRIED', 'TRIES', 'TRUCK', 'TRULY', 'TRUST', 'TRUTH', 'TWICE', 'UNDER', 'UNDUE', 'UNION', 'UNITY', 'UNTIL', 'UPPER', 'UPSET', 'URBAN', 'USAGE', 'USUAL', 'VALID', 'VALUE', 'VIDEO', 'VIRUS', 'VISIT', 'VITAL', 'VOICE', 'WASTE', 'WATCH', 'WATER', 'WHEEL', 'WHERE', 'WHICH', 'WHILE', 'WHITE', 'WHOLE', 'WHOSE', 'WOMAN', 'WOMEN', 'WORLD', 'WORRY', 'WORSE', 'WORST', 'WORTH', 'WOULD', 'WOUND', 'WRITE', 'WRONG', 'WROTE', 'YIELD', 'YOUNG', 'YOUTH']\n",
    "\n",
    "SQUARES = {\n",
    "    'correct_place': '🟩',\n",
    "    'correct_letter': '🟨',\n",
    "    'incorrect_letter': '⬛'\n",
    "}\n",
    "\n",
    "WELCOME_MESSAGE = f'\\n[white on blue] WELCOME TO WORDLE [/]\\n'\n",
    "PLAYER_INSTRUCTIONS = \"You may start guessing\\n\"\n",
    "GUESS_STATEMENT = \"\\nEnter your guess\"\n",
    "ALLOWED_GUESSES = 6\n",
    "\n",
    "def correct_place(letter):\n",
    "    return f'[black on green]{letter}[/]'\n",
    "\n",
    "\n",
    "def correct_letter(letter):\n",
    "    return f'[black on yellow]{letter}[/]'\n",
    "\n",
    "\n",
    "def incorrect_letter(letter):\n",
    "    return f'[black on white]{letter}[/]'\n",
    "\n",
    "\n",
    "def check_guess(guess, answer):\n",
    "    guessed = []\n",
    "    wordle_pattern = []\n",
    "    for i, letter in enumerate(guess):\n",
    "        if answer[i] == guess[i]:\n",
    "            guessed += correct_place(letter)\n",
    "            wordle_pattern.append(SQUARES['correct_place'])\n",
    "        elif letter in answer:\n",
    "            guessed += correct_letter(letter)\n",
    "            wordle_pattern.append(SQUARES['correct_letter'])\n",
    "        else:\n",
    "            guessed += incorrect_letter(letter)\n",
    "            wordle_pattern.append(SQUARES['incorrect_letter'])\n",
    "    return ''.join(guessed), ''.join(wordle_pattern)\n",
    "\n",
    "\n",
    "def game(console, chosen_word):\n",
    "    end_of_game = False\n",
    "    already_guessed = []\n",
    "    full_wordle_pattern = []\n",
    "    all_words_guessed = []\n",
    "\n",
    "    while not end_of_game:\n",
    "        guess = Prompt.ask(GUESS_STATEMENT).upper()\n",
    "        while len(guess) != 5 or guess in already_guessed:\n",
    "            if guess in already_guessed:\n",
    "                console.print(\"[red]You've already guessed this word!!\\n[/]\")\n",
    "            else:\n",
    "                console.print('[red]Please enter a 5-letter word!!\\n[/]')\n",
    "            guess = Prompt.ask(GUESS_STATEMENT).upper()\n",
    "        already_guessed.append(guess)\n",
    "        guessed, pattern = check_guess(guess, chosen_word)\n",
    "        all_words_guessed.append(guessed)\n",
    "        full_wordle_pattern.append(pattern)\n",
    "\n",
    "        console.print(*all_words_guessed, sep=\"\\n\")\n",
    "        if guess == chosen_word or len(already_guessed) == ALLOWED_GUESSES:\n",
    "            end_of_game = True\n",
    "    if len(already_guessed) == ALLOWED_GUESSES and guess != chosen_word:\n",
    "        console.print(f\"\\n[red]WORDLE X/{ALLOWED_GUESSES}[/]\")\n",
    "        console.print(f'\\n[green]Correct Word: {chosen_word}[/]')\n",
    "    else:\n",
    "        console.print(f\"\\n[green]WORDLE {len(already_guessed)}/{ALLOWED_GUESSES}[/]\\n\")\n",
    "    console.print(*full_wordle_pattern, sep=\"\\n\")\n",
    "\n",
    "\n",
    "if __name__ == '__main__':\n",
    "    console = Console()\n",
    "    chosen_word = choice(word_list)\n",
    "    console.print(WELCOME_MESSAGE)\n",
    "    console.print(PLAYER_INSTRUCTIONS)\n",
    "    game(console, chosen_word)"
   ]
  },
  {
   "cell_type": "code",
   "execution_count": null,
   "id": "2e06a9f1",
   "metadata": {},
   "outputs": [],
   "source": []
  },
  {
   "cell_type": "code",
   "execution_count": null,
   "id": "38cc0357",
   "metadata": {},
   "outputs": [],
   "source": []
  }
 ],
 "metadata": {
  "kernelspec": {
   "display_name": "Python 3 (ipykernel)",
   "language": "python",
   "name": "python3"
  },
  "language_info": {
   "codemirror_mode": {
    "name": "ipython",
    "version": 3
   },
   "file_extension": ".py",
   "mimetype": "text/x-python",
   "name": "python",
   "nbconvert_exporter": "python",
   "pygments_lexer": "ipython3",
   "version": "3.9.7"
  }
 },
 "nbformat": 4,
 "nbformat_minor": 5
}
