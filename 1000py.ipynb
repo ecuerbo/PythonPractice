{
 "cells": [
  {
   "cell_type": "code",
   "execution_count": 2,
   "id": "595b3d99",
   "metadata": {},
   "outputs": [
    {
     "data": {
      "text/html": [
       "<pre style=\"white-space:pre;overflow-x:auto;line-height:normal;font-family:Menlo,'DejaVu Sans Mono',consolas,'Courier New',monospace\">Family Tree\n",
       "├── Mom\n",
       "│   └── <span style=\"color: #800000; text-decoration-color: #800000\">Stepdad</span>\n",
       "├── Dad\n",
       "│   └── <span style=\"color: #000080; text-decoration-color: #000080\">Dad's BF</span>\n",
       "├── Bro\n",
       "│   └── Wife\n",
       "└── Sis\n",
       "    └── <span style=\"color: #008000; text-decoration-color: #008000\">Husband</span>\n",
       "</pre>\n"
      ],
      "text/plain": [
       "Family Tree\n",
       "├── Mom\n",
       "│   └── \u001b[31mStepdad\u001b[0m\n",
       "├── Dad\n",
       "│   └── \u001b[34mDad's BF\u001b[0m\n",
       "├── Bro\n",
       "│   └── Wife\n",
       "└── Sis\n",
       "    └── \u001b[32mHusband\u001b[0m\n"
      ]
     },
     "metadata": {},
     "output_type": "display_data"
    }
   ],
   "source": [
    "from rich.tree import Tree\n",
    "from rich import print as rprint\n",
    "\n",
    "tree = Tree(\"Family Tree\")\n",
    "tree.add(\"[pink]Mom\").add(\"[red]Stepdad\")\n",
    "tree.add(\"Dad\").add(\"[blue]Dad's BF\")\n",
    "tree.add(\"Bro\").add(\"[pink]Wife\")\n",
    "tree.add(\"Sis\").add(\"[green]Husband\")\n",
    "\n",
    "rprint(tree)"
   ]
  },
  {
   "cell_type": "code",
   "execution_count": 10,
   "id": "4f4b4cef",
   "metadata": {},
   "outputs": [
    {
     "data": {
      "text/html": [
       "<pre style=\"white-space:pre;overflow-x:auto;line-height:normal;font-family:Menlo,'DejaVu Sans Mono',consolas,'Courier New',monospace\">Cuerbo Family\n",
       "└── Lina and Felix Cuerbo\n",
       "</pre>\n"
      ],
      "text/plain": [
       "Cuerbo Family\n",
       "└── Lina and Felix Cuerbo\n"
      ]
     },
     "metadata": {},
     "output_type": "display_data"
    }
   ],
   "source": [
    "tree1 = Tree(\"Cuerbo Family\")\n",
    "tree1.add(\"Lina and Felix Cuerbo\")\n",
    "\n",
    "rprint(tree1)"
   ]
  },
  {
   "cell_type": "code",
   "execution_count": 11,
   "id": "9e0294e6",
   "metadata": {},
   "outputs": [
    {
     "data": {
      "text/html": [
       "<pre style=\"white-space:pre;overflow-x:auto;line-height:normal;font-family:Menlo,'DejaVu Sans Mono',consolas,'Courier New',monospace\">Cuerbo Family\n",
       "├── Lina and Felix Cuerbo\n",
       "└── Lina\n",
       "</pre>\n"
      ],
      "text/plain": [
       "Cuerbo Family\n",
       "├── Lina and Felix Cuerbo\n",
       "└── Lina\n"
      ]
     },
     "metadata": {},
     "output_type": "display_data"
    }
   ],
   "source": [
    "tree1.add(\"Lina\")\n",
    "\n",
    "rprint(tree1)"
   ]
  },
  {
   "cell_type": "code",
   "execution_count": null,
   "id": "fae9a7eb",
   "metadata": {},
   "outputs": [],
   "source": [
    "from rich.progress import track\n",
    "from time import sleep\n",
    "\n",
    "def process_data():\n",
    "    sleep(0.6)\n",
    "    \n",
    "for _ in track(range(1000), description='[green]Processing data'):\n",
    "    process_data()"
   ]
  },
  {
   "cell_type": "code",
   "execution_count": 3,
   "id": "7124ce14",
   "metadata": {},
   "outputs": [
    {
     "data": {
      "application/vnd.jupyter.widget-view+json": {
       "model_id": "",
       "version_major": 2,
       "version_minor": 0
      },
      "text/plain": [
       "Output()"
      ]
     },
     "metadata": {},
     "output_type": "display_data"
    },
    {
     "data": {
      "text/html": [
       "<pre style=\"white-space:pre;overflow-x:auto;line-height:normal;font-family:Menlo,'DejaVu Sans Mono',consolas,'Courier New',monospace\"><span style=\"color: #7fbfbf; text-decoration-color: #7fbfbf\">[09:31:40] </span><span style=\"color: #008000; text-decoration-color: #008000\">Finish fetching data </span><span style=\"color: #008080; text-decoration-color: #008080; font-weight: bold\">1</span>                                            <a href=\"file:///var/folders/g6/qw3t2lbx7x91r1mfyp6k77k00000gn/T/ipykernel_5067/3147109713.py\" target=\"_blank\"><span style=\"color: #7f7f7f; text-decoration-color: #7f7f7f\">3147109713.py</span></a><span style=\"color: #7f7f7f; text-decoration-color: #7f7f7f\">:</span><a href=\"file:///var/folders/g6/qw3t2lbx7x91r1mfyp6k77k00000gn/T/ipykernel_5067/3147109713.py#11\" target=\"_blank\"><span style=\"color: #7f7f7f; text-decoration-color: #7f7f7f\">11</span></a>\n",
       "</pre>\n"
      ],
      "text/plain": [
       "\u001b[2;36m[09:31:40]\u001b[0m\u001b[2;36m \u001b[0m\u001b[32mFinish fetching data \u001b[0m\u001b[1;36m1\u001b[0m                                            \u001b]8;id=220141;file:///var/folders/g6/qw3t2lbx7x91r1mfyp6k77k00000gn/T/ipykernel_5067/3147109713.py\u001b\\\u001b[2m3147109713.py\u001b[0m\u001b]8;;\u001b\\\u001b[2m:\u001b[0m\u001b]8;id=764921;file:///var/folders/g6/qw3t2lbx7x91r1mfyp6k77k00000gn/T/ipykernel_5067/3147109713.py#11\u001b\\\u001b[2m11\u001b[0m\u001b]8;;\u001b\\\n"
      ]
     },
     "metadata": {},
     "output_type": "display_data"
    },
    {
     "data": {
      "text/html": [
       "<pre style=\"white-space:pre;overflow-x:auto;line-height:normal;font-family:Menlo,'DejaVu Sans Mono',consolas,'Courier New',monospace\"><span style=\"color: #7fbfbf; text-decoration-color: #7fbfbf\">[09:31:41] </span><span style=\"color: #008000; text-decoration-color: #008000\">Finish fetching data </span><span style=\"color: #008080; text-decoration-color: #008080; font-weight: bold\">2</span>                                            <a href=\"file:///var/folders/g6/qw3t2lbx7x91r1mfyp6k77k00000gn/T/ipykernel_5067/3147109713.py\" target=\"_blank\"><span style=\"color: #7f7f7f; text-decoration-color: #7f7f7f\">3147109713.py</span></a><span style=\"color: #7f7f7f; text-decoration-color: #7f7f7f\">:</span><a href=\"file:///var/folders/g6/qw3t2lbx7x91r1mfyp6k77k00000gn/T/ipykernel_5067/3147109713.py#11\" target=\"_blank\"><span style=\"color: #7f7f7f; text-decoration-color: #7f7f7f\">11</span></a>\n",
       "</pre>\n"
      ],
      "text/plain": [
       "\u001b[2;36m[09:31:41]\u001b[0m\u001b[2;36m \u001b[0m\u001b[32mFinish fetching data \u001b[0m\u001b[1;36m2\u001b[0m                                            \u001b]8;id=84268;file:///var/folders/g6/qw3t2lbx7x91r1mfyp6k77k00000gn/T/ipykernel_5067/3147109713.py\u001b\\\u001b[2m3147109713.py\u001b[0m\u001b]8;;\u001b\\\u001b[2m:\u001b[0m\u001b]8;id=459336;file:///var/folders/g6/qw3t2lbx7x91r1mfyp6k77k00000gn/T/ipykernel_5067/3147109713.py#11\u001b\\\u001b[2m11\u001b[0m\u001b]8;;\u001b\\\n"
      ]
     },
     "metadata": {},
     "output_type": "display_data"
    },
    {
     "data": {
      "text/html": [
       "<pre style=\"white-space:pre;overflow-x:auto;line-height:normal;font-family:Menlo,'DejaVu Sans Mono',consolas,'Courier New',monospace\"><span style=\"color: #7fbfbf; text-decoration-color: #7fbfbf\">[09:31:42] </span><span style=\"color: #008000; text-decoration-color: #008000\">Finish fetching data </span><span style=\"color: #008080; text-decoration-color: #008080; font-weight: bold\">3</span>                                            <a href=\"file:///var/folders/g6/qw3t2lbx7x91r1mfyp6k77k00000gn/T/ipykernel_5067/3147109713.py\" target=\"_blank\"><span style=\"color: #7f7f7f; text-decoration-color: #7f7f7f\">3147109713.py</span></a><span style=\"color: #7f7f7f; text-decoration-color: #7f7f7f\">:</span><a href=\"file:///var/folders/g6/qw3t2lbx7x91r1mfyp6k77k00000gn/T/ipykernel_5067/3147109713.py#11\" target=\"_blank\"><span style=\"color: #7f7f7f; text-decoration-color: #7f7f7f\">11</span></a>\n",
       "</pre>\n"
      ],
      "text/plain": [
       "\u001b[2;36m[09:31:42]\u001b[0m\u001b[2;36m \u001b[0m\u001b[32mFinish fetching data \u001b[0m\u001b[1;36m3\u001b[0m                                            \u001b]8;id=27220;file:///var/folders/g6/qw3t2lbx7x91r1mfyp6k77k00000gn/T/ipykernel_5067/3147109713.py\u001b\\\u001b[2m3147109713.py\u001b[0m\u001b]8;;\u001b\\\u001b[2m:\u001b[0m\u001b]8;id=912580;file:///var/folders/g6/qw3t2lbx7x91r1mfyp6k77k00000gn/T/ipykernel_5067/3147109713.py#11\u001b\\\u001b[2m11\u001b[0m\u001b]8;;\u001b\\\n"
      ]
     },
     "metadata": {},
     "output_type": "display_data"
    },
    {
     "data": {
      "text/html": [
       "<pre style=\"white-space:pre;overflow-x:auto;line-height:normal;font-family:Menlo,'DejaVu Sans Mono',consolas,'Courier New',monospace\"><span style=\"color: #7fbfbf; text-decoration-color: #7fbfbf\">[09:31:43] </span><span style=\"color: #008000; text-decoration-color: #008000\">Finish fetching data </span><span style=\"color: #008080; text-decoration-color: #008080; font-weight: bold\">4</span>                                            <a href=\"file:///var/folders/g6/qw3t2lbx7x91r1mfyp6k77k00000gn/T/ipykernel_5067/3147109713.py\" target=\"_blank\"><span style=\"color: #7f7f7f; text-decoration-color: #7f7f7f\">3147109713.py</span></a><span style=\"color: #7f7f7f; text-decoration-color: #7f7f7f\">:</span><a href=\"file:///var/folders/g6/qw3t2lbx7x91r1mfyp6k77k00000gn/T/ipykernel_5067/3147109713.py#11\" target=\"_blank\"><span style=\"color: #7f7f7f; text-decoration-color: #7f7f7f\">11</span></a>\n",
       "</pre>\n"
      ],
      "text/plain": [
       "\u001b[2;36m[09:31:43]\u001b[0m\u001b[2;36m \u001b[0m\u001b[32mFinish fetching data \u001b[0m\u001b[1;36m4\u001b[0m                                            \u001b]8;id=680468;file:///var/folders/g6/qw3t2lbx7x91r1mfyp6k77k00000gn/T/ipykernel_5067/3147109713.py\u001b\\\u001b[2m3147109713.py\u001b[0m\u001b]8;;\u001b\\\u001b[2m:\u001b[0m\u001b]8;id=548668;file:///var/folders/g6/qw3t2lbx7x91r1mfyp6k77k00000gn/T/ipykernel_5067/3147109713.py#11\u001b\\\u001b[2m11\u001b[0m\u001b]8;;\u001b\\\n"
      ]
     },
     "metadata": {},
     "output_type": "display_data"
    },
    {
     "data": {
      "text/html": [
       "<pre style=\"white-space:pre;overflow-x:auto;line-height:normal;font-family:Menlo,'DejaVu Sans Mono',consolas,'Courier New',monospace\"><span style=\"color: #7fbfbf; text-decoration-color: #7fbfbf\">[09:31:44] </span><span style=\"color: #008000; text-decoration-color: #008000\">Finish fetching data </span><span style=\"color: #008080; text-decoration-color: #008080; font-weight: bold\">5</span>                                            <a href=\"file:///var/folders/g6/qw3t2lbx7x91r1mfyp6k77k00000gn/T/ipykernel_5067/3147109713.py\" target=\"_blank\"><span style=\"color: #7f7f7f; text-decoration-color: #7f7f7f\">3147109713.py</span></a><span style=\"color: #7f7f7f; text-decoration-color: #7f7f7f\">:</span><a href=\"file:///var/folders/g6/qw3t2lbx7x91r1mfyp6k77k00000gn/T/ipykernel_5067/3147109713.py#11\" target=\"_blank\"><span style=\"color: #7f7f7f; text-decoration-color: #7f7f7f\">11</span></a>\n",
       "</pre>\n"
      ],
      "text/plain": [
       "\u001b[2;36m[09:31:44]\u001b[0m\u001b[2;36m \u001b[0m\u001b[32mFinish fetching data \u001b[0m\u001b[1;36m5\u001b[0m                                            \u001b]8;id=757524;file:///var/folders/g6/qw3t2lbx7x91r1mfyp6k77k00000gn/T/ipykernel_5067/3147109713.py\u001b\\\u001b[2m3147109713.py\u001b[0m\u001b]8;;\u001b\\\u001b[2m:\u001b[0m\u001b]8;id=934083;file:///var/folders/g6/qw3t2lbx7x91r1mfyp6k77k00000gn/T/ipykernel_5067/3147109713.py#11\u001b\\\u001b[2m11\u001b[0m\u001b]8;;\u001b\\\n"
      ]
     },
     "metadata": {},
     "output_type": "display_data"
    },
    {
     "data": {
      "text/html": [
       "<pre style=\"white-space:pre;overflow-x:auto;line-height:normal;font-family:Menlo,'DejaVu Sans Mono',consolas,'Courier New',monospace\"><span style=\"color: #7fbfbf; text-decoration-color: #7fbfbf\">           </span><span style=\"color: #800000; text-decoration-color: #800000; font-weight: bold\">Done!</span>                                                             <a href=\"file:///var/folders/g6/qw3t2lbx7x91r1mfyp6k77k00000gn/T/ipykernel_5067/3147109713.py\" target=\"_blank\"><span style=\"color: #7f7f7f; text-decoration-color: #7f7f7f\">3147109713.py</span></a><span style=\"color: #7f7f7f; text-decoration-color: #7f7f7f\">:</span><a href=\"file:///var/folders/g6/qw3t2lbx7x91r1mfyp6k77k00000gn/T/ipykernel_5067/3147109713.py#13\" target=\"_blank\"><span style=\"color: #7f7f7f; text-decoration-color: #7f7f7f\">13</span></a>\n",
       "</pre>\n"
      ],
      "text/plain": [
       "\u001b[2;36m          \u001b[0m\u001b[2;36m \u001b[0m\u001b[1;31mDone!\u001b[0m                                                             \u001b]8;id=267650;file:///var/folders/g6/qw3t2lbx7x91r1mfyp6k77k00000gn/T/ipykernel_5067/3147109713.py\u001b\\\u001b[2m3147109713.py\u001b[0m\u001b]8;;\u001b\\\u001b[2m:\u001b[0m\u001b]8;id=667029;file:///var/folders/g6/qw3t2lbx7x91r1mfyp6k77k00000gn/T/ipykernel_5067/3147109713.py#13\u001b\\\u001b[2m13\u001b[0m\u001b]8;;\u001b\\\n"
      ]
     },
     "metadata": {},
     "output_type": "display_data"
    },
    {
     "data": {
      "text/html": [
       "<pre style=\"white-space:pre;overflow-x:auto;line-height:normal;font-family:Menlo,'DejaVu Sans Mono',consolas,'Courier New',monospace\"></pre>\n"
      ],
      "text/plain": []
     },
     "metadata": {},
     "output_type": "display_data"
    }
   ],
   "source": [
    "from rich.console import Console\n",
    "from time import sleep\n",
    "\n",
    "console = Console()\n",
    "\n",
    "data = [1,2,3,4,5]\n",
    "with console.status(\"[bold green]Fetching data...\") as status:\n",
    "    while data:\n",
    "        num = data.pop(0)\n",
    "        sleep(1)\n",
    "        console.log(f\"[green]Finish fetching data [/green]{num}\")\n",
    "        \n",
    "    console.log(f'[bold][red]Done!')"
   ]
  },
  {
   "cell_type": "code",
   "execution_count": 1,
   "id": "ad9a44f3",
   "metadata": {},
   "outputs": [
    {
     "name": "stdout",
     "output_type": "stream",
     "text": [
      "Hello world!\n"
     ]
    }
   ],
   "source": [
    "print(\"Hello world!\")"
   ]
  },
  {
   "cell_type": "code",
   "execution_count": 7,
   "id": "f4ce5985",
   "metadata": {},
   "outputs": [
    {
     "data": {
      "application/vnd.jupyter.widget-view+json": {
       "model_id": "0dfb5dff68234a7480528f56319b645b",
       "version_major": 2,
       "version_minor": 0
      },
      "text/plain": [
       "Output()"
      ]
     },
     "metadata": {},
     "output_type": "display_data"
    },
    {
     "data": {
      "text/html": [
       "<pre style=\"white-space:pre;overflow-x:auto;line-height:normal;font-family:Menlo,'DejaVu Sans Mono',consolas,'Courier New',monospace\"></pre>\n"
      ],
      "text/plain": []
     },
     "metadata": {},
     "output_type": "display_data"
    },
    {
     "data": {
      "text/html": [
       "<pre style=\"white-space:pre;overflow-x:auto;line-height:normal;font-family:Menlo,'DejaVu Sans Mono',consolas,'Courier New',monospace\">\n",
       "</pre>\n"
      ],
      "text/plain": [
       "\n"
      ]
     },
     "metadata": {},
     "output_type": "display_data"
    }
   ],
   "source": [
    "import time\n",
    "\n",
    "from rich.progress import Progress\n",
    "\n",
    "with Progress() as progress:\n",
    "    \n",
    "    task1 = progress.add_task(\"[red]Downloading...\", total = 100)\n",
    "    task2 = progress.add_task(\"[green]Processing...\", total =100)\n",
    "    task3 = progress.add_task(\"[cyan]Installing...\", total = 100)\n",
    "    \n",
    "    while not progress.finished:\n",
    "        progress.update(task1, advance=0.9)\n",
    "        progress.update(task2, advance=0.6)\n",
    "        progress.update(task3, advance=0.3)\n",
    "        time.sleep(0.1)"
   ]
  },
  {
   "cell_type": "code",
   "execution_count": 16,
   "id": "3d9ded16",
   "metadata": {},
   "outputs": [
    {
     "data": {
      "text/html": [
       "<pre style=\"white-space:pre;overflow-x:auto;line-height:normal;font-family:Menlo,'DejaVu Sans Mono',consolas,'Courier New',monospace\">╭─────────────────╮ ╭──────────────────╮ ╭─────────────────╮ ╭────────────────╮\n",
       "│ <span style=\"font-weight: bold\">AyşeLimoncuoğlu</span> │ │ <span style=\"font-weight: bold\">JakeRobinson</span>     │ │ <span style=\"font-weight: bold\">TimianLindgaard</span> │ │ <span style=\"font-weight: bold\">ArloThomas</span>     │\n",
       "│ <span style=\"color: #008000; text-decoration-color: #008000\">Turkey</span>          │ │ <span style=\"color: #008000; text-decoration-color: #008000\">New Zealand</span>      │ │ <span style=\"color: #008000; text-decoration-color: #008000\">Norway</span>          │ │ <span style=\"color: #008000; text-decoration-color: #008000\">New Zealand</span>    │\n",
       "╰─────────────────╯ ╰──────────────────╯ ╰─────────────────╯ ╰────────────────╯\n",
       "╭─────────────────╮ ╭──────────────────╮ ╭─────────────────╮ ╭────────────────╮\n",
       "│ <span style=\"font-weight: bold\">FelixClarke</span>     │ │ <span style=\"font-weight: bold\">KunigundePosselt</span> │ │ <span style=\"font-weight: bold\">PatrickHusum</span>    │ │ <span style=\"font-weight: bold\">JeppeJohansen</span>  │\n",
       "│ <span style=\"color: #008000; text-decoration-color: #008000\">New Zealand</span>     │ │ <span style=\"color: #008000; text-decoration-color: #008000\">Germany</span>          │ │ <span style=\"color: #008000; text-decoration-color: #008000\">Norway</span>          │ │ <span style=\"color: #008000; text-decoration-color: #008000\">Denmark</span>        │\n",
       "╰─────────────────╯ ╰──────────────────╯ ╰─────────────────╯ ╰────────────────╯\n",
       "╭─────────────────╮ ╭──────────────────╮ ╭─────────────────╮ ╭────────────────╮\n",
       "│ <span style=\"font-weight: bold\">DomasHaugum</span>     │ │ <span style=\"font-weight: bold\">رادیننجاتی</span>       │ │ <span style=\"font-weight: bold\">EvaWalker</span>       │ │ <span style=\"font-weight: bold\">EduardoColeman</span> │\n",
       "│ <span style=\"color: #008000; text-decoration-color: #008000\">Norway</span>          │ │ <span style=\"color: #008000; text-decoration-color: #008000\">Iran</span>             │ │ <span style=\"color: #008000; text-decoration-color: #008000\">Canada</span>          │ │ <span style=\"color: #008000; text-decoration-color: #008000\">Ireland</span>        │\n",
       "╰─────────────────╯ ╰──────────────────╯ ╰─────────────────╯ ╰────────────────╯\n",
       "╭─────────────────╮ ╭──────────────────╮ ╭─────────────────╮ ╭────────────────╮\n",
       "│ <span style=\"font-weight: bold\">AlfonsoCarrasco</span> │ │ <span style=\"font-weight: bold\">محمدمهدیعلیزاده</span>  │ │ <span style=\"font-weight: bold\">BrianBaker</span>      │ │ <span style=\"font-weight: bold\">JohnLane</span>       │\n",
       "│ <span style=\"color: #008000; text-decoration-color: #008000\">Spain</span>           │ │ <span style=\"color: #008000; text-decoration-color: #008000\">Iran</span>             │ │ <span style=\"color: #008000; text-decoration-color: #008000\">United States</span>   │ │ <span style=\"color: #008000; text-decoration-color: #008000\">United Kingdom</span> │\n",
       "╰─────────────────╯ ╰──────────────────╯ ╰─────────────────╯ ╰────────────────╯\n",
       "╭─────────────────╮ ╭──────────────────╮ ╭─────────────────╮ ╭────────────────╮\n",
       "│ <span style=\"font-weight: bold\">SanniKivela</span>     │ │ <span style=\"font-weight: bold\">HannaSutton</span>      │ │ <span style=\"font-weight: bold\">EmiliaMontero</span>   │ │ <span style=\"font-weight: bold\">FilippoStrunz</span>  │\n",
       "│ <span style=\"color: #008000; text-decoration-color: #008000\">Finland</span>         │ │ <span style=\"color: #008000; text-decoration-color: #008000\">Ireland</span>          │ │ <span style=\"color: #008000; text-decoration-color: #008000\">Spain</span>           │ │ <span style=\"color: #008000; text-decoration-color: #008000\">Germany</span>        │\n",
       "╰─────────────────╯ ╰──────────────────╯ ╰─────────────────╯ ╰────────────────╯\n",
       "╭─────────────────╮ ╭──────────────────╮ ╭─────────────────╮ ╭────────────────╮\n",
       "│ <span style=\"font-weight: bold\">PatriciaPerez</span>   │ │ <span style=\"font-weight: bold\">ZakariyaBerstad</span>  │ │ <span style=\"font-weight: bold\">EemeliNiska</span>     │ │ <span style=\"font-weight: bold\">IirisOja</span>       │\n",
       "│ <span style=\"color: #008000; text-decoration-color: #008000\">Spain</span>           │ │ <span style=\"color: #008000; text-decoration-color: #008000\">Norway</span>           │ │ <span style=\"color: #008000; text-decoration-color: #008000\">Finland</span>         │ │ <span style=\"color: #008000; text-decoration-color: #008000\">Finland</span>        │\n",
       "╰─────────────────╯ ╰──────────────────╯ ╰─────────────────╯ ╰────────────────╯\n",
       "╭─────────────────╮ ╭──────────────────╮ ╭─────────────────╮ ╭────────────────╮\n",
       "│ <span style=\"font-weight: bold\">QuentinRenaud</span>   │ │ <span style=\"font-weight: bold\">FlennWard</span>        │ │ <span style=\"font-weight: bold\">پرنیاکوتی</span>       │ │ <span style=\"font-weight: bold\">HildaTorres</span>    │\n",
       "│ <span style=\"color: #008000; text-decoration-color: #008000\">France</span>          │ │ <span style=\"color: #008000; text-decoration-color: #008000\">Australia</span>        │ │ <span style=\"color: #008000; text-decoration-color: #008000\">Iran</span>            │ │ <span style=\"color: #008000; text-decoration-color: #008000\">Australia</span>      │\n",
       "╰─────────────────╯ ╰──────────────────╯ ╰─────────────────╯ ╰────────────────╯\n",
       "╭─────────────────╮ ╭──────────────────╮                                       \n",
       "│ <span style=\"font-weight: bold\">FigoPostema</span>     │ │ <span style=\"font-weight: bold\">ElliotMoulin</span>     │                                       \n",
       "│ <span style=\"color: #008000; text-decoration-color: #008000\">Netherlands</span>     │ │ <span style=\"color: #008000; text-decoration-color: #008000\">France</span>           │                                       \n",
       "╰─────────────────╯ ╰──────────────────╯                                       \n",
       "</pre>\n"
      ],
      "text/plain": [
       "╭─────────────────╮ ╭──────────────────╮ ╭─────────────────╮ ╭────────────────╮\n",
       "│ \u001b[1mAyşeLimoncuoğlu\u001b[0m │ │ \u001b[1mJakeRobinson\u001b[0m     │ │ \u001b[1mTimianLindgaard\u001b[0m │ │ \u001b[1mArloThomas\u001b[0m     │\n",
       "│ \u001b[32mTurkey\u001b[0m          │ │ \u001b[32mNew Zealand\u001b[0m      │ │ \u001b[32mNorway\u001b[0m          │ │ \u001b[32mNew Zealand\u001b[0m    │\n",
       "╰─────────────────╯ ╰──────────────────╯ ╰─────────────────╯ ╰────────────────╯\n",
       "╭─────────────────╮ ╭──────────────────╮ ╭─────────────────╮ ╭────────────────╮\n",
       "│ \u001b[1mFelixClarke\u001b[0m     │ │ \u001b[1mKunigundePosselt\u001b[0m │ │ \u001b[1mPatrickHusum\u001b[0m    │ │ \u001b[1mJeppeJohansen\u001b[0m  │\n",
       "│ \u001b[32mNew Zealand\u001b[0m     │ │ \u001b[32mGermany\u001b[0m          │ │ \u001b[32mNorway\u001b[0m          │ │ \u001b[32mDenmark\u001b[0m        │\n",
       "╰─────────────────╯ ╰──────────────────╯ ╰─────────────────╯ ╰────────────────╯\n",
       "╭─────────────────╮ ╭──────────────────╮ ╭─────────────────╮ ╭────────────────╮\n",
       "│ \u001b[1mDomasHaugum\u001b[0m     │ │ \u001b[1mرادیننجاتی\u001b[0m       │ │ \u001b[1mEvaWalker\u001b[0m       │ │ \u001b[1mEduardoColeman\u001b[0m │\n",
       "│ \u001b[32mNorway\u001b[0m          │ │ \u001b[32mIran\u001b[0m             │ │ \u001b[32mCanada\u001b[0m          │ │ \u001b[32mIreland\u001b[0m        │\n",
       "╰─────────────────╯ ╰──────────────────╯ ╰─────────────────╯ ╰────────────────╯\n",
       "╭─────────────────╮ ╭──────────────────╮ ╭─────────────────╮ ╭────────────────╮\n",
       "│ \u001b[1mAlfonsoCarrasco\u001b[0m │ │ \u001b[1mمحمدمهدیعلیزاده\u001b[0m  │ │ \u001b[1mBrianBaker\u001b[0m      │ │ \u001b[1mJohnLane\u001b[0m       │\n",
       "│ \u001b[32mSpain\u001b[0m           │ │ \u001b[32mIran\u001b[0m             │ │ \u001b[32mUnited States\u001b[0m   │ │ \u001b[32mUnited Kingdom\u001b[0m │\n",
       "╰─────────────────╯ ╰──────────────────╯ ╰─────────────────╯ ╰────────────────╯\n",
       "╭─────────────────╮ ╭──────────────────╮ ╭─────────────────╮ ╭────────────────╮\n",
       "│ \u001b[1mSanniKivela\u001b[0m     │ │ \u001b[1mHannaSutton\u001b[0m      │ │ \u001b[1mEmiliaMontero\u001b[0m   │ │ \u001b[1mFilippoStrunz\u001b[0m  │\n",
       "│ \u001b[32mFinland\u001b[0m         │ │ \u001b[32mIreland\u001b[0m          │ │ \u001b[32mSpain\u001b[0m           │ │ \u001b[32mGermany\u001b[0m        │\n",
       "╰─────────────────╯ ╰──────────────────╯ ╰─────────────────╯ ╰────────────────╯\n",
       "╭─────────────────╮ ╭──────────────────╮ ╭─────────────────╮ ╭────────────────╮\n",
       "│ \u001b[1mPatriciaPerez\u001b[0m   │ │ \u001b[1mZakariyaBerstad\u001b[0m  │ │ \u001b[1mEemeliNiska\u001b[0m     │ │ \u001b[1mIirisOja\u001b[0m       │\n",
       "│ \u001b[32mSpain\u001b[0m           │ │ \u001b[32mNorway\u001b[0m           │ │ \u001b[32mFinland\u001b[0m         │ │ \u001b[32mFinland\u001b[0m        │\n",
       "╰─────────────────╯ ╰──────────────────╯ ╰─────────────────╯ ╰────────────────╯\n",
       "╭─────────────────╮ ╭──────────────────╮ ╭─────────────────╮ ╭────────────────╮\n",
       "│ \u001b[1mQuentinRenaud\u001b[0m   │ │ \u001b[1mFlennWard\u001b[0m        │ │ \u001b[1mپرنیاکوتی\u001b[0m       │ │ \u001b[1mHildaTorres\u001b[0m    │\n",
       "│ \u001b[32mFrance\u001b[0m          │ │ \u001b[32mAustralia\u001b[0m        │ │ \u001b[32mIran\u001b[0m            │ │ \u001b[32mAustralia\u001b[0m      │\n",
       "╰─────────────────╯ ╰──────────────────╯ ╰─────────────────╯ ╰────────────────╯\n",
       "╭─────────────────╮ ╭──────────────────╮                                       \n",
       "│ \u001b[1mFigoPostema\u001b[0m     │ │ \u001b[1mElliotMoulin\u001b[0m     │                                       \n",
       "│ \u001b[32mNetherlands\u001b[0m     │ │ \u001b[32mFrance\u001b[0m           │                                       \n",
       "╰─────────────────╯ ╰──────────────────╯                                       \n"
      ]
     },
     "metadata": {},
     "output_type": "display_data"
    }
   ],
   "source": [
    "import json\n",
    "from urllib.request import urlopen\n",
    "\n",
    "from rich.console import Console\n",
    "from rich.columns import Columns\n",
    "from rich.panel import Panel\n",
    "\n",
    "def get_content(user):\n",
    "    \"\"\"Extract text from user dict.\"\"\"\n",
    "    country = user[\"location\"][\"country\"]\n",
    "    name = f\"{user['name']['first']}{user['name']['last']}\"\n",
    "    return f\"[b]{name}[/b]\\n[green]{country}\"\n",
    "\n",
    "console = Console()\n",
    "\n",
    "users = json.loads((urlopen(\"https://randomuser.me/api/?results=30\")).read())[\"results\"]\n",
    "user_renderables = [Panel(get_content(user), expand = True) for user in users]\n",
    "console.print(Columns(user_renderables))"
   ]
  },
  {
   "cell_type": "markdown",
   "id": "119741aa",
   "metadata": {
    "collapsed": true
   },
   "source": [
    "#compare strings\n",
    "#Input a string: (user types string and ENTER)\n",
    "#Input another string: (user types string and ENTER) \n",
    "3 How to compare:\n",
    "4 1) ASCII\n",
    "5 2) Length\n",
    "6 (user types 1 or 2 and ENTER)”\n",
    "\n",
    "Excerpt From: Gábor Szabó. “1000 Python Examples.” Apple Books. "
   ]
  },
  {
   "cell_type": "code",
   "execution_count": 1,
   "id": "60f81615",
   "metadata": {
    "scrolled": false
   },
   "outputs": [
    {
     "name": "stdout",
     "output_type": "stream",
     "text": [
      "Please type in a string: 1\n",
      "Please type in another string: 2\n",
      "How to compare:\n",
      "1) ASCII\n",
      "2) Length\n",
      "1\n",
      "First is smaller\n"
     ]
    }
   ],
   "source": []
  },
  {
   "cell_type": "code",
   "execution_count": null,
   "id": "d4182327",
   "metadata": {},
   "outputs": [],
   "source": []
  }
 ],
 "metadata": {
  "kernelspec": {
   "display_name": "Python 3 (ipykernel)",
   "language": "python",
   "name": "python3"
  },
  "language_info": {
   "codemirror_mode": {
    "name": "ipython",
    "version": 3
   },
   "file_extension": ".py",
   "mimetype": "text/x-python",
   "name": "python",
   "nbconvert_exporter": "python",
   "pygments_lexer": "ipython3",
   "version": "3.9.7"
  }
 },
 "nbformat": 4,
 "nbformat_minor": 5
}
