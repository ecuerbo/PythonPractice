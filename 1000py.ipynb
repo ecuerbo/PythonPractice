{
 "cells": [
  {
   "cell_type": "code",
   "execution_count": 2,
   "id": "595b3d99",
   "metadata": {},
   "outputs": [
    {
     "data": {
      "text/html": [
       "<pre style=\"white-space:pre;overflow-x:auto;line-height:normal;font-family:Menlo,'DejaVu Sans Mono',consolas,'Courier New',monospace\">Family Tree\n",
       "├── Mom\n",
       "│   └── <span style=\"color: #800000; text-decoration-color: #800000\">Stepdad</span>\n",
       "├── Dad\n",
       "│   └── <span style=\"color: #000080; text-decoration-color: #000080\">Dad's BF</span>\n",
       "├── Bro\n",
       "│   └── Wife\n",
       "└── Sis\n",
       "    └── <span style=\"color: #008000; text-decoration-color: #008000\">Husband</span>\n",
       "</pre>\n"
      ],
      "text/plain": [
       "Family Tree\n",
       "├── Mom\n",
       "│   └── \u001b[31mStepdad\u001b[0m\n",
       "├── Dad\n",
       "│   └── \u001b[34mDad's BF\u001b[0m\n",
       "├── Bro\n",
       "│   └── Wife\n",
       "└── Sis\n",
       "    └── \u001b[32mHusband\u001b[0m\n"
      ]
     },
     "metadata": {},
     "output_type": "display_data"
    }
   ],
   "source": [
    "from rich.tree import Tree\n",
    "from rich import print as rprint\n",
    "\n",
    "tree = Tree(\"Family Tree\")\n",
    "tree.add(\"[pink]Mom\").add(\"[red]Stepdad\")\n",
    "tree.add(\"Dad\").add(\"[blue]Dad's BF\")\n",
    "tree.add(\"Bro\").add(\"[pink]Wife\")\n",
    "tree.add(\"Sis\").add(\"[green]Husband\")\n",
    "\n",
    "rprint(tree)"
   ]
  },
  {
   "cell_type": "code",
   "execution_count": 10,
   "id": "4f4b4cef",
   "metadata": {},
   "outputs": [
    {
     "data": {
      "text/html": [
       "<pre style=\"white-space:pre;overflow-x:auto;line-height:normal;font-family:Menlo,'DejaVu Sans Mono',consolas,'Courier New',monospace\">Cuerbo Family\n",
       "└── Lina and Felix Cuerbo\n",
       "</pre>\n"
      ],
      "text/plain": [
       "Cuerbo Family\n",
       "└── Lina and Felix Cuerbo\n"
      ]
     },
     "metadata": {},
     "output_type": "display_data"
    }
   ],
   "source": [
    "tree1 = Tree(\"Cuerbo Family\")\n",
    "tree1.add(\"Lina and Felix Cuerbo\")\n",
    "\n",
    "rprint(tree1)"
   ]
  },
  {
   "cell_type": "code",
   "execution_count": 11,
   "id": "9e0294e6",
   "metadata": {},
   "outputs": [
    {
     "data": {
      "text/html": [
       "<pre style=\"white-space:pre;overflow-x:auto;line-height:normal;font-family:Menlo,'DejaVu Sans Mono',consolas,'Courier New',monospace\">Cuerbo Family\n",
       "├── Lina and Felix Cuerbo\n",
       "└── Lina\n",
       "</pre>\n"
      ],
      "text/plain": [
       "Cuerbo Family\n",
       "├── Lina and Felix Cuerbo\n",
       "└── Lina\n"
      ]
     },
     "metadata": {},
     "output_type": "display_data"
    }
   ],
   "source": [
    "tree1.add(\"Lina\")\n",
    "\n",
    "rprint(tree1)"
   ]
  },
  {
   "cell_type": "code",
   "execution_count": null,
   "id": "fae9a7eb",
   "metadata": {},
   "outputs": [],
   "source": []
  },
  {
   "cell_type": "code",
   "execution_count": null,
   "id": "7124ce14",
   "metadata": {},
   "outputs": [],
   "source": []
  }
 ],
 "metadata": {
  "kernelspec": {
   "display_name": "Python 3 (ipykernel)",
   "language": "python",
   "name": "python3"
  },
  "language_info": {
   "codemirror_mode": {
    "name": "ipython",
    "version": 3
   },
   "file_extension": ".py",
   "mimetype": "text/x-python",
   "name": "python",
   "nbconvert_exporter": "python",
   "pygments_lexer": "ipython3",
   "version": "3.9.7"
  }
 },
 "nbformat": 4,
 "nbformat_minor": 5
}
