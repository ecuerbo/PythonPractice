{
 "cells": [
  {
   "cell_type": "code",
   "execution_count": 2,
   "id": "595b3d99",
   "metadata": {},
   "outputs": [
    {
     "data": {
      "text/html": [
       "<pre style=\"white-space:pre;overflow-x:auto;line-height:normal;font-family:Menlo,'DejaVu Sans Mono',consolas,'Courier New',monospace\">Family Tree\n",
       "├── Mom\n",
       "│   └── <span style=\"color: #800000; text-decoration-color: #800000\">Stepdad</span>\n",
       "├── Dad\n",
       "│   └── <span style=\"color: #000080; text-decoration-color: #000080\">Dad's BF</span>\n",
       "├── Bro\n",
       "│   └── Wife\n",
       "└── Sis\n",
       "    └── <span style=\"color: #008000; text-decoration-color: #008000\">Husband</span>\n",
       "</pre>\n"
      ],
      "text/plain": [
       "Family Tree\n",
       "├── Mom\n",
       "│   └── \u001b[31mStepdad\u001b[0m\n",
       "├── Dad\n",
       "│   └── \u001b[34mDad's BF\u001b[0m\n",
       "├── Bro\n",
       "│   └── Wife\n",
       "└── Sis\n",
       "    └── \u001b[32mHusband\u001b[0m\n"
      ]
     },
     "metadata": {},
     "output_type": "display_data"
    }
   ],
   "source": [
    "from rich.tree import Tree\n",
    "from rich import print as rprint\n",
    "\n",
    "tree = Tree(\"Family Tree\")\n",
    "tree.add(\"[pink]Mom\").add(\"[red]Stepdad\")\n",
    "tree.add(\"Dad\").add(\"[blue]Dad's BF\")\n",
    "tree.add(\"Bro\").add(\"[pink]Wife\")\n",
    "tree.add(\"Sis\").add(\"[green]Husband\")\n",
    "\n",
    "rprint(tree)"
   ]
  },
  {
   "cell_type": "code",
   "execution_count": 10,
   "id": "4f4b4cef",
   "metadata": {},
   "outputs": [
    {
     "data": {
      "text/html": [
       "<pre style=\"white-space:pre;overflow-x:auto;line-height:normal;font-family:Menlo,'DejaVu Sans Mono',consolas,'Courier New',monospace\">Cuerbo Family\n",
       "└── Lina and Felix Cuerbo\n",
       "</pre>\n"
      ],
      "text/plain": [
       "Cuerbo Family\n",
       "└── Lina and Felix Cuerbo\n"
      ]
     },
     "metadata": {},
     "output_type": "display_data"
    }
   ],
   "source": [
    "tree1 = Tree(\"Cuerbo Family\")\n",
    "tree1.add(\"Lina and Felix Cuerbo\")\n",
    "\n",
    "rprint(tree1)"
   ]
  },
  {
   "cell_type": "code",
   "execution_count": 11,
   "id": "9e0294e6",
   "metadata": {},
   "outputs": [
    {
     "data": {
      "text/html": [
       "<pre style=\"white-space:pre;overflow-x:auto;line-height:normal;font-family:Menlo,'DejaVu Sans Mono',consolas,'Courier New',monospace\">Cuerbo Family\n",
       "├── Lina and Felix Cuerbo\n",
       "└── Lina\n",
       "</pre>\n"
      ],
      "text/plain": [
       "Cuerbo Family\n",
       "├── Lina and Felix Cuerbo\n",
       "└── Lina\n"
      ]
     },
     "metadata": {},
     "output_type": "display_data"
    }
   ],
   "source": [
    "tree1.add(\"Lina\")\n",
    "\n",
    "rprint(tree1)"
   ]
  },
  {
   "cell_type": "code",
   "execution_count": null,
   "id": "fae9a7eb",
   "metadata": {},
   "outputs": [],
   "source": [
    "from rich.progress import track\n",
    "from time import sleep\n",
    "\n",
    "def process_data():\n",
    "    sleep(0.6)\n",
    "    \n",
    "for _ in track(range(1000), description='[green]Processing data'):\n",
    "    process_data()"
   ]
  },
  {
   "cell_type": "code",
   "execution_count": 3,
   "id": "7124ce14",
   "metadata": {},
   "outputs": [
    {
     "data": {
      "application/vnd.jupyter.widget-view+json": {
       "model_id": "",
       "version_major": 2,
       "version_minor": 0
      },
      "text/plain": [
       "Output()"
      ]
     },
     "metadata": {},
     "output_type": "display_data"
    },
    {
     "data": {
      "text/html": [
       "<pre style=\"white-space:pre;overflow-x:auto;line-height:normal;font-family:Menlo,'DejaVu Sans Mono',consolas,'Courier New',monospace\"><span style=\"color: #7fbfbf; text-decoration-color: #7fbfbf\">[09:31:40] </span><span style=\"color: #008000; text-decoration-color: #008000\">Finish fetching data </span><span style=\"color: #008080; text-decoration-color: #008080; font-weight: bold\">1</span>                                            <a href=\"file:///var/folders/g6/qw3t2lbx7x91r1mfyp6k77k00000gn/T/ipykernel_5067/3147109713.py\" target=\"_blank\"><span style=\"color: #7f7f7f; text-decoration-color: #7f7f7f\">3147109713.py</span></a><span style=\"color: #7f7f7f; text-decoration-color: #7f7f7f\">:</span><a href=\"file:///var/folders/g6/qw3t2lbx7x91r1mfyp6k77k00000gn/T/ipykernel_5067/3147109713.py#11\" target=\"_blank\"><span style=\"color: #7f7f7f; text-decoration-color: #7f7f7f\">11</span></a>\n",
       "</pre>\n"
      ],
      "text/plain": [
       "\u001b[2;36m[09:31:40]\u001b[0m\u001b[2;36m \u001b[0m\u001b[32mFinish fetching data \u001b[0m\u001b[1;36m1\u001b[0m                                            \u001b]8;id=220141;file:///var/folders/g6/qw3t2lbx7x91r1mfyp6k77k00000gn/T/ipykernel_5067/3147109713.py\u001b\\\u001b[2m3147109713.py\u001b[0m\u001b]8;;\u001b\\\u001b[2m:\u001b[0m\u001b]8;id=764921;file:///var/folders/g6/qw3t2lbx7x91r1mfyp6k77k00000gn/T/ipykernel_5067/3147109713.py#11\u001b\\\u001b[2m11\u001b[0m\u001b]8;;\u001b\\\n"
      ]
     },
     "metadata": {},
     "output_type": "display_data"
    },
    {
     "data": {
      "text/html": [
       "<pre style=\"white-space:pre;overflow-x:auto;line-height:normal;font-family:Menlo,'DejaVu Sans Mono',consolas,'Courier New',monospace\"><span style=\"color: #7fbfbf; text-decoration-color: #7fbfbf\">[09:31:41] </span><span style=\"color: #008000; text-decoration-color: #008000\">Finish fetching data </span><span style=\"color: #008080; text-decoration-color: #008080; font-weight: bold\">2</span>                                            <a href=\"file:///var/folders/g6/qw3t2lbx7x91r1mfyp6k77k00000gn/T/ipykernel_5067/3147109713.py\" target=\"_blank\"><span style=\"color: #7f7f7f; text-decoration-color: #7f7f7f\">3147109713.py</span></a><span style=\"color: #7f7f7f; text-decoration-color: #7f7f7f\">:</span><a href=\"file:///var/folders/g6/qw3t2lbx7x91r1mfyp6k77k00000gn/T/ipykernel_5067/3147109713.py#11\" target=\"_blank\"><span style=\"color: #7f7f7f; text-decoration-color: #7f7f7f\">11</span></a>\n",
       "</pre>\n"
      ],
      "text/plain": [
       "\u001b[2;36m[09:31:41]\u001b[0m\u001b[2;36m \u001b[0m\u001b[32mFinish fetching data \u001b[0m\u001b[1;36m2\u001b[0m                                            \u001b]8;id=84268;file:///var/folders/g6/qw3t2lbx7x91r1mfyp6k77k00000gn/T/ipykernel_5067/3147109713.py\u001b\\\u001b[2m3147109713.py\u001b[0m\u001b]8;;\u001b\\\u001b[2m:\u001b[0m\u001b]8;id=459336;file:///var/folders/g6/qw3t2lbx7x91r1mfyp6k77k00000gn/T/ipykernel_5067/3147109713.py#11\u001b\\\u001b[2m11\u001b[0m\u001b]8;;\u001b\\\n"
      ]
     },
     "metadata": {},
     "output_type": "display_data"
    },
    {
     "data": {
      "text/html": [
       "<pre style=\"white-space:pre;overflow-x:auto;line-height:normal;font-family:Menlo,'DejaVu Sans Mono',consolas,'Courier New',monospace\"><span style=\"color: #7fbfbf; text-decoration-color: #7fbfbf\">[09:31:42] </span><span style=\"color: #008000; text-decoration-color: #008000\">Finish fetching data </span><span style=\"color: #008080; text-decoration-color: #008080; font-weight: bold\">3</span>                                            <a href=\"file:///var/folders/g6/qw3t2lbx7x91r1mfyp6k77k00000gn/T/ipykernel_5067/3147109713.py\" target=\"_blank\"><span style=\"color: #7f7f7f; text-decoration-color: #7f7f7f\">3147109713.py</span></a><span style=\"color: #7f7f7f; text-decoration-color: #7f7f7f\">:</span><a href=\"file:///var/folders/g6/qw3t2lbx7x91r1mfyp6k77k00000gn/T/ipykernel_5067/3147109713.py#11\" target=\"_blank\"><span style=\"color: #7f7f7f; text-decoration-color: #7f7f7f\">11</span></a>\n",
       "</pre>\n"
      ],
      "text/plain": [
       "\u001b[2;36m[09:31:42]\u001b[0m\u001b[2;36m \u001b[0m\u001b[32mFinish fetching data \u001b[0m\u001b[1;36m3\u001b[0m                                            \u001b]8;id=27220;file:///var/folders/g6/qw3t2lbx7x91r1mfyp6k77k00000gn/T/ipykernel_5067/3147109713.py\u001b\\\u001b[2m3147109713.py\u001b[0m\u001b]8;;\u001b\\\u001b[2m:\u001b[0m\u001b]8;id=912580;file:///var/folders/g6/qw3t2lbx7x91r1mfyp6k77k00000gn/T/ipykernel_5067/3147109713.py#11\u001b\\\u001b[2m11\u001b[0m\u001b]8;;\u001b\\\n"
      ]
     },
     "metadata": {},
     "output_type": "display_data"
    },
    {
     "data": {
      "text/html": [
       "<pre style=\"white-space:pre;overflow-x:auto;line-height:normal;font-family:Menlo,'DejaVu Sans Mono',consolas,'Courier New',monospace\"><span style=\"color: #7fbfbf; text-decoration-color: #7fbfbf\">[09:31:43] </span><span style=\"color: #008000; text-decoration-color: #008000\">Finish fetching data </span><span style=\"color: #008080; text-decoration-color: #008080; font-weight: bold\">4</span>                                            <a href=\"file:///var/folders/g6/qw3t2lbx7x91r1mfyp6k77k00000gn/T/ipykernel_5067/3147109713.py\" target=\"_blank\"><span style=\"color: #7f7f7f; text-decoration-color: #7f7f7f\">3147109713.py</span></a><span style=\"color: #7f7f7f; text-decoration-color: #7f7f7f\">:</span><a href=\"file:///var/folders/g6/qw3t2lbx7x91r1mfyp6k77k00000gn/T/ipykernel_5067/3147109713.py#11\" target=\"_blank\"><span style=\"color: #7f7f7f; text-decoration-color: #7f7f7f\">11</span></a>\n",
       "</pre>\n"
      ],
      "text/plain": [
       "\u001b[2;36m[09:31:43]\u001b[0m\u001b[2;36m \u001b[0m\u001b[32mFinish fetching data \u001b[0m\u001b[1;36m4\u001b[0m                                            \u001b]8;id=680468;file:///var/folders/g6/qw3t2lbx7x91r1mfyp6k77k00000gn/T/ipykernel_5067/3147109713.py\u001b\\\u001b[2m3147109713.py\u001b[0m\u001b]8;;\u001b\\\u001b[2m:\u001b[0m\u001b]8;id=548668;file:///var/folders/g6/qw3t2lbx7x91r1mfyp6k77k00000gn/T/ipykernel_5067/3147109713.py#11\u001b\\\u001b[2m11\u001b[0m\u001b]8;;\u001b\\\n"
      ]
     },
     "metadata": {},
     "output_type": "display_data"
    },
    {
     "data": {
      "text/html": [
       "<pre style=\"white-space:pre;overflow-x:auto;line-height:normal;font-family:Menlo,'DejaVu Sans Mono',consolas,'Courier New',monospace\"><span style=\"color: #7fbfbf; text-decoration-color: #7fbfbf\">[09:31:44] </span><span style=\"color: #008000; text-decoration-color: #008000\">Finish fetching data </span><span style=\"color: #008080; text-decoration-color: #008080; font-weight: bold\">5</span>                                            <a href=\"file:///var/folders/g6/qw3t2lbx7x91r1mfyp6k77k00000gn/T/ipykernel_5067/3147109713.py\" target=\"_blank\"><span style=\"color: #7f7f7f; text-decoration-color: #7f7f7f\">3147109713.py</span></a><span style=\"color: #7f7f7f; text-decoration-color: #7f7f7f\">:</span><a href=\"file:///var/folders/g6/qw3t2lbx7x91r1mfyp6k77k00000gn/T/ipykernel_5067/3147109713.py#11\" target=\"_blank\"><span style=\"color: #7f7f7f; text-decoration-color: #7f7f7f\">11</span></a>\n",
       "</pre>\n"
      ],
      "text/plain": [
       "\u001b[2;36m[09:31:44]\u001b[0m\u001b[2;36m \u001b[0m\u001b[32mFinish fetching data \u001b[0m\u001b[1;36m5\u001b[0m                                            \u001b]8;id=757524;file:///var/folders/g6/qw3t2lbx7x91r1mfyp6k77k00000gn/T/ipykernel_5067/3147109713.py\u001b\\\u001b[2m3147109713.py\u001b[0m\u001b]8;;\u001b\\\u001b[2m:\u001b[0m\u001b]8;id=934083;file:///var/folders/g6/qw3t2lbx7x91r1mfyp6k77k00000gn/T/ipykernel_5067/3147109713.py#11\u001b\\\u001b[2m11\u001b[0m\u001b]8;;\u001b\\\n"
      ]
     },
     "metadata": {},
     "output_type": "display_data"
    },
    {
     "data": {
      "text/html": [
       "<pre style=\"white-space:pre;overflow-x:auto;line-height:normal;font-family:Menlo,'DejaVu Sans Mono',consolas,'Courier New',monospace\"><span style=\"color: #7fbfbf; text-decoration-color: #7fbfbf\">           </span><span style=\"color: #800000; text-decoration-color: #800000; font-weight: bold\">Done!</span>                                                             <a href=\"file:///var/folders/g6/qw3t2lbx7x91r1mfyp6k77k00000gn/T/ipykernel_5067/3147109713.py\" target=\"_blank\"><span style=\"color: #7f7f7f; text-decoration-color: #7f7f7f\">3147109713.py</span></a><span style=\"color: #7f7f7f; text-decoration-color: #7f7f7f\">:</span><a href=\"file:///var/folders/g6/qw3t2lbx7x91r1mfyp6k77k00000gn/T/ipykernel_5067/3147109713.py#13\" target=\"_blank\"><span style=\"color: #7f7f7f; text-decoration-color: #7f7f7f\">13</span></a>\n",
       "</pre>\n"
      ],
      "text/plain": [
       "\u001b[2;36m          \u001b[0m\u001b[2;36m \u001b[0m\u001b[1;31mDone!\u001b[0m                                                             \u001b]8;id=267650;file:///var/folders/g6/qw3t2lbx7x91r1mfyp6k77k00000gn/T/ipykernel_5067/3147109713.py\u001b\\\u001b[2m3147109713.py\u001b[0m\u001b]8;;\u001b\\\u001b[2m:\u001b[0m\u001b]8;id=667029;file:///var/folders/g6/qw3t2lbx7x91r1mfyp6k77k00000gn/T/ipykernel_5067/3147109713.py#13\u001b\\\u001b[2m13\u001b[0m\u001b]8;;\u001b\\\n"
      ]
     },
     "metadata": {},
     "output_type": "display_data"
    },
    {
     "data": {
      "text/html": [
       "<pre style=\"white-space:pre;overflow-x:auto;line-height:normal;font-family:Menlo,'DejaVu Sans Mono',consolas,'Courier New',monospace\"></pre>\n"
      ],
      "text/plain": []
     },
     "metadata": {},
     "output_type": "display_data"
    }
   ],
   "source": [
    "from rich.console import Console\n",
    "from time import sleep\n",
    "\n",
    "console = Console()\n",
    "\n",
    "data = [1,2,3,4,5]\n",
    "with console.status(\"[bold green]Fetching data...\") as status:\n",
    "    while data:\n",
    "        num = data.pop(0)\n",
    "        sleep(1)\n",
    "        console.log(f\"[green]Finish fetching data [/green]{num}\")\n",
    "        \n",
    "    console.log(f'[bold][red]Done!')"
   ]
  },
  {
   "cell_type": "code",
   "execution_count": 1,
   "id": "ad9a44f3",
   "metadata": {},
   "outputs": [
    {
     "name": "stdout",
     "output_type": "stream",
     "text": [
      "Hello world!\n"
     ]
    }
   ],
   "source": [
    "print(\"Hello world!\")"
   ]
  },
  {
   "cell_type": "code",
   "execution_count": 7,
   "id": "f4ce5985",
   "metadata": {},
   "outputs": [
    {
     "data": {
      "application/vnd.jupyter.widget-view+json": {
       "model_id": "0dfb5dff68234a7480528f56319b645b",
       "version_major": 2,
       "version_minor": 0
      },
      "text/plain": [
       "Output()"
      ]
     },
     "metadata": {},
     "output_type": "display_data"
    },
    {
     "data": {
      "text/html": [
       "<pre style=\"white-space:pre;overflow-x:auto;line-height:normal;font-family:Menlo,'DejaVu Sans Mono',consolas,'Courier New',monospace\"></pre>\n"
      ],
      "text/plain": []
     },
     "metadata": {},
     "output_type": "display_data"
    },
    {
     "data": {
      "text/html": [
       "<pre style=\"white-space:pre;overflow-x:auto;line-height:normal;font-family:Menlo,'DejaVu Sans Mono',consolas,'Courier New',monospace\">\n",
       "</pre>\n"
      ],
      "text/plain": [
       "\n"
      ]
     },
     "metadata": {},
     "output_type": "display_data"
    }
   ],
   "source": [
    "import time\n",
    "\n",
    "from rich.progress import Progress\n",
    "\n",
    "with Progress() as progress:\n",
    "    \n",
    "    task1 = progress.add_task(\"[red]Downloading...\", total = 100)\n",
    "    task2 = progress.add_task(\"[green]Processing...\", total =100)\n",
    "    task3 = progress.add_task(\"[cyan]Installing...\", total = 100)\n",
    "    \n",
    "    while not progress.finished:\n",
    "        progress.update(task1, advance=0.9)\n",
    "        progress.update(task2, advance=0.6)\n",
    "        progress.update(task3, advance=0.3)\n",
    "        time.sleep(0.1)"
   ]
  },
  {
   "cell_type": "code",
   "execution_count": 9,
   "id": "7e4963c6",
   "metadata": {},
   "outputs": [
    {
     "ename": "TypeError",
     "evalue": "the JSON object must be str, bytes or bytearray, not HTTPResponse",
     "output_type": "error",
     "traceback": [
      "\u001b[0;31m---------------------------------------------------------------------------\u001b[0m",
      "\u001b[0;31mTypeError\u001b[0m                                 Traceback (most recent call last)",
      "\u001b[0;32m/var/folders/g6/qw3t2lbx7x91r1mfyp6k77k00000gn/T/ipykernel_5067/1523287798.py\u001b[0m in \u001b[0;36m<module>\u001b[0;34m\u001b[0m\n\u001b[1;32m     14\u001b[0m \u001b[0mconsole\u001b[0m \u001b[0;34m=\u001b[0m \u001b[0mConsole\u001b[0m\u001b[0;34m(\u001b[0m\u001b[0;34m)\u001b[0m\u001b[0;34m\u001b[0m\u001b[0;34m\u001b[0m\u001b[0m\n\u001b[1;32m     15\u001b[0m \u001b[0;34m\u001b[0m\u001b[0m\n\u001b[0;32m---> 16\u001b[0;31m \u001b[0musers\u001b[0m \u001b[0;34m=\u001b[0m \u001b[0mjson\u001b[0m\u001b[0;34m.\u001b[0m\u001b[0mloads\u001b[0m\u001b[0;34m(\u001b[0m\u001b[0murlopen\u001b[0m\u001b[0;34m(\u001b[0m\u001b[0;34m\"https://randomuser.me/api/?results=30\"\u001b[0m\u001b[0;34m)\u001b[0m\u001b[0;34m)\u001b[0m\u001b[0;34m.\u001b[0m\u001b[0mread\u001b[0m\u001b[0;34m(\u001b[0m\u001b[0;34m)\u001b[0m\u001b[0;34m[\u001b[0m\u001b[0;34m\"results\"\u001b[0m\u001b[0;34m]\u001b[0m\u001b[0;34m\u001b[0m\u001b[0;34m\u001b[0m\u001b[0m\n\u001b[0m\u001b[1;32m     17\u001b[0m \u001b[0muser_renderables\u001b[0m \u001b[0;34m=\u001b[0m \u001b[0;34m[\u001b[0m\u001b[0mPanel\u001b[0m\u001b[0;34m(\u001b[0m\u001b[0mget_content\u001b[0m\u001b[0;34m(\u001b[0m\u001b[0muser\u001b[0m\u001b[0;34m)\u001b[0m\u001b[0;34m,\u001b[0m \u001b[0mexpand\u001b[0m \u001b[0;34m=\u001b[0m \u001b[0;32mTrue\u001b[0m\u001b[0;34m)\u001b[0m \u001b[0;32mfor\u001b[0m \u001b[0muser\u001b[0m \u001b[0;32min\u001b[0m \u001b[0musers\u001b[0m\u001b[0;34m]\u001b[0m\u001b[0;34m\u001b[0m\u001b[0;34m\u001b[0m\u001b[0m\n\u001b[1;32m     18\u001b[0m \u001b[0mconsole\u001b[0m\u001b[0;34m.\u001b[0m\u001b[0mprint\u001b[0m\u001b[0;34m(\u001b[0m\u001b[0mColumns\u001b[0m\u001b[0;34m(\u001b[0m\u001b[0muser_renderables\u001b[0m\u001b[0;34m)\u001b[0m\u001b[0;34m)\u001b[0m\u001b[0;34m\u001b[0m\u001b[0;34m\u001b[0m\u001b[0m\n",
      "\u001b[0;32m/opt/anaconda3/lib/python3.9/json/__init__.py\u001b[0m in \u001b[0;36mloads\u001b[0;34m(s, cls, object_hook, parse_float, parse_int, parse_constant, object_pairs_hook, **kw)\u001b[0m\n\u001b[1;32m    337\u001b[0m     \u001b[0;32melse\u001b[0m\u001b[0;34m:\u001b[0m\u001b[0;34m\u001b[0m\u001b[0;34m\u001b[0m\u001b[0m\n\u001b[1;32m    338\u001b[0m         \u001b[0;32mif\u001b[0m \u001b[0;32mnot\u001b[0m \u001b[0misinstance\u001b[0m\u001b[0;34m(\u001b[0m\u001b[0ms\u001b[0m\u001b[0;34m,\u001b[0m \u001b[0;34m(\u001b[0m\u001b[0mbytes\u001b[0m\u001b[0;34m,\u001b[0m \u001b[0mbytearray\u001b[0m\u001b[0;34m)\u001b[0m\u001b[0;34m)\u001b[0m\u001b[0;34m:\u001b[0m\u001b[0;34m\u001b[0m\u001b[0;34m\u001b[0m\u001b[0m\n\u001b[0;32m--> 339\u001b[0;31m             raise TypeError(f'the JSON object must be str, bytes or bytearray, '\n\u001b[0m\u001b[1;32m    340\u001b[0m                             f'not {s.__class__.__name__}')\n\u001b[1;32m    341\u001b[0m         \u001b[0ms\u001b[0m \u001b[0;34m=\u001b[0m \u001b[0ms\u001b[0m\u001b[0;34m.\u001b[0m\u001b[0mdecode\u001b[0m\u001b[0;34m(\u001b[0m\u001b[0mdetect_encoding\u001b[0m\u001b[0;34m(\u001b[0m\u001b[0ms\u001b[0m\u001b[0;34m)\u001b[0m\u001b[0;34m,\u001b[0m \u001b[0;34m'surrogatepass'\u001b[0m\u001b[0;34m)\u001b[0m\u001b[0;34m\u001b[0m\u001b[0;34m\u001b[0m\u001b[0m\n",
      "\u001b[0;31mTypeError\u001b[0m: the JSON object must be str, bytes or bytearray, not HTTPResponse"
     ]
    }
   ],
   "source": [
    "import json\n",
    "from urllib.request import urlopen\n",
    "\n",
    "from rich.console import Console\n",
    "from rich.columns import Columns\n",
    "from rich.panel import Panel\n",
    "\n",
    "def get_content(user):\n",
    "    \"\"\"Extract text from user dict.\"\"\"\n",
    "    country = user[\"location\"][\"country\"]\n",
    "    name = f\"{user['name']['first']}{user['name']['last']}\"\n",
    "    return f\"[b]{name}[/b]\\n[yellow]{country}\"\n",
    "\n",
    "console = Console()\n",
    "\n",
    "users = json.loads(urlopen(\"https://randomuser.me/api/?results=30\")).read()[\"results\"]\n",
    "user_renderables = [Panel(get_content(user), expand = True) for user in users]\n",
    "console.print(Columns(user_renderables))"
   ]
  },
  {
   "cell_type": "code",
   "execution_count": null,
   "id": "db117f54",
   "metadata": {},
   "outputs": [],
   "source": []
  }
 ],
 "metadata": {
  "kernelspec": {
   "display_name": "Python 3 (ipykernel)",
   "language": "python",
   "name": "python3"
  },
  "language_info": {
   "codemirror_mode": {
    "name": "ipython",
    "version": 3
   },
   "file_extension": ".py",
   "mimetype": "text/x-python",
   "name": "python",
   "nbconvert_exporter": "python",
   "pygments_lexer": "ipython3",
   "version": "3.9.7"
  }
 },
 "nbformat": 4,
 "nbformat_minor": 5
}
