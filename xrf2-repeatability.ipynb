{
 "cells": [
  {
   "cell_type": "code",
   "execution_count": 1,
   "id": "fa73d3d5",
   "metadata": {},
   "outputs": [
    {
     "data": {
      "text/html": [
       "<div>\n",
       "<style scoped>\n",
       "    .dataframe tbody tr th:only-of-type {\n",
       "        vertical-align: middle;\n",
       "    }\n",
       "\n",
       "    .dataframe tbody tr th {\n",
       "        vertical-align: top;\n",
       "    }\n",
       "\n",
       "    .dataframe thead th {\n",
       "        text-align: right;\n",
       "    }\n",
       "</style>\n",
       "<table border=\"1\" class=\"dataframe\">\n",
       "  <thead>\n",
       "    <tr style=\"text-align: right;\">\n",
       "      <th></th>\n",
       "      <th>sample</th>\n",
       "      <th>letter</th>\n",
       "      <th>position</th>\n",
       "      <th>ni</th>\n",
       "      <th>fe</th>\n",
       "      <th>co</th>\n",
       "      <th>alu</th>\n",
       "      <th>sil</th>\n",
       "      <th>p</th>\n",
       "      <th>s</th>\n",
       "      <th>mag</th>\n",
       "      <th>cal</th>\n",
       "      <th>chr</th>\n",
       "      <th>man</th>\n",
       "      <th>tit</th>\n",
       "    </tr>\n",
       "    <tr>\n",
       "      <th>dt</th>\n",
       "      <th></th>\n",
       "      <th></th>\n",
       "      <th></th>\n",
       "      <th></th>\n",
       "      <th></th>\n",
       "      <th></th>\n",
       "      <th></th>\n",
       "      <th></th>\n",
       "      <th></th>\n",
       "      <th></th>\n",
       "      <th></th>\n",
       "      <th></th>\n",
       "      <th></th>\n",
       "      <th></th>\n",
       "      <th></th>\n",
       "    </tr>\n",
       "  </thead>\n",
       "  <tbody>\n",
       "    <tr>\n",
       "      <th>2022-05-28 15:03:00</th>\n",
       "      <td>S1</td>\n",
       "      <td>D</td>\n",
       "      <td>P1</td>\n",
       "      <td>0.6311</td>\n",
       "      <td>48.51</td>\n",
       "      <td>0.156</td>\n",
       "      <td>9.906</td>\n",
       "      <td>1.784</td>\n",
       "      <td>0.00938</td>\n",
       "      <td>0.1642</td>\n",
       "      <td>1.040</td>\n",
       "      <td>0.02790</td>\n",
       "      <td>3.953</td>\n",
       "      <td>0.8082</td>\n",
       "      <td>0.2185</td>\n",
       "    </tr>\n",
       "    <tr>\n",
       "      <th>2022-05-28 15:05:00</th>\n",
       "      <td>S2</td>\n",
       "      <td>D</td>\n",
       "      <td>P2</td>\n",
       "      <td>0.6497</td>\n",
       "      <td>51.48</td>\n",
       "      <td>0.158</td>\n",
       "      <td>6.616</td>\n",
       "      <td>1.754</td>\n",
       "      <td>0.00766</td>\n",
       "      <td>0.1316</td>\n",
       "      <td>0.938</td>\n",
       "      <td>0.01520</td>\n",
       "      <td>3.963</td>\n",
       "      <td>0.9597</td>\n",
       "      <td>0.1542</td>\n",
       "    </tr>\n",
       "    <tr>\n",
       "      <th>2022-05-28 15:06:00</th>\n",
       "      <td>S1</td>\n",
       "      <td>A</td>\n",
       "      <td>P3</td>\n",
       "      <td>0.6385</td>\n",
       "      <td>48.25</td>\n",
       "      <td>0.087</td>\n",
       "      <td>10.090</td>\n",
       "      <td>1.809</td>\n",
       "      <td>0.00883</td>\n",
       "      <td>0.1623</td>\n",
       "      <td>1.084</td>\n",
       "      <td>0.01935</td>\n",
       "      <td>3.810</td>\n",
       "      <td>0.7757</td>\n",
       "      <td>0.2244</td>\n",
       "    </tr>\n",
       "    <tr>\n",
       "      <th>2022-05-28 15:07:00</th>\n",
       "      <td>S2</td>\n",
       "      <td>A</td>\n",
       "      <td>P4</td>\n",
       "      <td>0.6578</td>\n",
       "      <td>51.54</td>\n",
       "      <td>0.112</td>\n",
       "      <td>6.650</td>\n",
       "      <td>1.692</td>\n",
       "      <td>0.00813</td>\n",
       "      <td>0.1335</td>\n",
       "      <td>0.922</td>\n",
       "      <td>0.01022</td>\n",
       "      <td>3.818</td>\n",
       "      <td>0.9766</td>\n",
       "      <td>0.1734</td>\n",
       "    </tr>\n",
       "    <tr>\n",
       "      <th>2022-05-28 15:30:00</th>\n",
       "      <td>S1</td>\n",
       "      <td>A</td>\n",
       "      <td>P1</td>\n",
       "      <td>0.6329</td>\n",
       "      <td>47.78</td>\n",
       "      <td>0.090</td>\n",
       "      <td>9.977</td>\n",
       "      <td>1.819</td>\n",
       "      <td>0.00900</td>\n",
       "      <td>0.1634</td>\n",
       "      <td>1.096</td>\n",
       "      <td>0.02347</td>\n",
       "      <td>3.851</td>\n",
       "      <td>0.7826</td>\n",
       "      <td>0.2294</td>\n",
       "    </tr>\n",
       "  </tbody>\n",
       "</table>\n",
       "</div>"
      ],
      "text/plain": [
       "                    sample letter position      ni     fe     co     alu  \\\n",
       "dt                                                                         \n",
       "2022-05-28 15:03:00     S1      D       P1  0.6311  48.51  0.156   9.906   \n",
       "2022-05-28 15:05:00     S2      D       P2  0.6497  51.48  0.158   6.616   \n",
       "2022-05-28 15:06:00     S1      A       P3  0.6385  48.25  0.087  10.090   \n",
       "2022-05-28 15:07:00     S2      A       P4  0.6578  51.54  0.112   6.650   \n",
       "2022-05-28 15:30:00     S1      A       P1  0.6329  47.78  0.090   9.977   \n",
       "\n",
       "                       sil        p       s    mag      cal    chr     man  \\\n",
       "dt                                                                           \n",
       "2022-05-28 15:03:00  1.784  0.00938  0.1642  1.040  0.02790  3.953  0.8082   \n",
       "2022-05-28 15:05:00  1.754  0.00766  0.1316  0.938  0.01520  3.963  0.9597   \n",
       "2022-05-28 15:06:00  1.809  0.00883  0.1623  1.084  0.01935  3.810  0.7757   \n",
       "2022-05-28 15:07:00  1.692  0.00813  0.1335  0.922  0.01022  3.818  0.9766   \n",
       "2022-05-28 15:30:00  1.819  0.00900  0.1634  1.096  0.02347  3.851  0.7826   \n",
       "\n",
       "                        tit  \n",
       "dt                           \n",
       "2022-05-28 15:03:00  0.2185  \n",
       "2022-05-28 15:05:00  0.1542  \n",
       "2022-05-28 15:06:00  0.2244  \n",
       "2022-05-28 15:07:00  0.1734  \n",
       "2022-05-28 15:30:00  0.2294  "
      ]
     },
     "execution_count": 1,
     "metadata": {},
     "output_type": "execute_result"
    }
   ],
   "source": [
    "import pandas as pd\n",
    "import seaborn as sns\n",
    "\n",
    "x2 = pd.read_csv('data/repx2.csv', index_col='dt', parse_dates= True)\n",
    "x2.head()"
   ]
  },
  {
   "cell_type": "code",
   "execution_count": 3,
   "id": "e5063684",
   "metadata": {},
   "outputs": [
    {
     "data": {
      "text/plain": [
       "<AxesSubplot:xlabel='sample', ylabel='fe'>"
      ]
     },
     "execution_count": 3,
     "metadata": {},
     "output_type": "execute_result"
    },
    {
     "data": {
      "image/png": "[encoded data removed]",
      "text/plain": [
       "<Figure size 432x288 with 1 Axes>"
      ]
     },
     "metadata": {
      "needs_background": "light"
     },
     "output_type": "display_data"
    }
   ],
   "source": [
    "sns.barplot(x='sample',y='fe', hue='letter',data= x2)"
   ]
  },
  {
   "cell_type": "code",
   "execution_count": 9,
   "id": "e7daa773",
   "metadata": {},
   "outputs": [
    {
     "data": {
      "text/plain": [
       "<seaborn.axisgrid.FacetGrid at 0x7ff196e08fa0>"
      ]
     },
     "execution_count": 9,
     "metadata": {},
     "output_type": "execute_result"
    },
    {
     "data": {
      "image/png": "[encoded data removed]",
      "text/plain": [
       "<Figure size 403.75x360 with 1 Axes>"
      ]
     },
     "metadata": {
      "needs_background": "light"
     },
     "output_type": "display_data"
    },
    {
     "data": {
      "image/png": "[encoded data removed]",
      "text/plain": [
       "<Figure size 403.75x360 with 1 Axes>"
      ]
     },
     "metadata": {
      "needs_background": "light"
     },
     "output_type": "display_data"
    }
   ],
   "source": [
    "sns.catplot(x='sample',y='fe', hue='letter',data=x2, kind='violin')\n",
    "sns.catplot(x='sample',y='fe', hue='letter',data=x2, kind='swarm')"
   ]
  },
  {
   "cell_type": "code",
   "execution_count": 22,
   "id": "c323804f",
   "metadata": {
    "scrolled": true
   },
   "outputs": [
    {
     "data": {
      "text/plain": [
       "<seaborn.axisgrid.FacetGrid at 0x7ff199105e80>"
      ]
     },
     "execution_count": 22,
     "metadata": {},
     "output_type": "execute_result"
    },
    {
     "data": {
      "image/png": "[encoded data removed]",
      "text/plain": [
       "<Figure size 360x360 with 1 Axes>"
      ]
     },
     "metadata": {
      "needs_background": "light"
     },
     "output_type": "display_data"
    },
    {
     "data": {
      "image/png": "[encoded data removed]",
      "text/plain": [
       "<Figure size 360x360 with 1 Axes>"
      ]
     },
     "metadata": {
      "needs_background": "light"
     },
     "output_type": "display_data"
    }
   ],
   "source": [
    "sns.catplot(x='position',y='fe', data=x2[x2['sample']==\"S1\"], kind='box', color='lightblue')\n",
    "sns.catplot(x='position',y='fe', data=x2[x2['sample']==\"S2\"], kind='box', color='pink')\n"
   ]
  },
  {
   "cell_type": "code",
   "execution_count": 28,
   "id": "b594b2cb",
   "metadata": {},
   "outputs": [
    {
     "ename": "ValueError",
     "evalue": "Could not interpret input 'dt'",
     "output_type": "error",
     "traceback": [
      "\u001b[0;31m---------------------------------------------------------------------------\u001b[0m",
      "\u001b[0;31mValueError\u001b[0m                                Traceback (most recent call last)",
      "\u001b[0;32m/var/folders/g6/qw3t2lbx7x91r1mfyp6k77k00000gn/T/ipykernel_4287/388774903.py\u001b[0m in \u001b[0;36m<module>\u001b[0;34m\u001b[0m\n\u001b[0;32m----> 1\u001b[0;31m \u001b[0msns\u001b[0m\u001b[0;34m.\u001b[0m\u001b[0mcatplot\u001b[0m\u001b[0;34m(\u001b[0m\u001b[0mx\u001b[0m\u001b[0;34m=\u001b[0m\u001b[0;34m'dt'\u001b[0m\u001b[0;34m,\u001b[0m \u001b[0my\u001b[0m\u001b[0;34m=\u001b[0m\u001b[0;34m'ni'\u001b[0m \u001b[0;34m,\u001b[0m\u001b[0mhue\u001b[0m\u001b[0;34m=\u001b[0m\u001b[0;34m'sample'\u001b[0m\u001b[0;34m,\u001b[0m \u001b[0mdata\u001b[0m\u001b[0;34m=\u001b[0m\u001b[0mx2\u001b[0m\u001b[0;34m,\u001b[0m\u001b[0mkind\u001b[0m\u001b[0;34m=\u001b[0m\u001b[0;34m'strip'\u001b[0m\u001b[0;34m)\u001b[0m\u001b[0;34m\u001b[0m\u001b[0;34m\u001b[0m\u001b[0m\n\u001b[0m",
      "\u001b[0;32m/opt/anaconda3/lib/python3.9/site-packages/seaborn/_decorators.py\u001b[0m in \u001b[0;36minner_f\u001b[0;34m(*args, **kwargs)\u001b[0m\n\u001b[1;32m     44\u001b[0m             )\n\u001b[1;32m     45\u001b[0m         \u001b[0mkwargs\u001b[0m\u001b[0;34m.\u001b[0m\u001b[0mupdate\u001b[0m\u001b[0;34m(\u001b[0m\u001b[0;34m{\u001b[0m\u001b[0mk\u001b[0m\u001b[0;34m:\u001b[0m \u001b[0marg\u001b[0m \u001b[0;32mfor\u001b[0m \u001b[0mk\u001b[0m\u001b[0;34m,\u001b[0m \u001b[0marg\u001b[0m \u001b[0;32min\u001b[0m \u001b[0mzip\u001b[0m\u001b[0;34m(\u001b[0m\u001b[0msig\u001b[0m\u001b[0;34m.\u001b[0m\u001b[0mparameters\u001b[0m\u001b[0;34m,\u001b[0m \u001b[0margs\u001b[0m\u001b[0;34m)\u001b[0m\u001b[0;34m}\u001b[0m\u001b[0;34m)\u001b[0m\u001b[0;34m\u001b[0m\u001b[0;34m\u001b[0m\u001b[0m\n\u001b[0;32m---> 46\u001b[0;31m         \u001b[0;32mreturn\u001b[0m \u001b[0mf\u001b[0m\u001b[0;34m(\u001b[0m\u001b[0;34m**\u001b[0m\u001b[0mkwargs\u001b[0m\u001b[0;34m)\u001b[0m\u001b[0;34m\u001b[0m\u001b[0;34m\u001b[0m\u001b[0m\n\u001b[0m\u001b[1;32m     47\u001b[0m     \u001b[0;32mreturn\u001b[0m \u001b[0minner_f\u001b[0m\u001b[0;34m\u001b[0m\u001b[0;34m\u001b[0m\u001b[0m\n\u001b[1;32m     48\u001b[0m \u001b[0;34m\u001b[0m\u001b[0m\n",
      "\u001b[0;32m/opt/anaconda3/lib/python3.9/site-packages/seaborn/categorical.py\u001b[0m in \u001b[0;36mcatplot\u001b[0;34m(x, y, hue, data, row, col, col_wrap, estimator, ci, n_boot, units, seed, order, hue_order, row_order, col_order, kind, height, aspect, orient, color, palette, legend, legend_out, sharex, sharey, margin_titles, facet_kws, **kwargs)\u001b[0m\n\u001b[1;32m   3790\u001b[0m     \u001b[0mp\u001b[0m \u001b[0;34m=\u001b[0m \u001b[0m_CategoricalPlotter\u001b[0m\u001b[0;34m(\u001b[0m\u001b[0;34m)\u001b[0m\u001b[0;34m\u001b[0m\u001b[0;34m\u001b[0m\u001b[0m\n\u001b[1;32m   3791\u001b[0m     \u001b[0mp\u001b[0m\u001b[0;34m.\u001b[0m\u001b[0mrequire_numeric\u001b[0m \u001b[0;34m=\u001b[0m \u001b[0mplotter_class\u001b[0m\u001b[0;34m.\u001b[0m\u001b[0mrequire_numeric\u001b[0m\u001b[0;34m\u001b[0m\u001b[0;34m\u001b[0m\u001b[0m\n\u001b[0;32m-> 3792\u001b[0;31m     \u001b[0mp\u001b[0m\u001b[0;34m.\u001b[0m\u001b[0mestablish_variables\u001b[0m\u001b[0;34m(\u001b[0m\u001b[0mx_\u001b[0m\u001b[0;34m,\u001b[0m \u001b[0my_\u001b[0m\u001b[0;34m,\u001b[0m \u001b[0mhue\u001b[0m\u001b[0;34m,\u001b[0m \u001b[0mdata\u001b[0m\u001b[0;34m,\u001b[0m \u001b[0morient\u001b[0m\u001b[0;34m,\u001b[0m \u001b[0morder\u001b[0m\u001b[0;34m,\u001b[0m \u001b[0mhue_order\u001b[0m\u001b[0;34m)\u001b[0m\u001b[0;34m\u001b[0m\u001b[0;34m\u001b[0m\u001b[0m\n\u001b[0m\u001b[1;32m   3793\u001b[0m     if (\n\u001b[1;32m   3794\u001b[0m         \u001b[0morder\u001b[0m \u001b[0;32mis\u001b[0m \u001b[0;32mnot\u001b[0m \u001b[0;32mNone\u001b[0m\u001b[0;34m\u001b[0m\u001b[0;34m\u001b[0m\u001b[0m\n",
      "\u001b[0;32m/opt/anaconda3/lib/python3.9/site-packages/seaborn/categorical.py\u001b[0m in \u001b[0;36mestablish_variables\u001b[0;34m(self, x, y, hue, data, orient, order, hue_order, units)\u001b[0m\n\u001b[1;32m    151\u001b[0m                 \u001b[0;32mif\u001b[0m \u001b[0misinstance\u001b[0m\u001b[0;34m(\u001b[0m\u001b[0mvar\u001b[0m\u001b[0;34m,\u001b[0m \u001b[0mstr\u001b[0m\u001b[0;34m)\u001b[0m\u001b[0;34m:\u001b[0m\u001b[0;34m\u001b[0m\u001b[0;34m\u001b[0m\u001b[0m\n\u001b[1;32m    152\u001b[0m                     \u001b[0merr\u001b[0m \u001b[0;34m=\u001b[0m \u001b[0;34m\"Could not interpret input '{}'\"\u001b[0m\u001b[0;34m.\u001b[0m\u001b[0mformat\u001b[0m\u001b[0;34m(\u001b[0m\u001b[0mvar\u001b[0m\u001b[0;34m)\u001b[0m\u001b[0;34m\u001b[0m\u001b[0;34m\u001b[0m\u001b[0m\n\u001b[0;32m--> 153\u001b[0;31m                     \u001b[0;32mraise\u001b[0m \u001b[0mValueError\u001b[0m\u001b[0;34m(\u001b[0m\u001b[0merr\u001b[0m\u001b[0;34m)\u001b[0m\u001b[0;34m\u001b[0m\u001b[0;34m\u001b[0m\u001b[0m\n\u001b[0m\u001b[1;32m    154\u001b[0m \u001b[0;34m\u001b[0m\u001b[0m\n\u001b[1;32m    155\u001b[0m             \u001b[0;31m# Figure out the plotting orientation\u001b[0m\u001b[0;34m\u001b[0m\u001b[0;34m\u001b[0m\u001b[0m\n",
      "\u001b[0;31mValueError\u001b[0m: Could not interpret input 'dt'"
     ]
    }
   ],
   "source": [
    "sns.catplot(x='dt', y='ni' ,hue='sample', data=x2,kind='strip')"
   ]
  },
  {
   "cell_type": "code",
   "execution_count": 32,
   "id": "1e061cb5",
   "metadata": {},
   "outputs": [
    {
     "data": {
      "text/html": [
       "<div>\n",
       "<style scoped>\n",
       "    .dataframe tbody tr th:only-of-type {\n",
       "        vertical-align: middle;\n",
       "    }\n",
       "\n",
       "    .dataframe tbody tr th {\n",
       "        vertical-align: top;\n",
       "    }\n",
       "\n",
       "    .dataframe thead th {\n",
       "        text-align: right;\n",
       "    }\n",
       "</style>\n",
       "<table border=\"1\" class=\"dataframe\">\n",
       "  <thead>\n",
       "    <tr style=\"text-align: right;\">\n",
       "      <th></th>\n",
       "      <th>dt</th>\n",
       "      <th>position</th>\n",
       "      <th>run</th>\n",
       "      <th>ni</th>\n",
       "      <th>fe</th>\n",
       "      <th>co</th>\n",
       "      <th>alu</th>\n",
       "      <th>sil</th>\n",
       "      <th>p</th>\n",
       "      <th>s</th>\n",
       "      <th>mag</th>\n",
       "      <th>cal</th>\n",
       "      <th>chr</th>\n",
       "      <th>man</th>\n",
       "      <th>tit</th>\n",
       "    </tr>\n",
       "  </thead>\n",
       "  <tbody>\n",
       "    <tr>\n",
       "      <th>0</th>\n",
       "      <td>29/05/2022 11:56</td>\n",
       "      <td>1</td>\n",
       "      <td>1</td>\n",
       "      <td>0.6524</td>\n",
       "      <td>47.74</td>\n",
       "      <td>0.112</td>\n",
       "      <td>9.977</td>\n",
       "      <td>1.771</td>\n",
       "      <td>0.00964</td>\n",
       "      <td>0.1637</td>\n",
       "      <td>1.022</td>\n",
       "      <td>0.02314</td>\n",
       "      <td>3.943</td>\n",
       "      <td>0.8184</td>\n",
       "      <td>0.2073</td>\n",
       "    </tr>\n",
       "    <tr>\n",
       "      <th>1</th>\n",
       "      <td>29/05/2022 11:57</td>\n",
       "      <td>1</td>\n",
       "      <td>2</td>\n",
       "      <td>0.6182</td>\n",
       "      <td>48.02</td>\n",
       "      <td>0.157</td>\n",
       "      <td>9.955</td>\n",
       "      <td>1.771</td>\n",
       "      <td>0.00913</td>\n",
       "      <td>0.1626</td>\n",
       "      <td>1.043</td>\n",
       "      <td>0.02173</td>\n",
       "      <td>3.930</td>\n",
       "      <td>0.8233</td>\n",
       "      <td>0.2228</td>\n",
       "    </tr>\n",
       "    <tr>\n",
       "      <th>2</th>\n",
       "      <td>29/05/2022 11:59</td>\n",
       "      <td>1</td>\n",
       "      <td>3</td>\n",
       "      <td>0.6345</td>\n",
       "      <td>48.20</td>\n",
       "      <td>0.116</td>\n",
       "      <td>10.090</td>\n",
       "      <td>1.774</td>\n",
       "      <td>0.00927</td>\n",
       "      <td>0.1626</td>\n",
       "      <td>1.053</td>\n",
       "      <td>0.02279</td>\n",
       "      <td>3.944</td>\n",
       "      <td>0.8126</td>\n",
       "      <td>0.2179</td>\n",
       "    </tr>\n",
       "    <tr>\n",
       "      <th>3</th>\n",
       "      <td>29/05/2022 12:07</td>\n",
       "      <td>2</td>\n",
       "      <td>1</td>\n",
       "      <td>0.6385</td>\n",
       "      <td>48.39</td>\n",
       "      <td>0.141</td>\n",
       "      <td>10.160</td>\n",
       "      <td>1.779</td>\n",
       "      <td>0.01009</td>\n",
       "      <td>0.1621</td>\n",
       "      <td>1.005</td>\n",
       "      <td>0.02490</td>\n",
       "      <td>3.950</td>\n",
       "      <td>0.8147</td>\n",
       "      <td>0.2275</td>\n",
       "    </tr>\n",
       "    <tr>\n",
       "      <th>4</th>\n",
       "      <td>29/05/2022 12:08</td>\n",
       "      <td>2</td>\n",
       "      <td>2</td>\n",
       "      <td>0.6432</td>\n",
       "      <td>48.16</td>\n",
       "      <td>0.121</td>\n",
       "      <td>10.100</td>\n",
       "      <td>1.759</td>\n",
       "      <td>0.00917</td>\n",
       "      <td>0.1636</td>\n",
       "      <td>1.010</td>\n",
       "      <td>0.02368</td>\n",
       "      <td>3.905</td>\n",
       "      <td>0.8158</td>\n",
       "      <td>0.2344</td>\n",
       "    </tr>\n",
       "  </tbody>\n",
       "</table>\n",
       "</div>"
      ],
      "text/plain": [
       "                 dt  position  run      ni     fe     co     alu    sil  \\\n",
       "0  29/05/2022 11:56         1    1  0.6524  47.74  0.112   9.977  1.771   \n",
       "1  29/05/2022 11:57         1    2  0.6182  48.02  0.157   9.955  1.771   \n",
       "2  29/05/2022 11:59         1    3  0.6345  48.20  0.116  10.090  1.774   \n",
       "3  29/05/2022 12:07         2    1  0.6385  48.39  0.141  10.160  1.779   \n",
       "4  29/05/2022 12:08         2    2  0.6432  48.16  0.121  10.100  1.759   \n",
       "\n",
       "         p       s    mag      cal    chr     man     tit  \n",
       "0  0.00964  0.1637  1.022  0.02314  3.943  0.8184  0.2073  \n",
       "1  0.00913  0.1626  1.043  0.02173  3.930  0.8233  0.2228  \n",
       "2  0.00927  0.1626  1.053  0.02279  3.944  0.8126  0.2179  \n",
       "3  0.01009  0.1621  1.005  0.02490  3.950  0.8147  0.2275  \n",
       "4  0.00917  0.1636  1.010  0.02368  3.905  0.8158  0.2344  "
      ]
     },
     "execution_count": 32,
     "metadata": {},
     "output_type": "execute_result"
    }
   ],
   "source": [
    "import pandas as pd\n",
    "import matplotlib.pyplot as plt\n",
    "import seaborn as sns\n",
    "\n",
    "s1 = pd.read_csv('data/s1.csv',parse_dates=True)\n",
    "s1.head()"
   ]
  },
  {
   "cell_type": "code",
   "execution_count": 33,
   "id": "911500f4",
   "metadata": {},
   "outputs": [
    {
     "data": {
      "text/plain": [
       "<seaborn.axisgrid.FacetGrid at 0x7ff199549af0>"
      ]
     },
     "execution_count": 33,
     "metadata": {},
     "output_type": "execute_result"
    },
    {
     "data": {
      "image/png": "[encoded data removed]",
      "text/plain": [
       "<Figure size 402.375x360 with 1 Axes>"
      ]
     },
     "metadata": {
      "needs_background": "light"
     },
     "output_type": "display_data"
    }
   ],
   "source": [
    "sns.catplot(x='position', y='ni' ,hue='run', data=s1,kind='strip')"
   ]
  },
  {
   "cell_type": "code",
   "execution_count": 36,
   "id": "1676cb7e",
   "metadata": {},
   "outputs": [
    {
     "data": {
      "text/plain": [
       "<seaborn.axisgrid.FacetGrid at 0x7ff196df9b20>"
      ]
     },
     "execution_count": 36,
     "metadata": {},
     "output_type": "execute_result"
    },
    {
     "data": {
      "image/png": "[encoded data removed]",
      "text/plain": [
       "<Figure size 360x360 with 1 Axes>"
      ]
     },
     "metadata": {
      "needs_background": "light"
     },
     "output_type": "display_data"
    }
   ],
   "source": [
    "sns.catplot(x='position', y='ni' , data=s1,kind='box')"
   ]
  },
  {
   "cell_type": "code",
   "execution_count": 37,
   "id": "58225dc2",
   "metadata": {},
   "outputs": [
    {
     "data": {
      "text/plain": [
       "<seaborn.axisgrid.FacetGrid at 0x7ff196df9c70>"
      ]
     },
     "execution_count": 37,
     "metadata": {},
     "output_type": "execute_result"
    },
    {
     "data": {
      "image/png": "[encoded data removed]",
      "text/plain": [
       "<Figure size 360x360 with 1 Axes>"
      ]
     },
     "metadata": {
      "needs_background": "light"
     },
     "output_type": "display_data"
    }
   ],
   "source": [
    "sns.catplot(x='position', y='fe' , data=s1,kind='box')"
   ]
  },
  {
   "cell_type": "code",
   "execution_count": 38,
   "id": "d3d6cf83",
   "metadata": {},
   "outputs": [
    {
     "data": {
      "text/plain": [
       "<seaborn.axisgrid.FacetGrid at 0x7ff196e20130>"
      ]
     },
     "execution_count": 38,
     "metadata": {},
     "output_type": "execute_result"
    },
    {
     "data": {
      "image/png": "[encoded data removed]",
      "text/plain": [
       "<Figure size 360x360 with 1 Axes>"
      ]
     },
     "metadata": {
      "needs_background": "light"
     },
     "output_type": "display_data"
    }
   ],
   "source": [
    "sns.catplot(x='position', y='alu' , data=s1,kind='box')"
   ]
  },
  {
   "cell_type": "code",
   "execution_count": 40,
   "id": "38d7c079",
   "metadata": {},
   "outputs": [
    {
     "data": {
      "text/plain": [
       "<seaborn.axisgrid.FacetGrid at 0x7ff198bc2e20>"
      ]
     },
     "execution_count": 40,
     "metadata": {},
     "output_type": "execute_result"
    },
    {
     "data": {
      "image/png": "[encoded data removed]",
      "text/plain": [
       "<Figure size 360x360 with 1 Axes>"
      ]
     },
     "metadata": {
      "needs_background": "light"
     },
     "output_type": "display_data"
    }
   ],
   "source": [
    "sns.catplot(x='position', y='ni' ,hue='position' ,data=s1,kind='bar')"
   ]
  },
  {
   "cell_type": "code",
   "execution_count": null,
   "id": "622e62ae",
   "metadata": {},
   "outputs": [],
   "source": []
  }
 ],
 "metadata": {
  "kernelspec": {
   "display_name": "Python 3 (ipykernel)",
   "language": "python",
   "name": "python3"
  },
  "language_info": {
   "codemirror_mode": {
    "name": "ipython",
    "version": 3
   },
   "file_extension": ".py",
   "mimetype": "text/x-python",
   "name": "python",
   "nbconvert_exporter": "python",
   "pygments_lexer": "ipython3",
   "version": "3.9.7"
  }
 },
 "nbformat": 4,
 "nbformat_minor": 5
}
