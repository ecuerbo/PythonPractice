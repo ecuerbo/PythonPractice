{
 "cells": [
  {
   "cell_type": "markdown",
   "id": "598fae94",
   "metadata": {},
   "source": [
    "## Loops and List Comprehension"
   ]
  },
  {
   "cell_type": "code",
   "execution_count": 1,
   "id": "11f0e66d",
   "metadata": {},
   "outputs": [
    {
     "name": "stdout",
     "output_type": "stream",
     "text": [
      "Mercury Venus Earth Mars Jupiter Saturn Uranus Neptune "
     ]
    }
   ],
   "source": [
    "planets = ['Mercury', 'Venus', 'Earth', 'Mars', 'Jupiter', 'Saturn', 'Uranus', 'Neptune']\n",
    "\n",
    "for planet in planets:\n",
    "    print(planet, end=\" \") #print all on the same line"
   ]
  },
  {
   "cell_type": "code",
   "execution_count": 2,
   "id": "2125d8fd",
   "metadata": {},
   "outputs": [
    {
     "name": "stdout",
     "output_type": "stream",
     "text": [
      "Mercury --\n",
      "Venus --\n",
      "Earth --\n",
      "Mars --\n",
      "Jupiter --\n",
      "Saturn --\n",
      "Uranus --\n",
      "Neptune --\n"
     ]
    }
   ],
   "source": [
    "for planet in planets:\n",
    "    print(planet, \"--\")"
   ]
  },
  {
   "cell_type": "code",
   "execution_count": 4,
   "id": "7e4b39d1",
   "metadata": {},
   "outputs": [
    {
     "name": "stdout",
     "output_type": "stream",
     "text": [
      "Mercury-->Venus-->Earth-->Mars-->Jupiter-->Saturn-->Uranus-->Neptune-->"
     ]
    }
   ],
   "source": [
    "for planet in planets:\n",
    "    print(planet, end=\"-->\")"
   ]
  },
  {
   "cell_type": "code",
   "execution_count": 7,
   "id": "5b421bb4",
   "metadata": {},
   "outputs": [
    {
     "data": {
      "text/plain": [
       "1080"
      ]
     },
     "execution_count": 7,
     "metadata": {},
     "output_type": "execute_result"
    }
   ],
   "source": [
    "multiplicands = (2, 2, 2, 3, 3, 5,3)\n",
    "product = 1\n",
    "for mult in multiplicands:\n",
    "    product = product * mult\n",
    "product"
   ]
  },
  {
   "cell_type": "code",
   "execution_count": 9,
   "id": "8b12a1d2",
   "metadata": {},
   "outputs": [
    {
     "name": "stdout",
     "output_type": "stream",
     "text": [
      "HELLOLOSER"
     ]
    }
   ],
   "source": [
    "s = 'steganograpHy is the practicE of conceaLing a file, message, image, or video within another fiLe, message, image, Or video.motherLOSEjabdkR'\n",
    "msg = ''\n",
    "# print all the uppercase letters in s, one at a time\n",
    "\n",
    "for char in s:\n",
    "    if char .isupper():\n",
    "        print(char, end='')"
   ]
  },
  {
   "cell_type": "code",
   "execution_count": 10,
   "id": "6d8dc83e",
   "metadata": {},
   "outputs": [
    {
     "name": "stdout",
     "output_type": "stream",
     "text": [
      "Doing important work. i= 0\n",
      "Doing important work. i= 1\n",
      "Doing important work. i= 2\n",
      "Doing important work. i= 3\n",
      "Doing important work. i= 4\n"
     ]
    }
   ],
   "source": [
    "for i in range(5):\n",
    "    print('Doing important work. i=', i)"
   ]
  },
  {
   "cell_type": "code",
   "execution_count": 13,
   "id": "15b7a38f",
   "metadata": {},
   "outputs": [
    {
     "name": "stdout",
     "output_type": "stream",
     "text": [
      "0-1-2-3-4-5-6-7-8-9-"
     ]
    }
   ],
   "source": [
    "i = 0 \n",
    "while i < 10:\n",
    "    print(i, end =\"-\")\n",
    "    i+=1 #increase value of i by 1"
   ]
  },
  {
   "cell_type": "code",
   "execution_count": 14,
   "id": "edd6293b",
   "metadata": {},
   "outputs": [
    {
     "data": {
      "text/plain": [
       "[0, 1, 4, 9, 16, 25, 36, 49, 64, 81]"
      ]
     },
     "execution_count": 14,
     "metadata": {},
     "output_type": "execute_result"
    }
   ],
   "source": [
    "squares = [n**2 for n in range(10)]\n",
    "squares"
   ]
  },
  {
   "cell_type": "code",
   "execution_count": 15,
   "id": "6bdea696",
   "metadata": {},
   "outputs": [
    {
     "data": {
      "text/plain": [
       "[0, 1, 4, 9, 16, 25, 36, 49, 64, 81]"
      ]
     },
     "execution_count": 15,
     "metadata": {},
     "output_type": "execute_result"
    }
   ],
   "source": [
    "squares = []\n",
    "for n in range(10):\n",
    "    squares.append(n**2)\n",
    "squares"
   ]
  },
  {
   "cell_type": "code",
   "execution_count": 16,
   "id": "d6e54986",
   "metadata": {},
   "outputs": [
    {
     "data": {
      "text/plain": [
       "['Venus', 'Earth', 'Mars']"
      ]
     },
     "execution_count": 16,
     "metadata": {},
     "output_type": "execute_result"
    }
   ],
   "source": [
    "short_planets = [planet for planet in planets if len(planet) < 6]\n",
    "short_planets"
   ]
  },
  {
   "cell_type": "code",
   "execution_count": null,
   "id": "1971c860",
   "metadata": {},
   "outputs": [],
   "source": []
  }
 ],
 "metadata": {
  "kernelspec": {
   "display_name": "Python 3 (ipykernel)",
   "language": "python",
   "name": "python3"
  },
  "language_info": {
   "codemirror_mode": {
    "name": "ipython",
    "version": 3
   },
   "file_extension": ".py",
   "mimetype": "text/x-python",
   "name": "python",
   "nbconvert_exporter": "python",
   "pygments_lexer": "ipython3",
   "version": "3.9.7"
  }
 },
 "nbformat": 4,
 "nbformat_minor": 5
}
