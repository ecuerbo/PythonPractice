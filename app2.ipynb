{
 "cells": [
  {
   "cell_type": "code",
   "execution_count": 5,
   "id": "9a9e8d74",
   "metadata": {},
   "outputs": [
    {
     "name": "stdout",
     "output_type": "stream",
     "text": [
      "Weight: 1\n",
      "(K)g or (L)bs: k\n",
      "Weight in Lbs: 2.2222222222222223\n"
     ]
    }
   ],
   "source": [
    "weight = float(input(\"Weight: \"))\n",
    "unit = input((\"(K)g or (L)bs: \"))\n",
    "\n",
    "if unit.upper() == \"K\":\n",
    "    converted = weight / 0.45\n",
    "    print(\"Weight in Lbs: \" + str(converted))\n",
    "elif unit.upper() == \"L\":\n",
    "    converted = weight * 0.45\n",
    "    print(\"Weight in Kg: \" + str(converted))"
   ]
  },
  {
   "cell_type": "code",
   "execution_count": 11,
   "id": "ab7b6a84",
   "metadata": {},
   "outputs": [
    {
     "name": "stdout",
     "output_type": "stream",
     "text": [
      "*\n",
      "**\n",
      "***\n",
      "****\n",
      "*****\n",
      "******\n",
      "*******\n",
      "********\n",
      "*********\n",
      "**********\n"
     ]
    }
   ],
   "source": [
    "i = 1\n",
    "while i <= 10:\n",
    "    print(i * \"*\")\n",
    "    i = i+1"
   ]
  },
  {
   "cell_type": "code",
   "execution_count": 12,
   "id": "30596380",
   "metadata": {},
   "outputs": [
    {
     "name": "stdout",
     "output_type": "stream",
     "text": [
      "['John', 'Bob', 'Bong', 'Mary']\n"
     ]
    }
   ],
   "source": [
    "names = [\"John\", \"Bob\", \"Bong\", \"Mary\"]\n",
    "print(names)"
   ]
  },
  {
   "cell_type": "code",
   "execution_count": 14,
   "id": "a1872f6a",
   "metadata": {},
   "outputs": [
    {
     "name": "stdout",
     "output_type": "stream",
     "text": [
      "['Jon', 'Bob', 'Bong', 'Mary']\n"
     ]
    }
   ],
   "source": [
    "names[0]=\"Jon\"\n",
    "print(names)"
   ]
  },
  {
   "cell_type": "code",
   "execution_count": 15,
   "id": "be866b6a",
   "metadata": {},
   "outputs": [
    {
     "name": "stdout",
     "output_type": "stream",
     "text": [
      "['Jon', 'Bob', 'Bong']\n"
     ]
    }
   ],
   "source": [
    "print(names[0:3])"
   ]
  },
  {
   "cell_type": "code",
   "execution_count": 19,
   "id": "09912dde",
   "metadata": {},
   "outputs": [
    {
     "name": "stdout",
     "output_type": "stream",
     "text": [
      "[1, 2, 4, 5]\n"
     ]
    }
   ],
   "source": [
    "number = [1, 2, 3, 4, 5]\n",
    "number.remove(3)\n",
    "print(number)"
   ]
  },
  {
   "cell_type": "code",
   "execution_count": 20,
   "id": "fa8a2b8a",
   "metadata": {
    "scrolled": true
   },
   "outputs": [
    {
     "name": "stdout",
     "output_type": "stream",
     "text": [
      "4\n"
     ]
    }
   ],
   "source": [
    "print(len(number))"
   ]
  },
  {
   "cell_type": "code",
   "execution_count": 21,
   "id": "31297218",
   "metadata": {},
   "outputs": [
    {
     "name": "stdout",
     "output_type": "stream",
     "text": [
      "1\n",
      "2\n",
      "3\n",
      "4\n",
      "5\n"
     ]
    }
   ],
   "source": [
    "number = [1, 2, 3, 4, 5]\n",
    "for item in number:\n",
    "    print(item)"
   ]
  },
  {
   "cell_type": "code",
   "execution_count": 22,
   "id": "0c8a819f",
   "metadata": {},
   "outputs": [
    {
     "data": {
      "text/plain": [
       "range(0, 5)"
      ]
     },
     "execution_count": 22,
     "metadata": {},
     "output_type": "execute_result"
    }
   ],
   "source": [
    "range(5)"
   ]
  },
  {
   "cell_type": "code",
   "execution_count": 26,
   "id": "83796e0e",
   "metadata": {},
   "outputs": [
    {
     "name": "stdout",
     "output_type": "stream",
     "text": [
      "5\n",
      "7\n",
      "9\n"
     ]
    }
   ],
   "source": [
    "numbers = range(5,10, 2)\n",
    "for number in numbers:\n",
    "    print(number)"
   ]
  },
  {
   "cell_type": "code",
   "execution_count": null,
   "id": "4e20ffcd",
   "metadata": {},
   "outputs": [],
   "source": [
    "numbers = (1, 2, 3) #tuples"
   ]
  },
  {
   "cell_type": "code",
   "execution_count": 27,
   "id": "3c9b2db7",
   "metadata": {},
   "outputs": [
    {
     "name": "stdout",
     "output_type": "stream",
     "text": [
      "Twinkle, twinkle, little star,\n",
      "          How I wonder what you are!\n",
      "                Up above the world so high\n",
      "                Like a diamond in the sky\n",
      "Twinkle, twinkle, little star,\n",
      "          How I wonder what you are!\n"
     ]
    }
   ],
   "source": [
    "print(\"Twinkle, twinkle, little star,\")\n",
    "print(\"          How I wonder what you are!\")\n",
    "print(\"                Up above the world so high\")\n",
    "print(\"                Like a diamond in the sky\")\n",
    "print(\"Twinkle, twinkle, little star,\")\n",
    "print(\"          How I wonder what you are!\")"
   ]
  },
  {
   "cell_type": "code",
   "execution_count": 31,
   "id": "0ad2c1d6",
   "metadata": {},
   "outputs": [
    {
     "name": "stdout",
     "output_type": "stream",
     "text": [
      "Twinkle, twinkle, little star,  \n",
      "\tHow I wonder what you are! \n",
      "\t\tUp above the world so high \n",
      "\t\tLike a diamond in the sky \n",
      "Twinkle, twinkle, little star, \n",
      "\tHow I wonder what you are!\n"
     ]
    }
   ],
   "source": [
    "print(\"Twinkle, twinkle, little star,  \\n\\tHow I wonder what you are! \\n\\t\\tUp above the world so high \\n\\t\\tLike a diamond in the sky \\nTwinkle, twinkle, little star, \\n\\tHow I wonder what you are!\")"
   ]
  },
  {
   "cell_type": "code",
   "execution_count": 32,
   "id": "6ed5ba4c",
   "metadata": {},
   "outputs": [
    {
     "name": "stdout",
     "output_type": "stream",
     "text": [
      "Python version\n",
      "3.9.7 (default, Sep 16 2021, 08:50:36) \n",
      "[Clang 10.0.0 ]\n",
      "Version info.\n",
      "sys.version_info(major=3, minor=9, micro=7, releaselevel='final', serial=0)\n"
     ]
    }
   ],
   "source": [
    "#Write a python program to get the python version you are using.\n",
    "import sys\n",
    "print(\"Python version\")\n",
    "print(sys.version)\n",
    "print(\"Version info.\")\n",
    "print(sys.version_info)"
   ]
  },
  {
   "cell_type": "code",
   "execution_count": 33,
   "id": "165491b4",
   "metadata": {},
   "outputs": [
    {
     "name": "stdout",
     "output_type": "stream",
     "text": [
      "Current time and date : \n",
      "2022-03-23 15:01:21\n"
     ]
    }
   ],
   "source": [
    "#to display current date and time\n",
    "import datetime\n",
    "now = datetime.datetime.now()\n",
    "print(\"Current time and date : \")\n",
    "print(now.strftime(\"%Y-%m-%d %H:%M:%S\"))"
   ]
  },
  {
   "cell_type": "code",
   "execution_count": 36,
   "id": "28dfd303",
   "metadata": {},
   "outputs": [
    {
     "name": "stdout",
     "output_type": "stream",
     "text": [
      "radius: 1.1\n",
      "Area = 3.8013271108436504\n"
     ]
    }
   ],
   "source": [
    "#area of a circle\n",
    "from math import pi\n",
    "radius = float(input(\"radius: \"))\n",
    "area = pi*radius**2\n",
    "print(\"Area = \" + str(area))"
   ]
  },
  {
   "cell_type": "code",
   "execution_count": 37,
   "id": "de90326e",
   "metadata": {},
   "outputs": [
    {
     "name": "stdout",
     "output_type": "stream",
     "text": [
      "Input some comma separated numbers : 2,3,4,5,6\n",
      "List :  ['2', '3', '4', '5', '6']\n",
      "Tuple :  ('2', '3', '4', '5', '6')\n"
     ]
    }
   ],
   "source": [
    "values = input(\"Input some comma separated numbers : \")\n",
    "list = values.split(\",\")\n",
    "tuple = tuple(list)\n",
    "print('List : ', list)\n",
    "print(\"Tuple : \" ,tuple)"
   ]
  },
  {
   "cell_type": "code",
   "execution_count": 2,
   "id": "1cfba7e4",
   "metadata": {},
   "outputs": [
    {
     "name": "stdout",
     "output_type": "stream",
     "text": [
      "Please enter the file name: gwapo.pdf\n",
      "The extension of the filename is : 'pdf'\n"
     ]
    }
   ],
   "source": [
    "#7.) write a python program that accept a filename from the user and print the extension of that\n",
    "filename = input(\"Please enter the file name: \")\n",
    "ext = filename.split(\".\")\n",
    "print(\"The extension of the filename is : \" + repr(ext[-1]))\n"
   ]
  },
  {
   "cell_type": "code",
   "execution_count": 10,
   "id": "2d3f2724",
   "metadata": {},
   "outputs": [
    {
     "name": "stdout",
     "output_type": "stream",
     "text": [
      "Pink White\n"
     ]
    }
   ],
   "source": [
    "#8 Display first and last colors from the following list.\n",
    "colorlist = [\"Pink\" , \"Red\", \"Green\", \"White\", \"Black\"]\n",
    "print(colorlist[0] + \" \" + colorlist[-2])"
   ]
  },
  {
   "cell_type": "code",
   "execution_count": 19,
   "id": "ac81fafd",
   "metadata": {},
   "outputs": [
    {
     "name": "stdout",
     "output_type": "stream",
     "text": [
      "The exam will start from: 11 / 12 / 4019\n"
     ]
    }
   ],
   "source": [
    "#9.) exam sched\n",
    "exam_date = (11, 12, 4019)\n",
    "print(\"The exam will start from: %s / %s / %s\"%exam_date)"
   ]
  },
  {
   "cell_type": "code",
   "execution_count": 23,
   "id": "affc201b",
   "metadata": {},
   "outputs": [
    {
     "name": "stdout",
     "output_type": "stream",
     "text": [
      "Enter month: 12\n",
      "Enter day today: 12\n",
      "Enter current year: 1993\n",
      "['12', '12', '1993']\n"
     ]
    },
    {
     "data": {
      "text/plain": [
       "[5, '12', '1993']"
      ]
     },
     "execution_count": 23,
     "metadata": {},
     "output_type": "execute_result"
    }
   ],
   "source": [
    "month = input(\"Enter month: \")\n",
    "day = input(\"Enter day today: \")\n",
    "year = input(\"Enter current year: \")\n",
    "date = [month, day, year]\n",
    "print(date)\n",
    "date[0]=5\n",
    "date"
   ]
  },
  {
   "cell_type": "code",
   "execution_count": 26,
   "id": "7ecf45b8",
   "metadata": {},
   "outputs": [
    {
     "name": "stdout",
     "output_type": "stream",
     "text": [
      "My//name//is//James\n"
     ]
    }
   ],
   "source": [
    "print('My', 'name','is', 'James', sep=\"//\")"
   ]
  },
  {
   "cell_type": "code",
   "execution_count": 27,
   "id": "1b163b0d",
   "metadata": {},
   "outputs": [
    {
     "name": "stdout",
     "output_type": "stream",
     "text": [
      "0o10\n"
     ]
    }
   ],
   "source": [
    "num = 8\n",
    "print(oct(num))"
   ]
  },
  {
   "cell_type": "code",
   "execution_count": 28,
   "id": "5b9bd569",
   "metadata": {},
   "outputs": [
    {
     "name": "stdout",
     "output_type": "stream",
     "text": [
      "10\n"
     ]
    }
   ],
   "source": [
    "num = 8\n",
    "print('%o' % num)"
   ]
  },
  {
   "cell_type": "code",
   "execution_count": 32,
   "id": "ff170a89",
   "metadata": {},
   "outputs": [
    {
     "name": "stdout",
     "output_type": "stream",
     "text": [
      "2710\n"
     ]
    }
   ],
   "source": [
    "num = 10000\n",
    "print('%hx' % num)"
   ]
  },
  {
   "cell_type": "code",
   "execution_count": 38,
   "id": "4a43bcc1",
   "metadata": {},
   "outputs": [
    {
     "name": "stdout",
     "output_type": "stream",
     "text": [
      "<class 'float'>\n",
      "458.54\n"
     ]
    }
   ],
   "source": [
    "num = 458.541315\n",
    "print(type(num))\n",
    "print('%.2f' % num)"
   ]
  },
  {
   "cell_type": "code",
   "execution_count": 40,
   "id": "1f584694",
   "metadata": {},
   "outputs": [
    {
     "name": "stdout",
     "output_type": "stream",
     "text": [
      "num1: 78.6\n",
      "num2: 78.6\n",
      "num3: 85.3\n",
      "num4: 1.2\n",
      "num5: 3.5\n",
      "[78.6, 78.6, 85.3, 1.2, 3.5]\n"
     ]
    }
   ],
   "source": [
    "n1 = float(input(\"num1: \"))\n",
    "n2 = float(input(\"num2: \"))\n",
    "n3 = float(input(\"num3: \"))\n",
    "n4 = float(input(\"num4: \"))\n",
    "n5 = float(input(\"num5: \"))\n",
    "b=[n1, n2, n3, n4, n5]\n",
    "print(b)"
   ]
  },
  {
   "cell_type": "code",
   "execution_count": 42,
   "id": "5f3c1a19",
   "metadata": {},
   "outputs": [
    {
     "name": "stdout",
     "output_type": "stream",
     "text": [
      "Enter number at location 0 :\n",
      "9\n",
      "Enter number at location 1 :\n",
      "4.6\n",
      "Enter number at location 2 :\n",
      "8.3\n",
      "Enter number at location 3 :\n",
      "9.8\n",
      "Enter number at location 4 :\n",
      "5.3\n",
      "User List: [9.0, 4.6, 8.3, 9.8, 5.3]\n"
     ]
    }
   ],
   "source": [
    "numbers = []\n",
    "for i in range(0,5):\n",
    "    print(\"Enter number at location\", i, \":\")\n",
    "    item = float(input())\n",
    "    numbers.append(item)\n",
    "    \n",
    "print(\"User List:\", numbers)"
   ]
  },
  {
   "cell_type": "code",
   "execution_count": 46,
   "id": "23a5d7a8",
   "metadata": {},
   "outputs": [],
   "source": [
    "#read test.txt\n",
    "with open(\"test.txt\", \"r\") as fp:\n",
    "    lines = fp.readlines()\n",
    "    \n",
    "#open new file in write mode\n",
    "with open(\"new_file.txt\", 'w') as fp:\n",
    "    count = 0\n",
    "    for line in lines :\n",
    "        if count == 4:\n",
    "            count += 1\n",
    "            continue\n",
    "        else:\n",
    "            fp.write(line)\n",
    "            count += 1"
   ]
  },
  {
   "cell_type": "code",
   "execution_count": 50,
   "id": "f6a2ed21",
   "metadata": {},
   "outputs": [
    {
     "name": "stdout",
     "output_type": "stream",
     "text": [
      "Enter three string JAMES SQUARE SALE\n",
      "Name1: JAMES\n",
      "Name2: SQUARE\n",
      "Name3: SALE\n"
     ]
    }
   ],
   "source": [
    "str1, str2, str3 = input(\"Enter three string \").split()\n",
    "print('Name1:', str1)\n",
    "print('Name2:', str2)\n",
    "print('Name3:', str3)"
   ]
  },
  {
   "cell_type": "code",
   "execution_count": 54,
   "id": "301b897d",
   "metadata": {},
   "outputs": [
    {
     "name": "stdout",
     "output_type": "stream",
     "text": [
      "I have  1000  dollars so I can buy  3  footballs for  450.0  dollars.\n"
     ]
    }
   ],
   "source": [
    "totalmoney = 1000\n",
    "quantity = 3\n",
    "price = 450\n",
    "print(\"I have \", totalmoney, \" dollars so I can buy \", quantity, \" footballs for \", float(price), \" dollars.\")"
   ]
  },
  {
   "cell_type": "code",
   "execution_count": 57,
   "id": "74bc7a25",
   "metadata": {},
   "outputs": [],
   "source": [
    "import os\n",
    "size = os.stat(\"test.txt\").st_size\n",
    "if size == 0:\n",
    "    print('file is empty')"
   ]
  },
  {
   "cell_type": "code",
   "execution_count": 5,
   "id": "bdf55764",
   "metadata": {},
   "outputs": [
    {
     "name": "stdout",
     "output_type": "stream",
     "text": [
      "Enter then first coefficient: 4\n",
      "Enter then 2nd coefficient: 7\n",
      "Enter then 3rd coefficient: 2\n",
      "The roots are real and distinct.\n",
      "The root1 is:  -0.3596117967977924\n",
      "The root2 is:  -1.3903882032022077\n"
     ]
    }
   ],
   "source": [
    "#17. Python program to find the roots of a quadratic equation\n",
    "import math\n",
    "a = float(input(\"Enter then first coefficient: \"))\n",
    "b = float(input(\"Enter then 2nd coefficient: \"))\n",
    "c = float(input(\"Enter then 3rd coefficient: \"))\n",
    "if (a!=0.00):\n",
    "    d = (b*b)-(4*a*c)\n",
    "    if (d==0.0):\n",
    "        print(\"The roots are real and equal.\")\n",
    "        r = -b/(2*a)\n",
    "        print(\"The roots are \", r, \" and \", r)\n",
    "    elif(d>0.0):\n",
    "        print(\"The roots are real and distinct.\")\n",
    "        r1 =(-b+(math.sqrt(d)))/(2*a)\n",
    "        r2 =(-b-(math.sqrt(d)))/(2*a)\n",
    "        print(\"The root1 is: \", r1)\n",
    "        print(\"The root2 is: \", r2)\n",
    "    else:\n",
    "        print(\"The roots are imaginary.\")\n",
    "        rp =-b/(2*a)\n",
    "        ip = math.sqrt(-d)/(2*a)\n",
    "        print(\"The root1 is: \", rp, \"+ i\",ip)\n",
    "        print(\"The root2 is: \", rp, \"- i\",ip)\n",
    "else:\n",
    "    print(\"Not a quadratic equation.\")"
   ]
  },
  {
   "cell_type": "code",
   "execution_count": null,
   "id": "d5f2dc75",
   "metadata": {},
   "outputs": [],
   "source": [
    "#18. To print the numbers from a given number n till o using recursion\n",
    "def print_till_zero(n):\n",
    "    if (n==0):\n",
    "        return\n",
    "    print(n)\n",
    "    n=n-1\n",
    "    print_till_zero(n)\n",
    "print_till_zero(3099)"
   ]
  },
  {
   "cell_type": "code",
   "execution_count": 11,
   "id": "4ecdac96",
   "metadata": {},
   "outputs": [
    {
     "name": "stdout",
     "output_type": "stream",
     "text": [
      "Enter an integer: 8\n",
      "The factorial of  8  is  40320\n"
     ]
    }
   ],
   "source": [
    "#19.) Find th factorial of a number using recursion\n",
    "def fact(n):\n",
    "    if n==1:\n",
    "        f=1\n",
    "    else:\n",
    "        f= n*fact(n-1)\n",
    "    return f\n",
    "num = int(input(\"Enter an integer: \"))\n",
    "result = fact(num)\n",
    "print('The factorial of ', num, \" is \", result)"
   ]
  },
  {
   "cell_type": "code",
   "execution_count": 13,
   "id": "9a3a9d48",
   "metadata": {},
   "outputs": [
    {
     "name": "stdout",
     "output_type": "stream",
     "text": [
      "How many numbers? 2\n",
      "Enter number 1\n",
      "Enter number 2\n",
      "Sum of numberss in the given list is : 3\n"
     ]
    }
   ],
   "source": [
    "#20.) display the sum of n numbers using list\n",
    "numbers = []\n",
    "num = int(input(\"How many numbers? \"))\n",
    "for n in range(num):\n",
    "    x = int(input(\"Enter number \"))\n",
    "    numbers.append(x)\n",
    "print(\"Sum of numberss in the given list is :\", sum(numbers))"
   ]
  },
  {
   "cell_type": "code",
   "execution_count": 15,
   "id": "f738ba56",
   "metadata": {},
   "outputs": [
    {
     "name": "stdout",
     "output_type": "stream",
     "text": [
      "Enter the number to be found out: 6\n",
      "Successful search, the element is found at position 6\n"
     ]
    }
   ],
   "source": [
    "# 21.) implement linear search\n",
    "numbers = [4, 2,7, 1,8,3,6]\n",
    "f = 0 #flag\n",
    "x = int(input(\"Enter the number to be found out: \"))\n",
    "for i in range(len(numbers)):\n",
    "    if (x == numbers[i]):\n",
    "        print(\"Successful search, the element is found at position\", i)\n",
    "        f = 1\n",
    "        break\n",
    "if(f==0):\n",
    "        print(\"Ooops! Search unsuccessful\")"
   ]
  },
  {
   "cell_type": "code",
   "execution_count": null,
   "id": "0599efe6",
   "metadata": {},
   "outputs": [],
   "source": []
  },
  {
   "cell_type": "code",
   "execution_count": null,
   "id": "6e4d28a2",
   "metadata": {},
   "outputs": [],
   "source": []
  }
 ],
 "metadata": {
  "kernelspec": {
   "display_name": "Python 3 (ipykernel)",
   "language": "python",
   "name": "python3"
  },
  "language_info": {
   "codemirror_mode": {
    "name": "ipython",
    "version": 3
   },
   "file_extension": ".py",
   "mimetype": "text/x-python",
   "name": "python",
   "nbconvert_exporter": "python",
   "pygments_lexer": "ipython3",
   "version": "3.9.7"
  }
 },
 "nbformat": 4,
 "nbformat_minor": 5
}
