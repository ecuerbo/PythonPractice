{
 "cells": [
  {
   "cell_type": "code",
   "execution_count": 9,
   "id": "43275df4",
   "metadata": {},
   "outputs": [
    {
     "data": {
      "text/plain": [
       "7"
      ]
     },
     "execution_count": 9,
     "metadata": {},
     "output_type": "execute_result"
    }
   ],
   "source": [
    "from scipy.stats import bernoulli\n",
    "bernoulli.rvs(p=0.5,size=10)"
   ]
  },
  {
   "cell_type": "code",
   "execution_count": 10,
   "id": "b2514188",
   "metadata": {},
   "outputs": [
    {
     "data": {
      "text/plain": [
       "array([5])"
      ]
     },
     "execution_count": 10,
     "metadata": {},
     "output_type": "execute_result"
    }
   ],
   "source": [
    "from scipy.stats import binom\n",
    "binom.rvs(n=10,p=0.5, size=1)"
   ]
  },
  {
   "cell_type": "code",
   "execution_count": 11,
   "id": "35d74975",
   "metadata": {},
   "outputs": [
    {
     "data": {
      "text/plain": [
       "array([3, 8, 4, 6, 2, 8, 2, 3, 5, 7])"
      ]
     },
     "execution_count": 11,
     "metadata": {},
     "output_type": "execute_result"
    }
   ],
   "source": [
    "binom.rvs(n=10,p=0.5, size=10)"
   ]
  },
  {
   "cell_type": "code",
   "execution_count": 12,
   "id": "a88831e3",
   "metadata": {},
   "outputs": [
    {
     "data": {
      "text/plain": [
       "array([4])"
      ]
     },
     "execution_count": 12,
     "metadata": {},
     "output_type": "execute_result"
    }
   ],
   "source": [
    "#random generator see\n",
    "binom.rvs(n=10,p=0.5, size=1, random_state=42)"
   ]
  },
  {
   "cell_type": "code",
   "execution_count": 13,
   "id": "bc603fe7",
   "metadata": {},
   "outputs": [
    {
     "data": {
      "text/plain": [
       "0.04394531250000004"
      ]
     },
     "execution_count": 13,
     "metadata": {},
     "output_type": "execute_result"
    }
   ],
   "source": [
    "#probability mass function (pmf)\n",
    "#prob of 2 heads after 10 throws with a fair coin\n",
    "binom.pmf(k=2,n=10,p=0.5)"
   ]
  },
  {
   "cell_type": "code",
   "execution_count": 14,
   "id": "938500fc",
   "metadata": {},
   "outputs": [
    {
     "data": {
      "text/plain": [
       "0.24609375000000003"
      ]
     },
     "execution_count": 14,
     "metadata": {},
     "output_type": "execute_result"
    }
   ],
   "source": [
    "#prob of 5 heads after 10 throws with a fair coin\n",
    "binom.pmf(k=5,n=10,p=0.5)"
   ]
  },
  {
   "cell_type": "code",
   "execution_count": 15,
   "id": "e587160e",
   "metadata": {},
   "outputs": [
    {
     "data": {
      "text/plain": [
       "1.302622713144528e-05"
      ]
     },
     "execution_count": 15,
     "metadata": {},
     "output_type": "execute_result"
    }
   ],
   "source": [
    "#prob of 50 heads after 100 throws with p=0.3\n",
    "binom.pmf(k=50,n=100,p=0.3)"
   ]
  },
  {
   "cell_type": "code",
   "execution_count": 16,
   "id": "b52e4922",
   "metadata": {},
   "outputs": [
    {
     "data": {
      "text/plain": [
       "0.04677968235272997"
      ]
     },
     "execution_count": 16,
     "metadata": {},
     "output_type": "execute_result"
    }
   ],
   "source": [
    "#prob of 65 heads after 100 throws with p=0.7\n",
    "binom.pmf(k=65,n=100,p=0.7)"
   ]
  },
  {
   "cell_type": "code",
   "execution_count": 17,
   "id": "1cffab5f",
   "metadata": {},
   "outputs": [
    {
     "data": {
      "text/plain": [
       "0.5"
      ]
     },
     "execution_count": 17,
     "metadata": {},
     "output_type": "execute_result"
    }
   ],
   "source": [
    "#cumulative distribution function(cdf)\n",
    "binom.cdf(k=1,n=3,p=0.5)"
   ]
  },
  {
   "cell_type": "code",
   "execution_count": 18,
   "id": "035766ad",
   "metadata": {},
   "outputs": [
    {
     "data": {
      "text/plain": [
       "0.623046875"
      ]
     },
     "execution_count": 18,
     "metadata": {},
     "output_type": "execute_result"
    }
   ],
   "source": [
    "#prob of 5 heads or less after 10 throws with a fair coin\n",
    "binom.cdf(k=5, n=10, p=0.5)"
   ]
  },
  {
   "cell_type": "code",
   "execution_count": 19,
   "id": "04dfa2ad",
   "metadata": {},
   "outputs": [
    {
     "data": {
      "text/plain": [
       "0.9999909653138043"
      ]
     },
     "execution_count": 19,
     "metadata": {},
     "output_type": "execute_result"
    }
   ],
   "source": [
    "#prob of 50 heads or less after 100 throws with p=0.3\n",
    "binom.cdf(k=50, n=100, p=0.3)"
   ]
  },
  {
   "cell_type": "code",
   "execution_count": 21,
   "id": "9a5af697",
   "metadata": {},
   "outputs": [
    {
     "data": {
      "text/plain": [
       "0.9875015928335618"
      ]
     },
     "execution_count": 21,
     "metadata": {},
     "output_type": "execute_result"
    }
   ],
   "source": [
    "#pronb of more than 59 heads after 100 throws with p=0.7\n",
    "1-binom.sf(k=59,n=100, p=0.7)"
   ]
  },
  {
   "cell_type": "code",
   "execution_count": null,
   "id": "a0aaaf81",
   "metadata": {},
   "outputs": [],
   "source": [
    "binom.pmf() --> calculates the probability of having exactly k heads out of n coin flips\n",
    "binom.cdf() --> calculates the probability of having k heads out of n coin flips\n",
    "binom.sf() --> calculates the probability of having more than k heads out of n coin flips"
   ]
  }
 ],
 "metadata": {
  "kernelspec": {
   "display_name": "Python 3 (ipykernel)",
   "language": "python",
   "name": "python3"
  },
  "language_info": {
   "codemirror_mode": {
    "name": "ipython",
    "version": 3
   },
   "file_extension": ".py",
   "mimetype": "text/x-python",
   "name": "python",
   "nbconvert_exporter": "python",
   "pygments_lexer": "ipython3",
   "version": "3.9.7"
  }
 },
 "nbformat": 4,
 "nbformat_minor": 5
}
